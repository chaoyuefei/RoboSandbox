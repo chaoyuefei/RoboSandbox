{
 "cells": [
  {
   "cell_type": "code",
   "execution_count": 39,
   "metadata": {},
   "outputs": [],
   "source": [
    "import robosandbox.models.DH.Generic as generic\n",
    "from robosandbox.performance.workspace import WorkSpace\n",
    "from robosandbox.optimization.sweeper import ParameterSweeper\n",
    "import plotly.graph_objects as go\n",
    "# import plotly.express as px\n",
    "import numpy as np\n",
    "\n"
   ]
  },
  {
   "cell_type": "markdown",
   "metadata": {},
   "source": [
    "## Plot Function"
   ]
  },
  {
   "cell_type": "code",
   "execution_count": 44,
   "metadata": {},
   "outputs": [],
   "source": [
    "def plot_global_index_results(\n",
    "    alpha_list_deg3,\n",
    "    alpha_list_deg4,\n",
    "    res_mat,\n",
    "    plot_type=\"heatmap\",\n",
    "    method=\"invcondition\",\n",
    "    axes=\"all\",\n",
    "    isSave=False,\n",
    "):\n",
    "    \"\"\"\n",
    "    Plot the effect of alpha on the global indices using Plotly.\n",
    "    \"\"\"\n",
    "    G_mat = res_mat\n",
    "    # print(G_mat)\n",
    "    fig = go.Figure()\n",
    "    if plot_type == \"heatmap\":\n",
    "        fig = go.Figure(\n",
    "            data=go.Heatmap(\n",
    "                z=G_mat,\n",
    "                x=alpha_list_deg3,\n",
    "                y=alpha_list_deg4,\n",
    "                # colorscale='Viridis',\n",
    "                colorbar=dict(\n",
    "                    title=f\"{method}\", tickfont=dict(size=40)\n",
    "                ),\n",
    "            )\n",
    "        )\n",
    "\n",
    "    if plot_type == \"surface\":\n",
    "        fig = go.Figure(\n",
    "            data=go.Surface(\n",
    "                z=G_mat,\n",
    "                x=alpha_list_deg3,\n",
    "                y=alpha_list_deg4,\n",
    "                colorbar=dict(\n",
    "                    title=f\"{method}\", tickfont=dict(size=40)\n",
    "                ),\n",
    "            )\n",
    "        )\n",
    "        fig.update_layout(\n",
    "            scene=dict(\n",
    "                xaxis_title=\"alpha3 (deg)\",\n",
    "                yaxis_title=\"alpha4 (deg)\",\n",
    "                zaxis_title=\"\",\n",
    "                xaxis=dict(titlefont=dict(size=40), tickfont=dict(size=16), dtick=90),\n",
    "                yaxis=dict(titlefont=dict(size=40), tickfont=dict(size=16), dtick=90),\n",
    "                zaxis=dict(titlefont=dict(size=40), tickfont=dict(size=16), dtick=90),\n",
    "                camera=dict(\n",
    "                    eye=dict(x=1.55, y=1.55, z=1.55),\n",
    "                    up=dict(x=0, y=0, z=1),\n",
    "                ),\n",
    "            )\n",
    "        )\n",
    "\n",
    "    fontsize = 40\n",
    "    fig.update_layout(\n",
    "        # title=f'Effect of alpha on global indices using {method} method and {axes} axes',\n",
    "        xaxis_title=\"alpha3 (deg)\",\n",
    "        yaxis_title=\"alpha4 (deg)\",\n",
    "        autosize=True,\n",
    "        height=800,\n",
    "        width=1000,\n",
    "        xaxis_title_font=dict(size=40),  # Font size for x-axis title\n",
    "        yaxis_title_font=dict(size=40),\n",
    "        xaxis=dict(tickfont=dict(size=fontsize), dtick=30),\n",
    "        yaxis=dict(tickfont=dict(size=fontsize), dtick=30),\n",
    "    )\n",
    "\n",
    "    if isSave:\n",
    "        fig.write_image(f\"fig/two_alpha/{method}_{axes}_{plot_type}.png\")\n",
    "        fig.write_html(f\"fig/two_alpha/{method}_{axes}_{plot_type}.html\")\n",
    "    fig.show()"
   ]
  },
  {
   "cell_type": "markdown",
   "metadata": {},
   "source": [
    "## Objective Function "
   ]
  },
  {
   "cell_type": "code",
   "execution_count": null,
   "metadata": {},
   "outputs": [],
   "source": [
    "def obj(alpha3, alpha4, method=\"invcondition\", axes=\"all\"):\n",
    "    \"\"\"Objective function to evaluate robot performance for given alpha values\"\"\"\n",
    "    robot = generic.GenericFour(\n",
    "        alpha=[np.pi / 2, alpha3, alpha4, 0]\n",
    "    )\n",
    "    ws = WorkSpace(robot=robot)\n",
    "    G = ws.global_indice(\n",
    "        initial_samples=3000,\n",
    "        batch_ratio=0.1,\n",
    "        error_tolerance_percentage=1e-3,\n",
    "        method=method,\n",
    "        axes=axes,\n",
    "        max_samples=30000,\n",
    "        is_normalized=False,\n",
    "    )\n",
    "    return G"
   ]
  },
  {
   "cell_type": "markdown",
   "metadata": {},
   "source": [
    "## Sweep Parameters"
   ]
  },
  {
   "cell_type": "code",
   "execution_count": null,
   "metadata": {},
   "outputs": [
    {
     "name": "stdout",
     "output_type": "stream",
     "text": [
      "alpha3_list [0.         0.26179939 0.52359878 0.78539816 1.04719755 1.30899694\n",
      " 1.57079633 1.83259571 2.0943951  2.35619449 2.61799388 2.87979327\n",
      " 3.14159265]\n",
      "alpha4_list [0.         0.26179939 0.52359878 0.78539816 1.04719755 1.30899694\n",
      " 1.57079633 1.83259571 2.0943951  2.35619449 2.61799388 2.87979327\n",
      " 3.14159265]\n"
     ]
    },
    {
     "name": "stderr",
     "output_type": "stream",
     "text": [
      "alpha3 progress: 100%|██████████| 13/13 [02:29<00:00, 11.48s/iter]\n"
     ]
    },
    {
     "data": {
      "application/vnd.plotly.v1+json": {
       "config": {
        "plotlyServerURL": "https://plot.ly"
       },
       "data": [
        {
         "colorbar": {
          "tickfont": {
           "size": 40
          },
          "title": {
           "text": "invcondition"
          }
         },
         "type": "heatmap",
         "x": {
          "bdata": "AAAAAAAAAAD///////8tQP///////z1AAAAAAACARkD///////9NQP//////v1JAAAAAAACAVkD//////z9aQP///////11AAAAAAADgYED//////79iQP//////n2RAAAAAAACAZkA=",
          "dtype": "f8"
         },
         "y": {
          "bdata": "AAAAAAAAAAD///////8tQP///////z1AAAAAAACARkD///////9NQP//////v1JAAAAAAACAVkD//////z9aQP///////11AAAAAAADgYED//////79iQP//////n2RAAAAAAACAZkA=",
          "dtype": "f8"
         },
         "z": {
          "bdata": "OZOiuNkv0T/mQ/SxfMnQP4YvONepK9A/TGRsXJf9zj/hDllCO+XMPz+T6HwWO8s/JXjw/uTJyT/j3Hj0LHXLP1fumH5B5sw/oTnBWrjWzj+KKg2VvRPQP6PVP9m/0NA/gJbb2AQX0T898YfZqG3RP9uOYAP1KtE/bfI6E+9Y0D8C+bdT3+zOPxArL5bHpsw/LoRMRRwAyz/o1Acz3FjKP54aCF0RE8s/OiMnDGMBzT8pNHXV7QXPP+hk/KZQhNA/Kaas4IYw0T/N0MJseXLRP8BS9QeqjdE/z9Oewrfx0D+I9BjMzW/QP3VEqPmoQs8/Lc4YgRaRzD9YVeG9P17LP4pi60ZPTMo/ACAb8Li2yz/2mizalnHNP1t22mKz2M8/4F6PdrK/0D+UuisY6jbRP+23VxR4rtE/HW2weDy+0T9oZId/+nfRP2HNWqadR9A/1KluWanKzj/rIjtHr3HNP09gBDZKZMs/XicLlPLUyj+YuysbdZXLP4AsJatkms0/HckfpPi4zz+XyfzbLt/QPwD5zpTbp9E/XPZM1Wbu0T93HC6hd7zRP0l+dGh2mdE/NuEDUix10D+3F0UPSDvPP9KM9XHH0Mw/HN09oYqEyz/FCP9w0TLLP3VzeSi/Asw/beStOWA+zj+6Tj+BfubPPzQGarakE9E/zzf2gAWm0T9nPTio3e3RP+yqOUYsGNI/ptrCE2G50T9W4XkdTd7QP+IYcyWiAdA/Z9mSTL52zT9uB70NDODLP5ewVAHji8s/rhceYIJRzD+hKbDumXvNP4pkl/Y/388/VHkc6OLO0D+QTR4gNerRP3d88jGte9I/3oHlxfrw0T/W5o7qU3bRPxcP9NcA+tA/a/AG9GNwzz8a3zzaVAbOPxkbWuy16Ms/R+zlfi0Xyz/lqL8dWQ/MP32MO4D1sc0/ehe+mS6Xzz/S0a1/FczQP+ryDSYxaNE/xzoUm55U0j/R6YvXF/rRP0nlUrgbl9E/iZwkqSjL0D8WXss3HBPQP4I6OYStvc0/TE4vAZ4vzD+pMCC2+ALMP1DDAiTgtcw/tf/nyKUKzj+8WG6KMNTPPzADQlxPktA/40pQmhmM0T/LCzZKYevRP2VHKR8jHNI/KQnfWeN10T/IOQeRfAjRP/Kyvc4+ANA/8D3/o6sfzj+0M0cuIC/MP94j2sGl9so/nfOI3ggCzD8pTb+3n2fNP+WW9hQjG88/UIy4O4bd0D/exAnxq4XRP5/+QWMwA9I/CMAK02Xp0T+DDyUSy3rRP6BO9VOp2dA/7QQ9S0Lqzz9Eo2WmYJrNP4N/bDCk8cs/ITAhWYQgyz+0JUStx/7LP1bFwQyqxMw/KGb3L641zz+mkZlAAbnQP/gi9XAqX9E/zGajbRj80T8LoEsXAn/RP3ZJcDk0XtE/vl6EMqu70D/2o8idAaDPP1oDVbnyts0/yeo7h+nhyz/62lwkOOnKPyIDhkP/PMs/DhvpxOeYzD96GlmicO3OP4KI4ff5atA/2TVdkOs40T83yCrOMnTRPy+1y7QYLNE/6bbjS0G30D+R0s4FonPQP5mJlmLEFM8/Paor95+vzT9ZwRLdtEbLP+1rd5BsPso/AtJ8ydEiyz+asfcWldnMP67nMuQKd84/LwG7x/k80D+I2Hk9giDRP7tRLW8RZdE/t4ucjiQX0T91ZtfoWxHRP9j4PVUGStA/ePYgy6CNzj8MyStBUavMP+iHkTZw9co/KXieAdz3yT8QDvH/zQDLPyYiqIMhRs0/Y85OuRDDzj/P+b3Tqh7QP7z/l2Pp9tA/OXRzo/GS0T8=",
          "dtype": "f8",
          "shape": "13, 13"
         }
        }
       ],
       "layout": {
        "autosize": true,
        "height": 800,
        "template": {
         "data": {
          "bar": [
           {
            "error_x": {
             "color": "#2a3f5f"
            },
            "error_y": {
             "color": "#2a3f5f"
            },
            "marker": {
             "line": {
              "color": "#E5ECF6",
              "width": 0.5
             },
             "pattern": {
              "fillmode": "overlay",
              "size": 10,
              "solidity": 0.2
             }
            },
            "type": "bar"
           }
          ],
          "barpolar": [
           {
            "marker": {
             "line": {
              "color": "#E5ECF6",
              "width": 0.5
             },
             "pattern": {
              "fillmode": "overlay",
              "size": 10,
              "solidity": 0.2
             }
            },
            "type": "barpolar"
           }
          ],
          "carpet": [
           {
            "aaxis": {
             "endlinecolor": "#2a3f5f",
             "gridcolor": "white",
             "linecolor": "white",
             "minorgridcolor": "white",
             "startlinecolor": "#2a3f5f"
            },
            "baxis": {
             "endlinecolor": "#2a3f5f",
             "gridcolor": "white",
             "linecolor": "white",
             "minorgridcolor": "white",
             "startlinecolor": "#2a3f5f"
            },
            "type": "carpet"
           }
          ],
          "choropleth": [
           {
            "colorbar": {
             "outlinewidth": 0,
             "ticks": ""
            },
            "type": "choropleth"
           }
          ],
          "contour": [
           {
            "colorbar": {
             "outlinewidth": 0,
             "ticks": ""
            },
            "colorscale": [
             [
              0,
              "#0d0887"
             ],
             [
              0.1111111111111111,
              "#46039f"
             ],
             [
              0.2222222222222222,
              "#7201a8"
             ],
             [
              0.3333333333333333,
              "#9c179e"
             ],
             [
              0.4444444444444444,
              "#bd3786"
             ],
             [
              0.5555555555555556,
              "#d8576b"
             ],
             [
              0.6666666666666666,
              "#ed7953"
             ],
             [
              0.7777777777777778,
              "#fb9f3a"
             ],
             [
              0.8888888888888888,
              "#fdca26"
             ],
             [
              1,
              "#f0f921"
             ]
            ],
            "type": "contour"
           }
          ],
          "contourcarpet": [
           {
            "colorbar": {
             "outlinewidth": 0,
             "ticks": ""
            },
            "type": "contourcarpet"
           }
          ],
          "heatmap": [
           {
            "colorbar": {
             "outlinewidth": 0,
             "ticks": ""
            },
            "colorscale": [
             [
              0,
              "#0d0887"
             ],
             [
              0.1111111111111111,
              "#46039f"
             ],
             [
              0.2222222222222222,
              "#7201a8"
             ],
             [
              0.3333333333333333,
              "#9c179e"
             ],
             [
              0.4444444444444444,
              "#bd3786"
             ],
             [
              0.5555555555555556,
              "#d8576b"
             ],
             [
              0.6666666666666666,
              "#ed7953"
             ],
             [
              0.7777777777777778,
              "#fb9f3a"
             ],
             [
              0.8888888888888888,
              "#fdca26"
             ],
             [
              1,
              "#f0f921"
             ]
            ],
            "type": "heatmap"
           }
          ],
          "histogram": [
           {
            "marker": {
             "pattern": {
              "fillmode": "overlay",
              "size": 10,
              "solidity": 0.2
             }
            },
            "type": "histogram"
           }
          ],
          "histogram2d": [
           {
            "colorbar": {
             "outlinewidth": 0,
             "ticks": ""
            },
            "colorscale": [
             [
              0,
              "#0d0887"
             ],
             [
              0.1111111111111111,
              "#46039f"
             ],
             [
              0.2222222222222222,
              "#7201a8"
             ],
             [
              0.3333333333333333,
              "#9c179e"
             ],
             [
              0.4444444444444444,
              "#bd3786"
             ],
             [
              0.5555555555555556,
              "#d8576b"
             ],
             [
              0.6666666666666666,
              "#ed7953"
             ],
             [
              0.7777777777777778,
              "#fb9f3a"
             ],
             [
              0.8888888888888888,
              "#fdca26"
             ],
             [
              1,
              "#f0f921"
             ]
            ],
            "type": "histogram2d"
           }
          ],
          "histogram2dcontour": [
           {
            "colorbar": {
             "outlinewidth": 0,
             "ticks": ""
            },
            "colorscale": [
             [
              0,
              "#0d0887"
             ],
             [
              0.1111111111111111,
              "#46039f"
             ],
             [
              0.2222222222222222,
              "#7201a8"
             ],
             [
              0.3333333333333333,
              "#9c179e"
             ],
             [
              0.4444444444444444,
              "#bd3786"
             ],
             [
              0.5555555555555556,
              "#d8576b"
             ],
             [
              0.6666666666666666,
              "#ed7953"
             ],
             [
              0.7777777777777778,
              "#fb9f3a"
             ],
             [
              0.8888888888888888,
              "#fdca26"
             ],
             [
              1,
              "#f0f921"
             ]
            ],
            "type": "histogram2dcontour"
           }
          ],
          "mesh3d": [
           {
            "colorbar": {
             "outlinewidth": 0,
             "ticks": ""
            },
            "type": "mesh3d"
           }
          ],
          "parcoords": [
           {
            "line": {
             "colorbar": {
              "outlinewidth": 0,
              "ticks": ""
             }
            },
            "type": "parcoords"
           }
          ],
          "pie": [
           {
            "automargin": true,
            "type": "pie"
           }
          ],
          "scatter": [
           {
            "fillpattern": {
             "fillmode": "overlay",
             "size": 10,
             "solidity": 0.2
            },
            "type": "scatter"
           }
          ],
          "scatter3d": [
           {
            "line": {
             "colorbar": {
              "outlinewidth": 0,
              "ticks": ""
             }
            },
            "marker": {
             "colorbar": {
              "outlinewidth": 0,
              "ticks": ""
             }
            },
            "type": "scatter3d"
           }
          ],
          "scattercarpet": [
           {
            "marker": {
             "colorbar": {
              "outlinewidth": 0,
              "ticks": ""
             }
            },
            "type": "scattercarpet"
           }
          ],
          "scattergeo": [
           {
            "marker": {
             "colorbar": {
              "outlinewidth": 0,
              "ticks": ""
             }
            },
            "type": "scattergeo"
           }
          ],
          "scattergl": [
           {
            "marker": {
             "colorbar": {
              "outlinewidth": 0,
              "ticks": ""
             }
            },
            "type": "scattergl"
           }
          ],
          "scattermap": [
           {
            "marker": {
             "colorbar": {
              "outlinewidth": 0,
              "ticks": ""
             }
            },
            "type": "scattermap"
           }
          ],
          "scattermapbox": [
           {
            "marker": {
             "colorbar": {
              "outlinewidth": 0,
              "ticks": ""
             }
            },
            "type": "scattermapbox"
           }
          ],
          "scatterpolar": [
           {
            "marker": {
             "colorbar": {
              "outlinewidth": 0,
              "ticks": ""
             }
            },
            "type": "scatterpolar"
           }
          ],
          "scatterpolargl": [
           {
            "marker": {
             "colorbar": {
              "outlinewidth": 0,
              "ticks": ""
             }
            },
            "type": "scatterpolargl"
           }
          ],
          "scatterternary": [
           {
            "marker": {
             "colorbar": {
              "outlinewidth": 0,
              "ticks": ""
             }
            },
            "type": "scatterternary"
           }
          ],
          "surface": [
           {
            "colorbar": {
             "outlinewidth": 0,
             "ticks": ""
            },
            "colorscale": [
             [
              0,
              "#0d0887"
             ],
             [
              0.1111111111111111,
              "#46039f"
             ],
             [
              0.2222222222222222,
              "#7201a8"
             ],
             [
              0.3333333333333333,
              "#9c179e"
             ],
             [
              0.4444444444444444,
              "#bd3786"
             ],
             [
              0.5555555555555556,
              "#d8576b"
             ],
             [
              0.6666666666666666,
              "#ed7953"
             ],
             [
              0.7777777777777778,
              "#fb9f3a"
             ],
             [
              0.8888888888888888,
              "#fdca26"
             ],
             [
              1,
              "#f0f921"
             ]
            ],
            "type": "surface"
           }
          ],
          "table": [
           {
            "cells": {
             "fill": {
              "color": "#EBF0F8"
             },
             "line": {
              "color": "white"
             }
            },
            "header": {
             "fill": {
              "color": "#C8D4E3"
             },
             "line": {
              "color": "white"
             }
            },
            "type": "table"
           }
          ]
         },
         "layout": {
          "annotationdefaults": {
           "arrowcolor": "#2a3f5f",
           "arrowhead": 0,
           "arrowwidth": 1
          },
          "autotypenumbers": "strict",
          "coloraxis": {
           "colorbar": {
            "outlinewidth": 0,
            "ticks": ""
           }
          },
          "colorscale": {
           "diverging": [
            [
             0,
             "#8e0152"
            ],
            [
             0.1,
             "#c51b7d"
            ],
            [
             0.2,
             "#de77ae"
            ],
            [
             0.3,
             "#f1b6da"
            ],
            [
             0.4,
             "#fde0ef"
            ],
            [
             0.5,
             "#f7f7f7"
            ],
            [
             0.6,
             "#e6f5d0"
            ],
            [
             0.7,
             "#b8e186"
            ],
            [
             0.8,
             "#7fbc41"
            ],
            [
             0.9,
             "#4d9221"
            ],
            [
             1,
             "#276419"
            ]
           ],
           "sequential": [
            [
             0,
             "#0d0887"
            ],
            [
             0.1111111111111111,
             "#46039f"
            ],
            [
             0.2222222222222222,
             "#7201a8"
            ],
            [
             0.3333333333333333,
             "#9c179e"
            ],
            [
             0.4444444444444444,
             "#bd3786"
            ],
            [
             0.5555555555555556,
             "#d8576b"
            ],
            [
             0.6666666666666666,
             "#ed7953"
            ],
            [
             0.7777777777777778,
             "#fb9f3a"
            ],
            [
             0.8888888888888888,
             "#fdca26"
            ],
            [
             1,
             "#f0f921"
            ]
           ],
           "sequentialminus": [
            [
             0,
             "#0d0887"
            ],
            [
             0.1111111111111111,
             "#46039f"
            ],
            [
             0.2222222222222222,
             "#7201a8"
            ],
            [
             0.3333333333333333,
             "#9c179e"
            ],
            [
             0.4444444444444444,
             "#bd3786"
            ],
            [
             0.5555555555555556,
             "#d8576b"
            ],
            [
             0.6666666666666666,
             "#ed7953"
            ],
            [
             0.7777777777777778,
             "#fb9f3a"
            ],
            [
             0.8888888888888888,
             "#fdca26"
            ],
            [
             1,
             "#f0f921"
            ]
           ]
          },
          "colorway": [
           "#636efa",
           "#EF553B",
           "#00cc96",
           "#ab63fa",
           "#FFA15A",
           "#19d3f3",
           "#FF6692",
           "#B6E880",
           "#FF97FF",
           "#FECB52"
          ],
          "font": {
           "color": "#2a3f5f"
          },
          "geo": {
           "bgcolor": "white",
           "lakecolor": "white",
           "landcolor": "#E5ECF6",
           "showlakes": true,
           "showland": true,
           "subunitcolor": "white"
          },
          "hoverlabel": {
           "align": "left"
          },
          "hovermode": "closest",
          "mapbox": {
           "style": "light"
          },
          "paper_bgcolor": "white",
          "plot_bgcolor": "#E5ECF6",
          "polar": {
           "angularaxis": {
            "gridcolor": "white",
            "linecolor": "white",
            "ticks": ""
           },
           "bgcolor": "#E5ECF6",
           "radialaxis": {
            "gridcolor": "white",
            "linecolor": "white",
            "ticks": ""
           }
          },
          "scene": {
           "xaxis": {
            "backgroundcolor": "#E5ECF6",
            "gridcolor": "white",
            "gridwidth": 2,
            "linecolor": "white",
            "showbackground": true,
            "ticks": "",
            "zerolinecolor": "white"
           },
           "yaxis": {
            "backgroundcolor": "#E5ECF6",
            "gridcolor": "white",
            "gridwidth": 2,
            "linecolor": "white",
            "showbackground": true,
            "ticks": "",
            "zerolinecolor": "white"
           },
           "zaxis": {
            "backgroundcolor": "#E5ECF6",
            "gridcolor": "white",
            "gridwidth": 2,
            "linecolor": "white",
            "showbackground": true,
            "ticks": "",
            "zerolinecolor": "white"
           }
          },
          "shapedefaults": {
           "line": {
            "color": "#2a3f5f"
           }
          },
          "ternary": {
           "aaxis": {
            "gridcolor": "white",
            "linecolor": "white",
            "ticks": ""
           },
           "baxis": {
            "gridcolor": "white",
            "linecolor": "white",
            "ticks": ""
           },
           "bgcolor": "#E5ECF6",
           "caxis": {
            "gridcolor": "white",
            "linecolor": "white",
            "ticks": ""
           }
          },
          "title": {
           "x": 0.05
          },
          "xaxis": {
           "automargin": true,
           "gridcolor": "white",
           "linecolor": "white",
           "ticks": "",
           "title": {
            "standoff": 15
           },
           "zerolinecolor": "white",
           "zerolinewidth": 2
          },
          "yaxis": {
           "automargin": true,
           "gridcolor": "white",
           "linecolor": "white",
           "ticks": "",
           "title": {
            "standoff": 15
           },
           "zerolinecolor": "white",
           "zerolinewidth": 2
          }
         }
        },
        "width": 1000,
        "xaxis": {
         "dtick": 30,
         "tickfont": {
          "size": 40
         },
         "title": {
          "font": {
           "size": 40
          },
          "text": "alpha3 (deg)"
         }
        },
        "yaxis": {
         "dtick": 30,
         "tickfont": {
          "size": 40
         },
         "title": {
          "font": {
           "size": 40
          },
          "text": "alpha4 (deg)"
         }
        }
       }
      }
     },
     "metadata": {},
     "output_type": "display_data"
    }
   ],
   "source": [
    "np.random.seed(42)\n",
    "# Create parameter sweeper\n",
    "sweeper = ParameterSweeper(\n",
    "    objective_function=obj,\n",
    "    save_path=None,\n",
    ")\n",
    "\n",
    "# Define parameter ranges\n",
    "alpha3_list = np.linspace(0, np.pi, 13)\n",
    "alpha4_list = np.linspace(0, np.pi, 13)\n",
    "\n",
    "# Run the sweep\n",
    "results, result_matrix = sweeper.sweep(\n",
    "    param_dict={\"alpha3\": alpha3_list, \"alpha4\": alpha4_list},\n",
    "    fixed_params={\"method\": \"invcondition\", \"axes\": \"all\"},\n",
    "    save_intermediate=False,\n",
    ")"
   ]
  },
  {
   "cell_type": "code",
   "execution_count": 52,
   "metadata": {},
   "outputs": [
    {
     "name": "stdout",
     "output_type": "stream",
     "text": [
      "[  0.  20.  40.  60.  80. 100. 120. 140. 160. 180.]\n",
      "[  0.  15.  30.  45.  60.  75.  90. 105. 120. 135. 150. 165. 180.]\n"
     ]
    }
   ],
   "source": [
    "print(np.rad2deg(alpha3_list))\n",
    "print(np.rad2deg(np.linspace(0, np.pi, 13)))"
   ]
  }
 ],
 "metadata": {
  "kernelspec": {
   "display_name": "robosandbox3.9",
   "language": "python",
   "name": "python3"
  },
  "language_info": {
   "codemirror_mode": {
    "name": "ipython",
    "version": 3
   },
   "file_extension": ".py",
   "mimetype": "text/x-python",
   "name": "python",
   "nbconvert_exporter": "python",
   "pygments_lexer": "ipython3",
   "version": "3.9.21"
  }
 },
 "nbformat": 4,
 "nbformat_minor": 2
}
