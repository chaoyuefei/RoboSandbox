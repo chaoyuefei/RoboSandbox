{
 "cells": [
  {
   "cell_type": "code",
   "execution_count": 2,
   "id": "Hbol",
   "metadata": {},
   "outputs": [],
   "source": [
    "import robosandbox as rsb\n",
    "import numpy as np\n",
    "import plotly.graph_objects as go # import new fig env\n",
    "import marimo as mo"
   ]
  },
  {
   "cell_type": "markdown",
   "id": "MJUe",
   "metadata": {},
   "source": [
    "# Robot Definition and Analysis\n",
    "\n",
    "The \"models\" subpackage offers a variety of robotic manipulator models that use different description methodologies, such as DH parameters and screw theory. Currently, all the models can be classified into three categories:\n",
    "\n",
    "- DH: created using Denavit-Hartenberg Parameters, for example: ro⊥=rsb.⊨.DH.Ge≠ric.Ge≠ricFour()robot = rsb.models.DH.Generic.GenericFour(), powered by (roboticstoolbox-python)[https://github.com/petercorke/robotics-toolbox-python]\n",
    "- DHLink: created using Denavit-Hartenberg Parameters, taking into consideration the design of the links.\n",
    "- MR: created using screw theory, based on (Modern Robotics)[https://hades.mech.northwestern.edu/index.php/Modern_Robotics] and (code)[https://github.com/NxRLab/ModernRobotics]"
   ]
  },
  {
   "cell_type": "markdown",
   "id": "vblA",
   "metadata": {},
   "source": [
    "## DH Models\n",
    "\n",
    "### Generic Models\n",
    "We can easily define a robotic manipulate using DH parameters in RoboSandbox. To give a quick start, several pre-defined models are offered **from 2 Dofs to 7 Dofs**:"
   ]
  },
  {
   "cell_type": "code",
   "execution_count": 3,
   "id": "bkHC",
   "metadata": {},
   "outputs": [
    {
     "data": {
      "application/vnd.plotly.v1+json": {
       "config": {
        "plotlyServerURL": "https://plot.ly"
       },
       "data": [
        {
         "line": {
          "color": "#E1706E",
          "width": 14
         },
         "mode": "lines",
         "name": "Link1",
         "type": "scatter3d",
         "x": {
          "bdata": "AAAAAAAAAAAAAAAAAAAAAA==",
          "dtype": "f8"
         },
         "y": {
          "bdata": "AAAAAAAAAAAAAAAAAAAAAA==",
          "dtype": "f8"
         },
         "z": {
          "bdata": "AAAAAAAAAACamZmZmZnZPw==",
          "dtype": "f8"
         }
        },
        {
         "line": {
          "color": "#E1706E",
          "width": 14
         },
         "mode": "lines",
         "name": "Link2",
         "type": "scatter3d",
         "x": {
          "bdata": "AAAAAAAAAACamZmZmZnZvw==",
          "dtype": "f8"
         },
         "y": {
          "bdata": "AAAAAAAAAAAAAAAAAAAAAA==",
          "dtype": "f8"
         },
         "z": {
          "bdata": "mpmZmZmZ2T+amZmZmZnZPw==",
          "dtype": "f8"
         }
        },
        {
         "line": {
          "color": "#E1706E",
          "width": 14
         },
         "mode": "lines",
         "name": "Link3",
         "type": "scatter3d",
         "x": {
          "bdata": "mpmZmZmZ2b+amZmZmZnpvw==",
          "dtype": "f8"
         },
         "y": {
          "bdata": "AAAAAAAAAAAAAAAAAAAAAA==",
          "dtype": "f8"
         },
         "z": {
          "bdata": "mpmZmZmZ2T+amZmZmZnZPw==",
          "dtype": "f8"
         }
        },
        {
         "line": {
          "color": "#E1706E",
          "width": 14
         },
         "mode": "lines",
         "name": "Link4",
         "type": "scatter3d",
         "x": {
          "bdata": "mpmZmZmZ6b80MzMzMzPzvw==",
          "dtype": "f8"
         },
         "y": {
          "bdata": "AAAAAAAAAAAAAAAAAAAAAA==",
          "dtype": "f8"
         },
         "z": {
          "bdata": "mpmZmZmZ2T+amZmZmZnZPw==",
          "dtype": "f8"
         }
        },
        {
         "line": {
          "color": "#F84752",
          "width": 5
         },
         "mode": "lines",
         "name": "X0 Axis",
         "type": "scatter3d",
         "x": [
          0,
          0.13
         ],
         "y": [
          0,
          0
         ],
         "z": [
          0,
          0
         ]
        },
        {
         "cmax": 1,
         "cmin": 0,
         "colorscale": [
          [
           0,
           "#F84752"
          ],
          [
           1,
           "#F84752"
          ]
         ],
         "showscale": false,
         "sizemode": "absolute",
         "sizeref": 0.013000000000000001,
         "type": "cone",
         "u": [
          1
         ],
         "v": [
          0
         ],
         "w": [
          0
         ],
         "x": [
          0.13
         ],
         "y": [
          0
         ],
         "z": [
          0
         ]
        },
        {
         "line": {
          "color": "#BBDA55",
          "width": 5
         },
         "mode": "lines",
         "name": "Y0 Axis",
         "type": "scatter3d",
         "x": [
          0,
          0
         ],
         "y": [
          0,
          0.13
         ],
         "z": [
          0,
          0
         ]
        },
        {
         "cmax": 1,
         "cmin": 0,
         "colorscale": [
          [
           0,
           "#BBDA55"
          ],
          [
           1,
           "#BBDA55"
          ]
         ],
         "showscale": false,
         "sizemode": "absolute",
         "sizeref": 0.013000000000000001,
         "type": "cone",
         "u": [
          0
         ],
         "v": [
          1
         ],
         "w": [
          0
         ],
         "x": [
          0
         ],
         "y": [
          0.13
         ],
         "z": [
          0
         ]
        },
        {
         "line": {
          "color": "#8EC1E1",
          "width": 5
         },
         "mode": "lines",
         "name": "Z0 Axis",
         "type": "scatter3d",
         "x": [
          0,
          0
         ],
         "y": [
          0,
          0
         ],
         "z": [
          0,
          0.13
         ]
        },
        {
         "cmax": 1,
         "cmin": 0,
         "colorscale": [
          [
           0,
           "#8EC1E1"
          ],
          [
           1,
           "#8EC1E1"
          ]
         ],
         "showscale": false,
         "sizemode": "absolute",
         "sizeref": 0.013000000000000001,
         "type": "cone",
         "u": [
          0
         ],
         "v": [
          0
         ],
         "w": [
          1
         ],
         "x": [
          0
         ],
         "y": [
          0
         ],
         "z": [
          0.13
         ]
        },
        {
         "line": {
          "color": "#F84752",
          "width": 5
         },
         "mode": "lines",
         "name": "X1 Axis",
         "type": "scatter3d",
         "x": [
          0,
          0.13
         ],
         "y": [
          0,
          0
         ],
         "z": [
          0.4,
          0.4
         ]
        },
        {
         "cmax": 1,
         "cmin": 0,
         "colorscale": [
          [
           0,
           "#F84752"
          ],
          [
           1,
           "#F84752"
          ]
         ],
         "showscale": false,
         "sizemode": "absolute",
         "sizeref": 0.013000000000000001,
         "type": "cone",
         "u": [
          1
         ],
         "v": [
          0
         ],
         "w": [
          0
         ],
         "x": [
          0.13
         ],
         "y": [
          0
         ],
         "z": [
          0.4
         ]
        },
        {
         "line": {
          "color": "#BBDA55",
          "width": 5
         },
         "mode": "lines",
         "name": "Y1 Axis",
         "type": "scatter3d",
         "x": [
          0,
          0
         ],
         "y": [
          0,
          7.960204194457797e-18
         ],
         "z": [
          0.4,
          0.53
         ]
        },
        {
         "cmax": 1,
         "cmin": 0,
         "colorscale": [
          [
           0,
           "#BBDA55"
          ],
          [
           1,
           "#BBDA55"
          ]
         ],
         "showscale": false,
         "sizemode": "absolute",
         "sizeref": 0.013000000000000001,
         "type": "cone",
         "u": [
          0
         ],
         "v": [
          6.123233995736766e-17
         ],
         "w": [
          1
         ],
         "x": [
          0
         ],
         "y": [
          7.960204194457797e-18
         ],
         "z": [
          0.53
         ]
        },
        {
         "line": {
          "color": "#8EC1E1",
          "width": 5
         },
         "mode": "lines",
         "name": "Z1 Axis",
         "type": "scatter3d",
         "x": [
          0,
          0
         ],
         "y": [
          0,
          -0.13
         ],
         "z": [
          0.4,
          0.4
         ]
        },
        {
         "cmax": 1,
         "cmin": 0,
         "colorscale": [
          [
           0,
           "#8EC1E1"
          ],
          [
           1,
           "#8EC1E1"
          ]
         ],
         "showscale": false,
         "sizemode": "absolute",
         "sizeref": 0.013000000000000001,
         "type": "cone",
         "u": [
          0
         ],
         "v": [
          -1
         ],
         "w": [
          6.123233995736766e-17
         ],
         "x": [
          0
         ],
         "y": [
          -0.13
         ],
         "z": [
          0.4
         ]
        },
        {
         "line": {
          "color": "#F84752",
          "width": 5
         },
         "mode": "lines",
         "name": "X2 Axis",
         "type": "scatter3d",
         "x": [
          -0.4,
          -0.27
         ],
         "y": [
          0,
          0
         ],
         "z": [
          0.4,
          0.4
         ]
        },
        {
         "cmax": 1,
         "cmin": 0,
         "colorscale": [
          [
           0,
           "#F84752"
          ],
          [
           1,
           "#F84752"
          ]
         ],
         "showscale": false,
         "sizemode": "absolute",
         "sizeref": 0.013000000000000001,
         "type": "cone",
         "u": [
          1
         ],
         "v": [
          0
         ],
         "w": [
          0
         ],
         "x": [
          -0.27
         ],
         "y": [
          0
         ],
         "z": [
          0.4
         ]
        },
        {
         "line": {
          "color": "#BBDA55",
          "width": 5
         },
         "mode": "lines",
         "name": "Y2 Axis",
         "type": "scatter3d",
         "x": [
          -0.4,
          -0.4
         ],
         "y": [
          0,
          7.960204194457797e-18
         ],
         "z": [
          0.4,
          0.53
         ]
        },
        {
         "cmax": 1,
         "cmin": 0,
         "colorscale": [
          [
           0,
           "#BBDA55"
          ],
          [
           1,
           "#BBDA55"
          ]
         ],
         "showscale": false,
         "sizemode": "absolute",
         "sizeref": 0.013000000000000001,
         "type": "cone",
         "u": [
          0
         ],
         "v": [
          6.123233995736766e-17
         ],
         "w": [
          1
         ],
         "x": [
          -0.4
         ],
         "y": [
          7.960204194457797e-18
         ],
         "z": [
          0.53
         ]
        },
        {
         "line": {
          "color": "#8EC1E1",
          "width": 5
         },
         "mode": "lines",
         "name": "Z2 Axis",
         "type": "scatter3d",
         "x": [
          -0.4,
          -0.4
         ],
         "y": [
          0,
          -0.13
         ],
         "z": [
          0.4,
          0.4
         ]
        },
        {
         "cmax": 1,
         "cmin": 0,
         "colorscale": [
          [
           0,
           "#8EC1E1"
          ],
          [
           1,
           "#8EC1E1"
          ]
         ],
         "showscale": false,
         "sizemode": "absolute",
         "sizeref": 0.013000000000000001,
         "type": "cone",
         "u": [
          0
         ],
         "v": [
          -1
         ],
         "w": [
          6.123233995736766e-17
         ],
         "x": [
          -0.4
         ],
         "y": [
          -0.13
         ],
         "z": [
          0.4
         ]
        },
        {
         "line": {
          "color": "#F84752",
          "width": 5
         },
         "mode": "lines",
         "name": "X3 Axis",
         "type": "scatter3d",
         "x": [
          -0.8,
          -0.67
         ],
         "y": [
          0,
          0
         ],
         "z": [
          0.4,
          0.4
         ]
        },
        {
         "cmax": 1,
         "cmin": 0,
         "colorscale": [
          [
           0,
           "#F84752"
          ],
          [
           1,
           "#F84752"
          ]
         ],
         "showscale": false,
         "sizemode": "absolute",
         "sizeref": 0.013000000000000001,
         "type": "cone",
         "u": [
          1
         ],
         "v": [
          0
         ],
         "w": [
          0
         ],
         "x": [
          -0.67
         ],
         "y": [
          0
         ],
         "z": [
          0.4
         ]
        },
        {
         "line": {
          "color": "#BBDA55",
          "width": 5
         },
         "mode": "lines",
         "name": "Y3 Axis",
         "type": "scatter3d",
         "x": [
          -0.8,
          -0.8
         ],
         "y": [
          0,
          7.960204194457797e-18
         ],
         "z": [
          0.4,
          0.53
         ]
        },
        {
         "cmax": 1,
         "cmin": 0,
         "colorscale": [
          [
           0,
           "#BBDA55"
          ],
          [
           1,
           "#BBDA55"
          ]
         ],
         "showscale": false,
         "sizemode": "absolute",
         "sizeref": 0.013000000000000001,
         "type": "cone",
         "u": [
          0
         ],
         "v": [
          6.123233995736766e-17
         ],
         "w": [
          1
         ],
         "x": [
          -0.8
         ],
         "y": [
          7.960204194457797e-18
         ],
         "z": [
          0.53
         ]
        },
        {
         "line": {
          "color": "#8EC1E1",
          "width": 5
         },
         "mode": "lines",
         "name": "Z3 Axis",
         "type": "scatter3d",
         "x": [
          -0.8,
          -0.8
         ],
         "y": [
          0,
          -0.13
         ],
         "z": [
          0.4,
          0.4
         ]
        },
        {
         "cmax": 1,
         "cmin": 0,
         "colorscale": [
          [
           0,
           "#8EC1E1"
          ],
          [
           1,
           "#8EC1E1"
          ]
         ],
         "showscale": false,
         "sizemode": "absolute",
         "sizeref": 0.013000000000000001,
         "type": "cone",
         "u": [
          0
         ],
         "v": [
          -1
         ],
         "w": [
          6.123233995736766e-17
         ],
         "x": [
          -0.8
         ],
         "y": [
          -0.13
         ],
         "z": [
          0.4
         ]
        },
        {
         "line": {
          "color": "#F84752",
          "width": 5
         },
         "mode": "lines",
         "name": "X4 Axis",
         "type": "scatter3d",
         "x": [
          -1.2000000000000002,
          -1.1350000000000002
         ],
         "y": [
          0,
          0
         ],
         "z": [
          0.4,
          0.4
         ]
        },
        {
         "cmax": 1,
         "cmin": 0,
         "colorscale": [
          [
           0,
           "#F84752"
          ],
          [
           1,
           "#F84752"
          ]
         ],
         "showscale": false,
         "sizemode": "absolute",
         "sizeref": 0.006500000000000001,
         "type": "cone",
         "u": [
          1
         ],
         "v": [
          0
         ],
         "w": [
          0
         ],
         "x": [
          -1.1350000000000002
         ],
         "y": [
          0
         ],
         "z": [
          0.4
         ]
        },
        {
         "line": {
          "color": "#BBDA55",
          "width": 5
         },
         "mode": "lines",
         "name": "Y4 Axis",
         "type": "scatter3d",
         "x": [
          -1.2000000000000002,
          -1.2000000000000002
         ],
         "y": [
          0,
          3.980102097228898e-18
         ],
         "z": [
          0.4,
          0.465
         ]
        },
        {
         "cmax": 1,
         "cmin": 0,
         "colorscale": [
          [
           0,
           "#BBDA55"
          ],
          [
           1,
           "#BBDA55"
          ]
         ],
         "showscale": false,
         "sizemode": "absolute",
         "sizeref": 0.006500000000000001,
         "type": "cone",
         "u": [
          0
         ],
         "v": [
          6.123233995736766e-17
         ],
         "w": [
          1
         ],
         "x": [
          -1.2000000000000002
         ],
         "y": [
          3.980102097228898e-18
         ],
         "z": [
          0.465
         ]
        },
        {
         "line": {
          "color": "#8EC1E1",
          "width": 5
         },
         "mode": "lines",
         "name": "Z4 Axis",
         "type": "scatter3d",
         "x": [
          -1.2000000000000002,
          -1.2000000000000002
         ],
         "y": [
          0,
          -0.065
         ],
         "z": [
          0.4,
          0.4
         ]
        },
        {
         "cmax": 1,
         "cmin": 0,
         "colorscale": [
          [
           0,
           "#8EC1E1"
          ],
          [
           1,
           "#8EC1E1"
          ]
         ],
         "showscale": false,
         "sizemode": "absolute",
         "sizeref": 0.006500000000000001,
         "type": "cone",
         "u": [
          0
         ],
         "v": [
          -1
         ],
         "w": [
          6.123233995736766e-17
         ],
         "x": [
          -1.2000000000000002
         ],
         "y": [
          -0.065
         ],
         "z": [
          0.4
         ]
        }
       ],
       "layout": {
        "height": 600,
        "scene": {
         "aspectmode": "cube",
         "camera": {
          "center": {
           "x": 0,
           "y": 0,
           "z": 0
          },
          "eye": {
           "x": 1.8973665961010275,
           "y": -1.8973665961010275,
           "z": 1.8973665961010275
          },
          "up": {
           "x": 0,
           "y": 0,
           "z": 1
          }
         },
         "xaxis": {
          "nticks": 10,
          "range": [
           -1.391402170474087,
           1.391402170474087
          ],
          "title": {
           "text": "X"
          }
         },
         "yaxis": {
          "nticks": 10,
          "range": [
           -1.391402170474087,
           1.391402170474087
          ],
          "title": {
           "text": "Y"
          }
         },
         "zaxis": {
          "nticks": 10,
          "range": [
           -1.391402170474087,
           1.391402170474087
          ],
          "title": {
           "text": "Z"
          }
         }
        },
        "template": {
         "data": {
          "bar": [
           {
            "error_x": {
             "color": "#2a3f5f"
            },
            "error_y": {
             "color": "#2a3f5f"
            },
            "marker": {
             "line": {
              "color": "#E5ECF6",
              "width": 0.5
             },
             "pattern": {
              "fillmode": "overlay",
              "size": 10,
              "solidity": 0.2
             }
            },
            "type": "bar"
           }
          ],
          "barpolar": [
           {
            "marker": {
             "line": {
              "color": "#E5ECF6",
              "width": 0.5
             },
             "pattern": {
              "fillmode": "overlay",
              "size": 10,
              "solidity": 0.2
             }
            },
            "type": "barpolar"
           }
          ],
          "carpet": [
           {
            "aaxis": {
             "endlinecolor": "#2a3f5f",
             "gridcolor": "white",
             "linecolor": "white",
             "minorgridcolor": "white",
             "startlinecolor": "#2a3f5f"
            },
            "baxis": {
             "endlinecolor": "#2a3f5f",
             "gridcolor": "white",
             "linecolor": "white",
             "minorgridcolor": "white",
             "startlinecolor": "#2a3f5f"
            },
            "type": "carpet"
           }
          ],
          "choropleth": [
           {
            "colorbar": {
             "outlinewidth": 0,
             "ticks": ""
            },
            "type": "choropleth"
           }
          ],
          "contour": [
           {
            "colorbar": {
             "outlinewidth": 0,
             "ticks": ""
            },
            "colorscale": [
             [
              0,
              "#0d0887"
             ],
             [
              0.1111111111111111,
              "#46039f"
             ],
             [
              0.2222222222222222,
              "#7201a8"
             ],
             [
              0.3333333333333333,
              "#9c179e"
             ],
             [
              0.4444444444444444,
              "#bd3786"
             ],
             [
              0.5555555555555556,
              "#d8576b"
             ],
             [
              0.6666666666666666,
              "#ed7953"
             ],
             [
              0.7777777777777778,
              "#fb9f3a"
             ],
             [
              0.8888888888888888,
              "#fdca26"
             ],
             [
              1,
              "#f0f921"
             ]
            ],
            "type": "contour"
           }
          ],
          "contourcarpet": [
           {
            "colorbar": {
             "outlinewidth": 0,
             "ticks": ""
            },
            "type": "contourcarpet"
           }
          ],
          "heatmap": [
           {
            "colorbar": {
             "outlinewidth": 0,
             "ticks": ""
            },
            "colorscale": [
             [
              0,
              "#0d0887"
             ],
             [
              0.1111111111111111,
              "#46039f"
             ],
             [
              0.2222222222222222,
              "#7201a8"
             ],
             [
              0.3333333333333333,
              "#9c179e"
             ],
             [
              0.4444444444444444,
              "#bd3786"
             ],
             [
              0.5555555555555556,
              "#d8576b"
             ],
             [
              0.6666666666666666,
              "#ed7953"
             ],
             [
              0.7777777777777778,
              "#fb9f3a"
             ],
             [
              0.8888888888888888,
              "#fdca26"
             ],
             [
              1,
              "#f0f921"
             ]
            ],
            "type": "heatmap"
           }
          ],
          "histogram": [
           {
            "marker": {
             "pattern": {
              "fillmode": "overlay",
              "size": 10,
              "solidity": 0.2
             }
            },
            "type": "histogram"
           }
          ],
          "histogram2d": [
           {
            "colorbar": {
             "outlinewidth": 0,
             "ticks": ""
            },
            "colorscale": [
             [
              0,
              "#0d0887"
             ],
             [
              0.1111111111111111,
              "#46039f"
             ],
             [
              0.2222222222222222,
              "#7201a8"
             ],
             [
              0.3333333333333333,
              "#9c179e"
             ],
             [
              0.4444444444444444,
              "#bd3786"
             ],
             [
              0.5555555555555556,
              "#d8576b"
             ],
             [
              0.6666666666666666,
              "#ed7953"
             ],
             [
              0.7777777777777778,
              "#fb9f3a"
             ],
             [
              0.8888888888888888,
              "#fdca26"
             ],
             [
              1,
              "#f0f921"
             ]
            ],
            "type": "histogram2d"
           }
          ],
          "histogram2dcontour": [
           {
            "colorbar": {
             "outlinewidth": 0,
             "ticks": ""
            },
            "colorscale": [
             [
              0,
              "#0d0887"
             ],
             [
              0.1111111111111111,
              "#46039f"
             ],
             [
              0.2222222222222222,
              "#7201a8"
             ],
             [
              0.3333333333333333,
              "#9c179e"
             ],
             [
              0.4444444444444444,
              "#bd3786"
             ],
             [
              0.5555555555555556,
              "#d8576b"
             ],
             [
              0.6666666666666666,
              "#ed7953"
             ],
             [
              0.7777777777777778,
              "#fb9f3a"
             ],
             [
              0.8888888888888888,
              "#fdca26"
             ],
             [
              1,
              "#f0f921"
             ]
            ],
            "type": "histogram2dcontour"
           }
          ],
          "mesh3d": [
           {
            "colorbar": {
             "outlinewidth": 0,
             "ticks": ""
            },
            "type": "mesh3d"
           }
          ],
          "parcoords": [
           {
            "line": {
             "colorbar": {
              "outlinewidth": 0,
              "ticks": ""
             }
            },
            "type": "parcoords"
           }
          ],
          "pie": [
           {
            "automargin": true,
            "type": "pie"
           }
          ],
          "scatter": [
           {
            "fillpattern": {
             "fillmode": "overlay",
             "size": 10,
             "solidity": 0.2
            },
            "type": "scatter"
           }
          ],
          "scatter3d": [
           {
            "line": {
             "colorbar": {
              "outlinewidth": 0,
              "ticks": ""
             }
            },
            "marker": {
             "colorbar": {
              "outlinewidth": 0,
              "ticks": ""
             }
            },
            "type": "scatter3d"
           }
          ],
          "scattercarpet": [
           {
            "marker": {
             "colorbar": {
              "outlinewidth": 0,
              "ticks": ""
             }
            },
            "type": "scattercarpet"
           }
          ],
          "scattergeo": [
           {
            "marker": {
             "colorbar": {
              "outlinewidth": 0,
              "ticks": ""
             }
            },
            "type": "scattergeo"
           }
          ],
          "scattergl": [
           {
            "marker": {
             "colorbar": {
              "outlinewidth": 0,
              "ticks": ""
             }
            },
            "type": "scattergl"
           }
          ],
          "scattermap": [
           {
            "marker": {
             "colorbar": {
              "outlinewidth": 0,
              "ticks": ""
             }
            },
            "type": "scattermap"
           }
          ],
          "scattermapbox": [
           {
            "marker": {
             "colorbar": {
              "outlinewidth": 0,
              "ticks": ""
             }
            },
            "type": "scattermapbox"
           }
          ],
          "scatterpolar": [
           {
            "marker": {
             "colorbar": {
              "outlinewidth": 0,
              "ticks": ""
             }
            },
            "type": "scatterpolar"
           }
          ],
          "scatterpolargl": [
           {
            "marker": {
             "colorbar": {
              "outlinewidth": 0,
              "ticks": ""
             }
            },
            "type": "scatterpolargl"
           }
          ],
          "scatterternary": [
           {
            "marker": {
             "colorbar": {
              "outlinewidth": 0,
              "ticks": ""
             }
            },
            "type": "scatterternary"
           }
          ],
          "surface": [
           {
            "colorbar": {
             "outlinewidth": 0,
             "ticks": ""
            },
            "colorscale": [
             [
              0,
              "#0d0887"
             ],
             [
              0.1111111111111111,
              "#46039f"
             ],
             [
              0.2222222222222222,
              "#7201a8"
             ],
             [
              0.3333333333333333,
              "#9c179e"
             ],
             [
              0.4444444444444444,
              "#bd3786"
             ],
             [
              0.5555555555555556,
              "#d8576b"
             ],
             [
              0.6666666666666666,
              "#ed7953"
             ],
             [
              0.7777777777777778,
              "#fb9f3a"
             ],
             [
              0.8888888888888888,
              "#fdca26"
             ],
             [
              1,
              "#f0f921"
             ]
            ],
            "type": "surface"
           }
          ],
          "table": [
           {
            "cells": {
             "fill": {
              "color": "#EBF0F8"
             },
             "line": {
              "color": "white"
             }
            },
            "header": {
             "fill": {
              "color": "#C8D4E3"
             },
             "line": {
              "color": "white"
             }
            },
            "type": "table"
           }
          ]
         },
         "layout": {
          "annotationdefaults": {
           "arrowcolor": "#2a3f5f",
           "arrowhead": 0,
           "arrowwidth": 1
          },
          "autotypenumbers": "strict",
          "coloraxis": {
           "colorbar": {
            "outlinewidth": 0,
            "ticks": ""
           }
          },
          "colorscale": {
           "diverging": [
            [
             0,
             "#8e0152"
            ],
            [
             0.1,
             "#c51b7d"
            ],
            [
             0.2,
             "#de77ae"
            ],
            [
             0.3,
             "#f1b6da"
            ],
            [
             0.4,
             "#fde0ef"
            ],
            [
             0.5,
             "#f7f7f7"
            ],
            [
             0.6,
             "#e6f5d0"
            ],
            [
             0.7,
             "#b8e186"
            ],
            [
             0.8,
             "#7fbc41"
            ],
            [
             0.9,
             "#4d9221"
            ],
            [
             1,
             "#276419"
            ]
           ],
           "sequential": [
            [
             0,
             "#0d0887"
            ],
            [
             0.1111111111111111,
             "#46039f"
            ],
            [
             0.2222222222222222,
             "#7201a8"
            ],
            [
             0.3333333333333333,
             "#9c179e"
            ],
            [
             0.4444444444444444,
             "#bd3786"
            ],
            [
             0.5555555555555556,
             "#d8576b"
            ],
            [
             0.6666666666666666,
             "#ed7953"
            ],
            [
             0.7777777777777778,
             "#fb9f3a"
            ],
            [
             0.8888888888888888,
             "#fdca26"
            ],
            [
             1,
             "#f0f921"
            ]
           ],
           "sequentialminus": [
            [
             0,
             "#0d0887"
            ],
            [
             0.1111111111111111,
             "#46039f"
            ],
            [
             0.2222222222222222,
             "#7201a8"
            ],
            [
             0.3333333333333333,
             "#9c179e"
            ],
            [
             0.4444444444444444,
             "#bd3786"
            ],
            [
             0.5555555555555556,
             "#d8576b"
            ],
            [
             0.6666666666666666,
             "#ed7953"
            ],
            [
             0.7777777777777778,
             "#fb9f3a"
            ],
            [
             0.8888888888888888,
             "#fdca26"
            ],
            [
             1,
             "#f0f921"
            ]
           ]
          },
          "colorway": [
           "#636efa",
           "#EF553B",
           "#00cc96",
           "#ab63fa",
           "#FFA15A",
           "#19d3f3",
           "#FF6692",
           "#B6E880",
           "#FF97FF",
           "#FECB52"
          ],
          "font": {
           "color": "#2a3f5f"
          },
          "geo": {
           "bgcolor": "white",
           "lakecolor": "white",
           "landcolor": "#E5ECF6",
           "showlakes": true,
           "showland": true,
           "subunitcolor": "white"
          },
          "hoverlabel": {
           "align": "left"
          },
          "hovermode": "closest",
          "mapbox": {
           "style": "light"
          },
          "paper_bgcolor": "white",
          "plot_bgcolor": "#E5ECF6",
          "polar": {
           "angularaxis": {
            "gridcolor": "white",
            "linecolor": "white",
            "ticks": ""
           },
           "bgcolor": "#E5ECF6",
           "radialaxis": {
            "gridcolor": "white",
            "linecolor": "white",
            "ticks": ""
           }
          },
          "scene": {
           "xaxis": {
            "backgroundcolor": "#E5ECF6",
            "gridcolor": "white",
            "gridwidth": 2,
            "linecolor": "white",
            "showbackground": true,
            "ticks": "",
            "zerolinecolor": "white"
           },
           "yaxis": {
            "backgroundcolor": "#E5ECF6",
            "gridcolor": "white",
            "gridwidth": 2,
            "linecolor": "white",
            "showbackground": true,
            "ticks": "",
            "zerolinecolor": "white"
           },
           "zaxis": {
            "backgroundcolor": "#E5ECF6",
            "gridcolor": "white",
            "gridwidth": 2,
            "linecolor": "white",
            "showbackground": true,
            "ticks": "",
            "zerolinecolor": "white"
           }
          },
          "shapedefaults": {
           "line": {
            "color": "#2a3f5f"
           }
          },
          "ternary": {
           "aaxis": {
            "gridcolor": "white",
            "linecolor": "white",
            "ticks": ""
           },
           "baxis": {
            "gridcolor": "white",
            "linecolor": "white",
            "ticks": ""
           },
           "bgcolor": "#E5ECF6",
           "caxis": {
            "gridcolor": "white",
            "linecolor": "white",
            "ticks": ""
           }
          },
          "title": {
           "x": 0.05
          },
          "xaxis": {
           "automargin": true,
           "gridcolor": "white",
           "linecolor": "white",
           "ticks": "",
           "title": {
            "standoff": 15
           },
           "zerolinecolor": "white",
           "zerolinewidth": 2
          },
          "yaxis": {
           "automargin": true,
           "gridcolor": "white",
           "linecolor": "white",
           "ticks": "",
           "title": {
            "standoff": 15
           },
           "zerolinecolor": "white",
           "zerolinewidth": 2
          }
         }
        },
        "width": 700
       }
      }
     },
     "metadata": {},
     "output_type": "display_data"
    }
   ],
   "source": [
    "import robosandbox.models.DH.Generic as generic\n",
    "robot4 = generic.GenericFour()\n",
    "robot4.plotly(robot4.qz, fig=go.Figure(), isShow=False) # In the Marimo notebook, use the \"fig\" parameter for improved visual effects."
   ]
  },
  {
   "cell_type": "code",
   "execution_count": 4,
   "id": "lEQa",
   "metadata": {},
   "outputs": [
    {
     "data": {
      "application/vnd.plotly.v1+json": {
       "config": {
        "plotlyServerURL": "https://plot.ly"
       },
       "data": [
        {
         "line": {
          "color": "#E1706E",
          "width": 14
         },
         "mode": "lines",
         "name": "Link1",
         "type": "scatter3d",
         "x": {
          "bdata": "AAAAAAAAAAAAAAAAAAAAAA==",
          "dtype": "f8"
         },
         "y": {
          "bdata": "AAAAAAAAAAAAAAAAAAAAAA==",
          "dtype": "f8"
         },
         "z": {
          "bdata": "AAAAAAAAAACamZmZmZnZPw==",
          "dtype": "f8"
         }
        },
        {
         "line": {
          "color": "#E1706E",
          "width": 14
         },
         "mode": "lines",
         "name": "Link2",
         "type": "scatter3d",
         "x": {
          "bdata": "AAAAAAAAAACamZmZmZnZvw==",
          "dtype": "f8"
         },
         "y": {
          "bdata": "AAAAAAAAAAAAAAAAAAAAAA==",
          "dtype": "f8"
         },
         "z": {
          "bdata": "mpmZmZmZ2T+amZmZmZnZPw==",
          "dtype": "f8"
         }
        },
        {
         "line": {
          "color": "#E1706E",
          "width": 14
         },
         "mode": "lines",
         "name": "Link3",
         "type": "scatter3d",
         "x": {
          "bdata": "mpmZmZmZ2b+amZmZmZnpvw==",
          "dtype": "f8"
         },
         "y": {
          "bdata": "AAAAAAAAAAAAAAAAAAAAAA==",
          "dtype": "f8"
         },
         "z": {
          "bdata": "mpmZmZmZ2T+amZmZmZnZPw==",
          "dtype": "f8"
         }
        },
        {
         "line": {
          "color": "#E1706E",
          "width": 14
         },
         "mode": "lines",
         "name": "Link4",
         "type": "scatter3d",
         "x": {
          "bdata": "mpmZmZmZ6b80MzMzMzPzvw==",
          "dtype": "f8"
         },
         "y": {
          "bdata": "AAAAAAAAAAAAAAAAAAAAAA==",
          "dtype": "f8"
         },
         "z": {
          "bdata": "mpmZmZmZ2T+amZmZmZnZPw==",
          "dtype": "f8"
         }
        },
        {
         "line": {
          "color": "#E1706E",
          "width": 14
         },
         "mode": "lines",
         "name": "Link5",
         "type": "scatter3d",
         "x": {
          "bdata": "NDMzMzMz87+amZmZmZn5vw==",
          "dtype": "f8"
         },
         "y": {
          "bdata": "AAAAAAAAAAAAAAAAAAAAAA==",
          "dtype": "f8"
         },
         "z": {
          "bdata": "mpmZmZmZ2T+amZmZmZnZPw==",
          "dtype": "f8"
         }
        },
        {
         "line": {
          "color": "#E1706E",
          "width": 14
         },
         "mode": "lines",
         "name": "Link6",
         "type": "scatter3d",
         "x": {
          "bdata": "mpmZmZmZ+b8AAAAAAAAAwA==",
          "dtype": "f8"
         },
         "y": {
          "bdata": "AAAAAAAAAAAAAAAAAAAAAA==",
          "dtype": "f8"
         },
         "z": {
          "bdata": "mpmZmZmZ2T+amZmZmZnZPw==",
          "dtype": "f8"
         }
        },
        {
         "line": {
          "color": "#F84752",
          "width": 5
         },
         "mode": "lines",
         "name": "X0 Axis",
         "type": "scatter3d",
         "x": [
          0,
          0.2
         ],
         "y": [
          0,
          0
         ],
         "z": [
          0,
          0
         ]
        },
        {
         "cmax": 1,
         "cmin": 0,
         "colorscale": [
          [
           0,
           "#F84752"
          ],
          [
           1,
           "#F84752"
          ]
         ],
         "showscale": false,
         "sizemode": "absolute",
         "sizeref": 0.02,
         "type": "cone",
         "u": [
          1
         ],
         "v": [
          0
         ],
         "w": [
          0
         ],
         "x": [
          0.2
         ],
         "y": [
          0
         ],
         "z": [
          0
         ]
        },
        {
         "line": {
          "color": "#BBDA55",
          "width": 5
         },
         "mode": "lines",
         "name": "Y0 Axis",
         "type": "scatter3d",
         "x": [
          0,
          0
         ],
         "y": [
          0,
          0.2
         ],
         "z": [
          0,
          0
         ]
        },
        {
         "cmax": 1,
         "cmin": 0,
         "colorscale": [
          [
           0,
           "#BBDA55"
          ],
          [
           1,
           "#BBDA55"
          ]
         ],
         "showscale": false,
         "sizemode": "absolute",
         "sizeref": 0.02,
         "type": "cone",
         "u": [
          0
         ],
         "v": [
          1
         ],
         "w": [
          0
         ],
         "x": [
          0
         ],
         "y": [
          0.2
         ],
         "z": [
          0
         ]
        },
        {
         "line": {
          "color": "#8EC1E1",
          "width": 5
         },
         "mode": "lines",
         "name": "Z0 Axis",
         "type": "scatter3d",
         "x": [
          0,
          0
         ],
         "y": [
          0,
          0
         ],
         "z": [
          0,
          0.2
         ]
        },
        {
         "cmax": 1,
         "cmin": 0,
         "colorscale": [
          [
           0,
           "#8EC1E1"
          ],
          [
           1,
           "#8EC1E1"
          ]
         ],
         "showscale": false,
         "sizemode": "absolute",
         "sizeref": 0.02,
         "type": "cone",
         "u": [
          0
         ],
         "v": [
          0
         ],
         "w": [
          1
         ],
         "x": [
          0
         ],
         "y": [
          0
         ],
         "z": [
          0.2
         ]
        },
        {
         "line": {
          "color": "#F84752",
          "width": 5
         },
         "mode": "lines",
         "name": "X1 Axis",
         "type": "scatter3d",
         "x": [
          0,
          0.2
         ],
         "y": [
          0,
          0
         ],
         "z": [
          0.4,
          0.4
         ]
        },
        {
         "cmax": 1,
         "cmin": 0,
         "colorscale": [
          [
           0,
           "#F84752"
          ],
          [
           1,
           "#F84752"
          ]
         ],
         "showscale": false,
         "sizemode": "absolute",
         "sizeref": 0.02,
         "type": "cone",
         "u": [
          1
         ],
         "v": [
          0
         ],
         "w": [
          0
         ],
         "x": [
          0.2
         ],
         "y": [
          0
         ],
         "z": [
          0.4
         ]
        },
        {
         "line": {
          "color": "#BBDA55",
          "width": 5
         },
         "mode": "lines",
         "name": "Y1 Axis",
         "type": "scatter3d",
         "x": [
          0,
          0
         ],
         "y": [
          0,
          1.2246467991473533e-17
         ],
         "z": [
          0.4,
          0.6000000000000001
         ]
        },
        {
         "cmax": 1,
         "cmin": 0,
         "colorscale": [
          [
           0,
           "#BBDA55"
          ],
          [
           1,
           "#BBDA55"
          ]
         ],
         "showscale": false,
         "sizemode": "absolute",
         "sizeref": 0.02,
         "type": "cone",
         "u": [
          0
         ],
         "v": [
          6.123233995736766e-17
         ],
         "w": [
          1
         ],
         "x": [
          0
         ],
         "y": [
          1.2246467991473533e-17
         ],
         "z": [
          0.6000000000000001
         ]
        },
        {
         "line": {
          "color": "#8EC1E1",
          "width": 5
         },
         "mode": "lines",
         "name": "Z1 Axis",
         "type": "scatter3d",
         "x": [
          0,
          0
         ],
         "y": [
          0,
          -0.2
         ],
         "z": [
          0.4,
          0.4
         ]
        },
        {
         "cmax": 1,
         "cmin": 0,
         "colorscale": [
          [
           0,
           "#8EC1E1"
          ],
          [
           1,
           "#8EC1E1"
          ]
         ],
         "showscale": false,
         "sizemode": "absolute",
         "sizeref": 0.02,
         "type": "cone",
         "u": [
          0
         ],
         "v": [
          -1
         ],
         "w": [
          6.123233995736766e-17
         ],
         "x": [
          0
         ],
         "y": [
          -0.2
         ],
         "z": [
          0.4
         ]
        },
        {
         "line": {
          "color": "#F84752",
          "width": 5
         },
         "mode": "lines",
         "name": "X2 Axis",
         "type": "scatter3d",
         "x": [
          -0.4,
          -0.2
         ],
         "y": [
          0,
          0
         ],
         "z": [
          0.4,
          0.4
         ]
        },
        {
         "cmax": 1,
         "cmin": 0,
         "colorscale": [
          [
           0,
           "#F84752"
          ],
          [
           1,
           "#F84752"
          ]
         ],
         "showscale": false,
         "sizemode": "absolute",
         "sizeref": 0.02,
         "type": "cone",
         "u": [
          1
         ],
         "v": [
          0
         ],
         "w": [
          0
         ],
         "x": [
          -0.2
         ],
         "y": [
          0
         ],
         "z": [
          0.4
         ]
        },
        {
         "line": {
          "color": "#BBDA55",
          "width": 5
         },
         "mode": "lines",
         "name": "Y2 Axis",
         "type": "scatter3d",
         "x": [
          -0.4,
          -0.4
         ],
         "y": [
          0,
          1.2246467991473533e-17
         ],
         "z": [
          0.4,
          0.6000000000000001
         ]
        },
        {
         "cmax": 1,
         "cmin": 0,
         "colorscale": [
          [
           0,
           "#BBDA55"
          ],
          [
           1,
           "#BBDA55"
          ]
         ],
         "showscale": false,
         "sizemode": "absolute",
         "sizeref": 0.02,
         "type": "cone",
         "u": [
          0
         ],
         "v": [
          6.123233995736766e-17
         ],
         "w": [
          1
         ],
         "x": [
          -0.4
         ],
         "y": [
          1.2246467991473533e-17
         ],
         "z": [
          0.6000000000000001
         ]
        },
        {
         "line": {
          "color": "#8EC1E1",
          "width": 5
         },
         "mode": "lines",
         "name": "Z2 Axis",
         "type": "scatter3d",
         "x": [
          -0.4,
          -0.4
         ],
         "y": [
          0,
          -0.2
         ],
         "z": [
          0.4,
          0.4
         ]
        },
        {
         "cmax": 1,
         "cmin": 0,
         "colorscale": [
          [
           0,
           "#8EC1E1"
          ],
          [
           1,
           "#8EC1E1"
          ]
         ],
         "showscale": false,
         "sizemode": "absolute",
         "sizeref": 0.02,
         "type": "cone",
         "u": [
          0
         ],
         "v": [
          -1
         ],
         "w": [
          6.123233995736766e-17
         ],
         "x": [
          -0.4
         ],
         "y": [
          -0.2
         ],
         "z": [
          0.4
         ]
        },
        {
         "line": {
          "color": "#F84752",
          "width": 5
         },
         "mode": "lines",
         "name": "X3 Axis",
         "type": "scatter3d",
         "x": [
          -0.8,
          -0.6000000000000001
         ],
         "y": [
          0,
          0
         ],
         "z": [
          0.4,
          0.4
         ]
        },
        {
         "cmax": 1,
         "cmin": 0,
         "colorscale": [
          [
           0,
           "#F84752"
          ],
          [
           1,
           "#F84752"
          ]
         ],
         "showscale": false,
         "sizemode": "absolute",
         "sizeref": 0.02,
         "type": "cone",
         "u": [
          1
         ],
         "v": [
          0
         ],
         "w": [
          0
         ],
         "x": [
          -0.6000000000000001
         ],
         "y": [
          0
         ],
         "z": [
          0.4
         ]
        },
        {
         "line": {
          "color": "#BBDA55",
          "width": 5
         },
         "mode": "lines",
         "name": "Y3 Axis",
         "type": "scatter3d",
         "x": [
          -0.8,
          -0.8
         ],
         "y": [
          0,
          1.2246467991473533e-17
         ],
         "z": [
          0.4,
          0.6000000000000001
         ]
        },
        {
         "cmax": 1,
         "cmin": 0,
         "colorscale": [
          [
           0,
           "#BBDA55"
          ],
          [
           1,
           "#BBDA55"
          ]
         ],
         "showscale": false,
         "sizemode": "absolute",
         "sizeref": 0.02,
         "type": "cone",
         "u": [
          0
         ],
         "v": [
          6.123233995736766e-17
         ],
         "w": [
          1
         ],
         "x": [
          -0.8
         ],
         "y": [
          1.2246467991473533e-17
         ],
         "z": [
          0.6000000000000001
         ]
        },
        {
         "line": {
          "color": "#8EC1E1",
          "width": 5
         },
         "mode": "lines",
         "name": "Z3 Axis",
         "type": "scatter3d",
         "x": [
          -0.8,
          -0.8
         ],
         "y": [
          0,
          -0.2
         ],
         "z": [
          0.4,
          0.4
         ]
        },
        {
         "cmax": 1,
         "cmin": 0,
         "colorscale": [
          [
           0,
           "#8EC1E1"
          ],
          [
           1,
           "#8EC1E1"
          ]
         ],
         "showscale": false,
         "sizemode": "absolute",
         "sizeref": 0.02,
         "type": "cone",
         "u": [
          0
         ],
         "v": [
          -1
         ],
         "w": [
          6.123233995736766e-17
         ],
         "x": [
          -0.8
         ],
         "y": [
          -0.2
         ],
         "z": [
          0.4
         ]
        },
        {
         "line": {
          "color": "#F84752",
          "width": 5
         },
         "mode": "lines",
         "name": "X4 Axis",
         "type": "scatter3d",
         "x": [
          -1.2000000000000002,
          -1.0000000000000002
         ],
         "y": [
          0,
          0
         ],
         "z": [
          0.4,
          0.4
         ]
        },
        {
         "cmax": 1,
         "cmin": 0,
         "colorscale": [
          [
           0,
           "#F84752"
          ],
          [
           1,
           "#F84752"
          ]
         ],
         "showscale": false,
         "sizemode": "absolute",
         "sizeref": 0.02,
         "type": "cone",
         "u": [
          1
         ],
         "v": [
          0
         ],
         "w": [
          0
         ],
         "x": [
          -1.0000000000000002
         ],
         "y": [
          0
         ],
         "z": [
          0.4
         ]
        },
        {
         "line": {
          "color": "#BBDA55",
          "width": 5
         },
         "mode": "lines",
         "name": "Y4 Axis",
         "type": "scatter3d",
         "x": [
          -1.2000000000000002,
          -1.2000000000000002
         ],
         "y": [
          0,
          1.2246467991473533e-17
         ],
         "z": [
          0.4,
          0.6000000000000001
         ]
        },
        {
         "cmax": 1,
         "cmin": 0,
         "colorscale": [
          [
           0,
           "#BBDA55"
          ],
          [
           1,
           "#BBDA55"
          ]
         ],
         "showscale": false,
         "sizemode": "absolute",
         "sizeref": 0.02,
         "type": "cone",
         "u": [
          0
         ],
         "v": [
          6.123233995736766e-17
         ],
         "w": [
          1
         ],
         "x": [
          -1.2000000000000002
         ],
         "y": [
          1.2246467991473533e-17
         ],
         "z": [
          0.6000000000000001
         ]
        },
        {
         "line": {
          "color": "#8EC1E1",
          "width": 5
         },
         "mode": "lines",
         "name": "Z4 Axis",
         "type": "scatter3d",
         "x": [
          -1.2000000000000002,
          -1.2000000000000002
         ],
         "y": [
          0,
          -0.2
         ],
         "z": [
          0.4,
          0.4
         ]
        },
        {
         "cmax": 1,
         "cmin": 0,
         "colorscale": [
          [
           0,
           "#8EC1E1"
          ],
          [
           1,
           "#8EC1E1"
          ]
         ],
         "showscale": false,
         "sizemode": "absolute",
         "sizeref": 0.02,
         "type": "cone",
         "u": [
          0
         ],
         "v": [
          -1
         ],
         "w": [
          6.123233995736766e-17
         ],
         "x": [
          -1.2000000000000002
         ],
         "y": [
          -0.2
         ],
         "z": [
          0.4
         ]
        },
        {
         "line": {
          "color": "#F84752",
          "width": 5
         },
         "mode": "lines",
         "name": "X5 Axis",
         "type": "scatter3d",
         "x": [
          -1.6,
          -1.4000000000000001
         ],
         "y": [
          0,
          0
         ],
         "z": [
          0.4,
          0.4
         ]
        },
        {
         "cmax": 1,
         "cmin": 0,
         "colorscale": [
          [
           0,
           "#F84752"
          ],
          [
           1,
           "#F84752"
          ]
         ],
         "showscale": false,
         "sizemode": "absolute",
         "sizeref": 0.02,
         "type": "cone",
         "u": [
          1
         ],
         "v": [
          0
         ],
         "w": [
          0
         ],
         "x": [
          -1.4000000000000001
         ],
         "y": [
          0
         ],
         "z": [
          0.4
         ]
        },
        {
         "line": {
          "color": "#BBDA55",
          "width": 5
         },
         "mode": "lines",
         "name": "Y5 Axis",
         "type": "scatter3d",
         "x": [
          -1.6,
          -1.6
         ],
         "y": [
          0,
          1.2246467991473533e-17
         ],
         "z": [
          0.4,
          0.6000000000000001
         ]
        },
        {
         "cmax": 1,
         "cmin": 0,
         "colorscale": [
          [
           0,
           "#BBDA55"
          ],
          [
           1,
           "#BBDA55"
          ]
         ],
         "showscale": false,
         "sizemode": "absolute",
         "sizeref": 0.02,
         "type": "cone",
         "u": [
          0
         ],
         "v": [
          6.123233995736766e-17
         ],
         "w": [
          1
         ],
         "x": [
          -1.6
         ],
         "y": [
          1.2246467991473533e-17
         ],
         "z": [
          0.6000000000000001
         ]
        },
        {
         "line": {
          "color": "#8EC1E1",
          "width": 5
         },
         "mode": "lines",
         "name": "Z5 Axis",
         "type": "scatter3d",
         "x": [
          -1.6,
          -1.6
         ],
         "y": [
          0,
          -0.2
         ],
         "z": [
          0.4,
          0.4
         ]
        },
        {
         "cmax": 1,
         "cmin": 0,
         "colorscale": [
          [
           0,
           "#8EC1E1"
          ],
          [
           1,
           "#8EC1E1"
          ]
         ],
         "showscale": false,
         "sizemode": "absolute",
         "sizeref": 0.02,
         "type": "cone",
         "u": [
          0
         ],
         "v": [
          -1
         ],
         "w": [
          6.123233995736766e-17
         ],
         "x": [
          -1.6
         ],
         "y": [
          -0.2
         ],
         "z": [
          0.4
         ]
        },
        {
         "line": {
          "color": "#F84752",
          "width": 5
         },
         "mode": "lines",
         "name": "X6 Axis",
         "type": "scatter3d",
         "x": [
          -2,
          -1.9
         ],
         "y": [
          0,
          0
         ],
         "z": [
          0.4,
          0.4
         ]
        },
        {
         "cmax": 1,
         "cmin": 0,
         "colorscale": [
          [
           0,
           "#F84752"
          ],
          [
           1,
           "#F84752"
          ]
         ],
         "showscale": false,
         "sizemode": "absolute",
         "sizeref": 0.01,
         "type": "cone",
         "u": [
          1
         ],
         "v": [
          0
         ],
         "w": [
          0
         ],
         "x": [
          -1.9
         ],
         "y": [
          0
         ],
         "z": [
          0.4
         ]
        },
        {
         "line": {
          "color": "#BBDA55",
          "width": 5
         },
         "mode": "lines",
         "name": "Y6 Axis",
         "type": "scatter3d",
         "x": [
          -2,
          -2
         ],
         "y": [
          0,
          6.123233995736766e-18
         ],
         "z": [
          0.4,
          0.5
         ]
        },
        {
         "cmax": 1,
         "cmin": 0,
         "colorscale": [
          [
           0,
           "#BBDA55"
          ],
          [
           1,
           "#BBDA55"
          ]
         ],
         "showscale": false,
         "sizemode": "absolute",
         "sizeref": 0.01,
         "type": "cone",
         "u": [
          0
         ],
         "v": [
          6.123233995736766e-17
         ],
         "w": [
          1
         ],
         "x": [
          -2
         ],
         "y": [
          6.123233995736766e-18
         ],
         "z": [
          0.5
         ]
        },
        {
         "line": {
          "color": "#8EC1E1",
          "width": 5
         },
         "mode": "lines",
         "name": "Z6 Axis",
         "type": "scatter3d",
         "x": [
          -2,
          -2
         ],
         "y": [
          0,
          -0.1
         ],
         "z": [
          0.4,
          0.4
         ]
        },
        {
         "cmax": 1,
         "cmin": 0,
         "colorscale": [
          [
           0,
           "#8EC1E1"
          ],
          [
           1,
           "#8EC1E1"
          ]
         ],
         "showscale": false,
         "sizemode": "absolute",
         "sizeref": 0.01,
         "type": "cone",
         "u": [
          0
         ],
         "v": [
          -1
         ],
         "w": [
          6.123233995736766e-17
         ],
         "x": [
          -2
         ],
         "y": [
          -0.1
         ],
         "z": [
          0.4
         ]
        }
       ],
       "layout": {
        "height": 600,
        "scene": {
         "aspectmode": "cube",
         "camera": {
          "center": {
           "x": 0,
           "y": 0,
           "z": 0
          },
          "eye": {
           "x": 3.059411708155671,
           "y": -3.059411708155671,
           "z": 3.059411708155671
          },
          "up": {
           "x": 0,
           "y": 0,
           "z": 1
          }
         },
         "xaxis": {
          "nticks": 10,
          "range": [
           -2.243568585980826,
           2.243568585980826
          ],
          "title": {
           "text": "X"
          }
         },
         "yaxis": {
          "nticks": 10,
          "range": [
           -2.243568585980826,
           2.243568585980826
          ],
          "title": {
           "text": "Y"
          }
         },
         "zaxis": {
          "nticks": 10,
          "range": [
           -2.243568585980826,
           2.243568585980826
          ],
          "title": {
           "text": "Z"
          }
         }
        },
        "template": {
         "data": {
          "bar": [
           {
            "error_x": {
             "color": "#2a3f5f"
            },
            "error_y": {
             "color": "#2a3f5f"
            },
            "marker": {
             "line": {
              "color": "#E5ECF6",
              "width": 0.5
             },
             "pattern": {
              "fillmode": "overlay",
              "size": 10,
              "solidity": 0.2
             }
            },
            "type": "bar"
           }
          ],
          "barpolar": [
           {
            "marker": {
             "line": {
              "color": "#E5ECF6",
              "width": 0.5
             },
             "pattern": {
              "fillmode": "overlay",
              "size": 10,
              "solidity": 0.2
             }
            },
            "type": "barpolar"
           }
          ],
          "carpet": [
           {
            "aaxis": {
             "endlinecolor": "#2a3f5f",
             "gridcolor": "white",
             "linecolor": "white",
             "minorgridcolor": "white",
             "startlinecolor": "#2a3f5f"
            },
            "baxis": {
             "endlinecolor": "#2a3f5f",
             "gridcolor": "white",
             "linecolor": "white",
             "minorgridcolor": "white",
             "startlinecolor": "#2a3f5f"
            },
            "type": "carpet"
           }
          ],
          "choropleth": [
           {
            "colorbar": {
             "outlinewidth": 0,
             "ticks": ""
            },
            "type": "choropleth"
           }
          ],
          "contour": [
           {
            "colorbar": {
             "outlinewidth": 0,
             "ticks": ""
            },
            "colorscale": [
             [
              0,
              "#0d0887"
             ],
             [
              0.1111111111111111,
              "#46039f"
             ],
             [
              0.2222222222222222,
              "#7201a8"
             ],
             [
              0.3333333333333333,
              "#9c179e"
             ],
             [
              0.4444444444444444,
              "#bd3786"
             ],
             [
              0.5555555555555556,
              "#d8576b"
             ],
             [
              0.6666666666666666,
              "#ed7953"
             ],
             [
              0.7777777777777778,
              "#fb9f3a"
             ],
             [
              0.8888888888888888,
              "#fdca26"
             ],
             [
              1,
              "#f0f921"
             ]
            ],
            "type": "contour"
           }
          ],
          "contourcarpet": [
           {
            "colorbar": {
             "outlinewidth": 0,
             "ticks": ""
            },
            "type": "contourcarpet"
           }
          ],
          "heatmap": [
           {
            "colorbar": {
             "outlinewidth": 0,
             "ticks": ""
            },
            "colorscale": [
             [
              0,
              "#0d0887"
             ],
             [
              0.1111111111111111,
              "#46039f"
             ],
             [
              0.2222222222222222,
              "#7201a8"
             ],
             [
              0.3333333333333333,
              "#9c179e"
             ],
             [
              0.4444444444444444,
              "#bd3786"
             ],
             [
              0.5555555555555556,
              "#d8576b"
             ],
             [
              0.6666666666666666,
              "#ed7953"
             ],
             [
              0.7777777777777778,
              "#fb9f3a"
             ],
             [
              0.8888888888888888,
              "#fdca26"
             ],
             [
              1,
              "#f0f921"
             ]
            ],
            "type": "heatmap"
           }
          ],
          "histogram": [
           {
            "marker": {
             "pattern": {
              "fillmode": "overlay",
              "size": 10,
              "solidity": 0.2
             }
            },
            "type": "histogram"
           }
          ],
          "histogram2d": [
           {
            "colorbar": {
             "outlinewidth": 0,
             "ticks": ""
            },
            "colorscale": [
             [
              0,
              "#0d0887"
             ],
             [
              0.1111111111111111,
              "#46039f"
             ],
             [
              0.2222222222222222,
              "#7201a8"
             ],
             [
              0.3333333333333333,
              "#9c179e"
             ],
             [
              0.4444444444444444,
              "#bd3786"
             ],
             [
              0.5555555555555556,
              "#d8576b"
             ],
             [
              0.6666666666666666,
              "#ed7953"
             ],
             [
              0.7777777777777778,
              "#fb9f3a"
             ],
             [
              0.8888888888888888,
              "#fdca26"
             ],
             [
              1,
              "#f0f921"
             ]
            ],
            "type": "histogram2d"
           }
          ],
          "histogram2dcontour": [
           {
            "colorbar": {
             "outlinewidth": 0,
             "ticks": ""
            },
            "colorscale": [
             [
              0,
              "#0d0887"
             ],
             [
              0.1111111111111111,
              "#46039f"
             ],
             [
              0.2222222222222222,
              "#7201a8"
             ],
             [
              0.3333333333333333,
              "#9c179e"
             ],
             [
              0.4444444444444444,
              "#bd3786"
             ],
             [
              0.5555555555555556,
              "#d8576b"
             ],
             [
              0.6666666666666666,
              "#ed7953"
             ],
             [
              0.7777777777777778,
              "#fb9f3a"
             ],
             [
              0.8888888888888888,
              "#fdca26"
             ],
             [
              1,
              "#f0f921"
             ]
            ],
            "type": "histogram2dcontour"
           }
          ],
          "mesh3d": [
           {
            "colorbar": {
             "outlinewidth": 0,
             "ticks": ""
            },
            "type": "mesh3d"
           }
          ],
          "parcoords": [
           {
            "line": {
             "colorbar": {
              "outlinewidth": 0,
              "ticks": ""
             }
            },
            "type": "parcoords"
           }
          ],
          "pie": [
           {
            "automargin": true,
            "type": "pie"
           }
          ],
          "scatter": [
           {
            "fillpattern": {
             "fillmode": "overlay",
             "size": 10,
             "solidity": 0.2
            },
            "type": "scatter"
           }
          ],
          "scatter3d": [
           {
            "line": {
             "colorbar": {
              "outlinewidth": 0,
              "ticks": ""
             }
            },
            "marker": {
             "colorbar": {
              "outlinewidth": 0,
              "ticks": ""
             }
            },
            "type": "scatter3d"
           }
          ],
          "scattercarpet": [
           {
            "marker": {
             "colorbar": {
              "outlinewidth": 0,
              "ticks": ""
             }
            },
            "type": "scattercarpet"
           }
          ],
          "scattergeo": [
           {
            "marker": {
             "colorbar": {
              "outlinewidth": 0,
              "ticks": ""
             }
            },
            "type": "scattergeo"
           }
          ],
          "scattergl": [
           {
            "marker": {
             "colorbar": {
              "outlinewidth": 0,
              "ticks": ""
             }
            },
            "type": "scattergl"
           }
          ],
          "scattermap": [
           {
            "marker": {
             "colorbar": {
              "outlinewidth": 0,
              "ticks": ""
             }
            },
            "type": "scattermap"
           }
          ],
          "scattermapbox": [
           {
            "marker": {
             "colorbar": {
              "outlinewidth": 0,
              "ticks": ""
             }
            },
            "type": "scattermapbox"
           }
          ],
          "scatterpolar": [
           {
            "marker": {
             "colorbar": {
              "outlinewidth": 0,
              "ticks": ""
             }
            },
            "type": "scatterpolar"
           }
          ],
          "scatterpolargl": [
           {
            "marker": {
             "colorbar": {
              "outlinewidth": 0,
              "ticks": ""
             }
            },
            "type": "scatterpolargl"
           }
          ],
          "scatterternary": [
           {
            "marker": {
             "colorbar": {
              "outlinewidth": 0,
              "ticks": ""
             }
            },
            "type": "scatterternary"
           }
          ],
          "surface": [
           {
            "colorbar": {
             "outlinewidth": 0,
             "ticks": ""
            },
            "colorscale": [
             [
              0,
              "#0d0887"
             ],
             [
              0.1111111111111111,
              "#46039f"
             ],
             [
              0.2222222222222222,
              "#7201a8"
             ],
             [
              0.3333333333333333,
              "#9c179e"
             ],
             [
              0.4444444444444444,
              "#bd3786"
             ],
             [
              0.5555555555555556,
              "#d8576b"
             ],
             [
              0.6666666666666666,
              "#ed7953"
             ],
             [
              0.7777777777777778,
              "#fb9f3a"
             ],
             [
              0.8888888888888888,
              "#fdca26"
             ],
             [
              1,
              "#f0f921"
             ]
            ],
            "type": "surface"
           }
          ],
          "table": [
           {
            "cells": {
             "fill": {
              "color": "#EBF0F8"
             },
             "line": {
              "color": "white"
             }
            },
            "header": {
             "fill": {
              "color": "#C8D4E3"
             },
             "line": {
              "color": "white"
             }
            },
            "type": "table"
           }
          ]
         },
         "layout": {
          "annotationdefaults": {
           "arrowcolor": "#2a3f5f",
           "arrowhead": 0,
           "arrowwidth": 1
          },
          "autotypenumbers": "strict",
          "coloraxis": {
           "colorbar": {
            "outlinewidth": 0,
            "ticks": ""
           }
          },
          "colorscale": {
           "diverging": [
            [
             0,
             "#8e0152"
            ],
            [
             0.1,
             "#c51b7d"
            ],
            [
             0.2,
             "#de77ae"
            ],
            [
             0.3,
             "#f1b6da"
            ],
            [
             0.4,
             "#fde0ef"
            ],
            [
             0.5,
             "#f7f7f7"
            ],
            [
             0.6,
             "#e6f5d0"
            ],
            [
             0.7,
             "#b8e186"
            ],
            [
             0.8,
             "#7fbc41"
            ],
            [
             0.9,
             "#4d9221"
            ],
            [
             1,
             "#276419"
            ]
           ],
           "sequential": [
            [
             0,
             "#0d0887"
            ],
            [
             0.1111111111111111,
             "#46039f"
            ],
            [
             0.2222222222222222,
             "#7201a8"
            ],
            [
             0.3333333333333333,
             "#9c179e"
            ],
            [
             0.4444444444444444,
             "#bd3786"
            ],
            [
             0.5555555555555556,
             "#d8576b"
            ],
            [
             0.6666666666666666,
             "#ed7953"
            ],
            [
             0.7777777777777778,
             "#fb9f3a"
            ],
            [
             0.8888888888888888,
             "#fdca26"
            ],
            [
             1,
             "#f0f921"
            ]
           ],
           "sequentialminus": [
            [
             0,
             "#0d0887"
            ],
            [
             0.1111111111111111,
             "#46039f"
            ],
            [
             0.2222222222222222,
             "#7201a8"
            ],
            [
             0.3333333333333333,
             "#9c179e"
            ],
            [
             0.4444444444444444,
             "#bd3786"
            ],
            [
             0.5555555555555556,
             "#d8576b"
            ],
            [
             0.6666666666666666,
             "#ed7953"
            ],
            [
             0.7777777777777778,
             "#fb9f3a"
            ],
            [
             0.8888888888888888,
             "#fdca26"
            ],
            [
             1,
             "#f0f921"
            ]
           ]
          },
          "colorway": [
           "#636efa",
           "#EF553B",
           "#00cc96",
           "#ab63fa",
           "#FFA15A",
           "#19d3f3",
           "#FF6692",
           "#B6E880",
           "#FF97FF",
           "#FECB52"
          ],
          "font": {
           "color": "#2a3f5f"
          },
          "geo": {
           "bgcolor": "white",
           "lakecolor": "white",
           "landcolor": "#E5ECF6",
           "showlakes": true,
           "showland": true,
           "subunitcolor": "white"
          },
          "hoverlabel": {
           "align": "left"
          },
          "hovermode": "closest",
          "mapbox": {
           "style": "light"
          },
          "paper_bgcolor": "white",
          "plot_bgcolor": "#E5ECF6",
          "polar": {
           "angularaxis": {
            "gridcolor": "white",
            "linecolor": "white",
            "ticks": ""
           },
           "bgcolor": "#E5ECF6",
           "radialaxis": {
            "gridcolor": "white",
            "linecolor": "white",
            "ticks": ""
           }
          },
          "scene": {
           "xaxis": {
            "backgroundcolor": "#E5ECF6",
            "gridcolor": "white",
            "gridwidth": 2,
            "linecolor": "white",
            "showbackground": true,
            "ticks": "",
            "zerolinecolor": "white"
           },
           "yaxis": {
            "backgroundcolor": "#E5ECF6",
            "gridcolor": "white",
            "gridwidth": 2,
            "linecolor": "white",
            "showbackground": true,
            "ticks": "",
            "zerolinecolor": "white"
           },
           "zaxis": {
            "backgroundcolor": "#E5ECF6",
            "gridcolor": "white",
            "gridwidth": 2,
            "linecolor": "white",
            "showbackground": true,
            "ticks": "",
            "zerolinecolor": "white"
           }
          },
          "shapedefaults": {
           "line": {
            "color": "#2a3f5f"
           }
          },
          "ternary": {
           "aaxis": {
            "gridcolor": "white",
            "linecolor": "white",
            "ticks": ""
           },
           "baxis": {
            "gridcolor": "white",
            "linecolor": "white",
            "ticks": ""
           },
           "bgcolor": "#E5ECF6",
           "caxis": {
            "gridcolor": "white",
            "linecolor": "white",
            "ticks": ""
           }
          },
          "title": {
           "x": 0.05
          },
          "xaxis": {
           "automargin": true,
           "gridcolor": "white",
           "linecolor": "white",
           "ticks": "",
           "title": {
            "standoff": 15
           },
           "zerolinecolor": "white",
           "zerolinewidth": 2
          },
          "yaxis": {
           "automargin": true,
           "gridcolor": "white",
           "linecolor": "white",
           "ticks": "",
           "title": {
            "standoff": 15
           },
           "zerolinecolor": "white",
           "zerolinewidth": 2
          }
         }
        },
        "width": 700
       }
      }
     },
     "metadata": {},
     "output_type": "display_data"
    }
   ],
   "source": [
    "robot6 = generic.GenericSix()\n",
    "robot6.plotly(robot6.qz, fig=go.Figure(), isShow=False)"
   ]
  },
  {
   "cell_type": "markdown",
   "id": "PKri",
   "metadata": {},
   "source": [
    "### Commercial Models\n",
    "\n",
    "In addition to generic models, several commercial robots are available, such as **Panda, Puma 560, and UR5**."
   ]
  },
  {
   "cell_type": "markdown",
   "id": "Xref",
   "metadata": {},
   "source": [
    "#### Panda"
   ]
  },
  {
   "cell_type": "code",
   "execution_count": 5,
   "id": "SFPL",
   "metadata": {},
   "outputs": [
    {
     "data": {
      "application/vnd.plotly.v1+json": {
       "config": {
        "plotlyServerURL": "https://plot.ly"
       },
       "data": [
        {
         "line": {
          "color": "#E1706E",
          "width": 14
         },
         "mode": "lines",
         "name": "Link1",
         "type": "scatter3d",
         "x": {
          "bdata": "AAAAAAAAAAAAAAAAAAAAAA==",
          "dtype": "f8"
         },
         "y": {
          "bdata": "AAAAAAAAAAAAAAAAAAAAAA==",
          "dtype": "f8"
         },
         "z": {
          "bdata": "AAAAAAAAAAAdWmQ730/VPw==",
          "dtype": "f8"
         }
        },
        {
         "line": {
          "color": "#E1706E",
          "width": 14
         },
         "mode": "lines",
         "name": "Link2",
         "type": "scatter3d",
         "x": {
          "bdata": "AAAAAAAAAAAAAAAAAAAAAA==",
          "dtype": "f8"
         },
         "y": {
          "bdata": "AAAAAAAAAAAAAAAAAAAAAA==",
          "dtype": "f8"
         },
         "z": {
          "bdata": "HVpkO99P1T8dWmQ730/VPw==",
          "dtype": "f8"
         }
        },
        {
         "line": {
          "color": "#E1706E",
          "width": 14
         },
         "mode": "lines",
         "name": "Link3",
         "type": "scatter3d",
         "x": {
          "bdata": "AAAAAAAAAAAai9cACui3vw==",
          "dtype": "f8"
         },
         "y": {
          "bdata": "AAAAAAAAAABgZqnUQuIvPA==",
          "dtype": "f8"
         },
         "z": {
          "bdata": "HVpkO99P1T8eWk4j/VDkPw==",
          "dtype": "f8"
         }
        },
        {
         "line": {
          "color": "#E1706E",
          "width": 14
         },
         "mode": "lines",
         "name": "Link4",
         "type": "scatter3d",
         "x": {
          "bdata": "GovXAArot7+4BpvZataNvw==",
          "dtype": "f8"
         },
         "y": {
          "bdata": "YGap1ELiLzzC8VNPfzEnvA==",
          "dtype": "f8"
         },
         "z": {
          "bdata": "HlpOI/1Q5D/C2gqUthjlPw==",
          "dtype": "f8"
         }
        },
        {
         "line": {
          "color": "#E1706E",
          "width": 14
         },
         "mode": "lines",
         "name": "Link5",
         "type": "scatter3d",
         "x": {
          "bdata": "uAab2WrWjb/mnIaM4wfYPw==",
          "dtype": "f8"
         },
         "y": {
          "bdata": "wvFTT38xJ7y/QIxyC4mHvA==",
          "dtype": "f8"
         },
         "z": {
          "bdata": "wtoKlLYY5T9QfjOUR5/jPw==",
          "dtype": "f8"
         }
        },
        {
         "line": {
          "color": "#E1706E",
          "width": 14
         },
         "mode": "lines",
         "name": "Link6",
         "type": "scatter3d",
         "x": {
          "bdata": "5pyGjOMH2D/mnIaM4wfYPw==",
          "dtype": "f8"
         },
         "y": {
          "bdata": "v0CMcguJh7y/QIxyC4mHvA==",
          "dtype": "f8"
         },
         "z": {
          "bdata": "UH4zlEef4z9QfjOUR5/jPw==",
          "dtype": "f8"
         }
        },
        {
         "line": {
          "color": "#E1706E",
          "width": 14
         },
         "mode": "lines",
         "name": "Link7",
         "type": "scatter3d",
         "x": {
          "bdata": "5pyGjOMH2D8I+uaiflHePw==",
          "dtype": "f8"
         },
         "y": {
          "bdata": "v0CMcguJh7x9/XPtOECQvA==",
          "dtype": "f8"
         },
         "z": {
          "bdata": "UH4zlEef4z+AiCKNFX/gPw==",
          "dtype": "f8"
         }
        },
        {
         "line": {
          "color": "#F84752",
          "width": 5
         },
         "mode": "lines",
         "name": "X0 Axis",
         "type": "scatter3d",
         "x": [
          0,
          0.07
         ],
         "y": [
          0,
          0
         ],
         "z": [
          0,
          0
         ]
        },
        {
         "cmax": 1,
         "cmin": 0,
         "colorscale": [
          [
           0,
           "#F84752"
          ],
          [
           1,
           "#F84752"
          ]
         ],
         "showscale": false,
         "sizemode": "absolute",
         "sizeref": 0.007000000000000001,
         "type": "cone",
         "u": [
          1
         ],
         "v": [
          0
         ],
         "w": [
          0
         ],
         "x": [
          0.07
         ],
         "y": [
          0
         ],
         "z": [
          0
         ]
        },
        {
         "line": {
          "color": "#BBDA55",
          "width": 5
         },
         "mode": "lines",
         "name": "Y0 Axis",
         "type": "scatter3d",
         "x": [
          0,
          0
         ],
         "y": [
          0,
          0.07
         ],
         "z": [
          0,
          0
         ]
        },
        {
         "cmax": 1,
         "cmin": 0,
         "colorscale": [
          [
           0,
           "#BBDA55"
          ],
          [
           1,
           "#BBDA55"
          ]
         ],
         "showscale": false,
         "sizemode": "absolute",
         "sizeref": 0.007000000000000001,
         "type": "cone",
         "u": [
          0
         ],
         "v": [
          1
         ],
         "w": [
          0
         ],
         "x": [
          0
         ],
         "y": [
          0.07
         ],
         "z": [
          0
         ]
        },
        {
         "line": {
          "color": "#8EC1E1",
          "width": 5
         },
         "mode": "lines",
         "name": "Z0 Axis",
         "type": "scatter3d",
         "x": [
          0,
          0
         ],
         "y": [
          0,
          0
         ],
         "z": [
          0,
          0.07
         ]
        },
        {
         "cmax": 1,
         "cmin": 0,
         "colorscale": [
          [
           0,
           "#8EC1E1"
          ],
          [
           1,
           "#8EC1E1"
          ]
         ],
         "showscale": false,
         "sizemode": "absolute",
         "sizeref": 0.007000000000000001,
         "type": "cone",
         "u": [
          0
         ],
         "v": [
          0
         ],
         "w": [
          1
         ],
         "x": [
          0
         ],
         "y": [
          0
         ],
         "z": [
          0.07
         ]
        },
        {
         "line": {
          "color": "#F84752",
          "width": 5
         },
         "mode": "lines",
         "name": "X1 Axis",
         "type": "scatter3d",
         "x": [
          0,
          0.07
         ],
         "y": [
          0,
          0
         ],
         "z": [
          0.333,
          0.333
         ]
        },
        {
         "cmax": 1,
         "cmin": 0,
         "colorscale": [
          [
           0,
           "#F84752"
          ],
          [
           1,
           "#F84752"
          ]
         ],
         "showscale": false,
         "sizemode": "absolute",
         "sizeref": 0.007000000000000001,
         "type": "cone",
         "u": [
          1
         ],
         "v": [
          0
         ],
         "w": [
          0
         ],
         "x": [
          0.07
         ],
         "y": [
          0
         ],
         "z": [
          0.333
         ]
        },
        {
         "line": {
          "color": "#BBDA55",
          "width": 5
         },
         "mode": "lines",
         "name": "Y1 Axis",
         "type": "scatter3d",
         "x": [
          0,
          0
         ],
         "y": [
          0,
          0.07
         ],
         "z": [
          0.333,
          0.333
         ]
        },
        {
         "cmax": 1,
         "cmin": 0,
         "colorscale": [
          [
           0,
           "#BBDA55"
          ],
          [
           1,
           "#BBDA55"
          ]
         ],
         "showscale": false,
         "sizemode": "absolute",
         "sizeref": 0.007000000000000001,
         "type": "cone",
         "u": [
          0
         ],
         "v": [
          1
         ],
         "w": [
          0
         ],
         "x": [
          0
         ],
         "y": [
          0.07
         ],
         "z": [
          0.333
         ]
        },
        {
         "line": {
          "color": "#8EC1E1",
          "width": 5
         },
         "mode": "lines",
         "name": "Z1 Axis",
         "type": "scatter3d",
         "x": [
          0,
          0
         ],
         "y": [
          0,
          0
         ],
         "z": [
          0.333,
          0.403
         ]
        },
        {
         "cmax": 1,
         "cmin": 0,
         "colorscale": [
          [
           0,
           "#8EC1E1"
          ],
          [
           1,
           "#8EC1E1"
          ]
         ],
         "showscale": false,
         "sizemode": "absolute",
         "sizeref": 0.007000000000000001,
         "type": "cone",
         "u": [
          0
         ],
         "v": [
          0
         ],
         "w": [
          1
         ],
         "x": [
          0
         ],
         "y": [
          0
         ],
         "z": [
          0.403
         ]
        },
        {
         "line": {
          "color": "#F84752",
          "width": 5
         },
         "mode": "lines",
         "name": "X2 Axis",
         "type": "scatter3d",
         "x": [
          0,
          0.06687355423879243
         ],
         "y": [
          0,
          -1.2666775630991085e-18
         ],
         "z": [
          0.333,
          0.3536864144662938
         ]
        },
        {
         "cmax": 1,
         "cmin": 0,
         "colorscale": [
          [
           0,
           "#F84752"
          ],
          [
           1,
           "#F84752"
          ]
         ],
         "showscale": false,
         "sizemode": "absolute",
         "sizeref": 0.007000000000000001,
         "type": "cone",
         "u": [
          0.9553364891256061
         ],
         "v": [
          -1.8095393758558692e-17
         ],
         "w": [
          0.2955202066613396
         ],
         "x": [
          0.06687355423879243
         ],
         "y": [
          -1.2666775630991085e-18
         ],
         "z": [
          0.3536864144662938
         ]
        },
        {
         "line": {
          "color": "#BBDA55",
          "width": 5
         },
         "mode": "lines",
         "name": "Y2 Axis",
         "type": "scatter3d",
         "x": [
          0,
          0.020686414466293775
         ],
         "y": [
          0,
          4.094824207307204e-18
         ],
         "z": [
          0.333,
          0.2661264457612076
         ]
        },
        {
         "cmax": 1,
         "cmin": 0,
         "colorscale": [
          [
           0,
           "#BBDA55"
          ],
          [
           1,
           "#BBDA55"
          ]
         ],
         "showscale": false,
         "sizemode": "absolute",
         "sizeref": 0.007000000000000001,
         "type": "cone",
         "u": [
          0.2955202066613396
         ],
         "v": [
          5.84974886758172e-17
         ],
         "w": [
          -0.9553364891256061
         ],
         "x": [
          0.020686414466293775
         ],
         "y": [
          4.094824207307204e-18
         ],
         "z": [
          0.2661264457612076
         ]
        },
        {
         "line": {
          "color": "#8EC1E1",
          "width": 5
         },
         "mode": "lines",
         "name": "Z2 Axis",
         "type": "scatter3d",
         "x": [
          0,
          0
         ],
         "y": [
          0,
          0.07
         ],
         "z": [
          0.333,
          0.333
         ]
        },
        {
         "cmax": 1,
         "cmin": 0,
         "colorscale": [
          [
           0,
           "#8EC1E1"
          ],
          [
           1,
           "#8EC1E1"
          ]
         ],
         "showscale": false,
         "sizemode": "absolute",
         "sizeref": 0.007000000000000001,
         "type": "cone",
         "u": [
          0
         ],
         "v": [
          1
         ],
         "w": [
          6.123233995736766e-17
         ],
         "x": [
          0
         ],
         "y": [
          0.07
         ],
         "z": [
          0.333
         ]
        },
        {
         "line": {
          "color": "#F84752",
          "width": 5
         },
         "mode": "lines",
         "name": "X3 Axis",
         "type": "scatter3d",
         "x": [
          -0.0933843853049833,
          -0.02651083106619087
         ],
         "y": [
          8.642130049699502e-19,
          -4.0246455812915827e-19
         ],
         "z": [
          0.6348863305636916,
          0.6555727450299854
         ]
        },
        {
         "cmax": 1,
         "cmin": 0,
         "colorscale": [
          [
           0,
           "#F84752"
          ],
          [
           1,
           "#F84752"
          ]
         ],
         "showscale": false,
         "sizemode": "absolute",
         "sizeref": 0.007000000000000001,
         "type": "cone",
         "u": [
          0.9553364891256061
         ],
         "v": [
          -1.8095393758558692e-17
         ],
         "w": [
          0.2955202066613396
         ],
         "x": [
          -0.02651083106619087
         ],
         "y": [
          -4.0246455812915827e-19
         ],
         "z": [
          0.6555727450299854
         ]
        },
        {
         "line": {
          "color": "#BBDA55",
          "width": 5
         },
         "mode": "lines",
         "name": "Y3 Axis",
         "type": "scatter3d",
         "x": [
          -0.0933843853049833,
          -0.0933843853049833
         ],
         "y": [
          8.642130049699502e-19,
          0.07
         ],
         "z": [
          0.6348863305636916,
          0.6348863305636916
         ]
        },
        {
         "cmax": 1,
         "cmin": 0,
         "colorscale": [
          [
           0,
           "#BBDA55"
          ],
          [
           1,
           "#BBDA55"
          ]
         ],
         "showscale": false,
         "sizemode": "absolute",
         "sizeref": 0.007000000000000001,
         "type": "cone",
         "u": [
          1.809539375855869e-17
         ],
         "v": [
          1
         ],
         "w": [
          2.7348512815504783e-18
         ],
         "x": [
          -0.0933843853049833
         ],
         "y": [
          0.07
         ],
         "z": [
          0.6348863305636916
         ]
        },
        {
         "line": {
          "color": "#8EC1E1",
          "width": 5
         },
         "mode": "lines",
         "name": "Z3 Axis",
         "type": "scatter3d",
         "x": [
          -0.0933843853049833,
          -0.11407079977127707
         ],
         "y": [
          8.642130049699502e-19,
          1.0556525946784838e-18
         ],
         "z": [
          0.6348863305636916,
          0.701759884802484
         ]
        },
        {
         "cmax": 1,
         "cmin": 0,
         "colorscale": [
          [
           0,
           "#8EC1E1"
          ],
          [
           1,
           "#8EC1E1"
          ]
         ],
         "showscale": false,
         "sizemode": "absolute",
         "sizeref": 0.007000000000000001,
         "type": "cone",
         "u": [
          -0.2955202066613396
         ],
         "v": [
          2.7348512815504787e-18
         ],
         "w": [
          0.9553364891256061
         ],
         "x": [
          -0.11407079977127707
         ],
         "y": [
          1.0556525946784838e-18
         ],
         "z": [
          0.701759884802484
         ]
        },
        {
         "line": {
          "color": "#F84752",
          "width": 5
         },
         "mode": "lines",
         "name": "X4 Axis",
         "type": "scatter3d",
         "x": [
          -0.014569124952120802,
          -0.03719939463256605
         ],
         "y": [
          -6.286569801111418e-19,
          -3.50342290456241e-18
         ],
         "z": [
          0.6592667476132521,
          0.5930257414751331
         ]
        },
        {
         "cmax": 1,
         "cmin": 0,
         "colorscale": [
          [
           0,
           "#F84752"
          ],
          [
           1,
           "#F84752"
          ]
         ],
         "showscale": false,
         "sizemode": "absolute",
         "sizeref": 0.007000000000000001,
         "type": "cone",
         "u": [
          -0.3232895668635036
         ],
         "v": [
          -4.1068084635018114e-17
         ],
         "w": [
          -0.9463000876874145
         ],
         "x": [
          -0.03719939463256605
         ],
         "y": [
          -3.50342290456241e-18
         ],
         "z": [
          0.5930257414751331
         ]
        },
        {
         "line": {
          "color": "#BBDA55",
          "width": 5
         },
         "mode": "lines",
         "name": "Y4 Axis",
         "type": "scatter3d",
         "x": [
          -0.014569124952120802,
          0.05167188118599822
         ],
         "y": [
          -6.286569801111418e-19,
          -4.2878946805010114e-18
         ],
         "z": [
          0.6592667476132521,
          0.6366364779328069
         ]
        },
        {
         "cmax": 1,
         "cmin": 0,
         "colorscale": [
          [
           0,
           "#BBDA55"
          ],
          [
           1,
           "#BBDA55"
          ]
         ],
         "showscale": false,
         "sizemode": "absolute",
         "sizeref": 0.007000000000000001,
         "type": "cone",
         "u": [
          0.9463000876874145
         ],
         "v": [
          -5.2274824291283853e-17
         ],
         "w": [
          -0.32328956686350363
         ],
         "x": [
          0.05167188118599822
         ],
         "y": [
          -4.2878946805010114e-18
         ],
         "z": [
          0.6366364779328069
         ]
        },
        {
         "line": {
          "color": "#8EC1E1",
          "width": 5
         },
         "mode": "lines",
         "name": "Z4 Axis",
         "type": "scatter3d",
         "x": [
          -0.014569124952120802,
          -0.014569124952120803
         ],
         "y": [
          -6.286569801111418e-19,
          -0.07
         ],
         "z": [
          0.6592667476132521,
          0.6592667476132521
         ]
        },
        {
         "cmax": 1,
         "cmin": 0,
         "colorscale": [
          [
           0,
           "#8EC1E1"
          ],
          [
           1,
           "#8EC1E1"
          ]
         ],
         "showscale": false,
         "sizemode": "absolute",
         "sizeref": 0.007000000000000001,
         "type": "cone",
         "u": [
          -3.619078751711738e-17
         ],
         "v": [
          -1
         ],
         "w": [
          5.57626373942667e-17
         ],
         "x": [
          -0.014569124952120803
         ],
         "y": [
          -0.07
         ],
         "z": [
          0.6592667476132521
         ]
        },
        {
         "line": {
          "color": "#F84752",
          "width": 5
         },
         "mode": "lines",
         "name": "X5 Axis",
         "type": "scatter3d",
         "x": [
          0.3754814979860853,
          0.3528512283056401
         ],
         "y": [
          -4.0827291069204325e-17,
          -4.3702056993655594e-17
         ],
         "z": [
          0.6131933111718784,
          0.5469523050337594
         ]
        },
        {
         "cmax": 1,
         "cmin": 0,
         "colorscale": [
          [
           0,
           "#F84752"
          ],
          [
           1,
           "#F84752"
          ]
         ],
         "showscale": false,
         "sizemode": "absolute",
         "sizeref": 0.007000000000000001,
         "type": "cone",
         "u": [
          -0.3232895668635036
         ],
         "v": [
          -4.1068084635018114e-17
         ],
         "w": [
          -0.9463000876874145
         ],
         "x": [
          0.3528512283056401
         ],
         "y": [
          -4.3702056993655594e-17
         ],
         "z": [
          0.5469523050337594
         ]
        },
        {
         "line": {
          "color": "#BBDA55",
          "width": 5
         },
         "mode": "lines",
         "name": "Y5 Axis",
         "type": "scatter3d",
         "x": [
          0.3754814979860853,
          0.3754814979860853
         ],
         "y": [
          -4.0827291069204325e-17,
          0.06999999999999997
         ],
         "z": [
          0.6131933111718784,
          0.6131933111718784
         ]
        },
        {
         "cmax": 1,
         "cmin": 0,
         "colorscale": [
          [
           0,
           "#BBDA55"
          ],
          [
           1,
           "#BBDA55"
          ]
         ],
         "showscale": false,
         "sizemode": "absolute",
         "sizeref": 0.007000000000000001,
         "type": "cone",
         "u": [
          9.413495618807996e-17
         ],
         "v": [
          1
         ],
         "w": [
          -7.555841405712289e-17
         ],
         "x": [
          0.3754814979860853
         ],
         "y": [
          0.06999999999999997
         ],
         "z": [
          0.6131933111718784
         ]
        },
        {
         "line": {
          "color": "#8EC1E1",
          "width": 5
         },
         "mode": "lines",
         "name": "Z5 Axis",
         "type": "scatter3d",
         "x": [
          0.3754814979860853,
          0.44172250412420433
         ],
         "y": [
          -4.0827291069204325e-17,
          -4.8772792566609934e-17
         ],
         "z": [
          0.6131933111718784,
          0.5905630414914331
         ]
        },
        {
         "cmax": 1,
         "cmin": 0,
         "colorscale": [
          [
           0,
           "#8EC1E1"
          ],
          [
           1,
           "#8EC1E1"
          ]
         ],
         "showscale": false,
         "sizemode": "absolute",
         "sizeref": 0.007000000000000001,
         "type": "cone",
         "u": [
          0.9463000876874145
         ],
         "v": [
          -1.1350716424865154e-16
         ],
         "w": [
          -0.32328956686350363
         ],
         "x": [
          0.44172250412420433
         ],
         "y": [
          -4.8772792566609934e-17
         ],
         "z": [
          0.5905630414914331
         ]
        },
        {
         "line": {
          "color": "#F84752",
          "width": 5
         },
         "mode": "lines",
         "name": "X6 Axis",
         "type": "scatter3d",
         "x": [
          0.3754814979860853,
          0.4451317895555471
         ],
         "y": [
          -4.0827291069204325e-17,
          -4.295830174903844e-17
         ],
         "z": [
          0.6131933111718784,
          0.6201816503371563
         ]
        },
        {
         "cmax": 1,
         "cmin": 0,
         "colorscale": [
          [
           0,
           "#F84752"
          ],
          [
           1,
           "#F84752"
          ]
         ],
         "showscale": false,
         "sizemode": "absolute",
         "sizeref": 0.007000000000000001,
         "type": "cone",
         "u": [
          0.9950041652780258
         ],
         "v": [
          -3.0443009711915956e-17
         ],
         "w": [
          0.09983341664682797
         ],
         "x": [
          0.4451317895555471
         ],
         "y": [
          -4.295830174903844e-17
         ],
         "z": [
          0.6201816503371563
         ]
        },
        {
         "line": {
          "color": "#BBDA55",
          "width": 5
         },
         "mode": "lines",
         "name": "Y6 Axis",
         "type": "scatter3d",
         "x": [
          0.3754814979860853,
          0.36849315882080735
         ],
         "y": [
          -4.0827291069204325e-17,
          -3.669049361818335e-17
         ],
         "z": [
          0.6131933111718784,
          0.6828436027413401
         ]
        },
        {
         "cmax": 1,
         "cmin": 0,
         "colorscale": [
          [
           0,
           "#BBDA55"
          ],
          [
           1,
           "#BBDA55"
          ]
         ],
         "showscale": false,
         "sizemode": "absolute",
         "sizeref": 0.007000000000000001,
         "type": "cone",
         "u": [
          -0.09983341664682802
         ],
         "v": [
          5.909710644315679e-17
         ],
         "w": [
          0.9950041652780258
         ],
         "x": [
          0.36849315882080735
         ],
         "y": [
          -3.669049361818335e-17
         ],
         "z": [
          0.6828436027413401
         ]
        },
        {
         "line": {
          "color": "#8EC1E1",
          "width": 5
         },
         "mode": "lines",
         "name": "Z6 Axis",
         "type": "scatter3d",
         "x": [
          0.3754814979860853,
          0.3754814979860853
         ],
         "y": [
          -4.0827291069204325e-17,
          -0.07000000000000005
         ],
         "z": [
          0.6131933111718784,
          0.6131933111718784
         ]
        },
        {
         "cmax": 1,
         "cmin": 0,
         "colorscale": [
          [
           0,
           "#8EC1E1"
          ],
          [
           1,
           "#8EC1E1"
          ]
         ],
         "showscale": false,
         "sizemode": "absolute",
         "sizeref": 0.007000000000000001,
         "type": "cone",
         "u": [
          -3.619078751711738e-17
         ],
         "v": [
          -1
         ],
         "w": [
          5.57626373942667e-17
         ],
         "x": [
          0.3754814979860853
         ],
         "y": [
          -0.07000000000000005
         ],
         "z": [
          0.6131933111718784
         ]
        },
        {
         "line": {
          "color": "#F84752",
          "width": 5
         },
         "mode": "lines",
         "name": "X7 Axis",
         "type": "scatter3d",
         "x": [
          0.47372404011176217,
          0.4983491368519555
         ],
         "y": [
          -5.638152668870904e-17,
          -0.02474873734152922
         ],
         "z": [
          0.5155132061520504,
          0.5179839571585503
         ]
        },
        {
         "cmax": 1,
         "cmin": 0,
         "colorscale": [
          [
           0,
           "#F84752"
          ],
          [
           1,
           "#F84752"
          ]
         ],
         "showscale": false,
         "sizemode": "absolute",
         "sizeref": 0.0035000000000000005,
         "type": "cone",
         "u": [
          0.7035741925769524
         ],
         "v": [
          -0.7071067811865476
         ],
         "w": [
          0.07059288589999412
         ],
         "x": [
          0.4983491368519555
         ],
         "y": [
          -0.02474873734152922
         ],
         "z": [
          0.5179839571585503
         ]
        },
        {
         "line": {
          "color": "#BBDA55",
          "width": 5
         },
         "mode": "lines",
         "name": "Y7 Axis",
         "type": "scatter3d",
         "x": [
          0.47372404011176217,
          0.44909894337156886
         ],
         "y": [
          -5.638152668870904e-17,
          -0.02474873734152923
         ],
         "z": [
          0.5155132061520504,
          0.5130424551455507
         ]
        },
        {
         "cmax": 1,
         "cmin": 0,
         "colorscale": [
          [
           0,
           "#BBDA55"
          ],
          [
           1,
           "#BBDA55"
          ]
         ],
         "showscale": false,
         "sizemode": "absolute",
         "sizeref": 0.0035000000000000005,
         "type": "cone",
         "u": [
          -0.7035741925769523
         ],
         "v": [
          -0.7071067811865477
         ],
         "w": [
          -0.07059288589999393
         ],
         "x": [
          0.44909894337156886
         ],
         "y": [
          -0.02474873734152923
         ],
         "z": [
          0.5130424551455507
         ]
        },
        {
         "line": {
          "color": "#8EC1E1",
          "width": 5
         },
         "mode": "lines",
         "name": "Z7 Axis",
         "type": "scatter3d",
         "x": [
          0.47372404011176217,
          0.47721820969440115
         ],
         "y": [
          -5.638152668870904e-17,
          -6.05930573127274e-17
         ],
         "z": [
          0.5155132061520504,
          0.48068806036731954
         ]
        },
        {
         "cmax": 1,
         "cmin": 0,
         "colorscale": [
          [
           0,
           "#8EC1E1"
          ],
          [
           1,
           "#8EC1E1"
          ]
         ],
         "showscale": false,
         "sizemode": "absolute",
         "sizeref": 0.0035000000000000005,
         "type": "cone",
         "u": [
          0.09983341664682802
         ],
         "v": [
          -1.2032944640052447e-16
         ],
         "w": [
          -0.9950041652780258
         ],
         "x": [
          0.47721820969440115
         ],
         "y": [
          -6.05930573127274e-17
         ],
         "z": [
          0.48068806036731954
         ]
        }
       ],
       "layout": {
        "height": 600,
        "scene": {
         "aspectmode": "cube",
         "camera": {
          "center": {
           "x": 0,
           "y": 0,
           "z": 0
          },
          "eye": {
           "x": 1.0501803401169716,
           "y": -1.0501803401169716,
           "z": 1.0501803401169716
          },
          "up": {
           "x": 0,
           "y": 0,
           "z": 1
          }
         },
         "xaxis": {
          "nticks": 10,
          "range": [
           -0.7701322494191125,
           0.7701322494191125
          ],
          "title": {
           "text": "X"
          }
         },
         "yaxis": {
          "nticks": 10,
          "range": [
           -0.7701322494191125,
           0.7701322494191125
          ],
          "title": {
           "text": "Y"
          }
         },
         "zaxis": {
          "nticks": 10,
          "range": [
           -0.7701322494191125,
           0.7701322494191125
          ],
          "title": {
           "text": "Z"
          }
         }
        },
        "template": {
         "data": {
          "bar": [
           {
            "error_x": {
             "color": "#2a3f5f"
            },
            "error_y": {
             "color": "#2a3f5f"
            },
            "marker": {
             "line": {
              "color": "#E5ECF6",
              "width": 0.5
             },
             "pattern": {
              "fillmode": "overlay",
              "size": 10,
              "solidity": 0.2
             }
            },
            "type": "bar"
           }
          ],
          "barpolar": [
           {
            "marker": {
             "line": {
              "color": "#E5ECF6",
              "width": 0.5
             },
             "pattern": {
              "fillmode": "overlay",
              "size": 10,
              "solidity": 0.2
             }
            },
            "type": "barpolar"
           }
          ],
          "carpet": [
           {
            "aaxis": {
             "endlinecolor": "#2a3f5f",
             "gridcolor": "white",
             "linecolor": "white",
             "minorgridcolor": "white",
             "startlinecolor": "#2a3f5f"
            },
            "baxis": {
             "endlinecolor": "#2a3f5f",
             "gridcolor": "white",
             "linecolor": "white",
             "minorgridcolor": "white",
             "startlinecolor": "#2a3f5f"
            },
            "type": "carpet"
           }
          ],
          "choropleth": [
           {
            "colorbar": {
             "outlinewidth": 0,
             "ticks": ""
            },
            "type": "choropleth"
           }
          ],
          "contour": [
           {
            "colorbar": {
             "outlinewidth": 0,
             "ticks": ""
            },
            "colorscale": [
             [
              0,
              "#0d0887"
             ],
             [
              0.1111111111111111,
              "#46039f"
             ],
             [
              0.2222222222222222,
              "#7201a8"
             ],
             [
              0.3333333333333333,
              "#9c179e"
             ],
             [
              0.4444444444444444,
              "#bd3786"
             ],
             [
              0.5555555555555556,
              "#d8576b"
             ],
             [
              0.6666666666666666,
              "#ed7953"
             ],
             [
              0.7777777777777778,
              "#fb9f3a"
             ],
             [
              0.8888888888888888,
              "#fdca26"
             ],
             [
              1,
              "#f0f921"
             ]
            ],
            "type": "contour"
           }
          ],
          "contourcarpet": [
           {
            "colorbar": {
             "outlinewidth": 0,
             "ticks": ""
            },
            "type": "contourcarpet"
           }
          ],
          "heatmap": [
           {
            "colorbar": {
             "outlinewidth": 0,
             "ticks": ""
            },
            "colorscale": [
             [
              0,
              "#0d0887"
             ],
             [
              0.1111111111111111,
              "#46039f"
             ],
             [
              0.2222222222222222,
              "#7201a8"
             ],
             [
              0.3333333333333333,
              "#9c179e"
             ],
             [
              0.4444444444444444,
              "#bd3786"
             ],
             [
              0.5555555555555556,
              "#d8576b"
             ],
             [
              0.6666666666666666,
              "#ed7953"
             ],
             [
              0.7777777777777778,
              "#fb9f3a"
             ],
             [
              0.8888888888888888,
              "#fdca26"
             ],
             [
              1,
              "#f0f921"
             ]
            ],
            "type": "heatmap"
           }
          ],
          "histogram": [
           {
            "marker": {
             "pattern": {
              "fillmode": "overlay",
              "size": 10,
              "solidity": 0.2
             }
            },
            "type": "histogram"
           }
          ],
          "histogram2d": [
           {
            "colorbar": {
             "outlinewidth": 0,
             "ticks": ""
            },
            "colorscale": [
             [
              0,
              "#0d0887"
             ],
             [
              0.1111111111111111,
              "#46039f"
             ],
             [
              0.2222222222222222,
              "#7201a8"
             ],
             [
              0.3333333333333333,
              "#9c179e"
             ],
             [
              0.4444444444444444,
              "#bd3786"
             ],
             [
              0.5555555555555556,
              "#d8576b"
             ],
             [
              0.6666666666666666,
              "#ed7953"
             ],
             [
              0.7777777777777778,
              "#fb9f3a"
             ],
             [
              0.8888888888888888,
              "#fdca26"
             ],
             [
              1,
              "#f0f921"
             ]
            ],
            "type": "histogram2d"
           }
          ],
          "histogram2dcontour": [
           {
            "colorbar": {
             "outlinewidth": 0,
             "ticks": ""
            },
            "colorscale": [
             [
              0,
              "#0d0887"
             ],
             [
              0.1111111111111111,
              "#46039f"
             ],
             [
              0.2222222222222222,
              "#7201a8"
             ],
             [
              0.3333333333333333,
              "#9c179e"
             ],
             [
              0.4444444444444444,
              "#bd3786"
             ],
             [
              0.5555555555555556,
              "#d8576b"
             ],
             [
              0.6666666666666666,
              "#ed7953"
             ],
             [
              0.7777777777777778,
              "#fb9f3a"
             ],
             [
              0.8888888888888888,
              "#fdca26"
             ],
             [
              1,
              "#f0f921"
             ]
            ],
            "type": "histogram2dcontour"
           }
          ],
          "mesh3d": [
           {
            "colorbar": {
             "outlinewidth": 0,
             "ticks": ""
            },
            "type": "mesh3d"
           }
          ],
          "parcoords": [
           {
            "line": {
             "colorbar": {
              "outlinewidth": 0,
              "ticks": ""
             }
            },
            "type": "parcoords"
           }
          ],
          "pie": [
           {
            "automargin": true,
            "type": "pie"
           }
          ],
          "scatter": [
           {
            "fillpattern": {
             "fillmode": "overlay",
             "size": 10,
             "solidity": 0.2
            },
            "type": "scatter"
           }
          ],
          "scatter3d": [
           {
            "line": {
             "colorbar": {
              "outlinewidth": 0,
              "ticks": ""
             }
            },
            "marker": {
             "colorbar": {
              "outlinewidth": 0,
              "ticks": ""
             }
            },
            "type": "scatter3d"
           }
          ],
          "scattercarpet": [
           {
            "marker": {
             "colorbar": {
              "outlinewidth": 0,
              "ticks": ""
             }
            },
            "type": "scattercarpet"
           }
          ],
          "scattergeo": [
           {
            "marker": {
             "colorbar": {
              "outlinewidth": 0,
              "ticks": ""
             }
            },
            "type": "scattergeo"
           }
          ],
          "scattergl": [
           {
            "marker": {
             "colorbar": {
              "outlinewidth": 0,
              "ticks": ""
             }
            },
            "type": "scattergl"
           }
          ],
          "scattermap": [
           {
            "marker": {
             "colorbar": {
              "outlinewidth": 0,
              "ticks": ""
             }
            },
            "type": "scattermap"
           }
          ],
          "scattermapbox": [
           {
            "marker": {
             "colorbar": {
              "outlinewidth": 0,
              "ticks": ""
             }
            },
            "type": "scattermapbox"
           }
          ],
          "scatterpolar": [
           {
            "marker": {
             "colorbar": {
              "outlinewidth": 0,
              "ticks": ""
             }
            },
            "type": "scatterpolar"
           }
          ],
          "scatterpolargl": [
           {
            "marker": {
             "colorbar": {
              "outlinewidth": 0,
              "ticks": ""
             }
            },
            "type": "scatterpolargl"
           }
          ],
          "scatterternary": [
           {
            "marker": {
             "colorbar": {
              "outlinewidth": 0,
              "ticks": ""
             }
            },
            "type": "scatterternary"
           }
          ],
          "surface": [
           {
            "colorbar": {
             "outlinewidth": 0,
             "ticks": ""
            },
            "colorscale": [
             [
              0,
              "#0d0887"
             ],
             [
              0.1111111111111111,
              "#46039f"
             ],
             [
              0.2222222222222222,
              "#7201a8"
             ],
             [
              0.3333333333333333,
              "#9c179e"
             ],
             [
              0.4444444444444444,
              "#bd3786"
             ],
             [
              0.5555555555555556,
              "#d8576b"
             ],
             [
              0.6666666666666666,
              "#ed7953"
             ],
             [
              0.7777777777777778,
              "#fb9f3a"
             ],
             [
              0.8888888888888888,
              "#fdca26"
             ],
             [
              1,
              "#f0f921"
             ]
            ],
            "type": "surface"
           }
          ],
          "table": [
           {
            "cells": {
             "fill": {
              "color": "#EBF0F8"
             },
             "line": {
              "color": "white"
             }
            },
            "header": {
             "fill": {
              "color": "#C8D4E3"
             },
             "line": {
              "color": "white"
             }
            },
            "type": "table"
           }
          ]
         },
         "layout": {
          "annotationdefaults": {
           "arrowcolor": "#2a3f5f",
           "arrowhead": 0,
           "arrowwidth": 1
          },
          "autotypenumbers": "strict",
          "coloraxis": {
           "colorbar": {
            "outlinewidth": 0,
            "ticks": ""
           }
          },
          "colorscale": {
           "diverging": [
            [
             0,
             "#8e0152"
            ],
            [
             0.1,
             "#c51b7d"
            ],
            [
             0.2,
             "#de77ae"
            ],
            [
             0.3,
             "#f1b6da"
            ],
            [
             0.4,
             "#fde0ef"
            ],
            [
             0.5,
             "#f7f7f7"
            ],
            [
             0.6,
             "#e6f5d0"
            ],
            [
             0.7,
             "#b8e186"
            ],
            [
             0.8,
             "#7fbc41"
            ],
            [
             0.9,
             "#4d9221"
            ],
            [
             1,
             "#276419"
            ]
           ],
           "sequential": [
            [
             0,
             "#0d0887"
            ],
            [
             0.1111111111111111,
             "#46039f"
            ],
            [
             0.2222222222222222,
             "#7201a8"
            ],
            [
             0.3333333333333333,
             "#9c179e"
            ],
            [
             0.4444444444444444,
             "#bd3786"
            ],
            [
             0.5555555555555556,
             "#d8576b"
            ],
            [
             0.6666666666666666,
             "#ed7953"
            ],
            [
             0.7777777777777778,
             "#fb9f3a"
            ],
            [
             0.8888888888888888,
             "#fdca26"
            ],
            [
             1,
             "#f0f921"
            ]
           ],
           "sequentialminus": [
            [
             0,
             "#0d0887"
            ],
            [
             0.1111111111111111,
             "#46039f"
            ],
            [
             0.2222222222222222,
             "#7201a8"
            ],
            [
             0.3333333333333333,
             "#9c179e"
            ],
            [
             0.4444444444444444,
             "#bd3786"
            ],
            [
             0.5555555555555556,
             "#d8576b"
            ],
            [
             0.6666666666666666,
             "#ed7953"
            ],
            [
             0.7777777777777778,
             "#fb9f3a"
            ],
            [
             0.8888888888888888,
             "#fdca26"
            ],
            [
             1,
             "#f0f921"
            ]
           ]
          },
          "colorway": [
           "#636efa",
           "#EF553B",
           "#00cc96",
           "#ab63fa",
           "#FFA15A",
           "#19d3f3",
           "#FF6692",
           "#B6E880",
           "#FF97FF",
           "#FECB52"
          ],
          "font": {
           "color": "#2a3f5f"
          },
          "geo": {
           "bgcolor": "white",
           "lakecolor": "white",
           "landcolor": "#E5ECF6",
           "showlakes": true,
           "showland": true,
           "subunitcolor": "white"
          },
          "hoverlabel": {
           "align": "left"
          },
          "hovermode": "closest",
          "mapbox": {
           "style": "light"
          },
          "paper_bgcolor": "white",
          "plot_bgcolor": "#E5ECF6",
          "polar": {
           "angularaxis": {
            "gridcolor": "white",
            "linecolor": "white",
            "ticks": ""
           },
           "bgcolor": "#E5ECF6",
           "radialaxis": {
            "gridcolor": "white",
            "linecolor": "white",
            "ticks": ""
           }
          },
          "scene": {
           "xaxis": {
            "backgroundcolor": "#E5ECF6",
            "gridcolor": "white",
            "gridwidth": 2,
            "linecolor": "white",
            "showbackground": true,
            "ticks": "",
            "zerolinecolor": "white"
           },
           "yaxis": {
            "backgroundcolor": "#E5ECF6",
            "gridcolor": "white",
            "gridwidth": 2,
            "linecolor": "white",
            "showbackground": true,
            "ticks": "",
            "zerolinecolor": "white"
           },
           "zaxis": {
            "backgroundcolor": "#E5ECF6",
            "gridcolor": "white",
            "gridwidth": 2,
            "linecolor": "white",
            "showbackground": true,
            "ticks": "",
            "zerolinecolor": "white"
           }
          },
          "shapedefaults": {
           "line": {
            "color": "#2a3f5f"
           }
          },
          "ternary": {
           "aaxis": {
            "gridcolor": "white",
            "linecolor": "white",
            "ticks": ""
           },
           "baxis": {
            "gridcolor": "white",
            "linecolor": "white",
            "ticks": ""
           },
           "bgcolor": "#E5ECF6",
           "caxis": {
            "gridcolor": "white",
            "linecolor": "white",
            "ticks": ""
           }
          },
          "title": {
           "x": 0.05
          },
          "xaxis": {
           "automargin": true,
           "gridcolor": "white",
           "linecolor": "white",
           "ticks": "",
           "title": {
            "standoff": 15
           },
           "zerolinecolor": "white",
           "zerolinewidth": 2
          },
          "yaxis": {
           "automargin": true,
           "gridcolor": "white",
           "linecolor": "white",
           "ticks": "",
           "title": {
            "standoff": 15
           },
           "zerolinecolor": "white",
           "zerolinewidth": 2
          }
         }
        },
        "width": 700
       }
      }
     },
     "metadata": {},
     "output_type": "display_data"
    }
   ],
   "source": [
    "Panda = rsb.models.DH.Panda()\n",
    "Panda.plotly(Panda.qr, fig=go.Figure(), isShow=False)"
   ]
  },
  {
   "cell_type": "markdown",
   "id": "BYtC",
   "metadata": {},
   "source": [
    "#### Puma 560"
   ]
  },
  {
   "cell_type": "code",
   "execution_count": 6,
   "id": "RGSE",
   "metadata": {},
   "outputs": [
    {
     "data": {
      "application/vnd.plotly.v1+json": {
       "config": {
        "plotlyServerURL": "https://plot.ly"
       },
       "data": [
        {
         "line": {
          "color": "#E1706E",
          "width": 14
         },
         "mode": "lines",
         "name": "Link1",
         "type": "scatter3d",
         "x": {
          "bdata": "AAAAAAAAAAAAAAAAAAAAAA==",
          "dtype": "f8"
         },
         "y": {
          "bdata": "AAAAAAAAAAAAAAAAAAAAAA==",
          "dtype": "f8"
         },
         "z": {
          "bdata": "AAAAAAAAAAAAGM+goX/lPw==",
          "dtype": "f8"
         }
        },
        {
         "line": {
          "color": "#E1706E",
          "width": 14
         },
         "mode": "lines",
         "name": "Link2",
         "type": "scatter3d",
         "x": {
          "bdata": "AAAAAAAAAAAiDdpQv3t+PA==",
          "dtype": "f8"
         },
         "y": {
          "bdata": "AAAAAAAAAAAiDdpQv3t+PA==",
          "dtype": "f8"
         },
         "z": {
          "bdata": "ABjPoKF/5T/UJk7ud6jxPw==",
          "dtype": "f8"
         }
        },
        {
         "line": {
          "color": "#E1706E",
          "width": 14
         },
         "mode": "lines",
         "name": "Link3",
         "type": "scatter3d",
         "x": {
          "bdata": "Ig3aUL97fjxMaW/whcmUPw==",
          "dtype": "f8"
         },
         "y": {
          "bdata": "Ig3aUL97fjz25GGh1jTDvw==",
          "dtype": "f8"
         },
         "z": {
          "bdata": "1CZO7neo8T/UJk7ud6jxPw==",
          "dtype": "f8"
         }
        },
        {
         "line": {
          "color": "#E1706E",
          "width": 14
         },
         "mode": "lines",
         "name": "Link4",
         "type": "scatter3d",
         "x": {
          "bdata": "TGlv8IXJlD9MaW/whcmUPw==",
          "dtype": "f8"
         },
         "y": {
          "bdata": "9uRhodY0w7/25GGh1jTDvw==",
          "dtype": "f8"
         },
         "z": {
          "bdata": "1CZO7neo8T+owTQMH5H4Pw==",
          "dtype": "f8"
         }
        },
        {
         "line": {
          "color": "#E1706E",
          "width": 14
         },
         "mode": "lines",
         "name": "Link5",
         "type": "scatter3d",
         "x": {
          "bdata": "TGlv8IXJlD9MaW/whcmUPw==",
          "dtype": "f8"
         },
         "y": {
          "bdata": "9uRhodY0w7/25GGh1jTDvw==",
          "dtype": "f8"
         },
         "z": {
          "bdata": "qME0DB+R+D+owTQMH5H4Pw==",
          "dtype": "f8"
         }
        },
        {
         "line": {
          "color": "#E1706E",
          "width": 14
         },
         "mode": "lines",
         "name": "Link6",
         "type": "scatter3d",
         "x": {
          "bdata": "TGlv8IXJlD9MaW/whcmUPw==",
          "dtype": "f8"
         },
         "y": {
          "bdata": "9uRhodY0w7/25GGh1jTDvw==",
          "dtype": "f8"
         },
         "z": {
          "bdata": "qME0DB+R+D+owTQMH5H4Pw==",
          "dtype": "f8"
         }
        },
        {
         "line": {
          "color": "#F84752",
          "width": 5
         },
         "mode": "lines",
         "name": "X0 Axis",
         "type": "scatter3d",
         "x": [
          0,
          0.15
         ],
         "y": [
          0,
          0
         ],
         "z": [
          0,
          0
         ]
        },
        {
         "cmax": 1,
         "cmin": 0,
         "colorscale": [
          [
           0,
           "#F84752"
          ],
          [
           1,
           "#F84752"
          ]
         ],
         "showscale": false,
         "sizemode": "absolute",
         "sizeref": 0.015,
         "type": "cone",
         "u": [
          1
         ],
         "v": [
          0
         ],
         "w": [
          0
         ],
         "x": [
          0.15
         ],
         "y": [
          0
         ],
         "z": [
          0
         ]
        },
        {
         "line": {
          "color": "#BBDA55",
          "width": 5
         },
         "mode": "lines",
         "name": "Y0 Axis",
         "type": "scatter3d",
         "x": [
          0,
          0
         ],
         "y": [
          0,
          0.15
         ],
         "z": [
          0,
          0
         ]
        },
        {
         "cmax": 1,
         "cmin": 0,
         "colorscale": [
          [
           0,
           "#BBDA55"
          ],
          [
           1,
           "#BBDA55"
          ]
         ],
         "showscale": false,
         "sizemode": "absolute",
         "sizeref": 0.015,
         "type": "cone",
         "u": [
          0
         ],
         "v": [
          1
         ],
         "w": [
          0
         ],
         "x": [
          0
         ],
         "y": [
          0.15
         ],
         "z": [
          0
         ]
        },
        {
         "line": {
          "color": "#8EC1E1",
          "width": 5
         },
         "mode": "lines",
         "name": "Z0 Axis",
         "type": "scatter3d",
         "x": [
          0,
          0
         ],
         "y": [
          0,
          0
         ],
         "z": [
          0,
          0.15
         ]
        },
        {
         "cmax": 1,
         "cmin": 0,
         "colorscale": [
          [
           0,
           "#8EC1E1"
          ],
          [
           1,
           "#8EC1E1"
          ]
         ],
         "showscale": false,
         "sizemode": "absolute",
         "sizeref": 0.015,
         "type": "cone",
         "u": [
          0
         ],
         "v": [
          0
         ],
         "w": [
          1
         ],
         "x": [
          0
         ],
         "y": [
          0
         ],
         "z": [
          0.15
         ]
        },
        {
         "line": {
          "color": "#F84752",
          "width": 5
         },
         "mode": "lines",
         "name": "X1 Axis",
         "type": "scatter3d",
         "x": [
          0,
          0.15
         ],
         "y": [
          0,
          0
         ],
         "z": [
          0.6718299999999999,
          0.6718299999999999
         ]
        },
        {
         "cmax": 1,
         "cmin": 0,
         "colorscale": [
          [
           0,
           "#F84752"
          ],
          [
           1,
           "#F84752"
          ]
         ],
         "showscale": false,
         "sizemode": "absolute",
         "sizeref": 0.015,
         "type": "cone",
         "u": [
          1
         ],
         "v": [
          0
         ],
         "w": [
          0
         ],
         "x": [
          0.15
         ],
         "y": [
          0
         ],
         "z": [
          0.6718299999999999
         ]
        },
        {
         "line": {
          "color": "#BBDA55",
          "width": 5
         },
         "mode": "lines",
         "name": "Y1 Axis",
         "type": "scatter3d",
         "x": [
          0,
          0
         ],
         "y": [
          0,
          9.184850993605149e-18
         ],
         "z": [
          0.6718299999999999,
          0.82183
         ]
        },
        {
         "cmax": 1,
         "cmin": 0,
         "colorscale": [
          [
           0,
           "#BBDA55"
          ],
          [
           1,
           "#BBDA55"
          ]
         ],
         "showscale": false,
         "sizemode": "absolute",
         "sizeref": 0.015,
         "type": "cone",
         "u": [
          0
         ],
         "v": [
          6.123233995736766e-17
         ],
         "w": [
          1
         ],
         "x": [
          0
         ],
         "y": [
          9.184850993605149e-18
         ],
         "z": [
          0.82183
         ]
        },
        {
         "line": {
          "color": "#8EC1E1",
          "width": 5
         },
         "mode": "lines",
         "name": "Z1 Axis",
         "type": "scatter3d",
         "x": [
          0,
          0
         ],
         "y": [
          0,
          -0.15
         ],
         "z": [
          0.6718299999999999,
          0.6718299999999999
         ]
        },
        {
         "cmax": 1,
         "cmin": 0,
         "colorscale": [
          [
           0,
           "#8EC1E1"
          ],
          [
           1,
           "#8EC1E1"
          ]
         ],
         "showscale": false,
         "sizemode": "absolute",
         "sizeref": 0.015,
         "type": "cone",
         "u": [
          0
         ],
         "v": [
          -1
         ],
         "w": [
          6.123233995736766e-17
         ],
         "x": [
          0
         ],
         "y": [
          -0.15
         ],
         "z": [
          0.6718299999999999
         ]
        },
        {
         "line": {
          "color": "#F84752",
          "width": 5
         },
         "mode": "lines",
         "name": "X2 Axis",
         "type": "scatter3d",
         "x": [
          2.6440124393591356e-17,
          3.5624975387196504e-17
         ],
         "y": [
          2.6440124393591356e-17,
          3.5624975387196504e-17
         ],
         "z": [
          1.1036299999999999,
          1.2536299999999998
         ]
        },
        {
         "cmax": 1,
         "cmin": 0,
         "colorscale": [
          [
           0,
           "#F84752"
          ],
          [
           1,
           "#F84752"
          ]
         ],
         "showscale": false,
         "sizemode": "absolute",
         "sizeref": 0.015,
         "type": "cone",
         "u": [
          6.123233995736766e-17
         ],
         "v": [
          6.123233995736766e-17
         ],
         "w": [
          1
         ],
         "x": [
          3.5624975387196504e-17
         ],
         "y": [
          3.5624975387196504e-17
         ],
         "z": [
          1.2536299999999998
         ]
        },
        {
         "line": {
          "color": "#BBDA55",
          "width": 5
         },
         "mode": "lines",
         "name": "Y2 Axis",
         "type": "scatter3d",
         "x": [
          2.6440124393591356e-17,
          -0.14999999999999997
         ],
         "y": [
          2.6440124393591356e-17,
          2.6440124393591356e-17
         ],
         "z": [
          1.1036299999999999,
          1.1036299999999999
         ]
        },
        {
         "cmax": 1,
         "cmin": 0,
         "colorscale": [
          [
           0,
           "#BBDA55"
          ],
          [
           1,
           "#BBDA55"
          ]
         ],
         "showscale": false,
         "sizemode": "absolute",
         "sizeref": 0.015,
         "type": "cone",
         "u": [
          -1
         ],
         "v": [
          3.749399456654644e-33
         ],
         "w": [
          6.123233995736766e-17
         ],
         "x": [
          -0.14999999999999997
         ],
         "y": [
          2.6440124393591356e-17
         ],
         "z": [
          1.1036299999999999
         ]
        },
        {
         "line": {
          "color": "#8EC1E1",
          "width": 5
         },
         "mode": "lines",
         "name": "Z2 Axis",
         "type": "scatter3d",
         "x": [
          2.6440124393591356e-17,
          2.6440124393591356e-17
         ],
         "y": [
          2.6440124393591356e-17,
          -0.14999999999999997
         ],
         "z": [
          1.1036299999999999,
          1.1036299999999999
         ]
        },
        {
         "cmax": 1,
         "cmin": 0,
         "colorscale": [
          [
           0,
           "#8EC1E1"
          ],
          [
           1,
           "#8EC1E1"
          ]
         ],
         "showscale": false,
         "sizemode": "absolute",
         "sizeref": 0.015,
         "type": "cone",
         "u": [
          0
         ],
         "v": [
          -1
         ],
         "w": [
          6.123233995736766e-17
         ],
         "x": [
          2.6440124393591356e-17
         ],
         "y": [
          -0.14999999999999997
         ],
         "z": [
          1.1036299999999999
         ]
        },
        {
         "line": {
          "color": "#F84752",
          "width": 5
         },
         "mode": "lines",
         "name": "X3 Axis",
         "type": "scatter3d",
         "x": [
          0.020300000000000026,
          0.1703
         ],
         "y": [
          -0.15004999999999996,
          -0.15004999999999996
         ],
         "z": [
          1.1036299999999999,
          1.1036299999999999
         ]
        },
        {
         "cmax": 1,
         "cmin": 0,
         "colorscale": [
          [
           0,
           "#F84752"
          ],
          [
           1,
           "#F84752"
          ]
         ],
         "showscale": false,
         "sizemode": "absolute",
         "sizeref": 0.015,
         "type": "cone",
         "u": [
          1
         ],
         "v": [
          0
         ],
         "w": [
          0
         ],
         "x": [
          0.1703
         ],
         "y": [
          -0.15004999999999996
         ],
         "z": [
          1.1036299999999999
         ]
        },
        {
         "line": {
          "color": "#BBDA55",
          "width": 5
         },
         "mode": "lines",
         "name": "Y3 Axis",
         "type": "scatter3d",
         "x": [
          0.020300000000000026,
          0.020300000000000026
         ],
         "y": [
          -0.15004999999999996,
          -0.00004999999999996674
         ],
         "z": [
          1.1036299999999999,
          1.1036299999999999
         ]
        },
        {
         "cmax": 1,
         "cmin": 0,
         "colorscale": [
          [
           0,
           "#BBDA55"
          ],
          [
           1,
           "#BBDA55"
          ]
         ],
         "showscale": false,
         "sizemode": "absolute",
         "sizeref": 0.015,
         "type": "cone",
         "u": [
          0
         ],
         "v": [
          1
         ],
         "w": [
          0
         ],
         "x": [
          0.020300000000000026
         ],
         "y": [
          -0.00004999999999996674
         ],
         "z": [
          1.1036299999999999
         ]
        },
        {
         "line": {
          "color": "#8EC1E1",
          "width": 5
         },
         "mode": "lines",
         "name": "Z3 Axis",
         "type": "scatter3d",
         "x": [
          0.020300000000000026,
          0.020300000000000026
         ],
         "y": [
          -0.15004999999999996,
          -0.15004999999999996
         ],
         "z": [
          1.1036299999999999,
          1.2536299999999998
         ]
        },
        {
         "cmax": 1,
         "cmin": 0,
         "colorscale": [
          [
           0,
           "#8EC1E1"
          ],
          [
           1,
           "#8EC1E1"
          ]
         ],
         "showscale": false,
         "sizemode": "absolute",
         "sizeref": 0.015,
         "type": "cone",
         "u": [
          0
         ],
         "v": [
          0
         ],
         "w": [
          1
         ],
         "x": [
          0.020300000000000026
         ],
         "y": [
          -0.15004999999999996
         ],
         "z": [
          1.2536299999999998
         ]
        },
        {
         "line": {
          "color": "#F84752",
          "width": 5
         },
         "mode": "lines",
         "name": "X4 Axis",
         "type": "scatter3d",
         "x": [
          0.020300000000000026,
          0.1703
         ],
         "y": [
          -0.15004999999999996,
          -0.15004999999999996
         ],
         "z": [
          1.5354299999999999,
          1.5354299999999999
         ]
        },
        {
         "cmax": 1,
         "cmin": 0,
         "colorscale": [
          [
           0,
           "#F84752"
          ],
          [
           1,
           "#F84752"
          ]
         ],
         "showscale": false,
         "sizemode": "absolute",
         "sizeref": 0.015,
         "type": "cone",
         "u": [
          1
         ],
         "v": [
          0
         ],
         "w": [
          0
         ],
         "x": [
          0.1703
         ],
         "y": [
          -0.15004999999999996
         ],
         "z": [
          1.5354299999999999
         ]
        },
        {
         "line": {
          "color": "#BBDA55",
          "width": 5
         },
         "mode": "lines",
         "name": "Y4 Axis",
         "type": "scatter3d",
         "x": [
          0.020300000000000026,
          0.020300000000000026
         ],
         "y": [
          -0.15004999999999996,
          -0.15004999999999996
         ],
         "z": [
          1.5354299999999999,
          1.6854299999999998
         ]
        },
        {
         "cmax": 1,
         "cmin": 0,
         "colorscale": [
          [
           0,
           "#BBDA55"
          ],
          [
           1,
           "#BBDA55"
          ]
         ],
         "showscale": false,
         "sizemode": "absolute",
         "sizeref": 0.015,
         "type": "cone",
         "u": [
          0
         ],
         "v": [
          6.123233995736766e-17
         ],
         "w": [
          1
         ],
         "x": [
          0.020300000000000026
         ],
         "y": [
          -0.15004999999999996
         ],
         "z": [
          1.6854299999999998
         ]
        },
        {
         "line": {
          "color": "#8EC1E1",
          "width": 5
         },
         "mode": "lines",
         "name": "Z4 Axis",
         "type": "scatter3d",
         "x": [
          0.020300000000000026,
          0.020300000000000026
         ],
         "y": [
          -0.15004999999999996,
          -0.30004999999999993
         ],
         "z": [
          1.5354299999999999,
          1.5354299999999999
         ]
        },
        {
         "cmax": 1,
         "cmin": 0,
         "colorscale": [
          [
           0,
           "#8EC1E1"
          ],
          [
           1,
           "#8EC1E1"
          ]
         ],
         "showscale": false,
         "sizemode": "absolute",
         "sizeref": 0.015,
         "type": "cone",
         "u": [
          0
         ],
         "v": [
          -1
         ],
         "w": [
          6.123233995736766e-17
         ],
         "x": [
          0.020300000000000026
         ],
         "y": [
          -0.30004999999999993
         ],
         "z": [
          1.5354299999999999
         ]
        },
        {
         "line": {
          "color": "#F84752",
          "width": 5
         },
         "mode": "lines",
         "name": "X5 Axis",
         "type": "scatter3d",
         "x": [
          0.020300000000000026,
          0.1703
         ],
         "y": [
          -0.15004999999999996,
          -0.15004999999999996
         ],
         "z": [
          1.5354299999999999,
          1.5354299999999999
         ]
        },
        {
         "cmax": 1,
         "cmin": 0,
         "colorscale": [
          [
           0,
           "#F84752"
          ],
          [
           1,
           "#F84752"
          ]
         ],
         "showscale": false,
         "sizemode": "absolute",
         "sizeref": 0.015,
         "type": "cone",
         "u": [
          1
         ],
         "v": [
          0
         ],
         "w": [
          0
         ],
         "x": [
          0.1703
         ],
         "y": [
          -0.15004999999999996
         ],
         "z": [
          1.5354299999999999
         ]
        },
        {
         "line": {
          "color": "#BBDA55",
          "width": 5
         },
         "mode": "lines",
         "name": "Y5 Axis",
         "type": "scatter3d",
         "x": [
          0.020300000000000026,
          0.020300000000000026
         ],
         "y": [
          -0.15004999999999996,
          -0.00004999999999996674
         ],
         "z": [
          1.5354299999999999,
          1.5354299999999999
         ]
        },
        {
         "cmax": 1,
         "cmin": 0,
         "colorscale": [
          [
           0,
           "#BBDA55"
          ],
          [
           1,
           "#BBDA55"
          ]
         ],
         "showscale": false,
         "sizemode": "absolute",
         "sizeref": 0.015,
         "type": "cone",
         "u": [
          0
         ],
         "v": [
          1
         ],
         "w": [
          0
         ],
         "x": [
          0.020300000000000026
         ],
         "y": [
          -0.00004999999999996674
         ],
         "z": [
          1.5354299999999999
         ]
        },
        {
         "line": {
          "color": "#8EC1E1",
          "width": 5
         },
         "mode": "lines",
         "name": "Z5 Axis",
         "type": "scatter3d",
         "x": [
          0.020300000000000026,
          0.020300000000000026
         ],
         "y": [
          -0.15004999999999996,
          -0.15004999999999996
         ],
         "z": [
          1.5354299999999999,
          1.6854299999999998
         ]
        },
        {
         "cmax": 1,
         "cmin": 0,
         "colorscale": [
          [
           0,
           "#8EC1E1"
          ],
          [
           1,
           "#8EC1E1"
          ]
         ],
         "showscale": false,
         "sizemode": "absolute",
         "sizeref": 0.015,
         "type": "cone",
         "u": [
          0
         ],
         "v": [
          0
         ],
         "w": [
          1
         ],
         "x": [
          0.020300000000000026
         ],
         "y": [
          -0.15004999999999996
         ],
         "z": [
          1.6854299999999998
         ]
        },
        {
         "line": {
          "color": "#F84752",
          "width": 5
         },
         "mode": "lines",
         "name": "X6 Axis",
         "type": "scatter3d",
         "x": [
          0.020300000000000026,
          0.09530000000000002
         ],
         "y": [
          -0.15004999999999996,
          -0.15004999999999996
         ],
         "z": [
          1.5354299999999999,
          1.5354299999999999
         ]
        },
        {
         "cmax": 1,
         "cmin": 0,
         "colorscale": [
          [
           0,
           "#F84752"
          ],
          [
           1,
           "#F84752"
          ]
         ],
         "showscale": false,
         "sizemode": "absolute",
         "sizeref": 0.0075,
         "type": "cone",
         "u": [
          1
         ],
         "v": [
          0
         ],
         "w": [
          0
         ],
         "x": [
          0.09530000000000002
         ],
         "y": [
          -0.15004999999999996
         ],
         "z": [
          1.5354299999999999
         ]
        },
        {
         "line": {
          "color": "#BBDA55",
          "width": 5
         },
         "mode": "lines",
         "name": "Y6 Axis",
         "type": "scatter3d",
         "x": [
          0.020300000000000026,
          0.020300000000000026
         ],
         "y": [
          -0.15004999999999996,
          -0.07504999999999996
         ],
         "z": [
          1.5354299999999999,
          1.5354299999999999
         ]
        },
        {
         "cmax": 1,
         "cmin": 0,
         "colorscale": [
          [
           0,
           "#BBDA55"
          ],
          [
           1,
           "#BBDA55"
          ]
         ],
         "showscale": false,
         "sizemode": "absolute",
         "sizeref": 0.0075,
         "type": "cone",
         "u": [
          0
         ],
         "v": [
          1
         ],
         "w": [
          0
         ],
         "x": [
          0.020300000000000026
         ],
         "y": [
          -0.07504999999999996
         ],
         "z": [
          1.5354299999999999
         ]
        },
        {
         "line": {
          "color": "#8EC1E1",
          "width": 5
         },
         "mode": "lines",
         "name": "Z6 Axis",
         "type": "scatter3d",
         "x": [
          0.020300000000000026,
          0.020300000000000026
         ],
         "y": [
          -0.15004999999999996,
          -0.15004999999999996
         ],
         "z": [
          1.5354299999999999,
          1.6104299999999998
         ]
        },
        {
         "cmax": 1,
         "cmin": 0,
         "colorscale": [
          [
           0,
           "#8EC1E1"
          ],
          [
           1,
           "#8EC1E1"
          ]
         ],
         "showscale": false,
         "sizemode": "absolute",
         "sizeref": 0.0075,
         "type": "cone",
         "u": [
          0
         ],
         "v": [
          0
         ],
         "w": [
          1
         ],
         "x": [
          0.020300000000000026
         ],
         "y": [
          -0.15004999999999996
         ],
         "z": [
          1.6104299999999998
         ]
        }
       ],
       "layout": {
        "height": 600,
        "scene": {
         "aspectmode": "cube",
         "camera": {
          "center": {
           "x": 0,
           "y": 0,
           "z": 0
          },
          "eye": {
           "x": 2.314316929279566,
           "y": -2.314316929279566,
           "z": 2.314316929279566
          },
          "up": {
           "x": 0,
           "y": 0,
           "z": 1
          }
         },
         "xaxis": {
          "nticks": 10,
          "range": [
           -1.6971657481383484,
           1.6971657481383484
          ],
          "title": {
           "text": "X"
          }
         },
         "yaxis": {
          "nticks": 10,
          "range": [
           -1.6971657481383484,
           1.6971657481383484
          ],
          "title": {
           "text": "Y"
          }
         },
         "zaxis": {
          "nticks": 10,
          "range": [
           -1.6971657481383484,
           1.6971657481383484
          ],
          "title": {
           "text": "Z"
          }
         }
        },
        "template": {
         "data": {
          "bar": [
           {
            "error_x": {
             "color": "#2a3f5f"
            },
            "error_y": {
             "color": "#2a3f5f"
            },
            "marker": {
             "line": {
              "color": "#E5ECF6",
              "width": 0.5
             },
             "pattern": {
              "fillmode": "overlay",
              "size": 10,
              "solidity": 0.2
             }
            },
            "type": "bar"
           }
          ],
          "barpolar": [
           {
            "marker": {
             "line": {
              "color": "#E5ECF6",
              "width": 0.5
             },
             "pattern": {
              "fillmode": "overlay",
              "size": 10,
              "solidity": 0.2
             }
            },
            "type": "barpolar"
           }
          ],
          "carpet": [
           {
            "aaxis": {
             "endlinecolor": "#2a3f5f",
             "gridcolor": "white",
             "linecolor": "white",
             "minorgridcolor": "white",
             "startlinecolor": "#2a3f5f"
            },
            "baxis": {
             "endlinecolor": "#2a3f5f",
             "gridcolor": "white",
             "linecolor": "white",
             "minorgridcolor": "white",
             "startlinecolor": "#2a3f5f"
            },
            "type": "carpet"
           }
          ],
          "choropleth": [
           {
            "colorbar": {
             "outlinewidth": 0,
             "ticks": ""
            },
            "type": "choropleth"
           }
          ],
          "contour": [
           {
            "colorbar": {
             "outlinewidth": 0,
             "ticks": ""
            },
            "colorscale": [
             [
              0,
              "#0d0887"
             ],
             [
              0.1111111111111111,
              "#46039f"
             ],
             [
              0.2222222222222222,
              "#7201a8"
             ],
             [
              0.3333333333333333,
              "#9c179e"
             ],
             [
              0.4444444444444444,
              "#bd3786"
             ],
             [
              0.5555555555555556,
              "#d8576b"
             ],
             [
              0.6666666666666666,
              "#ed7953"
             ],
             [
              0.7777777777777778,
              "#fb9f3a"
             ],
             [
              0.8888888888888888,
              "#fdca26"
             ],
             [
              1,
              "#f0f921"
             ]
            ],
            "type": "contour"
           }
          ],
          "contourcarpet": [
           {
            "colorbar": {
             "outlinewidth": 0,
             "ticks": ""
            },
            "type": "contourcarpet"
           }
          ],
          "heatmap": [
           {
            "colorbar": {
             "outlinewidth": 0,
             "ticks": ""
            },
            "colorscale": [
             [
              0,
              "#0d0887"
             ],
             [
              0.1111111111111111,
              "#46039f"
             ],
             [
              0.2222222222222222,
              "#7201a8"
             ],
             [
              0.3333333333333333,
              "#9c179e"
             ],
             [
              0.4444444444444444,
              "#bd3786"
             ],
             [
              0.5555555555555556,
              "#d8576b"
             ],
             [
              0.6666666666666666,
              "#ed7953"
             ],
             [
              0.7777777777777778,
              "#fb9f3a"
             ],
             [
              0.8888888888888888,
              "#fdca26"
             ],
             [
              1,
              "#f0f921"
             ]
            ],
            "type": "heatmap"
           }
          ],
          "histogram": [
           {
            "marker": {
             "pattern": {
              "fillmode": "overlay",
              "size": 10,
              "solidity": 0.2
             }
            },
            "type": "histogram"
           }
          ],
          "histogram2d": [
           {
            "colorbar": {
             "outlinewidth": 0,
             "ticks": ""
            },
            "colorscale": [
             [
              0,
              "#0d0887"
             ],
             [
              0.1111111111111111,
              "#46039f"
             ],
             [
              0.2222222222222222,
              "#7201a8"
             ],
             [
              0.3333333333333333,
              "#9c179e"
             ],
             [
              0.4444444444444444,
              "#bd3786"
             ],
             [
              0.5555555555555556,
              "#d8576b"
             ],
             [
              0.6666666666666666,
              "#ed7953"
             ],
             [
              0.7777777777777778,
              "#fb9f3a"
             ],
             [
              0.8888888888888888,
              "#fdca26"
             ],
             [
              1,
              "#f0f921"
             ]
            ],
            "type": "histogram2d"
           }
          ],
          "histogram2dcontour": [
           {
            "colorbar": {
             "outlinewidth": 0,
             "ticks": ""
            },
            "colorscale": [
             [
              0,
              "#0d0887"
             ],
             [
              0.1111111111111111,
              "#46039f"
             ],
             [
              0.2222222222222222,
              "#7201a8"
             ],
             [
              0.3333333333333333,
              "#9c179e"
             ],
             [
              0.4444444444444444,
              "#bd3786"
             ],
             [
              0.5555555555555556,
              "#d8576b"
             ],
             [
              0.6666666666666666,
              "#ed7953"
             ],
             [
              0.7777777777777778,
              "#fb9f3a"
             ],
             [
              0.8888888888888888,
              "#fdca26"
             ],
             [
              1,
              "#f0f921"
             ]
            ],
            "type": "histogram2dcontour"
           }
          ],
          "mesh3d": [
           {
            "colorbar": {
             "outlinewidth": 0,
             "ticks": ""
            },
            "type": "mesh3d"
           }
          ],
          "parcoords": [
           {
            "line": {
             "colorbar": {
              "outlinewidth": 0,
              "ticks": ""
             }
            },
            "type": "parcoords"
           }
          ],
          "pie": [
           {
            "automargin": true,
            "type": "pie"
           }
          ],
          "scatter": [
           {
            "fillpattern": {
             "fillmode": "overlay",
             "size": 10,
             "solidity": 0.2
            },
            "type": "scatter"
           }
          ],
          "scatter3d": [
           {
            "line": {
             "colorbar": {
              "outlinewidth": 0,
              "ticks": ""
             }
            },
            "marker": {
             "colorbar": {
              "outlinewidth": 0,
              "ticks": ""
             }
            },
            "type": "scatter3d"
           }
          ],
          "scattercarpet": [
           {
            "marker": {
             "colorbar": {
              "outlinewidth": 0,
              "ticks": ""
             }
            },
            "type": "scattercarpet"
           }
          ],
          "scattergeo": [
           {
            "marker": {
             "colorbar": {
              "outlinewidth": 0,
              "ticks": ""
             }
            },
            "type": "scattergeo"
           }
          ],
          "scattergl": [
           {
            "marker": {
             "colorbar": {
              "outlinewidth": 0,
              "ticks": ""
             }
            },
            "type": "scattergl"
           }
          ],
          "scattermap": [
           {
            "marker": {
             "colorbar": {
              "outlinewidth": 0,
              "ticks": ""
             }
            },
            "type": "scattermap"
           }
          ],
          "scattermapbox": [
           {
            "marker": {
             "colorbar": {
              "outlinewidth": 0,
              "ticks": ""
             }
            },
            "type": "scattermapbox"
           }
          ],
          "scatterpolar": [
           {
            "marker": {
             "colorbar": {
              "outlinewidth": 0,
              "ticks": ""
             }
            },
            "type": "scatterpolar"
           }
          ],
          "scatterpolargl": [
           {
            "marker": {
             "colorbar": {
              "outlinewidth": 0,
              "ticks": ""
             }
            },
            "type": "scatterpolargl"
           }
          ],
          "scatterternary": [
           {
            "marker": {
             "colorbar": {
              "outlinewidth": 0,
              "ticks": ""
             }
            },
            "type": "scatterternary"
           }
          ],
          "surface": [
           {
            "colorbar": {
             "outlinewidth": 0,
             "ticks": ""
            },
            "colorscale": [
             [
              0,
              "#0d0887"
             ],
             [
              0.1111111111111111,
              "#46039f"
             ],
             [
              0.2222222222222222,
              "#7201a8"
             ],
             [
              0.3333333333333333,
              "#9c179e"
             ],
             [
              0.4444444444444444,
              "#bd3786"
             ],
             [
              0.5555555555555556,
              "#d8576b"
             ],
             [
              0.6666666666666666,
              "#ed7953"
             ],
             [
              0.7777777777777778,
              "#fb9f3a"
             ],
             [
              0.8888888888888888,
              "#fdca26"
             ],
             [
              1,
              "#f0f921"
             ]
            ],
            "type": "surface"
           }
          ],
          "table": [
           {
            "cells": {
             "fill": {
              "color": "#EBF0F8"
             },
             "line": {
              "color": "white"
             }
            },
            "header": {
             "fill": {
              "color": "#C8D4E3"
             },
             "line": {
              "color": "white"
             }
            },
            "type": "table"
           }
          ]
         },
         "layout": {
          "annotationdefaults": {
           "arrowcolor": "#2a3f5f",
           "arrowhead": 0,
           "arrowwidth": 1
          },
          "autotypenumbers": "strict",
          "coloraxis": {
           "colorbar": {
            "outlinewidth": 0,
            "ticks": ""
           }
          },
          "colorscale": {
           "diverging": [
            [
             0,
             "#8e0152"
            ],
            [
             0.1,
             "#c51b7d"
            ],
            [
             0.2,
             "#de77ae"
            ],
            [
             0.3,
             "#f1b6da"
            ],
            [
             0.4,
             "#fde0ef"
            ],
            [
             0.5,
             "#f7f7f7"
            ],
            [
             0.6,
             "#e6f5d0"
            ],
            [
             0.7,
             "#b8e186"
            ],
            [
             0.8,
             "#7fbc41"
            ],
            [
             0.9,
             "#4d9221"
            ],
            [
             1,
             "#276419"
            ]
           ],
           "sequential": [
            [
             0,
             "#0d0887"
            ],
            [
             0.1111111111111111,
             "#46039f"
            ],
            [
             0.2222222222222222,
             "#7201a8"
            ],
            [
             0.3333333333333333,
             "#9c179e"
            ],
            [
             0.4444444444444444,
             "#bd3786"
            ],
            [
             0.5555555555555556,
             "#d8576b"
            ],
            [
             0.6666666666666666,
             "#ed7953"
            ],
            [
             0.7777777777777778,
             "#fb9f3a"
            ],
            [
             0.8888888888888888,
             "#fdca26"
            ],
            [
             1,
             "#f0f921"
            ]
           ],
           "sequentialminus": [
            [
             0,
             "#0d0887"
            ],
            [
             0.1111111111111111,
             "#46039f"
            ],
            [
             0.2222222222222222,
             "#7201a8"
            ],
            [
             0.3333333333333333,
             "#9c179e"
            ],
            [
             0.4444444444444444,
             "#bd3786"
            ],
            [
             0.5555555555555556,
             "#d8576b"
            ],
            [
             0.6666666666666666,
             "#ed7953"
            ],
            [
             0.7777777777777778,
             "#fb9f3a"
            ],
            [
             0.8888888888888888,
             "#fdca26"
            ],
            [
             1,
             "#f0f921"
            ]
           ]
          },
          "colorway": [
           "#636efa",
           "#EF553B",
           "#00cc96",
           "#ab63fa",
           "#FFA15A",
           "#19d3f3",
           "#FF6692",
           "#B6E880",
           "#FF97FF",
           "#FECB52"
          ],
          "font": {
           "color": "#2a3f5f"
          },
          "geo": {
           "bgcolor": "white",
           "lakecolor": "white",
           "landcolor": "#E5ECF6",
           "showlakes": true,
           "showland": true,
           "subunitcolor": "white"
          },
          "hoverlabel": {
           "align": "left"
          },
          "hovermode": "closest",
          "mapbox": {
           "style": "light"
          },
          "paper_bgcolor": "white",
          "plot_bgcolor": "#E5ECF6",
          "polar": {
           "angularaxis": {
            "gridcolor": "white",
            "linecolor": "white",
            "ticks": ""
           },
           "bgcolor": "#E5ECF6",
           "radialaxis": {
            "gridcolor": "white",
            "linecolor": "white",
            "ticks": ""
           }
          },
          "scene": {
           "xaxis": {
            "backgroundcolor": "#E5ECF6",
            "gridcolor": "white",
            "gridwidth": 2,
            "linecolor": "white",
            "showbackground": true,
            "ticks": "",
            "zerolinecolor": "white"
           },
           "yaxis": {
            "backgroundcolor": "#E5ECF6",
            "gridcolor": "white",
            "gridwidth": 2,
            "linecolor": "white",
            "showbackground": true,
            "ticks": "",
            "zerolinecolor": "white"
           },
           "zaxis": {
            "backgroundcolor": "#E5ECF6",
            "gridcolor": "white",
            "gridwidth": 2,
            "linecolor": "white",
            "showbackground": true,
            "ticks": "",
            "zerolinecolor": "white"
           }
          },
          "shapedefaults": {
           "line": {
            "color": "#2a3f5f"
           }
          },
          "ternary": {
           "aaxis": {
            "gridcolor": "white",
            "linecolor": "white",
            "ticks": ""
           },
           "baxis": {
            "gridcolor": "white",
            "linecolor": "white",
            "ticks": ""
           },
           "bgcolor": "#E5ECF6",
           "caxis": {
            "gridcolor": "white",
            "linecolor": "white",
            "ticks": ""
           }
          },
          "title": {
           "x": 0.05
          },
          "xaxis": {
           "automargin": true,
           "gridcolor": "white",
           "linecolor": "white",
           "ticks": "",
           "title": {
            "standoff": 15
           },
           "zerolinecolor": "white",
           "zerolinewidth": 2
          },
          "yaxis": {
           "automargin": true,
           "gridcolor": "white",
           "linecolor": "white",
           "ticks": "",
           "title": {
            "standoff": 15
           },
           "zerolinecolor": "white",
           "zerolinewidth": 2
          }
         }
        },
        "width": 700
       }
      }
     },
     "metadata": {},
     "output_type": "display_data"
    }
   ],
   "source": [
    "Puma560 = rsb.models.DH.Puma560()\n",
    "Puma560.plotly(Puma560.qr, fig=go.Figure(), isShow=False)"
   ]
  },
  {
   "cell_type": "markdown",
   "id": "Kclp",
   "metadata": {},
   "source": [
    "### Make a change\n",
    "\n",
    "Beginning with the default settings, we can easily adjust the robot's link length and actuator directions. These are important design parameters that we will explore further in the optimization chapter."
   ]
  },
  {
   "cell_type": "code",
   "execution_count": 7,
   "id": "emfo",
   "metadata": {},
   "outputs": [
    {
     "data": {
      "application/vnd.plotly.v1+json": {
       "config": {
        "plotlyServerURL": "https://plot.ly"
       },
       "data": [
        {
         "line": {
          "color": "#E1706E",
          "width": 14
         },
         "mode": "lines",
         "name": "Link1",
         "type": "scatter3d",
         "x": {
          "bdata": "AAAAAAAAAAAAAAAAAAAAAA==",
          "dtype": "f8"
         },
         "y": {
          "bdata": "AAAAAAAAAAAAAAAAAAAAAA==",
          "dtype": "f8"
         },
         "z": {
          "bdata": "AAAAAAAAAAAAAAAAAADgPw==",
          "dtype": "f8"
         }
        },
        {
         "line": {
          "color": "#E1706E",
          "width": 14
         },
         "mode": "lines",
         "name": "Link2",
         "type": "scatter3d",
         "x": {
          "bdata": "AAAAAAAAAAAAAAAAAADgvw==",
          "dtype": "f8"
         },
         "y": {
          "bdata": "AAAAAAAAAAAAAAAAAAAAAA==",
          "dtype": "f8"
         },
         "z": {
          "bdata": "AAAAAAAA4D8AAAAAAADgPw==",
          "dtype": "f8"
         }
        },
        {
         "line": {
          "color": "#E1706E",
          "width": 14
         },
         "mode": "lines",
         "name": "Link3",
         "type": "scatter3d",
         "x": {
          "bdata": "AAAAAAAA4L8AAAAAAADwvw==",
          "dtype": "f8"
         },
         "y": {
          "bdata": "AAAAAAAAAAAAAAAAAAAAAA==",
          "dtype": "f8"
         },
         "z": {
          "bdata": "AAAAAAAA4D8AAAAAAADgPw==",
          "dtype": "f8"
         }
        },
        {
         "line": {
          "color": "#E1706E",
          "width": 14
         },
         "mode": "lines",
         "name": "Link4",
         "type": "scatter3d",
         "x": {
          "bdata": "AAAAAAAA8L8AAAAAAAD4vw==",
          "dtype": "f8"
         },
         "y": {
          "bdata": "AAAAAAAAAAAAAAAAAAAAAA==",
          "dtype": "f8"
         },
         "z": {
          "bdata": "AAAAAAAA4D8AAAAAAADgPw==",
          "dtype": "f8"
         }
        },
        {
         "line": {
          "color": "#F84752",
          "width": 5
         },
         "mode": "lines",
         "name": "X0 Axis",
         "type": "scatter3d",
         "x": [
          0,
          0.16
         ],
         "y": [
          0,
          0
         ],
         "z": [
          0,
          0
         ]
        },
        {
         "cmax": 1,
         "cmin": 0,
         "colorscale": [
          [
           0,
           "#F84752"
          ],
          [
           1,
           "#F84752"
          ]
         ],
         "showscale": false,
         "sizemode": "absolute",
         "sizeref": 0.016,
         "type": "cone",
         "u": [
          1
         ],
         "v": [
          0
         ],
         "w": [
          0
         ],
         "x": [
          0.16
         ],
         "y": [
          0
         ],
         "z": [
          0
         ]
        },
        {
         "line": {
          "color": "#BBDA55",
          "width": 5
         },
         "mode": "lines",
         "name": "Y0 Axis",
         "type": "scatter3d",
         "x": [
          0,
          0
         ],
         "y": [
          0,
          0.16
         ],
         "z": [
          0,
          0
         ]
        },
        {
         "cmax": 1,
         "cmin": 0,
         "colorscale": [
          [
           0,
           "#BBDA55"
          ],
          [
           1,
           "#BBDA55"
          ]
         ],
         "showscale": false,
         "sizemode": "absolute",
         "sizeref": 0.016,
         "type": "cone",
         "u": [
          0
         ],
         "v": [
          1
         ],
         "w": [
          0
         ],
         "x": [
          0
         ],
         "y": [
          0.16
         ],
         "z": [
          0
         ]
        },
        {
         "line": {
          "color": "#8EC1E1",
          "width": 5
         },
         "mode": "lines",
         "name": "Z0 Axis",
         "type": "scatter3d",
         "x": [
          0,
          0
         ],
         "y": [
          0,
          0
         ],
         "z": [
          0,
          0.16
         ]
        },
        {
         "cmax": 1,
         "cmin": 0,
         "colorscale": [
          [
           0,
           "#8EC1E1"
          ],
          [
           1,
           "#8EC1E1"
          ]
         ],
         "showscale": false,
         "sizemode": "absolute",
         "sizeref": 0.016,
         "type": "cone",
         "u": [
          0
         ],
         "v": [
          0
         ],
         "w": [
          1
         ],
         "x": [
          0
         ],
         "y": [
          0
         ],
         "z": [
          0.16
         ]
        },
        {
         "line": {
          "color": "#F84752",
          "width": 5
         },
         "mode": "lines",
         "name": "X1 Axis",
         "type": "scatter3d",
         "x": [
          0,
          0.16
         ],
         "y": [
          0,
          0
         ],
         "z": [
          0.5,
          0.5
         ]
        },
        {
         "cmax": 1,
         "cmin": 0,
         "colorscale": [
          [
           0,
           "#F84752"
          ],
          [
           1,
           "#F84752"
          ]
         ],
         "showscale": false,
         "sizemode": "absolute",
         "sizeref": 0.016,
         "type": "cone",
         "u": [
          1
         ],
         "v": [
          0
         ],
         "w": [
          0
         ],
         "x": [
          0.16
         ],
         "y": [
          0
         ],
         "z": [
          0.5
         ]
        },
        {
         "line": {
          "color": "#BBDA55",
          "width": 5
         },
         "mode": "lines",
         "name": "Y1 Axis",
         "type": "scatter3d",
         "x": [
          0,
          0
         ],
         "y": [
          0,
          0.16
         ],
         "z": [
          0.5,
          0.5
         ]
        },
        {
         "cmax": 1,
         "cmin": 0,
         "colorscale": [
          [
           0,
           "#BBDA55"
          ],
          [
           1,
           "#BBDA55"
          ]
         ],
         "showscale": false,
         "sizemode": "absolute",
         "sizeref": 0.016,
         "type": "cone",
         "u": [
          0
         ],
         "v": [
          1
         ],
         "w": [
          0
         ],
         "x": [
          0
         ],
         "y": [
          0.16
         ],
         "z": [
          0.5
         ]
        },
        {
         "line": {
          "color": "#8EC1E1",
          "width": 5
         },
         "mode": "lines",
         "name": "Z1 Axis",
         "type": "scatter3d",
         "x": [
          0,
          0
         ],
         "y": [
          0,
          0
         ],
         "z": [
          0.5,
          0.66
         ]
        },
        {
         "cmax": 1,
         "cmin": 0,
         "colorscale": [
          [
           0,
           "#8EC1E1"
          ],
          [
           1,
           "#8EC1E1"
          ]
         ],
         "showscale": false,
         "sizemode": "absolute",
         "sizeref": 0.016,
         "type": "cone",
         "u": [
          0
         ],
         "v": [
          0
         ],
         "w": [
          1
         ],
         "x": [
          0
         ],
         "y": [
          0
         ],
         "z": [
          0.66
         ]
        },
        {
         "line": {
          "color": "#F84752",
          "width": 5
         },
         "mode": "lines",
         "name": "X2 Axis",
         "type": "scatter3d",
         "x": [
          -0.5,
          -0.33999999999999997
         ],
         "y": [
          0,
          0
         ],
         "z": [
          0.5,
          0.5
         ]
        },
        {
         "cmax": 1,
         "cmin": 0,
         "colorscale": [
          [
           0,
           "#F84752"
          ],
          [
           1,
           "#F84752"
          ]
         ],
         "showscale": false,
         "sizemode": "absolute",
         "sizeref": 0.016,
         "type": "cone",
         "u": [
          1
         ],
         "v": [
          0
         ],
         "w": [
          0
         ],
         "x": [
          -0.33999999999999997
         ],
         "y": [
          0
         ],
         "z": [
          0.5
         ]
        },
        {
         "line": {
          "color": "#BBDA55",
          "width": 5
         },
         "mode": "lines",
         "name": "Y2 Axis",
         "type": "scatter3d",
         "x": [
          -0.5,
          -0.5
         ],
         "y": [
          0,
          9.797174393178826e-18
         ],
         "z": [
          0.5,
          0.66
         ]
        },
        {
         "cmax": 1,
         "cmin": 0,
         "colorscale": [
          [
           0,
           "#BBDA55"
          ],
          [
           1,
           "#BBDA55"
          ]
         ],
         "showscale": false,
         "sizemode": "absolute",
         "sizeref": 0.016,
         "type": "cone",
         "u": [
          0
         ],
         "v": [
          6.123233995736766e-17
         ],
         "w": [
          1
         ],
         "x": [
          -0.5
         ],
         "y": [
          9.797174393178826e-18
         ],
         "z": [
          0.66
         ]
        },
        {
         "line": {
          "color": "#8EC1E1",
          "width": 5
         },
         "mode": "lines",
         "name": "Z2 Axis",
         "type": "scatter3d",
         "x": [
          -0.5,
          -0.5
         ],
         "y": [
          0,
          -0.16
         ],
         "z": [
          0.5,
          0.5
         ]
        },
        {
         "cmax": 1,
         "cmin": 0,
         "colorscale": [
          [
           0,
           "#8EC1E1"
          ],
          [
           1,
           "#8EC1E1"
          ]
         ],
         "showscale": false,
         "sizemode": "absolute",
         "sizeref": 0.016,
         "type": "cone",
         "u": [
          0
         ],
         "v": [
          -1
         ],
         "w": [
          6.123233995736766e-17
         ],
         "x": [
          -0.5
         ],
         "y": [
          -0.16
         ],
         "z": [
          0.5
         ]
        },
        {
         "line": {
          "color": "#F84752",
          "width": 5
         },
         "mode": "lines",
         "name": "X3 Axis",
         "type": "scatter3d",
         "x": [
          -1,
          -0.84
         ],
         "y": [
          0,
          0
         ],
         "z": [
          0.5,
          0.5
         ]
        },
        {
         "cmax": 1,
         "cmin": 0,
         "colorscale": [
          [
           0,
           "#F84752"
          ],
          [
           1,
           "#F84752"
          ]
         ],
         "showscale": false,
         "sizemode": "absolute",
         "sizeref": 0.016,
         "type": "cone",
         "u": [
          1
         ],
         "v": [
          0
         ],
         "w": [
          0
         ],
         "x": [
          -0.84
         ],
         "y": [
          0
         ],
         "z": [
          0.5
         ]
        },
        {
         "line": {
          "color": "#BBDA55",
          "width": 5
         },
         "mode": "lines",
         "name": "Y3 Axis",
         "type": "scatter3d",
         "x": [
          -1,
          -1
         ],
         "y": [
          0,
          -0.16
         ],
         "z": [
          0.5,
          0.5
         ]
        },
        {
         "cmax": 1,
         "cmin": 0,
         "colorscale": [
          [
           0,
           "#BBDA55"
          ],
          [
           1,
           "#BBDA55"
          ]
         ],
         "showscale": false,
         "sizemode": "absolute",
         "sizeref": 0.016,
         "type": "cone",
         "u": [
          0
         ],
         "v": [
          -1
         ],
         "w": [
          1.2246467991473532e-16
         ],
         "x": [
          -1
         ],
         "y": [
          -0.16
         ],
         "z": [
          0.5
         ]
        },
        {
         "line": {
          "color": "#8EC1E1",
          "width": 5
         },
         "mode": "lines",
         "name": "Z3 Axis",
         "type": "scatter3d",
         "x": [
          -1,
          -1
         ],
         "y": [
          0,
          -1.959434878635765e-17
         ],
         "z": [
          0.5,
          0.33999999999999997
         ]
        },
        {
         "cmax": 1,
         "cmin": 0,
         "colorscale": [
          [
           0,
           "#8EC1E1"
          ],
          [
           1,
           "#8EC1E1"
          ]
         ],
         "showscale": false,
         "sizemode": "absolute",
         "sizeref": 0.016,
         "type": "cone",
         "u": [
          0
         ],
         "v": [
          -1.2246467991473532e-16
         ],
         "w": [
          -1
         ],
         "x": [
          -1
         ],
         "y": [
          -1.959434878635765e-17
         ],
         "z": [
          0.33999999999999997
         ]
        },
        {
         "line": {
          "color": "#F84752",
          "width": 5
         },
         "mode": "lines",
         "name": "X4 Axis",
         "type": "scatter3d",
         "x": [
          -1.5,
          -1.42
         ],
         "y": [
          0,
          0
         ],
         "z": [
          0.5,
          0.5
         ]
        },
        {
         "cmax": 1,
         "cmin": 0,
         "colorscale": [
          [
           0,
           "#F84752"
          ],
          [
           1,
           "#F84752"
          ]
         ],
         "showscale": false,
         "sizemode": "absolute",
         "sizeref": 0.008,
         "type": "cone",
         "u": [
          1
         ],
         "v": [
          0
         ],
         "w": [
          0
         ],
         "x": [
          -1.42
         ],
         "y": [
          0
         ],
         "z": [
          0.5
         ]
        },
        {
         "line": {
          "color": "#BBDA55",
          "width": 5
         },
         "mode": "lines",
         "name": "Y4 Axis",
         "type": "scatter3d",
         "x": [
          -1.5,
          -1.5
         ],
         "y": [
          0,
          -0.08
         ],
         "z": [
          0.5,
          0.5
         ]
        },
        {
         "cmax": 1,
         "cmin": 0,
         "colorscale": [
          [
           0,
           "#BBDA55"
          ],
          [
           1,
           "#BBDA55"
          ]
         ],
         "showscale": false,
         "sizemode": "absolute",
         "sizeref": 0.008,
         "type": "cone",
         "u": [
          0
         ],
         "v": [
          -1
         ],
         "w": [
          1.2246467991473532e-16
         ],
         "x": [
          -1.5
         ],
         "y": [
          -0.08
         ],
         "z": [
          0.5
         ]
        },
        {
         "line": {
          "color": "#8EC1E1",
          "width": 5
         },
         "mode": "lines",
         "name": "Z4 Axis",
         "type": "scatter3d",
         "x": [
          -1.5,
          -1.5
         ],
         "y": [
          0,
          -9.797174393178826e-18
         ],
         "z": [
          0.5,
          0.42
         ]
        },
        {
         "cmax": 1,
         "cmin": 0,
         "colorscale": [
          [
           0,
           "#8EC1E1"
          ],
          [
           1,
           "#8EC1E1"
          ]
         ],
         "showscale": false,
         "sizemode": "absolute",
         "sizeref": 0.008,
         "type": "cone",
         "u": [
          0
         ],
         "v": [
          -1.2246467991473532e-16
         ],
         "w": [
          -1
         ],
         "x": [
          -1.5
         ],
         "y": [
          -9.797174393178826e-18
         ],
         "z": [
          0.42
         ]
        }
       ],
       "layout": {
        "height": 600,
        "scene": {
         "aspectmode": "cube",
         "camera": {
          "center": {
           "x": 0,
           "y": 0,
           "z": 0
          },
          "eye": {
           "x": 2.3717082451262845,
           "y": -2.3717082451262845,
           "z": 2.3717082451262845
          },
          "up": {
           "x": 0,
           "y": 0,
           "z": 1
          }
         },
         "xaxis": {
          "nticks": 10,
          "range": [
           -1.739252713092609,
           1.739252713092609
          ],
          "title": {
           "text": "X"
          }
         },
         "yaxis": {
          "nticks": 10,
          "range": [
           -1.739252713092609,
           1.739252713092609
          ],
          "title": {
           "text": "Y"
          }
         },
         "zaxis": {
          "nticks": 10,
          "range": [
           -1.739252713092609,
           1.739252713092609
          ],
          "title": {
           "text": "Z"
          }
         }
        },
        "template": {
         "data": {
          "bar": [
           {
            "error_x": {
             "color": "#2a3f5f"
            },
            "error_y": {
             "color": "#2a3f5f"
            },
            "marker": {
             "line": {
              "color": "#E5ECF6",
              "width": 0.5
             },
             "pattern": {
              "fillmode": "overlay",
              "size": 10,
              "solidity": 0.2
             }
            },
            "type": "bar"
           }
          ],
          "barpolar": [
           {
            "marker": {
             "line": {
              "color": "#E5ECF6",
              "width": 0.5
             },
             "pattern": {
              "fillmode": "overlay",
              "size": 10,
              "solidity": 0.2
             }
            },
            "type": "barpolar"
           }
          ],
          "carpet": [
           {
            "aaxis": {
             "endlinecolor": "#2a3f5f",
             "gridcolor": "white",
             "linecolor": "white",
             "minorgridcolor": "white",
             "startlinecolor": "#2a3f5f"
            },
            "baxis": {
             "endlinecolor": "#2a3f5f",
             "gridcolor": "white",
             "linecolor": "white",
             "minorgridcolor": "white",
             "startlinecolor": "#2a3f5f"
            },
            "type": "carpet"
           }
          ],
          "choropleth": [
           {
            "colorbar": {
             "outlinewidth": 0,
             "ticks": ""
            },
            "type": "choropleth"
           }
          ],
          "contour": [
           {
            "colorbar": {
             "outlinewidth": 0,
             "ticks": ""
            },
            "colorscale": [
             [
              0,
              "#0d0887"
             ],
             [
              0.1111111111111111,
              "#46039f"
             ],
             [
              0.2222222222222222,
              "#7201a8"
             ],
             [
              0.3333333333333333,
              "#9c179e"
             ],
             [
              0.4444444444444444,
              "#bd3786"
             ],
             [
              0.5555555555555556,
              "#d8576b"
             ],
             [
              0.6666666666666666,
              "#ed7953"
             ],
             [
              0.7777777777777778,
              "#fb9f3a"
             ],
             [
              0.8888888888888888,
              "#fdca26"
             ],
             [
              1,
              "#f0f921"
             ]
            ],
            "type": "contour"
           }
          ],
          "contourcarpet": [
           {
            "colorbar": {
             "outlinewidth": 0,
             "ticks": ""
            },
            "type": "contourcarpet"
           }
          ],
          "heatmap": [
           {
            "colorbar": {
             "outlinewidth": 0,
             "ticks": ""
            },
            "colorscale": [
             [
              0,
              "#0d0887"
             ],
             [
              0.1111111111111111,
              "#46039f"
             ],
             [
              0.2222222222222222,
              "#7201a8"
             ],
             [
              0.3333333333333333,
              "#9c179e"
             ],
             [
              0.4444444444444444,
              "#bd3786"
             ],
             [
              0.5555555555555556,
              "#d8576b"
             ],
             [
              0.6666666666666666,
              "#ed7953"
             ],
             [
              0.7777777777777778,
              "#fb9f3a"
             ],
             [
              0.8888888888888888,
              "#fdca26"
             ],
             [
              1,
              "#f0f921"
             ]
            ],
            "type": "heatmap"
           }
          ],
          "histogram": [
           {
            "marker": {
             "pattern": {
              "fillmode": "overlay",
              "size": 10,
              "solidity": 0.2
             }
            },
            "type": "histogram"
           }
          ],
          "histogram2d": [
           {
            "colorbar": {
             "outlinewidth": 0,
             "ticks": ""
            },
            "colorscale": [
             [
              0,
              "#0d0887"
             ],
             [
              0.1111111111111111,
              "#46039f"
             ],
             [
              0.2222222222222222,
              "#7201a8"
             ],
             [
              0.3333333333333333,
              "#9c179e"
             ],
             [
              0.4444444444444444,
              "#bd3786"
             ],
             [
              0.5555555555555556,
              "#d8576b"
             ],
             [
              0.6666666666666666,
              "#ed7953"
             ],
             [
              0.7777777777777778,
              "#fb9f3a"
             ],
             [
              0.8888888888888888,
              "#fdca26"
             ],
             [
              1,
              "#f0f921"
             ]
            ],
            "type": "histogram2d"
           }
          ],
          "histogram2dcontour": [
           {
            "colorbar": {
             "outlinewidth": 0,
             "ticks": ""
            },
            "colorscale": [
             [
              0,
              "#0d0887"
             ],
             [
              0.1111111111111111,
              "#46039f"
             ],
             [
              0.2222222222222222,
              "#7201a8"
             ],
             [
              0.3333333333333333,
              "#9c179e"
             ],
             [
              0.4444444444444444,
              "#bd3786"
             ],
             [
              0.5555555555555556,
              "#d8576b"
             ],
             [
              0.6666666666666666,
              "#ed7953"
             ],
             [
              0.7777777777777778,
              "#fb9f3a"
             ],
             [
              0.8888888888888888,
              "#fdca26"
             ],
             [
              1,
              "#f0f921"
             ]
            ],
            "type": "histogram2dcontour"
           }
          ],
          "mesh3d": [
           {
            "colorbar": {
             "outlinewidth": 0,
             "ticks": ""
            },
            "type": "mesh3d"
           }
          ],
          "parcoords": [
           {
            "line": {
             "colorbar": {
              "outlinewidth": 0,
              "ticks": ""
             }
            },
            "type": "parcoords"
           }
          ],
          "pie": [
           {
            "automargin": true,
            "type": "pie"
           }
          ],
          "scatter": [
           {
            "fillpattern": {
             "fillmode": "overlay",
             "size": 10,
             "solidity": 0.2
            },
            "type": "scatter"
           }
          ],
          "scatter3d": [
           {
            "line": {
             "colorbar": {
              "outlinewidth": 0,
              "ticks": ""
             }
            },
            "marker": {
             "colorbar": {
              "outlinewidth": 0,
              "ticks": ""
             }
            },
            "type": "scatter3d"
           }
          ],
          "scattercarpet": [
           {
            "marker": {
             "colorbar": {
              "outlinewidth": 0,
              "ticks": ""
             }
            },
            "type": "scattercarpet"
           }
          ],
          "scattergeo": [
           {
            "marker": {
             "colorbar": {
              "outlinewidth": 0,
              "ticks": ""
             }
            },
            "type": "scattergeo"
           }
          ],
          "scattergl": [
           {
            "marker": {
             "colorbar": {
              "outlinewidth": 0,
              "ticks": ""
             }
            },
            "type": "scattergl"
           }
          ],
          "scattermap": [
           {
            "marker": {
             "colorbar": {
              "outlinewidth": 0,
              "ticks": ""
             }
            },
            "type": "scattermap"
           }
          ],
          "scattermapbox": [
           {
            "marker": {
             "colorbar": {
              "outlinewidth": 0,
              "ticks": ""
             }
            },
            "type": "scattermapbox"
           }
          ],
          "scatterpolar": [
           {
            "marker": {
             "colorbar": {
              "outlinewidth": 0,
              "ticks": ""
             }
            },
            "type": "scatterpolar"
           }
          ],
          "scatterpolargl": [
           {
            "marker": {
             "colorbar": {
              "outlinewidth": 0,
              "ticks": ""
             }
            },
            "type": "scatterpolargl"
           }
          ],
          "scatterternary": [
           {
            "marker": {
             "colorbar": {
              "outlinewidth": 0,
              "ticks": ""
             }
            },
            "type": "scatterternary"
           }
          ],
          "surface": [
           {
            "colorbar": {
             "outlinewidth": 0,
             "ticks": ""
            },
            "colorscale": [
             [
              0,
              "#0d0887"
             ],
             [
              0.1111111111111111,
              "#46039f"
             ],
             [
              0.2222222222222222,
              "#7201a8"
             ],
             [
              0.3333333333333333,
              "#9c179e"
             ],
             [
              0.4444444444444444,
              "#bd3786"
             ],
             [
              0.5555555555555556,
              "#d8576b"
             ],
             [
              0.6666666666666666,
              "#ed7953"
             ],
             [
              0.7777777777777778,
              "#fb9f3a"
             ],
             [
              0.8888888888888888,
              "#fdca26"
             ],
             [
              1,
              "#f0f921"
             ]
            ],
            "type": "surface"
           }
          ],
          "table": [
           {
            "cells": {
             "fill": {
              "color": "#EBF0F8"
             },
             "line": {
              "color": "white"
             }
            },
            "header": {
             "fill": {
              "color": "#C8D4E3"
             },
             "line": {
              "color": "white"
             }
            },
            "type": "table"
           }
          ]
         },
         "layout": {
          "annotationdefaults": {
           "arrowcolor": "#2a3f5f",
           "arrowhead": 0,
           "arrowwidth": 1
          },
          "autotypenumbers": "strict",
          "coloraxis": {
           "colorbar": {
            "outlinewidth": 0,
            "ticks": ""
           }
          },
          "colorscale": {
           "diverging": [
            [
             0,
             "#8e0152"
            ],
            [
             0.1,
             "#c51b7d"
            ],
            [
             0.2,
             "#de77ae"
            ],
            [
             0.3,
             "#f1b6da"
            ],
            [
             0.4,
             "#fde0ef"
            ],
            [
             0.5,
             "#f7f7f7"
            ],
            [
             0.6,
             "#e6f5d0"
            ],
            [
             0.7,
             "#b8e186"
            ],
            [
             0.8,
             "#7fbc41"
            ],
            [
             0.9,
             "#4d9221"
            ],
            [
             1,
             "#276419"
            ]
           ],
           "sequential": [
            [
             0,
             "#0d0887"
            ],
            [
             0.1111111111111111,
             "#46039f"
            ],
            [
             0.2222222222222222,
             "#7201a8"
            ],
            [
             0.3333333333333333,
             "#9c179e"
            ],
            [
             0.4444444444444444,
             "#bd3786"
            ],
            [
             0.5555555555555556,
             "#d8576b"
            ],
            [
             0.6666666666666666,
             "#ed7953"
            ],
            [
             0.7777777777777778,
             "#fb9f3a"
            ],
            [
             0.8888888888888888,
             "#fdca26"
            ],
            [
             1,
             "#f0f921"
            ]
           ],
           "sequentialminus": [
            [
             0,
             "#0d0887"
            ],
            [
             0.1111111111111111,
             "#46039f"
            ],
            [
             0.2222222222222222,
             "#7201a8"
            ],
            [
             0.3333333333333333,
             "#9c179e"
            ],
            [
             0.4444444444444444,
             "#bd3786"
            ],
            [
             0.5555555555555556,
             "#d8576b"
            ],
            [
             0.6666666666666666,
             "#ed7953"
            ],
            [
             0.7777777777777778,
             "#fb9f3a"
            ],
            [
             0.8888888888888888,
             "#fdca26"
            ],
            [
             1,
             "#f0f921"
            ]
           ]
          },
          "colorway": [
           "#636efa",
           "#EF553B",
           "#00cc96",
           "#ab63fa",
           "#FFA15A",
           "#19d3f3",
           "#FF6692",
           "#B6E880",
           "#FF97FF",
           "#FECB52"
          ],
          "font": {
           "color": "#2a3f5f"
          },
          "geo": {
           "bgcolor": "white",
           "lakecolor": "white",
           "landcolor": "#E5ECF6",
           "showlakes": true,
           "showland": true,
           "subunitcolor": "white"
          },
          "hoverlabel": {
           "align": "left"
          },
          "hovermode": "closest",
          "mapbox": {
           "style": "light"
          },
          "paper_bgcolor": "white",
          "plot_bgcolor": "#E5ECF6",
          "polar": {
           "angularaxis": {
            "gridcolor": "white",
            "linecolor": "white",
            "ticks": ""
           },
           "bgcolor": "#E5ECF6",
           "radialaxis": {
            "gridcolor": "white",
            "linecolor": "white",
            "ticks": ""
           }
          },
          "scene": {
           "xaxis": {
            "backgroundcolor": "#E5ECF6",
            "gridcolor": "white",
            "gridwidth": 2,
            "linecolor": "white",
            "showbackground": true,
            "ticks": "",
            "zerolinecolor": "white"
           },
           "yaxis": {
            "backgroundcolor": "#E5ECF6",
            "gridcolor": "white",
            "gridwidth": 2,
            "linecolor": "white",
            "showbackground": true,
            "ticks": "",
            "zerolinecolor": "white"
           },
           "zaxis": {
            "backgroundcolor": "#E5ECF6",
            "gridcolor": "white",
            "gridwidth": 2,
            "linecolor": "white",
            "showbackground": true,
            "ticks": "",
            "zerolinecolor": "white"
           }
          },
          "shapedefaults": {
           "line": {
            "color": "#2a3f5f"
           }
          },
          "ternary": {
           "aaxis": {
            "gridcolor": "white",
            "linecolor": "white",
            "ticks": ""
           },
           "baxis": {
            "gridcolor": "white",
            "linecolor": "white",
            "ticks": ""
           },
           "bgcolor": "#E5ECF6",
           "caxis": {
            "gridcolor": "white",
            "linecolor": "white",
            "ticks": ""
           }
          },
          "title": {
           "x": 0.05
          },
          "xaxis": {
           "automargin": true,
           "gridcolor": "white",
           "linecolor": "white",
           "ticks": "",
           "title": {
            "standoff": 15
           },
           "zerolinecolor": "white",
           "zerolinewidth": 2
          },
          "yaxis": {
           "automargin": true,
           "gridcolor": "white",
           "linecolor": "white",
           "ticks": "",
           "title": {
            "standoff": 15
           },
           "zerolinecolor": "white",
           "zerolinewidth": 2
          }
         }
        },
        "width": 700
       }
      }
     },
     "metadata": {},
     "output_type": "display_data"
    }
   ],
   "source": [
    "new_robot = generic.GenericFour(\n",
    "                linklengths=[0.5, 0.5, 0.5, 0.5], \n",
    "                alpha=[0, np.pi/2, np.pi/2, 0],\n",
    "            )\n",
    "\n",
    "new_robot.plotly(new_robot.qz, fig=go.Figure(), isShow=False)"
   ]
  },
  {
   "cell_type": "markdown",
   "id": "Hstk",
   "metadata": {},
   "source": [
    "## Workspace Analysis"
   ]
  },
  {
   "cell_type": "markdown",
   "id": "nWHF",
   "metadata": {},
   "source": [
    "### Link Length Influence"
   ]
  },
  {
   "cell_type": "code",
   "execution_count": 8,
   "id": "iLit",
   "metadata": {},
   "outputs": [
    {
     "name": "stdout",
     "output_type": "stream",
     "text": [
      "The Global Manipulability of a planar robot with 4 Dofs is 0.10243611551342065\n"
     ]
    },
    {
     "name": "stderr",
     "output_type": "stream",
     "text": [
      "/Users/chaoyue/miniconda3/envs/robosandbox3.9/lib/python3.9/site-packages/robosandbox/performance/workspace/base_workspace.py:27: FutureWarning:\n",
      "\n",
      "The behavior of DataFrame concatenation with empty or all-NA entries is deprecated. In a future version, this will no longer exclude empty or all-NA columns when determining the result dtypes. To retain the old behavior, exclude the relevant entries before the concat operation.\n",
      "\n"
     ]
    }
   ],
   "source": [
    "from robosandbox.performance.workspace import WorkSpace\n",
    "np.random.seed(42)\n",
    "\n",
    "robot_planar = rsb.models.DH.Generic.GenericFour()\n",
    "ws = WorkSpace(robot_planar)\n",
    "method = \"yoshikawa\"\n",
    "axes = \"trans\"\n",
    "\n",
    "G = ws.global_indice(\n",
    "    initial_samples=5000,\n",
    "    batch_ratio=0.1,\n",
    "    error_tolerance_percentage=1e-2,\n",
    "    method=\"yoshikawa\", \n",
    "    axes=axes,\n",
    "    max_samples=20000, \n",
    "    is_normalized=False\n",
    ")\n",
    "print(f\"The Global Manipulability of a planar robot with 4 Dofs is {G}\")"
   ]
  },
  {
   "cell_type": "code",
   "execution_count": 9,
   "id": "ZHCJ",
   "metadata": {},
   "outputs": [
    {
     "data": {
      "application/vnd.plotly.v1+json": {
       "config": {
        "plotlyServerURL": "https://plot.ly"
       },
       "data": [
        {
         "marker": {
          "color": {
           "bdata": "0pBxJb5Oxz+tObmyh5i2P/ZKKCcnNoE/NBAmwTMEgT92ciPhk4/UP0sOwoGuAdM/xnWYDrbazj8UYND+FOvQPydWVQlwXHk/vt1mALwGtj+rpJn55cuoPy8/digVB9Q/eSYq6VrTrj8qZWo4VoqmP9PYsctNCKU/HUOZSZm1zj9Ub/ekMTXEP3Dwzw17P8o/ZE+e0bigyD+gSE9p4fCsP9eMnW9VHJc/16a6nvZS0T/S6IWLXS6tP+c9W8HzTm8/8UMCQRSiqD9FLtewwh/VP4O+G0h7ZqY/6/XlWzqTpj98xczq7DayP7aRkEggOrk/Ajd7mdITej8Csj+wuL58P/hx3qqCg8k/vfYeLxrtvT+Tf+4+iSiQP4RRreX4IMI/pIvqoIu2yT91ba6MVy7EP/DuIUB7uJQ/abjkABaQvj+yfdqy1oCgPwr3BUWU9q8/ar248ck5sD8LGMab1C+rPzXcY8EIorg/+KdYUx7Zoj9VMT/TdivHP/r2F+n5WKY/Kf6dp7JX1j9rKPVHDjuWPwkeB4EETr0/xGAaI7iqpj9b9NmpQZN0PwPnNOXJX6E/jhqq3+yLsj87xV4DRoqiP60tBNEQG7E/PmErA0Sjwz+GT2O8dq3FP5Mk972L0NA/+TAYf3seoz9hbFlR3Y+uPxKGTQ7xLsQ/b4t0xyhvyT8Ls3b5+mC3P1t/dJu3T6A/P6T1NmRKzT+UeDI9dN2LP4c347hJmp4/m5pfZR61sD90FOHfjoRoP9r9x4HCVrU/TRNZweYCkD/ATZ0CRorCP3hPLaUWva0/4LJ1A4fa0j8GhauoMn3UP6EpjRK06ZQ/ugQFdlRnnT9CW6uDCPhzP60nBhuLvIE/qE1Z4xrSwD9b1KK5QuGUPxvfpoAbOo0/6kUxpLoGsz85EGM0hDSuP6WXwFo/sLQ/D/OQewTgqD89aVXmL929P6zDUk4fhqM/I50suWrPrz8LX1hVNwiEP9UTnVCmu54/DOuU2LFInT/Fg+VUXevBP7xwGexMKaA/4bup6ON+qj9vUMnDc22QP8bleLVAaaI/s278YiDfpj/FAtHeGyHPP9+wWjG8EZk/08H50Z31tj9+EKXdcyTCP2nXYR4eWco/FDMJGhhDtz/DM6qDm3jBP5I5K5fvdck/bKPk7afJwD9nIBENFV2wP755yY6CoM8/qTO0bON+nz8yCpUpOcq3P4LVSZd507o/Z4nETx34oT8x5ftnOzvHP6HZgEVhZ8A/ssOWjr7UkD9bExGk2g92P9iVDGwkV5Y/OA2dXRNssT8cgW3Epg5HP+2c4Ssxh8k/tToWaBao0T8UVGa0g7mHP2dEOgJm+s8/viPaf3kDnD+ehCG3F56cPzeDjhsaHZE/ThpMDAaYsz8Ms+xMI86OP7XqNYHk38g/IeYvxlnjoz/MC88Gxr+cP1iEGo0lOLU/xmViJTIx0T9v4eAAU7S9P+9XzrZC778/vkFP0dkRsD8ljjsnMIV/P90lFjYtY34/lEmwCDQ31j8iCVdoGhTSP76DhyXPq50/d8InZzDKyj+x+XxBdbDUP/QcojbLbJw/OXcL5NNryz/rvSrvKpSzP0KSW3a61I4/qVdwXQSwgD/RWVtdZ3SwP42ukf/1GL0/1FSqrEKEnT/c7UR7dgaoP59z9ak3i80/FZDtdGWH0z8vKlwZ2BmQP0DvsJ1OeKQ/WH8CpicK0j9KocMU1i3CP9/yPIyhYtg/6aIFdKwwqT+ZKNRf4Qy0P4VJdLZP2tc/BNXq0DPZ0z+MF3FwP0+dP+5GcmawX4Y/CrACoUVwqT91rF6SWG5WP7sd0tM5c8o/Rr4WaHbu1D8z5e8I2+vWP6uGgx9+Ysg/WNc7l37/sD8UroQL9VSrP/o0QKFQe9A/WURSXd8rzD9Zz5cHhkW/P4dqrGascrA/HzhPuyw3wz8pkyBvB5CdP1PgtpnVpMQ/5BSjb0Q6yT9SQy7jtWmgPziI54AoYtQ/by1qxGv1uz9MNKuWdpyuP1vklAG+SqM/UT/kZimRgT9ft8smR66YP1gdZ43wTX4/afwaMMtnmj9SKYqFTUrFPwEQLNEmXtA/j/b1ZVBjtj+izZp7RhnFP//FlvbSop8/6cyjae5qsj85w8KBq72QP4rOsgRhjps/nEu1vXy+kj9ZxS2XnIKwP9hPcdFi1Jo/3GptRBdJmD+LHEVo+bHNP0fSUZ9G26I/6srUqUf+mT/7okfyTy3BP4FRBPlx/9c/U8xfddA9qT/KtDKJDvacPz/JhUbiar8/O7ZwJx5Zkj+Mm+iU0a23P/78uhPOyr8/OK1hORpndD+MdBwxp6G1P1ufl/oPPaw/H86ndjUCrT+ntUQ5h+aCP3FXE/2yyLo/E8beYa9OoD8fNf58PD/NP0U5JnoHaKY/NVmQRM9MwD+MDR77yHbPP5Ooo2egYcs/rWeINd4QvD9SbTGUgmzHP7B8EeoCiYQ/9R2BINlLzT+wL7fOiGm0P3VNP7VgMJs/G/5HV5eouT/13DOl1sWZP2cPK1peObk/93NZJtaztD9GkEua5UrFPwpPkVAyvsg/5irH0ZDByD/wuzNFbETOP8pyZ9Ik2Jg/XsZh9JuYsD/fFt+nKTnMP5hGolWKCpE//a4kb3PFzT9S9/nCAye1P5cIiQQx1KQ/w2fbQmWKsz/eSnrfwGqhP+1mM3JpCpw/xHzMAQ9lsj+1x8ugV8KTP55zBfss0KE/JZUTJaJgbj8TtQAu+pNmP78nDIZxtrU/goFNt3/hwD9ddKHgSa+YPzB5nNTmuq0/5wO0FR+6oT/nyUXmUfWwP6EpJOFSNac/G41epzC+0D/njO+eODTIP0UEK/OrIIM/qJEIyGJtwD+4HDcFRBSmP8NtuUY6LKo/T1X/9FB3wD8L93rbuSrPPwcL/J4xQHg/PO8ASE7qdT8H39Qx6si+P1OuHMW4WZo/R+m/DSeNvj+6LlB0o1p/PwfxsD5q4s8/IkfGvtf2Yz9n5/fHnUuCP8cA8UlqRaM/vaKb3DxX0j+kJg7N1+ShP8LHTD2t88s/tgI+xSKN1z9lwxEV6D20Pwax5UuGqqw/huBpmMd0wD+73qYuxvKnPxarXESzxcw/1E9x9CaQyD+ftXqNDT2DP/35RQPi88w/A6ft+OGxuz+wOUQMa8OYP1vNNe354r4/+LgIonUltz+BSX85kE21P57hopf1Xsc/i0GB4RJBqD/Q8ldMT6XKPym/U6rUaNA/3eolkX3Nvj+6k3eDhie0P53ZrF3tU6E/tsJH60oK1T818lxbXXnEP26N/xi9sck/BCTE4AP0sD+krXHpgE6UPyT2OiUgyZY/dMilyzRxvz+TBphaRy+lP0fqe4OHeKk/CyX50SXHyj/adzX1BlrSPyGTUd8876c/yHcqcS9avT9Y4I7hEACmP9XRew/X3IY/XWojH37zpj81/ejV1HO5P5si/z8mDJw/qrFnM+iNkD+VDDZEqp+wP30MzlrACbQ/eF855wgogz9wHdTqhQnCP5uszW6RK4A/u9uLXL06qD+pNI3KSI+IPxfbdAVm99I/5mKwtn7Lpj/VKIUPyHt9P3L4i++NBqA/NWRGsH37sD9JbQ0rKCq0P3SUQz3lWqs/LLLv1QpMuD8EjDSFp5/JP7L71l3mi3c/wF+eYLn1tD/o6NuGGnfGP7ziDY0w+so/eZs/UjULtj+S17tN+/a8P/q9BXc/7ZU/uoP3AfAN0D8SCMBFoKTQP3FvyoQUd70/famTZG6LgT8zXlDFAv5/P+CgOEW1KaU/59kS1Wrypz8hoUg6hqyZP/ol1w1GT5g/P3FB4PULqj8A9+05RyKPP1Y0beqE0s4/oEznj3vmuT8/10NZxY+lPyVXfuILZqw/b0vmssQspj8YafHaHNDQP0Sqw2vEW8Y/c6mfibl6rj/2h7XwHzLRP5D3RqW8wMI/RCe7w1wT0T/8c92oOm+RP7rIZfCEtcg/IhvFR/1hqz+z7dq9yp3AP33BLuFfg8w/CKtYnM1doz+HITyad4fQPwk9M08RcbA/8tEue8FFrD+d2gfo7b24P8vCgc39AJU/SjLniJanzD8BKjG/1gjQPzzrLPecDqs/H7HIXGylzj9TobVK6k/TP7YFDFoPAp0/SkyHOfb7mD+yMPykS9ejP8YGppOy4og/reCqCAEMwT/2i3EBuUrCPyDDh3iBtsw/RGfGPv3ggz89zcnaYzClP3mARKw0m8s/EXL5INvvmj/DaPz1z12DP9iF+X3yirQ/YZKRjyugtT8MxqbQfg7HP7AiUBmSHrY/j2gPrTIVrj9WgwoUVQyiP2hgH7Fn2qM/rw5zUYzckz/S6bObwJvRP2LFlwXKFdA/ZxbdkiYCwz+EHQJd55yhPyo+ydML89A/pD+qsggytz8+t6cUtiurPxlsRERB65U/wDik9oGVsD/+UVmz3PytP2ALcPKbxas/5eHxOu/DvT+yosvKrMPNP5Er1Ouut4A/bI/zyHkdtz8/QfIH3kKVP+oO+lzN7Mw/VxSg3Lz6mT+zBkRcpjuUP7OBBCGYQb0/Nr01xW5kzT8FkKu9wyCIP8r+3oIYDJc/lsKl6/dStz+nkIl8jeWcP13FzA3GcGA/wN7hqhiH0D8dSIiWmlKxP1TjjgmCjdU/6RTVRzxeez9LKerjB9p4P3fEpJGKAtI/+8zL8whzsT9UyKGg9YmmP44rWNxvLro/ArfMi7SY1D8TCJBqS2zTP7EAkzA/cM0/zK8ZFwR/xT9Ocec9ROfPP0J6HHGfZNg/E+vYK/Kuwz9IOW+k5KRyP9+hPpBw8pc/OlIbs8Ww0T+IEOfWup6mP4Z9XZKycaA/myN3/2PDpD/8mcRhSNO0P+2jwADamJw/ThoTTV1Dmj+bxL4ctQ2bP88IjJdwDcA/71W9MQO3wj8P9iMJpPXIP13l+uBfh4w/wOOXYLGzxj9X3E0jd2jEP/qF/QFGo5o/Ztz5UDmczT+R4RIISsKjP/gg40o6bLc/vdwO6OYR1T9157lOF+3NP5hQdVZz0c0/MWOqDGAYkT82+JOAWuOrP8z8A9gYMsA/9lLq7Pa3vD+YuNk57eK3P7+bxDv/grs/Uyz/ETCjvj9uISyvEFvSP6g6sh1szdc/wuIRc7CszT+QJ5h7Nim9P0ZRaOGdz8k/w1BOSLe8nD88fcqL8z56P70fSQ7t8rU/UOT7rcQRwT9nvDug5uhhP/UhFq1VZ5I/dJu8onoTxj9nMO5Xpn7IP0ECWVjO/6I/jCxiXW1FsD920+Y7r0q/P1aRncbhkWA/36ErYhw0kj9R6dEU0WaZP1AKIN4HSKA/vpmLxHxiwz95ei1w+vKmP+HSlO1qSsM/AVacZPFPvj8rLt0QkcSfPzzHP3NXzsA/DlfjXYTKtD+iRoBloEuhP26jOONafHE/1eINef5E0T+2k70Voo7PP4Su2LFxoa4/woYWgvFixD8iuz5Y78zDP2dMHPfKpME/JG9UHnTcmz8FFR9Uy5LWP1uyXBVmcKs/mkx6nNCPsT/m/X9tX8vTP53pKWYLKFI/xv/QT2Hvkz/KIAQN0C63P3q4y0iw0J8/bLd47yyunT9TlIqy+ubPP/fIja0N1Lc/ikR68qZHxT/1gAUpZIs7P+PmIYrsWYY/UI8nHLTFxj/9n2aoQC23P3C8jbzJE6k/fM/p5q8Bwz8gwlKOrdCmP32r14zuypA/Bqz+5jSlsz/xRRV1ljzJP+lUz7MYEmI/2FNsps9xrT8j5Z0b6bFxP2NZjJZcI9E/RgAxzfY7xT+7O4gD/cfJPz4Txm8INaw/EIRQw5SmsD+yNndyaCyxP9Ex9beIAaw/spbgB5QLlj9T9MUSI6u2P50NoUcLDJc/cnTtBrwrwz8h7gcH8UWUP3HG1vtuNMU/dhqxSg5pnz8v7PP+4jHQPxAdIFtMnLA/64a568YLnD8NX1mEPATIP74x5jDAZKI/t4zUD5Lx1z8hfkE1IWiiP7hJrvcg7Js/EVaDIZgVtj+bd+vnl/2yP0kW8Yxvpqc/3wM0zKSzsj86DhplhIi9P7YdXl/3OX8/HfY5ip9wqT8DXnRip9SVP0PMi7d90MA/57Tfbq5Ojz9LgLwI3564P4W48h8h0Lk/8sVfT4y7cz/ArR/OLaSlP/0lnX1oXNc/28QqCCkTuz+s9YF35W7CP/vLI8aPZaE/EKThYf9NwT9zXEEX6hiqP4Sb5M2A1qw/abOpZDCGmz9+q4BGbc+WP3z/2415dLg/c3jUhGG/oz/2eaRqzmSQP8ugIIMOuJ8/1lVKYroVwj+uk2b+K//KPxZ3PWvqFKw/+1/yzEuSoT+J/w83F6exPyTAqs80NNE/x9koiJUHxT9AjZjEbLuxP/Ss1vekMco/OCSn0WSCwD+N88ZVmTXAPysm6ANXesc/hahYd+4U1z+J1lOtL7HIP+kuh0Akwco/pfMP7aZ/oD/tNf5aOH2lPzqFapi4f74/GzzxlsLUpD/FTmFDYt/EP4vyHWBG9LE/PTic3exMpD9JEFfAkSxQP0I4rT59aKw/lfLVPAPMqj8L1ZryxRmyP9rdFRQoZM4/6i4qcIJS1z8ZXrVK0PWFP9uJuiVgAbc/DUZE82Eorz8rWJgLXaW2P3Qmd3VQhbk/xTkb3Cgtxz8BaFE/K/ioP4huBEgKgpA/eR5AjlyJcT91zNbU1myBP1FfQckjib8/s5vO4Xnilz9VT7tHhcKcPyLk4vcHPLw/iYlZEXoc0z8kqzl9PW+DP3IhB9kOXaY/k+qZndJcgj8ZYfqmX2+xP8GqkLiC0bk/WfOvQ4/tpz+wL/lgtUuoP0jXP8s3TKI/qLQU4Xopsz9wlkjmbrd8P6wd7L6gfL8/MTS6x5+Nwz/F3p8m3V3DP+d0HeVZpMw/w5CwvTImuT8T2hk+r8y+P9K4kskXVYs/pCy080NQwz/XgyzQxiyUP5XhJ3anOsM/DcSsI0fLoD80s9chBViqP701IWBG7ZU/C/7lDqbOyz8NNsmEDZ7AP9eUT6gK/ms/1SmXfydh1D/SHUfj+KzHP+dveCRDy6M/0lu+ycjhvz8uhvrg0Dh8P3JL32wp2LA/SmnCNY8ItD8ei7Ltkk+wP8STIJnlUno/4KQ9hLR3xz+mULPfl3rEP6c/uaFvlsI/fzMypm3ndT/OaT772BtoPzns+AtuKqg/g8MuWOaK0j/SGgI3PSOYPzOXu2cGv6s/R2NWQt+zpD/rl5LF3uqKP/m4hCtlvtI/emVYYKolpD8Qu6pGyEiwP8RmUKlCeNI/HLZTB/N9oT9N9QyENXnIP+H9SGp1QpI/R/QSlnPOoj8qVbCXL152P6tZjZR1RZY/gWbhZxFPyT+mPlE0pYDEP+MFwgp0k7g/GOcxCoDByT+1qgQ6BMjRP0UoS3VH/aE/90fr2MZ9wD/bMheZElLQP5FGbwe6DKs/utOUgq3GuD/67IdNWg+oP5FEpbu5VFQ/jq4Gggkcnz8G8SUHvb6SP/iL7Hauqck/MHkDQGpHzT+ZvcLW0iarPyyEKzMDcag/kmAu3X6wpj8VOsGDj4G5P6Dhwr1Nq9M/PBvTvH+trz+eI3VtzEXAP/QhM4z1n4A/03C5l8EJzT8DqjPWSt3JP8Hb+yr5p7g/uvpot27Udz+gUZUtANVpP77fOkA27sU/UYvSjElYhz/yNCei2uXMPwa3E8axjME/nq+KHz5xkD8EelN6xMnJP9Xw0sl5kLE/y9EaKgUOvD9D4o+1qXlEP/By7jJHL5M/WcB4PRVaej8Pav5sJFGVP4+LZJ1AqMI/3XKueOIGnz8LgEhzcD2qPxi/IifB16Q/cyEzfoP62D9DYCfJZvjKP8dvKa6pCpg/0u3G7gZN0D9fxaXbVbqmPxl/QyD9G4Y/dxbHv5ddpT+M7T8zseW6PxYyhUgkzKc/nn/gTZeCzz/tRr2twdC0Px7Ku+RaJXg/66Auw9Gaoz/iVY7KpdOyPx6XFCNlSqg/J+xbb+CPmD8S4XOR+DWpP+LZQzbPvq4/4z3g6n41wT9epEFDqKuVP0fbTtMwGtY/jy/y1AHExz/6sMg9wGKIP74+2B6veNA/xcS/NLHDoj8FKAEPKYjDP7MhXKetxsA/Yp6U9KUsrT9IDh8K2cCwP8siskW339M/C5BwcYNN0D9Xe77K04KHP4WdvebgtqY/gvGjYjStvz+u3x8p7YJiPxVSEIACnso/saELXUq5tT/Agu/SeM2yP8Le4+XlcrM/tF14vadbiD+kEi4OZFeOP6vMqm1/n7c/KJfh3lQMnz+zbxno4H+/P1Bxl6ZforA/fGt2Xe4YzD82BvpnU6fCPw204MqYkH8/IIr1uIv0lj/3KSE/ceK/P5UNPexg6IQ/UVsyI/uuyT+eaQQQ3sWhPzidmzXM89E/XlLlxIIHlT/jtmUz8anSP7ZyaBKSvNA/JfjYNq9+sT+6iMYnr1HQP5FdH4zx9bE/cQePjOik0D9Lii5dgBCgPxFmrflkoqE/Nd31RccexD+Z8KEch4TSP6vjhM8Y9qU/CHBIqzldoz9gLeqL/W+wP/yyzH1oiMM/6OUAdBu8eD9YFUeRQgXNP3YolewAqYg/2lr5Phi9nj9N+Yw85xmLP8A7RahtSsA/0RYhZNv/oz/qyWqSNNDMP2U6UhT92tQ/K2Y103Jh2D9N3pL5Eg7DPwjfzh7oVcM/27VYo2Mbsj97qL8t6PqDP1628qIyZJM/ARfOsM6Lvj8u9R/Yos+VP0VGrBy21m8/gvIFYutX0T8LKaI55+yPPzSEsWLSfs4/erDMjGEHsj+ohB+g5R2hP94u0rRRGM8/5MDUv68k1D8XC1KlJpB3P6L1SfYax78/usFnKffEyD9sNH0SRMuSPx3ow3fZ2LA/+Ro9L537zz8iCes4vfu+P143XhwZ4kQ/QHyJB9pp0T8yQJv46mTNPxvCLNAsXrQ/PHeXx8tCzz89szT14kmYP0ZQjtyLhKM/Gf+PMePluz+aRA/q29HMP5EcTF5SHNI/Tt+tNsogoD+YGtIGeEjGP/k3GfoLeoE/vxv6aFVerD8Ab4ln52a0P8rbn1WVYpA/QP/GCZJnuD/4IrI8EzWyP7PZ/gerApE/4yDhpHMSuT+cU+FEmA7LP023LDSVhJ4/hvo+dMTrsD9QGD6LjXa8P22dKT+yRZQ/gNIm2goD0T/RG2ntVfWgPyqsBKvrc7A/MlLx+jB/tT9fomAMXE3SP6BK84BSbbw/sAkDw+2FzD9jW8TKaDCzPwfQQkU6laQ/N7QjlQT6uT9d79cVpMF+P9lgW8WByNE/0N+KqgiewD+D79hhnKSXP7tZcXUwoLY/o5MRkZK3yz8YBfflL0SiP9zQifqdWYE/meE5jo2QpD+JxqkczMSZP13ZipMfNnU/pE1Gb/vVlD+YOF/1u0uQPx+e3pyxiKk/+4ZIPDA+yT/Vq2vlan99P5fIYlWc3rE/Q2mDKMPtsz+fAH917kmVP88si2gcK74/cyVV5tursT/xHa6955CrP3epY2Yw85c/jqu3Evw4xz8wcGqVtZZmP0AALhY5DaA/ICptUPovxz+SOctNYB7CP4E5gehPB88/IXxFRCbdrz//F4kL2p3OP3352q0qAdA/XfzIv94zaj/oe9/tiCC6P6oqKH/9U8k/o69/GUy5hT/3YbJxxOnEP+zF535b+LE/yTVyMiF6pj9kVxYiJEa6P3DwWju9X7g/nweVlJulqj/QvsK1M2O+P9abjBmUCsQ/oETk2+tMxj/+6RezLtSqP0QB8HFqjqM/m662xQG4mD/MAPNCGi7EP/VDpHXvJ58/mDNwe0tOzj8+/APEt9TQP2Q+qXdYzK8/N8tbjiZvtD9pC1XHiMGgP3UIALgIGH4/YxWgNF4Guz/8wcl7os66P+N+RRleCdA/NICwDHkEoj/t+7rkDum0Py3gBKUMutU/ovKSThKvvz8V2pu1oCajP243BnViia4/LNG2UlsCvj/mZX2imgjSP+GGBZZCp6o/8QSqqvxrsD+80PJKFXyCP1U6KkjcWbE/9NLeOAkHyj+fv3MF6xHBP0yDzdEU6bY/xggeYtaimz+aZAwij2t/PwG5zxkwIJM/YyoDpOH+pz8a0ET7LHq2PwQwkvvsi5o/FxWbNGOxuT85YFlOd/jIP3ZC6Lld7aY/SZY94YG70T/wxbwTUjjDP3+2yBKeHtM/DSAzQZ63zT8zVoXEirfQP0+TsEDhUb8/NLWPuVVqkj+4fz81Kqq8P2RCo6pNMpM/xUasJY890j+AAXS4vQyMP1abeYk5v7c/dvRCoW9NwD/EvkZX4sHMPyC+PsswG9E/UFfdmoXqxj/+B0v+tqDEPxzOrll3KpA/U+UyivCZxT9wS9+HR227P6iLhIrufqM/nPENspqw0D/pea21/tKhP/4TxhcMIcY/CxloDD2zwz+TKLMrxTLVP/OXdLxgyaE/uR5W40JYoj9ijhmuKzrAP/3qz8xKS88/nZK34ChNzj/bSkgDi3WKP+1NnRF0ic4/KkUhlQk0vj9jJa5EDISpP2wLNq0vfMk/vWN6KJNstD/BIcQCQ0DCP8RQP28Uvpk/KheuxqqRsT+UELp20k5mPyWrrTzo1I8/PK5yZ3JjqT9kkk3zXS+fP7FGe4ZlqK4/1F1z6y/csj9jE0c7npuQP6t2LHVDicY/21fK0AFavD+UD1GCJ7q8P+EMOP/EXs4/2tGh14lfpD+T+MkL44e0P0HH22amkKs/EHaJ3QzjtT8mmFpfkACpP2OTS1yF6ss/CM1aLpvxrT+aVjJrk7bVP1AJJAJaUrc/BhnmeaCowT/9lsZXSY15PwfyFqd/3LE/GxSk2g57oz/HPPq++U2xPwcGUArBIac/AdBwfx8UsT/eOxgcGqSFP0SE2KaInsE/EJ2POi9Wyj+d0NE8rFq6P4gugrpANsU/Y+Ji7kdSvT+Tm9vGYamjP89rAhJVHcc/RSMkZ6ZwgD/p0xN+xem+P1a3Y/MSlco/p83Tj4FQaj+7aAMleQKUP7iiB/kIDHU/KD0O0z4zjz+yAXfZtuGiP4w8t9VqqdY/VNUotj+5wD86xOIWs8RqP4ShAEC2hYA/sANXz3cCoT93FkC+tVKOPwQBQmcKNss/SloST5dlhD8oqIPvismrP1DPip46SaY/ke/mpnO+yD8YYgdzrJWhP98UzQqR8sI/gl7+fh0Rgz/D7oFDNZqxP/kaMMDvxak//LuneKcdnT+TPSjiGo3RP+vz9PH7LaY/dJwNRWfouz8DewFgftzQPxvBcqvOQok/Cphow66ftj/9x267gqHKPxFz+YXXe24/K4ZqBJk+wj/482uK7JHSP9r5aGGGVoE/ejOGu/pjlz8NNO7Y4Ma+P0su7jcA4sQ/DkFieQ3htz8A3JhPS567P2E3VB9HRJk/wV9h67nY1D+1AIZAhH62P3+/m8Yw31o/VqZxhLMpuT8miErULWo1Pw+HvpyQca8/wUNtFZ59vT9QApc2j5nEPydVkQCg88w/SslCB5OKmT/8ros897G4P/Vsu2XMAMo/caMyNKxC0z+aAHoa9j6JP0Xn/QmnBJE/jEEznOM8lT9Cly5a8UZ3PzQYzReig20/r0h9p7rSyD95YJLsWszEP2CDEuNFBtU/VeRtdtjUzz835WE2sIS4P/1h87urX3c/E7Ze6+53xT8byRp6BR2cP4PBGpxZWsU/5jWcSSUEyT/p5mNRorCbP7EBxGNwOcA/nhYrvbkXoD+s9Co4IEmAPySk4wyLFqs/vcmVpHqwoD/vs+imF+mbP61eTqfN7co/WllTN19DsT/KvFudisrRP3XjnzsC2oQ/Eo8wqrle1T/vEC2yCUKTP9y7fM+vnbg/qOrTv5CZyT84fSXDTenCP5WqDTYbgaY/Y9Fb6900pT+WQ9bUn6q+P3Y0PT7eOqQ/wmj1ZbEVhj9hSzIMqSqYP9h6jPVXo9M/BiuRna0Y1T/gnDoInTDSP9oslamhkqE/QPV0cLOi0D9oscFewdbSP3jJgC+7ONI/sdkzEy7srD+ofLNbZiSTP5HEVYF8SrU/+lJ894k1wD8Zfd4NjNOjP9yGHkrgm7I/4awmoTuslD/8xBuKbE2yP8XAIAuqqsw/N36HLebLgz+10phw1AiJP6jKUH8KsrU/hKxLKOBTiT/ikbCHtfa3P61WCcPUGYg/65a89aVynD+L2s5YQgyoP9OuB8PVDdQ/QKslZc5Bxj/K1YUxrF+WPyMIoiTYO6s/iUWuKqrAqz89tjsYkfe8P6DRHqEOj7k/vYDhtVPP0D+oL4azr7/EP66sEJMi5sU/BkMTB6GQhT+OaOSCZGvAP5sUfHG8Y8I/K10Yp6I7yD+NrffbeyPTP+tGrOR6J6Y/HxXglprHoT8gqYJ2HoajP/g3LrXDRLk/bWVn4Qz0pD8Z/jjKxsnAP8nmPhpqr6M/GIZsA+eAyz/Jqz7R+XLAP9Xr90dQcLs/Mo5+KkjFoz/S0B2/Jvu6P2hsH70eCM8/WAYqN0lfwj8BTDgoB7+iP/RYIhGDmso/p6SLol8UxT90u1dQ+qWsPy7bDKWq6LM/87NyD567yj9p1EZYFJTPP5REk71FPro/kaJgqvQ3vj+rDZkogDCzP7DnZEt0HIk/S3kGZzUEdT+/KOZHyBKpP+vOc/DpXLM/69gQ8GHKhz9cGety7BuiP6qTVuB/WMU/EHAoGmZGiD818NHhRUt5P0kQeNDSD80/HQV6tLl1uT/sStH8YAZtPwFsoEsofrs/aYGtUEZOtD9OLA2agxLIP2EARymGA34/N0ekGqmRkD+xG2I8Ne3LP70hso8iXMg/0ULWbBFJoz/XHoAHsLWmP08pQpNmTKI/8GC9BbKkmj9IvyinzXvDP1R0K0CHnMc/2YuKYQefvD+RmiH1QZWaP/s7oLFyGLo/yytivKKPaT9VYBGBPGCWP7hqqS5w3rc/SgmBf9Qnsz/O2FHiBB7BPzOzcp8tSI0/SA+/QzrQfT/8bLPvv6K3P7A20IZKK6I/WY+j13wYwz+Ady0EHXmxP3nzuOBZrcc/ZVOCP9WHwj8nmosL7Z2PP88J2Yu0PJc/aVloPbzUgz/3FYziZ2SnP/V7pI/C+q8/2kYPbHIztD+kRx5EGQavPwm8Yu03d9E/wh8vOQgLqz+E2Dr8M6zFP7iuAqHS8sQ/BbLESqRk0T/2fSedFWSPP2Qzrhn1LMU/cm55x8qpzj9t+yDqaQZ7P+OY/bJPt7E/Sq3oK7/MzD/p11sjMPHCP4QN7MWBDKg/g91TOhHPwT/0uvIMTuXTPzlyHm/7eEU//4gDMKBosz9/XSXvCTjHP0WMlneBBoE/eYRlHrHVsT97saKSZcrBP3+8WR4N3r8/jgqavBUiZD/spO7aa8+oP8UHJmM9Bow/ekIGZKx7wT/V6hYoqZOnP4VfxQgjmZ4/qPqvNBRg1D+zBvzZJ6igP+oXZAP295Y/ykSFyAB0zz/n3lG4AvuqPycgIcZkwcc/1zFaCyugzj8k6Ssn6bWbP370s+tejM8/n8Y1JR2M1z+Pbd19c3DQPzCkOk5XnJM/NNu2T8E0sT+x/EIgGuacPx7J2mLuYr0/QEWA9FvPiz/CoURcQzmTP+nNMc7K82w/JrO/CbYU0T89QURyOgypP/5zv/z42Zg/6SJScdDhyz+gf/2+oE3NPwufzCHv/Kg/4ZkdwvZI1D+o/2equ8jCPxnQ/M3FBKo/UWpdoMBhkD+AtZ7eUF1tP64oX28PN6Y/yZ6cW7/cuz+9K/W+vVO4PxZRN4Ls5sQ/MHR46XY+0z/ejXIbOayDPxFT4M3XhH4/QQh2eUuDzj8UkE9HBXSlPzpLKbQui5M/f6h3Njjszz/frQ+hAfCbPzZo0av6L78/OxEmF/TU0j/YNGepTMDHP8b67NsoKdA/F4wvLm9XtT823HbsXK6hP4IXR1/h0mE/zOX54XShsD8yqwWfxsCoP2t05NfgW7s/D+0iLjDLfT+lqkD5UKCiP9vIaaKTGbs/a91NZ8spdT9hFaSJF7uzP6iejKjx1rs/OLb3Hf3NxD/iTrfoSPqTPxERPGFLwcs/xKaoHJLDXT8LKz/Zsty/P5fp/ELhurw/fH5H0iTSvj+O+ILv7xBbP/pJEeImHbI/YmwhcOWGxD9GXe8TyAyMPxSJv+ifOo8/fLttAB0u1D+Ia5+ILKy7PzCp09egbL0/JMVoCCCBnz/xZCmCb2x8P1XFqrW3t2k/jB4FEZy3oj/aygtxgAhCP3MmLh2QOKA/qDPPyM34kT996QBFxfWdP21iUH/LT5U/R8KNH8HJyT8FkhE6ZWhpP59lHsbhzcM/eqpv3fQGzD+cQs7ALbjXPzUk1mxjl8c/krwwNnHdyj8pUWY/oPKsP0BNQzbUcKs/lDkPZfQJwz/nuS0d3hW8P04oSM+Gvcs/6ZXvaom+rD8XuF8beNuFP0VFAOUxH88/8zCBzrnooz/1Qaj5ql1/P6cvZZvlOJ8/FNs2OyGGoT9QnY/ANCiwP3QLANad8bo/OXGoqmc/nT8r2v4X9MqaPwgoaKX4G8M/D8g+/+V3vz9U8s2Rni3PP89OaI4MUI0/NVddpjEJkj+yM3VyzS2BP++RVVHhMc0/ovecn+0lnj/fvQRU2py0P4gAcKa+X8U/sTUsf4Fcxj9gcxb/LlinPw1BBEUyzLo/+WmUPPFD2D8VHJaur0PIP9WzOYIrE9A/QH/6xgCgsj/EZF5o8FfEP6LbgfIfXMg/MqytmrSmwT8SlQCKa97CP+bBQx2mN5g/4AtBcmC/hj+h8V+39zGpP4SraR26RoM/GXJL8LJhmT9BfRrtIyHQPxyEB/FXrq8/WDDYWYxcxz+beNqVCzaLP9aUowmgf6A/i+YwQXLcoz8WtlRy9ZnCP72/m6vx65s/CsfvRoyZlz9Y1WB0kJzPP29I6C+sQtQ/zts4LZPnzD9at2VBRejFP2h+wEkI7cQ/8kg4XdzSlz+wUObXz6yeP0aVbuvwxK8/i6+0q0ZfvD8qPrdxjDZmP4UjdzEdRHs/nWvb4zKkuD/6wn/Q5ZiAP0OukXDoQ5U/Aq7/UskpyT+/bVDdfIa8P2wM2JSOp7Q/7vTnUCn2lD9RAQXaAeOjPzI0JsXeb8E/BMS/Bp5DsD9ySzqoYoXHPxQfsZ3xwo4/mTuzMmhTtT9srw15o+a2P6gtEti76Kg/yq1/HaOrlT96MBHXCAG3P/R3k+tFo6Y/5Ofjjstgwj9wpI51YsqoP4Wpl3oPOa0/wqXC83H/0D/xpPsWfoGeP7Iq3aYNQ8U/U6YDOfxBhT+dz9IfGtHLP50wICdrfrA/KvbDak3ggD82ZBP7giqoP1SZGK6LLog/6LqNkJD+wz/aJqYQyszDPx5LablT48c/pX1YeGgIuj9exS0Ixx54P4zdxwAa0NE/i63gESMSnT8KDwTNpTmEP/m/LK7fFr4/fo4RiAZfxD8RxOLoD1LKP8YoXTxL5tI/Dq67rWC4sT/7tKWMp0PLP8Qf8+32QK4/XxY/30X+qj+ZRQ8BIb6QPy/g08hjGrI/xeOnArFxuj9dbxgsB8mxP4h5eAwOO5E/L6VJyt4ztD8lno6SusnYPxI5eHgEdpI/5feIcSHDxD+nNvl5EoCzP/x78/MU984/BL4XPUb/pT/95ODm/JGiP7nBpWPc6s8/fHVCeAIFkD+EX0XvUc+2P9KyBr7LOrw/wrShNBzfoj8iSbgWpaCtPwlwe1XqPMw/ZvHqFZ++0T8/gh/HM091Pz2vRXo2IaM/QugCqJSxwz8xkVSNh0SjP9rnfolsJLE/Efhw9MrG0T+2DhwzKr2yP0ph1Swc18Q/DN7oK2YcoD/5hXOGUPLTPzgtTtW/a8A/uXB66jjhqT/2guor/cyZPwSsBcBpvoA/5vIYrRfXoj/Dz5GUlg+cP0DQp1aA/NM/20Ts0vqvsj8HN0PXrOrFP+nzIyyQHLE/Yc/XrDO9tT+AzMYJCyWeP2MZkUwoj6Q/a+Qs1Do1mj8Ycyqs8eONP0GfvJ2JoLY/lEosOtbBtT+6T7tjg2uzP42gaWlX6o8/Pqbar3fp1D/0EfZlT5jAP5kRvTlnFbc/aytAaXz5sD8BtmZ38B7EP4kgXJy9ZJc/82Ko4qsHnz9y1ewEs/XFP6O/BWPNs70//v17gDj7pz8WLEdrqea7P3cN7PBj7UA/o3afv8/7vD+vS//vqOGkP+HeIUG9UcE/6OsN2YhjoD8SNzH+XoPRP+dUmoafZL0/NkN03SjKzD8r6UtGqFTTP7+bHdeLZM0/zCRZGYKoqT/j7CYXDW+UPxyZvleo67E/KBzCssiTkT/HvtBmUFjQP0lcE4je6Mo/e3osQRjvUz8VCh8ztM6mP5eMulMSF7I/rp42parKlD8stGyb0S/CP4Ri9LPby5E/g2xrkY8iiT++IDtSN6XRP2/EOKxGD6M/d5YWmJXEuj/2LPy9i8zMP5DvyyQHfKg/+PJFiDDZsD8HKY7vcyawP1orhgnSs7U/grCeBOuJlD/4LLfqNMDMP0BhJaXUhsM//+M0k2a4yz9ELRmMuGCMP8eQni443aE/gZVzyZhgpT/iY1qpK+3DP7vDarZe0Z8/WE3vlNcpkT+YnX8eIG/BP5csQjfxc6I//Xki5HUPsD+oxM4XIhO0P8khxZKLJpY//CS4dkzyvj9rg8cCP2PIPzEEn53nicw/Z7Xlsv4Jxj+wxM07TQadPzqzS0TUqaE/LILcu8sKqD+3EgFblAmzPyqHxwMFRcs/DdbUnMOjxj96ojw4UdauP/skOfEbpbQ/sThuFpCAtD/UiDUTF1V1P0rGomviF8E/meFAQ1el1D93NhdRYzvEPxLR4tj3saY/nwfl64uejT/EKsVnOz2zPzt3k/Nk9NE/nMb8IAhvuD8HXWTP44CnPw6EXQhbjcw/Nl+oE5Js0z/x9i+DYAumP+25NUb1nbI/9VWIPvDERz+MTkokDGidP5UhAFPTmqc/5Tds1TURoz+JRKiQVy+6PxKpdpSO7cc/Z3SkVTUuoT9ZQnWlnuKHP6+a5vUfX5g/MmXV1Viwnj85hN53XvmgP2RFe/UJObg/lRnWOV5OxT+aBNPIP160P9yXyt/4abE/pIT/3YxuoT8SQYkrlFnBP/fqJi6ieM8/Ay7ES2efkT9vSCG9eI2hP8pZeAxCv5M/GQIjC7Mblj/sF1mTEKO2P6gvvs/z3Lc/7hUFcyrloT/e37p/unypPyDuwvtR0sE/eZTKJqmDlz/AtBv7GCq9P3UWKurW7bg/q4fg7JkZuz+cwassLY+XP3rLZ8AcQMY/AP6Rx2JYqz+NE33TQ3qhP9zrO34BA7A/g0MWldArpT+WEv3A5kbLP5+QJ+JbXnY/LKZI2KEyhD8HtfdfKofAPwArucFvnag/Zst8t3yhrj9Ya7hRRWmlPybxZZFwn6o/X2qhwj9utD+GIyC5H7iaP9A67hV+6sY/ZJKELlbCvT+x/lVX04G8P0m+USmOVMQ/fDFDICwujT9bmSrgimWgP28hTsY/qMc/h6CJ6w7d1j8RzFZRNfyZPzynF6XT+rQ/P04dTyPurD+lHq2YwwXCP8S7T+dL25o/hQujlbGTvj9qR/QuxAbOP6A5Sy2Eb5g/1+lgjGofzD9KeS8eIAa6P+/skptmmYI/+9bBrwkOvT8W2ldzLubVPyKneH8cTLQ/iae0irQluj8Eqhjnx4i7P8h3HrWAt80/awAvITa1lD+tARWCAvm2P3UyikGicoU/0vokAWsLdj8frMqmOD7RP5qDGxw8bqQ/RJZXCRBu0D+hF9ljKzyiP+0AQStT08c/hsglW2GIwD9pPBvGwNevP61wTAGx5cc/b3Wlakwa0j+xKAzoAg2/P4UBvQycl9I/3PHGzVC3zz/H+D4gvJbRPwfQk7AmbIA/kR7I/o5UdT97ymPybGzKP0b/yoNMMLA/QdmAGKh/qz/iDzKBaamgPyeuCCd0kLU/PQozBBC7xT8EbXpNePC9P8/ngbP71pU/vn83KY4Cwj/5rGvSXiGwP/c9Wcq/K5s/x5t3pa+UrD/G1MGeLd+RP/oXW483+7Q/jRwQQyFjez/mipygpA7WPyrKd3prLqA/B0X5fd391D+Yl82X+OqeP/4PZuUdcrQ/uuBcW1dJpz/5PjG4v+C/P1E3DUoMv8s/csitvbQU0j/8Z2//qKOpPxgWpnuRgKY/b9yqJViymj941zTwb/2UPy/Zik8I2aA/+qUbL0L0sD/dPrwDtSW/PzC22OSE8aw/a4QOO1ARWz8vHRRt+RzMP02JaTNx7Lw/1Ons/1JipT/7U13977KAP9SLcp8pIqo/ePnHwbultj929/A2J6WzP0WqXiTa88c/eom0iuT2qT8yKYO2s5vUPzolz2RplLc/HmD06HF7wD+NFTx3GFrAP009rIUxesw/NhDRrzP8tT8/K5C/H9bLP/OwEpUIpas/aknlOqw9sT/9WU0g5avHP8BaFDS+5Mg/HdRFcj+ozz/xRwauqqGdP1/lYan2LbA/i+zi3VlLuj/NcMmFLNywPzRnU3y+z2E/zTZ7MtjJvj8PjQqeHum9P+GFciTW+YI/U012Y/BNpj9JcgxtJbK4P18dqtU1ArU/YpRQ25JLvD+wSEvbB+yoPwz1aSlIQpc/+ttGZhd2dz8bAEehOouTPwij7HlZzac//mofKLqpwT8o3Y6gsI+cP03/zxLL34M/GRq6gwj7vz+UFD218MybP6a6PvvHNdE/GpgKRW+cqj/hCmoFHAuTPyaKKdudpro/jQMmVlsmxD+uwG5lRifYP0NrlXUJWcY/mU7fCt3lrj/o/PlB9l6lPyG3NI0kAL8/fO98gnwTkT+ozatc1VOlP5f9Fzy4CpA/dNs7ZEt51T/F1u0ZXN3QPwjlhClKuYs/Rcp/ewTvpj+uomRwdEjJPzI2KeYLELE/7tXh4Ihmyj+TTOaqW1zEPzR6EELdS28/Jdu+54X3oj9LJRbPPs+WP3djz+9jwoQ/8NyUdTFkrj9aYR14QZOeP0mEYKGctp4/Mjk3yoxlsD/9GnEzl0esPw5TGjudaMM/trnQq4C0oT+8XjqjD0mpP0TsPUwIpbc/OseyitTIwT9N6uGn5TXHP5xKB449JtQ/zbMT/UuHsT+b9NyHNf6tPzzJ66ohoLM/GLmfW5Z+0D+Eh5uaJNiVPzHwn98GWsk/ARWbHOY/tT93u/U1TnnJP/zEq6x7t3s/sjAnLu72wT/5TW08A0jSPzONE2cxT7Q/wKw5gw7IsT+PwCbVxBWbPzvHzk/SUZc/ae8s/skAvD8Af/k8VbqUP9wapW6x2NM/tus2EN0C0D+lRulZAES9P+EUMwT5FZY/60dFvaHTQD/HBNNhwym3P065MTNl/cE/y9updlQzlT/5/VL+76KsPxW2g63CFrA/PrDAZ3GCxj+OdceXfwS8P5sKVHb3ur8/sqFRh5/p1T9aMBxBorC0P/b7QgHAmLA/smNs040TzD+oKgfCTqTDP8IDm/OEQcw/bMI8fVb8lz/8cvxLdAqRP3tpOsXMpJw/XvvgXSwg1D9tMVcROtDJPzbmm/8GpsU/b9Vr2KZUwD91lu397tjQPx0xC0SA/9Q/XFMiNTMtmj9VZgd+A3OYPzRMptvKacg/nBwkAgnnvj/rHCeIMZbFP4acFgL27sQ/kc762yjL1D84cyX9lOmMP1FdFL/ZS7g/M0wXgDKYez8w/lJbIBCOP74eE8Twx7A/1OOn/+qHmj/L/ONw4pfPP0YW7+mxTKg/Mp7ewzBTaD9NEpZTNIDSP62w8YAX4qg/Eq6Z9LjpxT8kSeLDlCfUP8ibJevP758/uuSRt9861j8VB/2nMM6nP6lDIfj6o5o/UKHiDMGEwz9bzlpdxjHFP9BL6Y2d5bc/51romj+8oj85kaY4ICuwP+reucQjfr0/zIDfI24lmD8jcscHvNeoP82APhYV680/fnUVeR+Amz9tIcr8GUTBP9gKozD2BZQ/lKxfMo93sD/peuOAxhWxP4lmfljRcKs/sXaA+f/jlD8g0bkMNHrJP1XTHu2KMag/XjT4iCIecD834gU2HVVwP1yI7JffQNE/IYx8Kjn7vT+F3GIUeeSaP9klp6+5w6U/xJ4U9dzudT/NkWrG8kWYP40hYo/5p8M/eFLO5tjXuT9k58NrN5/MP8ZribIcz8k/aW/Pr9EEyT8sPg0CDh2oP5gf5pOmA84/9kq52bSTsD9+tovd8aBvP4hYvRabZK8/I3fM9OWxvD/QGIIBDFPGP6lU/ZA0+KE/7isOdQkWlz9rZCxy3dmBP3jaw8VwJdE/tQZurq1Ztz8Bmvv9cIa5PwAUaVz6U6Q/9Ub2v+n1yD9uebuxTHzCP3c0IggVAqY/hsmuhwbguT/jqV76KGCNP063ErFWXa0/vVKiSpM6zD/YRvI3r0RrP31jl4c9hrg/hEchxtZCuD8wrkOyHxfAPxyAMbIySNM/nERsgquG0D95kXZcL8vMP9tuXBTfxJ8/+gVKuN7fyD/8v0DOXHHGP6pZaGhO9XE/TRwyCwhlmj/wyhVc7WbRP6uvUdPg9bE/02g51IDdyT9Aj2wO7sF3P0BZCi34bKI/jLxHzrnVoz/FbFeXSIOjP4xsP86Me1E/hEK+wl3/yT+D9N+Nq6PDP850FP8YAqo/SGEgp8mmTj8UJxCKQFfMP+fIsto7bs4/Z9U0qdp/wj8EV6eyMfDDP/V4j+jcvdA/k2Pa9nL10T/iBGYD/Fq1P4KUmSOVxYk/6hOoSBRPsT+TqHnjnvinP1Kqh/fLOMI/bV1nuEBE1D/5iZYehOKiP5g6CiAt8bU/Yx5AkvNytT+kepr/Nn96P2lUGLJycZ4/p2Y6Dxw6gT+aVuYWF2ygP5C7fbMkltA/s2rmj4ruuD9iEL6NB8q8PzCAR56TZ8I/KMWNa35goz/Kr+kWpamqPz7UOsnA+cE/zyxDnGcc0D/ndswRAU2YP7iw/fRrCoA/2YR6GxH+oz88R4z+yAOuP/fTbU+59LE/Z0AzP18Pxz9SL/9jwIuxP5tRg0Ph7Lo//pK39CKRyD+0xf276yXAP/Sif9oALMs/iHWYxni+xT84e0xTEUi6P0rt+CDiO74//zBGs7FHgj/70XFXjQmaP7BR/aXV1lo/nh69mNGiUz/ULwTgqOeBP2O3xO072qA/W+ghlfuGdj/Ie+TAfyrVP5zlwvr66nU//oi/c8JUsz/aaBN26qqXP8YSVPWqELU/Q2OIXSOblz/OIM966WbBP14PG7KZ1qM/s3Atdx/prD/lsKpuDIy7P5xX4E+tz8c/bKkCEuuWlD++/l8uskbSP9scfSq6esU/AsptxxQHkD+PTIrv2IO1P8JnavGnvag/eOxV7l/ezT/UBqnpepucP47d0Q//XsI/sFnXsDmPsT/w/wcSA6TRP/c6cz05p8o/uQ0HiEWbhj9RiVNTJ3+1P9q11oxAh6s/bUsBfHwewD8i9jwjYmyzP3rxJFpS64Y/eXoFkwGnxz8RwqXVM+CAP7HD2FHpkrY/+U437W+u1j/S2xktpSDVP+y4fO+41bQ/VAPMZVfE0z/qkIxo+paIPzoJ2gBHd5c/y1sCHfH/wD+oCoynowK3P66iNj/ZoLE/JhiAzb6RlT+HNhDPtpLIP/ez4orBDrg/qRlh9e5+1T+ADkjPJDHOP3iUMRn5s8Y/qRu8chL5sj+jptfoPNnMP6tix/79dLU/0rya/lAA1D9QQD0QJy2EP8ssK3NChMI/i6HfCBi5wT/NtABYSejIPz3enQomstA/ilb9GSCNyz/dcmdvzsS6P72TSo1645E/6f0PKRpxvj+6JqnnHuWUP/CQld2hoJA/gdVmPULtsz8gXGbi2lLFPwXGyVI+8tQ/psAUVn15NT/E1zlRtEamP/y+kMrih4Q/jHutrpGmyj9QS5nl5u7QPxM0GaC0vJE/G3PGP7l9sD8x3BVEBU+vP+EejYW8o60/5fFh7ZfNoT89mChnYpygP6ofPBSF35c/66YQKzd+0j9g5o1WURp1PyVtKMGtML0/XZXc0fO3wj+aQ5fkin+gPxfjH56df8s/f14gZnUppD+Oa0AOjfPEPzfbZ5ATn5E/QKDgnjPUuT8ysoMU9qJ5PxhQiQgrTqE/2G8oNiO+kD+m0BH/mJm4P5cJjYj2h7I/ud2LLe0Ltj8RTOR149LUP/WsP5XHidY/tB8UPmXAxj/NIVRkJ9rNPwrUzioEz38/AqB7lx9kvT+KlIcQT9XKP/z7D9FJjNM/mOun9OLKsT88YraCPHmAP4FYaLj70qQ/IOAljxnYPz8e+2UOaaiHP73T9FuWe9A/jc9ZfOCivz98ltdl9CaxPy0skSjKSok/ThKUGhYHVj+iCaZOWbihPz/DMRSmf5o/JKchuBpdwj94xYCgu5S9P7e6Ld/4I6A/ojfndMPf0T8mFHmSvW61Pzg/U3obsZ8/TrrvC9+GoT/rR8cMedPCPwOcAZk80ls/a+v0astjjT/V1DeUI/rQPwBTrar2Vbw/Y0s7NCxHyD+gyUYSVAWoPyBoC35l3KY/bDowEEMdoT+h3W9MLIy2P0Nawql0YLE/DHt1IjxGwz8fgtXnNAabP6RGiQiVSYQ/qEHGm6C+oT8H9+9j/IWEP9epGXfWrow/+mPme5hkuT+HqhqeL9iGPxYk4ppfw7A/DabnuJMTkT9eI3Bn80WhPwcbmiWglpk/Y/iiuOpIxz/2C375cPfJP4vUPtifzs0/3IiG8bhBuz/ScG9haJjSP6FAi9/SYJc/cNplv7rJkD9T5NAUZm/FP5pVRXkaXsE/V4RmuwgLvz+gUp7u1AijP/jg7yX0Q88/Cqfu8Vmfhz9vBNJK+hCrP5cjkITcgaA/hp/8c4P1yD9vvRWj8DKgP6P8HRt995I/2ike6VTlwj8v/f20sgeYPzrO2hlK/pk/b88d5ONW0T+vTVemvubTP6QSGmjb1qg/roi+giNV0D+z+wK5iizAP/2tP+0WI7Y/V9f7P5/jez9JFssIm82SP3UggNRQF8Y/eaARhPgIsz+oXDNzNqvGP2hiWTsJodY/r7/an2DxqT/NSbKC4H6pPzcVNWcrNck/7rbNDEVT1j9rlsgObcu0P60LHpqlgKA/He+Z3oh7yj/stNPiXdC0P14Hgs3heJs/DjY/PBAIwT+FDRH1DVPIP1zCLZZ5nps/Id7uK7dquT+QdlS56Q/SPzgclpu3DcE/VpBfWN83vj/ZYLrHaVzCPwkf0M9NmcI/9FTETOqKYT80df2P/sPBP2dkbUkIc8w/CvCnnNFTyj9S2dITL26+P9N/PX/A1a0/5THvcCPXpz/+FKoO9fWVPyu98EtZxJI/hFCXNitr0D+ZKZqWcpiqP4FofDdgcco/r/t1DrB7WT8EKR7NzP63P0oHC/qPP74/bxdVc3uBtT+DlZ9ob6zFPyHRnh2Ysq0/u7T18vKI1j+tPc+xNsGOP5PDkANXZMs/q7KKNNsBpj+wzvejVbFYP3+77SabIcw/YS3v6zN0wT+BK+VhDdHSP1nnuz1g3sU//zE07L0tnT8yyaQ22BLCPzxWKr1sIdE/2Li7sr41oT96bwUdZi2hPzGBlf2JzbM/LoiALGFbZT87uXFr8KKyP7GDtBAjzL4/tahuNxOpyz9x8Cnt5ieqP9XUJcXPcbM/8un7p1scuT8OuhV+igSyP6TPfmHMK7c/c5451BNPmD8QV0C5nOPGP90mRhgPy8k/p2Z7V4HMpT9DU4mzT+qoP30ccBEum5g//1eKLk3inT+pYqGupLeUPyONoAFi1qg/x84oJc7jqz/s/dfK9FywP+KMDxU9Ac8/IE8zTDQbwT+n0XQASAW3PyAAGPYRqpw//ENDx0vOjz9Mp4QnOkCRP+B1DgNlB8w/hM7hDsv50D8EQuA+siG+P0POA4O8n4g/5LGtsVeitD87nUiSwzG0P+7O7gCPnr4/Y5rwDsBVjD/RPh/MQv6WP6ZPOPiALZQ/DaO8x7w9oz+WeSi2kBPHP+sU6ktwBbA/Ym0fDgzBxT9K5SEx/DyfP1PUEGFOZ80/7kuqI2BZlz/BLEwz5ey8PyX3EVaBqr4/7jdxoVnStT9ooB0b8XXMP8RPOOdYK88/ASmNjeiJyD9NEILwajq7P1E8rUm7I8Y/ygcu2rTZoD9XOdJchWOSP2ur9mOJH6M/Sdq2jPCB0j/LBwNLGfK1P7KW6zN86Ik/DGfKFLpC0z8p7euet9m0PxOKhxZL69A/EIjvlHr+oD+i5MGwy2+oPw10pD3rQaM/19lWP8wttz8EYB76hqNUP+ilVR0dV7E/ryOowYqLnj/5Xk4+M33GP9vnuJKOIpU/p9uqZVVKoz9btB8QR/XFP2ynUrpW+cU/wACRoHBo0T+GdPNMW03EP90l7zw8oZU/kAfBNWlUsz+lhEIBEBu5Pypw3xLCXoc/EuMB7Hjcuj8FGh/RCaqlP6MRwR/Dv8E/8UrILnN2jj+W+MWcSIKpPy6r0RzcLoA//J0dc0rdrD+T0mUWZqSHP+QLwZ0vIZM/pXPjMODksT9KTviZ93zSP+aOiX2xAco/b9KshxJBzz8f6QMXnTSgP9slzcDnN38/kPUxXb6uwD/8GacOdRjWPxT46bzhoMY/B7NKZ8MCtj8xWMVxx2jQP8xff4k53sk/moQug3uJyD9kzsGjZkDAP4F9i43U07s/ol1vlLuQzj/t1DNXmWamP05bQNlAYMI/sDwdPxLDvD/0OpQd+K7EP4+7czIhvNA/k9u6d/JTnT9xAccqxZbCP5ZkbWPfL74/Zv49GJgGcj8Wa3zo61GkP94DO5janqo/cixkory/iz+TXWokeD/OP9KKP728xsU/hp+OOxsRrj8g2zBnZXPRP2TG2eqW2cY/DiHlr2VlzT9LO9WLrPvDP5BuzATdP8k/fdhLKUmVxj+zookkZb+bP+KyPngUeIo/oH809jn5qj/6/EuIlf3BPx305AP5S68/1gUxZptGsD+3TvPSHqnKP4L+fPf9t78/wLg4yxJ8eD+BlEEq8pHGP/DR3Rwta7U/3b+cxiQdxD/bJ836qJuTP/H5AwQWIHw/U5jTYj3BkT87ttp3AdGkP+OK8FCriKI/c8Edgl79vz8P4tjsZJyvP4qbAjqeepw/1Y1p8cbXxD87PVBg4p2CP5VsH/i5v8Q/3cl64azYyT8QZrjpYYi1P5rWYk9Wg8U/qTWTu3h2iD/jNBcemHq9P9Kreu2Swbo/hpuZC3WCzD9aIonjAvrBPzge3YbPZJc/5js4qsvH0T87jd3u6OKgP3St2dKbOHE/tDFiOMKPxj80zx9fBbWfPzxLCvF1wZQ/0sKr2UEbnD+WT0ptPP+3PyqrpasZsJI/jog2yQXkqj+zYcE7R8qtPxxkWb83Br4/Gj7hOAlysD9LWKIREaOWPynbafxF57U/5IwhM/LGpj/L9hsQ/VukPycZMIOrNrI/7AMdITgipD8edjxfD4KbP9ihX0c2saw/cixSg8IZoj92WYwqS5HFP+zJuzdImLM/AwygutEWrz8H9nVM4pqHP58pusHNK9U/zFQ5t0WVqj9SreHkf5t9P6aKz/myCMY/UOmjUhxtoz8aPA+pFxq8P0UnsMoFt8g/ftaCrjH0gz/7ZzU1UKXPP0wP86NSUqk/witn1im0rj+w3xMMeQfOP7q6b7fFvtE/5oOwnmy9uD/2FOU5iEyhP3Sz39WNPbY/sKV0UuXjiz++HPgOILugPyd5+Cz678o/YzOujbAhrD8bPjoNx5CHPxfMGynfMrY/zyzAl6f2Uz+3rRkC17urP8vwtNVA28E/YuQMa19cwD9s9+JITqbWP3hWVK8J3s8/Ilc/mCvEkD9dCSoCRV6LP/Z+i+LxW6o/IUBRXBUjwj9MJrG9T460P2NN1Qd9WpI/oEYoj6JIxD+l+k5kr4CJP6ryErtzFsQ/lVrTA0RTsz/HKO6jG23HP11nZm4X78k/UI3v8SMN0j9ENBEHh5jOP8Cea9xRkqw/1r2lA0SBuT+rjeIkQ3OTP7U2hStTfrk/lYrR4xUtuD9JyQ0+EXyYP+QrYfOiocU/EBOtc2g5tj+vMv/+WXbKP1MgtbQCnMk/HAWR683Clz/x3VmV0oybP9iwkYqkwsg/9vc249tesT9ZohAM5yOoP+WJi8kU2cs/lAisFFic0T/rmqGRWg7AP4lYAADVHqc/1W2qEBUBxT9xzDjyVXybP0v7Wm2A0pE/82oXQBWVqT+2N0Eza0CkP7RUpwEYZLA/hWHqEWV2zj9fSEYUFFzIP7JAnk4/XZ8/K303CBe3uT9uHZtUjtiwP+m4v4Rz23w/RohBd8Zjxj/8JFX0vMLUP8B94mEr5bE/bAOc1GDo1D/mbfFj/pK6PzJM5ZHi7ow/T5/elz5Ppz+32LO+s7OUP83Rks0qJpk/SZcj2wo3wj+gOl5LsBqlP3ckMOWAPcQ/4rvMnW67qj8OX0g3MQd/P/Bj6MGuitg/Ava2bjHqkj8VuFoHpve9P5HqotOmZJg/OwydhEY5ij8TvYzYQRGDP1Nrwr0cMsw/h1QTk1bL1z/AlPUXIpq4Px3JOk0SjKc/E7CaAa+ouj+aKGstmErEPzWmEaKSMJg/zHv3w6zDyz9zDizBy0eeP2Qy3g8O1L8/841zKNbSyD+L+HU4LPqqP/z5TgiJhJE/4ir0sRKStT9GFWN5EXTEPwbJp6E6Z7g/aFT9Jy6BYz8eOMqOENB5P92VeRu2g4s/mOgtK6waoj9Nx2GvnJagPyQBQZQDDXQ/fbf0OHIAzj/2Iiy4+HSDP2QCxGsovNI/bTo8PhGMpz8TXABjvza3P/P6DhGh/aU/rNiymi13oT983tokiJrUP5x3UrBhP7w/EUlhhJtWmT+LDUlL+wy5PzwEg1kdTpg/RLWfcnNOxT+dmVfAQ86iP9fzEBepUpM/8ScS+SID0D+CFwudjACgPxmAS1FevLU/IvhAlIdq0z+sbZekGjyVP40TnZWA1nc/RIpquIt1xD+alSYR23MoP01vknEMdMY/OkJkazh4tD/pBEHXhTmRP3Pdr/ZmDLE/Ju+6OgPAeD9bC0fX5cvRP7wG871SNMY/4Jbt1hvLoT+m05Kk59SaP34xfksoptI/WsqX9Nra2D+L6fAimRXDPyXwDTX7+mQ/faeum08R0T9n9oOcxpjOP3On/YFqSok/eI5cvd5BxD9DtmeDn361PzSoB8IiX6g/xHlSmHHu0T9ntQfUy+aTP0yz77n8YLc/0T65KF16Uz+sLEmWhgl8P4bJmzTh170/vgnDwkmtYT+dHQCALQ+zP1IqfC7ahZ8/BhXArhj4zD9lXYLNJNbOP+zeTK953L4/i9kqiQdYzz/LNEbjk92XP1Y5Zu0LH7U//teQMqiyaj+AIOiBN9HTP+1umXtyLcs/GsbCTbmDtT9DqNz9NXq2P6IpT9MLCJQ/B6wDCEkJtD8Q362gv6KEPw8/+QhlG4I/03ExPRFFjz+ndxXdIC2UP9Z7NjYeT8A/xFLLtOcMuj94xazE3Sa2P4XdFnYIsks/lAR39P5jcz8ULW4ghEzLP5/4ISt65tQ/Y9864nuWxT8cOJJallDKP+1S+vXXE8c/7CUwpjxytj8Xyqwrp/DTPz6LQG5x8R8/g9YIE68lvj9dPjCEaq9gP6b8g1sd2c8/+FmlGbMGvT/ccQSGlCp1P2ljY246xpM/wOvGwlUztT/vYMxf6j6ZPz084ZgclIw/Zv55LnAssj/daaD/mECIPysA6ID6yHI/QqWeiBqr0j9QW4QbTR2jP2N4D7al8KM/LMj6ytV9wT+xbvw6eRbRPx/23fBK5b8/F0EbwgMJlD/9xLBHywShP9wdZydxl9U/uQV4Vv2UXj/FZE6IsMazP6+epwlIH6A/8+2glCLNyD/UGqQVNqabP0c8+roCI6Q/PDi2pOZRrT/BzlzOhHO4P58uKD5LNIY/4GhNXQFs1j83dHGrPoClPwAquWV75YA/CUpqOBd1mT/RpHI1DazJPyKw+S8qTKA/hM0np8y7yD88KJ41VDq1Pzw7Usn8esY/keQltOzV0j81Y+2QoAehPxLQB9L2C8Y/BJweu06ukj/mMBlGa/2SPzE8XTiunsE/6u59Qzvktj+geVoDkmSvPx9afqzcVGw/3vCkirBA0z9wZ7kVlsmbPzxK222p7q0/zlObcsBuiD/lGeLWcxHKP/1mmgMVBIc/8vY2qtZ0ST8iVzeuuBulPx71Dc+t+Lw//gK/CNgleT9zTH+xBuXEP4XAqKrjTZ4/QVH4bs1pSD+CXCIDpHOEP0rD+Z+86KI/TZIkg68w1T98UrfS+6ClP08jFRIk/nw/7qoGCxnUpT+I0jiadKXFP3hpyPulyM0/UIr9iHrosT+NuOgrRozAP73yhptgmrA/uI/LsGQ1kj81bNnwrPSlP0CK3hIkQLk/KKRoEzXKvz/o0ptVohyyPzt//5i1FbE/Si6TmHMzXz9GRGRh+Ty5P7WuqYC+vpU/Zy3iivFdxj9tE7Pp0Fp+P4tv+4ti72k/GN9tzaz3ij+nUZpPa6DOPyI1+WsNUK4/t0mdRbNqwD9ECNWqSu7SP83o2VoNaX4/EEYu/dG4sz+ZhEXQQS6qP5MorrGNtbc/FaV8BxJLwT+oIo1xy0vHP+fmQdEle3c/muG9ga0H0D/Ac05WyxqUP8JZEVtt+8g/mgdvfz/8zT+UDMnuQqutPziQlbb8dM8/Kh8T0y2YxD8sHiMURrPMP4Oyml/uN5E/qwi1yT4/uT8P2Uxa/z6jP6eMpSxY2qg/wn8ECUwx0T8p4dO6LeikP87Jw6IdU7o/K2HyWmWXhj/0jBsTbmPQP34uxvn/dJE/YSpS7exa1j+FL9nATLbLPwDkJQeK66Q/WV8ItzmJpT/b9Fue97mMP+TpNPF7z34/D4XwO0c/0j9xonMrvRvBP1aVCfeFHbU/zooHhxC00z8tsUwXLKXEP29yiXiu7cI//0lNAiYRwD/rMeje2j53Px5KAR8/ML0/WFFz7Iipxj+ZZIfpreKwP8rAXQ9CJ8g/8MIUKtEDpz85Y5/Sw2uxP09cmKs9mL4/OBwxMV+ajz/0rOyd/vG6P4XN5hjIh8c/Wl03K4cDrz+x5vn8iyq1P33p2oxe3dM/oZ5Dje7RoD/A+rDwF/rLPyARxv2ad8g/mKnxzU5lwD+EVU8THCpoP8rLWya2N9I/eGf5Eg6hoz+1SNDC+GfEP084/if6L5E/+umP227Prj9xmNaeVCrWP1K7sQA8lso/ietLHd8Jkj9ieEn5LjjAP+/F6YMaOJA/N2N7hGLisj8ugr+um4JSP5ORZTtoAsY/VpPv/8EttD/pLaEpPqnSPw80mjrQxcg/yJ6VCdr7rT8tz7GkLv7UP+abh/idzoU/fi0ZExJitj/J4SplPiGzP8zjDXRPQaE/O4keHH85rz/rk2pHql16PyYQIgxw96E/S63PDSVgez/vYnYqtCeSP/7PTN/f6pQ/BmC/iveNrT/yLqMl9hixP9Olj6GzmlM/r38YG3yDqD8YeZjPRRvDP+ooXJSd8NE/VH6amH6ytD+z+vgG0G6rPyp0TdlFcoI/aVjiBh+ypj8vCmOmsEuJP9LOb77adJo/Spnj57H90T9X93QrCY2/P83vdufa6MQ/Sk1oH2dVvD/KZ4dJZg/AP5QTe7HQw70/CWxcGFAczD9B4YohVnTPPztx055uosY/UCvqTEE8pD//akB/jR/CP2F4xA76KtM/L1xJu4ybsz90EEOjAjHMPxylXOK8xsc/Knov/NlBgD8irChp12iLPyIo7+yCPqo/A0DawCcXnT/SggmAAW20PwFs1M5FV78/eSN+Q64Zij+QNOyvrVzIP2ZZZ0Y7OJM/lViSH51jqT+kTNHHXq/RP4olC6ria80/e7yIhj48pD9xh98lH4W6P9sW1roTaM4/kDfInl/3kj+XlAVeuDCaP+rNTXRiCq4/OubrQfwTyj+WWuajCe20P636+gw2lsI/v793GTcFuD9YJYVnaoXWP6mFk98CtLc/m9T0CBZpxj+GiXebnli+P84lygj1/sw/o06jxsBAhj//z/RnMf6KP+R1cJMGy6M/UDGuH833Mz8RHd8FuVjAP44vF43hLrU/14pp+LYTTj9ZPJ5gCwjGP6Qrinyxobw/ITrZjd8hpT/a28APQ4d4P1PEgZ3DWJY/mJmW9FHKuz9K6lpO++meP9CVv3ufxJc/aBG9fT+5vj9sFz2DbKLOP+04CbG/9cY/H7LzYKGzsD+1jU4mRgS2P+NFIXglgZc/9Qso8Lw7uD/KJAtln3LIP1NsOrcEA9E/PONUl2JFXz+9yY/oW2C9P/Ytakz9jkg/U25pXOl+hz9/6EnLjIXRP5N/yhY1fak/ZXzBQnw2sD8IscBPMOitPwqd7jc2TdA/yIwZ8yJVqD+XPif7tHTMP7kfMvOh+LY/BoafR+Lf1z9NDaHr/MvRP/PFtvfEx5Q/bfqiMLZtvD+hZdb7dEe5PwezWmT7nrE/B/keDoBhlD9WH1QJkSq/P9u6jp2INsE/VOe3hZyLvD9Z0I8OrEetPz6BbzsziJA/gEhIdn0dyT9o6w+tnpHAP0yu2pWArKA/1D7BKTz2zT+bg69rVuWqP6YHhyf509I/8yhtu/Ngnz/v4UqLJl+hP0W5q4GiNL0/BSNVww9cqj85ZaxikJzOPyYpzNcKfcA/sQHsmUx8tz/45iSqCn3MP7uN+FWvbJA/j6ZZ3AqwmT8KwKP5QJi0P5VCukOkB3k/6zj+U/6YwD+RzHUIdgPPP+4xgR79u8E/cPGTKGjPqz+1MX6OlEW7P7Bir4Vzdak/tSCWZEM9lT/8l+hCbdfIP659DT/O9DI/uV/8lS0V0z9BUue1soW4P2ryWsfUFbc/R5W37IAGWT/gptcscdiQP7lh/nx/+nk/TyqOHi/MiT8uqgZScXHRP8EFkx4i7qQ/4n9Erqahsz8lhjglMLTEP7xpz3RUnJA/oyXASjW7sD/grKsyZjeLP8oQqJ6wYDg/i/6IvbHxkD+gnKcy24mwP0mIW9scWdA/tC5AWTuuyT8udPqG9vPXPw2AAV/Kk2c/nowYcfTbsD/XBPJsfLnJPwp3KnXtdbs/D2g7XBHaxj/MT5ddW72pPyBRVEvqFKE/7ChgnOFF0z8PU4C2Zr3GP/qgloMV6jc/EK1Blk4d0z8QVQcte1OxP+VJfwv0P7Q/XPZbdoBPqT8tR7CD1UiLP5gJWUwSda4/82hYAE/Jvj9VlGz+TXHHPwG2hBPSLsI/7ajIC4gfsj9vG0RVOKrEP5n71Z/TCtY/HGWe7XI+rz+jg3RFl8SxPxxIJ7SNtHk/+7d7Te8GpT8saZ42lDHBP6MUIEMYk6I/sbLK1cAk0z9KCoNTltqWPy9gi+BY1qI/8jAcwwjRuD/+0YUWniiuP4VB8UmmsqA/X84em+09nT/FnQGumXSjPwpz7DmiQEk/MnKuPHFWsT8mkdcq/wGiPz/jqzsP0bU/IXLpQYTenj9lPzhyq+PTP1o0xi53TL4/vH0zgcnxtz+mraazKMmmP4ghPGtVPc8/CbxNkNp/tj/i6kC1LRmdP1mONww1+Kk/+msGB/6ZgT8Xcg98lG/GP6pzDEA26ao/vuA0e3AnoT9PLxTEG/mdPzfksbv/G5I/w7J4QgKAsD8eKmozdLSYP0+AGNDG5LU/iTDq1F3Bhz/0wKKn6km6P5HHQ7OayrY/9WRytRtYwT9T61UGzAPEPxF4muoTZ88/4qOnGk7R0T/qDds7cNCmPweJofNdEps/U72IFdC7yD+f65jyBk+DP7vecnCjGIM/pPyR3MUb0j9b8qfZ2m3GP6B0HWdtzrU/vN33cEbmwz8ZQBVon2XDP9UXTSTgD6U/DbWx/sOJZz/GtPtlViW4PyV3rTOg368/ioG9HBaNuD95SYjYyMtwP5jwtM9pXcE/nW7C2aVTxj/HFcwt5wPCP1YCC7yja6Y/f8McR8BHkT+5mxdWOpCCP5y2PjNXn8E/QS7GXE40zj/X1Djk+Q7KPy6a+9f24XM/FtFRvfLKuD8XMEb04nySPy5R2NEslaM/fOfpPWAZlj/t+Yj6OgyVP+iH4nYnxrQ/fLZaH5p0uT/vYl3NL2bHP2Ww0s/XB6Y/Ph5VFEl/zj+PUiU9dePSP4hOPA9ucbQ/kEl1T8WG0z/05r1LFZKyP3L8XsUfiqM/CSWF/o0Byj8OHg555QOsP6taOAVTaKM/hXlwRSOr0j+X8gHVrgqtPwG2hQiw5sA/tJfSe5kSyD+/p5xEk7axP0fvKdM8b88/Ax8DBzvDyD8tzK5JqlWhP6iiUEkH4qk/K9O/HsdGlD9K4naRmaCwP/H/tloJPdM/ODeo/dmGkz/1Sqp9AQG/P4jHXUWTpM8/vye7BnkefT/R3NQkIhiwP10AzV7UQMM/YI8Ikigqvz+aus5Hx8XSPwB3XNzPz5k/7X1bs7dswz+zZhd8a6vGP4TGcxjQ+b4/mfcqHrU7wT/dVqbaF9LQPxrcjoYkV9E/Pi5CgpaT1T9+TsGrHavMP1AB3azRn7w/a4oyE1HGrT8HQyccJae8P+zRGZjqxcs/U9r2ElkLgj9nIrHJkQHCPxHcNwPCbZg/+4dwoJFIez/aPeP7QI5kPxZujBN/Qao/0R6KRaNDnT+cRoA198t/P9oW42ced7k/OEsgzUFLrD/r7jKqURu/P2hwlNTNusE/eIdt5PL+kD92C6xn8hqaPxropoquR9Y/Kqqh3FLIuz81WFrq7wtXP7YiotC44MU/IeKPwE851D/MpMjYjlPEPweaapCG4Jk/JXi8466ozT8/pdYM1iuQP/JOUMbOQ8w/PIRY1gHfwT97wvvs2HCDPyIasGpXEo0/EjN30b4Tsj85NP9czNmAP51BZDoIupg/REroEnwLxT/0j6HOEzSjPwJyAfvHmq0/OYP7PyF+pj96cfdct/yhPzwx7zopJ8Q/S4n9hp1opT+/7A/ZWI2+PzpJ6njQbJQ/AGSywi/Rmz+dTcB4t5ieP0uTAs1QG5s/D7YbEyCQyj83yroaNEOCP/GwINMPUM8/uPb6gyRO0T92wNqYKnLRP66kVYOih5s/CS8R+Fk9pj98XyuJ7PWVP/6SemvbxK0/UcUvykpnuT/K8/6weoe5P4p91KeZU4Q/WC1I3/IBuT/CqrQP8FCmP9/gJIFSyJ8/AmgZEkSwYD9FIal+KmKNPyXqscpSgaA/VlnSTqLPzD9MgcJra2+0Pye0Lfb/u4M/t60aeGsutz8Rqrx7iiDKP64QVsR8lH8/0LRvyihdkD9iH3b8UGyTPx3JsMQJTsM/b9cEMvBplT/QXSrRUkJHPzLta05BRMU/ead9KmjImz/W3zmg11mnP8HiKpXZOrc/NvjwM4gRyD8HCPUW64XIP7cAqx1GhXE/b3l6OnqU0D/WIvFeU37IP70+N42g/YQ/h2Gh5Hh+uj86EpGtuYirP3F62U2xaZo/PQV4FOS9Wz9uKRHlXjS3P7HV1mmGVpM/RGqj3Jmxlz/sfP58SQ6sP19nyOr2X8Y/pxjyGgyDrD/ccfgQVZGYP4Oo5DcLobs/90+4MLPBqT8WA/z3xmmcP28L0eWIytA/HG2jcwVL0j9VwHlGFWOwPyXlQen4g5w/hltDT8FbYj+k3pY2JNnMP56OGVs2SMA/078EUMjNiT8siTWWMU56Pwnd9cdKAMw/pDukteR6xD/+9tX0fOWZP8DqPj1VBI4/QbxxNDZwnz+ce3B7s798P7hwLwCpNMs/3kr0WuVrpD/Y64HA8optPwDqJ8tHbYY/SLFdK07X0T9TchNYnIu/PzxQz9yhvMY/HhiTtqE+zD9aKBQqy7LTPz/leN0puNM/FW8WpF9atz/0XHTrbr/BPwocswkUOaU/8Ctadw5dYz+sEv3+gmqLPyuxbsBwDHs/Zz84GmNPoD+wx3T9cQFrPx/IJRG0i8M/yGdaJrvG1D/C+1GVIJx4P0n/wGsPvdA/ZaaHqUuAwz8TaUtkWdOsPzb4o/bnxZY/Qp28IL3kvj83+iiOAqrEP7aJeCq07ZU/NtOX/YRW0z/RFbBIYqDAP4TFwH95qs8/jtxcmaksmz8Zas2IJwpuPw+kAT/J/aE/ayQUFw7btT9Ux0yqXTvPP7LgHfi0LLw/ol+Z4WPAxD+001EUX1fSP2AS3YJL850/aW89rT8Zwj+TcSXJz4u+P040HIQmqJo/kd4u8ibnvT9z7a5ms8rBP8qQ0TpX5K8/rlXOewXuxT9GSeRlo/eYPx3l5Hzj1Ko/zfoOalPatj+T6GMVMOXSPyKJnppJ08s/W4LOdakjtz8BfnKhtGV/P566K3MxWLE/HKhgN4gszj+mMCZM07OuPzZqaKTvbNE/8r60w8990T8jeWC9qYqkP8lO11iz9aA/Nu6AATdRrz+57tA0cFelP4J26rNie5A/rsuw9E/8wT+ag/+D2fyCP+LrGW36EVA/wrLcJ481rD+bnPeDl3vGP6lKIcc+0NE/IszC9ektkj+4Jyjwr6O5P9l3qfqi/n4/CKHHMIq4wj/T2shm0BC9P+NY8p8HN6Y/IFjQVcfKwT9V7sgCbNGZP2oo3Dpds5k/wDUlWveRsj8hQfeOe87HP4lTlFOfE7E//DFoxEOqkz/GXViJCWewP7Iryke8orI/crVhZCLahj8hY7O/xuymP2YsCdAMM4c/uQTODZNUpz9+REuuILJgP4fAVrMFiqo/f9doaw3vqD8wRuewX/d2PyvoJa47jNI/TL6cLmwKrT8Smb72yQm8P0ScnVkvr6k/SACCX767zT9U4SiofzuqP217TdmrsH4/ywQRzZS7vz9+jjLYLGuMPzNtlCKBtb0/+OPJ/Bozqj+ltnkX8UCjPxg6HDUYwpc/fI02hQkssD+kOLJnL9y1Pz06drkI8Lw/oALHo0VhnD+IsLlmrnfUPzYup90Bzqw/NX7hryzHsz8yUX0Nq/XSPx+PBH5oh88/g/7qlx9Dlj+tbK3gQ/+ZP6dGcQ3BCLc/xbg3yCGPsT+TuMl16UmlP0V0zbkLXrE/6/XLJwxFkz+u2MPEtHF4P4bCGUw04Tc/OPrmzTR9jD/I6ojiR+6KP0ts9rih9ME/jMyHZz2bxD/wAc+lpCOpP5Ex72pMg4c/0tWU41TwpD9KM4Q8aDiDP8al5vZdXK8/Y+roiZqOwz//yiJFXESyP60/UsbhXbI/2UoTKceMwz89CbBvaaS8P49fWrXaRsQ/MxQv7+/XlT98DjXDj4jCPxhQ1GH3qZA/irv3qt5tfz8O95YzMgeDP45Qpo3O3pU/C17jCZVTiT8CyyY1A/LKP7eNBByUKLo/UJOgDU8BzT+Jv5sTVdO1P0zaAbPgtaw/tIHVIDgN0T9DxZiihM+VP7OszgyPTbc/KYhGp7OKvT/5UfFl+1uTP3KbEAAZU9I/kK3bQ1wprj8lXopqs0C0Px8NpyRFAbA/0XIAMruBmj8aRCkOowu1P4HSIo4q5pI/FOCLN7ckzj+9SdN+ODW+P00NZMlA86c/rqc6Z4oTtj8VeIVTY9nXP1mtULzECa8/+3aqCjHTzz9+n1fDk8fBP/qx4nf+h9A/+cCnd8Enyz8OzEMg1/yzP8MNq9iSbLU/sqLyMVq7uD+FnkHkJRWTPy/aJia9QMM/9IrxgFAlxD9BP659HN65PzcZACa8wMQ/khKggwmutj9N3SIu8yGtP1BVTzWePaA/JBzUzZ47pD9rBEC+WKKSP8cb/Zww8NM/bxNeVohNrD8MQp2Wb9pDP6+k5ioJmrs/bzACquGkmj9nc/pxHJaxP0xz9HAfPbE/vDMeva9Oiz8eUJ/T+6S0P/aYZ/4lFMs/sMK75xoSmD8Wyrwt7V+5P/OYt0mPuMo/GgJP6/PLrD/WnONaRF2yP6LoqkY8PcE/BXAw3Pv+tT8rkquI2SidP5Kf1EM19Xk/5Ej4yUoskz9QrKOtjWrEP/v2SwX/QdY/teHfG+N5wz/8BcnHOdLQP6fBe5dNTNA//u6sOhQFij/wKmneflPQP7HrA5PPlqM/V1cumLVNpz8RqLQwidasP5WCIsumtrI/J33dYFb0zT+nf6/pPFq4P7f68HFzObg/djeARilmzT8ywEkB1JyKP4ZnYGDb6Gc/8o7GL+2G0T8zUkfHUHfLPwN+pxXd1Lg/SgE+BIjr0z/UITT+pAGvP8dIkCHq3Js/ZJdplAmPyj/IQG9UlH2nP3sjpzq378s/qeFvhibCrT+5hIYcF2zRP3n3vP7SDcE/k+TbLPD2kD+lr8DwQfykP15acg8mRcg/dHhuu6iguj/t7qnYwdG7P97p/dccUpM/wtBe5ZLAuD8vwUS8CIicP6b0+XbOVok/0nN6tRNpoT/jx6IsfyfUPyKT6H+oeNM/lhSz4bMLvT8zHYjDamPSP+YCw02aY5A/3YT3IX2DlT/XccYcrBjRP2ThwfIKd60/NbnbmW5Gnz+rqIC2Tch4P9VjqTvI174/1yojCyA2wj+Wu5ZE5YJ4P+I50N+Qolc/+jKHVQtnuD95YP7wg1V6P72X3gzop84/Mvq39LyO0z9DqfMsZAaxP0j2tzMOxX4/Z0Pi9CcUfT8Bq9vfkQGrPyE3HKZCbWY/ZjvbSZjX0z+i89LAd/u6P8pDr4Z3g4U/3BFyw27qnT9lFhZlQkCzP3JhoUv94pw/0ETELkfJ0D828MYLXJvJP6FfQ4lBlJo/EFXVSi0toz8OsE3ZeJu0P8HQ4A36Qj4/i8K5IN3usj+8GPicmHTGP62z1I2ZN5o/cudWfJStuz8tR4l3UtCPP2sD5/cRkYc/n2qdUcrdoz/k1lazZ7DUP7bSD4Wrp6c/jpVJ9Oadxz/LBhZRf4DJP914aMtd668/7KdIndi7oT8LR7K9lcOvP4PNdFnx98o/RRLVzPaG0D9kmm11RX2WPxhtfASHO2s//n3+4D9sxz9kISpJuPXFP8eK/eY7acE/i2S56ni+qz+POuqJp+ajP4htPILbZM0/5WUZN4IijD84CXkRUC6UP85/tJiExcU/UTE9q1s/rj+Y7FoIfyiTP+ciPAY+J9g/+eDyln5ffz/7b/B/tUXAP4Rb11VvbqE/nEP+c5EFqT+FAOAA/y3VP8ZbdFHwfbk/Nzw4fumHkT9MZoamlFRxP+k2O98WosE/8f08/E0w0T/gqLgs8ri1P4MlPpFVEpg/F0W6Oy5gqz9wcVM96bCqP8ELlyAWFqw/CWXgSt5bzT/LIh/6J2ucP8K3ImaLxpQ/8dfznyOHwD8UGYLG5fPJP9RJOEGexbM/JO+Nwru8wD+3hjP9FKaiP7cwxO23gak/WZZL5TiXxT/xjZPdqmTUP2OucaApRb0/qmuJQG1JwT99YjkEpSuVP2ubqZinCLQ/CY7qITsSqj//UTrWzrDCP5/ElvceA6M/y5nEdCZJxz/RQr0Fat3IPzcFV6CoFro/u5QEMYcsuD8yxC0yNAufPxh1uuWu5sk/M8A98e0Xxz/JxBDgrfKZPyBRZma676s//kEpLbQZsD9493LOQmrEP6qYsDZco5w/UA6UaaV60T8uUVS77BS8P3zvX4RZ4c8/jOU17amlsD86Bko4lKO8P03gEaE8NJw/lO254OrQzT8h8ehA99KVP4BjBtNQIMA/fxMaAtLcvz+MeMXgECiQP2upq8XQrMo/VYxGdGxGmj9kRKT1hY40Pw/XCbNJYNA/hz0EuCCvtT+FZP/VJQ2LP9TndmzwC8E/W/4/j4wDkT82oZzCHVCYP72t56DOG6U/vM56B0TbvD8kQoOsedTJP1H6JgRALaw/6mRD3pJjkT+O4MOihC6jPwzDjdIV1so/myhCMUM3pz/9E6nbsragP5owE83Yo5c/NuZWkh4k1D+7rlr2tT2aPxKhfNoFk6w/1M320ocFoT9D/9sEbp9qPx7EN9BCNNQ/srBtAeSLvT9rOyQgg2SOP72tc591rsM/QmzGHtqJkz9kdp8AGJu2P+swTBmqRcQ/jxg2bJVWuD9nqF33pCy3PzML/iJldHw/sBFVLnVSmj8hX6fy7ifKP2xn/1k0DXA/lnMSir7Roz9FgLASBMWYPxGMc/QTppQ/xrQ2OlKtwD/gibRzYti2P7iNe2g+jlY/xlpTE/TGpT9+qB/ZhavVP53UY0gmX5k/4iFqbJYUfT9uYphogZjOP+UOB6Pk35o/PDHSERALsT+27q/MEJnPP1lL/iYoPLY/TLiU1sZ+aD8U1YG/EAdXP70ulD8mlNA/RG0QRAhCpz+hqLrkxo+HP1ftCiItib8/7q2O/B1PsT8LOaVPEIiHP6O8dkDB2rE/xdvcTPxhjD+Aj7imgch+P7N2VYrZTIk/arUd7gEPlD8/C2tv1C2nP3kl0XC/Z7c/LD/id5+8qj8tcwD/BLOrP5pkRUGDCro/9afQ2txGhT/tNgOMxdqbP5BaoHohGM8/AUvPnllqyz9+TuHYOF+gPwacXKKg3sU/OLG5449Ugz/DF8MVUzGrP7w26QAgS78/u3TtF5zczz9fUfSNuUGzP0zNDk++upk/4DUNQs94wD+GJfSttHrLP6g+ebO9ma4/K55qbtX2cT9I5vWX6AS4P/oueoI5O4Q//HAOPHyJsD+ki679OPx0P6X2HhaETqQ/0Snk/m3neT/Kcfp5SZaEP3UILXKW/74/22AdHWe/xD8V6QHXAHiuP8SqQU8g0rE/MXesbcC5jT/K3IxH2bLAPz/M2HqvsqI/ZaLJ/h3Vwz9bKJLNCqGhP/1AZZLl7IU/BK4BPR4/xz8gddpbxGTJP37Egqty7II/kMKIZYKCzz+Qzi+HWkWlPzE63jVVN8c/e8nU/jMbuT9mjMW7HdrGP5Cg0Cahxao/TjesTMC3sj+yvkdphQ6/P34GXyEtyZE/KR5PO8Yx0j8KzQdJXIa3PyYhfmmEnqk/Cl/DI+TaxD+9TJKuRSCoPzN9fEcw4Y4/L6tLY8a4xD/doLmyvjOSP7T37pavKZ4/Jgw9iiyq0D/Q3Ot/U8bAP4Lw1fhNS8E/4YvYZfuYeD9kiqU17lHCP6n7NUkRBtE/+0n6fxEi0D+8Ee7VcEySP88WmzJbasg/xWzJKo5XnT9F2PwaafKfP8Jofw1Kpr0/j4tWCV47rj+wJrBgDn3EP+dV/CEMJ40/TTzYbBTzsT8ns4xR/0bGP7RCnT4q48Q/f/ap0MYRxz+nzMVCJ4+tP1y8SNEU950/IdL5A5JC0D8gjjjqugu0P3WXRXd8MJs/cYlQ56eqhz95qgKD6PO7P/CvfyeOlsw/42j7Daolyj+mRCCMwX6yP5sPfgpBppI/6p0pOuDzxj/iejafAsCtP5O5oOjBsbY/MqyiSrvMRD/6lq4G+2DSP1OvqQF0O7E/XtFoutxikj8OfLpw/7+XPxiEJDQeO48/qF5+m7N1oT85odzyPOXFP4T8j1WGbqE/UlrrJ7ka1D82ne1WPofMP5zlrPbc/ME/9+ytabatuT9ANcGBJRy2P2ZIkS04Js0//VrzbVv5tT9WK7smYx+eP/UAjM02yZY/TjMu5jdisz+qK3jDB2+/P8nEQtbiAZE/HuVyvoxj0j9m3nu3xiq6P3OigNlmVbc/DwzhIRQ3kD8QtYcYwT54Pzu5LP3gBpI/5Ktk9GNGrD+i/03cN4DEP1CFAw5Sx8Y/Qp8QbhBYvD9HqSL+MOPNP5ww5mkdSLU/rkmM1GKvfj8hTHnKgwWXP++oBUCoc9M/dGHwWKJelT/My9D5WkafP3NC/uBUMaE/esOf2TYflT8Um/75AonRP5Ql/1Ig1LQ/fFQ/g2my1D9rJA0XjpWRP9AoSaGQ97A/VDsjITHbuD8BOtDfqnqIP2vyoIhnEMQ/EV8Kxe5klT/ibhQMdIqgP7CGUOJT/2A/j3//g/Gc1T+Qf+Nrv7HBP2+UJu0sS6o/QXSHpp7UxT9SCq0T0LRrP6UokVMpxpQ/oGfxk/ihxD+KuCRqAKuVP1/VhF5x9FM/a3SWge0ejz9QQE7kOBDCP5z+8H/BEs4/vber6ia2pD8crx/LcZHRPwGv5aEy86E/u9JGqomJbj9suhB9HqfNP672mZ3g8bM/mNaZLBxgtj+7jbpTiCmVP+fpT+9AscY/QS5bx63OqD9/PXFhhrW/Pw4Xtmfim5k/CFkhFLV2kz/yF/S1mUXVP1xHF1QUtdE/b20YOnZ9nz9TBAi7FpGrP0GB9PZbk7o/248bkUOFqj/2QXvNyraiPwN06o0gjKc/0MyifdhWtj9y/cBeejizP7HQDbkSX8o/NvRUD19CtD/Nl8J+c8fEP8gYcLrA2KU/YVnEcx3VtT+gRCrqHLrHPzpLzzu6b7g/vqZ3oUPq0D9LddKIWh3FP7vtNv2ByaU/vyRoTLupwj8e5HGsfjWTP2dp7vlD0M4/nE+CSZTPoD/NV5MOZ4aFP1sSG3bARqg/F9ydaBDowz8De5XSwM3CP9cdQ0irJKU/eE7QT9ewgT+eHuwqTGupPzD//qp+X4g/K+BcvMz5yj8/Ukt2aTm/Px60cDaRHaA/L33M4Y910D8rXGPTF4CuP5tHbu5dXMg/NVSb157mjT+c7fKkwgG0P+6KnuyfZsI/ABmi9KLUyD9uS+X1eK+SP/ZSSRQV8J4/0RwqCBflqj9qPOds6TCyP5TKlGryOYo/XloeCogFqj+gf3vBDsGzP/yAxoyhqJc/wvrndJ1PkD/N8VWLlAnEP5+xF1g7Ebg/i7Amg+DVyD98Kr5G/OOVP02oyW3WEcQ/pbudTH7Vpj/NcoEGKsisP0gfUmp+PZQ/XkiY0wUy0D8j6rBwfQ7APzIBWzm8upQ/vcvB2KWmkT9O8Qum6smVP/YySpmS1G4/a685+ipXwz/fLSMRXP3QPwRkr15EZaU/S6BYfhezzz9ew+mqzPKlP8yiNWYH/K4/nAmpdTZLlz/UskmKCEGoPx3CxdIGEqQ/ak9H3p7mdj9gwd0pdZ7RP6VUP/NKpr8/zoEGWzdPlT+dDxT7Xw+RP+8T2SngV6E/dpAHzB+loj/W9kW5zHC0P6MjWCSd76M/DMuhGuPDsT/DvkvfhsyqP0kESY5LYrg/1d/DjHjF0T+HKla+/nqAP83w2pnRW78/ItMN4YvV0z8qPdpS+QfHP5DSEbkN/8g/IvC57w4TzT+46xlZGO2+P3orTO6ySoI/XzSyJ8V9lj/c19scSee0Pxw2arBnmrY/ZOGSr3svmz9AhdYs5nnCPzeOgcpJOpo/PK/wKIuByD95DDwJdqLEP+azVkr+Vas/lxJUKahhsz9cZ2XXCaq5P9IW4O64s6A/M1DIlVjEyD+pJ2wQjTWuPwL0rwXe3Ms/i8q2Kpmb0D/CqaeZlM20PwJuLsxXfp0/I6oKNW9B0j9OYFPIK9HDPz8r26zAc6k/UQd7Z0eUxj+lBTC01tDOPyjQ/RVX6LY/fVy+50jVmz/uhwLXm9HBP2GUynlbS7Q//m0ak/A1vT/1HNbO7SDAP3oAzTmJnZE/GFJ6S9E80D+ZUxBts9OGP/oaHqyO1rI/xWgYguOswT/fvhuURc+bPxue809MPs8/l4AQMT0IsD/kSJK4cd+yPw9xamLAQ8o//f5xwxvdxT8J0Tm0JW6PP5WUW5ZOb8c/6Zubwx5exj+lyaOkBuHBP/sBjYBj/cY/QOnllkK/yj/4Fut3E8mXPzjZYfTu6aM/7fb/aWAGtT+vYgve5trOP5uC6/09w4Y/sNuH722xoj/lNKqJjZnBP8gb6/MuBF4//Iz5KwWjrT+mGqNxl/u0P+ltKSMONoM/k/CNtKyy0j+TXOhzgJSJP4zxiiLzDcE/6tGvm4FDnD9c2D7LrcawP3qbqk5ICos/+op3oPWQsD+1Oewy2vJvP7QlXJsyt9M/qyvO30SqsD+VehsRWwiQP577n4tEvpE/xgE/GTsIqj+lsv5UXx10P6FNMRrzd3s/HfTkKIcmuz9b1Qgl6DfSPxNKivPZk7A/dz0op14YxT/MLvVqoMDRP+8x67w2Y4M/j+p7L0Y9eD8Gl0z3r6DLPxQt45ziiYo/iq9hn2nlfD8angj9+idTP3Tp7QfGwME/kd/h555NnT9CsPQtApatPzzfBCYwoIE/LyY4kpht0T9r7/rZHICwP/ZvnFK8bMM/Z8iWhvKmhj+cGIYCT+2UP7HTrMxfiqU/HmEZqVy2xD9jd2wQiHh4P79xtX/vn7g/HpW5ihrdkz9diCg48rDGP+x+FXfZUsU/Y4RWoJf7wj8sqtgRbIXEP0ZOhgXQcJ4/vUoc2bVwpD/EZyoSIkKmP+pLk3/Cyqo/VpTQre07tj/3TZksNYuUP8fGQw2TdNQ/Yh240QGllj/+88C8Bx2LP+egPj22NLw/yUvR1INujz/rar7NApSkP6PJQIbBGKY/wVGcEa38oT+F6jUpuRTQP2vRYUP9sqE/k+U1rLEluD83cPp5kVlYP6X8GcjF5qI/6Fei2Xubtz+/4VX08tWZPygKVTTK6bA/YWE7HhYiqD8AJ3WK9g1wP+6sOlu4a5M/mxuHhX08uz/hQ2/lGdKZPy0Fy8YweM8/Zfbr9iPIqz8+dWxtHcWiP15Hr0e0a7M/odOp+XGHoD/FZaf2C6GyP3X47Vk8234/9mNwVfDvlj9A0VmsnC1MP15nsIbk2I4/TVVGQ/5Isj98VQxXDfLGPzLBL5m945Y/SVGQX94XcD9n/5n8kNiUP1enjvV5rpw/2ZhKYMw2jD+AjGoHs8a1P2YnDC52z1I/Z7NmQ2Hgqj+bjXZF2aikP1HWvTuuaqQ/7u6wS+kjzj9Stla1OCC4Pzuo4ohDU4c/r5alh9wHcz/GHHRrRhTTP6rv+eI3BJA/k+UXBXsNjT/+GW6AimuUP6So3NY1xaI/4SiOFUmn0T9fCfHn01DDPzi8uHP2OLk/6tRZprkmVD8yUTqllii9P8zEP3HXHsI/KPNBeEaHnD+Bh4JPg+PKPx0IBf/toaA/f8a9WyRFzj/Taev+1qHQPwWGCYuH8os/5oUFOp1RuT9DeBYG1ZnMPycjaF29vpQ/1rSBcW9JmD8N5MqspcjAPyZhRV3Dzng/mhxSRtIakj8n0UJ8GkW4PxKLe9EtrZM/9EtD1GDisj9yyEA9TB+eP/0LYNiJ+MA/7HU22KUviD/WZZ39nAG2P4+Dt9owo5A/pVlWTHdGyT+myTLbE5LBP+K3F1uKcq4/kKCC3dKArD/XFhMxhg2FP7cgZezHfas/vQxLRhA7gD+VhnGN3H+nP+01OPitTK0/xS15ygHFxD8sX797smOyP0674it8d38/HcLk9WKNtD9iuxzIhNyVP1ls80oiCdU/b9cZK8IJ1j+z5avkhSK3P13pn+Ev984/fyZAc14O1D9tZNnLpsxiP235UEgtVKo/Vb/FZ6sodz8xfNRzAB90P1SabAY9bMQ/WYNnQ11LsT8NQAGorLHEP1GfyJQl+9A/RZmTdLfsYz8XqYlCL46uP/Z2GSdK08Q/MIRFGODc1T88UQKOuXvYPwU7W3xFQKY/ZgV7oYlrpD96Hsce70LQP9FwaRb3SdA/gb+O6+iVoj/ff1rL+35zP5LVyqwNcqI/70slKlscnT/8WirTvXzAP22L/Krzm7w/RPkkwk2joj8Vddij+SnDP2HRIAvaxog/igElYVrhyT+2154gmIPMP+EPJrWGAs8/CHTq9RYNvj8p7IhInyWBP840P2axV6U/8cfYOb4ftD+Eap6ObuW7PzlQ2YAE+58/y6XNlpmfyD/GCyDbMG6gPylBJLraNJw/PiXq+J/snj+CRXw3CGfAPxS7T6YqoaY/ejP16e1+sT/UQJQ/HXfAP0P3TE4TVtE/dE41mApw0D8dfIqv0Qm7P1tCHCMjUbA/e63/TFENyT/YHRMWkI13P4t9kQ00oMM/1+Rb9Ea6cz9nnVuQbvvEPwppAG+vTbc/lJlY5MDhzD8J/oEgflDCP0D2bpdPuMY/A/m+Xm4boj/5lomRV9iCP3+0EHFfypc/wZHI21r0rj/0TCkJdH2xP0D6p142ZME/2rfAb9TzkD+x3UE5Kq3HP7dcEGCHksA/H3qTHPDMpz/61Laq8eLEP0NE7OaTn8U/9pTqvT7Txz+rSAGFVAy5P8D6fcO8isM/sidvEJ4+xj8lFjU0wzjGP4H8xlKC5Jw/VR56SgsYkz89wu+F7byOP2sSn3uyo7E/PWhrskI40z96JZ7lrWvTP6MmPYsTJbQ/lObEbUFrdj+Rw5Krs4SnP1NnqIw7E5k/9qvWaSEXqT9x78hr9wnLP3HZuaxt7rg/oiHXoxqEqz+IQcsb0aVOPxjU7HAC7aE/KCvuSeag0D+zJd7Kz9nRPxL40DcWIHs/bh0qdx1GuT+X79QLoLbNP3UniW//Rcs/J27jJ/BozD9DffZ3VUvNP+1xNs7dXMg/QYWWn29ugz9vnfm4JOaCPwF2j9b/T4U/rupym3y7pz8qo/6vM/iyP/0T9XbyXG0/QGt4itqoxT/a9t0/O4KtP+FQ/fkMuIU/6uwpCQ5rtj8o3pC/V/fIP3T/pUpAbc4/7Mw4Oxndwz+/Vp0/dZfCPz9IEfWJ0Lo/KYnjcOSDnD+MNqy30AjOPx5EyOL4yZM/ywNtl3t11D9NMCQ2aRTQPwInRsIY7pE/I4EneYLbtj96omwIRB+YP5hpQchIRrM/HNH53wSLkD+1SJihkfO6P1Fovcrr1sU/0X2zIkyIyz/NSZqXx7OsPyeC/1GXuLQ/OM0nJAVryD+IpMLMRb2VPw4HE17dX6Y/TVWt3Gu1uz+jUIA7lH2xPx3lgpGsW8s/zD6FLrfzsT9//GVey2OyP95d9NRjBq0/adtoTU7tkD8kutn6fhe0PyGg7Tdkdno/IOhoDMVPnT8HK9tpZ6HBP+J2+HDlhYk/JhMF7R+Grz+ywu3fVTWwP7uQFKzSwL4//WQaxZThtT8swN6iakeLP749Qa7dxsA/vuFbWQAIoT/xdTZIz8mrP2g5flDZcLw/46AasGB9zT8w2tvSRJCcPz5WKGFMqXI/C+P1zmKW0T+FMvaG9TipP/Zqp7/q1dI/0EQN6T1mlz9fbEP7SDq9P8S5vLVvPtI/RUBjNqn/hj8RDN6bfYbVP3tI2HFz+5U/nf6cWaluoj8ExgL4mvtuP0PawVfIiqM/tDsQO4E8wD+lttCVUsGnPxnFgS3Fnbs/YTtRmGkplD86wzAzeWDAP+nm2UmdF9M/lbnTgpUnnT81sulbI+eoP1Olwqes3ps/us2E8gJElj9X+lyqaezNP1pGtzw/5M0/Lpmz1NsTzj/nSYuYoZyRP9crxTdoIbU/Er8TfgS7kz+VsH/DboqxPxGtHZt3JKs/RAjPh4Mg1j/6EWoeWUm5P2+cCRC0ecM/G2z7La5CtT9gO4VKsBWjP6FQ5MCRN7E/ZcQCfGACsD+lux1DvnNhP+cEUEnu+Xg/KmDcEQ19qz9xJyG7+MDLP/26n4DsYo0/L/7wQWmNyz9N68k4GxiiP5JukCgdFr8/0MZVbVWNuj8wwSMXybjAPznsBtqIVJA/HKqHuTy1lj9385PPC1egP2GXQv2ZErM/WDqD1LF0kz85WP3y7WuzPySvNCFYn8Y/a8HsC5hLhD+DypAklj1DPxUnUSe4HIE/58twusBLxz9ogGA5GcaCP7k1eNDKf88/4nf0ERHpzD+i0Gv9LGhaP9o9nnYv+8U/EBXYTPrelD+Bza6mddHFP760qu0HRII/ZpCRl1OZtT+y/aqfq+XWPzuiaNcACKI/a7RO23e2sz85tdvd9cqDPw3/oFzDV78/f+ftOgRKhT9lnGmSy5+hP/qkGyt1k8Y/TyF01ws1tD96SFoALaedP7rlBhU9/tY/QPpqvzpjgD/nWBGArRrMP/5TEcaV0bQ/r0Gf9nrCvj9ge0JH2ZPQPw/xoTLtzrE/joTSS0R8wD/CJ7q8q1/APyAc3Rl6Zsc/VM4VJXR2qD/o153E+UyDP/wQWPp4v8M/zDyhSCZtxz9q+oz79PKcP92POBI+D7U/SmppcmZwsz/xnRMUpZmkP2a2DWh92dA/Cr9Zt9ZNjz/f6b1bKmrSP0TqKeNGv9I/fiB8yxSUyT/42lNNj3jFP0wI7IY3HoQ/GnQGW+oqzD9m3agAgHrTP85jX3m84M0/w/ZWXzgr1j8YqrzOLMvRP4seiX+jPpg/AKzUArjhxz9BPqFsM9fPP7esqjDPo9Q/KK68X2d3vT+Yiplg+ouyPyiIeuAky6A/CMRDtTC+0j8V6nY1KlSsP26yylhwknc/2paeeW1NsT/hhfP6f2HBP2/jCZH4vbU/DMHsXAx80j+dyIbs7AzEP/c7LiyO5bc/cOIuNPzLrD+jJhvhFiC/P9OdUQN1UcI/rYOenOnPpT85GBz7P4XRP3oPSXIl4cE/XOfNHBCpjz/cFg82eI+PP7LS1c27waY/gvKgfSjmwD8SUULB5MDVP6JEAuFB4pU/cBqD4g7BoD/zMzeuhAXWP6tT/HJCuKE/Yv0yrm2JpD8Kw914Xs1yPxfg+2vh06M/kD8uxZ+Urj9/fP7Mu62hP6Hzopiklbc/ML+EAiF2sz8r1wZDN/bTP6GXSVIrM6I/bXGuIvL5oj9hRQVB0LSOP8pPWeykHtE/j9iZZSYomj9dowH/O13GP0gZc0l+JMc/9J8cyxv0jz/nbMPLJCCbPzHSUH4EsNA/BkzXBN48pz/JrjHSOJ+gP/T+JgVXq4M/c/u6+wACvD9zUMRpZPOUP1W/9msgcbA/Ci4n9iiXxT/J9luVQs+NP9r+psDC7sk/GEydp3mPhT9LgCT7IvSzP+HJrHT/ZHE/Jb4FAxhLzz9PaA/FcVmzP+Pybuul7sE/+IDVzh9njD8Rr1wqBeu+P7wR+pNnIoQ/NvwORwC+bj+hEWW+alXEP64kM2wTMbc/VqHhXkHIsD/wH5hVthbSPy87f9KgUMk/59aqWwoxvD9LMxHdBvuWP8+tNZkE77k/DwaoPELWsD9dWD27Bu2hP6QChVJxGNE/PQwNTUwSpD9rrHCOkOmQP6ijsvDQC9Q/NlnqC/zL0z9GrGVsjIrGPxOwj4ecpWA/aUr1CFcGoz8JuRtW9NS4P2mM8qud1KQ/YAlyHZnCsD9hbAlxS/WkPzZL6ZnRXoY/nUbPxNC0rz9d6JiEj3ehPzSNFXMZm78/1VDFhIhazz9jTw1sof+hP1xtqzi8Mr0/8ruRoUtOyD/wF7WXVmW8P3Jmx4DAN68/vp8DQBAIzD/XahvsD36zP2G8MOO4v8k/osmjUc8NxD/LrLlzCYu7P0itin7XpY4/sguYvOlDfj9XYUZZ0uTDP2SDv7yAFc4/dXCrqa6hqj/uGCS4+bOgP4smI3Tlvp0/fMeaVUoB0D/2+4uI2aSrPxSVT0Q6CYE/WnRblEGYez9lA4LVW2q2P7fEX1eLALE/x15pYX48pj+S6Bbsu73SPzSTVN8T0Y8/lKb6VKJWxz9eK/5QYOK9P72G/oPJE1g/c+hL8G8Azj+fl85nmoSZP6hIzM/nbsE/o76Xo6nGuD+MVRCKGYCUPxlZAoSzzGA/ZdlmvAz+wD+xBYrZsImXP8tNYP9+iJ8/OXM6IiXDxj8GNczwnR+VP5dzwVc1tqI/8tTj4p4Pwj++ITXPAESgP7WJYMKLWqE/wEMXDUD0tz8F/839KPupP+IC5HYz06Q/Uwv22v7klT8j+yaciCfUPxhZM5ow654/uG0no+DUxz9m2fjzUo7RP+dTBB0n3ZM/npNOzAtnzD/0dV0YrorDP9prdXKaTqE/bIIAXJ+Hxz8uOG3AHaCnPz74Fm73HWE/tABM6MgYqD8CIANnA3HYP9lpictcnIg/aGZ8O+Vw0z/x9GNXp6SQP+GbQzAKtJo/r64Bjc9J1z98UWrmfFmUPwRylIlO3NI/qG/YU0Adlz88qs/8jHmhP5FrydJ5ptU/bpUEsr2kzj+j8nzI96KyP3YSvNPIrsE/MKL8iQV7oj+J6hV+yja4Pz137DEYE8w/DbfIlLhSyT/zpjgggU9wP1fUy45GDrM/8yH5S+z11T9pUxjNW86gP17xIzl9SpM/P26qZ8VBqD8ZI+AxMsuJP1FkfT0DeIA/0a6zJ6eM0z+4AYLGmX6MPyXPgzh4amU/zUfpOS0Oyz/hVoN6gwqUP/axh7mxFzM/jKnmJ+AZtT8BKmqKjeHLPxBkisOdb8c/CzatSw9Foj/U2r6rHw7KPwa2vBVgcJU/PveZ9+pxcj/A0bI73AO5P1wjghlnyZo/dAXnXCmZtz/d+Cmv1iKVP7tcjNgADMQ/x9QcVw9MqD+wPKptapGcP59BOa6nEpc/jdWQ2J3otT+bsNc/Dh+TP/34WA/XB6g/vK92zFk3sz9jL/w6EpmWPwFmpWZAcrA/xp+HQ6JA0z+A43ogd3S3P5UrdP5p98k/6rRq2odx0D/PYjeNvFEnP27REzVAWtc/SX++klkv0T94S+Fv3UucP8M0o2RSYp4/dbYrYMDqjj+aBI+NUs2dP7uYWOK+Gs0/JLc8eJevoT84tZgHrrfAPzEwxSUe1cg/2I5IqxTzvD9Dktnjh1vGP4rxq9tu4rE/9SqLDMrZ1D8aszKvCN2vPzfGbvh5ecU/Pq/vI0a2vD88Zh13wkNzP185kgSd5pM/6m/0ZKHL0D9WbcvsBUTAP7tWb/GXIJE/3MU1lVtLpz8Q1j09QX25P5Be8ZBniVc/2un5MlVGvj/XzhokBLzMP6gr+2lfHkY//CYGY/Vt0T9whm5zlY+yP2Puv2VM9dI/RsaqZvmPuT+1Naz4gxmxP396XG2M8pg/BznfgTbmuj/P93eq0BibPy2WM3kqZ7Y/J1di+LbCuT9Jyr8YiTesP23GsUPUg7Q/2tT3tKwOpT9JDVtPZI7NPyOXutvvDaY/8RVOZmxPpD/gtzqKKgjLPxvnshNnzbQ/a+3+cDtzwD+dByS08sGIPwFpiXzNFrA/YBOzGqaoUz9lYmrsxO60P7DdrCHLM4c/Jo//CNd+qT9V7Z5hhL6/P9BmuNdBWNM/ZxYDmYyYsD/4BSseKk50P7NuMJxd3Yg/k6LEpgkxFz+RjJiuyxWUP+/QGno0bKY/pKS2+ZrToz8WKZhYYUebP3EBsNOf2YY/lKWaN865lj+RZyGdlrWWP30bWJbwxpQ/7+ZMO/NauT9vHXupiDrIPzhid/BtFZE/p0ThfldjfD8tnAHd55/GP89bEuGIAbQ/FXOKp16N1z8F3WVfuk6lP3BAGA8aj7I/JMIgm3ySqz8lUI+jZZ6iP3dzFa2b8YU/RDNvvfu8uj9ZWTTWoTGfPwAkq+OFcM0/7I99Y9RanD8xw1T1w8utP2SfhOJVR78/5UVl550wkT/CtI0Z4hw8P+6R9bub4dI/ZJIIazv+tT/FHncps7yzP+TVx/4ju8w/Mabv1lKwvj/iwoKQ/MelP1U30gyom5Y/bpG+ZPaEqj9b1KlFsc/VP3CGA/GG+cE/7JMVyra70j+dGSwXC/jEP371xvv2YI0/bJTZMIPBqz+hKXzq5bSOP4qolmj4n1k/GvCZgKrosT9baXP24hyoPzc+yfGpGss/R+KKhf1dqz+C8Ga1Ixi/PxakYkC1Iso/IuiAZnIKdj+3mz15RHKHP22OodiKI88/NpxnGdthsj/58wABofWgPxTT9nEBJqw/aiGn5K3wwj8xQcpcpO2OP3MIDjrx3MQ/NHz4lNFhkj9ZVkEBjpTEP5RsX1Mdn9A/16gig3s7Jj/tYLV8whSMP0HQtER9yb8/d10jC0Jdzj8p64C/hOfIPxpRAQ6sBng/CjbTYUTzwj+SApNTal+jPz6g19ubbK4/MDyntDKLxT81cmc++vy0P6DrrqSDfa0/PBzSw7rrwT9gG5+hdRnXPyl92DbQwtM/XwpML/pRkD9lQJFXa2u2P+YP1Vlxn8k/jB8Fa8R+lz8AkfjlR/DAP+j6FljbccE/MhqOQ4vtrj8vuk6h2wGhP88kDSZ9lYI/7IGBRyrnwT+Uz/YZaE7CP37VpUcyP5k/ZrjS1x5HgT+TaSio3c+vPxLE005hAq8/d9pnlvSb0j/Fn8TI7w/PP8JN24MYQbo/Xy7ZJW0Uzz+QD42/rfrQP7tN4+AU3oo/GKxm7iW7xj+MUMPyCVmwP8+VyLgS980/v6X1jGobpz8XL3VygVicP2MT/gf1VIs/vYlpQ0R6uD+z9BCfqXyLP8/m3JHdorg/6yJ7Fzk/jT9fmEDDbnSzP1gNiOznz5g/owyVYx/ouj8VtBVghUi2P/nLEsKQJbw/AgTxuaQOnz94GxjR89bDPy8BehYAeGA/M+9xs2r20j9OGvaovg/FP/zGf+SVtyw/o/Gwnt3GxD/6wkmgJGiaPyJWTssfKp4/YRI6lidUlT/7EMBILX7OP63lQSwtH7g/wadq/+CH1T/iuP0r0VnQPxNonzWZ3Gg/s2IKJhkNqD8FPO7GZ2h9P5jN8rqEbF4/iJFDKB5Vqj+S/qZtD9xnP5x5OYYO1Lk/Yny7OorE1D8buiCyOYayP+PH8mh3n8U/TJXBPi4clj+g5oKpUs+xP/f/60hccYQ/ZVtIPgnLrD+zAlAhdx2yP0qta+s9LsE/0uqIhlyLxj+2Titb9qmtPxD+9vZvs9I/zudp5JwnoD9Eb1myuI6NP5oxKTxkTbI/khv4X63tij9urKyCXeSZP9z+rsJiz7M/hzZuW97Eqz/8EzhOqjyAP/+xsjkPor4/gUmBGVMhvD+qtSLdYyqtPzjgbYCUMrM/d8ezoATOoj++VRdE373RPyzkpQcNEqY/Vy6QAISQwz/snBAmVZWeP8ABEFu/Dsk/D2Gi4fqbwz/V39c6d66VPxBSlRUJPYU/QIJ+IxlctT85nT67hKm4P3NHJFTjH6M/EPbBekgauT9PGsYJKXXQP5BqjLHCgL4/OLU092djqz94o2ga+Oa1P16gefdDvbk/aD44hTpDuz+wtjHLgvHCP0HFsnhlXr8/7crk9499Zj/CAU3fGhbQP4ovtxKSO6k/9RuV5wz4pj/eKBrKeli0PwqrjGzZYbc/ANxbewRfwT9MFmvWeYTQP0dqPrGWVp4/CXCN7oRlzj8995XdIrSyP71Atj/B79c/Ma9cnERwwD9sAEoIJTKDP2bf9kUfJsM/2v1OSuVuiT/kJJL4q5+MPzA8T2f+urM/MJzG5y2LsT+opYTDE0ZzP0EYPze81Mg/yByif5h7lT/TG3oonzyBPwP8PKPeHpc/Fsf36pi7pj+jU6kMdwcuPynGFqr1RJA/hR36uSkdtT/UNN5Er4DAP6JVjoxIa6M/SSldmwp3dz+qjTn3JzHBP18YYEPUrLI/S0miPXB6nj+uN5wTf8PTP1g5DFXCmrQ/QxZ0iJCMsT+ceEe+SrCxPzmF701UCoU/gc0WZ7/HeD8X3mYAGKCvP4xddjAXE1w/K55GSK4GyT9c0opoJPWgP/toyzjuTtY/4Mwba/Q+pT9zJfQtALl7PxU/RjSZI7g/9+4dWK4Kyz+iRiwEYIa3Px/ZM+zM3Ko/XlNueZ1AwD8W+/cQgximP7KCdWGAeYA/LDPTyhYElT8UTMFpHjCiPziwn9ezW6c/LOU4ZNaXoD/3noX2y/mwPwATSSiimqA/3CsdFXuE0T/HJJX2X32iPyjvR9gdtG4/AT0GG2Y5hT8PvWDxaufGP4P6x3whbaQ/kE5U2QxOuz98NEZghTTQP+XG+bebk9A/Y341bS+lrj/LI5QUJiqzPzMp8iE+0pI/SIDzWaCdjz/GdixJyADRP6gsskuoAtI/TPulR0VQoz+TSt/GQHCeP8ru272Y0rs/OrOWFcOUiT/YN27Xj4+1P4NoOVs8GJg/k/alb+GJZT8ddXIHd/7UP5IMH/GavpE/Yvps020+gz/B0sQ3dViaP+N7Z3tcpJo/g6fD3CpJyj/kaKFWQ/aTP3MUcgLU5tM/hJfQZJyNxz9wlB+++P6gP8bBS8MeoG0/bKgv3ANmyT/LD8pm/jGhP5Rh8geYvLc/Gj+QK7tpcj9XYtJBviO/P7vd4ojfo80/7gc/S9d5yz/aYSFPEH6NP4RYjFQwNcM/i0qZL4gepD+eVXuCAGvJP8UOiuXXstU/ct/wVneQiz9Fb9HQy3HCP+S8pOpwlas/SMlb3SSDuz/U604MeM+NPwS3QDMNQoI/9aI72ZuVTT+BqlLXwBOdP/ZGkJskW78//dX43q5pfT8ByvyCVaTLP0Q+/miXYpY/glO4PJL1yj9FgQQtg9jEP6NAzEoF4sI/9XmpB0/dfz/asO3HTwGrP/lKWIVk7dQ/yzJlx474vz+73KpO4KzMP4Le6NqE/8E/0sRWDRYNkD+Bn7V1f4PHP4JiaAPbgJk/nn3WT4TYzj+qzAZCHvzEP+Q1mSuGuLE/JV9KjKHQxT+tjkO56fbQPyBo0bqHlqg/gEGf3ktCsz9J6dLgwkDWP0sJNPvCzcU/QvjwZS6avT/53fAPLXWtP/ilQa78XcI/u+3PaFs9Aj+uIO+B6yzBPxboBhGhs5w/3CRnGox/lD8w1JJ9qaXSPzBWOEqd958/ejsxgdLEzT9zdISWVbPRP5TlPcQrwsg/WiPzACXNxT+UdTmNQ8qlP1GTT3fe8K0/mVa4QzGwwj8yigO9QXhqP/dGM5c1pV4/NtCA2ngarD882DVMPI3FP1ROtzMo17E/XBt16Cp3sT9ksEu0hd2FP8GTp2mOeJA/ExIE3PXirD/uLST0t9TPP+14TR7dA7g/SHOVbSpPgD+PlXQQpMKEP5V4eKLH98s/kz8jXLH7zT+PLztPoauiPxlhTA2/p6g/F6zdz3RPqz97Vrjz03atP+4WKb/X+cY/wLKaCpQ4yT9TEYk1ihpxP70DZ7qvG7A/0y1pkV1Clz+/FC0HqHLQP1WIKtPD1Iw/hpTBw5Z0yj8fVHEPvrK1P7DZXHtw7pg/Pcy1BjYWrj+8JREwFrBpP/X2a21PsJg/7LABdtP3wT+pRshcv9bOP30KA4D25Ks/7w/cHsuWrj9qnNT1pMjCP6YOKKAeHrw//WgQGzDOfT8OSVi3niaZPw1UNOsPd7E/v3DaQAGacD/iU0/WiTGeP7syNhwVdcY/ll32hGFOuj9dPenqkFuSP+aKzs6tv8k/NDgoSmAUmj8x4p1BsJ9tP/S+We62cpE/ndNiSrZS1T/3oQRdqoupP/ajAzW45Mg/XUiqQ8hpvz+nGdXSRNmwP6Hj0tAYKKo/74LYyvmxnT/bfwW6CfakP9dZKX2sSaM/Gvr/1Of2tj9Kleif9RF/P3BWN7s8PcE/DtceMPoUuj/SBBaLDBWSPzmw1hDBvqY/SF8fLmWowj9FaOjQXj/SP87BDoECrtE/I55TEn1Ckz+MSGITy9yyP3AoGlwWscQ/dqxVCJz+pD8I4rBigJ53PzG3pqyq/7Y/yrU0fUWh0z9BaktRLymYPwQuAJ5HsqE/K3J31PzOtz8IiD85bdZ9P1daTUb/FXw/hVsQK2kruz+mrv0/SpmsP3WRLQBZAZ8/QtQXCQJ0oj96sWXf1HKdP42TjEEzy6I/XovGEE/OwT/787sT7zzDP6YPsrwFacw/d7VM6foC0D89tbGfPVDLP+b7Ccp9i5o/hliTdwJ5pT8t5OJlsLLXP5faVfJX2Hc/xOU/GNpmwz+Pr/uyKBeMP4JpnvCAi1E//M06QPOOqz8DUjtDltSmPwpgXb924Jg/6sT5/cjyrT/ozsHg/NaSP9zIRWZm5po/78uTVWEGtD+H03FpTWupP7p9btCzXJY/ae2I0mr8nT8Dahmj2D2pP7G+EmCYkb0/rceWUYUwuz/gHWyHBP7BPxExhoytXKI/RECW5ZVMtz9iKmhudaqrPwFxD9//p5M/OE11qt0VoD9gQc1wonaPP5aB4MDrgb8/WSMhqhl9nT+cw2zQ3CGwP08maHKe98I/xTUcIRjvhz/zruueF6zPP5FuUCzCI6Y/O26zqPKqxD98AwM+dZ6VP8xq/GPFQM0/10cPjXLycz/DZP/kcMXNP+xwXR0sA6c/KBUEMU8jwj+HTVbeEFLMP9DNaDfw57s/Fvvxo7zcyT9yaxXBmo+wP6Quk0EVycU/T2g3zAnGxj/Y7r+6nRfJP3jij0xHUKQ/Ot1Wv1Buzz8LyioNcxPHPxKZBMFFwp4/8cZQXkeKVj+CMPgX/cm0P3f8lrYKhJE/+tZ9lDtyyD/miSggjVjAP+GNnTfXaKY/yZeH+hfSkz+T72aDPafFPysFoFnZeL8/MeFkN9lY0T/SL3yy4y7RP+W3DUPkDJA/e/TO07p8gT9VLNdbVnCxP083w4CAGME/jZrwpSW7oj+LbGVOhGu2P77jePnucZg/uO/8DEmxoT+05ynCrFS1P2Sb3U9WKLs/PAIifLjywD+svJWZ4HbOP4xToH+NwaA/caTcyZ39oT9neFWgmq+TPziEtXePZIY/kP16+MODqD9SP3TI2aSeP8nvq8d41bk/fyMhyN/O0j/7XoeqLZe8P6ZCeKdnmM4/uxnPcx9vqT/dwhQiWTSiP9FQOdDautc/+ZU0VZrBlT/ZZzA937a7P9dbWzbmxJI/ukilMw8/oD9DwObYPN6+P2GzG12iAtU/YuiliNZPmD9raqPKUFXBP9WUXGpqwLI/xf3k9exbzj/L8K0/yrewP54ureEDAr0/bhAlaxVftT8HLgdIiVWTP9lq5dR6zps/Kua4zgd80z9xiJYmcY6oPw6Wve89vLI/9gYTk8byyz/dFE+/m4+wP8nY+os+oZE/Iqes0m2fwD/u2dqGChGDP0D+fADrvMY/o0Ahepldsj9aFbUt1Pq1PzZxhbFgWZE/CF+P5OkZlD++eyxRnlK/P2gbiejtVNE/W1q2dvpxjD8LziUonsPEP4OkobXy5cQ/71eLfHdvvT82X61JrFWhP0XQML6Afpw/UVLmn9gexj+6NZ8j88CbP5TqN5dZ5r8/I3GoOgMgnD8G+WBkmBaUP1HHCrU10as/ATCn90f+oz9oCTnYl+zRPwIbIa5lYLY//XmKFFVPyT8Q5K7+UEDXPxnEkB2P/54/i5fPDLs2dz9YHMzqgGZNP4BhCiRj0rQ/sdeBw4qjpj8BYoj9HhNWP1jwNqsa5sU/Hb5EXDJrsD9RfQluinZ3P3AyUSkm9II/2RPX4wisvT82kaP5M8umP6fxhXq70rk/MYyKbQ60kT9WOalNnmyzP9jiVkFj2NY/HgMdRe4buz81Xp+ntW7OPyEQVvmsGF0/Penbuv74uj+j3/Kmt1TFPw4azgiv38s/uHot7NdxuD8KXw0kBBzKP63GGmDZQL4/OMyXxGmzzD+ibVgdX7SjP6Tbg7Rz1sU/nLvjqKyQmj9N6wTpu0+dP5O45zphtZw/Y7ro7BHqpT+7ClxSrPK+P+hp2D3h554/4oFHnGaqyz+lR82XPc2kPynF4Qrh5nM/Hz8NSraqoz+foLFCIOCZPxFN65uRlck/PlAKEnNYsj/pR4Nsk7SnP9ErqDBxN7o/6Rffch2G1j/rCL1O/Z+jP67QuSyZNKA/GOW16rWvoj8LnA0Kiwa1Py35sRO/V7U/8+bkIbWKtj+0BF1B3F29P0L1g8MuVKk/UDY+B52ryj9NmbPiQF3QP+G4U/pmmKc/YEtu+U5Yyj8F2md9RezNPz/i8sIKPIU/p0amb09UpD8jYma+gPixPz8x1OmMIps/vRm1hlvwzT8yMtGKy6OwPyK/+mTibMI/QfHp14BIvz8Hi4Wt8p+qP7Ur5dWb7IA/fgjoqMQ4qj+OaNqBtnHPP2N99qHxwpE/zQ+ad/qMqj+31MXyLISlP9ynqJofcNE/uQeeIV0Dwz9F/g92mZrFP2NqrhlR2oc/zwGK1MiG0z8yxvgp07eXP+bLzJlvWr4/DdEhrwRquz86q4AAfUC1PwcmbfQtUWA/oGLHW7CoiT89i2fr6teeP/mau9tX9qc/5qE37+IG1T8gfoDiN6CiPyCJhzAmlKs/5jJJq/mOsT/p09mKPcS2P6HG1PMmL7w/zQUwWzE0uD+rgmdG5YTEPzfTXn73D5E/rfa3la5Zvj/pG+pINuujP2oDMm76uac/U3NFzo1chj/aVloyB3OlP8UlO/o91cg//FjRJ9myoD+R9rdmd8u4P1PNr9jUdZM/bF1SxsF+qD+xdhpufu5zPweG3Bdhq6E/N5g9R9IW1D/Ht8hSJRvSP2QAx7SxcqU/L71YMu9Wpz/jpj24HF3GP8Hw8MXazJI/WyOJkiTRpj8uuMmDMOiCP4HEgz14NqU/zHa45ZpZrj9WXdcTqmO+P+AkoJsrLaI/8W9+Z8mM0D/FTWCP9irEPynsX0x5mII/UwUBK4MIoj9mTeY198CEP89yNa5w77U/2isHIr1UwD/XU5r48arCP2ad/S1N9ic/yynqOWgvvj9L4S2bC2SgP3zxXKqaJ74/CK7B8Y6gtj/1ewSWQJGGP2FyhcMPG9M/bazGPH8GYD9QWmjaGTzDP2Iuf7TAVqs/icp86BQIoj8KR5iBEnauP75HLP0UhdQ/U70loH+vcD/laa0SnXuBPzgnBSQo5ow/706XNbbavj+Pi0BMOKaJP4N2JLHOL7o/cMp7/xj5rT8LCdIZ50PFPwxSEGWg7J4/1nYfvXYekT/FblFbdnyqPx/y1htAb7U/JtrTbxzFsj+9k8iaBLrAPzN+ZHHSYcg/eq+V2EXbcj+itomPoO64P7nDkkvOSqE/KAdmkaTrkz8N4N4lf3xzPwOQPSJy12o/0pbEMwJaxj9ChjFll3zQP4RGK07dx7E/PwwxSdtqhz+R2OeeDuOyP7rbpdSLG9I/V6nftXsrwD+zkwmGNbu2P0bfI1L7Wsc/3qQXIl01hD+tVDo8mTmVP4opF12p07w/lTOLY7k/gj/1woncINyvPzyhuhfCiqU/w+LrYI7ApD8v+EJu7AeiPwn4tsskZLQ/0pCFKrJ1pD/5NJcZQg+7P1Y5roFgKKI/g1eKGomuzD8p1XvbFH+dP3JU3pJCR50/E478tOp5wz+hBNaiyyzSPwVzdXpFXsQ/LVhTNkoEyj90/iYgfV2LPzXudQa6m74/f8MSP4vOpT8ZFnBSRI+TP1MnWgXyL8E/kdf7rCkQpD+ZrOizn4i6P01u0oYZsZ4/bgfVIwL6xT/vTyJDJdujP9L2CCscYpw/wLp8xiJToz+BIv5r2BC7P7NTX8Dkb3o/BC2BxpiOuz+89D4xA+mzP6wn8UHBsLM/CO9ueyIYqz/IZeO2raKWP4sFvB+er6Q/bzDlgVystj8zsidEgGzJP7pd6YQiCZU/0BuCYeCXoT+ImvmfMTDDPxkRA9tmVrE/YV31Brw5xj9BsQKfUG62Pxtnp/PB+6Y/L6bHezGitD/s77mvKtS2P8//TWVPKqQ/LfjWqNs9hT80LpfCO4CRP9QM8GPuBsk/5C29PhDVvT+OksSEWw6NP4F/g7nkg6A/FCjx14sssj9UH8l66qyrP4cgvk3SIsw/7Ctrh21yvD8poIGsLASzP8L37UK6NcE/dyla8Ee/yj/K9nZxlkvNPzrICCf7kLY/poo146XUzz9rSzYvl8GgPx4I1cVjZKA/0se++m1Juz/rMmcHM5vNPyVX4NP1yss/wLZGeLQ8rj9HcvTNTpyWP2r1WpEOUIE/XEJx8m6euD9V3OYOPN7NP7L1IGawjpg/Xs9ZdFK00D9OUJ31lWKGP+ZUgUuM5sI/F+0Sp44Uez9kwOqbY66NP3RqSKZz5ZY/JlbIIgwRsT+sfTgh8qDQP5K2rPSoq7A/TDPFeylQxT/ot2bqE7iHP3N4pb8lgYM/mA4bbPT6oj9YZfiBekCkP/4fh6BOccY/D6DZktlnxT8LhQNELqa8P2r/yf/fnpo/lAoBz3S+qD/KH3UpKJCjPw3ledr7Caw/EREQUU4EyD+5SMCUof+RP0Qrg20iBsc/w+2Abh1S0j/rZHb9yAjEP93DSOfclLg/ZRZUL3O3oz+7I/OjNHKfPxRWXlyeg6g/tMA9vhHBtj/9uM0cEl6LP9SrWOoF3YY/SeV30FG/wj9s7DNeZmewPz5iaa5Wlow/deX9Nm2Bdj/P/D5XGajJP6lZUaGs5To/62FBowhtsD/J7ADynQuVPzIJPJMZVqc/u+yv7es4lD+6o/KyjzzJP0JEP/7SuMU/cHUIMQtbnT/x5yso79TRP6KchUQ3zMQ/H2k54kc/sj/0grq9fumzPxrs9Hz5pM8/oDrZjpGcnj9+r89awdFkP2tQ5ghGNtI/ULxStDnw0D+6PZ+Ct7enP3tprVsexMA/E2SOL9tpkT+9pwWmou7GPwk13aZMN5U/xG2cHEIGjz9D5vtwIPm1P4BP5lq90KE/0PAHEnv8wD/BAhnujkPAPwM2l/xBxLM/tpefcTaitD9I0cAVYM6mP5ezxsJLi88/ZN3qiOD+cD+zHYszw03PP3OMSKvblpY/uVtdZMkhyT8xyhWOe5nHPw/OqQvaLKo/SUaS0Dekwj+oN+er31/RP9jUh6nRaHc/oaBhRhZmkj+SP2G0zHGWPzDiZ6r2534/mN19+76qcj+XvHbRrZrQP9JDlLRqCKY/trrG6K5ylz/3co6A2NbGPyFfI/CcJ5M/nBhk+1eotT8aywUJph7UP5EgHNeM6tE/SqkfBk2Ipj+fh6TbLYWtP2RcR4iI5Nc/u40rPUKHqj/ZlNLBpw2gPwpdlaSDhMc/3P1Lq/KWyz8=",
           "dtype": "f8"
          },
          "colorbar": {
           "title": {
            "text": "yoshikawa"
           }
          },
          "opacity": 0.5,
          "size": 5
         },
         "mode": "markers",
         "type": "scatter3d",
         "x": {
          "bdata": "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",
          "dtype": "f8"
         },
         "y": {
          "bdata": "pREdHlcv1b8atl5nqbPZv5v79JhV/7q/kMyMA2WEqD9yajoyoWHnPwUGlJzYi94/eJzObd7IyD+Xum0xE8HbP9rKqqTb8Yk/4lc5cHAe07/yuC9PEsTQP2+9uzvwB/A/6YqPPavStT9On81YB6bBP12vYnnlMME/eVgYC2pp3z8kr4M8CojjP1Se4cmrAta/+R2hM7uhk78z3KNLVJfVPzAiRSiZYMq/TPe0d8PI5D9VV0QfAS/Av0B7a1+rIIY/8iCQSrtXqb+2CtDNBd3JP/Q//RP48rG/sr4tdEruzL9OdVcqUs7DPwLoYJ1ooN2/REZihdtEpz+It0tQLYusP0iS+HeBc5c/DyS45su90z/whbHzrIiGv8sYzorqpbY/UQNymJcg67+Jqzr5isPHPwiCt0kbYbE/Lps1kdIi2L9sn3Kpt1qzPy/HJIoLYcA/690YM/V+uD9SZjQ277WJP2USPV/Vld6/pK6nhfDdy7+3ffHJb1LivzoDuZiDe6k/cmN7dUdP37+/K6WyovXAv1SvCjvS9tw/RVEqzOg8uD9gHZlaBBM6Pxb/Mv+I/7i/WL4S8w9D0r8A8AHIzKDJP4IKvGW86Nc/jrd7Bq3q0T8lSZ7+/2XRv9ymzDhYqum/ycNkVCAaqj/acPp4BmOlvzYeD3JRqra/AEqjqDb33z/WiBddlLDBv2ZzPi7WDrO/CIcveR/L2j88JVfXIe2wP9B8vcGMC+k/8AtkmiXAzT/g6+PXHf+MPzVUfv7Yv+E/Cn+TTu160D/I1ey08S3fP/GFsdPxE80/S9SRFn1q0T/JxOKuYi/uP2x3Ol+fkcE/WPUN00pJlT/QO8hCcuSNv8BLrljiboO/AqQsKfDuvD+uLIP0Yk2gv2q5xobl+pK/oyOuPjfg0b8mKzMGcEWFv3J/zNJcT88/WK2ZEbTIvD/geOG7XEDYP1oE0r1qpa+/DHXZSfPD4D+AjS9aNRCdv25zELiWYdO/OmlLYYxour9043PyjFfZP3UKkJ1oCr2/6dQoMcwgz7/RMTj5oka/P6DD8lv8+Lu/jjVDlwVnwL/rjI1wfxnbv9KYVoDe0dC/Ey+xSLP8zT8cC6JJqzrLv9m4OTGl5+E/LadZMpSJ3b+SIX2RNznGPyoDJSTAg+K/PvdblNUn1D9c6MVjN0u9vzv5oaHhztO/SuhlVYzNwL+EsNqDckrHPwe+eYsOOcs/fTwhMjDdkT+7Tk6sH4PUv4ZM3LBN5bu/jxKvmWZm17/+BtpNCuC1v/3VNHq1/sa/8ikNDp3Dy79wewCNwHpfPwh06GR+LNI/5Avudiyu6L8g01HkXE/HP5peOs4bNem/FQwPrTHFwz///aOR+wmrP4a0WJ00Kr8/Jp+CapJY0r++tQWRkPynP1QIn+4Jg9m/Jne2UK5it7+jsG0Mchl1vzgj7Mf2q9A/OrRsxye20L8OdFvnXejQPy/AvbN0iKo/Nq1mTcGmsT/w8s7Lc+KPP9Dufu1CN68/5PaMvTMG7D+6o8ABD57avzQ/eljl08M/fA+ETQMR278bNHulRdbNv7hQKW1nHMK/1iWfVrkM4L/IHAsPWCfTP0gkw2NAqLo/YJBNISP6rz+7ATHKC+XBv9DeKIfwfYW/Ao5W0LLxxj/E2tjC9uy0P1i4ZkqICei/1ukJztG94b/ARdrO/WCgP54hWOgyA48/73J7Iubewj+AeYhJIneuv4dWxT45AOS/NJQKGUOyzD9qBbhwD3bFv10eR6yloO8/3eJ9jSJC57+Qcjy99067v3jlX6RkK6m/FiN4jSKqyT8M+5Z1TXJ2P/LvfuZsguM/5GzRTlgf278twqfUKkTtP2T0pphlKqA/jyUIZkWQzD/ogpbNJBCuP8rAgDA+1tS/y8AhH04N47/Ozcnval23PyxtPlkO58g/4Ywq9bseyz86Jdvt3Nipv0JsSweLr+O/gxFMOiNo4r9U5rHihnCtPzMuSx2EYso/3Nx6IwvY4r/yVXowY4TOv4VHQngV0bo/g5uQPgaCoj/d5y7W+ySyv4xZEVgYzIo/t8MwxU2zuT9/cj+MJT7fP2mkcYnPpuS/bxzjBBQGzb/+KTw5T3nuv0g+uHAU9pc/UtiII5hVkL8/a/6dTbuyvz713ydVTLM/3Xy45dgztD+uIRGK6+S6vyvpjHqBybK/zKUX70b0tT8+UvBsK2vhP1yGgPbK9JQ/QnLTfxcCsj/CKta0qCvhv39noB9iKOC/mzrwWw7JmD+MIDUPO7DRP67/I7JYG3q/2SngrqOHuj/h7X5r4gG7P8gfQLNQz/G/QEVlcPholL+Ag8ZxXmbEP2ADPmH/6c6/j9Ptw1Ix0T+gWRQu2Fuxv5K9q8auu9Q/3altcngIvj+ixGZhoabkv9t9qPtKf9e/+TxSGoU22L8wlayR3PnXv2bsggvi4+Q/qqTAq1+G57+WEiXZu+/lv46vYF1Feqc/KbLUc1wz1L8i7Cc/fGTQP0D3xy4mnok/xlYwzlcxpT9U8REPxI24Pz9f4IkEsOC/MSuDTrPLwb+io1VJdTfavwmclHXiarQ/1aAcboCN0D+ne1NREljrP+6M/zLZvr6/DkFjYoN41L9Kql53fCHiP74l5VGuTcC/wl9ONrEa678YDn7/a6/Tv0wph/1VHdU/bHG4qxP+zb8t2WBpA2DHv+qkwObhM8E/7C6mtily2z/o4t5Ds1myP8n9iIaTG9U/8MqBfx7epr9gI0P4Bwt8v4vfeYKH+9o/KvhqFB4u3r+IkUB0MX3Av5oEih+av66/8SFHfiUnxb+4LActvN7Jv/I2jfaydLc/jHaxCVI78L9uTwmctKvaPwwC/rYtmqQ/7JJAXSoj1b9DEIHbvpu4PxYCeWONL8Y/p5kqzQUy2z+YJBQDewbQv9woqaPaTmM/CPBpH1NOlL8WuA9WHPfYP31gBMdywbS/mivpGhZfhz8QPtnEBD2bv6BP4C64E+g/WGQ8YDlyhD/8TkDigpKjv2uKbvVQ08s/KD0t82fL4j/Y/mJHw8uxv5VE2+Il1+2/537moZ1t67+BcC8tiOvQv9BRspxmP80/Az43+ET50z/mvYfDXqvTvzLo8MCb7uU/RfihJabN4L9eKYYBvu5zPyWHE780neC/x4aoFRB70r8IeJ8RhIewv/g/IaUtqdO/lKJxg4Vo2T+kD6Dk4TvZP8xAMQ2Y2b0/d2l7reS/0L/EM8EykaWrv1hkjkeKZ/C/GM/c759n1r9PwOb6DoPBP9LMQdh3yaw/k7706jCb2D8S9SF0uq6uv8M/7gfvI+2/XaFY84T1zL9qFORf0sS5P0lqXcHFiMm/bTVnJU4Axj+Q9fQLVta6v1xnt8c0ssy/nLXWv7fg4T9Mwa1KeQa1v+NeoQj4lsS/fE6TEjuM3z/6bJiJgbTDP8CSvM50mLi/Y2mkAYIs0b+49MsaKiS3v5u8uXuY6aU/4BO2A29goT/yQ0B1Z2O1PxupWYUMnNM/Cq6c269mqT+VJuhkTPDEPwQ5PunA2Io/knxWA/XSxj9YryQiS/l7P7cL+R3bXeO/h29pQgzs0T80LDLn/LS2P2TIlBZB7ca/vieBOJOFxL9OEIzwhWCbv+7h85a/BbK/YEJOBVJ3yL9YaXeGb4TQv4KLPeGpK60/ihf8xRjr1T9YTBmLEkXhv98wso5tF9c/0OGSY7kP0z/aT5/dzlTYv/zucfpCgqO//h3LOid/5j+QUySOWr/QPxldTlZ9X9m/GCxYLS/CqD8Kd/HIBjyiP1Dsogz/SdS/dpupLobGrr/iVUGFDGjBPzKpn40EGJ4/uIXa8oUf4D83JB3gEueCPw7fniT3zOc/Fj5aeCHBsj96RqpUbPvCv5I0KbBOk7K/HChprSg+1L8yHoR+n9bpv9Q+MyMuptc/z9sFFUTIVr/Jn08c7G/eP0uNVfpJu9q/SIHC/r8A6D+CoTViMbTRP7ieYHYIkOM/rgLK7KOTuL+wkBJjm8DTv0+ESGKCXt+/wFdvi5M0nD/uOwTRb3DoP2jHDUuKMcY/EKvLv8O+uj/axt7O5hzWP8AoNz/S0ay/ERTd9dVWq7/mfArfBZruv1btqLsRTc4/BJd+TGpF5T9Gm2mWiZfqP6hXpCPMQJS/1t/j0VoSsL+d+ym0i5TFv5xU+53DCLG/XslFdkvs1z/sJLce38/ev8ui5orXvd2/NsYte58Jtz/KzvpZnTiVPwnZF+jVkvE/5jGqWAS4fz/AvBw0TKCePyk18JoR+MI/b4dkIcB14L+mlFRYmeHfv+H53u+3YcM/0j7D/C+i1L84o/E4CLOev2gwQjhvc2w/j7lZKJwjsb+i5e62A0XnP2S20fyOn98/B3Unc7c23z8AnJomAxbKv+CEgOS/6ss/dPY3osEwyj8XexyTtlLSP/w451N5ecY/Ys3FXTdjsj+Z/UAaYzLJP+A9jfFaw4o//60ND+K60L/YWBbbp63iPz4bONE/9oo/uB0T0Wjy0L9SoiCc8j22vw9Q1xIIEdy/X4SWAe9Kxr+GJz0hKeyoP0e78ETGK7O/KD+FuY7s0L+8n1L6Acqxv6YjxCKJZ9i/Lt971vmIwb8aUtOXx/vIv8ZbESYw6NU/yv5D00CB7r+x+xUU4/muv4gvIk9H6NG/6ATJaEDvob+yEG2c5JaNv7Y4WLdvBeg/k5meA5dFmr+SXUEvlyymP7Vm8C6Yk8I/2kAnddVT6D82NNy6OljiP/j3PdK3Ot8/N19LKzVV4r9yemvz9zfOv2Dr5i/ap+k/BAgDzl3Iyz+oUeGrtBtpP/bzEnI0+NQ/jjZXRrs2x7/8TSk6Xhu9v0Q7aln82rQ/aesYPvbv278eO0XwNDvav/jN3TSAorI/Ef6mT2Ej1b90OBUwvXDMP2FMfXt/l8w/+N7owKs+2j92Fr2+G+vnPwjRWDiiEaC/9wgP0P6X2b82IbJjRbrcP34pqZjoLsE/hOCbGLt55r9JDSFty1qVPyjOshuBK9C/ZaoFl45toD+G4M7Vb/bbvwhthAh3m+I/4aJ5ewlvsD8+j500qkzVv3XZn5x9xtK/Pwo+CszhzT+gQwnccM3EP6TT2Oh8St+/UWd9rrQi2L/uwHsry2KTv+KrBj6cDea/1WuBsDRT8D+O5H9XAOHlP1Ljm61f/uE/NKvWUTY0oz843cRGG/ahv/Fbj00cfLw/FTzEOnEH3b/ASey4KTKHvxCVmizq3ry/wBl/HA5B2b/vpM3CPzzaP5TgXILuQK2/vXLAYVoW0b8fX6FJgibhPzCJIeDyH42/f9opx7qswL/uWoMas9Sqv+J10HfJBKi/8MNXg2BU0b+KffRzGHWxv99GAaGsgeE/8E1U/XZQ1L+66FkJEsrBPy1IFg2sIdw/evbqkqmJ0z8h8iX2gJe0v7BBiM357Y4/dlSkBFYF6j+qG7q3fMzPv23us6tcLMS/f0wsz6h83r/wxPbbHAXcv66TdSgzjtM/wA0dUvnyuz9yV2LFTajOPzpS/DqSWq8/Vj2i/zGMuD8IJSQHM1vnP0DagwhVRIA/NO0HfAopt7+dPvHW+fOwv57D3SQSRpq/8pkBo+HPyb8yKh8D/nLqPxCdxLl5TcE/qK7ERYjj0b+AcXxYtvdrP9A16lhg2bE/7JgBA/bO4L9pVz2KRnnIPz/LNAxbRtI/WMCWMZB1p78N33aI0oLNvzZXUGKrkqq/pMcRwksUxD8I0IaITM7lvwDh/kpvhVI/YglGQXvdgD8YYH3YW8+ZP1TDCqb0QeI/Crwa65Vh278UT6cwx+u+v07waymsgsq/0eLY+CCFzL+hAtdMoE3Iv+DuA4Mg79E/TD13Uc6gu7909TUtxoLWv5SIz+scPbk/b2B7rGxKxr+th7HOXnSpPwF8bDq9AeM/4iRiWiCOwr+gcjXXIhe7vyMLJ1gWhdO/9j6LCXYIxD+eb0vyM3CsPxA8JvCjJsU/IoSIgkk54T/p+BVg94DAv6TW4gXLjdc/JEFSN04T1L+sTxKqd1jSPzhHTstClcg/Qo/uQPtHlb+sk7Wy0mfcPyBDJIxqOIc/wlyQtcoM07/YLSCnDTOQv+h1BkJ81OG/0oWWwQKlxT/Uzfr3jNHUPw0e/5idQKO/t6aCVUdY2D816yL1CevPP+o0Qvp8De6/JfTIR7RTxT+O1Kj+EvvVP3S/DNueyYC/1dve8syd2j+oVXwBNim6v0ZB/zxuNtY/YupBa+F/yD9+5a2l4ACzv2f++qhfHMC/hAFCsjth0b+AAVc1jeKYvzM4WfMEJ8M/umQNXon31T+Dwu1i5qnYP+vIlkQxQ4c/MFxJtMN9rT8Ka229a+/Pv6zynwsjB+2/As+M5oEZ27+FqQc1t0rRP9MgrDifFvA/NtWVm5bi3L9w+U663k/HP3Ux4xpKVde/b+TyAOBC57+wW7FCnPTfv16+k+bPhqu/Sw0VTyDZob9URu9pEabOPxLCkVoiAtO/TCMO12vX07/2tlqHzMHfv/hHweGoJ6K/ENgIDDA8tD/gM9peZYdgP8kjw5RwDLi/VQig0RQ+uD9ogmqFb1S0v2o39Fhzj9U/+MxJUQLJpD/5SgbYUGjAP00e20D4orI/9rmL+eQxvz92tPivciPQP5XWn257/t+/84/z8zjRwb9+CQxspfq5P0YoyIDZuO2/XNrDa37/ij+vSn7NHwu/P80oMHwfzdg/xmeHKrKQvT/n+fWDtMe3PwNDT/g0MaI/iIvPOYQR5j+AFdTjqXaovyIdt53oy4S/0KJca43AqL+m2QjbFV3Rv3fxvnMH1NU/uwCtvKR/yL/BfDKQ5j/Gvy4tTvPNhdY/Mw4doJlCsD+MIuWcBcuwP9SwWXKUPM+/9Doi+N694T8xThxDjrzcP2w/U73lIMG/izOiRKGd4r/tRLTEdgnNv/o1WaZWlrW/tIAsq00xx78mHG9I7uXAP7K0qWfZ+tg/UNZ/dSmUI7/WrMthAR7XP3id8r4LKsc/52/uesyK4T9kcUOGiXfgP4KlMhjTI4E/DQly0St3nj8TKaGLda+KP+5/zfPu66e/lEozUvY+1z8sb6Z8LAKWv/n58mjYd7W/3WS+wKKmxr+cB21seR3Iv/ioRE9Qwm6/FP4GQpX31z8sxwAGsVrpv+jg3//aF9+/CMtaNVHbkL9kwC7XjYWVv2W9Mgxhksg/zvFyp4ACqT+HP+Yj+SaWv2bVmFUH2Mu/PZnTenkoqT9avwXBztezvzAJrWmfDbc/0VHNtvEzwz+8i3O5K7jWP0WqfKdPJOA/KydZ5YKyvD+1Vzq8nsLhP7I5j1PaZaE/GWJpYXuCkr8orvA5Da6gv3yWXc4176e/ZrwfSjlR5785HwVm2T7iPxI2BK6qM7S/lj+/YnKM6b/s3UcICYnhv10uu/MysUk/crlmvl9a8b/jXf+EKrDHv4RVliYEG7Q/WoEOM+de1b8kthMTnE67P9DmFAxjUmw/S9Q+POmPr7/ZaxRuRJfOPwENTlMN5rk/I4n4lfoFvT/8uA4xKxi+v9IYXQaBQmA/ZPa4SmNSrz9YnBLwgOrWvw6JjNd7KNu/TG38zKw0xj8ELBpLtVCSP7RTE0dgH6w/aF4YvV032L+BnFTVcanQv8jWE/fseNo/lMS0fA1rn780XY/CKtiZP4jm6wM+d8U/rHVaidF8uz+zsDweeB3av4Xfh95HFnm/OoZPqObrv7++/nfvXufav7Eo6QGfpM8/ogEpIh/L4L/jF/4zDCxoP+WTY0pZe76/t6kLhUUab79o/TrILeW/P0JACJSzHd8/yBHiEL6isr/yyGOhdSTHv56gnRIs7cq/SHouozaa7r/ns1295gLWP2Tc8L2SYNO/istJe08j7j+jC9SR3sDsPxjZXMGzqKE/gpiJ/ZZQ0D8uG1+sF3PXP9h4hZwxcNA/QFV+zpEF4D8atfIKYuy4vwY5XEFOVLW/DOyYw6vK0T/tVsP6M+++P9GY88Wfjr2/NOtKaWMitz9hA4x0sNuzv4aLk4PrIMc/mO25k/HC2b/jLhr3/Za5P4NGpDRwn+w/P3MsFdZc5z/gjlkh3xqoPwCmEu50OvA/HJ90nN1XuL9eeyYYainavxyKFhPU1tg/RpDtXzuXwj949owB1UvUP+qpXGZ0FOm/fG8fKBti3L9YbKU7FjjAP2rS0iz4I9E/CCksheWo07/jqt4jGvuhPx5Y45hChuC/qYwTjNhn1T/6JdoT2gHDP1KzPM/bo82/HjHWhPdsx79VqwsHBqeqv/Cdlqly3sY//GqC7DFsq79b8634srfSv1hGOvUFqdg/rDJEhi7g17/0SlCGrsPjP2gfODAQAKE/I7T86YyLyb905K5+3Yvfv2Cm6f4/3JQ/b0fKepGA0L//d0mqs+XIv1iKCCo9Veq/6OoOpy3/v7+qgrtC897sv2od4V/UsO+/fvxqi0Dptj+o/3DDjLPQvxiyQDxmw8M/FPUs+uI+7L+lVPpiJ37DP7hGKaJEn70/Pn9JdrTZ0r/S4qiXlbGwv0YqFsDZC8M/MHnhDqJ4pD8V9+Vm4fXBv1a+DvdwKcu/+DceFBwNoL9WeHn+2YzRPxzciXzufbg/lHadEPnss7/60KqVi1qPP1aBj3i4zNM/0wIAUMGUtj+6D1JoU97iv7prOzTkv++/ON4hl9fW3j90tRLhTB3mP+KITi9kmdm/ipMd6cTKyz84skwGl92gP7YrTj2Bbtc/dkvHvydx8D9wncwNZku6v6iZzl2FJJs/aGzSeapH579AZ0AAPGWjvyDP9GFn48K/aI4QpR4Vzj/vDa8V8wTMP0fiC9gAuuI/qiAvGkiZ27/0/Cbo3ViwP/NucWYzIc4/eeUvrCrr4z8OqPdjy2aDP5y+9BwXnau/DN/TuFEz5z/ygb6aCA/Ov8AIrGOUn2s/j3d7ssZO1z8ORcHkfHzdvyEN6jUb7as/u5no3eeg5L/BBoayD0q9v3fOOelLn8G/vB6nHef117+/+Uuc2LnMv8yGBRk9Luo/0fHj2XwVxr/LHn6O05HjP4y9x1HX1J8/x4DIbqEAoj9wqeGrWEKyP+LYeqWqlby/ukU1Cc8K0b9eX4lUw4LCPzSwlyw3McE/vVGo7Prb2r8qHkL+zp21P/w7ZesiFcg/urhIKKGm1b8HtMHR0TDRv6UOphu0/c6/jHRoDvXm7789FM9emRbUPwdChMNdttU/sPV6Vyq7pD8XjwqwcaLgP7y7RUhKzt2/HklTbwBTVD9ZfdB572DIP/iMhPY1jr8/d2vpvc3E1z9AGV7lpbWfP3hk4I9myNG/vGc+06V53D8xjRbQGPjDvwZEgy0VhrG/FRZhhqYQ3j9+lyhMQFm4P9gfzsRS0Mi/MlrwqzHNzz/eciD2ymPPP+jBz7i/anw/EgyjVuLHrT9/YW7JawzDP1yjxFF1wMq/nl6kjS3Ewb+gSIEdwL+qv48kfbg9btM/QWIaYj1W1j9GjmUov/O3P8eBrVlaRd4/VNBH0KW0u79ogZzKMonWvwv+5qNKB8w/Sd+nTlrIvb+oYYZ16gaDvz6IwRcvYbc/y9mWIIXi3j94G9BSTcOov71Yg/wbHtc/rIycPtf5yT/hE39N7UPVv8LBaRR/F/E/oF80ca5Ohr9KBbvF4q3VP329IbsFgtE/dwuJ0k9wsD+fd/G50pfMP0CYWbqqdNA/fvDqRwsW0b/d0FJa2LjXv2Tf+7t8ocC/TOzxxrfltz8Edh9MRNnqvwhmGCyEveo/KHZhWOoz1D+IX0EKs4/Nv1hF6aORZ88/psI8FmYDl78U/quhcSvLv8klNE86u6Q/VDI+7AKr6D9mbNJf9S7nP3CM59Hn0Mw/aAX7+bPl0j9w2yFKIrelP+jmNAnQkbQ/T8Yjc+0MuD8OZuHnN+rMvyBYPNx6/NI/yLPb0FE0wz8PNpi0cPbWPzT//avKbOa/qMxaZbOf3L+BHvXvRFXMv3K6F5CxZdY/NGBseqHGuj/HvGFFbWjkPwFFMmFf7cE/NN3OyygYiT9QWesFBSmmv050A/BD/9E/ZfhcWAtn4T8ztMwut1vQP2M7jGrpQZ0/5CNEIjZpvr9y4rMPbEWzv34NYp7yjcC/3oiWHCpOwb+yYiTJqSLmP+1Z5BWiC8S/1iUBt6TZz798r3n+Ojy/P0Ois1QWLNS/1KcglwzO5r/5/J7icT/Ev3FGgbIs7u0/8XDIBias4b9tIk1utBXmP8XgEEiKQfG/+DCzn/AUpz+HMvc+LRDQv1THK4ctE6m/3/XPkCuszD/VuVqqyizGv4npmVUem9s/0d84G3iG1T8mLDLKqPbgP/xby7Xx/OO/YrolPuVL2j+8HOr/em/bP76mR7c+VcM/1yXjAei02b872UuB8nR7PwzV71+/jMa/DNxrvWl14L84ZRzH4UvEv8BJHq5hdty/GrMDksw5zj/yVbp1LOPovyD7+mQJcbS//mYaL1GEfz8AVrdBHnPcvzYuRCmiM9K/H6yZ8cPRoT9hJjpGuQ6rvxTSrlZwNOI/cXEX4fjryb9JZJpGggXXv0Q3Obx3qtK/vD8y7UGJ1b+zG3uIygy3P697NbadVMS/DPzXDfgzyT9AN8J1LDRfvyXyciPVV8Q/KLxCXgD7yD9/Ri3ZEYvOvwX3cnAGKM6/AcI4nrz32L+01CfKyJu0v6/+mLokmvI/1+XEuQAd0j9IOoTRM+HHP8Z1KkU46d+/jLkRDSDC1L+1trdZiCXQP/DX9FxbxL2/NEVwQ51jxz/av9EfmErEvxE5YhIUzei/QuARAWpoyr/kvVLDMBnAP1bulOVUKNO/oLqJDGPC0j/6NxnjAxegP0zjaCCudde/X1rarqYC1j+yakC/Y/TNPzEahg5yvdE/u36vM3eUzj+w3P0aTuOOP2UVJLLkqss/qxVEqdBy378GjNnyi4jVvxOiF01QQN8/6PnQqHaapr+p/3G6EcWZv1+v8TcORti/NAJXG8MNuT9D1ZJqUYDhv3juzmUaqde/xLuk3f8Ndj+4VMKSyrvFP27t2wsxcq2/aGbIljmsrL/U11V9tL3QvzNcSbLUfO6/erpVXDU337+gwal87GqDv3D/lG9p67I/GpwF3x8tzL9Nv0pvUDyov7JlG7SKcbc/1+dgzuqGrr8yOZViNSjVvw1aS9Z++8A/K6nxnGN8zr+/nwCaH+azP2aREXPuMNg/yhF2NOIXsj+1WdUBk70LPyzBjRkz6aQ/G9SaBqWuxj9NseUERLLlP40OoxRmMLW/jbS68Wa1ur8DynLooZPOPwrDWxZlcbI/nS2T1vKHyr8Dwym41Ui9Px9plOvxnY8/tmFguYf0yL/oWUjcp6Hov4BV12cQJKO/kmvdLu5+wj+4e7V/JOvUP2zN9o4CAHi/ILR7QFLhxb9z/NPPKOHZv4rLhGY1OdM/MWUgW+gB6T+eDD5kWtTPv4BXOjyOi4g/aLEuvllvwj8AHGhBQ89UP/gWO4BnHq4/4MX25nbF4r/+/62oiavKv+9rjSS9xug/DGLcqxFCuT9SOGOqRlzUvzK2hMqKKfI/QOkZt+Ca3z/HPjeSZhfWPxMheuLqk64/7gDElQCBuz/A+bROaxSDPyCatVvjIII/N8VZUdJb07/6dtI9uN7aP+Bqb8eAI+K/RkxXLWk85j+X1LjoOLC4vywDwk0MxaQ/68w1VYCR3L+WH1lJMpzTPyzkSfTrI9k/dVL7cHkX0b9spfulrlzOvxjqFsZwcMy/DpRZejTGwj9Mahh/PwmwvzoXIqJeMbo/ZEn8dv40hz9KF46MVNjPP7qaGanEhuy/JKVZm/HWwL9yTEg/HwPZv9uFmloFxbY/48SjpfA96r9lJ0cfcbKRP8P+zklbk9W/rhA2L2a42b+JxZ7zVHzTvz79bmdzatI/seD6KO6Yzj/6TzW0MlbsPzzWDSsc/sA/rDyhS5qGsb+MZMTwDqq1PwJd7V4/FfA/PaN+2pEd4D+s6fs5TWfuP/YsGXcS0su/1K3O44rA7b8oRDxA5/bTP4TfAAOTE6y/VNvW14qozL/wzETNeoZjP0/w34NAUsG/sp61uI8M3D/6fpblfnijP1YE+TFnz9M/tDCnylqkx790uGQNIl7BP6q4e4HJ2ug/Ej7KrE6soj8AQECofp+kv8CBC2uEAtA/j/5wHg4Ywz+71zK2Mrjmv9kuYqhvY8O/RPWxhLkeyr+KdnJ7ShfIP9ppka9T6eW/llv5OKCH478ttljp/Dazv4fugTS0YLi/Xit4QWNEzT/Wbg5K49/Rv7kQ5cxsb4i/OKGGsgFk5D815v6OTAPiv9ZhbkXoM+Y/dOPtM1EKor/inDnVT8Kgvwjc4eZGu90/ZEoRgiY037/TqysIaNTUvwE5xg6tK8k/+o3JSanyzD8JYXrBrM/Fv6fvu8s4T8S/dTP7wBFtwT9iObjIZdPWPxVYE6C7RpU/snXjA7425L+66pHGbWiav46re+1UWtu/SPIeiOuRvb+5QxwviTzXPwKiMe8n9sW/wI+3j08t4T/u1y7PkmLTv4xMAXLJnsE/UzN6O4ww3j8cxxqOCLiOv5OAYM5S/8i/tPosQ1ub2T9ELGV42dbsv7pghauLM9M//jMPR0QL0z9nx6G9qqnHv7LrQK+nrbO/fBXXzzBupz9KfeTfPojLP9JmgF0LMp+/WPOBw0r80z+JuY5LntDRv2BXRpW0eNI/H4u/KCy8tL/OcEXxZ/t4v1bboPaHDra/RlI3l++bwD+CurvfNAWdPzqbkhcP39W/VTDoplC3U78agI/jgvPNv/w4wuyP3Z4/3l2rHiEQeD+iswSb313Kv9Hw2JlOeeE/aO9lYEo3vL/J6dZVp/fZv1RcbRz4AcS/GtVm0zEUlD/Sts4yBwPVP/jXbZLV0t2/NSArtTl8uj/YtOqWK2u6vyA+b7+HUdY/eLWJcYI4hz8oRLrag0K0P7akp2/DkNw/FTkbXAXb2r/GJLipuX3Zv84xwyhGoLW/CHyICuHpob8530DjNAzYP2yqTdwe/be/yIrj7GTX4b9mWzh3oOG/v1T0pwZSLeY/mg22VZSK17+mrDUDlbKcP0pSEeYbFcA/jsa9lwvTqr/MbpSUayOEv9zJBvGrsL6/xuwmoZsw2D/+Lj+J/sSxPxZp4u84luo/0rLxNS+dsz8nTMmSNPLAv9VwvQkxUto/ovTDhz5xyb8A/6+OSW2mP24ofXCxatw/wVxRxcmS4j9QcZ7byWu3P8yKwd1jCbw/rkegh48D5D8wzoLnYh3DPxYeMGJzLJu/XDFu5scgw7+cbR/IqJDAvyAuW7RDAoG/QQpDNMa4p7/zle+8uYXCv6TGy0u/4Lq/ErEWNRmG2D9qMSaDxwPUP1YOZmJQ/c8/kABWX9lVir/OmDguNuDCP8zcdpRNBpG/V5YQMxhZwD/EjEcGcb/LPw84y3IZlr2/1vBDXcxK8D+UVTs5j8qovxk5Z3r828M/Mo4cweaI6b/OhOjuryflvzL8NB2mnOM/f2h9G4TY6r/OJ6YyjmakP+YesqUOzNI/Pm8dbipA8D/eb90XUkrTP4om6rIYjaI/NllbP/QGzT+MJ2uCwJCnv6ppVJUWbOA/QKlx+J6ItD+37NpwC/DJvzj26ygBjas/WV2ZF3Hm0z/Rr0nCkHvUvzJojJjoC8M/HOVfvmzx3r/3fVlWV9nMPyA4Tn8/Ldk/fOjZsRW63L+aQwS+ufXovxVVtafoicI/6XRNKFZ3vD/gaGTR3C1xv0Ek1tB+Gse/UVVPnZKx0T9uCwljB0bJP1sHofIlddg/rpVdMW9f4j8KdbyugW+wv8jdejVONq8/P7z64XKftr8YjDo4s/jDPwhVqyLQibS/IcMp4QUM8T+ISyvg4CikPzta5S8JRt0/SYmYcZCf5j/krtHZq5jbv07tFeW6iry/UgaVsZaNz79ToMkyD6DGP2CRQpxwtHo/0eZvX7gdz7+V4t1UD4XBv9PdVrk3E9g/L4BkRwYd1L/aDfIcVorQP8VZP0pOCrG/0IKLoXMfpb+gTz4Ews6/P8k1QDELjNe/fmvEG31dzT+891HlWaq7v3M0nm6nfbq/YAzSl7RCiL8YiguCSGXTP+w/BChEZNg/EuWk1lK6pb/o6CHu+BJ3v/ImFBViR8c/iZaMfmovxL8d4N6Ev0OxP6eOUDzio8E/X3KQyuM53T+OpZKRrkzUPxEjqTtdIeA/vlBJpxd/uT8u2+RGYN6yP2g+9JNOv3u/hINx+9a9oz8QWPzV/wltv83y/i8R/NM/cmuoOFe0uj8ReSUr5fygP7CY7nIGZ6U/l+PSWv7O8T9w8VONxW6Dv1iZAvuu582/ji7f6iUmuz8+bwHi21jsP5rBcDDhIMq//Dwb1klw1r8Kd9ur49PXP98RkYlEENa/6BbdZr+Ty7/7r7GRyivTv3I7vZS0qtg/YUCzqOJrzL8R3sJLNoywP4ZsRDa8gOk/kqJE2cHL1b9wkk2PSzyRPz59W46ESsc/ZgiNOf8xqb9GV3PojL/Mv+x/DvOmp80/eLBuw38Awj804uoXUz+nv6B6GF0z9tO/26/nC8JuvD9KiV9QbRnqP/A5Mb6vgsQ/Gk0+nWdhu79KF1i6O3WwP/gMzuZAnOe/euSaunyBub/1T6/kqrvPv+YYDcICNty/a5DS03ae4T8vEfgi51S6P0iXiRRcnL4/xpW9uAOH3z+g91tkSdyvP1JUzdG3e+W/ac1pwVg63T94EgPQ61jcv+LT+aXsR+O/N5E08Msl4L+X4C6oiwG7PzgCFRige5+/AP8oZVactj80Y3H5ybjmv6z3LzQkn6Q/Py1DsYaCxT8+52dYcQLlv2O9Z1qbP7o/A+MLqzfR2z9I/mBjUKChv7TjPLdOQaM/z9XxIuCb1j98tsAh1g3cv0oUGRhbYbi/0GozLYW9mT9Blt7XSq3Sv68BTIucpty/u1I5XP0e079GDIPFVcvVv1zJcehdNOG/CWXLspqspz85wse5mp6hvzQoPVfkU8W/St5VbGhryz8AVzH/kE6BP0CoXvVFPXW/l6XPi7/6sr9A8BY0HB+wv9Cr3MPi+MM/anbgPzPAyr/RQ/Bmr4/QP9xwwlVjjsQ/Vdvpjt4Cwz9MhTcGlz7RvwKwTClsZ9k/UB5/kWSyyj+iYr4D+WfLv54uab1Jjse/ZjlktCeywT/p4EXarYDWPzD+H/Gez8e/hMLX5PcbvT8ummbrF6vSv2eluKp5RK8/CCLDOMra2D/2zXtfaLbCvzxJQwsZVdM/W4rgmzoJ07/ediPvksvHP5YxLkzk49o/wAtbUr6CsT/cjlZOYS7jv0ppCG7d2MC/NMqSIkCgtj8KSqZpLlXMvwl73fnIsLY/4YDOc8lgqr+uLjKaOBzXv7g1G+SAcNW/7QmLwZxs3T8Qewotd42kv9PIlpWWueW/vCoXsgiuy7/4UByjbjeav7CDHpFGA9a/ijtlDbSurr/wUkQp3gBpP3L1i5KmoMU/PAbvfmVH0L87Wa/a5vDmv+V0HNdHCtC/3HzILcjX0L/yYGw1L0nEv2IzxXPbvNO/0C9MQBoP0L8SMRDcT73QP6lfTAZRptO/WnS6+0D/y78pMl2CGYrkv2wwP3Hg/bm/PONrHbU12j8d8FmYqdbbP1hwqfYCIOI/hfP6Df6OzT9FX79tmqe6v6joNLEf8eu/3MrkSNLqsL/tcQoXGiXEv+zdbLe0IeO/O6tGzlI70T/rFE3ZqH+oPxhFhiLf/OC/qH2aig/0oL9otmyVevyfPwcLl+QcUME/OAF4JOM1zz9S2Y1COtTEv/gI2QIA5tO/2lyAW/wOuL8j35G/rfTCv9o+J5Hig+C/U1wF2fOvwb/2vENMa8/vv/UTeOkoUtk/DkTYXwt+xb9/O7FNlxqmv5TjnZZdias/7N2NLgMVxb8UYXBPJtbBP3NUbdyy7OC/MP5Y3rGxqb9SCrffYwnQP8AK8Nti8dI/Ap+40+sCvL+uS4g2FSTUP2hDW4ycftG/NI4jDyeL0b+E6Y+vQoOLPxwlS5sIjne/dTHl3dtY1b99XK95ktHVvw51pdfMYrK/rv9HiMPZvb+4L0prWx7aP9BNMC8TtM6/6uxgGpv8xj+04aLSgyTnP6yzxmPB9rE/gAJvLYmQwj/nAKFuSTnUP3UY988qfN+/4ouUhC/72D/wE8fEEBm1v8Anz4pSPkW/WobXSTCf2T9AjCiDcpC9P2QQjgeA09Q/0741BVDc0D9UWrFMcnPvPxie7/kSDri/VCXnHZdI6j/wrhaml2vqP7jxR2YaHeY/ilsTky3rsb8A/8CypwuvP54mue57/tC/akjh35DqtT8GfknG9+Hbv98jfF0wpOQ/yrFE7wPsuL9QIlGRs5a9v3AsY1L28MY/0iniJPs2oz8pDtdtFJnOv8QVxO9cyZM/ICkMm6qn4T8AOQNJksPpP2N3ho6K77a/tXrvu2UW3b/EubxSTA/gv/+FqJk46No/D8EjGQpVub9297F89wnPv7tKI7FDzr0/63Gm4/Tttz+asZm1mzK7vxzp2n9LFNI/XmIzrbXw5j9AZQdQMMu/vwIZeJ9Mxs0/KMTGmXuMrz9WF1nmCxHVv5yI5M6/abg/MHi0lh+xrL+WNLMGwDjcvxV1Qo3Aqsg/eSjanGOy2b9wqG82orG0P0w5NMr+tsG/zdVvuj5gwj9YIp6In3Dnv+oc5pH/r+Q/Bx+0Tw4O77/Qvq/LHJuyP1EScZvryMS/g75tqWTm0r/dLdSDT87SP/Cs65ilHMs/One2Uoo/5j8venYQiLLGP9VmQkroFdG/tKYy9i6Asj94ole4mQmJP6Hp6SSct9m/wT/lvEVr6r+M5FGqgb/QP0e2vCX8Zp6/iMsvUZxUrL8Oct34fvfav9O57uS/NOi/3J8niTF1zj/H0wE2n2KjvwgHssYzZci/YuJrXU/o5L+ZhRgpU3/Ev9vET3B9Z8m/xGtzY2X+hT/hXejyLO60P48ujYZ1HrM/BiwIvaOjpD8/b6eeH0e8PwJ396r37pI/D/fE0fWjuj/Vca0J4lW1v8VyLhSWcLE/EPE6UuDikj8S1PTyBYvMv+PAkFYYRNo/3JFQTChKeD+NienekOjTP0Y0NpPbRa8/Fb3Q11LSkr+M/JZABI/UP1JxMEWO6dy/lzsbSQ00fD8yxhAsQAmyv05BdSori8g/nC06yPbGpL9SKzY6Z1y7PxLfejE3Xt6/JN3BsNqmzT/ZvDHKQaHCP7s3HwPATc8/IZG95tljuj+maYpqcMvbv0qVhgmz1t0/a8La9rmtxD/XTOeY0frIP5WTHqMWabA/8xIdxOkRzb/JImmrZd/Cv5Yoa+M3brk/b8DkI5Q6wD/QQvZNJw7iv/chNIWJ8NW/hNm7Dp5SqL8L00kzAZDav4aXS+g7Pbq/vE9o7mdY0D+U7Ya4bEvEPzo2uvDItrq/myLrl/T807/099BdIA2xvwjWdGndxOk/ZVxu5ZWm278nUFaYRYObv/xLPHsXJdw/0EBjYN+xmL8Yk1ndCZrJv3pzMOj9F+K/N1FCD6+M6D8E1EDPl0XNP75xBwUZ3cE/wu3HeDN/wj9VHUfoi2DZP4bzz8zHH86/RZFTdC+w0T8NdKtxWQriv2snWhu5Ir8/amOofC3gwb/qEY9Ww3qrP/x4iA3u85U/ULB8H+yF2b/E3nh6N83qP3jqvH5SDeU/VOqlHor91r8MHAHT0fDCv4jiELQjpeu/NjuyULy6sj8x6lH/nIzXP60TddYECLU/QCQvuIVdmj86v4d92AHlvxnGXNzhzcu/IiV5tEwl2L8hTJM8O3Szv3AToHQjjN6/H2IKCGCJ479D8fxuhA7Rv11Lu1mWZuC/y1FJgT9x5D9zAeO38/W+P2pnUV+CY+Q/LJYt8ePO5r8Nh/6IfB7Sv/ECWQu1opC/YjL70lkim7+ldLc6ZfHkP2+ZDuJuFL2/xsuoXKAixb86i/3Bc7rFP6412vPoeKq/ZGOyvLUDzD9V4y5QvlDIP3hHVuyEWbK/yzRu1q07tb+NAwT7/i6Dv1YGvVGJWNc/NqKE6J2kyz84cqb+Hxy1v5r2VuxeGdU/RHaHz2HElz+efxsIiQ3kP3l95K44D9q/oQn1hdZM5z9JqSVv9DDFv3epFONdYMu/mNkeqAtEsb+ROOnolvbAP4dqyoFuZ8u/TL12jTh+179UHF9loJnLP6n73vzSNoo/js3x5+vQwT/OiHVNVfqlPyy+XCHdaMY/cmhVhPSE279JSFFIUxSlPyuVOwRAv9E/IBsfdZpffT9KbZi8oUfcP+z4KRN0xtM/2SEdM3MVwD9AI2zLNVWkv+6XotdT1si/6tCjPzyBrT9q1JBXBXvHP5aKeNdqKNu/OVINKEm4xT+4UGJvvrrsP0ksYCitR7q/sAggG72m2j9/LuhM/7jMv3UNwqQ/A+E/pH5EVV982L8rSZa137Ppv0ZNB+1sTda/7Jnh75U70799sP1yBEfov1763Dss9c0/5OXmnxlQ5z8e9ODdDCjQv+NaAsc46sk/gaBoHe1f0D8fQUt6uJzSP5BWYinxFXa/roPrkUv8zT982Yl/iiG/vwwXcNwVfZe/4MNxwdLrrz8re7k2JsrSP5TrZplEecu/OuFYJz3w2D/2fDQN1ELQP3akCf54L8A/BLueJbDJlz/8RpyNXNWvv659Jm1Iydg/0PkOujD24T+i5XBCuUWjP8yqsY8XgM0/yUuLRiL+3L/sePF8HXW3P3IqUWq2POy/4ENg1TFStb90QXnpvYnPvzY/JWl9UdC/msdNPSdhzr930ZOvRSPwPx4EH+MceuG/LKh1GRh5wb9a5xbQxPvFv7l+SCNYI8m/bJCKs83uwD9QAV5Z0XOnv5k71npQwcO/xANxDBbu6L9RgG3xx3rgPwA3n5apXo6/p1Cbld4uzD+fqeFNUcvYPwXH7AKlH92/+37uDKWl7j/iOQSS7fThP4KhMlOxm18/G+o7z3Pvxj/YdCDLIwfEv+BIMMq+7Zs/3aK9VqNOwj8GxchX5L+wP5UVhbR+Abi/oWmxsQZ4w7+uLH+5VzjAPwCFn1bmvNi/AO18fk0VpT/85A/rzI+yP1aHQstsfsE/9Oz7m8mUvT8mMVYMCrK0v17kmoiW5ee/Ev+h2Q8tzb+WUq99xU3MPxS0BZp379E/NhVORi7go7/cJ1hqc8O4PyaLBltw6fC/p6L8GKK6gr+ACTIju3STvxzb4v5uf6w/nqRFjqr32L+iWTdWml/TP8hKVS2xhsQ/fn4vuzFwzD8QHVsnySW3v9rbq+gGPaU/y+PEbghl1j/FQA0U4Ve4Px16tXSW8dA/SMl47nIF5j/SgOOPLGPZv8AoDwsv/Ly/APgaiYK+br/5iZH6mzrVvxF8LjdnCsK/Lz4aAAvPwr9pp0SPJvXFP/C/sFVwNZ8/8Ex9ay9K3T8WyhMUHfzRP2BJYLGkBsY/5t2vG4Y97j/MFJ3Zqn+7P7Qt2esvgdE/Or1Oyj7W6z/YEXUkIR/bP4CirACQv8e/Fn++VQ0A2b9lQhWJlO7NP+RDWkmgJ6U/FbwukNPj6z9gav6hzf3Sv3XMDsq2c+Q/Mkc/CpY0wL/h0ia8a+3OPzCpgJ+fMNa/Xlv35D9Lij/QEcsSeKjQP/aJHg3oXJA/EmcwwMZqqT9aDNucujLhv5yjXeuMcL0/NOjEO/dK57/k2cY05VSyP6yq21GCgbC/AIRQY32VpD+aFEjv6avBvzXXJfLNH9g/ZKmPd7o5z78tCz4oCHjnv+7qw0eL6r8/YCeCv6X8lr/um092qOXvP9mGk1P+UuK/IS6QGwRR4r8hzFZjZhTrP7EYV4cB9qK/1SN1F15X6b+ow7uZd9TTv6hozf6ypMe/Gmz9nYN92D+7MkQekQPZP266DxeqfeY/S1IC+IUr1D/tDBGWVs3DP9GpA8gwLaw/UoxsjjqpsT+sYX/FeBnIv/8gLhma6ei/LtY6Hccqtb+4AY0Jnd7pv454r/sccrI/sRt8u/4Sy7+EF9+P3NfVP8MkL3IHH7Q/UnorYN3upD9IX0HkCKbFP3aiRW6y68s/oHLh8s2UXT9wOSPNoh2UP5QK1uzWpt4/tPDQm9xq1j9s9TEDD8/Cv7qNLZssg8m/ANGZtK1Bjb+ef0WYsN/Uv672in2FiN6/60dgqo3L2z95UjXigBPuvwaI/vPomeA/3CRONeZ75b/k1236lQpLP2izwKmSuO8/o8gL17Ec0b8AA0EACKSHv1FsW0bsWNa/TEC28E+hsr+4stlzK/e4P84z9tbGBtQ/Uq2PlR3quD9ss+/i5Bunv0q+AEgsWOg/Q6lEFYKZ1L8cSrwB4sbDP0uByyM7TdG/tCCMCeR337/4ZnPT1cKnP+uujRbx8bw/7jlviM4t3L+lZtJKeBPKP2JC0qjzHqa/N/kChytS4D+YfFEm6p2Tv3btJrOkIsS/fZOL4LJK1b/JB3ZPx8y1v9YFTOgFDOI/4kmW1kJy4L8An+sb79nmv6lSdMWKk9U/mJzuJBZ01r+0oHvUDV7WvyjpD4+KnZg/w8tdy+pCxb/k3wkDZJHWPyimn+yBYns/jKU62CK5w7+Hs4NlMl+Ev6Ui0T4T+tc/ZIa6lLg42L89R5utp0GsvwDEVrUHrW4/NtYsr0vc0L/HyMgugfNmPzQD+x8yubo/YNAsLjEAYT/KpUK7Cp/GP6YhVb4Kn+c/s50fGaYQ2D+vbOqO3g3kv/S4zk5xcOI/Cz0lQMgC47/Mtp2kstzAv9hkxRN/l78/pLsEXpPW0b/UkJD89uK8vxwfH1gXS8m/PFthO+G7wD/kuyGg2aG5P2assD/GG78/+IcgSYXUtj8U78oKcAybPz7LGO6+aNC/uDsnyyHFjb+lkP9a1kjJP30R7rA2NeQ/zzum2kFtvb/4BeBMD0fAPxHCvK8ADd8/QLDMToaKs7/jQ5LmBHjGP2JVSBbF+dk/rwBNd3HP5L9Pca3n9nu+vyBu3yiPAZw/BOEyLz2cs7/4Aed5Rt/HP5wf3HP08Na/lOuQ1MAA2T+i79Pe9gjSv9jyu+cFB8Q/RVERwhFx1j/d8ecccFPZvzoMB2XkBuS/MVDk2rln5L/kizsI+KfFP9JLOBpLJ8C/JAXNEByzkz8a8x7C/xCbv+DJVGpxBIA/YLXEBlQ4gb/YsiH3CU2ZP7DwAPnBtca/gt7UTgsfmj8sfUaVDcqwv/Qerht7w5K//tcYznYowD/UnQas/Ga4vzEsHj5yKM+/LY5piV7fxT92JeB4g5zYPzbrzepCnMc//kLFGXy2xj8VvhcMbO3RvyevJtxye9A/MBdUo61/sL+MrwbHKUjUv40LNPP2seA/3WvXbOCQt7/ibz2X89nfPyf0tFN0xNW/S+rxvPJw1r/GXkFJ+ma1v9+EbHlrWtW/kmlJcxJhpj9eawSfKCeHv2DUGc3gQug/iDzHfdrEfz+dBZUunlXYv9oAqXKliNO/LpH03gAxsD8ULhZ94XO+v5zODAskQKy/1plYm7wTwj/qgVYzB0WyvxgLL+CsZNO/QGtjzW0eyz9ccDaHN2HWPzfF2w23VdI/mmaXazxg5r80VopjO9q5v3AhOhGhyry/nEfPulmiwr/WAECUrb3NP4xZfFR00M+/qPMLWaxL0z8C/2l6lS3hvzRaGLMGSdC/sPlDgfz0wL9oAY8MPHHnPzgyRT4jauI/S8LP/cvQ3r8iSazKq7fevxxeHebc4LC/dnyU3i1L4b/E/PDma6qgv4leMx3gzsY/IKJimNZY1z+GTFXb9iPdv1i3IUJmcue/tiaL4VRSzz8g47rvtTfSv2EDDxyNkKU/q0ymt2iXoj/slbzxjvzEv7RMYwjf6IS/5Sgt4B1k1r+t47QuYiqyv8oAY7XTYuW/AMBHpzBUV7+S7cZq9LDFP2xAlUROyLO/n1Yi7tCP5r+uudPw+XK8P2JgNrYSt5i/LJHX7Dgz0j9XbMJwzQjRP1yIJE3eJ7e/O4SSKIEAwr8I+iY8iui4P4BJjbshc84/vMggg9226D/UiXXc65OhP8YocrCutJg/oKdUxQMR279eggyKn2m3v/K/VVy/luw/TKDbsPQIx7/SbGyTHjPGPws54jUMiJK/FBpBlhRb0r+i9gZ/oQS5P4Ghtdj7NbW/uXFoXuBeqD+QfHSzwtPTv66/eot7Fc+//AKXvRI+tb82VruCJYDZP+mcZqnpjsM/uj5V2xgP3j9E7kCe6fXfPwhHrm7pNJK/ZmnM0Gc3zb8guQ2LLJfiv442PtbY+tK/hO2iTkY0yb8g1U6/Z1uDP27WOCsDvqg/AFZCXntQV78YhbAkve+wP/G4DyS7z+Q/gchsDT6Goj8CLTsT0CDFP1h7eXwHr6W/ICDXV6bxgj9lghxsd8OPv6WdHc+/vL2/nqp6gPwh1D9sqjqCwCi7Pxdo7lSl0MK/gELOfrFEfL/xF/mKqw+7PzeTgjM5/JS/SZOD4Muezz8KnDouzMbhvyDZJh48bHS/MickqNf6tz8Lx44gZzrov5bZK6+PI8a/+BM28i/t0r92yvf/ypTLPxYQ0qYwEMO/CtOYAmdptL8pIUdrsvXbv1tW2nff4Mu/D8ym4noKwD82Yr1QWmd7P7BiL1C1w6E/7o2RNl9ssT/griBVV6SwP4whQKlTRmW/slH2PKWR3r9cvhEnen6ovz56jGshYLS/DKYGlY7mZD/5pYgCHMm0P6DP9v+4WMQ/+6XfukDK0j/GmicTJujhv6stPTtkrsg/GHFby9Gvvb8E/uMW0J/HP+CKFPdp3sy/WC4X6x4Hkz9UH7kUMIXcv0I1qZrNEM8/GNckPHA+zT8kIkvHoOHEv543A+xfWue/wmpM4E/Znb9xhADPlYfSvyuRb0oNG5g/ffKKp1sCxb9OL3X1qXPIP66Ajs13s8o/MRGXk2uv4b9wRxK2gpygv2BNgQlriY+/QIMQW5dq2r/EIX40CULFv4ifXqxiOLu/drQyoq4W0T89odZh+BTZP+g3/Fsu2JI/ZJry0P9Vg7/Y7NdSW6hXv6BFVumWgLQ/syAjKWi5zj9IAP6FVujAP/MbtM1c8Oy/+J7xfbzAwT/u7pQq/bmwv2GkqGUaDeM/CdI2CdjK8D9bX1c8IWC3Pz9S+q+8fMW/ZImpKoVBzr/6z1aGWV/cv68XfZFbDGU/gudxWMIW1T/BdVgY4JehP8r/IqWCis0/QrM2hRKK2L9QKOlkq8bwv3bXSR0a4sy/gOGErBmQw7/TMQg43nvZP4xzMmK6MMq/QBvT0F23iT+8SfY1LmO3P/QLqPCbBeM/ogChWsva2r/OUewIJwXVv5yiYoMhD9s/5mJmVkTEvb8c/uVGrhfDvyLtl3bdRJC/1hOxJo3m4L9lsZS02/fTv9C/LiWv5OK/wFpA0hCeTL8hB/tk8MDVv/oZYnQtPc6/styeL3d3xb+Vt21Twgy4vxZnm4Zicce/naRmdcqZ179AjgUGFmqvP7OUEkyI7+A/gek0zaYdwb8AP8ux78ekv+IaX8cbiOI/kftinqPAur8RNOxlOSrjv1oYojzngta/yr1XaxYUwL/QTK2W6QDav30FwHo6ktu/g19ilToV2r/ZG+kP14B5v+qX85budcE/WEOb98bKYT/Mm0Zlat/BP12cpOv357Q/YPRmRgum4r/GfPU1C/mAP4zFJFLsC6k/SpjTbG2w2r/SbSsOCfzXPyoCgQoRscK/pco2WgrksT+G1WYrPrPdP/zfsk9aQOW/A5wcz0ENn7/qvLs4fgvaP5gqci7RjLO/IKxFIK+npj/omzKeqg+aP649yUupiso/YPyQ7S9MpT9mQtT3yAKjPzKvtVj4V+M/Yg4K2UPhz7/0hDYO4+TIv3yjmzlD4KG/3ZzPn1lAoD901CftyVjCv4rAzCeHtug/qzhualLdlT8rDbL4yb7XP6ZHHdn+BNk/mMStCPKYsT9o9X7fB6y+P14v3V89rvG/0kYaMRFVqr9gmeXLGdCwPwSk5PfaNHs/jD4WTHnHw7+aKithCnTdP+MPIzEq1di/oFrC6Lkw0r/Cc7p467u0P0EKJk+ftHs/mCt3ganivL+vBST8vMnSP4rA2tuA9dO/NDqmcw0Oob+K+TSrG4uPvw/+wSELvOC/nhXifoFX2788j9t5zinWPyrx6lF7ENS/ert//pIAnz893/MIy0ywPxvbNShlk8M/XhotRRVr2z9sL+r75jN7v0rFWxC0140/6v120aYv3T+usZNlpNnRP54RuUTuV+g/JLbSc5YUzL/qlW0tuLbYP+ahlG5pP4W/Rja4wY191z/gjyMRVI9hP3iVQuSYN8q/ayIW7P/M0b/3RR0pN0zAv+V5SbyAfbQ/gjCCeGzJxr8461+emGDlv4IjxIwYLuM/CItrIjlOub96s7Ge/vnhv537Q0gs5MM/KJLcfJfCyL/T6cw3eH7iPxZgiuZNBrI/fuiTgbdGyb+64/4ndEOzPx5zQf3niMI/SCZjrEd0qz/y4kxMnV+lv7A8Kp/5Zru/9Txe5/XgtL8k4qVmxsuxv6qE+m0woqw/um+hLzvJwj9rJVAOhtnnP46FFFA+09i/TTg5kNym0T9pXju52VzTv1YlqZZGf5G/8LgmxjU5wj85x2wFQXfgP2iQnBvMqNc/i1opmMEozD/8SgkPy3jZvyW+jPJS9bC/ZFK78Fry27/iHMeZwBCmv4bzYfMn3N2/D3PS4H4i6j8ehM6qOavGv0YES2Tqnrk/BwUf3f2F0j9wrzfBDlHavyqlw7saAOu/IS9CwXJv0D9EE2yQyXrSv4h1h7AGMNQ/XCvltt5ykr+K1F4rty2zv9yYhMv7RtA/9L9z4tGgp7/ExgcPNk/rP9JQGW0009i/MqXt1Yc4zL8eWVC8Aavkv2n2qTscb/C/JIHtOVtZ6L8OUoill+XavzhHoKDK4Mk/BYMEjffF1j/Qn8fjCqfBPz6y2cDz3KG/Nq8yKc/tz7/VjyFS0QrZPwC69xUAstC/HhOKTDCXl78k59JWvtLhPwhdzg+C4ty/QGzAU1qRhb/vWPlnyePhv6CyqBLsQ6A/4HEAsKBsvz8HbSYOOfy2P4xhuBEl/LE/hmlkE7w8lj/MoHCnQPq9v7aO1Da6are/uhhRlnqW2D92wFk3cBTbPyx2hdk+OcW/cpURwWmF3r9AwM9ooImEP0cDw3WNzNC/6kHecxRs4D/9a7IAd//XP2s7NUKKMdq/cfywkufOgj8w/SQ9oRHeP4j7diqCqNI/3bz71s/R5L+i9aI8GpPXP7/+xBzNdcY/JgVZ7JJWsL9gYmb+vMDAP8nAxpw0ZHQ/ECW8ojAn1j/HQsy46sW2PxRxnkaKi7w/gQ5ot4GOtz9UCsaP31aHP7ZhXsmNUI4/X6Ueqt/Vwb8svFO04D/Wv6FW+7wKrsQ/CBxUrmI3rz9s0h7JC7DAv8xREEoqhc4/oaXRs7a1mj9sYUOAJby7v9tI+4VjfNO/NqY6APkjvL8EqvGvuVPJv6S7VHYP+bO/JKjEB5CtwD9snduFQdfQP4ajC3PxYMc/PYNk44UF0D92EbI/HcdaP3dzKdRPDdO/x3YRs8ML0T/8Tu+WzFSsP1AjmQ7Adcm//AFrxT+4uj/BniIEPULSP7WmTJTTF36/SHIsKsi1g78inou7h7rjP1xx8GoBZsW/yXrmZJ7RyT/tNwg9J0zoP03RErSusNO/e2We9pgY0j9YjkE8Gtagv1QrCl+nnMs/f1Bq22Y+wz/eJAB3i0aUP6z6WgYcq9q/y2mhF3uNwz/0cR2WtiywP6MDQM7CDbq/gI0ju4vlbj+hmoqY+OPQvx47KXuL1dk/my3SCAaL4b+dKmeK84fVP0zupeEPCKY/qPIfhLGFjj8bFJ8KlH2wvygH2Ry4qNK/AKHg2onu2L/orBZhBlbUv7edIFWZ98w/VnqjbLpd4T+kyFoqLo7Rv8qfwOx3pOC/kAGQcdu/zL97SUgeuwzhv3DLkAbwFeW/8tUrq2QBwr+YgfZhBfTsP4O0CctSUJA/na+yEmaC1b/E/qQZ0i6fv+lqPGDpvpM/ZgDEgxdU0r9uS3yagR7CP3ooRZV/OtO/2z2DMm2Vmr+tfsQZpGbhP8i/PU5np9A/ivpxyLi6yD/a+yjrE2ylP7DDZqycZ34/GdBBObinoD8AT7WYaf24vzytyeyca+Y/cNI4bpPt0D84z8xuCtKnv9J2yVzaXtA/PrWKxsyUzL/yY1deMv2wP04g5OUdqYW/SnZCCRcXx78JIQKDaGfUv0onjOuT7se/bkfPgEUD5j/OJiyTGtbZP/ChSsyAKci/epVk8qaev78Fv6db7UbCP261ipl8fqC/LCa6PJB13T+ac4Y1R3DgP6F+8goDkdG/jkIDMWl50z/lr3D6VHfLPxQuPaCyy54/vijRTBupxT+YfCuuLuayv1oXaBw11cK/glvHczdPsb9kMvOhPcTDv5koZaVc0eC/6G/fKAcUxT/G0JhHnRWzP8Nc2lUawu+/X0XvKZkTsT8g6bcy9C3fP35A/kftqsi/GvKePSG3ir9RcShk93WRvyxGVtlp/eG/x9OgnBMOs7/m3o/VsR7Qv7LJBlz8eMM/Gr+haWu54b8rXuDfq5ifP0KBGmW5ZtQ/Mkco8GNSxT9QqMLflnuVP/hJZaVPedg/1g8CpaLk1r9uqXnutLWcP0QgueqrH44/+v/Z4V+ywT8cEAhziLvWv2xamDlNhLA/oGGKx3QTjb9pBsaUcfWyv9i1Zq877Ww/ufBESjwD17+TrxpRWbPPPxZDQgUfS8e/Aq1NRIiQ5j9AlDTIsTaXP1JtUDf7Wdo/FsJUmtCJ0r92j3qiU3TRP9qgy1gMAeO/d3heAPb2oD+6Ra+rp0Ptv+jNOFWMUdC/ZJnnZBNzab97ogv2nNvTvykxLDUEotY/DwuX1UEo07/sFV75hAqaPxQKuCzuXMA/lBU1OZoW4r8kDS62C5O5v0waVzacx7E/Cj/ZRfCF6j+aateDmqLDv1ifQXt+CqK/WjfkfUF71j8A/pB5ReIiP0RKBB37tc6/bv8JfyJyyj/RbV8PjlrRv2ApTof+sMc/aK1IBaVYdL8D5sBf5dvhP8/CotEAf9+/3/SISsugur/8nNcCzXnFvwTFHh7A0NW/aj8C9rWF3z+K5XJd8Ad3PyBeRl8/wF2/3oKip5n25L/I0qFV+4Dhv9kdVgQEgbO/jQ86Rxxt4L8oDTaBM1Cnv/yzLZRj4sy/HbjvkyUOuD+EmRFOPnGwPybW7fs5obK/DF192Gyzc7+wJyK8/6mUv6ihg51m3to/wJCu9RAuTr9Bqm+KLhrLv55W8VemTbK/LuZSmYGI6L+50PTK707HP8u77t5IAt2/dGBChOoTtj8brvIAoLO2P0XZfwJC7dC/6A0o1u2Cor/fciYklx7wPzNhZ2WExOI/M6Hu+A+Hrr/sYb8id8PFv78dFPvmJbC/Eu1a5N2k0b8/AMetrPXGP3CCPadc+74/eL02Mkbhqz/PI0TN/wm3PwZxE49cXd6/GxupE+tnzb/OZjIthkaxPwAhu9m0LDo/lDGWhB9emr95mxi6g6vgvyYBsY6OB6e/uCdAx8KR1T92mXVkPnvlPzuJFFgch9s/UgIK+ARw0b/wxdtPOVG5vwAATyDJl0M/jfXfCvPx2T/4qe8TXy6Cv56+Gic1pIU/qC7muY8i0L+8MWf/GNd/P9YPtIn3RLi/QfocWRdy079OfgRmY9a+PzCV6DPM5qg/JPwKtdPly79WqF70St2Yv9AlmjnsFZu/Oy72xoE2xT+yPwGppcm/vxCwMiQCkcy/bB3X33r28D/NmoL0zOjuP3wnraERuNk/FE+URkUeur8T4FIbtOW3v+CY/xOwYOw/oMQyj7Mejr+3uzIH/AfTP1wpb9GjE6a/VG2FoEEw4D9xZS2JdjfYv9Idv8HztoW/ONXcNyZQwD+9XGIOng7VvyQZs4bzaqG/zqQxJ4+i8L8E2QioE2fDvzqdj1tNVJ2/VlveLpxDvr96VsO1gE3jv+ZkygybbKq/OtaYqdrWxL+KoWIAkCXuv4ATyg1R4+M/cPnAXJ3+7T8wo5VGEXCxP3l67BTcecA/9AABR1NIpj8wE61RNSymv1200l4d4dE/rdL3Ql9n57+xB7aGyMTBv2bcN5VBNIm/qv2T+3AF7b/8W8U0npOhP/ZxAMcAW8i/bUb5A4dOqD/EgFVYiYPIv3CMYTOzEpS/YGYEe7JjeD+IWREruj2aP/ELgn3ZX+S/3LgpVPrWfT+TmBsrVdHcv5R0LGXFjbU/gMrXxvxlVL+rLDIUZDq2P15AW86i+bw/KJtW1zVW6j8oc1WYMp3DP6CCw62sjpU/xrynjqLozD9QuY7Y6BvBP0S4C69Mo+E/gu3MWcM51z+RyNKGrJbEv6bkzxxmA8g/ep0xVYxZvr/yZabZ8qWHv4dJXJJzfNe/E0lqkv7l3j+ndkFWLbKoP2t1kv1bPMS/cJBpDEEnfb8ledkn8Qvav4Rq1AmRQLC/JhjT+btIuL/AHL2S12OUv0C/t+Y004o/fmn/HnFAmD/FZ4DnXSPGv+QyHyyrhdc/U8yIN48yzj9offEDLtXnP1RW5sx4ZKc/HJnK/tEI1j90lhQOdLHHvwR1yKpwcNG/4GjATNGw2D9M00ETzVnhv5CgMq7hIJ8/xt4xX8fz4z9J6Vr7626mP3KztXUjV9a/poPq8Q4P0b9saCyYBAnJPyLJ3TYDKNA/Ffz98cHY5b9vRbmiRSWyP6zwAP2NAqe/Ztz/q8GR1r/CF28l4wyuP0pxtr7NZtQ/Hj0ZMJ7J678h/To+EqLCP38USbY6VM4/mFdMoRH4tb/MUeZlxPyrP9gkt7OhQqc/v4oRx8sk47/gda7LvWfav8NJ6AscAYK/4pT4X9zJ17/S9wa8tdK4v1Clqu3N9bI/1FzgWyS93z/wFbpKqs7Wv4xzZB8UntO/5rpKkFQw2z+qeu2iOLbXv+03wD/zVN6/6lbeWZDmxT9I1bDoL86Hvyb7sLNk6LI/1Iwwm3xM1L8NxFcOdpnDP8qOxJ9FFem/Jj1Cc+BHlj/+V/lQMObVP4oLQF8kZdS/eNyjCx+Qob8uAi0kFXKfP5pCvUjM6d6/Uny0j54E0T+ObpNemTjev0RdPMG7+eM/Rr1oCSUU07+Ukj/Fa/Llv6TEIkffmNI/Vs6BKHGT1j+rWJdjTWimP52jd0EGod+/KzAOlBha0j//GHEKqGviv5pptkOE876/vYPmUP6kvr/O0LpM4f7uP5L2PFjPKds/PIxk/9Xisj86iVGnfNDYv0Rgi1hHc6q/gIMdOrKBzT+0c8rBLByQP19vdUDGpNM/ykw+3tj6yr+4aY3EC9bZv24iMr5OXMI/mkbS0DHpur8OBITrHezpvzjw1KCueJc/4Yj1umqc2j+lSBgePfbVvzBawcsyup4/9uTL5+jn1T+42pbl4vabP75Ug0MPCMA/qLtW1I+Lkr9coezx8Di9v2yhIymj2bE/FocNN4eWzj/gFdt4fvDAP/xCvlAwcIC/uH91oXi2sD9cPDoWIT+iv8p6wE1MH+W/863vxeBrx78acyzPdl58v0R/tu3OEas/WVnBZiM3sj9gl16C9FuAP273iEROaMU/dD62ERib7b/wePflqIDWv2oyANj+Nt8/KAS7Oy0Ptz8yU+M3pVTFv+gEooJAIeI/qGhetkoftL8bvOku5rbRv2IrYX4W5t0/KPNydhk80r8S4SzceXPgP+gGlyLyY7s/QuT7Dk9x1b+ChjiqzSDhPybaZGKVBMS/OHFWr3mdpj9DfapjWW+wv3jqxSmYkZc/eDzj+TO7uD9Sd+YOnBjRP6pcdaNfFdc/L160GEpFpD8y0A1vJFbiPzg4Gwa6E7u/Z7R5VMwk0r9Q+kwJFkvmPzAcmezLFN8/EgeGdFUdlb/w1rXykvDTP+7CHN/kItg/IlYy6yU+sj9Sk8rlzAjCP4Iy2puR9MY/cqYnkDpD2T9AdcLfAsmiP+Ya3i8mgt8/R8KA6Rge0D/5mA1IYwDlvxxKxJb0ANE/rBndVCBiuD+InthMIarmP/0YbQzsW+c/oEcA6yl8o7+UGXidzcKbv4NConUtB8m/+BEnTH8xgT84Fp+f9qXWv4ALJyE/Cbw/dG3gP40cfL/fjom0wYHCvxlWfEQz3cS/aH8BOs9DoL/45lEkBb2ZP8Ce3Bak+5k/GY1d0PCo07/pFqbY1lXDvyuAgkxe76E/eId/y1BO3T/L90sYs4jfv0NDWuRCXOE/cmpwLQ5jwL9dKmntP6vVvxiC6kvTnsy/WUnx6IZe2T/rvsu0sLjUvxScqsIJLey/UML1myEOkT/LHDojyqnWv4CGCmh2RGu/aAS62Rdbrj/j2isn2s/Sv9re8T/GE8w/m1me04E3lb91Rp2VtNjFvyC121E2iO2/D3WismRHwT9S1zeBBF/iv+puLDpuC5E/QVbEIuJC2b+a893xjNzVv6Km76ePMse/8A8GR4Nf1T+IdnVWiguPP0r2kPin85u/vKKJQF1Xaj8EhM5FEcjUP/2/8QHJfam/4z9HB+/loz8iByIjf9KwPwCmty9P7aq/xgs9N9Sz6r+WckX3ezHYPzfjdSxfzsW/bttBsal1fb+iQGB3ql68v3r189om6uS/3kuVOTf7sD/+okfs+zzAv/AFjm/52NK/wcMu4gUyuz8aTFBaacTtv5A5UZbRCsQ/lIZ7yt7f2b+G+zkym5ndv4TnqoqlErE/Bd30E7mLyj94jYFHHd/Dv+kn0fTPE5I/KENHxuIEzj/J5oFPDJLUvyEfcbANHde/OL0QYNjgwD8ZlpsunOy7Py77p+G7RcI/jx+qRljNsr9yn8jRqBHWP7rX8fY6DKQ/vh9K/95D3T/JHOwlP0TJPwPPpDHLWdE/IItkOiPrd7/NtAkHLcTKv2BuCJyj1Zm/QCxDTXm/sb/fDPAax6C1P7Qh5czJhcI/6ofQyMikyj/4EcdJE9i/PzVI34RMIbG/yWazE0Na079j23BTDUOpvwC54ijKBkc/lQh/evC6vT/eoudeHq/Dv8CdbFWG+uS/eAsXZkkFqj8YGzmkVTzuv0cqW4fPgFg/47iRqdJIxT/IW0tWE+vCP3JmWc8JCdA/BsefU2YN4r8exhMxmEvNPyPH2eASRcW/WqW0To/m5z/FHWmOtDfZv7SYY74fFz0/Uh7de8b06z/cZ2X7G3LHv+cF5Nw5hb2/N825zrk7zL+IgGNMYWnLP+4dM8FkFcs/qt6Bk5V71T9VtTLGeprPP/htAaeKW+O/zZyjnlYdu7+CJLA7uojZv4rOjRmoju4/FIUakqdfxL+n8vNZlHLXPw/hR0aCkLg/6Hve8GsVwr8YOWFIg3PlP/xfvw4PNMc/wa3ajd876T8IYDn1cHG1P/FNVX7P5JC/I2huHPCC2z9VNdiaf/nKv+BAnUx1eLe/9hbKs3JlvD9mrzLoXN+7PwCLxen1SyG/C727VerN07/Py8ELZATQP55WqSwveIo/fYAz14cPsb+coEQIgJfqv2BCEzSxwsa/QNLGImsNv782aaMoDIHGvyCkImRfZeK/nEh4Akt21j809XLgPi24P0cf8nXZepe/uqmUuoeXeD8RZzcjOVTjv8Y6ZqcLiL+/hP+xb8EOn7+TOubrBw7BP44QjgVti8s/3sEjJTGC0z/5MofnhgDHPxwgSMJkBte/SNKBJhkDdL8arAjF1DTUPx7XnTVjFsO/QnFoEy41zj/g3wHsvCDNv576DdR/0di/5cbyS4iN6D9a/53GGYPDP2rS4zHj+dO/JCqg8oqE4D+wtRT1G7u1P3qkPWfWB9O/gr6mAILuwz+CO6Fp9JfQvwUKEqaF/9s/8sk6XEbP1L9EzqEOPALHv2oOw9FJDrM/gJtepMweez9VnPANf+nbPyzZ9Mez9ae/zL8FfO4Axb8ovaRYwoaaPzIoaR96rdk/T770Q1fowb+KGRpZ/+ravxWrzZe5YME/CEE4EWBfvD92Ne79SKm4P4BKda7Jv9e/46VPHy6T5j+mSQj8yJy+P7CRgVkLAno/zGLBu93eyb+Kv+tXr6Sxv7L7DsXaOsg/sPNAzvuylT/cYVkYiIGUP8+FcO5Jy9Y/ZyfGxEFs0b+ygxtqVZXav0mX4h28LNU/L0leMo3C4j+mFdvMKiPlP5aOOb9y3dA/uAZS9ReDzT/xoutwMpLGv9Wy5+b9Br2/iOvjaH9x4b87YSFr0xbLP9RrcOEy8bg/UqiLUbg32D+g7YKeQbS/v4JvphplFNO/Ghe+ejSU3b/rJ3DEL83Hv/pD/QYIduq/0aLDRvIX079uUTTQ5XnUv2i5cy7WqKO/hV6eg50t0z846i+egXfVv9nCca4Bceu/EpgJDeDFuz+qD8gn65TivwLh8vfZYd4/gIW4qnMdoT/ylSHA07DQv40C36DpnNg/iE6XC8UxpL/MsWp4c7DhP3rWq3PUi7+/StupgOG+xb/wSMMDNsu6v6P0Ha6Gdb8/aJMU2kQZ7b9kUFe9wVbSvx4GYMCL8am/5rd4CQm41L9g3im+w+LpP98JEiOlztc/THye3W0Zwj9viltl8LbWP0S1V+Liuaw/hLmP1k7xaL+fv7QU9VjIv/rWPyd/Ss6/VDCRtCjenb9YK4sQY72Qv6iHfb8bm9U/qKuNXY4Ww79Xd67Q8vGfv/vs7wvE7tK/+fG3qC48xT9Upduqs9LUP7/oUHvKFbG/0v8SbeXyvj9OcQwrjzHAP+7nn7BxTNe/OeNG7M043r+AU/CPOF00P7ByON3wsuK/PlmR3SNt37+tkrBI7Hqnv6Lsdukc3oK/w0Hnh4Go179QmsD8XlS2v/aegFaRp92/DLLnLWT51z/WJaYn2Ta7vwh+KQe37pM/nn3jtK9n0r/iaJ4YoG2rP4JCN+AsZ74/Nsr1QjfC4z9Cv7rImz3Bv7hUK5CIMqc/5d8lvGUFtT+sbVer1CS4PwCljsndZOG/vliSPpfvyb+tXkz9JKrOv6rxWgRLg8c/3EMhzgHUvb8goN9IbkWsv6z5ic+B7+8/oqTSeaGXxT/wXFoDykqbv45wXbvOPeU/CDEFEh0O2z+56TDW/CHlv2O3PLsOdVK/JlbPnO51qD8sPDWJoUHGv13eZGDCOL8/Mm4ENMxaqT9/D901OkrhP2wqhZpD9sE/mnb5C8EL1L/RKmCzU6uXvziLLnRDA7o/XJn8hAyh0b+gydybwZe1P454+DYZZpE/CEnXOyoe4T+Rt+KW3svUP3Rj+Bzg7rK/IuhnO+7tsj/3sd6VBzzqP3nD1dt+VLM/DifkF03dvz8+tVTDNbvLP1Vb/ChU+uG/ijfU9jNGz79AikcJC51vv/xzfXptAuA/KUFExAPUzL82wsud63nRvyZ9DXT6PM0/AOYdI0v6zL80joNToRLUv/Ft4//hUqE/vTkmt67G4T86ixyMND/Kv7yPYN9FCra/5tME5ZloyT/8KiCoMGLAv7R6ipD3+7E/oJ0KLkv8dz8g7UpvGYDaP5lcqYzgusS/KtuRNv6Bsb9yd5aYDbjBPxLJvHFKRt6/yCbp423Hsz9EQaEcdDXAP/m2pnsWidi/ZjnWA6a1tj8w7jEaNfnMP7TLfW1TWvG/7XK+tA/N7j9IK3Yw+8vVv2rskXca7sU/sNGebYt7jj/UrXLDbpLWv/E8uiNO4+A/gGvWAyJ1pz9WvrT1J76nv4R2kCDpO9M/3MCVnA/H3T+4OQtT7Ce4P9xtjEoYebO/QEqSD7Gmtz+wrvjxYj6Xvyy1EprwCuI/jH+Kw6xmuL8QW0PHOTt7P5S8FBw2lrS/qEqQg0/R3T92+pVqqFfbv2RMVf+9gt+/+hcz4EJLtz+N1zq97Nzlv5CRlJXzsrI/IJrGXwZP2b/ui0+rk1OhP5586z62Yb+/8KSYldyOcj/a5a6Y2+a2v2AYBVLYiYo/QJ+lUOrbuD9AYglDVS+WP6VmCrYr3Mo/XQnx8oUt5D8g03PUqIuhv0omtl0THuS/fgOEilfY1T8x2N2zoJHTP0iRdg6G07S/zE/fPxdR0j+gNY1r54PnP+b4G+l/f9C/K2WEPGsl5z8fkENHiDPfP/cChaikYOS/Ki/GzSITwr80pGEmiEWXPx/seDo9Nqe/TumFrkna3T+U2KT/MHbrv6wF7ysIPcc/oMIUWTSZ3L/gLn9YI6u+PwSIdil6scq/ItdhRUR47z9CMJaLKa7TPygnWCnYDa4/abOuleqh079KY+boTyrZPx4VTZKi8cA/0P+EqR1D3b9s90UUDH6rvxYeevKX7bI/uhf4rgrxyb9i97T2okbnv7NQSV4lvu2/DEi/PhtLp7+KJp4I2zafPxe6RWmzzNM/znVza7i23L+uxEGpR2bjPz/H2UV5xNu/PEfuQ1Yhzz9cIpUMkt/Lv5iT8Vp+m4i/cupgqow1yj8EmCDWXaa3v+lF0qRsedU/xSdVWlADiL+yWdegzfOnv4Cxu2Wa9m2/XNX/Uev0zT/AulAM9E/XP71jdyrY2cK/5FMJwQs+nr9o7uIE0FfaP5Aobz5AepS/4/r5xBz60j+DThVEZvPOv+4jL5zVMqs/oVdkwd0miL9EJxy5s3OcP57zerY3J7q/BipXmA7/1D9tT4v/p0LPvzC2h2mK8Ns/Y2Onof120r+5ZlB9WiK0PxAwkvZj0sO/GoqqiJxSwz8kJgceQr+fv4hW9gsKhIw/3jeqt5Guuj9QoVzukZGOv42tAzRAYdW/eqlqYIUaw7+QHCPqMOiBP2SGHD3+6+S/g+tHKgtuvL8w26zflIS3v1InXqC1LMA/hgBDnyCJ1D9/a6wGCo6aP3Z/HVWFpDM/9b3VEprm2r+AqA4W80O0v4pVhRKGv9E/mADp1eBTtb8rrs47jszRv6dQbdSxGMe/A1F4EIonxr+8jYUy+6Tdv5/ou3H9UNc/N/jWpZyg0b9s4ksDKMXov17h551SYMm/bfklYYqE0r9etbSQz9vEP96Oxts8BOQ/I2CDHWaStD9yflyzeWC8v0HQqx+278W/4QQr5U4Ayz8+izU6nRbMvzY6ZSxfQcc/3SnISB7opD+zgWxvi3mhvwBsKSH/hWm/Fme1xe6YWD88dxOctgKvv8SPx3uFxMC/yHlk6Z2z3L/merJpVkfEv2gZTQZmIZs/Goul0X+ZvL+smT0a2wyhP0HD29mBs34/5Di/hpZdwT/opfUgUri7P35CahVdJnq/aO+Z+BVdjD/xjyM2c12JP7tI1sY6itq/wQCk6Juh1j+IFn85KTHbv9AyHkhzAbG/cAfj83+6gr/eVV+jxgmyvx4P37S/Pcw/6Tgyfrtzyz/bL5s+P1Hmv3Zmxf3oFdq/TPzg0rFX1r9i6LyT7KzSv0pONBzPEsU/GE9oqnTE5b+SuF0k4w2mv+eu9OJLFLm/Fa87eEjU2D8I038Dt3uNv48pa7k3yes/eTqlP/5vsj/WuoBV/fLRv/QVTsd54a4/g0smksIRpL9Wf+JyoUGbv3CJZpX317W/wUbzkAni0L8QxUwbs1/dP7ZXuzkWysy/f4amYUZO578Hc7uQV1vqP9/pALuVtss/gQevhH88pz917QifhzDRP6iZd+98POw/oH+L7Jaozb/eZnI/MxG+P9Tug3FXftC/opqcYjposr9QppeasDGnv5y00qrq4+I/+Np6ELiL4L9O/+bpfzG5PxYteltpm9A/XwkqMBdCwj/a5C7uFZOsP7BiNBP5T8O//IzfIL0vzL99YJ6oX1++v24A/kRYZ7O/OTf6SQuK1T/Apt5UnH1sv4rT/CWVrr4/wba+VuXksj+roD52hhHAv+EJN0MpKMQ/rBeJu3HvuD8g+h5mtXPcP2SJoQ+JSOO/8jZ0suttuD8UVema1U7jv5YAEiuX6eC/8OwZIV1Quj+NT5eLMT6jP8NVawWCBbE/9Pvv8nEhzb9qXHYesBu3vydzhHtv7ME/+OWZgizToD8uyUcnvSziP+mf9uGEcOw/hKB5Mmm25D/u00B8r2/vPwoSll4Oa9k/1HytbptRuz/ZMjZNvmTevxbTBBJfiM8/BD5gbHJF07/q3tpYc0qjP4Sg/g1PXse/EKuPSPow0j+ezjeX99G8v6J8A4delMK/SJTIh+g14b/LQYA1HnCQvxAurEFozYW/kWBYamAx6z/+Wf/11qbjv/eR53kNQtw/RuFvCGfP2T8WOzl0yjS4v9pOjocYILE/UaA9jvDZy79wNpy/8cfPv+JesneA5+S/OQi1Lb6Q0L/YrdAyL8Wmv3DEhSe3/c0/jzwsmykRrT+4/qcvnBzfv3biHWQ+tbW/vmHIprpi3j/XiQ9AMu3Pvwu763ybwc4/vQFtLZDBpD+OCJXFXiC1P6oIew9uy7A/sGW8SgZBv79wV5Us+Ovnv707RydVmbG/JQ0G3q8KzT+awg9cvLS2vwa0WO5JRmc/6Yli9Aorwj8l/yyoIBnkv85PxUkdwJm//W7h6vXawj993NtjdyKqv5CmyA5qzsu/Ik6oqIlhxj/hSMd+kUjAP1ABEN5334+/puJeGI3Q1z9w8OxgK9qRP1wL2wawlMw/DHRb32cowb9MWd5YW7ihv9DJ8TZiTaU/cnd+/DkXmr8J/HRkWD2sPxCh53ZhoHE/tg4J7Vwl5r+6Au+X9oy5P7hp0iNg15o/BJZjr1Owsb8qQeW2nYPLv0yh+kcFRMW/bDRDq+qG6b/GjDGd/IfhP+Bs7YSc16E/lFekS9SNwj9JcLtfWhTOv8D5gWjv+nA/JZFBXL0Ew7/szjplWQ6JPyy5+AHzQrq/7OTIAp2P2L8ELtG3D520v1gIjTS4RI+/hr42s5nCzb9rDhpGx/znP4z/0vnkQdK/XZZuonQp4L/SwmPKFdHlP+0Sx6qFltQ/fHLWoJaBvj/yz7vMef2sP8lmIbZPU/A/sFfMS2ekxD+0R6opSvS1PwhbpNUKNXQ/UEknu+sjvj+8/Bg2wd+tP6uUluiSG9W/W4h042Vgxz/OXNQMumTBP50rmrv1+eC/zCj+j3HbvD82j+W+5eKXv4UmBRB3haw/riOxIg6S17/ot+LYYPi9v4L2oFa0uey/kJcc28oDmz9BwLAz0/7dv7PG1bXJqqK/yCQCZrOfxr9ocLHXhAbbP2rBx4sdV90/ROzq5Pa/u7/6rjpHqxqZP0iYWlqbh9u/Marh9M7f1b99Cr7vEiTPP3gAU7LrNr0/L10yQ6jz2T+YLH8Z9gWov8HsFJIffqu/gTsoo2iv3z8YmUCbBGfVPxBl8qtel8q/M+iUWqx02L9OrS+2VHToPyS37MVpgsu/9NU4ufTZ0D8lKgVVDNGlv39sXnqfNMK/3sAYb4zC4D/UTEnvNwjfv5qTWjlwhMe/LEbt15v06D9aYN7QrMpJP5sjr6EWu9Q/LxbuGx9Ptz8kdAlcPVLZP6QWuWYKur6/3uu9OO8/yr8TIZWsm4fUv31YOMPz8dQ/UiSlD36EsL85w8RUZwfFP+x4rDQUOeA/Y+PvJ0AE5L9Q+xfoVyyGv/BFaA2IlfI/EMqF3TPY0D/k6a7GDX3bPxBWiL3D3bI/yjUPJ2nV4j+85wpTKZTbv6w8sIeIi+o/xVjqbGtqpL8BTIeBzqjCv4Z03iyDdbY/olXuooLt4r84XKpRSdutv526Y1HmS9q/qFD9zgJW0z+BlyUOqVfRv/P5VgtwBuq/oFEm6MgVtb8Q4T6sAeBnPzhj0mbYWtk/3iSseE2ryb9a+BZko1vHP5cuIiaT36G/WEmk2/dgsT8481pmTZ2zP1PiZGpp3Mu/EMFSHTsy078/N9RGAHyQP562P/8h0tA/ppl+jmGeur/jDAUKsRnJv1bBVfKGztg/BDsbpAZTxL8YFqJ9cX/VP+i2RAWHEI2/Ru8j63Ni5b98a1fkxjOcv7qOg6zUbsW/SDObgAyzyD9AodIKNd+Qvyh8+lMW+dq/OB4FmZVU8T/wMBs5Pbarv6JU1oipk3e/Y08sZxrlz79BgHPMHxC4P7ypIvxDEd8/D87R5wom2D/auDXt0sDJv5ir+Cq4gn+/eqCIcUwOy79G/bx+xmPPv4xlLczTO6S/Thj0iXQbwL+pLVzmpcK/v1CZ+UFsXaw/YuU1BiaZyT/a6Sb4rpXCP8Bp4yO6T4A/0rgxQGCaxj/CAaMwDXbqP3gadE4Dsr+/+I0X0rLVfb8aPDsMvbXkvzBOMZQb4rO/0wjIxBpO0799IU3jdkzhvy/xIsXSI5M/MOzPDjOBlj+AA0//V9Byvy7u4Qmqztg/GenRtRPU0L8Ywrkhqhluv3JEgVIyfd6/fuik4tOi2r+oVPMsLlCBP6rq3xEJ7rk/8E2/LI/Tnb+0NQ4Us7yEP1VglVcV0LK/FHjJnKSDw79Maw51cDi5v5+goeEFS9I/4Crj4YAWyb/IYeOgIALZPwBANJPjxcw/FMAUHfB5hD8gCDWOuGeZvzyfLSAI9eO/zFWUlH4C1r8sHi0UjOnBP2FOgwkli8i/oNEhx8gooL8Ep29jZ/S8P6FIE0/ooK6/WMzOiJnS8L86SrRCSFbSP+JINXqseLc/N8VxTpfFwz9G0kSLs622v5oTRJj9Tcs/gFEcr3EyfD/U60T8tMWgv94azeTga6k/T0JL2Pwbxr8g85Z2hvWFv0nlcdS02Me/9ICaK6PUiz/otmBSL4Otv3VuP3Whqdu/D42ZKq1Q3b9FceA0/dXcv5MCgA+8xKg/jGXMq+3goL8+IqF8ox/RvzZA5P7KP32/q3mAdnW34j/ib9oGY6Fhv9/eCLp7NNa/1rxeGp280D+YVKWeMvDav1ALHcmUDKI/fhJwy6ey3T8MBlIJUai8v57lUydLON6/lN9eIXklcj9HQy91Zh7gP3gTPTEBT7y/LCyDg2dL2b9QQNdPFPitvyoScwVuE4Q/oJwK6ueHwL9e8cTbJkXbv5Av9bfwl8Y/EB/pyD7S27+W6bxHzsbEPyIOlH63NbM/uBVEyJR43j9QgBs4YHdzv5Ji+7FFarw/CJekPGrB5z96PjvoudfSv7a8lLbm1LM/uI9HaYzAn79y9eu0VgHZP2wFtI4qveQ/8NyNOjCzwT/MajX/coO3v0EBVpBKHuC/wHLzheBDr7+m6EP9hzvFv4CyzA3hmNa/dVKEgL4Twz/ZbtHN6sfdv/A7ZxjIhLK/m/omYEUxy7/cFNTpZgS6P8E3lD+qi+A/qN9b/Nq7yb8hEsC48wvLv6P+Ix/EwbG/Uxnalwiuoj/5eR1FZFTjv3wVzuAcY9e/UPl0bP5JiD/KQPILJnjEvyFYjt0vtdg/n/J3ntv63z8jQhUZtFfHP4DI/ttsOMg/gBjZ3seezL+XaBFXNI28P4ywgx2+8+U/AExi98jyXj+GyIt9J+bAv9RCdivBRqO/+2yf0d1Ysr/MSBe0VVTAv99ST16Mq7y/LvuG9PiFn78wv8pQXZHhv0V9dVU107m/WNZ765hO0r+Y2tFXeVnVv42l19YO0dm/U8RZw9Y207/fpB5jIxa5PzQnZaK+tNU/hRaKNFKdyj97PcidaSVcv3e9r+4BBr6/+HfUu+WPxr+oFIR6FyfKvxZyKfGZi8M/zFGuQ8fN7b+8eoRNLFjJP0o+nBVztNG/mExvjCXBuz9AU+v8MPGQP4jyD0mSLK2/BsJivMgVdD8cmN627LzgP8PBc8L1Quc/sV8vMOb3zr+uza2nYSTcv1IUIX5dEa+/04oiTMxwqz+SoBzl6Jy0v2zeEzSGm9U/yxJWPk5nvL9sseYVIA2zv6a3kpbvtcI/bpFH7XVWyz9N0YW2PnvFv0wM8HSXnNq/gotl1LTw678EO4aFn7+9v/R3+Tlmvpu/UN29C4NX0b+8rrJUgtilvzzHbdumPN8/RB73TzEahb8UHf+fVJDSPwBfc5LL114/dOegqK5O6b9hlypokwHgPxdUXuss5Xc/KJvY3iUX0j94mQJ3z1nGvx58rhPhXMC//rGeyM50wL/5owDOEVS/P4BeJeZr4Xc/5C3me4AwwL/2Q/lPAYnZPz1IuPCvgue//aFy/4e8Nz9JDy6Z0T7pvwZyfv2zA3W/+DDM7UCqZb8J19grKYusv9qb1XN439I/gCZFsutIyr8D9tbzgWeWP8LKowY3r8G/1hZ4nN79uz8u/jyi2tq1P15Pzam7Wri/fgVoao3Wt7+sMNFPL2/cv+KCl3xVguI/D+GsAa+xkz8OStT50jLFP+p6Jji8FtS/L6xMpn180L9aA0R5PWqzv4zIA0BnCcu/VdVSgs3z1787pEODGtbBPyiIjZnkJ9M/iMM0U/+Q2j98ZVrLDeW6v579ymi8U9G/PGwnG2V8xL9ehENs9iTaPz6gXNupLdm/gp0YifSU2j+Mw7iy/8XkP5EDMPR+HMi/PGj5m52f1D9kFuwunXGHv15rbQ37Keo/wIo2iZT6uT+kYzYUN8GWv5bGWFHkIKO/hjpovzuK2z8/5MKFDTXbP9jmErTst8o/FJFMpsWaoj/0V6hz3YzRP3iH+P9bsKq/yA9hZIF/2T8L8wytovyrP14FLTGs79I/lit0wxyf5b9CWScvBJrEvwZmmwKDRdq/zP4sEMrmdD954SrPt5TVP1inbmdCAek/mS0hGRy72T9Cn214e0TOP/jMPUal/HQ/+uBuQX1wwr+jvwZ//YLHPwB7r5lYN9A/Fosw8w8Ljr9dsWTmYdHMPypoC81fG88/rf2FD4kExL9Qk3965iTgvx3Bb57DkOY/8JTJ2Otb3T/njx0leAbDPzZwNvuaCtw/NlJmAun2wD/mx3QL+5+6P2YSuGLzmKI/nLpv0IsC6T/KeQ7VtOnYv17a63EIcbC/ICqzKr5Uaj9y/+mhVx3HP+xqi3fS3I0/IKYL379C4b8uNWMZRLG4P+u+J0n9MdG/nI/pnkGB6D/xnET92Hevv+AVzmv3LLg/YANqXrgMnr+oKxhM0N/Sv3YQMzRxBtA/LOo8YJDB0L9Bt7VqXBzlP206iZnAvsU/oiQnJOG7vT+4zMjO12Kov77HkxKXBma/0FPgyksCwj/HO99SSILQP/hjrhOZo8A/syiPz+qruL+bbpmPjUGnv+ziWUsK6tm/dSbU+0xb4b+4DRiVOZOWvwJ2J2m9o8e/kv8V1lLx5z/eMjY7yvvWvz6Chj2e/N4/5OpUwCas5j9Q31dl2xzLv5pKpK7uc7e/yoeASpfkvb9MbjZ/5GTbP+KHc8MPitE/yK/JiIZtkj9subtf4XvDP7aoODZNUXa/J8JP23qv2D+UuLZj/7rVP5ugJmqlttI/dljncr5N07+FytS21g3VP0+Lh61EnsK/Kf5BOHWO0r/D+oWuFbbVPwKaOs/0zd8/bDLP6n/Qz78aIBO0JKTNv0CoK+VGR6C/UDWDRqJq6T8Kw2JN8VSyvzgFvQjH8cW/3ykr5ruB0z+cc64qrMSfv+ZiwK1sTLO/Pdy4o5Aikb8EoIdyLfDSP5lwtGYkHNI/WYXvJ7iVzL98aK4PjxDav3jvhi2DVHo/vBwKxL1V3r90WmNugQSnPwOEVtJi4ae/aYhcIJH62b9sCibPHQ66v7oO1HaR7eA/g/4qctBOsL9xHgyaw+uzP8ySfWB/TNm/+rr87apa0b+8rmXKyIO2P9R/YRYdxd6/YU44IMUT279ACRaNCwXeP0EV6cNjZtm/dpvoPQ8Z5j+WB2mCwgqzP1StoY6q2LK/VPXSThxotz87RxsjcHrnP4zUAK1OiZ6/ycZLhCUYtL+IFo6BGO69P8AzGpd15Ii/coR6hJTF0D9NvfW3mqvSv0AKwws484+/OGnTn/NB778055ZdEDG6PwPbLjAbgcs/O7rdAThExD/c9mlZqQvMv3RP6dgky6o/AL/WL5pk2D/0OIZf/QGKvyeQxHxBf8Y/dpLjgPaCyz/jKHDCegfTv2iz0hi9tdE/U4r3eT2Cz78HZ7Q+9kSTP1gQeLmGkGY/Y95MgogN0r+m/NR5CfzWP4FIPnN12MY/HO63iWkD0b88x8xDzGHnPwLdngdsX6K/ALe+B45gc7+zCnZUX1PWv5Qf5TmterO/9BMmvtzArb9AmdiRk6Rvv3iDVbkyyNA/Xlq7DwG7sD9m5wSuSOnWP2EjkVAnacC/Q1qbcbPM2j9hzP3gVnzCP6mWj7KmM9i/4mrl0WPPsD+mSVnQOV++v6QoWwxhjY8/TLefTHMK0b/0uos1QeOiv5dt4pDMv86/7GZ25gcbuz8dQCb1DMzLv/RHVzXCZtK/PhXVfD9w4b8AezmC7ULCP0XpDogQY8C//NL9oEnVpj8U0C4n/3ymv17IkMK7b8E/nodzNu5nzz/2zRNd5PvUP+yzMzRuxd6/GhoRA7yksz/xPG4gGu+4v//d+7ucKti/IUPflEY2sz/GZPQ1zFuhP/LnTk7Wn8a/phIOpCsCoL+H2oNeEyHgv5gSsAPcBdQ/+Fx8XX7Z1L8wazbToHB9v5Qd+8oIHcm/TJRrJlv90b+VcaXSTT/Cv1qaDt/BI72/4lvXLx5PlL9cswrTFG+Vv5QyRRiWgs4/Hpbr9Tgx07/A8lt027efv0gilMd5Xes/2clccDVZkr9FJ6A5GyjAvyDP488Nety/aotRZuKOoD8Gr+8Y2Cjpv3DGVXepOag/hKZKfLa1qr+AA5xcl3FVP4J0XZJHSbO/vrKrLJbjqb/k8TajPZTwv8z/lw//HrS/8KQ9+Mc+kT/Fp4o0zFGGv1JPBbSwAaI/JI5poIwliT/KPXdShVDEv+bqFkVFl2A/b4M34YLzkT9YeiG9B9G8v3xwdgZZ7bq/XtbNQxkh3r9MSLNlWcDXvwoHbF4ElqS/tMTK9Q/jkb8+OXztRUrVP8YYgTWkE7A/QawjeFg8079+2yozNrG2P+6X/XQ2lbG/ssArOntw3790RisZmQLCP14/OzKXsN2/QMG+NmjRZD9/wXevmAHePxDyz4gCO9k/xH8PUMM5z78HS64fqEaaP30W8MvUuNQ/Bb2rwiQa5L8TU4E/gCnJv+DSktVdRrm/R1QL5riRvz9OfOzy13Phv4gseARpTGg/dPdojPsMwL8QDYLOcrPKP4jVnJekQZA/v+dtfQ5Gq7/j2y/E86ymPxQS5YDNTc8/9oIo/q0kzr9UpocSnqfAvx8BYzfh7ci/5pua8cUTvL9iUOiQs8fAP3iL/17K2q0/PqP8YgdA0b/OmijEddjQP9zbdtbpx8Y/rMSZRYsc1L8tY1YjoAa4P86I5TCz+cE/GL/DU+pKpj9Akled6Bx1v9aJJn+LK9i/yp65nhQYhD8qPJyULpLQP9REDn2JJZQ/oX1Sw/a4v79cEnbYehy3v6nf/SlZ4+q/1ypSErhW478sw9pvhcphv4Fx2CjIVNC/7VT+MbrF5z/gvjO8tB2av5SE9Eymdcs/MI4lZNDhkL+CZlR66F+qP+/Ki4qg+t2/BNFti0mXvb/MjTPPl8TfP7UdF4Ssmui/tmxCV2RQjj8OnTH3sp+ovyCn8nPu3Nq/WldNNR6S8L8GJRnpdcDdP6gV8kapbce/3Rdh5RQj0D9RI/gM8NbFv1t3NHztONY/lPRjEbFgv78Yvfncq3aSP38vhd0JJbw/cqIlbxc/1T95aCPa0kXgPzQFjktzb22/n1KbLJqb0z+074AUEUrLP3rPGvlZM5i/g1dTa+RuzT9UiwpDAqnhP8cvjMp/A7Y/XLPY05lRv78CCQ3sR2SaP5fG4kNKn9U/KnwvMxFG2D91n2QINJfUPyjbvZVslLO//OjWF2ws4z8AiUrJG1e5vwTQpIgAda2/lMiavNI1ur9kR7tbCQ2Kv09dFZYXP9E/vXjaUetzqr/CjmG1ENzZP7aAYhL2uL+/An7zb3oC1T8v+2Vl3hLZPyAseZYkvs8/8NtcNnRV2b/Y9ljX0aiZvyQ9pI2Hite/6P9S/iTLgb83le+MvHHgv5aHcRCGu7Q/zo3s/H0T5b8HbAAFPLzjP9pdnkcXC+Y/9ICkCPp/wz8cPU+IVvS1P6tNn55R3s2/AhYJtJbIm7+sqXmdtOvPv97FTBPmOdu/J9VVoK67uL+5BI03F+rpP15HIWeBaN0/u42RU5gJwj+5/LRpawizvwnrmmwwjeC/8p7Spnr3yr814hoy31HFvx8raV2iH+K/YXL24GAw2r9VYe0BQ72zPx1hFVfvJNO/CDOR4onJcL+2z8x3/mWpvxRb1DBpfcc/eBjTmcWMVb8wxL7hPe7jP0bKfIR2Ins/kpLIsNRQoL9btDzKNVTav7jtithVUba/Nipc7IGAxj/+KdxihrDFP5JXfewS9de/J0ufOuyqwb/g9Ek8HeZ1P4h73gMigtc/rAfc7ngM7j9eMRrEsdPwv1Qp+xvLM7I/krOwFQLGxz/tgZURdySwP80k8kJA7NE/fgHpy2Cgs799jLSahFjkP3ooArEoceC/2EZ62t7wOj9zfqov1/LFP4RBzvcZsZm/I0eSegg7wT8WtXDewtvXvzBI6msleZk/r0/JzAWR4r8Y9x/gbpBeP/bRoOkKnrA/lrGf+I27y78YgY99Uynmv8sfcdbrys+/DmvQ1a/23r+KzteXb/vgv1ZsM4j+fNE/1eKqeO881j90C/Q/xLTgvysJ4iPibIC/vd2mR9t96r9cyaJej4HjP4p3jXLdJ88/nmiR2IN+3r8uOGQKPNPJP7UWHAjrrUU/FnvCdCwgkD8eKEn8h2vgP3vtCedfD+G/dX9juNRE3z9WFL2LEwXdv062CWpjY7g/AsKKK6VT3j8b1OV9i2nGv/nPsCxDRsa/4acPYe/Eyj+3+EK/AM/Rv5YaeVHT6aM/k6FlI4jL0j99ldyJ0wWxvwumW1Y4WdS/HJ6Dqz8emj9+ESUXv3rUP4COdCUCPZC/uZhugbBuw79cfnyhC63Vv5amYJKQpbo/XIXkDUvqnT8/pTBb84fRP1WrKURkCsk/S/0g9k/qz7/wVZw05AOjP0xXuXT8H9Y/9nGomRt30j8ol2+EM4nWP1ORN+APQNY/FN4LilRiyb+mgEmJV5Swvyxg6PfpBqO/kzjheTGdt78m9E0O4tW6vzhoxp0UQpQ/uQ08HWYatj8zJXcQNI3bPyGdsn0EvqG/onceF0E6n7/pA9TrIdHsv7TqVMtkrc8/EftFXksIwr/okUczeA+RPxpb7TA6KrC/1AcTPHKA1b/JN3Ymy/y6P3zti6Q/jcS/aCZBKXMerb9CUPXsEMHgP5KNYD6F7+8/LJP9clTuzb+/6HyE0mXIP3lpB2QqDNG/P4UrhxkAxL9seD/iVpbZP6tM7UWbh+G/slXNCVOk6b+wsrnBW4yqPzhFFVrHW9I/wtN+Jc9rvD8gZcfbQU/Hv9KC1XwYMdC/qr6g9hNlzz9AaUGxwwC0v2a1SLY1YeE/BoDuwnkcwz+PdF2wqRy2v1HctESEOcw/j15wdgMzxT8fwvQNfQKwP2Ar7p552KM/wg1X2zSD2r/+pbUk9Srhv1CZED2robc/6vgSbe6gp79IF8gILiK+P4SubCyPabQ/ImCnc0e73r/MWJzkJ6e6v/wUnoNIBMI/4r59pS+m0r9hIU6vxErCPxLZoecSssG/CgfTkpEjwz8bUsshS9S/P+C9i/p8ytA/E5IpmpYCer9ACrIHtMRTv2wNtywFd7c/NEHQMvBM5z9odz6sIgimv5GvyZk64eQ/ryW9arvK3r9Ah3hOMYxiv+fQUQZD5eQ/hKyKx+Gfg78giwLR6FLVvyHjOczqjbY/YejLReAdwT9KnOVnR5jrP0IWrCfGLLq/+T+YiS8M4r8oqY1G3sNCv/pgdG7Jvtm/IAYE8ns2l7/aL974vz7KPzaKKkk3s9g/3GVcWCPkgr94oXafD3O0P+gfNYxC6sG/9B6TREjEs7/jqlQZH39wv2qGTvcGy9C/iPevMXA70j82T5fA9XvSv5FGeeKs6uU/J1mgnSQk3z+AYjbKsJjWP2AcO84SF+S/kl/ZfzpXsr/wfdejTtlyv25MLJtNpLE/XSVu15KW4T942P+BYRHNP6QAHmXEBsA/No9bpbDtiL/q+Ci1o9W8PyNkRO4Hr9M/iKEGXcGnhT/2Wtvx3HnuvwrOp/2iXuI/Kp5Slcyy4j8Abq90VY6wP7Qly1wkrXg//vVH5lZQ3D8nqoUSNqjqP0IjauC1ZeS/33ESDMDK8L+SOQSSwL/fP5osFaZ6rrQ/tLj7ugsW5D/jckReCrp1P2+cXrcU5+m/YVA+HZT/bb+UfwVDEj3TvzgVW5xSrmM/Z1mugJZ357+sPYnFcm7Tv+AYnjQdXV4/BK+ruX6Rzj8/PBQc/7nCP+thwzYxAM6/rMuA7cqr4z++g+CD7oPgP066GPKgAsS/Ktb6dsYF1z+FwiDfWf/VPypJgGZhTZc/gG9TfSEQwT92mufe2oHov1ATwQ17q+C/WJhHodvDvb8z2siHMDm2PwS/uKhp0Mo/TgUJCAce379O9TcWu2Tuv9xR0PH9taO/4oz1W7gWy79K8+nGkaHJv5oHoX1xo7Y/HY0JfzUXz7+K8arT5iZwv2uB4t2S4MG/0lRVN/d5xT86PSmRPXaiP4KdCncI39S/vIyidu+h1j/oCQJTTQbRP2xoocwOHbk/qlMlzhejwL+gcpj7oBSyP9wSieOoEbW/ZI8fkJYVpD9srcXgIGbdv4G9IN2TodU/xSVIIhbbxL9Sl1ahxo7TP/e3mnEUq9Y/+4evjaQKoT+GqweYUvTPP6AW75sKxJC/+FABEjfE2j8eTASymQa9PxezH66U5dg/fVBP8MpAyL/Y900By43APyjTOWIun+W/fyiSVKFikL8YwDzPCifQvzYQL8bNvoQ/q1ArEef0yL8BNypwcizUv6S1+p3Rj9S/tv2rbTjiu7+qiKcVtU7Zv1g/5Vy+nLO/pAfwJp6Gqj/uYbQjjcHKP9sUlGMIxq2/den8BuCsWz/4/oKQTJHmPxcHqL94A+E/LWbe5hLy2D98JiS6Qge/P1aPXU8VeNY/bAI1wx5Hq788VQ3VTpa/vxyU/a1O/O+/DhaiE/VVvj8qCctnd86wP+r3uaN5p7Y/9deEcNu95D8QbcO0cknNP0DPf3CdS0M/Kk+l3KcV0T/8ZPi5KTK3vzjSMVw/lrq/qWZA9h+Ut798G+GqFC+8v2NiRswVr5U/3E711q+V4z+DiRD8xtmKv5RzphRLxNs/QgT9RlFx6D/CaPCOGRl3P8J3NukZndE/Ns6OBM9z4L8ShSGc6qLRP+/AaVwK9s2/UVUwBBSd5D+XXtq6YXLLv5GpwjwVf94/k0H+Rmzv0r8iYjoRrrzSv/jCG4Jpa6I/1NHSZL1nrT/vAxreaGjJvxogJlU3f+0/QL9qFQ+mvb9qwfSgm1+0vxJGJRxfALk/FJUuN0jT5D+gYTFXWdfBP5BUxl89yqw/hseQTjSimb+QSMgy8MXUv/1WP6wtf8e/AojrP6Rpy7/eZL9/QvfqP7srem7MDsY/LWFNhOjw47/GWnLJJtTfPwDhkCxR3IM/cnuchw4b0D96EKykXh2Rv9Jv+inTn7+/WN7/7bfl2j+IgU5TYgabv0B00toc2lW/4htpUcRs3r8e4IoDwB24P1qtYV7uCcE/W7p0Is3mnD/cN5dhQkKaP8xYdYjii7+/q0muGM9emT/cXXy3vRLFvwRYJ0Wpa9C/A4x0Cwnhyr85znRLb1a5PzXzXJSVFs+/dh7n3Bkumr+KK8KQA0rOv+ieiGCL5sK/mIeXTPT74r+Cm5mDnT3rP3ZvSqBEq7K/+GJU2jm80L820xbjiDvZv1wIt0zt1b4/+2VtNByjtr/wN6KetWrFv4T3kaOZxoC/tG08hqWqwL9NYzuEklzVv1K2GcCrA7O/jVJFnwFM4L+SR6OYUnmmv6IqTPpxocK/zNbCJklN6r8L3yLlIoK2P7FgtyHUedY/qv5QMnDmrL8PAjPvKBHVvyEs7GUg2uy/+RDYTXCjxz+/2KcKfRXBv7Db9L4a/8I/7Kaunz4pmT/V/+wwyyK0v4Zn95YYkeW/PgZVBRPT5T9AMjZqxSdTPzNiWpqxCtQ/FsrPfRT65784Tom5Pd+4v1a90x6ZibI/X9r6yIAVx7/nEj8EdiCZP+C6eeOe0IY/Oi8ZrXSM6D/8TMBTCJakP4BSRi6J+5Q/Wp+tE9W8v79A/25lBoOqP4C/Xd1pQlI/DCbF7/kysL+qoLA0J4vkv23u5px0qNq/iKMqdWtew7/bfSfPjdrVv4Ox2iGNf8I/YO+bpWKekL+Q7im2dDHOP1ybK4PYB80/jnkuklI5y7/5W6jYW0bIP5IbtlkjY+U/Y4qu4ExKs7/exbS2gxi9PzhrGe20g7e/NbAaXjSMyr8idcgBjJ6qP0QtfRtShLm/ePc55dYFwz+/zL4TCRi+vzKyX0eRrrM/UqaPLP+J4D9w2NvIF67RP4wCmSd5LOQ/eZIGbBMo1D8AM9bduMdTv9OJwY175ti/DpQheOsI7D+99V3IpkvBPwfYARoNSNY/qMHet8NFxD90FKfM8J3Mvzya33lB0u0/+p/dTQtLv792UTSX2vPevy4EjWZ4HOa/UDoxLKl52j+6WTbQsTXlP7ie79b0OMy/5h3ufIyiyz8f+c87z0q2v6IoOkH/ccw/SJbI4OBC0D8gcCFvTG6bP9B/IuiJi7A/XiqEofUn6T/I0X+QlSbcP3gJVrbq6rO/PggUdaQnyb+GMFDWxvvYP8B79hY+VIG/mqZu7h2y4L/cgyv4DN3jP0A4I65ISGo/SUKie0WD0D9nTsKaNtLCP06NCupE7OA/dpvs+ncb1L9IdYJ2GlO9Pyf0LtTjqdS/Rv/nzlyM3L/gzx8MsCa0v/ItyXqfoby/HuN58xIj1j9KNfS9pHmxPwY22xD4OqE/rLPsWHhLp79z7uifLSTRv1A9da6P5cO/ACJiCFcFvj9qUwMHzWPXv5R91RA9MtY/NAElIEJI5j9gBwjap8KkP7Qr9YaUTYE/ABepUCSOVL80nJbjQVvVv9V1tFMsWbI/5TLslRapmj+e4aAaMkLbP3hcNEclguS/Os8c18lH0z+AKCY+GDyFvxZvfijnr7A/QE8/cJiRUj9cXkiWQt++v8f8BXv7VcO/6PTsD6LJxz/4dslbUCrPP5sbje+ywZq/PAvIFzxlyj8whBhcA5qtP/IOeCba3ca/GWA3cSUwuj+sEn8cOOHuP56HjBYzYrC/qEp8iPPdNL/siV/kZEvWPxIsRJD2usI/Qt3/jDzn7j8qXow6pvW/v9GyHybtUtA/kGP/Yx0G6D/MnvWjFLC1v0Dce6ryWZy/Cp8wNVfezT+ntn4K0/yyv5IzJm4olNG/riljWfnPuT/VCtOZbPqrP4g4NOkoNOK/8Dha83PQbb+AI6J1PPorP/q8yle90+y/rHFEWsxt1T8x1ysRDxLiP+KBw1v/Vto/Gf6N1CI11j+Fb1Reh/XAPzZVq5ndPbw/iqUU5PkvoD+dsAbzg9PQPxiqP7PgoNu/uKaNHyTI8T9QlMBwOm/lP5+SQNlVd7Q/3lF0/vfVkL/ixmbG8aK8P8AIC5KZMYG/nPEjFDWGyb93CNvFofnGP61thfVhFuE/J3WEgDHV0D/WPKQ+IJXeP2/gQdOfBeG/YG9Rijalnz/kuBzA+vm1v/LyY7f9pdS/E6PCs/2pyz800CGpICi/Pwz1armbzLe/V/dlRKhg0L+Q3xP1HdVXv5JJrxjOyeS/TDy0EYunnD8OcHjzpUu2P7CFzX/vh+u/AAv9S5GzTL/4rMIa7B+kP3CbEMKWjNO/WD7QatR93z+J6Vc8UFDEPxxxJS098bY/4FHTwtJB6r/x8IfFHxLRPwqBUzWNWrA/Kj+KmT0OwT/UXbD2kHmvP7xhnXhQQMk/bJF3mPUp1b8SYFvtRtDGP3JDd2P1w++/xNSDjSx8pr+LWlXph3PQv4c7yqHim8Y/jET5NRzplD8E/TbOFdi4v/SAReRZusA/XqZFd08Kwb9VgUkAWJ6RPwTZVwDIt7E/jZ+wCXO61z8FCDSVCTzEPwTe4/kVvHC/5J98WfyfgD+MVU4OX07VPyT/IYntS8u/TA1Qr6qm5j8oEmIPQiSxvzLMvQn7wNI/SuzFR34e5D9okxrdM9jtv3gmJ2JsY7W/SqK4fGOWu78Yu0mKbJXQv6TG2Mg70KW/Q7P/4cy4xL8rkPsYcUTOP0woMzmp/2s/Jy6ooEPj2b/H4NmV0ayyv4b3Nk3Oft+/EpmHoZvHwL+WRJStHV61v9zW2DxtHro/nIIbp5GA1j8ESzMC1sncvzAIx4eXL7s/NCT1PynLqr8WCB0/xSHXP7Dl49T71mW/SKUmeSGc5T+ax4Ixk+rWv4AhYOTer1W/IYy2vl0N4z8nffwAT462v5ga21pl5s0/YOci76H6wL8q32KF4UegP0JDLncDptG/8ZVe52to1T8A8/ukNQGKP6AIFbTVLYa/HoSemNS4yb/waxon/0Jtv6hGQbq9Hlc/L+4vtESXID80Nw2nMebAv+Yz+vJuVsC/C03R+rdY7T8IC2mbAm2sP+bmFcs7jls/ZzpVByt41b/cFW4qyk7UPzMhtQ9oMI6/Ue4LTAx+xL+6vlzG+UDGv75/ZhD3/sa//Lz4Kg6a2j++ELbLTM3CP5QOwDy8p8W/oFkEbk1vub8IySjaw4Oyv6MgefTrwtG/+B8yE4vAqr8FA1ZjZ8zBv7XpTXSZNdK/uzexcUtKxD/olsbXhv+nP+5Qr98uwtS/OvfRlYWD0T+LcaBe6CzIP1kjqf9qE5S/eK0eT4PUzL+RMc/N6vvmP3bFL0IK+dA/MtvmZyGHxT+y6tMRRHXWv/TA0/pKnOI/cvni/WhRjj+tB3GzKyq3P0uzreUyH7I/+FBuTGjz3T+pipDdZ0HSPxA0QIShRLA/bpHYo6HAxr8oz3IrFqDtP0gISqjyZsw/XshkSrMQgb8w8jItlKnNv43Psy8cxtq/kjHKq5Gnzr+TNX7Txm3bv2K3qvTIT84/BEevObNygD/mRcpxOo68v6QkFd2OIaO/joHCWM6hwj/F1jIKDy/Xv9CnqQlH09k/QtPeKk6KqD98Ud6QPbnmP7NBu09hh8u/gMyTY+I0vT9WmhCJ/uvIv+QGIJ2qsuq/WyIP4o2V1D8w2vqOehmsPx8Z6zAoldm/Gxy4C7qFtz8Mp8uFc9Ksv4C5jNJlC9G/LVaPBEnfmT+kbK9IyEGnv3aIKR9IDNM/iQ/IeM4hwj/U29gWmrOSv5CBNG967K0/CLcY0Ed4pj8gqcKAp0dgPxPfVqgMop4/14u1HFKkzD+yazx+WnLSvzlBuEZCzNK/1Bh/V//F4r+MFRuhQrrZP+w+hFNAx8c/OjcVb8W2pj+WnFK/yFrrP76nFg8NXJE/8XHpAs4wrz+oxWeqi/rRv7NHmxCwbbA/EHRUViqpm7+Z973hc0PAvzWMn5BpD6w/wF1hzD0Ex7/+NIQiWszEP95o/tGyPdy/WgSXJT1IwD+AJaaFRZKfv8RggTNY9Nw/GutgW9wnhD8WpBvm2LbZP/Kqdov1j8+/aYI6Z0kH0D+a6boBN0DRP2Qdd64yt4y/nNgIf1Wwqb//idWp6+bZP+MHL9ptFru/8GKpp/FTxD/1qMaUqdmdvz/5Es9ag8I/5LgxOUPm6D9D4hDVlDLRP2BWfrdg1Yo/4PdwT2TGuT/tum9foEbHv0XXMe+yDdY/iC4RJH+22j88ZiGd6BHjv4Tmtv6voO2/DbtQsjCXxr/45mECVy/gP3ReCPN5J62/YMsSE63/tr8O45LcPRjkv7nFvCmGZ+W/aFhHpY+gyD+iyEJELT2Av+io5RcwcKi/rlvnehmJpL9azl0muyzJv2AdA6Q4NYu/wES4sAALjj/XXO19J/DoP3R17LaQo6i/xA5Hcn4CdD/GbGp070zHv0iEBJ/mRcC/y66h9tHsyj9cgQQWrTu3vzjYGwGkX+W/hOz2LgeA4L/RP+rCGXvIP7gbfxaqgp8/asgBluB84r9z6Kx7iPfNv1oUQpPlgds/hDv4EB7rcj9UEKXUxCTSP9rUC9Z5IOM/LrsI6cnC7j+o0WcMnXK5v5xlQ+fehrS/xBE6u/AMPD8yBtTVd5nhP3rFfHB0EOG/8IIN1nhip79s2PRfKwDPv1QN/7zNi9c/gfLvcNcfpz/m6aBlfeSkP2oy4jlw2zo/gBsT/EHGdb+Ip7KcBFPAP8ZXnP5tKdo/eCZD5Xj/oz/SBCX22L3kv+uMpG/JC8Q/XFAuh2vB5L8KIY0gRRfHPyaaLjydcNm/eHjFpEzJoT+3i0IdRxW2P+DL+P9kpOm/X9CrYEnCcr/WcailAgrhv/x/e1iehna/l6RrY24wwb+5Cajj2lW2P14o7+SqS7a/tDuD9rNd6r/osWn6RoTfv1qRLhrua9e/1rVF7nVg4794dPZhBdrkv0rEH3qn+e+/JJ1Khz3H0z+SR3go/m3fP758e4Z+Mdq/kLn/dJkLwb+2N7JAE5ywv4RB3e1zkNS/AGjRTYsOJT+WiL6ciOvVvxy7tZqc59i/MbEURnr9w7+eA7jeRz3jPzgbJ/lPYNG/N5JPTRyGyz8YWi6E1EPnv/JTnfeKuem/D4jPMtCTtb9IrSgGShbAP5Etnkpr4bG/NgoyswCwtr+8KjVZ3vRzv3COlcXiPJE/YFTd7D6A5b8BHSmGqhiJPwkiQkmj6qc/Juhc0Ewg3T9oOcdsxkqlP8mwXA7kyo0/tBrss7Ewwb+7JYPPx63uPw9I7KQ1O9Q/+Ax6dAebpj8UKjl8vsm2v14xJXCOobe/tv3WNwWo5D9ejDuh/LHCP+DhhJknlcC/yMkxWEJjwb+MK+iKzrhov6Ef9OX+uOK/9Z3bCiY71D8gNH8RZD2dv9erh/jGfNC/yOMq+VPvpb/g08R9KPzoP0gUMGl0KlK/cnffY4vlvT+I6gX3ovG+P9yrLyDNRZ8/g114dcdRlL94ykJAZwdXv9CLimJHack/mDgSAhfvlr+6AasLHHTVPzQ5s4q0qI4/FFdxwKny1z9EMbcseBzlvxuk2qbtWte/2KnAYDx6n79Yrc9CRXfAP4DTrG7ki7Q/0iTuz8ich78azqHAFGW7P/POvZi6heI/CDliRM9I179spSDlxvPDv6I0vGFHZdk/PqkOOpnksr+0YG41S+WQP9xJ1fxqm76/hrummDLw5T+jTb4cvh+zv65kLEFROtg/mLcDSVMS3L+JcI67RkLPvzKrpD7pb8I/dN2Oj5cBrz/gpbV3fwWoP0WeESuIKcm/vLCED9CN3z+MdymL84iDv2pZJqAHztq/D6QLdu/dzb+cUzm0F2WmP16KZpxXKaK/ekiIolFX07+KRiH5MpDlv3wB1eWjHea/GlMGwWHFsj+8X9Wi562wv7iJXqpC4eU/LmfwjuGXnb+2jj5JNYu9P79gM3Xr1M8/Hgml1MEJ7T+SEzlF6by1P8wAnCH1Eqy/y6hLXdsO2b+8STa4TXufPzTvkojOHpy/lvzT55Ik2L+LAWvsaBu0P24VT3UeAom/2mXS1/kkwL8Mx/D8Yu7HPwzYD3V/G6y/+ymG3Dqj0L/WZB1yNDDRP7LxQs/R3b+/97xcz98l5T96zKehDZHnvz1bldntkL0/eoWEvh8iY7+fIAz3CCPwv98PCvneSoi/nXbdrqylzD/IX4MSPsSwPxAdlCaSHXW/NEkuwSfoSL/qnFgFKM7Rv/W8c+0ciNW/mOoDHDGEwz8s/EpSRuLIPzVHoqwBhsu/hPYfaNEd0T8QFmPFdMvAP/SGw+BzjrE/h2hWJS3UiL+E+zLZDtbNP3tFDmuHJbc/c6pbuLxqzD8nz/VY5nDSP5nYwTC62ri/RMcDNo1/vr+2jbq0JrrDP2XNRTqcwLe/Li31fHXLaL8T4JI9Tcaxvyp5wSTSgdK/v4goU+gqqT9MrHj3vVWzPy6d48e2r9a/TGIkzHx0rD+EYWX9rQbpP690PIyaDdS/XQ7gWj/w4L9yPZlk/z3Ev2Y42UySfcc/wAcYVkOOnz9bgNAEesvgv4Tn+vmofs4/msZ9+gZWzT8W77ohbNXkv0ZNAjaQKOC/k6C/LJr137+jM9TplknWP5wLv2L/gdO/NPe0zbq+vT90etxfMWrYP4k7MgR3MNE/xSbQmM5s6L+/1aDbxi7kv+SRl4cPl7S/gLcW6+ANSL/C00fptvvcvxiPXqIporK/tGjgKDZv1r/VSRy/g3q1v5RLxjSGX9e/bwWou00HxL++iSNzsdLYv6xkImJZcdy/CZum+nsm4L8jZdP1R5frv7GRKoJE7NY/AraA0GDCgj8gmSywZ2vRv0DOfr2sl7y/TkHRXDfGzT/hPiG7wD+rP29jSgwlEpC/B3+3DuETyb8+FJE1ycV8v4sNmCyGJO+/z3MNCwHGyz8LNgeWG2vOP5g1xzMn0cW/bXohe3KNxT/Ys0PTsdjQP1gtlKyxj50/k/Yav+mD0T8bWuVvS4K6vxdOrETJ9tW/spyuH4S14b9Z88VtBFfXP9LdLh8fbd6/vALYEZ/PyL94L+FZSsuuP7zvDX7Ujci/SXYc4hX8xb+y0QSBHHbYvwpiF+dvi76/n2gPlcssjz8KPLtazzTPP6PJzYxrLeo/Ne3ptSdopj8DQlIaVG+xPxzU3b7fCqa/0jnbmjon5L+rSCdnlwq9vy1j8fHzCNW/4gw/Tnylzr/R8WMpAdTDv4GnL5QvRrk/vloDKxVb4r9Zp8a1KzjDv36bFdpI87k/IoywPayU5b/H3Ly7n/eMvwQ4JNeuN8w/FGWehzda3T+VM0wAbp/RPxh7y6clvcu/AgWo/CMFwb+gpAAzG9vDvxwUo32AmtE/6PQ0UmyirT/ERJKyPSHkP+3EhRQSt8s/wKIZoUqurL+BmBabk03Vv7xa53ntidu/1SUExcmD0z9DHzbn8/mYv9TWY2C2ObK/xR+VMm7F3T/ssunnWO+TP8sJqK3ujtW/JkaFPAFdhL/Z78Us8ibLP/g8OH8Uic8/MKgSrxzLwb9yny8oQkPtv3EfZ7U20s6/rqdOWIEa8L9SYALx5Sp/v7909uWpEcy/8EB9JiCsfL8AW5L60/9rv928EEQCdbW/qSrAFYro0D8wjaX65wJ/v9SPkvwzJpu/Y5elW7CsyT+wvOoVNzCaP7jXq54zEqC/BCuNKZg8tz+riLzogOfOP75Er3n828+/pGqJy6O9zb/uv91mY6ruP0aBuBFgG/A/DKyifsZu27+ERWmf/1TpPyQBJwvbWok/V3Ly+cqZ0b+qOXS83ZffPynqLMc82L0/bEROI8xLwT+2g9HvL7DYP1Bz1ub3itq/iCdMa6WwyL/LyrLbeBqiP3aUQhyuVrw/qkaKjCUaoL8AnSGdSzDGv4SFxrArR7Y/HBGtujPiwL+VXdOHcUrWP+x3+Vn/86o//+iU17uQ2b8WaeJTPjnHv3iwUNBvkZ8/KaY+ZqkgyT94iu36QV3JP4Y1BpojK9w/4pYNUhUYxj9ew5s9F4nHP/IqE2LeRNC/OpWG2Z9w1r++xhNIzkScP2j/JIrUiKm/llGSQwfAqr+Y6YBFWTdzv2Y310H9jp2/6TGY4o92w7+2BUImKQ3Uv2xROuo/AL6/uj0FnEgko79tETzoegnjP+kaHfhw0rG/Kejweamxyz+s7VXDDqzEPw0/Ewk31IS/GFlGr1XJlj+wFthaDt/cP1rR+agpW8i/CXXt8M0X3b/2EPrJZrfCv+k8DJKN98y/dj9jabgc1L+nnlKAEZrCP4gGpTpkppe/AGt8tUEZxj+CmvV6wZLkPwhsyAkAD6M/wLoJIDUBwD9NCwLfDeO9vwEzkFVuIvE/8N1DtQsk2L+i9MciWkXHvx1XnBFp9bk/vPh+nZG7zz92gBSmOTfAPyq+GIohUda/rG0uXIrH1z+k4k9uw0DZv17HNGer17A/lF+53OEYy7/4Ar5MocaxP9rqkcdb6tS/bazLYNba278MEWp4s1fCP9ryiws7FcE/uPbrKycGwD+xku5MxwnEv78PptAf0Me/rIR0CNX22r9yq/SmvwzhP6J3VKQeVK+/E24pyqkE4r8yQOTD0CjUP174Ub3bFbC/eEDWvck2oz8mltuepRrLvyKuIVOtfts/gfN5TtzkxT82vC4EY+fUP8ydTdsVsrW/gmr0EiRvgr98r0352bzVv6Z2IWei1LM/iWYfAwPlzD+h2BdxukfZv6BTysFCXaG/XN+wNbBcpj8c1guotZndvzyQe6R9Xrm/AOna4Sghtb/mGmY2I8q2v1hs23YhrLY/NjgXvslY1L9OX+4aD9i0PyMO1fOg6Ng/BFuGTN+67T8s01H1cdLwP0AyZPqapoY/Tw0RriXT1T8atLQBsU2mP+y2FIdl2MI/fvbFMbcVxz/GMQLMaOPZP0Ad0xg6fGq/vvwjfkDAwj/CnNSMcjqmv+1TSr2Rd9g/sk2Rpm41xL9OcjTiVL6Tvz4ONctZpum/3MF0vQUakL/oG7XSr+HMv8i4VoSkzLg/3g3IHV5u0T/eQQ5OKevIv+D6dOHX7M0/BLPq2/YtlL9NCiwP/KTMv5DWIWPotqC/xDE/7voPtD8IXRvLwcOiP88K82Tcha6/cgQBJCAjxD8Y5AlxVmXwv1QFMuMIGbo/6ENqncm/uz+/Ic5PcPfNv9FkahqDq9S/BLynmarT0D8x+meqyVvdP5vI17rADtw/6diw5bAHmD+47pWD9PBnv9QixWD61Mi/UJKTkc5dwT8CCb8qWiG2PzzqQzJ6ZJC/h1iO02Bg2D+a4G9A7+6+v+gfyklVMtO/EK1sKzftkr9JHNyV/XjRv2rYi0Jm9ey/Ff/lWwIm0j9BVcQGcTnRP/HlgkAuw+A/CPC1PZVCVz+22BmrH9G3v99p5T9QtMI/8AoZ1gvzWD8udw0kECfLP7ilvQKUMcY//3rXqLxp078MASBmR1V8P1MEXBOips4/2DPZewuiz7/dZI/djILWPzt4dAzgzM4/gAHzNHMk5L+QvbkbFY+yPyoyRiih38S/YOgQ0YoZwT/Hi92d6KPJP2qGJ1uTLty/Kip/BWC8zb+yuUI0a2zBv8JOiEq4S90/pOTiUe30ub+8FNOfRlmIP3NAnp/6JuA/RPtUdEIsw79oZ/S8O4W3vzSfTk/pq8Q/Gjy0xi2yzr/YmtQdTxLQP6q123AKoIk/3mLNPg/KxD+AfXC4JXjUP2IU80WO95C/xSqIpR3Mnr/WbBcZika1vyI//4fu86C/34Xmz95HgD9wRNyHPHq4P+s+VsUEdcC/hKb65BXmxr/usLV1+QnhP3W/ir02rsE/8VpK/0a/17++G1o+GHTuPyAQ0OdcD9M/Jqa+FPvMyL/iiZgGdAzRP1wQUrsvyMG/KAmwYupYzT+GjCJZZvrbv1XWXmkoQ9C/mOfWM4caq79EGudsnHaxP0xvCRSWtO0/AP7AoJo94b9Owmqu426Zv8QK8UmUfq0//O3oCc14sz9o/vANH1HPv/FKG/fKncU/H0Wfmaeu4b8erHpAtFzGP0z/1pyyPsO/b9UowUAwyz9roONlWmngP8n8wknpq9o/Q4E5RJrY4T/kJ+0zb0Gkv4ajqmARcMu/XrpspodRtD9eV9MUADvTv8EMFm3Xx9i/emkKWUTCwj+e6xZlUUe6v5qft4xpu6C/ekmCjsM4vD9o/zax0CDJv4qa/kfuUs0/ZFCFgLFk3b894gG0gO3SP1akJNkFC9Q/VGp5oe18pD/IGauFg9uGv3wY1aGTwcw/Ylg1HGQDiz/SsjoBvlbBv2P75hEUbNy/37CXDwK0yL/gRjTyBVikP2sWJkG0Ymk/QOhwE4EBvb9mofS3mm+3P+Q/0dymE+o/sDlNRtKQ4L/AAO3a3fbQP4y9PHdcisQ/wuL0wJopzT+xC5TXt5zGP03Do5yC39M/eq95/E8lsT/DnynkIOOVvzxTS4sDpuM/o3ex6ErPyL8zXCiIVbjeP2RWG697JPI/hoKt3gP2oz91ASuZWbfDPym4gVvajdY/ZNeTUfMdyr8YDXtI16m7P/aGb/a+tYi/xB/38J5t17+3AR4VexnOv5bmcfQWdsM/bsoZS2I+or+/bvrRk4DJvwTPSnscM1E/vpNpl74fzz9xIRoK6g/ZP0R2JPMDoaG/NKdq4yZLyr/m6TKWujnov7M8ybMiLOK/9LPz62BVxL+06pZ8tcXJvwX9gYcPMNa/WBlXKxHS0j9+ChGLY1fSP/u8IzHN4eS/MSgHTopXzD+SshluDmNBP97c+lAtgOg/QnxR3p4Z5T9c6EGwRGfQv3aUt7yW89+/MBkSTazBlT/eD6zQAoPlP+qIcj1oYMA/ytPq9GGTt78TgvQC8ijQP/Jd1vnUKsa/noWQH2zpsD91HmEbSZesP/BtrVhA27a/gOprETRv2D99WG6h8SKxP8YaNozzgd4/0JsZ3oHqoD/NTok5rrKwPwUZokzjDbW/yL/6OEUAyb9kd00S6Tngv/8FImMaGcC/Vovm3LKH3T/h6QWkdU3qP4hF4iKNgZ8/5gbuACIcwD/yih6X7IyTP1g8LtfmBAy/EE71yHZ7Xz+qUKEEJn7hv1F9i54vhdW/uHKlgnUOrT+C09O+00DVP7oJ87drmbK/FHFOBUJpwD/T8f8+tHXpPxLha8rRCd2/LGgUoPtsqj8DbZ8hT2DTP0qtfHzcY+8/oQpFgcfuyL9yvXUoPzqtvzbmWt0qedC/HnCN28hw5D8=",
          "dtype": "f8"
         },
         "z": {
          "bdata": "oY6bsOmP8D9aFeOc8CPhPwCMp/YBqJ8/dnm3HJCz1j9uN3nJLQ7rP+BVv9zfVcQ/aU5jnkegqT/lJeutATTfP1QrttApjLU/Shx0qL2o9j8+BKsc4FjkPxmh+3R6oME/UgL00yUA0T/XSZ5QCc7VP30al/3Lkcs/mNBK021i5T9dd4H0xD/mP+YuP/jFLOU/1PjDAfhP3z/b7Ku9puPSP8mOqiUNz9E/JjyimsGizz8IVDmC5QXxP17qzftdAd2/rJwMF0HZ0z+kpnq31YLUPxiP7+pXcvU/1ufg2lsHzD82MBxyJB3QPwg1C7eto9M/+EtCe1rgvz9+ubyJNCHbPy0+cKBO4+s/wjpUIksJuz/kpV1mZXKpv/voaGx4LPU/K38nPqQe8j/qdAqCeUrjP1DdVxPP/5u/2vYw0QQo2b8CGi8Pvoblv2DN6dS8p60/mCzRIpmhxj8n3vQdzizzP3iYrNhxnNk/BMVLuYhN1z9G4oZ+rQm2P5AyMgSeSOs/JhCtCcsQ4T+c/sORHynZP/Jevv+HiuA/CJNO5lVBzb8VrCUa9Lr1PybFRHMZ4vQ/vnsr6qYYxD8If5Wier3kP0AarTiKmcM/tDNTtw+Oz7/w02aXJwrwP8CIyeu36d4/0N6Ng/lP7z/qsK2R3lHRP8wNMEKffdS/fHFudqvT6j94cwDlcICyv94kIIope86/0stqTSAVxD+tZ/vfwYTVP7NtyxIWpMW/cNdh5etvsz8Q5tqJ7y/oPxe9ecFQTOM/YNBBzFzMvz9v8rUqRmTmP9qXlw5GSu4/f/zy5WK+zr/wcScFIiaov4I2drzXc+k/sGxIevN25j87U76yNADLPx4bPY5UUuO/MN4x1NiT479oU18jbJL1P0s4Uni6rOY/AGvYLveoqj8kLjFFsVLvP6BkV1cy+70/DnTclYf2yr9oQtAJ0QSwP9QZpitw3d8/Lh7+tt4k3r/TMuvgsYPnP+Dh/5lU1eI/7CkREq+X4z9oPhcBTyfxP8DidqAvRqk/yMTSYkKwyz8iKw67RHHpPyemBgGefMK//AokEGnmqT/6r/mrDVnWP1iDmyIYFcM/OIE4d6nB5j9adZNHUXPfv0LOCnEtWtY/niWCVTUl4j8QxmMa4HmYP7bTDXv9r9Q/QH8Zbtv1fz9mCHuSH2DCv0PFfr8vm9W/2MzHFkVjsD8Ms72wFaPxP7dNebKKwLs/ksItGg8AzT8YysnuZz7MvxHkFOJgW+4/pEGiSPIYzj9palovX8zEP9ZqvRI5Jtw/HsQ1xbg85r9AaXwfOz3mP2OxslStMdG/IGAq0irA8T+ZjZ2r873hP57xbtNKZdM/Ss7Ny8V41D9xxJ2Pa3vnv05QFZ7BjsQ/YvUhQMwa0j/PvWRHpi3nP6XukJKjQ/E/lADw4vCMuT/iOYeP2mzTP03oUCanY+o/lXsWTzPD3j9eUa7G34XuP4wFUrhX/bC/S16vkquJzr/6XP564m3xP2X5/Xhsh+g/PMEygzAk2z/8xYfUX9PmP7lSQX7QTs8/WDsEkHFC1b/UP4a/age5vygbyTJ3NOI/bORV6Twdxj+wW0u6KiCvv24CDUpmpeU/mVovfSRa4j9CUWFXe4jtP7qCuvZYgtY/UcxcaWlO2z8kzfxNFHzPP88pqEXUL/I/5vckM6lC6z/4rUW8e4TiP8ATw2eJseo/wj/9BFJO4j9uHxlmIC3hP9rMrxtyr9w/2BFNaTpf7D9wd0jjanSSP5SlTAvPQd8/brYBG6X6zT/lpqomLgfWP2hq1GOJC/A/bCTKLdMj0z8sDm4xH7bnPzk5Kv7uZus/cBNYS4Y9yD/ZbMYjvHnkP+bE6V5mCNo/ohbu4M7Q7z8BH8qbKjvLP7liQGVQGtI/WGaZ2GL6i7/uahJxXmXkP0h2MZGEwdC/kZQQWzp11T/IFHPjkiPSv8SdbPCCdOY/rhV4BYlKyz+IZY1oCirlv/iGxzej+eA/0eaj2IGZ4r9qMmu549TDP7MzzosrPPE/oCY4EL7+4D9mswAOvrj0P6JzlsgaOtE/Ex0ev2cYyL+BDKrSjBPjP7Ituey3fLA/aONyMMuU7z/WTcgISXu2v9w4zEOQd9W/RyQMOMRx2z9Xtdin+6nKP/akhXZmevc/65Tuem8IwD9mp6HON6XRPz9VYQhV/e4/Ur1icuY2wT+WGyzHQ+/Uv0BiwCUx7dy/MJY3DU+s8j8G8R9N+mD1P4WjjYy7MuU/4ERzoQNzjj9IfJOY1ZfjP0iJPJxsL+c/8gEo30550z+rWtkCPcnjP3g3qSJ6keg/2+0ddeO/2T9NNAmqfNjTv1etuCQg4M4/Uxht2DhMyz+oruAp3u2iP941j9JodPQ/lk4W9KnN4D8JVkm+URnsP/uRj2PdDtc/VP7tvIue07/2y9Hbj0/lP/J4JKovX/I/EkX/OKVy7j81uGybTtPVP950qmz7zuA/XcCI8vbC0b+qexnUK5ruPza/Z0XhbOQ/oInq+76Twb/ovSfvVbaevxAxo9kb5cw/AGD7jFli4L/W+Dv4r1zhv7AB+PCiRHo/JqIPac1C7D/mpKhilVHqPzYgLxDLldU/yu2pD/Wj1z8ai6+CFr/uPxpnxTh1D8U/QuKh4a7xzL8xcPr4iKrlPznGq/2hYNo/CqMjoHRm2j+2hN4Ez1DaP8SHJ/9pXL8/ImeSN//b2z/4ceSsfoHhPxz+YuKvGcM/hig2q9Jr6D/saRUwQATfP8hjekopNtw/oJ+ls0wHqT9XFM2kaW3kPzS7IM6odOS/OCb0saMrxj800GEsRBvsP8AzMrvmFOc/fvg0DM4a7D81WlJ6ZcXxPxUYWHajJtE/6vzEah794z/abGFD8vziP3A+z/XvDKm/dxo+xgqU7D/CRdjahfrlP9xMA+HrirU/IoICeR9l4j8pN8yC6IHzPxCXIXPx788/bPJTip9z9D+qhj9pb+PyP3htZPPrvde/LEVM9eUsyj9l5otrxoLXP4usDRONM+Y/wLopKVSb7D9RNyHnHwnvP94JmOLfo9M/OsuuK8Nz3D/U3Z8pR3DqP6bUv1NFtt8/gHSumVOxy7+o/OeenmDBP+qLXV4Gi+8/Zp9nDgw25j9y0W2XCRDoP0vBkseXVfM/LpC1eBeP8j/GEaFptXniP9i1vv9Wz8M/QE457xgO5z8SJMiapQ3YP2F2uZ/Y4tg/TvpBHzNh5D/88bVxETvWvy6KVWJddLO/GR4YcIGb2b9waYVfA97hvyyOuKWUcus/VLGETosM2D8Il7CGr8/DP5ljN0RNBe8/sHimy0nXoj8AIysxAuvXP/pj29xpRcA/TIWWd12J1L/zujFzkkL3P9xBQaGsnus/P1+T5ADR2L+4yvTULJLWPzYn2AMcdt8/URu+LwEH0T+Us0gx8BzLv6CoLTQk6I4/F9mIdp+Q3z93e/uV/7XRP7jy70F1lde/h1GVK8/F8j/h4D4PxpfJP0zKt88iZuI/sCptAWANvL+il3W4RDfiv9w7FN2LDrY/qk+5tjHx8D8BbYbqDJryP0hEAfZhm7+/MmPH+8bexz+IZny0GMCnP0BgrgW9U9I/+SAsCrWf9D/sIJA+vi7oP6D9YDT79sa/KO8knEOu9T+ngL9U44fzP7xcMyWE5+M/ebjPR0ZZ5T9sNGaemATiP5P5de+IWec/tMkSX1f8sj8o4okutHTtP5vVc4YoNt8/wizu4Erx0j9Cu5FBm4PtPyLytTYN88s/uP5x9cZ12D+pYuVKeNDSP2KGHyGwCuY/c1tfEOrJ6j+oV8MRfNq/P4DUFyXFgck/JlJ3QQcE479UNKRmwwS2PxytbScLGac/hniFxhuH9j9RLOL2V0XlPwtHGEjes+a/FBrkoyKv2D8dMsFMWk3FP5K9WCLto+U/N10g+Sre4z/Uz4K3lEK7v/H0fqLXLvQ/9JZn7R2kwT9AI3GgXljlPzi8J7b5NPM/NCbldmCo8D9rd5Q4+ET0P0Tr73/vF9w/HKUxRCdHwT8LSgf8hBLlP4ybrjlFV+I/CBH1PVHF3D8wKIfpZrORP7ztEck0Ibw/zsagrp9+4j8+DkBu0SLnPxRxtN8uTOk/jMOONME14z903pxEbr7qP7aGQOgJNdK/o1UBgg6R5T+Ulujfy6rNP0VWxJnsL+E/qLnO5aNB8j/u4WP0aY/nPxszD0fJ4uk/vovKbKe50D+ObV1Ttjzmv/P+TIllguc/yQFfVOww9z/QrHDwJx+bP0WbGvnsd/M/jBbkvsUf2T9SbeUuOwflP6i4r4xePuo/PspkG8rz0T9i5dGm/iD3PyY77kUPLd2/sa2UPn1B5D/Iw3IGAF7dP4AxVSVGEHE/3kARGN930z8CsHgFTr/iPwYY2gzIaNG/0BbzCZFJvr8D4KTWmAbhP0y6Ky3mAus/1OhFYNGz9z8IN2204ZSiP5upewm+pbe/Ir/C9OpsxL8oPB4y+tqRP0B41YuPXfM/usR07xww6D+YBn24ijfsPwdEj8rfrdI/MgMI9TLJ4T+sbwCK2/3CP7T4j5Bk1PU/gFw+h5p/7j9mFKF0T4DDP4N45jHiaOA/QRtiw1Pqxz+OldLYmn/bP3njPJ9W7OE/5JW1I50jyz/JIAZFInbrP9lyEaYf1+s/tjFeGPMsmr9A6HJPEROpPwYd4aA3hOk/yQ44fvwX3T/aFeMDbUjvP4anFelCOtg/JxPR2WZS4D+eyG5ejAnlPwpxYtQuk+o/P0AIJe4C6z9b1uPo+RHBvxwUkuW2puE/KjioJnyc7T/QrQADHQqtP2hjBEz3+eI/zIXchqpGpz/89lcXQGDbvzK/X4+ZJu8/RH3MhRuN2D86yXStUHTkvxhsSpNBwfA/fpEZfAaA2T8gkf6qSDW7Pxgv+5w2N+E/2tsGcJtZ1z/Ml9KMHJnsP48ibCu8SNY/uFZjqKNPw79S7RO19XDgPxGeZxl5P8k/075BVi0U5j8SUitI1ZXjP9qifzy9VNK/yZsrGnI84D9GxLlxerbwP1UzDLhRHuE/oL0pv9Lynz/2+/s/IkjHP4t33SgBPfM/gPRLv+S08z+IYgq4bqPbP8+CtgiW2Nc/KMw3sBqq7j8eY0pKyM3uPzsv/oM8XN0/WcZvBJY+5D9uaaTw9DD1P+hIPcBaJvQ/RL0M7j4soL9KY/sbvo20v0icy3UQZb4/aGE6BFOi5j/O15QD9OvLP0hL4NY18ao/hJefZUF+vT9YcldMOUS1v8w9oNmtV+w/AB13BDkvsj8pKqHZG4HUP9CwTgkVPuA/4EY7q+fd6L9z0lQseH/1Pwrm+GIwqtW/nPtWI5RP6z8QjIFCyQvgP3E/O2XobuY/9wqhO1D92r/C/T582R/SP55DQpvdIfQ/Kw3iPrESwz/GjK7B9Hu/P7ieeVikFOg/EHyTuR3V4j9XcmuKRaLWP56l7cMgPMQ/bmlSRudU2z+rtZ7zYGvZP+ZKLsDTQOg/ZfTyzRKc5z+ouvH24E7KP6nwp1D+2Ni/D/rNf6w93D/Qh674L9rSP+IF2/iT6c0/Q/rsnqEH6D/VTgp6PRDpP9oIoBk7vvA/Jgn2jEuy4z94bm2CuCjeP15dfzYTpdq/GOSDpn5x7j//ylDL80vjPxJXYjdWqNs/DG25uJS/u794OHmzrGvUPxwflhowHbA/YqVpoMS3z7/OJJ+y5ZjhP+K3DEj4Ec4/Ll4Zckwkyb/OUF1yqrbQvz42My2JFOW/4NhQU2POpz9yrrgOPTTiP9ikz/aTu+8/1HJ1oeqJxr8E+cWBttfKP67Lg1Q/hu0/Bj7XeMWi078Do4V9I4Piv9g0e7uXB9E/NMtIzsUM3D+obgtgWFy8v+V7mKfx/+s/6gkGcGzu379u1Yyv49PhP1DC5T2Y56K/8bmLd2Rt4z812TGwFULlP65r9GQ5hus/LvsMuszv1D9kicf76bTyPzc10yh8fuw/TRe0pAwM2T8mqfDAkAHXPytTaZS8rt8/+DRy8jwE6D/uMjDDcI7hP95viY2rfeo//sT09i1V9T+g8IgKeZx1v1XoSQ7X992/gzxqHI905D8i5249MUzmP5aKZOwjrd0/iHNKnzzZ6D+1m05O+eXJP9xvxAk2x/U/xImL5Ae51T80vYWtR8TLP9wmMBf1JNM/1uzfWSPX6j9Keouy6PDkP1jIIF6vUKQ/iqST1dOF9j9vhFsifJfkvzm5x3t+gtI/6+rI0duo3D8s5v3ZwuToP+ZFwq/h69w/eYejkSu7zT9svr8p4znlv8/bkjDfHOM/+CpzuHz8p7/kxZhmL4LZPw6IcG51zPU/0JvOq9/Yzb+A/egOTGfAP0TwfkAaaOM/5a8JsKxV078cTrTqBsPrP6hJXlwzh8c/OuyD31Bs0T9pHc1+fgftPwPMhj1rB/M/1gddRawgwj9cu4PCmh/jP8CiiFih/+I/Q003gubg4T9cbwcGpJrbP5frwVf1AfQ/nnaWJ+0ArD8RmtbAI/3ePwACAXpo77Q/N5bfpHiO8T+I0uE7037MP0qvg6vw9eA/1SXuN8C46T9e5aY0sA/xPzsAvYLHmsi/xf2QQEkP1D8Bmhb3mqXmP7Bcr+WOqdI/aCnRwqYjvL8YHnjHA+/FvyNBgVy7A9o/IO+N6ve64z8U1CY2+QznP5A1pj1OfvI/AMdKS2CN6j+QkQmeE5inP053/VB9Nu8/7LOnCFvls78XO0TtL+DMPxjmoAzQrsK/fqM9Pttswz92loMYV7zsPxIasjwtxOc/Tjwuoxkk5D9Ek251jIvjPz6BrzYkAOU/fAFKgP+44D+9eahagbnSP5x7MxRjSMQ/liaXN0tTzD9Qgx2zElOwP1AldxdJuN4/YrUR91QN0j/uHO4u1czyPwDQHoZiM0w//dUY1juB3L+UssT5J6joPz9O8B89DNw/Pm8uRWrz6j8gMfr8LhjjP9/KtVEr/fI/XP/mFCWoxT8KAo8CIvfhP+gVRK/WJsk/ffJRaRXa5j9owXa32YDIPwShl2yUNsy/qBDUrn5ayz9s9TKqIvvsPwHFYzNPBuM/fXTDKgl/6j+QtIiVLnOWv4msbqULD+4/ZBevfvKi9D8t4bELCv3dvzxrjWkfu9+/RxfZSjgw6j/QZCsCMeHyP4hJW7tqFOs/tEsuYLxgxr9ev5m1SdfoP2D1AmORBXu/ERM4vIOu5j+7PUjuGk7HPygXiphmStA/yFOyHv/a1z8GmC8iqXHiP8q4/iRy7do/GH9Y4arHqD/Q9QJOgVvXPztZcA6o8Ms/Cl1d5KhZ0D/V3Z9jet7Vv9wuWHNsqcQ/sOZXBpHhuz907GLSDwLdP1zjOeUTVNS/1hwExt3T1b/OiWuTk67JP/jnZP4Ek6M/JNvI7h3Y7T+Si3YPGfDAvxo3L/wtd+A/eCfGEDBK5D/IR27afYXkPwimf4cNrsM/Xkg4V77m5D+yfsnycsHZPwRI7PxbB/k/sGorcwxvlb/Gb5ENDevAPy7M1oy36t8/u4S0BxW9w79gAHc99TjyP3MMrdIs8uQ/j3tF1WPb9D9cwX0vBQq4v47D+BbcQOs/S1pQd8sY7T+ElHUh6PDzP0iGMayS0LI/Jm4ugmaD5D8Mil+EIifxPz17030PkLY/1mv7r3Pk5j8wjJcugxebP9hS8208i9W/oC1FdFE35j8+XLx9wXDCvwd1DRFe9PE/9ULv4NROzT9EYCR6YPjHv+ykYovNGeO/TLMJPxGttD//FzoIB+ToP2BQ1hgSdOg/y6FLvdmv6z+C6bVrk8HoP0tFWv4W39e/MHbOuUYO4L/0vWa3R27Tv7YYTmsWFsc/D42XnuDm1z9CAdJttXW0PyL4Ww8Pe7k/2qo4PVgGwj+kwLKetwzzP2SfqXr1s+c/XOOIkjRy2j9y4L+asDvWvwLdDRlUM+g/VpHALeQKx7/x3UzZAzjpP/iU+VBL8KY/xU5naHnn3D/ZleUnmXrhP69IWxmnIss/eY/ApXD21b81ykb1aL7uP7ClPOORQvE/ejqGWPf33L+QWlrOpZ+qPxWCLLK8M+A/OGE5hmCD8j9bGoRg96TuPxyLutlCl9o/6tRJPWJmzD/rGb/9vE/rPzCPmDvlzp8/klosnnTesT8udu4j9gfEPxgVb9oTQsq/1liate5d4z+b3h8XuPjmP90FbbfQDuA/MQFSl1a+9T80rLXFxcnpP01uyaVMWc+/5B5TJeUk5j952sNW6DvkP/YanCi9Xdu/Pg5149LesT+3VgFMEwHrP199f64K9Ni/DJJVQZiX0T+i2lN4t0HiP4vhd+7yTuI/dGZpM4kxz784JU9iCYPiP+gyzXw8Lbg/4D8Gz264nz+siohOD7iwPwwjKsMuSN0/7qpk7aTf7z8Qvlsydw6nv3DtFG+vIdU/46PB0GQhwD8MJBsqlwjlP758zCNJL+o/PwWw61LV8j/r2XT8GJzQv0xNEO43VMU/tGaCuMIC6j+kXSkTyVLhP+pyrBu56Og/3I+psWpE5j+uE2brgcTuP3YyGNFzSMi/4c5ZWHXI9z9t4pufaITdP2Y04pNdP+Q/N6jgqURT4j9jNwdIhqrlP/yb7rNE8NM/o5af2mlC7T/GYNU1WJ/nP2jN5DN4kb2/LXu/kMBJ+D/gVAmos8WpP7EZJpE1/+g/BSzT98hV0z8qXH99HOb0P1IPeMrJAcQ/fFyxWYbf1D/ovnN/eYLwP0rvGoj9Bts/XZ5Ih3lm7T8KVCG+3CqrP+7l4mepbtk/wv1Amxly4T9q9XAS7a3ePy4JG4bXeuw/Djmw59ic5j9P59lSp2/BP4ru6yMkW+s/JlbHdv4t0D9G4yQC0GLnP1QDSqWMNcu/sNNVAB7uzb9hN+6kssjiP7GOwRaUvvE/Wo+WEFDv0z97sZ79FD7Qv2yRjxXFMM0/+6LYCth+0r/oZAaZgwi+P2zdarqAYdo/BD4fIUHd2j/vBJY8gzHXP1BXLHOUE5G/7eM1+OuA9D+6nhw0a/HiP1CcsE9azMo/FvohkiK02T8ofACBSQPUP7gk7GvnaLQ/QQSLR1WA4L+MtW6yHxjHv5lftnQGJeg/kpN2CdMm4L9hDHlzMgLjPxChDpcd2Jw/jGANADWSxz8AnCFhJuR0P6Jwn7DYM7k/WIa2FUi0oz8WUo0UQZbjv3lwoX1JDMc/iIVk3Vszvz9hV9pxwT7WP7b3SAcuOtU/QKSwnhL80z/WHJMxhVftP6/RhcgARdc/X3uWV5/xwb+onEhQie71P1Qtt640m+W/vZMhUDkp0z9+ZgR+C9vcP8xDC08xY9s/4lnvbCthwz+ABIIfNbbTPxqGrhKT0Os/bOEd96IBxb9PSk8JNBHbvzA4k/bnZao/6dFmh8De3z+AiXmiZ6rZP95ccdYOQME/hFhq+GGsyj90PWQiUCrhP/C6iyRM1sU/38p0rivC7D96Ux4ucKngP8A6TLwkius/fm4nz4ST4D8IaPGFj7yvvypG8gYb/a+/n0pJGiOt8T91AnSA95vlP/Io44DhUuY/hgmKQipq3b9KBw9MU97kv8VzEzuLyfA//OVTJ7lc178pKWQCAVDGv+1FjuvpifA/h6lu850X6j+8h+pgYFHWv+2NjfsuYc8/jBCeBT/a5j891hS4kgzyP1gE0YDMM68/SPoCEwbIsj+gcZuCZjiLP5aiNAjdMfA/2N6mCQti5j8OghxMqZ7OvyBksbJxydo/6pdi3h2Hqz+aIOefC6Hbvyl43DYycvM/6wDD54dI8j/7QMWuvf7iPx6QKZPpA8c/RebnfwRP1D/k24orKMrTP3D9IyDIvt8/UyosY3Ta8D/xLGpYahDBP6/yXzI4kPM/YFfetbkOpr9c06mPWxXxPyB5G9saiec/wB9m9bJ3gL/FMnagzxLSv9qBR3n7h8c/gLtWsgXaaD/kCYjSeIPJP/4Id/7CNdA/XeORZSjo1T/ZZCcUgMPcP6S9Ksbaqsc/gY+xysEE8z8tKRyBDR3LPxSyff31crO/dN/9d8NY9z+AjL7QSQDEP9DdTq9bs9w/PDHOZnF57D8FCc5Vr/Xgv4SLM+0G/fU/oDQvPvgr6z9QuQkRleS7PzLq7AwS1L4/0DtF6Ew26D+Q7fqtwC71Pyy9N5gB59c/3UWPOykq4j+Asto+peu1v3TgqS1J488/yKr+dgrD078w/Nd3zP/0P0q0UGoYR+I/AYQBImlG5D8wXETJA1XXP0T86U/QB+o/JKiaiP3v8z/E0ui8fhL1PzQPYGQ9XsI/OPckM1pA0z8mFhshOj3nP5bjd54TrdI/entiXuQkwD8A4BH3lpgoP58CcaK/fOI/+FPvlC4H9D8QTMlcNhrFPyhwKfCKSOc/wLn/bVk52L+CVTvFoHvEPx+egKV/GeM/qAdP7s92sr/vHRloTTnJP5L1lF3sWcQ/C7uSHr/bxj/cFLh96DvqP8x28uLPjcM/Cl/Df7xO6j+518eZQ/zUP3LQ7ErON9k/QxHZedpJ8j8GBngHrrrtP4IGScHQ2vA/oMb0h86qhr+ylJVXOD7fP4nG89XGG/M/mYDZAQLG4z+Rzm24fKzpP54EPsqQrd8/YxzVTN423j9qspsHPE22P0aNDreqBsM/FYf8RyQLyr+3jZtqjYjiP7dfNL22VtY/LN5k9NMDzT9t9fAUnCviP0SdIz2JNOM/ztKzHSWM8D+AB1vm2q3Kv4GT5B6x5/I/bKOtE+lP1z++67aA53/1P6i//NMKhaC/3uS656134z8UaBvpt5Wyv9ZKEzt9G/A/ioAYXFs/1z8om287GMqXv5pQtrP8evc/PNltWldd9T/wG2DIz6S/P6Qzqu7Xmc4/FilzqiHV3j9eck0WROvzP7LoF4c3LeQ/Vi+x8Vlt478/4wy8OTfhv/GMGZthS/E/UELnI4OR6z+ED3oITazKv4Shf+KG3/I/KsLVPfMo4r/+nK9prLfhP8whfhzF3e4/QHMqRTb3jL979BjA6+7Zv+Wv0oQzDvE/PlZABkpK8j/IztzDrm/MP9CUQ9mCP7s/mBn6jAtqnj9EopanaRq7P8PhCExll+U/nQNObY3h3D/yGjW3kdnpP8Dif8377Xw/faA0NWMR5j/hu5zGjoPnPyxnK+Qk++0/FF8egmmv4T+wVJ8urTbkP5LZeXG9F9U/dsFzTPwjwr88p3etCdvjvziNKFBO8+o/FPW3NPaa0D+4M8Fjy1HavzxO0uF1Sfg/5g1bvxrY6T94XltORTeqP0IK/Iyissm/MAm/yjTV5j88aiL2p23HPyZDk3ms4OA/HgoqP3fZ479R4DqU/2zyP1CtgLmZHeg/+sBlHuc43b/2idlY1o+xPzP//UvYxs8/GXEdPYQXyz8lwTZDpmnxP7p9w7Nse/Q/loW14Vu/47/Yet+5LevkP2idQYI66NY/qHi2WbPMsr/0o/qOIbfVP+QdcCKls8I/AAuzHPDgyT/Ebm3vec2/v8qWVfAApNu/Wm7kuaqh9D87xGezZlLwPyaVtkYhpPE/xYXVSbFswb+pB+4E6ifgP4gQc6wOZNE/G6nogH2n5j+6fJguzhDOP8O8AJwTF8o/Ujl0ENZ8yz+aL3UiDtHMvwTtPd9h89s/wCWAI0+ZdT/A1t33XIauvxRkwZUkLOE/AFI3uZ2efz/VIKOUWQXZvwoxNX5zX+o/2Me5eOAUvD+GtcDP96vxP2UAIb1C8b8/NZFXIgZv9D8nrp6LFu3BP9bBeBspLNK/Cg9vfSoayD+2yDy97CbeP1Io74j8e/A/nALDbGRfsL9Bqq9x3oTQP9XdWJj6q8K/wmivtWfBrj8jhWK0m0bqP0IK1FgdbuE/GCE304g1hT+NBJjerNPjPxa2hCeiUtw/iLvEAfU+mz9EYdj5WEO4v8CVquDv/ua/gGUZ8c5Hl7+FsJFAxG7xP9wfLiyH07A/WJ8Caw4j1j8cI1kFnAO/P5jNxxGnPOQ/k05uqHlu6D8hLi20dkHHP3OfFi1iouU/I2cEt6SY4T+8aukrle/ZP/Re0aK0GLU/GVUvHzPA1z/FwE/uWirrP1x5AmL+Ccy/aOQGna9P3L9/8qVKuvnJP0rCsWs8p9I/SGRCHiJ72z8OL9mR60zUPyLpx4XpSfM/LIUvM8xJvz/klGQ/H03pP0GBcbpmp9w/0HMzGFk4kD+eM9/ELDTavyA2bcS2Cqc/gNO38Zuq6j+0qRKD5nC9P5APjY5WLcG/8oyfp0h007+gT2lSzRWyPy4crp2+GdA/sei5cFPhnj/QLQhN6rPZv2CV5EC08PY/V+NbKPgs7D+grikcKy/hP2wvgaCRQNg/8FTmS06q5T9AGYBRn26Ov95czPqZP8O/uEoL7jLxmb+KB+IKogGjv6Ld2wjLyuA/1A0tLgA7mL+NNecm9OXPP2Tiuy1db+k/iEzpxBV34b8rXMM+VZfKP5ywiFtUx7a/9nKi5zv+6D840HAWRgfQv1BZDzuRS6o/0JHaYu6M0b++H3MrfdTtPys39MUfJvA/0pu+IWQY3T+zvruRL+3jP9SGDe5a6de/4PQS1WTcuz8QYKYapSfaP4DHl7UGMvU/FrVEF0yZ2z+ctQmv4VzDv2+5OnDxUOO/ToUsjsxa4T9SD2eLwajMv05UCWsNKMo/s3a0iaGS5T/izAJh3Aqdv00VQlIYNvc/+j9GBZW25D+updbn4sngPwYsFIvlEeC/9f5GHWAN3z+A5XoKRItqP5fyyLcWu+c//O2ggXdb4j8AJfZ1AouFP4sHdu35iNW/Vm0Ahukb4D+f7QnP9w70P+wd9zdqq+M/WnG5Nm416z+IzcO0q9XpP13lndEazcA/R45T5Mcd7z8yThWbs0nYP0kdOg0l6c+/xkvPQNmd1z9sv+nqwf/JP0+7J25YePQ/3Cpdx7ez8T9sLK7JhdG7P2hlhZBERec/yHxy+h1iuD/ABaPoXAbOP4xw9t1JC9c/AW112EhM4D9Keh1oaGPyPzTDy7vI78Q/DFbr7LU05j+kFGXWQmrbP0A4U2DySHs/xOC9bEIQ9D8iKCU93PnYv0GQ2gtFFMo/0lJS9Jt23r/rB7PSMAbFP7ymt9d8auY/iEl1wN/u7D92AYwraxbfP3z9UPNnkuk/UVgwG3FUtD+tMl4vHK7rPxLCfQmg190/cOmSnprBqD+xPyHMKBXxPzXM8DxHs9+/Ht9ds5Fl8T+EKit9SQ/JP6z2bT8rx8K/rRSayxY16T8YgdNQuvasP2gptC0euOC/xNjm5rWH0j+suf/KDsXyP6Zzo9Jm98c/swLdfNtW2z8wXfZ/y5nVP05xmmVpk+k//gTPDEzx4z9pvB+xnbzwP1bnwBiIhOg/AktkOCN6yj9g5csaRmukP8J1iuZsBc6/lnK8uMGw4D94gyfbG8vyP/W2XcNkyeE/IaRPDiQx5D+201LghZ/hP7yHFgP/cNg/b99P27Se2D8zN9gIdijsP7FlLQ79dds//tqRDPFC5j8CceSNemvVv+CRDqbRAeY/klE2dDFK8D9rzUgyJQv4P3MTQCvnkte/THAHtI3DyD9t6XLlVN3uP4al0QQK1tE/rJdBzJM5+D9ITFPudW3yP0k+rudMetU/XH9zbLRD5z9ulj8UAE23P/mhXaVkpug/TTCZpwRDr78GG9+2C+vZP3yF6nuLobc/zbGoyN1ny79YakVmFV2Bv7JXaxdzWNY/wNnoS+28oD9/E4ZLAvDTvyJPXRBgvuk/deYInJim4z9r17fq2SryPwLzkY/U19c/in0/NOA8zj/jTdMfcK/hvxqpVuacdtK/IEKDq2cbwr9areRFEv7VP7rsSeXttui/vvXzUzc26j9rLgmKFnDpP5Ad0QUz7bi/TJ2vm6Wq3j+SXE53z7L2P9Iq/xV8Ks6/SDpWd6ruoj/ePcQRfS7vP0DxFqOhw6w/vCvc47in6T9YK3aQXSDnv+RuEwFZwsI//MAYt2Wb6D/238RpezXpPxb4BkVp/OK/fsW4ARMg5D+Su0vR4mfjPzUzaNLVjds/0Fy8W0EF1T+ROtJLr5jaPx0YMjTZH+0/kAzus4sInT9gQ+YfVhmyv25tNHLeRPI/J/aq5YcD3z9b328e78zVv3ACX+Ew3bU/wkU1AD2a5D+AK2mDrXWIvxtew+7Rqtc/IMaHOTNr5T9UUdBbVOnLP1JcZOQ8i94/0pMgYYRe4D/R3LwtdGfiv0wirSAdDKk/IZZgSGl507/ESe69bG3pP2Dc6gKVdcc/LMLMBAk77z+y/nCDIKzoP+LBPoxbLMs/+6OgGyDD4T/4NRSg/qGvPywinUipQ6I/1OJ17GQWyD+8oZiuI7fwP/AiIkheb/Q/GFFcBJ904T+XVYnyxPjkP2EV7LdlFs+/jjnoUDk05T8eULF02g7ZPxsKaqt74tI/82u2cqK9tb/6tDfnDBHhvzSlywKlpds/B/ebi9BG6z9QHcThOsTqP0wn3EzzyZe/DlxN9bKk1D/pz6fQ59r2P4Dnf4pLLnQ/4Gn2gjG7kb9WMKODfMfBv44wIWK3FfI/0NiE422Jo7/6ZV+B4BjrP/sOZBIW4/M/6gHbtxFnwz+0wtsN+jfmP2AmRZRc8OY/AlN04Ygfwj8sTkM4JIvTP4o/eJgm1uw/flCYwC3P5T8m27AauVPev0ios4TKQPQ/I/Ub1lRx07/qgylKJ3fVv0MG+i6rTvY/3rgwKdI/0D93VoNBOZbQvzp6ddtgdfI/WglKWFwD5T8l5/gczZXFP4Z+7t1Ov8o/tMe3rIF14b93EqPyey/cP1eFHXVM4PA/iKYlvgN20T+QbkPKFvvYv5twzVz12tw/AAJ7DKWO4z8gJvwYa5mwP0wdz3Vm2tU/umnWR85k1r+iagXJ+u26v9Q88uK5k+8/E/VWk+/e3z+2U1GmNGa9v05ZBQ5eXe4/ENIiqbNGtD9nSk3ok6TXP8pGl8TfxdA/AHTF1UbK2L/6LIg2i/3Cv0TQ4yIRLOs/bKAYSX+N2T+GEcBRFkTvP9XVJjG+IfI/+ws60r5m8j9psQOsFmfjP65XFQGgZOO/sAdeXBDP8T8KlUmxSfHkP3mkt2ZzosM/Y2eeDYpH0b/fCcl7fCzgP+oag1dTasS/lQOr+PyD2j8GYI2qtmHiP0aYhK/FLes/ZPbTmxFE1T94BAUZ9DShv3zPsXbr7Oc/yiV4mM6C8j8MuenOb86zv3CIReDvyKe/ExyhakKe3D+jnAd8J+fevwCPHsqMKHE/QyXB4M839D8YaAKO3mjrP6yLPuKa+7o/3E1XkrUb1z9w/XYrLNPbP5r2Lg8tE+A/+mOjOoZm0T/gdElNFCvrPyNBtgquutS/wHLAJsoilz+p7rlR+rPPP5AKc7jhe60/BtiJ4vMIyb8Tw1c1eOLhP7ySD5d8mvM/PG2nPH/U5D+QglZM8WbFP05SRbu7bOY/8xcXlhT25T+zBkogztryP+mXMlac9es/+mNYw4ruxr9v3Jety5fwP8QEaIrfGtk/TJyMwJBy5z9OlAbtQfHmP4L59onY3eQ/wGaJuRE55D+qlQapCA3mP3yNTSmVZs8/iLJKK+AJrr/u4cRcpBzsP1c1uYc/5tk/Agw+lU8eyL+W5Y0Pb3zQP0yMYSNz6eY/s7NfBHqU8D/h4mG0nHncPxqBYyoJuMu/OEE+cXLVtT9/ahERIJnSP58cGJUy0Nk/5EP5Igwb5T/SzY/c3gzXv2Qd00X+td2/9OtYGetjuj97njOkElDNP3hpT0jmU82/ssJoa+YF7D9AZKjklXx5vyzTLMe8geg/uJSIcu0O2L/ok/LBboTtP7D8BO+TrOk/eXsyMhJbtD898lMtlH3Yv/Cp3q0449U/+OGzqrk64z9bZDkV4CrWP3JLb0PMSdE/+Ux8aZRB5j+wxiP/5E7nP7gGTewKJdo/9W02fuWg6z9M68lR4tTQPxgOLG7FFs4/xlQ+u/lS0j9AO0REwqyqv/CxmrAVW4q/d/BXE7Dd9z9itEvBhbzhP0A+FV0UGeM//QMjNM8r5T8e5ziJ9zXvPzw6qDaw08S/bGpfywOt0z8bncRuvRXAPzNU6CVdGtg/UMA5DI1nvT/Erm2VAVzbP8yOHG+3Y7g/cMAPun2P7D8xEpwr2ZzzP9bCwHX6YvU/o2Omfydrx798M4UT4I7bP7oM8dTs7OI/Hq+A+aSy1j+g4Vke4FbDv8zpBVWNp9s/Vg3ExNR39T86a7QJ4YPkvxoa/sdmidw/WCviD2GN4D/bU/YQS0nHP4AicZrjdNC/KLP7KTwf0z8S1YPtXUzmP7dZuIUfqeM/w+QEb/38zL9SnM8RvQ/Nv4ZVx75Wz+Y/g5r/18rG6j+0jbo7QKTjP9NBONBWXsq/TFclZpMm5T+MLR2y9jbjv7YFDhyWQfU/MCABQ6+t5z+PuaeO7EXmP/J+2FiBue4/qErW6klV9z/2Lhho9prfP/hFUqKAdeE/KFYVyv+4r7+00emhLuvmP6frEAQBt9k/MNR3OYNSmr8JmBOvXp7hv9huMMSLhbY/lqmIwtAa6j+Am2DPidOVv4rvZXJ1YPE/kAYn+lbYwj/IyxQEtg3MP91OxFZ99sk/WadUR21tzL+ZT7I6Sb/SP+yoTJiu7tA/froHbvQD6z8dzXEJyeLkP1yyJqjH+Lw/gx7mSvVd3T8SZ4t9mxLyP+rbF5zOJdU/VlNJMR1L8z92ZQK5vvrXP5pYPdcJb9U/yAJXJdzBxT8PwqLraFbVv4yDt0VQaI8/VTS4tTWpxD+ROQww+W+zv4Se8ZY+pdq/T7B4toNg4T8IO5ZEOlKNvyuapVeAwMu/9+ycptGH5j9i2PKTJPDhP+qDe9/p8PM/M0fgNOk01T+2aO+pR1f0P1cTdEnWaea/kl1FeiLN7j/GOinLw/LLPwVkDXmeb9w/Zsp0Ajwf1T+AhUnX3z2uv3GzkBycLOk/okQ5BOsk7j8QKDuezCCZv4YD8Z6BTuM/UkfYoCWu6T941+4pNdHTP8pPbP8wgd0/W5rzqwuk8z8vyoSUXwHjP9z8M2V1+tO/IW58Nh4t0D/IQIz5aCCwPzQ5Q4fqKrc/OK9VmXCS27+McsST0G7nP2BbnkRg+NI/9CcQG1yQ6z/E6pt4jIvGvzRdECxQHtW/YLXid9HX4z8+Z6+eNmTtP08JHOOnd+0/pNF5doPowz94Sw8TNZzJP0zwI1PoZss/o5rS1bkp1r+qd8PKBubAvwzr/DAtTt0/VDQUyWxl0z/YKBmbBtPRP2v9yZmz/+E/6NdxY6p7uz8c4sWHcUC6Pz0cium1jto/55uNTrUFzD+Gu7pgIfvbPyrifV2A1uI//d3jIJqn3T8QQal9/bqzv55ifujL7eO/sHF7YiVm6T8+I88sbUXBP1ubXF6COeI/9SNpVpKVzT+XKlrAdsXYP5rMhoy6LN2/DAGDTWJ/tj+6iPQ0MmnyPzAZFrSRGJw/rSDysUwWyj8ZcS/hhhLiPwUJ2Dk/7NK/WlySfOmu4D/YWCfR+ePzPzsNgMpzGvU/lrUAaR2X6z+2fmTEeC/gPxu6j8VEUO8/OeX+LmeV1D8SeWFsIWvjP1SNOlt1jL2/NQiG7T3o9z8SfC9XfJTMP73Sfz/55uY/OuRB8tYJ4L8QFfXBZTqmP/j9q+84tqc/TPm/A1zJwL+82LNqGqi/v3RdQ58BW9E/ZLPgFTSqvL9tUb0v9c3nP/1PeFr2oPA/FYLWKULV3D+U5VlqQbzEP3X7D5f8bIS/WkXWBgBb6j8ABwPM/ip+v7Qdqiy0/uM/jWVd/yA5w78+FYvEYwbMP9+EkC96EdA//ppGnzsB6z8lSzlckNrhv721F5o2XvA/0IEull7m0z9fKmkMAkL4PzphQrb3Oek/9LCMxdeqy7/GbZ906i/xP6jWNhDHZJ+/LBNSpI5M3j8ucxRQQs26vxySpLDdSOo/BumaAT4U4j/F1+u0/TXkP0bfo79roek/R85PGOCT8j8rurvk8kDZP7nVmmIFSta/X00OdEw27T+d5nqJ/tbXP0RDxFg5Q+0/HeeUw1HY1T82Il5RK1P2P+vkhMW2btM/0LeMSDxgtj965AkBDTXAP+DhQiZQuOY/vOFNUEVS7z8eq7KUKVHmPzwQ8RzrYNg/UkbPVIea6z+A16QCbGnLPwCpGKjcfde/eBA3ihg39T8tMYriKd7ZP1QU8+6ARrS/DKRDoy90nz+nIw9n45nrP05y7kbhcMO/ouFH/9q+4z8RLgiS5cjbP1J86ponudk/YrPrFtGf3T8EeAOcQlngPzwm7KS3Gb8/FBqbsMGY5D+z5+ak9snyP7um/IhL3eI/zrKIFx6b5T/clsoALZWwP04zmFD1AtY/xjCyr+716z8StA3IDfC2P0CNJAHRLbE/disC45tJ9D/SWSsmlcLqP5RZp8g4eLC/ZJCjSPpfxD8E7180l7PhPyCURLfwTda/ZPmtCILeuz9qcyaUmOTVP3tZfgqbmtk/M13/QnSY3D8QwpbKK/G5P3jpTF3OPs6/oYivWpVo4j+mT36/p+LUP1SnhgZBKNg/2T71wQZx4r8Aj8LNRYhzvxYPOD/W0+A/y1W2n5Dw8z+++1ekMkHyP+S9RspiNbw/LkdNHT+V0z/WTsrOM8rxPzNl8kUxg/M/2Ovid9xl7j8g6sfM7B6Zv0trim3xmeM/qmXYB1Tv+D+U2NtAEprtP1TdYHwlj9Y/4FWmquMm3784JTUgxFLVP57DUy2Jw+U//J5TQfBP8T/nH7HXzf3vP+xE67C3cek/gHiw7Ja10D+OBt+YtCjdP3m9tKQHTvU/LzokHPxbx7/KhDAa12vOP97auG8LWu0/aKAwkLCN5j9oBM1eP/K9v2VQXFdnSuc/QhLz6mvs4z+I7cIzkei2vxZ/5ttWUOg/SGX82EK16j/3YBUmYqrXPyb3Cg8/cdy/D4la95i257/ei6Xyt/ryPxUDG2wI2d4/1Wpfe2qT6j+RGx+wj9XdP3hOgUbxZ6g/ksL7MT+i5T8IdQahS8XbP5rubwPRjOw/RMQHAEn39D81lty6A37tP5arm273xsw/jIVGTSoQ4L+k2/g/dyn1P7SD4GRPbbS//C9IoEVO9D8CYd/iBrbbv7z9x8xnuLu/w/CptNgPzr/rd9cahjzzP9gI5iZKBr0/Y9XLfW198D/SwxPdzvbtP/riLtfrAeY/xPXk/iJbuD8CX1pnuLrCP0DvTIK8j20/+JMI1j184L+7TgkUjKjmP2jXSrJpXbA/2EESkTY85D96JDClS67RP3Och55QBsm/bnrrDWa48T/pVdR9YOTGPwiJ+hsxVcQ/9XSyhJIe4T8wgKH8K7TBP/sNcBJgAew/rhDBjpdduD/wiDh/S5Ocv2uzj5j8+uY/YPCPNXVhxz8fyJAa9Lfjv7BkiGPls/Q/qUVqYei76D8iytu0+8/Bv28szzFogOg/Fr6Viu5E5j8879F/37jwPwaj9VEavcq/ekUt3Li34z/Gl/YmM622v2sXFHdT8dw/hGqjl+PP6D/TEXM7LXnnPw63LB6UguY/VADDPtHx2j8mIwzR4knnP7whyjt/Xqe/OAQdh+Shu79mXwUoFAfsP9XuBJqQS9I/kAPo9Flw7D8ivXZ/9nnxPwxmOoyuRM4/dXT880QR+T96FYk4BhfNP3htkDY82+c/wByWBhVDRr9OfQcDVRvJPz9mLDE/4vE/kk11bZOE5z8WOee7kU7GP1NmKZp2Cus/kOUrcQkolj9E6n04XdDpP9Qn/aTTZeQ/W0NJ24JV2T8ASES0d+5CPz9x2Wci/+a/UHy/iPiw5z86/gJAsUHJP0apYSybqeS/6bVm6oaH1D+3Q81xJP7Dvyoh7GOMfcw/4XQG0H+I2D92fRTwiNDlP+CF+/sgeOA/MLlkcBZfv79j67Ra6AXcv/5ZUKatVfM/dcp+665rxD9kf5d7T//kP8B3GlbRUJO/wDbT3BoMkL90nR+3eVDpP+LtHnp9jOk/Q/gaBeXA8D/3TpRkvCjxPyQkxE7TIKe/xJ46iDP94j9gzBMxQDWkPzSK6rRfad6/5GWHUrF81z++UI9HuyXav/xbVFSZZM0/TKjOIEFV7j8AVvOxGNLtP8IUufvyh8S/0AlrEqJx5L/lOANNyd7hP7KsIm4kWsU/fRPFaKcc9z/mWyJ2ciDiP8MykcK0+PA/BiMaIYvx3j+on7WhdDjDP/hrfJJ8waO/tUXx+DI/3T+g/aiuCzLNPzL5wmfWtsE/KVyDfMNzyz9GgZWCMankP8AJ9gh5Otc/LIS1FTYc4b8MdYyYRXrbP0lhq6YBnsA/mElSoyxm6T8KoeHBpDTqP+61Fq/fy9k/FudwMTrZ3T+Sk2VEoLTyP8fQlMh3Cec/eJv7s97f6j810sWWz03AP46Ze3kmeOe/BpZ3pOmw0z+8eHsmHUG5P4zDtgjspPM/31bgxgVGwL/WPXm7DcPDPyA5GR8ZruE/a5RQ6qb/5L8w8lPcfFDWv27rQ0EmN+c/FMfi3+ryvj+EgT2ijsSvv6wWwbyQ0ds/Q8UjWO670b/vHFvKNgnUvzjy1VpyAb2/IGEbeUNl5D+FjZWqETvUPyT+bxLInOS/ou1yGQUm8D8cH6RF0ebnP5e48E6Ko+Q/95rnmZy0zT/ANuA5arOVP6BebTrEpp2/qmQWxOFo4D94oVjT4jXIP/NFcIszh+4/wojskbfA9T9ohZNQggPhP5gF4vTJfdk/5gT2ZgoA8j8VhT8TWMzcPxdJebSm0O0/1oQ8y0dM5z+8FQabc7PhvzAw9xIWP+c/VUZW1W506T80B8vYRyvgP3+ymztsF9g/yEpovdY2zj+8iLEMhl+yP+BN0tVgG8U/p/JcPLt04z/+N1C1joHkPyoZKWJwsds/u61V5dM/9D/ip9E6BUjpP2mKjHAKF/A/Y+2un6ie6D8KFk87uqLCvwWjhJ28Iq0/iaERDti90r/21cT39ZzfP5kHZhFKAsK/9rPlS4Y1uz82GUhtBfL4P1MFST26CNY/uAxjLaTJqD+NpFOgvGSnv9+WL67eUt4/obiIMD1Eub9Ojv74CYHoP4Z7TeUiIM8/8xXqINyHwT8s5cBYdZjsP1pIHpoRQ9Q/gEaJXjHe4D/wXKyTrnfyPxgzQmDmFri/VuO17YBy0L8QBSuxIOHoP0gJb1wCUaS/YGx2HvtkyD+SJ0Z92rneP4iaEA625dc/1MBqL2Wi4j+jx6NFOs3gP10yfqxYSsi/yX+iUInv8T/f6cZSyQzpP8Rb7X7duuY/ExvLQ572wj/TX0KFjN7aP13V6Nd/Pdw/4SfznNJU2T+hLO0+TenIv4fmdWhdjdY/KQ1Ac+2+9D9uUoTYTtDLP3JTemPyZNa/WKbRhm+9yz8l4S8ofG7SPwjGzKHmNqM/VAXrWGeX5j9dxBpXGQzyP2MHeIVeyeU/lEs5g9x2wL+JXgTkH1TgP+RMZki+x9Q/QvWrd2sh5r+CnK/7xmjsP5CYKdMR7a0/9dbswy583T+uG4ZRN37lP8a87gHI5Nw/waPobriezr/80QAZXWH5PxjPi+aITOY/0Io/f8Rssz/m4XcMdsbZP4zltJ0eS9S/yC+w3kr43D+UqV2K0YjfP4N0681g9+Q/Gx9QAuH+7D9iObfwkiniP8/cNoUSV/c/CrRy9xWL0T+guDu5OVLtP2UjbGEYbOK/hP80zfgpyj+6Lap16h7dP6LZ7T/2u+c/FrjyXGzV0D/lwtxXyozfPyDzBXHaROo/3CT6G+Pzsb9MhyQaFX/mv0WCmFW5AeA/+iyM8VTj7T//6Ws3ibvdP7BGr5eOOuw/H+Ze0kLz6z9U2y2K95nnP63hHo66Vtg/VKi4u0ZP9T/kWtGv6Ly5Pz470s6qOuc/qkQK0u5U6j9AqNd4nRByP4rHOIMmQeg/BBmzvCV17T9Y0+KQmQe7v3w7qJyBnuU/D5l+hn5g4z+tSCv4qJfhP544KMPBsfU/1nC9YBg56D8Ey23bcnfiP0SEkZIchvE/nkRw77B67j+ed2I49rTWvxJ4nj8K5+U/chd988na1z/IrU3tkUqgPzm6UZSSG8u/yprdRHa46j++BX539i/qP+8cFR7FD+w/ROv22XBkzz/cmBHen8fYv7BZIXxK3OM/XFyS6mFm8D+4TyIabUuuP/YCuHT7reU/c0Rve39i3z+7oXqxid3bP8AHN8HL6fM/zHjf0amHvT+MPN7t8hXqP90LswfREOE/WbeKgkad3j8kxFkhDcDiPwpFKA8ShcO/cr9tkVQP0L8ymb433wHIv3S+i1Lgw8Q/irbXYl+78D/4leJEtGuyvyO5HcStcaW/J+oS+xmy6j/smxIgszC/PxASwRg18qE/a/TUwwyc2L/UZnwuwQi/v1CaFft93ee/3nyye4sd+T+c8Q7xyFXnP+hBOqO1DqW/1rlt+19F4z9M4uSvQevZP1MEH1qcjeE/HXmcNPm32T9BIJyPGVbgP2r02BrH6eQ/K5SxHLc+2z8ENZy4qdyyv7dvqQk5rOg/nGN3Pj+36T8fLBT7yCjCP0xLjaOkAeQ/ktiKXbZw7z/Y6A+CaMj3P9SQP7D4SLy/J+clIClc0b+hkU0C/BbLP9BCMXI6opK/266+mfeJz79Dy/S0vO/4PyBC5wDghmy/+P8+5qHzzj8ohcru3xq5P96SMwx6MeY/4EujSXJV4z/jEu6UOR/xPzT+OCclk8o/Y97HMMhl6D8EpFCanbPqP44TSk/wBeg/6bmkYhMW8D+v0WkZ50naP2IKwg+LnNU/wTXYq4mC6T/sq/xm2bzoPxzy2yReKa0/LOL2aHpk5b+yDMgKwC/NP1AnUylA39I/oVLG2kTM179+tNO6zNLqP0+lKamdMe8/SnRkN7hJ0D92qCOvKcfcPyFQwV7JK+A/SJUzJYF39D9WCz026VzsP86wlLSmbeM/QJv/xcXEqD9unVI4l/rYP7C4ByEcc5k/DKmKLyTo6z+ErR7Qh8nuP7Hu2aG0Jsq/HDGGc+Mi5z8ID3h1yIi/P/C4X3oUR+Y/7PQkJFmB6D/QoVd5jcnwP6ApIFgT1ps/FYhSUzVP3r9O5MfcQz/vP4BMO6Du52s/b+TASZMK7D9JYNkx8nPnPwTCOsh3/Ms/F6XNZsEn4T/iSN/yv+7rP6SFgOvJM9Y/wMPAKMj2ab8IVt/+lyTHPynw4siseMQ/sJE7cMBKwL9cX1lzmy7DvyR6hGL5e9k/uQhIlk/p9j+6RX8KTvHpP2qi5BSQqtC/UEIjopHolL9mCGuw807avxKJIj2DJtK/8ILe9K+e4T9V7nmOUUvYP8xGVO0utNc/6HacTCK/qT/7dJty2TLxP8SYhJQ4d98/ui3wAUgQxL9NFW6uryfmPweMWxFBYdQ/goG0m6nB6T+qKFkZZj7bP2w0glXHcO0/0C5V4X5ru78rBuKXN3zCv2Y0dRhtbsk/nTQi+aSj1T+S+AQ9BfbxP7AnVtwdpOO/4isnVfHrxT8A3SSYw56xv3Aka8Gmjt2/8MM0fQns7T9F1BZUl6TpP07Wv1oYn9G/JA6oAUeEsr+9NltyLrbVP9Ii9RyxR/Q/elS4J6rb3j+LJXzMMaP0P7Og8wF+WPE/qkMced8a0T+g4QA8BLmzP3IBlN/Kdcu/MFLvTY2a5j8ODt34bjfoP2Cde43iSK4/soxEL0k19D8KcE7s+fToP5rMD7aWJeO/IaawTrXb4T+shuPFOPnlP6AN86myHu4/ZGF7LS6kuT/6TiBazn61PwxzitU1W+c/PBlHt1VJvD+ufExXbdzTP7L3+9vfLOY/5QYu4EkJ4b8GIH0Wm5zoP0BLA6tnhpI/t833QEjB5b9Qk7OSYdjrPwQP3asbQsA/6dJnqkYWxr9WG/V+9A/hv/QoWfP+4N2/o9jnx2vW4z/5+AGdJoLNP0DR2zMm08Y/coPN2A2n6z+0j+EnTVbWP6iaxsl3Utg/7x5jik1k17/qEzLV1gTJvyKKUwCcqeg/3cAMg1KF5b/iH/gIb8rkvybQEksunL2/XbS1aq5f5D+TRrB+luXzPxD1cqF6dcc/ngoDoNGj279NliMwlw33PzoBPh6f7uw/6TgSXbBW2z/tAUyqisnUP4zgVxNqYeG/iTTZ1FV17j8KYv5puEHwP4Jw+nbiUtS/bNXAopgcvr/Q3HtRc4bQP8JpqcP03tI/SC6MX8U50L8BKTMC9+nlP+usg1NOJNY/kTrb2KTJ2j8p+uqBz2X0PzlAxXEzHNA/4PIzL1wV1T/3EKHjmADavxcw8gcY/eY/vBhWRH0p6D81RSB8C+zSP+GWqP7/8sS/YQ+0RvcH6T/GElMLUTjjvwLjDgbuevA/sPwmQOL15j9kk9uKVI/0P0ycMDyqZcQ/YvsHHPC7zz+AZtnjQ6abvwIKbck5Fc+/ioebFE0n3T8OSDScxjP1P5T0aiCZzrY/rS2UbB/V9T/oRtA010O/vzhw0fHgidc/lCcdVWjb4r/2GZtZ2aTgv3Rw50tv1LA/Ikq6crI68j9yQzUoh43BP2CpLoaoZIE/9J6QBkPW8D8Qhvtdbs56P8BeVxpS15o/CN7Ui0u+qr+bSoUTlMXvP3nidNLG49g/GP/D5Am08j8ra42TVt/VPwi+7+zU+6k/ww2JL6qd1D9dXTszrcfFP9pw/4C+CdE/gENabxl2pr9gwrwqmC94P5yZGVOZEPQ/AOVixcGqfj+qaFD1HEDWv1xhBU1yLto/bNJ4GAZw6j/3h4IOEg7xP0kE7gkkLta/LDTia6ryub/KPM+vYL30P+D9rjpM5OI/mm6sW+8Bwj+m7VtnJQLKP4AvTzx5wIc/NDxtrt5U+T8eNDscaIbeP9g30p/PWrY/86Jbwz8Y0L9AnOJjB3vnP995Lw8Q7Ow/9tTFro4K7j8acJi8GHnPP5RRlnf/baG/wn8ZQKtl2j8aoxi4hQPcPypJUyIXW8E/+sw+PyHE3L81+SUnKnTWP8M3gs9IBuE/s6JlNYj04D+F4oxoj77hPxxx/EcbL9Q/ne40yHkHy7/Yygp4Ct6jv90LaUmO382/YQHG1Y/B4z8Y/SZ0oEKZP6KGDjJCS/c/LN53EreY5D+J3r3v5wrSPyDE1KaAbpQ/EFN0P0Gy4T8C9g5jHu72P9iTFM7Kh/Q/M/vLsywP8T+UKHe4ELbgPxId91H46Pg/BTRLCAzIub9qDwEEJ5bXvwjt88Y4vqI/wPmQmadr5z+y+nIQnA7RP7RrwLFVrLW/lL5LjplJsz8MR6w5y4v2P8dFcqtDcvA/XJ4wDAOatb9UYwgjf/rzP+ZhZ9bsIsY/iDG9WO5r8D9Eis1POsfWP/YOolWJ4sc/+FE0nr3y4z+okMXS7kamP89IyV6lHuk/oBBSBcYM+D9cd1zjh5+zP+DoZrrI74M/OIZfHIyt7j9mOzHgZVX4P8pV1gGBc9e/yIAXFky05r+mXfxGKSDlP1ppkRQk0dM/rQj+wv+vuz9oxQzOCNPmvy1/Y9ibiOM/a6WHHTwl9z+D7afKe3bkPwz5nh0FLMQ/YEB04atZpb/yC3K2MXPYv3q1/2KFtfU/VMs8/vJv4D8AzCNuliFSvwgp9+VvIqO/UDi5eIoL2z/FKS/ZDkDTP9bvHdYAC9Q/BL9RvIbPyL975Jpv/xHxP3dHvwNfquw/YLzC1l2EvD+OgVZ/ozbaP20jVKqLluC/dAFQvMSS0z+Q3Rvz9CDRP4CkM2u4ges/kOSleUWL4T/duHxQIr3yP5YFanhjBeA/tkXg3L0r2T+pj/jnQJ/kP+0NkakXLrq/J9ElTjxY2z8ckA3wKRz5P7vsHxANOOk/F1eb5cCH5j/PWofz5I7aP2ybaiFXgOG/6/TnwTT38j/8eITcjdzgP9s8pfrH6dw/wNOa9wIY8D+w/UZynbDqP8I9XsrIw+W/mEgKJxaSyL9FqWRmPP3hP8yc3Im6sbw/Kcnny5Ah2z8m8TJJZQ75PwnN2wp8se8/lp7zR4zSsr/QpSFDYuLlP/Q/FzK5PNQ/xT40Li5K2D/IsOfebg2QP0a66iuAieI/3n5OfOkf2r8e3Ezip5a7P60eXk6DUNs/Dh1l3Xf62L+uhPsYRHrjP0IE6QCNk+s/u7HOeAWO9D+YwRM5QtfEv864Yql0L8U/mPECjPAj4D9EqtjS59veP04N2I2QT9W/6sHEvP00+D9P63BHaYu2vxO2g2zYptw/EvkzSdpm2j+2Z4OZA1LmP2YojXXlSeI/XbHGhXdv8z8Zh5ihU2Tdv8QLjFAQXOi/7GmQLz0Syb+lByOYrpzaP7WR1T2DSd4/eoR8gCUClr+4GUuLSDGtv2kNkdUvI9Y/goo2yDSdwL+8Pgzjx8/jPz4HJl/vQeQ/wCuYENIwpr8zpqDuZUDjP7wUJW53d+0/VvqJZcHRwj9oixtwLWK8Pwj1Vivk2N8/BwIyFSpf7z9CMdSO9r3OvxDy8uZpXrC/3YPkEN/j7T8QJayDXd7kP5S39W+MBuI/wGeCH4dgQz+4xGXVe4OgPxKDpwW3eNA/27DO/o/S4z/4Nb/cmiXHP+KSjNJENc4/KKe5BACN4T9gAaNJjwWZv9g084CJ6uU/RrF5UOZh2D8a1QbW0B/KPzuag8yAmuC/XH+URad+w78k7d58Mfm5P2gaqglCv+U/PCvzjMLExz/2JhOyCqrkP0BimHMC4nM/HA/TI39C7D/IH3LwjZriv0d8Go3cDMq/pnMyFSRdy7/du0HVe5bwPzvwPV6kWc4/yrl+0AA94z+Ogb8RQInoP8/TZ6R918w/iY5hs/5l3z9Pr4NAlqHdP+gMHjtlq7A/rAyYoH2yqj/3r89O4KrvP/EWB0wL9cw/osFwKSR8wD+OVjSr0VjyP4MIue4uf+8/BqmhIPKl5L9fOMZW25/cPy6eiCyoqLC/rmhX8VJlyT/R6zLPc5POP4DB8hv0EuM/IgrBmAqH4L+25BsnEJLjv9DODEGqeto/2vkuQhxA4j/Ahvy+2yjZP6Ngv5qGu8o/LZHVv+PD5z+yQaKkMzTlP+TgkWv+Cc0/DprZq1Lp4z8EScCwEDPHPyBja7laMIU/6DAyk5w6xj95Liu0gpfdP1laHpVXuua/iI5WJVwbxL86eQH/pi/XP+Qv+L8ysco/dqWpz9IS9D9IrtiAL8XaP/hr0pNn76K/FXJA1dUj4T8IXUNFoJnqP92OpP6gk+Q/cGIF9+bxqT+0gQopr+vyP0eEpeCJRd4/OZfWgc4+9D+gRsXg7oCIvz6oHTrZEN4/n7zf4BIy1D9ly/bGNDnyP4hBTrFsnMk/y+nQKX064j9N4F3tDnjuPyFKniHIStA/sPbXXY6Ne7+8zAm3Vwf3P5IF+10vtc+/WKlm1FC+4T/IE8LW+uPyP25QLVFEP8a/8Zwz9kmz6D++a6PAj5vjP+QyPUnmm8s/QE16R2CAuT9zMhTGgMrUP/BduaUgL/Q/fQJsCWdo4z+Y9ktYhyfjv7/9rkc9/OI/Kx5PNktC3D9CfuJ9gpHmP2AmWQBewII/1iZ7ljNJ7D9MiMCyW0yhP8AFePEvoXY/dciE4Hr+yz8VzVtp6Qn1P0gT8hsA2fM/IFICz6T76T+EZddz/ATsP6oviobzFeU/gJ3zNsY4iz/EaxU1+8TmP9wpcVIdteo/UOONf4MT2z8YPbXSVZjAv6Csew2ipoG/ICxgluol7D8kxFT2MOa0P6J7VaKPRsE/2PUJaoZzrb/QcEKKFzHSP0anB7meZtA/jkaPHvfpz7//W11dr5HpP6y/USeM9ew/oZpUqX436z+Y9IttU8rhvyLUIoPn+9U/ipXZ31dY4j+lqTLerH3dP/YfrZjGseA/njEsqTXc5z8UlorBUfPlP8XDK1kkf9G/kYpmOSK30D9sqxd6EA/KvzJmWZHeU+w/3HzTJ2a5rD/Po0QKyVbkv2roop4YANs/8JfdG7N07T8E8r5rX8TNP51dyKhNh+E/N79CLpeF9j/A2IDKEKWKvx7ludEJq/Y/sd6LVCV51z+CU5dkOPDcvwAat2bZC1U/wEA/Qwir5z88Hy/m6O3sPz0uDixCidA/+CUXKJQH8T9IZlmsLSTxPx7a/wLhgds/XXmirNZawD//vYQfGxzAv89BBOufscA/T+aDSxiIwL/TpxJKF9LoP/27uDk1x/A/0yaBur/O8z+gjVclYT+2P3h3EoEjpOY/hyVp+zd57j/kzYR+FLTevyC20aJ5oKg/SCBizoUm4j9pUe70JRzAP1wmxuX0UKi/3+wq/tAI5T/fIej4QZ7MvztCgGPM89Q/ZgcvItnv7D9oAEQ64LbpP6qQjAwbtMU/bKsc79k+7D8svQUfPPTlPzfPp7hbhOY/lvJpuJWlyz8GjbzkPGb4P5PRuMzPRd0/7l2iHmZk5D+KB9wF0M+3PxBQmPo4VMu/Bh0pQNX95j/SBBZQtGfYvz6o7Vc5P80/Ai5v08/80j+ZQb30w4HcPxjJgWZT0bY/HXjTpNrtyz/EMfEiCSLvPxiim4cE6+Q/VlUu8Zoe8D8A2kt5cYfTP7+1P+ZpMuc/cnVjefJ70L94I8L0lWrqPzoIpBbjCu8/jicI/7fx1D+a611xy928vyEno7EXc+I/GBLY0AxO47/XoxLRuErtPwA9iqj2uWk/pEP7p0OR4D8fPHIV6xHtP37VBHYlAfc/At7VSsG4y7+41L6/wV7iP2Ti2dbsNOM/xMVrBHNqt79koA9uV0zdPxyGOGMbhdo/M/4xcFI44j+Eu/TYkATjv2ug+oOjSOY/ghXgyK5q3b98AUsaL2jZvzZ93+z7nug/eCkU+4a+0r/A/bkBhAbfP4zd9P9jD+M/3lHQfexq4D8AbEfpDsc1v3tuedrhS+s/uGxZVTQ9pr9UOCo+0hKwv80j/8vzos2/ixq4oZGs2j9iuNQy2ijjP/cMYrZWJOo/1B9P/X9K4j8hyBvNnS/dP2ZM9934q+k/ZvyRpSBY0j8kWmMcaYnEv1QUJfDxrdI/yAfJvwC23z+UHd2B0FHdv1rGyUCVIuY/mvV8tmS43z+0E9CfmH24v1e34l7OiuU/J5xSCzmf2z+B24s1dv3aP8FRkwtmy+U/JXbOD9RT4D/vZihjhDLqP45KRBU18fA/ENj/xjIbwD9AymNe87xRv3G6g6+JEfQ/KJ+VZW2jwT+s8tn7fk3IP+xkXzaFXtw/zL6qj4PfzT9wxQLS49PnPzC3EB+Cbeg/eP1IsrTIwr9PyISlrhbpP8ELSZcucuA/XDUZ4Rnotj+SLna2Tfa3v76FKMefjNU/rNwae4w1v7/6SRHNwOLjP0r4efv0aMA/hpwTBM3S7D8+pQCLgbDevxaCF1frvOi/TfjEPdNYz78cDRI5h8XoP9sdngyzhdq/zPCv2meu0L/Ctm0GhI20P8NrRAu/XfM/vvaq8Yc94j+zChJHlY/sP01Qj+P8gOQ/voLWVOd20T/ZWCJRnWLpP3Yoh4/e3O8/hxTDqzf92z/hIPQjFQXCP7aWv5Xi09Q/ggTOwpuf5D/qv5tKRv3mP2IWi1OSdec/wmBOuqTF5j+audE4ct/Wv2YvoIQ9i9U/McGZ06661z/KgjT6h+vTP1wxdLSWpbi/LoR98yjo7j8Q7uJY9Nn3P3hYUVZA5Ka/ajocph0A4j9NRlq7GlH2P/OPwAeBB7I/Pigi0Pn+2z8VeDd2JiXxP8I4opgqOdW/on38WTDp0T/qSlNoZEbdv3BSIB8YrvU/yJRXHMaOpT9uNzPf95/EP4gaaABVJcG/cV+xVbgJyT/ZDXsrTt7Pv4YyrIqYAM2/LSxzIax12T9k7ZOUMBmvP8zVJAPL9PA/NpW09M1rzT8MYcasGBHFPxZe+SImUN0/1tJQ1k8x5j+/T1IOkaDSP1ZidfdkVO4/6C2jJUgOzL+W+FAgUVmzv9NVKl9W8+E/LJKbZHcU5z9ddU31x/7QP1DHWJMCStg/tgjzi7YO8j/0sB0/GCjxP+xpF0jNhtG/yKeyMavb3j/oMxeE3+/dP+i1wXwoM8e/yuIElFnG6j8eCFjyX2XfvzZYleLkZLM/wXYnZb0b5L8Nv3+i5qDBPxJxgGrYccE/tLj2rfhQxT/CcQBuFND0PyzljjDGmrK/OH3T14Gj4j9+Yn//4/XAPwdTWy0uItU/ErsUnu+86T8TyhAjrTnfPyr/srVhKeS/QJ2HJc5TgD//SqnsyajxP0HfEcZQ9us/lCulhian6j94gMEi9V3Ev1zc1L43HcU/diK/i67q3j+7fLzYMi7RP4l5ftmBGew/z9R/hITx6D+iClHdHEvWP6SylqcZ++k/h6LVe3QE8T+qYoSxKAfkP/TeY1v1eLg/HjeU18vawr9AsVGp8+DuPzyZY8l84q0/YGRfOjQfm78KCVSSji7oP3KIvuwq1MG/58ETY8yS4z8kfH/3ZbrHv4itwWufBOs/gY98l39qyz/RYZ8efhjbv7Duu2SPXcG/cBEQ0Co2zb9ul20BrijsPzaDVMoJy+A/iGiXRL+v0z+ITGNFsxSlP2DqL/G+OpQ/y4IXz7lv7T+CSRR85hnzP8vUWw0ZntK/WoSDC68O1j95A1Fr+THxP5RqRz3sTOg/NF3eyGYg1b9zdTXtwQ/aP5DDX06cnuI/b6xDtgh78T8wP+MNxMDHv6DjqOuqq+I/HEq+Tof+4z8rYAocVePYvypEzvB8VOc/Ansz5feT9T/4jebggh/BvxgmzktxhOO/CF0pUMZw5D8sIJ42MXyqP7hezVJQjMg/LLo8VqbZ2T+A7qKqduF3v2ileg5pw+Q/RYrIKtYo2z8wUYMl12O2v5BEOa6KcqC/YVAV0H1f8D9Re/HiWtXMv5xaXZQF0/A/5uz4y/sV3j/SflEIrNTUv1Sc0/IKiuW/e+IwbQWeyr8+udr1TIXYPwAPnnHPYGI/MBphM3K7hr/349EpFkLwP9gEx7umxeQ/gpYEhmeExj/JVpJu+ODCP3OJp2S2ccS/4TRqiFJI1j/rc+GCw5HXP8KwxyuyPs0/4EDwcIrosz/yTgSCUjHKP2iY/WctK6y/teDwEKiG6j8o7sFIItPmP12U5JgSlPQ/LFH0sUBi5T9m2eZAbwPdvzMgiT35E8K/nbXtvKq72b9IaSMP1PjJP/60Z4nZHee/ZguHpjoyzz/CBKntkyrPv9aAN3co2es/1lFGOG073z/lPMmorVnBP8bdlIlaEuU/jEdDOkOJuT+qOJfo85XzP4b3aw/yS+4/0mkSH8PLzD/QevUJXF7Kv1YRAQtMSNg/my30fz+x4D9Cq3NpuPa6P1joa0j9276/TjUxXAqg7T8Bh43YiJ7hP2bZcya3a9i/zA54wZnk8j9sbp0DgxfxP4WzpMbVPtY/RNX1s5Gh4b+h+PfHysDhP5KUD0KCCOk/yDaTrwsD7z+M/mC35lf1P7TwJV2+ies/OmYpjpPL6j/T/x3QsX7LP6x2imxhC+Y/AmnJ4LLQ1z/gyUrHJVfQP5E+XTXWJsG/pMt5E0Ph6z8BgMJ5pFKzP5BcOkKAe/A/MATJgV4j5z/ONHYKwIfmP95gkMoHBug/CUKjpXsY4D/2dGrucPPTP2fRT+7NyvM/on668PIH279IoGyQhlztP64y5R3bFOw/PqebOYEGpb82uDE5cezZP1+o5EGoDd0/JvgerkOCzz+OigcBbpzQP3RhYBVbmsu/pWYgUN/bxT9XN/agwljZPwxpMZyPb+Y/PJmb5shx2j9eBvQnSV7QP0BikgzMYc0/Pe+7lZ9P6T9gZdv6kxGLP9Q09WjcDOg/tXUJ5dKi8D8A69PGvBGWv5VyzEfkH+s/afn7ww4rwD8DkJaDpqbeP/pi361ow8g/gnWn/XZUyT8cwdV7NjTqPwKNJk6SKMM/V3LCVW6Y7z++q149pPLdP/4wtLKmguM/qKXvASZX6T8owNH+3ojAv5D/u75WhrE/o8I3bOwj2D+wSutnnGLeP4h2tJguhK0/HigfRyl11T+4cvYEZaDlP95B/LUXE8o/MConEbyz2b+i7btJWcnHP69NHX/ByuI//rxwdD8Z4T8g9VRReC7gP0zWObE3O8w/Oa57qEJ33T8kD52Jn6vTP+UkWeTroew/jmdFQ/TW27/+Pq4jxQrNP0ofMYoXUdE/VYlTE0FD8z/g1zOsCHn3P7CWj1KMh4Y/MBDXdZvm2b8AQf7wG8JavxaiE6y1XuU/GFrkmy//xz+O8vRsuaWtPzriS8lElu8/wWFBOzQnzb+gjAfonmPiP7pStk4mevg/yE7b9QHp2D9W6Lm/nJDpPzYmb0RSxcs/TeGylHKF8D9Wcl5ymZ7pP4nmDSexmdW/J5mmVA3K6D9zkBKXHLnfPyaJ7WVo2rc/YbGg0r7V2z+4X8jI9rfDP9hU4SPY6eE/DQRFtmvW3D82j4xmMRLKP0Cpd43mJOQ/YguZdgditT9qz/hHLYPYPyboADoOP8w/tJ7JMtlGsD+uOzw1eDH4P140ibMpQuC/Nidoy1iUzT+IotuhqWOYv51ngXFyH94/DkEwFANC6z/ug7A+e7DwP8UJNV+LOtQ/VLLoxUlp1L/a1ZPl7Zu8vy3Ui8p7lOw/YA6CDUvr5z90ICGd5JvtP21IS99ibcW/Ax/oH9Q+5T8nkMBs8+v2P6SHGBH45+g/EHq3GjTz5T9UFqHz3AjMvww740AeNeI/lo2zdvsw6D/cHsHjvHXqP0zvQ/z9SsQ/tW5gaI3o2T8GdjI328bnP3z5MIFrk+o/lgn96qm6yr+iFoQHP93Fv4QlTUYb2+Q//IRDHc/BtD8sIJOQ3OXqP5muINBwL7k/kvvm7oZj4r+87vZgFUbSv57N7Nv4R9K/SA1K+VmAp7/eW3zDikLjP5tEdFaMYOc/5LLDvLnGyT820UDAa0fpPwLPHgzAa9O/CUVWphOa8j+YjIwCpqTnP5dcLg3dxdO/+eIzMxKoxr9E8B+lKnnoPzhBQfSXeME/O3Mysn9xwz+xch0dtU33P798pq86h9K/qB3MelDe5j8nQhv5a9HzP5ysE4C/9t0/5bj7z7O96z8UHXAokL7xPzJt4a3QkeY/nSY9FyAg0j+cZ+U8mrOzv0RF0aGLaL6/JhL3bSVu8T99CSoQxoHlP4hCoGwrT+Q/ZGuE3O5i7T/ACmKE1q3rP4gnv2WlAuU/1NuaEaqL4z/8oEAq2zvdPzufxGQYPd+/thpn0MBz7D9Ue+CCKzLjvwDGgCF6hY0/kBVY1vPpyz9iQg8EFXPYP35a55JZxci/6zrKHrDZ2j+S+GvmJbbUP7BsBWE07cQ/rbzZIBB18T9qtkbJ3drUPz1pRillRN4/9MmEub6izr/K/tY//GzwP8YDYHvBVOM/srqzRLq0yj86T7D4nuPlP6s4IrPwAMG/HqOYcOou5j94m73UeejOP6y2f3HSJ9C/eJnKjbqt2z9YSl91tkq2P7ULEb6tcNq/QoQgMqLjyD/6EoT6gUXKvz2J6CMCAsc/5wLe5biw4j/emlm+pQ3pP/5yet8v7sw/BJvsLiO/sz+T/BBSdIv0PzaYQatSH8i//BNflx+/5r/pQ1OrCs7YPwRqgw3WBeQ/CpGsgKPCwb93QphZ7GTPPxGF7D97fPM/pWgOEVlr4T+oqsAengviP7tseEMuCvI/qV2YHXRy5D9GEU3xcAvgP3L9cYKFHN0/03HSE8r07T8BA6KiTdTQP/DqNHBKlcc/zAwR6jAFtT8qAvNa/ty/P7/7otKhfd4/iOU3YpXv7z/ARCFo/ghyP9iUjA1Xu5i/vTS2PkBX3L9gIehRqgWuPx7THTIx6dk/beldA1X3wr+x/sOHNYDrP45LJK/E7us/Yhfx/f6G2r+65oCq6QfMP4v7Z7H90+U/+OFG4P+W4j/s4rIBzxbYvwBQzFMBplW/EIrPq/Bvo78kOkobP5vAP/2EiAkRodw/MXmpPAhAzj9JJoM8r4TXP718TKSxmNW/KB/OpbPn2D+k2TYFxovOP1dOlOFukcK//PADBVTT2D/7GBhgmFTdP7tiAlqta+A/tqUw1ABl1j8XP/lqOcLjP4UWnHUsdts/pTQK6Wui5T8u5YS0QRfXP3ag/hTFs+k/Gp9TMPkevT+8nuuAr3rTv3REjXDWm8c/wBYwtX+owz/KNtqrF5b2P1hqzFyd5O0/utt/mRji3T8AoJR+PcAUPzmfLoHYyuU/O63KxnPR1j8gcIJvZw+5v1IbmuVDLeI/uHDBYFvQwz/5c9dxzc3fP9qn2gKHYec/oe3ozjfux7+IJEBCvWjwP+pxU/S1uOo/X1TxET7C0D9GfRFUB2D0P2WREc5lq+E/wk4P+5OM4D9UoxjQabDkP7cYImbYW/E/C6ImCSzL6T+IDnRW90jRP1BqAhCVXJe/uAsBvRbWvT/ovbBAEKrGPwDMrgItcuI/eWw5IG2vwb9PE71n8uDjv7BAVjnKzZI/NgyKnhsBzb/kWsCzLyTAP2hbnISjR74/2yN12cFT6D9efqUxCxXMv5IcZE2S5cs/7CBnAfjI6j+Wg+W07Q3rP4VEBhXx/+w/3FyERbRK9z+j4DPglrzKv83onEsf99Y/Rfg5U9oxvT/xZHWrVI7hPy2KjBo17PM/cVAdstWH7j9OLPV4++T1Px5wPk7dSsM/9MjsR7pS7T+kza7mPDb2P5yq6tHTPOs/bSaAUWC92j9IQi3ezgCwvx764IZJp+E/vgjaxp56yD8248n5C83nP6Ovmczaoek/aFSJwk25uT/DuVihEhDsP4xZKDM9FbQ/VWVsXdne9j+Qdj39/l+vP+f6yPk8lM8/d+SmImt43j9yf9ctu2rmPwkFpbKTGeg/gHV3Byytpr+aWI1LTBjAPzr+VmhvYN4/4Blh+H7Y5j+A627Mjwy5vyg01JFS5us/FIcdZDZv8T89oEI1z0nrPw3/0+fQ6uO/fPMmUKSV0r8+bE9ySqThP1AWRPepdco/JUiw4QhP9j/Ooff+irXcP9lQ/6oJZ+c/5pW8nxuK5D+gbB2nkUivv/Zkb9ZK3/I/Krg8K5mAv78UxVWO8tHUP4ypJefHNdo/GGrEiu2Dtr+UDlkAKTm2v8rnme0eZ9S/VdXO1xdD8z+m2bTlfSjjPy2jEDfd1+E/gTBVmeyF5z/0y7pvgvDnP5oPKnf9A7w/2FB1BLaQ4z/8ZG8i30HuP+J/Z3COltE/FM2SIwdFuD9YH+jsXpjmv64QPEFjBd6/xHs42Qat9T90Wi3THVjgP4TuJXS++bO/6ET2NQ5O8D/NIUrFoH28v3Id3frYduk/6BzRUcLKor/g5ijg6WTiP5kAqGVgNcy/xljlnjx14D/6MYfkncHNvy7g+uZlTNo/424o8BO69j+QuIen6z6gP0h7LyGEe+E/dKYX9DuatD/sN3gilx69P0GMxEitW9g/zBK2pmq+0b/StW8dpqnZPy74Y+fNm9I/nHnXGYGR2D+gCm9ZqyKnv8a8H89MUdU/bpgDiUru37+2yYK8pzzUv9KdwlAmi+c/jFM9Z7KQ8D+QQ2wUqpLtP3yeqeiZkbC/7oqpYSyQxT8rGuL0FYjvP0CTAKBjfI6/0T/SLJkB8j/cKsoSvuTIPwBSNQN6BH6/KfQcVb859D9TpPCH6PDSP/jzHYktzbk/cqT7NaZhzr+DHT58G830P2Xd0sXpVdE/ZNTlnsAN7z/67m7eg4vGv4Rn6Yl57uU/pRjPER6E8D+VWxHSdjL1P5ABcNcqM8w/+uoXDDnEs7/+2eevsOnXv5jONp4rnus/c5nrwBx59T/JzHqE02TzP6NHqcb2Ysg/alh1rwTK4T/COfVkPX7bP/IrlF/v8JA/eW/q5Mvb3T/4Rwin/oPgP7qndqx1ueA/LhGg60+92j/KxriJMELQP9w3jg5fm9+/mNVoBX9X7D89Mc2pMkrRPyo+AJn8Vt4/4bsKsu5P4T8SKM6RSlnivyQGyieIcOU/1Utn3OZz8j+jVh6jovflPwLj7sBBGPQ/fE2gIOYexb9u/6oYAV3yP7wAZ8P3wug/jwxtAAUh0r/geDpyuOHTP3hyOu9qPeo/kMe1b+ru0D8OkPqVcby9P0z0AgAZkOw/rnI+WiABwz9XweTdCHziP2D5aRL4qKs/NLB0R3QP6D8gqVewUK2fvxLnydM/Ge0/sr0Uo3zi2T8/tg6m6KjqPzBTznc1cPM/y41vZ/lnxT9g5U5D8LmyvxyQ8d82R+e//FJz/jqd3j8k1lztkf/tP8TSRElIAOQ/DZpNIuAg6T8gjYkwb5ryPyRPmm7VaMM/P8GBSEXew7+8p+O4sULjP5nI3MnUL+M/mUltAhDh6j+zEEEQbN3ePy6H3LrWx+O/tsH7SdMN6j/8o+xSQ4z3P3FkuciAxfI/HGCJYGDh1T/QAwqCok30P3HzstsPB+A/pDXg3RWLsT9ov9UjIbHmPwtrbUAshNo/SMxyfPbzqj/AzRCqFYSdv36EgPBgTca/Ndp9j6Be0b9Qv5dO1YudP5pD09Rufso/nLugXzLh4D91l7Un1tvvP+bbIGrPMt+/0N2bNrorxD9QjtzSLPqZPx54SVts2OC/p0swpJi36j8ELrM0iGfoP6Dpre7zpZK/7nDHYxO26z/Sv9Z8EGXgPz4Ps4KMLcy/mMlJQ5DH6T9UoRSzQTywv/fgk33r8c8/d0nMpVwNwj+hqw6+bJ7cP8BqJjpyWJc/xBRR01oM5D+AJscr923Vvwd/FReIKM6/W+UR9Xrt8z9QupOE+YvXP6PTwYYGLM4/PRjz8yEP5D/mAI/oBfO6P4sryToYCeA/UEsG4u217j9pwTAmMtPvP/hWpmNgzrw/6NzTh6sEsD+OxX0oaWHHvyF54IdGB/A/khHSRvFK4T9LaVOEICTVP4BcxF7W8eE/ecdOL+Fo4z+m7eMQPg/XPyKVDUJGbuY/x7X+MN4t8z9lKzw2aZXgP+jtRP73csE//5vjcapJ6j8xn+f2eh3pP/BoJEbXIsQ/STtGSvIW0L9oVnDuvmzkP0NBrzW47/Y/OLm5UT58oj/YrjHZVTvoPwa2DuTHUd+/4l2mcvfe8D9BLl/5RSbbvzjB8+0nu5y/8DJ+b0qWrz8GlETYQWzjPw5/oRwHU+M/JVDpjUuuxj8k9c4kOdLSPxRzC7jcvOE/EgNWtdCE6z9mC3kyitXQP2SnNxVyjOQ/cEPK/xvt7z9wp/iIS1u2Pzj2PmfGAeM/8o/QfVNc0j/mFyQWY7HoPzDe3ZhR25m/3CVL0c7Nxz8hLTdSPpfOv1SvLAdpmNM/mq6PzUGB2T/0OW0tlNO0P5TGXtWahOA/BHJi3fnt5z/NcoyVxjfAPwSJPPd5Cbs/9EaJiC1A8j+aAP1xuBDQP0Y7hH6dwNM/Yhx6QU5Wtz8koInIV36wP0RF+8FZ+b2/AHDC1JnDgL+lIvrCxvTUPySsdjQfi/Y/o8UyFp9F2r+tcED8fgTVPzsWXg3by9M/GEEaaaAf6T9hYiv9DurnPzLRqfqLf+g/6rkOVH5w8D81Ewr2BIPuP3SMlMlaQO4/mtCZ0aGq6T+kcfclWnjSPxyX+M6lKu4/6qEKtzRWzD8ot5ZfUVKhPyz8S4reZcM/Wo22TR/Y6T9TUgyriH/wPwm22I8D3dW/AvNQ9OYt4j8oj238wZ7YPwOY9zNQl8U/4GCmvbcboj+Pnt8L5N/tP0p3p7n1HuE/EGA5npeI0j9DTB/4oIP1P0DF6NOHUOY/XEj82fQj7z+VQTy4JhXkP0FOhM7g0O0/o47TmISI0b+gcxQm7P2ZP/nTJfQVqcY/DcxMl9ML9T9kQfnEAbfovwaosoN7V9+/iBukQP+N6D/kCqOGgvLgP8RLURG06rw/VNEx0XXO5j+iwsi2cvjgP7+GXjKzkug/PryUlu9kwz+eAwz7/C/WP36ZHQ2GRtM/ZDuozqNA4D/m3n+85rjPP5ajZMeL/Mg/SojNXwSvuj+VBfbgWsPhP+Z26RtyIM6/YP+NjlEv1z/g7GwTiMGKvzLZfQZvAdE/iJw62uGirT/u5Mjj8KDUP9inHndacZg/DM8uf1DWwD+PLSsjT0/xP9q/4LvXpuw/5DqpdoqTsj9YWlZBnBqlPxi0lwp9SMs/yGkP333Q2T/A5KmbH5Kjv87j/RkDA+s/Yl558xDK+D/ICpHwmADcP4WqBFxkr9G/pLwRFL6O0b/Uk94wfQDEP4lHsD5jmuo/oaIj2hnc5D/OUFhcVwfqPw6srpzHYNE/zBi1/+R32j/0Ck7zR+jZPwBWkJSQbkq/SMvgOqbh5j8e81DlutbyP1az9w6U9+K/dGOChJrZ4D8IKq3ZvpzsP6N+MQhobtO/PAQwcMXM6T+AZDmRi4HBv3LiHvLL5uE/5KBhKUV30z9c2AQNADTfP4FfA4FL3tA/lfk425SQ6D/cZBVEPpjkP2weizh3duM/dMMVyeROwT9SUjWR5WHhP/hA7wT9g+g/SkJCb5U45z/myQVUeQnhv7AlqMl+W+E/DDbgh7877j8w97zmFTSvv7wGKoepvsc/xjwUIPSF8z8gIfdS+oSpv9KSchtvgNI/RNExpQj+uL8+pTKD6TDXP3AhsvPH4+g/jPrAeanI3T+V/Y7uCo3vPza8Ncm4gcG/jiL2NNYH5T/AgeIH80bZv1ZW4PYcU+Y/iERhzLopuj8CJEDMWnftPzuMdcDa2+g/LXnbJNZc5r9YV9w2T/+vP37srqkGjNk/CPQkvyw57D9h5YhYQFfOP5kHcARrLfU/rRcY6qoi9T/rRPKyf0fWP96+JHcvZ82/SoEGnkME5D/+aU2yKEzmP0CLDrrIw4S/h7okknAO5j9r6hqmTQ/2P9IN3gnWa94/kc0rRMCUzj+lkgkYn8TmP0VGhgwiJec/znW1ql3K8D+MC120mw/YP7ooxxz578q/nQKnaGPK1T+yjn5zugvuPxa+bxXs3d4/V+E31drX5z/snOmmsbLXvwlFLpYsqto/aIFdZe5h1T/7m45YFRPVP3QclUbNdOM/wH7ilY2lvr8uzU4XBPDYP6p3v8kh6sk/hlTQO9vF6D/qwspTb23XvwjCS8evy7q/4CuwoqD4gz+8iPqCJATsP/sbHDPr/u4/SEOwVG0N0j+TMv2k/evTv6hLgZAr6KG/Of1WLBmK2D/AbYue28JyP6VJ2c4N7vA/yjhYzKDK078AYVhUlpZiPwz7d3/w6eK/ofEuQ3kc8T8pC/YLnW/gP0Ebng0u5bo/hIVDs2sYz7/RgEo8q/XgP4irvIJ01vI/LgRuv0rq4T/VBHrI+O3mP9yTd7YMXPQ/QYuGTb4V6z/2azgElq/KP/kR+owXBdo/ujI469LH8D/O5ETD3ijAP/zeHP2HLb8/IkSvfZDayb8dg9sxqRvhP2B8P820rag/YBAGUWm66T8Km0DoG2Davz5SRoICo+4/YsfnfmwMwj9w8EmDrPuhv0CouZWOKLw/a2n5BZGz5z8AKVkKt4XmP+hlfADLztY/jDtuu44h0D+3iq8unfjnPxXOJB5JxOo/+BlQBC4Exj/6DgBxxcfcv/B8M+ETT7W/S/TTyH6P9T9IlLLYCSLGPxJ1X/ZOEM0/KhX72wo63b9FqSTQVL74P+jyC6JkUsk/2lbjrA7txr9eeAVH5pr1P69KihJxtui/qhgoJQZ9wD/Vai4jD8ThP40ua5U/WvQ/wGwBXG50e79QggdNiEDDPwYcF5rd4fA/DJHHUaOLub/LRd0cWVLrPzWB9rY3IvM/Qp9zuLPC7T/x1T7ZUZPTP+SQxtxhZ8Y/+r1Zo7ot+T+oK4r7piKVPw7BvOD1K+Q/MLS/JHltwz/vphYgEDnGP0L7w0bxyN4/gjr9XBee6L88qOJgxWGzv9RJabLlWts/AOTn0ux6yj9s57iTabnqPwjm2CPzX7Q/c7tztAWh6z805QjiMwXrP+yLyLJMENq/eBTSATIBsz/6UFlf6aHTP8B8cbM2+PE/1mn7WCL84z9Inwf1lGrbv3SNZD33RrS/c98zMtq53r/8lfpkWgbkP9hObfx/F6W/JoIy4OOi5j8ACCZZbFVCP5pcZ0Z02cM/Ng6sCBAZ6D9sVws7gM2xv6yf+zGqZ+w/0ptu9uJov7+feJnthuvqP4K8Wx+w6OA/r2mkM3oR4D9wTPeMEx+lP4Au8k4b872/fsDCGvZ34r/4Hnrd2CXiP55llBqXy+M/Gkpt2KgI0b8cLiVpCV/Rvzp3KzZBX+4/ScnVcEQd2z9OOw/WAHq2P5LflHZLLuM/97oP07GK1z/URhLZQ0voP6XP2pA9G+k/8y93akOf4z9oWr5s/9DFP1KqGwG3Nec/WUgu5RLC7j/sEY7yP5r0PwtLhO79I+Y/XI9TqNiI0D96Ydz6RwfOv0+qER4cLeE/eAGJO9gJ4z9hmMxaOeTDP665jhD4ocM/KQEq0XFK7j/doPwTklv0P2SvYqswe+g//e7h/Mtx5D8n3PBRKU/zP5iMzUlDj+8/G52BYYVx6z8wNvQvdqHlP3j2kCj9wvY/sh21cRAn6z+KEwOazOPcP/F1KNiHneI/NPORvdu/0T9YaIw/JXXTP+yO8yDZ/+w/ENU2FbT77j8mfz+attvbv+Il9ucwALs/l6ogbrgu3z9ycjlNpxvav5xJRYY1zug/JD4dHgEAxD8s7d7iM0HhP9rBBP/CbvA/GHvVsyQgvL/UJ/tEhenEP1rWMXCJU6A/w8tWCMvz2r8jmr/It/PmP704eGBaWtA/HmrB9mjTxj9a+iIJadfyP/C3j4hzka4/wGAUcwhbvz/giVCkNQXhPxUQPRl+VN2/83L5Ub/M7j/gfLiiVKycP2baKT82kOG/8HXPc2zljr8mbO6d1JnrP5DMg24iuck/HsB/5aNV2z9FgwIuR0DZv0OyL3K6Xfg/QuY74lPQ8D/L7EoBZwvmP7DRlGS0aZA/TknTZo7Evj92D2F2cl/kP4CCRNN5FIg/VPNYePwCyD96pq2xgb7iP8uofvXEXs2/kP9v+P6E6j+OYkIAlJjkP9W9eICLSee/jBaPZzxp5j9I9NQymLaTv/SZRpvysNy/nPkYCvGl4T+oRPW4ZijxP2emHwX8tfM/a53HlFHE6z/yRm4QtDPRv8Zu0rsP3Og/EMyt3mFU5D8j9dNj/w3PvyVLlsgoMeg/+r7aEzFX0r8bLFD3Hr3xP8TlmxUyx/M/8rDVkUNm1z9PTlf4NA/YPys6MPnOzvQ/ACzWin2Wbj/mFixm8hDSP7PRRt5w/ec/KIFcBL9Xqj8nn6EZGR7fP54CavNRwPc/ye9XJbUj9j+KXqeqhbrzP03EipQeCfI/OCUm2w3H8z8Tvy6GryHSv9v2faTdB+E/kG9cNe3ior/tuo1cM9TaPwglBQfOj7S/Q9W9Xn9k8D/wTWXr/3uSv2B1SReZ/ay/amCCJqEU6D+gvxtXgj6+Pyj2Cpx2T7+/zqoqIvP90j89wFrkgM/xP1AZ3ioo3Jw/VrWX6UJ48j9DinpikgXcP/JW+7DI/+E/wIr1/Q8J8D+I/03PQ6HmPxNOiGPKF+a/jKyOs9mY5T+WnQ3Vc4/dv+zAZFOqROO/xsgl9J165z9uZ5CsSHzAP9NlySAxVvI/rksK5Dvk9T9i7dyUSPGzv9w8DlDopNQ/dyj+EQZu1T9mg439d2/zP/g9ZhJ0AeE/BoFVS9mz8z/UBTJ9DMPjP1TNj2U0LLu/Gidhxtuq6D/GLwMF/TbcP4E67gEiUdS/pjbeQ2Ptzj9GCIkEy4zmP1TG5u1QLuU/D0zgPY+Q4T9KFoLO1u3nPxy6q7W59Lc/qlZqxnCW2z9wLX/EWBeov/1fA6AA5N4/NugKGQ2+4j9uAJhGpFD0PyZ00u7FENK/8uZwCFyu6j9gS3NmWyyXv2lldXrJPPM/5Y3aE7bi1D8t8AZ1MOHEvwB7Yr3TnHS/rCS4cPwCsD+ZVcR+U/Dav8i+LvXEsqg/aKub3ags5r88UQlMDU/jP56Te0wxjeQ/JmFPj5Md2T8AtHXxOkJJPxa6xXYwsuK/S0T+m1pP5j/Cx+3fSgbwP3LOR0cX6dw/hGLydXeZ9T/mSeOH+NTQv48bz8eN8uU/pBXm/y6Xwb/2cEbqdPXqP+A0G6WdWuI/ggFd7j2G6D+AWrjdcMrsPzptWo9L4fQ/cyEqS9zo5T/q74zBtxHYPyyP9dUaV7c/DOr5ScR94T/Gl9vllk7vP8dDY9jHbvE//cC8HrwC3j9G1BDQUk3ZP1STf8a6IPg/unCbBiEP3D+uCHM8I4XmP57MNLCmJuO/YDQY+8Sy4z9ep4Aizu/qP2nE/xg7NfQ/T/cOFpsf8z/dfFmFFsfrP9mZzag6fOM/JxNRdpsi3L/wXqEoUdGTPz5lYJK5RfM/ODAbnKTxqj/wNjedDLbZP7gPFNmXbMg/VceF0QUm3z89KSjc5mnmP8ZQSClUnbg/uH/pbBI14z/lBRVhVwzoP1H3bv4U8vY/bXZsFcZu2D+A0oubF3PsP82xvsDmjtQ/Qa4yLhaR2T/Tr9B2T3ztP8wshVw/6dE/UNnijHfT8T+Ckriu13rVP2TLZJLAcNW/35KOXLIdyr/MA3zEDKCzPwZb+rSa69g/rO2pokVo7j9EYxzcEcrxP2zkSr07mug/6EWXoImVqz80Eppflk7xPz47w+RZj+I/ECUyXhuF4r9YuWcJK83yP0DYnS8zMma/qPppQjXpwj8o0E9omxvYP4EQoa0wWOc/iCABseSytT9CEgyY1NWyv7J2zqNqeso/zLOsqMr7yj+5eixhhvbUPw/agB7fpeg/ZLGVd/OZtz8WVy/P+dPZvwCc2qXb4HA/8iGwPveC6T9fs8KRBza9v1pEEaJoqtW/TMrgBKYkwr9EMWzcHHzjv7hggETeH6+/rYKIXtilwr9+jZFzAV/GP8TN0rKMSeE/f+Nvvz5j1T+WZgZzb//KP0epFXmY8tU/yB9xKg+1mL/q/G3T/+fVPyYfm5lS/+Y/XpBHlZJX6j9Y2x85dAXOP7OBFEpmNN+/ppbRS0nn5D/0tFMXrybiPyK8E8GVad4/s9GkvurJ7D8ETFLz7A3fP0815EGphtc/NVGVdG4c6D8Gnj0QdgrkP34mrjlrJdC/f2WG4t9w3D+Js9vXWn/Qv4Rk9msOZLW/XIxpa6Ew5j/CcrqfKSvmP1jHNQjgQ+Q/0lbqR8CZ9j/M2M/nRyPEPyymCJd7T92/DI5eilKlsD/comvDpNXoPyE9ND5Mmuk/lL44QXLT6j8B/IOgc6vbv0gq8dJp+sa/sJHM0XFEuT/dMoyj5z3nP6g5ZNpWafA/cOUWPLnVrb+2GzEadNLtP4TqlSxutOI/wBPb1U1e8z/VPXJ3kXnYP3qmE4gEUPc/pIT0/1f3oD8ePnE6b3fBP3EVLyPI2OU/DKpycSfRzj+S3rEl3QzkP7gZGe5dd+w/zrZ8NGA1wb8ZKYhe8Z3pP0C4sT7EmXE/HgAwplmo6D88DlIUharoP0IIGglJ+fM/aH5m+T86079HFF1kU6HwPxRu8h5lzdk/7uGI3LEz6T9YF62PYI+TPwDhlddzCUe/apGlR44lwT+qJMnecDHYP/IvA3ZbEeE/i8xDCWMF2T/IRzoFQOTfPxfBBsXuEra/zh8ba3BjxT/im6LxbQ/pP4Q8Q9U4xdu/TMnIymLL0j+LGrCyA+H1P9o9QT+Q7NY/KmEolhkE2D8xZ4bHtRzJP1AsQUktv9U/oMcDx+Lrn78VgEn6T4PhPy5vp5sblO0/bkoxJypp8T/0QNAsE+nMPyzGmndDZdQ/CDeAhQOt27/M5Z16JSrIP+zplA4eLMK/nv/pAHP+8T8MNAqcpSbLPzKj4cw7tue/mnMK14n8yT/zgAOHS2PgvwGTL7TUR+e/TqjwlBj/4b9ml/NxOy3zP1CJEai9Spk/UTPZnTUgyD86DQmacXb1P22IpRcEaOS/mzXbfuek6j+k3cH2zpXXP547TJdbLds/ACt6tjZHgL8Co/8JdIvWv7HpmoMQ+dW/xOGZWsoN0z9CmOfphPv0P8o8c3Y+2eI/4hDKdpOU+D+gHscfjGroP1IEYsN69uM/G7YQo2LX2z9iMWdnW1rNP+5faJpxf+s/ChlNobDW579BWN/HDZDyP92ZDIERoOo/Fhkhvy4EuL8ax0Us1P3APxuSj2kxbeQ/L7jGWLPs3b9dozPaBWvwP0axnrkn6/Q/2yhsRFil0z9uJ78AsO7Qv8insg4szcw/rCAqxTDZtL+oOgnRLYftP35uNoAnIbG/8a/wJl93sz8707DRIia+PxI9cERK9OU/cPEnA68imb9M3cnlRF3hPzzhs+9EuJm/1FXTC6j42z8cEcDjY0zvP15H6Xb46+Q/BXEFx5/Pxr/svOzyd3WzP+Ivhs/TTtE/asmoVBch7D9//xm/itrlP8gcFBWMi+o/aPsBc/qyrL84GEPky4rUv3UYQ269+uQ/f3nD11Dl4z9Sb6Qf4KXpPxqZ5vbwUMk/NN2eL61d7T/GYv7pjBDnP0YHX+MCce8/XFN78Ej12j8BHT7l2BbWP1fnkw2CNeg/8PPJxpCE9D+vWaLKCynmv9D2fbLn56c/JB99Qum70T9KdClYg77yP5BeBqhkrp2/MaXPZAey4j/oN0gg46zgPxQMPq3ons6//EiEh2OX4D+2hukc17Oyv5zhzcFMJrs/ll9vAq+l6T+VXglBCAzTP6C1v7xkSb0/oX1zkRLJ2T+O7BapC7/SP/fcBgBVXsi/rEKJ5CG80z+UtO2+4t64P8ZkgLhheeE/7rX0Mlwp0L/d352xpn/Lv22HPswgxtO/HaLbbadh8j943Taeor7aPx9UyRCpQue/G6B93nfS3r9S306oUSvjPybbYUzVecM/bZ7KYTRfyD/vsYZbvBHSP7cY2ni69eM/sjPqP8Xv3D9bOS1YejjaP9p5X86C7/E/fkZRZTXs5j9IS4FgJ47vP899LiegINo/lkaH67zd4T9pWHQd7kjUP5hdtFkBCMW/TmU0joqg0T/y7O3+dAnkPyhFI5+CmdQ/5CJabFuG5T9hNlo/bfXSP1xSlgCmv/E/EZFtAYXR7z+7oYDvOHPbvyzVxv6BXbw/ofpuC7WOy7+N/tZqrEnmP4wS72VGQN8/2r7NZ8UFzz+3IfXLQPH2P+9efXaOYuA/eVcCHBsh5T+7zXTPI17sP6gmJA4xwMs/uHNe9djgxz+Ak6gxSLiPv1BfriNCz+M/aBlUfPxt5j95vmgD687TPxu29q8ykOK/ct9xQWGdzL+ULCqIiKTGP5DyNcdWgZK/CoGn2tDh4D9uIOg/PFrjP6K8rH0QjOQ/XFFl1ZBS4j9vwhF/qGLXPwhCY28yHtC/IpaEkQEu5j9BACW/uDnZv3RmW5x/C8a/kH5vY4/J5T9g0wLGpNbEv6bGTEMD4ck//mKS+okrxD8s1GsFJivPv5zUXqksn88/BoedfUqV5L//w3F6IQzePzScd3LjQuc/elqZ/QBB7T+MFtDJp1TpP/VqN4raNtY/qOazqim49z9cYCBJ1pGxP+DEMzZuvas/mpvNcOQd6z/kBZGFp/mpP6IMfxJ8wuY/u6JcnfAT0z+eT4p3LmPFP+jtIEadnpq/Ed3s3xU+xD8mWn49dJrmv3S4cKg8z/Q/AScm/ELP3z/MSFs4beDEPxiUh2LPj8S/EC+em2AnzL8Fl9dcKU7lP0/T3c6yBec/04Ac1lcI1L+ijTXu+YzJP94eCbZKnuM/FE2dMbIKxz+RbII5mjH2P3H2o2645uY/tPCS8PlL5z8VkfaYN/fEvwR2fNhJleg/ZoJoxiSM2j/uG/gdzcfpP4gLcrNv6t6/4hVsR/DN9D9AcwEAFabfvzrg8wkC5t6/wKjRroseij/u/vHuWCnYP1PZ4kttVPA/1ZATzwbRxz9ZpB6uBZPXP9rQrmxZLbA/1hvcJ8y96T8yiUA5SyzoP2rQY7PR+Og/TDR4an2b6T/7o93ARnrXvxpNMr2bQc0/vLTgzZtbwr8/Ab+FQyb1P6G0IgU8H9S/aEFU0eNU1j/vgCWQMUTxP3XFo1XSyfU/RdEZSIxI3T/XskOL8vzhP16YZxqsHOo/peeU4PYt5T+su/U3SM3Zv2nYrjcMpOM/NvmrEFiB5D/Arkl3ftjRPyaRnppyh+c//Tcp26fM2D+agUNPPxzwP7IdwdSqQ+A/eEuKrn3R7z/zbHHdGwjbP0i0rq9eLLS/jcliAOQuwD/Ghh2iN93IP7YULm6iDsQ/sG53AKkryz97gk34nfLyP9B+39Gx9qq/MA65WdBjrL9bTHjYO/DWP2fmqDfGZuK/wSc3g9rv4D/qfGMmJMHDP+tXKhjScug/H50ty3hB2r+AvTB5Hq/hv4Y7CDBvf+Q/kun2Hpzyxj9ua41hLh3XP9IHQB6jZeo/eCN8fi2z1D9GX4e/zNjJPziMOwN5ms6/KO79lCxvq78aU6QWhAm+P6L4Kba5EuG/jljYhWBK4D9Au1j5DzKEv7z/pewS8rQ/l92PffUQxT+AS/cEAzfQP8RTW4Q8T/A/1PEqZIUp6j8i1Z3hUiPlP3pjZYIkOuo/A5aeLuXv3j+4L6m910npPxDCnctLZoK/cP0TyEeZh7/YPd2wW1/Ev0T3FT69IcO/cjmmUH/Pyj+5Io+/JRzTP7KxNrW8H8s/Grlj8qx27T/bEwiRHqXIP8r/cG973dw/AhjPXv/25D9IgJOPxQ6uv3CfHaiKmp+/4tBbgOIi+T+s3w54YpDPPwCHT2o6/sW/AETF4P0rGT9xLaXh2xnqP04dnc8oVeO/5oIl95s01j+YW8pz7HHNP1ORqd9LGL0/+rOpBTxAxr8KRhc15unNPx+A/3qbDLC/9Cm+f5g7vz8ysVepVHTpP8BFvbbXP48/J+OvIPTonD/qGMVNpJ/hPwzZhdTzwLw/vGfARsLk5T+sc9V5iAHHP7irSzHNX7o/gOwzXvJ1jj+/0kgumCPyPxCXEvwNQK2/Al8gqYk98D+tZcq+KN/wP3C3cHjNfra/VKwOcHzb4T/cNpOGNnTYP1RvEj5bBOs/VltH0wAt2z84OZcPVkHIPwsN0vdza+M/AHB4r5c4Lj8yPBE/QDTGP3iJeSt3pcC/Q3rb924R5T/kHu7raeXQv7CsPuUGI/I/XB2WjR494j/KCctUm9a0v9mQxyFwyrW/QYRmmEJd2r8ACgPPnjU1v71DKkASkuE/yGbmFjky9T+Y+4DZtE/qPwqbHgnq7fY/UhJJTwQw7z913O/5HN7Rv6C8aNz5E46//mD06hSAyT9iaRhixpXiP4AXfJ97Ec4/xBn2lYOh8D+Q6Bu3kKXUPyrVH7CSocY/NIIcOChh8D9ppli5rov0P8sqTL1ntPE/iHDKM+PO2T8wysYdJZvdv5CSDVB+Ppm/E1Ank1b08T9clEbZ9KvnP2yxd+iUFuo/qDgcCPt35T/ApgYdaobYP9ARnONNytI/IoKw1t+15r9+xnh/tgblP0LurAHDgNo/NEigQHEkwz+Njn98pCfZP350I+5Z69E/u0ETG5HP4z8MMlkeDqq/P8CPqoagz6C/0F7CWiQCsb+ojOFYcpqfP7sIQ0UUJvI/aG9gwNRE6z/WNPjPITfxP4rqlrinOdW/DIEmswB/9T8StPBTnWXbPx4OsebYIuA/XnsHLJ4Q8D8AffcOy6yQP/9jejBoKes/kIU8ZGIh9j+8SniVDBa1P1Qvbd9n+98/K8erOl704b+mHmdywcXYPzIlo5ynVNg/muPRFQn+5j9U/vCEyq/hP2JSQ+9P1vg/n0uYySsE4L+r014MaEvtP57UG93ZheS/nO1daIcH5D8ebkz79k3hvxn0QikLDeU/DuXIlrW64L9flAyRQZ7dPyLKm9S+R+E/LOWFUBmv0L9otd6B7h/jP3yUY2S4esA/rPSZKmLK4z/WsNm8eGLXP1qhVNuvAeY/WK+ZpPe+4T9qc+OX2dr4P7w3w4QOLeM/cPQccl421D9Lnc/tA2DDP1y8eff6tri/0FklOsAs2z+AvSimgYVhP5pX4l3MpNS/+fQxgdq18z8mA+lnwHjyP5hfmkccuMw/fqMC8oVZ4D/gqLvJfJzWvyM3lu7PX8o/KA2D2BxT5j99h9XK6lLuPybHSamp9Oc/pua0z40zzr+iQiAe0F7CP1Z6LOigJuY/yIHR2mBqrj80L1urqsbmv9gjjFgCu+U/wo6+pJBVuj9wQ6MV79efP860Bb/kWs6/BwpJ/CLGyr+xqDUwQ0rVP3j/wW9++/Q/MiqCdJMGwz/SahNizLzEv6arBDDFWss/mHTbhm1ov7/eCn/hSwrpP1yAd8TsstM/lDIUHrXP8D/8bT5PI0nAPxwzaMgV5/E/O9Zl5PUS0j9mlcCBsYrJP7ja9LD+aeQ/qitRZ9HS5T9nky7vwXTcP66heUqEsuM/5IWGrC/98D+wZT782CroP0ig7G22xOa/Q/zmT2/K2T+PsMXoure7vxAjGMFoT/A/gz0Dp0XA5D+M6ElRXsrJP1Efjj4QXOA/+x4w5HVa1T+UVTL6osPdPxKQB7eS+NU/B+KpEY5z4z9191KQTmbaP+w8bKncNOw/OuK2asbT5D8Kw5OpfdvBP8LK1DK7MNS/2JknLuQq9z8MF2sBDuPcv2ADErbKguE/sXIK/Dz35z8DZNfMdA/PP4p4YuDgwti/FC0oKHmkvb/SVcb0YbfXP67TlNOGdps/CAsF81I55D8673joAGnsP+wf9QkIkrY/0dMyiEq03z/Xhmnkg2jqPyc61ea1keQ/0c9MYwK61j8+7m0b/Q7sP0iz/7Qa0es//a74kx4jzL8pN0QU8nbrPwB7V0QKzM0/gHKb2hAv5z/IrPa5arW/PzQFGzwi79Q/79Y8bhGt4T9ApBwBVfleP6JStHCtf9G/+Ox0ERRc6z+9Rynyn+vgv9FL0m+sbPE/4x7zEFVH1T/uth/WOSTdP1sq44MGo9u/LQW0BNb18j+MC3UxUGrFv1OqzgO8GeE/piH3qJ/r9D/JTFos1YrJP4QGvLQUDuM/Yq3fywka8T+grONqq8mVv1MYAqtIrNU/oAKhakP01j+CNbOgGi7lP6al4q6fN9o/+mlwYpwN0D/UdmksAprcv5ir0r5a6aQ/wIdyz6yVf7/Qyswonxqzv0mEyDVPnPA/iKfyuBtP5z9KqZ+/8fvlPywTeCtIq9I/QGHnqF4Frz/C/8aXMSPSP7nZAvzzU8I/gzRl1cAv9D8mAo/K483uPw7I42+7kcQ/cbh21qEEl7/+HtKvSX3Vv9xE6J/lMOc/fovteWkM3D+ioYMDkubxP9N6XbiVke8/gOHuHV604L+4U8scsYjTv0jQBMwBpsu/BkmAxwuc7j/IyVXRUseTPw8M2fvdmvM/aT2wtnez2D/dYoGukEjmP4vgMSYOIcs/ioj78g7EwL9QKY90xYHhP21sV05hTto/fj8ce3KI5b9s+GzCNVPtP8tJHkjUJ+o/qNcas/eA6z+sqthMfH7nP6Js7RWOJc4/IUVU2RBJ0j+SGZMbcjHgP5gx395ZWNq/k+a9XGCZ2T+q6hfvPIvdvwi+2K9AHdM/9UU+Dd2g2j8aJCVISETGP7W4NsZeFek/7tyJj8u+5T+2GexhydflPxClKsxqGa8/W6PAAxZM4D/ABqJNefCyP7f2JAWCA+o/6EPOY0gZzz8YkOioyanJP115xQPLVek/KI5YXFbE7z+KP6iFPizSv/SnC4pgyMC/kPMWJsWmv7+eOIyiSj7Mv0qq8/rzTMS/7BLOvIo23j8uz2ipGRbHP4naq84pMcS/zzbIn4iS2D+Zs1hvUfvmv2wkYmz7kPM/qEzaTqko1j/+Uz0s3gThP4itHKnArao/xbKS+0zP1r+SCoBK8//SP2rDcD9uwdQ/miRMtDcL0b8JyH0ITYvnPzTxa1+vCcW/7XfDYYjt7T9eI9BuInHlPyh882tGEeY/9oluRo339D8wA0dr2griv1HBGcxPT+4/0hOyUIwcsj+QKDdXf4moP/Zt548kkto/7XwvyB38yT9sHp65F0rkP0DK1K13Vd0/8JUOSV+g2j/Qa/tXlYXMP+4Utn9yqec/0MM1O7tC6T+od72FSsPlP6ilR3w3NvM/b5rbm/q98D9Fj2iM2KXyP3WvC1XfDeO/BdAih+Lh0z8gvqcQxsHJP15OGeBXkds/TNw/XqqD3j8AaM7BbfuvP8CVk4RZuL0/Cn1/6u1PzL8mqMOVHXLCP/gvPBrGw+a/xjvOQAn44T9UNRHAHt++Pw19jxXs+tk/Wzj0IH8P3j+48+OlrC3tP5ySyXl4Vbk/FAGDZptv1T/uax/Mu5TSPz7CzKOXwbU/Mon4aDqp6z9kqe6I2jjqP6DN9rbgM5W/0kfRHPXl4j/TTA7I3CDcv8BdsCsT9L8/79ZZCfoP7z+kC4mXi6W0PwP73yVrN9o/vJYO60ql0T9mJBwQCQLqP31hONRTFOG/gHfZLfx6tD/slZ8W3lHjP2U/LUQs5e0/2BxhLURYob+6a8mhruDPP0yOc/CCV/k/RyO1bTZe4794+5JyEiOiP9GXQqjGqeI/OKPzxP5t0j9G7DGAXMKvv68DQMGWWMe/8TEiMGba4j/leyzbfJXoP74NV79XBMK/IAjPyKoDtz8kgmyk7NvFv4Xa896M1su/rxGdt2XU8D98n2hFyE7jP4Q3wzSXWOw/+Pab2cCe0b9KiL71SiKJP6IwEhTdLuE/oyuCGk2LzL/L392cme3iPyp5Ih98k8o/Jbq3HPXj8z8+f3GMB8fmP/TKVYLANcG/cEghwO+25T98na4r/trkPyA3WaBqJec/dIKCOgAI1D/J+GG6ROrTPxZC6KCaE+M/3lhOcL/P8z8V+0ZBUnTGP7kl5dKKiOo/aK09bbhPor8BFOBxhx7oP7R+N0T0aNE/Kl3GgFUi3D/AIAYi8cvqPx1N/Ew1TOA/cKm1OMTyvb9OiiFMm9PjP4quC8aLY9o/0BvP3GS11L+s9bkRbQ/JP4tUxGY9SMc/Tqkz5edR9T9kBRqxE3vqP1SFkwRq+/U/+zkaZyP15z/T/ewb3z3Iv0pX6BerTPc/hWwORU4D7z8xHtv1iDnfP3zHo3qXxMQ/KWlQ/rSv8z/r7U4eH33EPzHnaHqUfNI/uh622iY41b/j7gXLmS7wP2P2Z6980to/856uHyKv2j9rXrClnLnRP8kgEc2KBek/IrQKpMMx6D9MSVHDPkrQP+WqCHCiI+s/3VtwxYDK9D98XlACrW7pPwblzBKIDOI/kAhg+zWGsT/b8lhPHO3nP6gFp4ohU/I/hqinJORM6D/AZStYUdiFP4iOai2DnLW/1jE4TPwB7j/gG9KRkwfxP33Jt+/sONk/7rnW2BDq9j+IGGoeL7fFP/ZFJ6/bQeG/5RnxWsf14D9Wii1ixj3uP8ZFMlY/UuA/Zp62It5j27+Mz1r2l0blPz5Gb+vMed8/ny+vcLoY2j9AOSeVHGqFvwAxnZ64LW0/Ndtzf0SR9D8Mnbxzm/vgPyaDw77nSes/PKsOb+UQ4b8YXTZlYJ6GP9JS+/HVk9E/cHotY403lT8Nf6nVSuTVP7J3C34pX+Q/GFFj21Fjur/+pihMnk/oP7FgBOOnsdY/EnIqwz/j0D8yF2A/P6zWP1Zax9Yc7Ow/cu9daUDszT8nj7DeyqTlvyfP1TVuUNY/Jio0T64F4j+9DerhPg/jPx6GWnIZvNk/geBX+xXfwT/kOce8tnLlP1QAvwKRFOI/ytHVeBk95T+pdC6mzy/QvwsEV3HbwdA/G0OIh1GQ5z/7/mmPihviv5GXB/RoWN8/tVGWDr7C6D/bUsLfObfPv2oMuVgW1MS/gnGiuTcxyz8TIEWEJnfrP5h/s92dfvQ/cvoVImbd279ABI8k55hQPzfxHobg3ck/bBMYwTcKs7/PeEmKLNHaPzw0tes/2eI/Ol2rpraH4D8A1nsqRI6Mv/52CzhVR/g/u63pndYt8j+FI0YGNDTXPxhu+XD0M8s/rAzCMKEb0j86AkUC/u/lP/qKrKVtpOU/vKn7USG04T/ULjK99r7lPytNqbEaBOI/aRcRt4nM6D/cd4AHL/vwP1buIb2Nica/FS2DHXqD4D+HTnuX0sPZP8wggQ9+6d6//zg0Aojd1L/gv2rTrL/Lv5CA1KV+BLq/B0Q9GTJE5L+QCLzn2NzJv4ir2f7v/Nw/pBcGAwpP1D8NfHRNp6PSPxyljEDow/g/UDuiO0QPkb9wAjreX9Cgv1rVMZZqN/Q/TCymIiQ02T/0Ls9kgX7Sv0oSR/626cA/Xr9PvvJG0z+0eabsuZKyP5jOx8NT8te/NL31OQiHzj9dq0MxL9LUvwBenNAHI5I/qF9EXwmttr9fJ9qunaHyP0ABs75uZH4/1N9/WGveuD8QBJ+nhe7pP0fu6HnuRdQ/42nB9CcS3D/SSTlASK3wP6yiCX5EVNA/rSqvFFhu4j+j6M5xtx/ZP+2KPH9dbtC/9MqTwxPRvb82BGWBq33ZP3J4Pzf3mvQ/i5g/UCIR7D+jNEQJSIzfPxwzLMy5qdA/8U2Rm1II5z9RSLAYBUbuPzQCKJti89o/btc68jpX5j/LXEhA3yfpPzYfBaAWUuA/tTHeUEiw5T/x0rJzRvuwPzFDtumsxfA/wfPWspBR9T8n6lEeG4XhP5b6ncq4DMQ/ylVAiTMn1D/EveFSIzn5P0hoAJ6Zf7k/rnBFwT204r9QJGrPwBf0PzfhHhXdCeO/pDzcNsw48z8dhLYcaPvjP1jSql25MbG/j5CjQjQI1D+LDvG3hBigPwrlVnEX/O4/XIjf/xZB6T9MDH/t6eLkP12Te+fbSPI/jnRrov216D8HWspBj5XEP1p22hNzodg//P+eeyb87T+hmvTpTJvuP2TjKd0M8+o/5LQ4YVLD8D9Y0FkRkZuhv6nTGjl7Pds/EgeO3lJK9z+4X9tGNxmxPxjV8KT5qKC/fgC6MCp04z+UBEAB/eHVvyJfkRf/N7A/dRA35svc7T+2eDVjPwnSP5DldW/6weA/+Vr/kEYY8D/MnbVWKBDePwYsU4Zsh9o/egjIZM5TzT+XjjfnGRTgv6DkfBYlJ4e/MdRF6IiC5D+BsFHQHzvqP6BgHlLd3Na/yJtNHqst6D9rcYozyp29PxtixVbbwME/6NMoNaNKtL/4Kdi6wS3kP45MRpSIEPE/A0hXwUlzxL+HMy2bu9LuP+DyzLb52eE/Pr9tDoLq4D/wtGPAG5q0v0zXpb/QTMe/WOluV+do07+A6upIRg6TPzmKUBHHJuQ/7PzwKI7s4z+aaMXcgRLYP1hW19chwMM/dbG66GTQ5L8pX+2mkOfkP7tfPe4lGvM/FYCzRWST17+xbJoG3JnZP2B1nW/wBq4/isyKMlN4yb+A57a5Y/qqP+uMiQg/KOc/v73/92En4j+9t88/jXXvP8mnaXE9hvM/QJU5Y5XGjz8Vqyr4PRvoP39A04qfde4/NMPCv2M3wT+C80dTEhb3P0JmksBUiOM/z4WlvK827T/2EcXCs6XuP5/aSGDBn+s/ODCQeuq937+4Usbi1lygP6TWrX8Ajre/hbnicCoA4T92S3oaG/3GP2r0Ll7g2bM/CcU9YxR29D97JGTpNSrfP7I8gVUMz6O/ODIKuHUUpL+TtJe873rlP5S/EtR5xtY/yLnlZYDPur/u/JxQcQLPP8iRnWPAK76/AEnzAP7TuL8wRM+6HcnUP4KnMbgIo+Q/Xtwjokco5r9NFYqaDa3WP5Qf7l0hwuE/JA7GCh5y7T/iydMYJo7GP9qwTDeUpOM/3tGC5m1f9D9mAfUrFLD2P/ZW5zdaDsa/Usj5rHR50T/K1OGtR6vhP+wdayWAGek/duCHZ7ac6D/8RwvkiLnxP11vZo6CDck/ta91jGio3T85EkHkloiuPwqQVY98Br0/jCut4zsX0z/UyjSN0BS5v1CfTtKyuNe/XMC79KXy4T/94BI7i7vvP2bPs7LLMs0/Sq5NhHBE5T8s4+rdGIfQP3Te0mijG+E/2nJahwjZ2z88VAOrgojgP0ISSCEdGO0/4K93cRWpoj9Vd9QMGhXhP7fWPxdwxNg/SMXw7mE68z/wZQofBo6cP+4mHIDFYvY/gGtoFeam2T+Q2j7/McnKP7uJwWUSSfM/lARmNQ458D/pnBOXPKXtP2qFg7krjeg/PLhkaw8zvL8jWwXGFd7gP8YO0xAVs98/zFn6B+fxoj+3LgznSP69P7fi0cC9SOw/UUbpHHlIxz/sQOoHSliwv0bzzDmnV9E/QMpbMxcccD/glLwKrozRP5S6zDklaO0/D7tx3qO34T/HAjS1Y7PWP5YqEdR5teE/h0IKfih+6T959pDsQlHgP7D9RorikfA/7gBhIvzm3z+ghhuNuAHXv3KwaqX3d+k/OtPDRqh36D8kN8yJSN7aPwE4ijssRfA/Z7A1TwK00r+6Sjc7IcTsP8jU7DLxibM/aowiSdv83T//RXzLgK7lPxTt50fNgbO/H22dQqow1j/0h0pduuitP9B7bm5OW/M/CK3FgLFi3T/yqig4emHuPweTAwyRktS/OPNmV5nq2T/M277b98TuP5HNrkpbNb0/KyksazK9xz+VEwDs2gf1P8Ap+ukFKM4/JFXml70Syj/3/YdCs7Hgv0j8MNq9/ec/EJ+8GuIC4T+BBob+0UHpP2Sllg/pxtw/NHwQiy1g7D8OewQI7EDrP1xrXfTSRu0/XObfFnsK9T80YZDSarfpP8Xgty09Eco/Dp1Ytqq94T9G2K1iBAPlP7xhB8e0Gdq/tgEML9vP6j81rnZx8Znlv4Ijh/ugt+c/LiVLUuWAvb/SmiKSU+HkP4/0JnGGq/I/I6YOKa5f9z+hOGy+UiflP6RYHi20eeM/9IxxrunLsb9Q9HabTP+tP0heAfu1crS/UrwISCYezT+Qcuzs6cTvPzDzv/TjBNq/cDsv/2wm8T+SzDFvjtviP9cgpFou/uG/Zrmokmu34T+gIqgH9zDgvzALJVL6kpk/RXgv6HE80z/0p0qkzd/eP61csrw+8NI/xK9Gntr1uz8K88WreougP4/ByldFutY/mLYGoRa2vb99ZyHHL+vdP6aya1BTyNY/QnFzo5KX6T+bA60KQBnrP4Jc+44nYeY/iPLF4i0J3D8Yr3HP44PlP2YffsPnLdy/gGBcIhfx4T9WX7knOlLjPxzBPH1Ql+s/6hD3IXvt6j/Ia5u4gRrQP7K8m3zvHew/5PqY1CnR4j8K6UlI2orxP+G1x2QK1eI/uCStWJyryj9gcv3+A/3qP5h+9bgMneg/WKRt6TTS6j8l8jnjFTHyP2clHmeZp9W/cxewNUXc7T9QohURj/S+v0upRQpQPNU/+HBGYlnMtD8iGfvg3G7GPy+LUGSTfvQ/ibQtK1JGtT+WONLW8OPMP9w1LVqw2ZQ/YBDFoPpscb/T8TK/At/Hvwi22YyZmu0/ssFrE83s8T87T4WM+wrbP8J5+cswa+I/YDBpEnjB5D+A+m2tGkHaP2bLj2grUrk/StVUFVou8z+8AWgm7lq3v+i3MtroDdQ/eCHmh+BuzT+JEiygKAjoP4LPsxlM+cM/HDcxTb0g57+tfRgpfF/xP9cuqhie+/E/g6Kme7Kp7D+i1ultrVDQP9QINwCbJuw/eF8RAC0s4z+YsIpX1Ay+PyxoZ52uPL4/5VTJRk+14j9QJ6JNTlbvPzlADU3FV+8/+SwVA5AG0D/toO8qofrdPxMLXks4Btk/8H4SyB0g2L8ZXOEwbxnRP2e9LwL8Htk/jeQ6sRlX2b/ZkODLfb/tP1D3J6ZnAYc/7qB9QSBqtD9Q9MNzkAOsvypKWNWYF/U/6l7cvyl/7T+ejYMxqdjkP6yvCkfVYeg/IlqXcJ3w2L9G4QybaLLiP1gyq/MLlbo/SLdZ9oEX8D9Am+QJbTSyP2hrPlAHl6Y/Li+rBa0s4j958LZQ5djgP6FlU+zQROk/uLg5j/5Frz8k331BhAvXv8w3JIv5VdA/xAdE0Ji84D9O0erihiDlP02pf009Wti/5EJ1dnpesb/3/BUtHxfOvw7UNisQAu4/2BVKbsYv3D/qu2hlBNTCPwK+ic9nsvg/Xl9Ach6H2D84Mu5aFWC3P4Cuczke4/c/EO5jJtMBhj9ArOlN9at1PxSOw9PYfdK/lVHjTX5r57+sTrWxiV7TvxaIlb4hK7w/9FCYvrcI9D8PC7jD4/7KPzqDTUuSs+G/6lUs/4+Xyz/gEOyBOzPEPxgDFVoj/da/IriWIWOe8j++7N/3k3jWv1QrzPEeIuE/3NbSPk+44T99quHhRDbpPxxrD3gvnsS/qrDjX/iI0D9uyuE6733Xv+pGEAv8P90/LuVHcxeI7z/f6hkukFfkP7si7tn5Fvc/fqW312yR0T/U1Su9FQzpP0KbfJLJKeK/hEtXRcxX8T/gCNRVdmDWv0CH9OcpV4a/0Ek4s9XB07+yJ13MiOnCP6KLrMFyq8e/yNIF1hmz3r/AmVebpzTkP2G623wsMNo/AIQPr2NFPD/Ltt2iEfrqPyyvQzwESfI/s6L1P0eG4D9SlJAovz7DP3hng+DbWbC/wOvmXz9F5T+KTvcH/zfnP4oJyFda/tm/dBS757lzyL8DdlUIRjjLv0z0qTezSsY/rCptCGEi7z+1nSmuyj3XPwH3AxMM986/0OjCdcm+yz8FPZK1YTfkPyh6LQYUg5q/utXXv/lpzj+Txti5ZybUv5DsNx25FtW/8B3rwxAolz8uWY6TBHHmP5dCjIBLN+g/hKOc0M2+2j/AT+EVHzHpP1QyOP1NkOU/feM1mQNU2j9BChDsaZDjP9gnI7yuXMc/hMdPjpWW4j9ghUx0ky6Ev9WLKzMruOQ/zvuqRFJf1j8ShX9QfNPyP8D0rVnASvU/Sv4HzZu93z/wKXiQIavUP9QW8B7CDsM/mvUGIL+T07/4QrB2GSP1PwT/teWAGuo/ZUxV19yl4T+mc9aSeO7Sv8xkTWSyjuS/EGlgz+qbkj+QfUvm/xnlv7bb8iO6x7g/bGIklxxa6j8cgnkiJi7cP+QizXs/Duw/lOhm08JO8D+b642HvXTlP5q8WtMjoOk/qrakjhiK9D9MYQRNW4y9Px1mYaZPheI/Tp7LNGkX5T+KWGBjiMLsP+gdKBhdTqs/39RjT74o4T/OdQak4K/lP9QTHJEy5uA/zyzlxYZbwz/mmlx9+lrlP0hlZC1yNMy/NvXFEHaO+D+UB5TL/G3KP6XkvR/Y2uQ/FJ5QzzWq7j9OjcpfBxLBPxg5vMlVpvU/KHOtLjLy6D8qinEJK2bPP3QvZFxI8py/GCX3DXv1xb97Xjo7KWe9v+4g70e7wOc/HK/qqfxr2j/n85Nur3HaPxhx2GPL9NE/G3zJiVZb2T9MbqLPAKTAP9mmaOZD4+w/rhhrZCB27T+oUfkABcBmv3FgoldlVeY/sOA9K8TowT9AnI8q/1jtPza0L/tQx+s/WT2pr20Z4z/4eIeI4ATYPyoyfgc7/es/MG51m4Wyo786X5qqF5e8vxRTDn/dves/cqSJPAoDxz8eUMgHIY/fPzsmanV6TOK/hpNhomz98T9yS8JGjz/RP4ZTvZh3OuM/hDIhR43mvL+55IA3AVjCPwSSnWD4VsE/IueKa34c6T9vxDTvaNXoP6hvzRhBXfI/nOoXeFZM6j+E7vzNdeC/P6iEUtXcs68/kDCXwxMHl79gvrVL5NeQP56vM5JOTdw/YDAwR7hc1j+esTm14PjQPw3+EVsQm9o/AUXGNHCf3T9s3bvwM8/jP2uQ2SekK+A/ub+VosmE8D9U5ZqN/aPrPz6cmFHLYdk/kcE9kvu93D/RnZODAxvwP0zA1OLE27Q/qqTOJmA28j8weEdFH8nhP4REiTZ6EvM/fN0OQ+9kuz9ijCBXb6HdP7BqzDvw+HU/dpnYoDlS6j8vJumd/onTP6K1KNsqxOc/AJoUfJ1gRb/IkYwZYAbwP9jDLLRbls0/ih7UmdUx4D9KSKPWGaHuP0/DZI2XvuQ/ZOulPd2R8j9/pcJa5LLKP7z5wV4kk98/sm9Yz6ex0z+DA5kYY5rTP16EbMCa4vg/4ryqC7JE279mXqT9aubAP0r0Y4Atqec/8gapzVpA5z/02ZWHXuTzP4BaaLC8cXk/HzjiaU002T9kLZCttIHYP79RRHaXKdU/0G68NN16uT8g7df479Dbv0wxcCK2teg/d1ZZqFcw6z/eA/pzc9TjPxssd8w0H9s/Pn4P/9XD4j9Q0FeYte/fP4P7hMOVwvI/7lsEjWZY0z+Itobqi0S1P+rf1zj0NfE/dBaYt5bi5T9MaZmABSrZP9PRyya2VvY/hq7f656Y4b+AOk/Trv/cv7iR0wrp6dA/Djf9CiGv4D/YaxJIUnKyv4DB9nU+poO/fMiC/HwhvD+uhJcxDp7zP14+6woQNt4/ROhgbhEkxz9sq/vgoqjeP3g2jiCDUai/cJLoaWrk6j+JGO5PwRHhPyy1+kHMxuI/us2HU+O54T9UKtB/HQDhP3T+/77PuOG/josCCI7z9D84ZQ61H2TrP5BfJrbYp6O/8N2Cs4Qs6z+V3/5qhADhP+biJooHQdu/y9hXH+bi4j/8D1twc+S1P6vRFNmgi+M/ovng1T78wb/In6GzjHbHvwh8gNDwsq8//V0JVk3Z9D+IQV5tvVjgP/Zx/0R5isA/w8giu/PE4z9ntK1To3/oPzJby0aXbNM/Bl/sXytX7j+oYfdE2c7lv64broGtevA/EvYVPRl8yL8=",
          "dtype": "f8"
         }
        }
       ],
       "layout": {
        "scene": {
         "xaxis": {
          "title": {
           "text": "X"
          }
         },
         "yaxis": {
          "title": {
           "text": "Y"
          }
         },
         "zaxis": {
          "title": {
           "text": "Z"
          }
         }
        },
        "template": {
         "data": {
          "bar": [
           {
            "error_x": {
             "color": "#2a3f5f"
            },
            "error_y": {
             "color": "#2a3f5f"
            },
            "marker": {
             "line": {
              "color": "#E5ECF6",
              "width": 0.5
             },
             "pattern": {
              "fillmode": "overlay",
              "size": 10,
              "solidity": 0.2
             }
            },
            "type": "bar"
           }
          ],
          "barpolar": [
           {
            "marker": {
             "line": {
              "color": "#E5ECF6",
              "width": 0.5
             },
             "pattern": {
              "fillmode": "overlay",
              "size": 10,
              "solidity": 0.2
             }
            },
            "type": "barpolar"
           }
          ],
          "carpet": [
           {
            "aaxis": {
             "endlinecolor": "#2a3f5f",
             "gridcolor": "white",
             "linecolor": "white",
             "minorgridcolor": "white",
             "startlinecolor": "#2a3f5f"
            },
            "baxis": {
             "endlinecolor": "#2a3f5f",
             "gridcolor": "white",
             "linecolor": "white",
             "minorgridcolor": "white",
             "startlinecolor": "#2a3f5f"
            },
            "type": "carpet"
           }
          ],
          "choropleth": [
           {
            "colorbar": {
             "outlinewidth": 0,
             "ticks": ""
            },
            "type": "choropleth"
           }
          ],
          "contour": [
           {
            "colorbar": {
             "outlinewidth": 0,
             "ticks": ""
            },
            "colorscale": [
             [
              0,
              "#0d0887"
             ],
             [
              0.1111111111111111,
              "#46039f"
             ],
             [
              0.2222222222222222,
              "#7201a8"
             ],
             [
              0.3333333333333333,
              "#9c179e"
             ],
             [
              0.4444444444444444,
              "#bd3786"
             ],
             [
              0.5555555555555556,
              "#d8576b"
             ],
             [
              0.6666666666666666,
              "#ed7953"
             ],
             [
              0.7777777777777778,
              "#fb9f3a"
             ],
             [
              0.8888888888888888,
              "#fdca26"
             ],
             [
              1,
              "#f0f921"
             ]
            ],
            "type": "contour"
           }
          ],
          "contourcarpet": [
           {
            "colorbar": {
             "outlinewidth": 0,
             "ticks": ""
            },
            "type": "contourcarpet"
           }
          ],
          "heatmap": [
           {
            "colorbar": {
             "outlinewidth": 0,
             "ticks": ""
            },
            "colorscale": [
             [
              0,
              "#0d0887"
             ],
             [
              0.1111111111111111,
              "#46039f"
             ],
             [
              0.2222222222222222,
              "#7201a8"
             ],
             [
              0.3333333333333333,
              "#9c179e"
             ],
             [
              0.4444444444444444,
              "#bd3786"
             ],
             [
              0.5555555555555556,
              "#d8576b"
             ],
             [
              0.6666666666666666,
              "#ed7953"
             ],
             [
              0.7777777777777778,
              "#fb9f3a"
             ],
             [
              0.8888888888888888,
              "#fdca26"
             ],
             [
              1,
              "#f0f921"
             ]
            ],
            "type": "heatmap"
           }
          ],
          "histogram": [
           {
            "marker": {
             "pattern": {
              "fillmode": "overlay",
              "size": 10,
              "solidity": 0.2
             }
            },
            "type": "histogram"
           }
          ],
          "histogram2d": [
           {
            "colorbar": {
             "outlinewidth": 0,
             "ticks": ""
            },
            "colorscale": [
             [
              0,
              "#0d0887"
             ],
             [
              0.1111111111111111,
              "#46039f"
             ],
             [
              0.2222222222222222,
              "#7201a8"
             ],
             [
              0.3333333333333333,
              "#9c179e"
             ],
             [
              0.4444444444444444,
              "#bd3786"
             ],
             [
              0.5555555555555556,
              "#d8576b"
             ],
             [
              0.6666666666666666,
              "#ed7953"
             ],
             [
              0.7777777777777778,
              "#fb9f3a"
             ],
             [
              0.8888888888888888,
              "#fdca26"
             ],
             [
              1,
              "#f0f921"
             ]
            ],
            "type": "histogram2d"
           }
          ],
          "histogram2dcontour": [
           {
            "colorbar": {
             "outlinewidth": 0,
             "ticks": ""
            },
            "colorscale": [
             [
              0,
              "#0d0887"
             ],
             [
              0.1111111111111111,
              "#46039f"
             ],
             [
              0.2222222222222222,
              "#7201a8"
             ],
             [
              0.3333333333333333,
              "#9c179e"
             ],
             [
              0.4444444444444444,
              "#bd3786"
             ],
             [
              0.5555555555555556,
              "#d8576b"
             ],
             [
              0.6666666666666666,
              "#ed7953"
             ],
             [
              0.7777777777777778,
              "#fb9f3a"
             ],
             [
              0.8888888888888888,
              "#fdca26"
             ],
             [
              1,
              "#f0f921"
             ]
            ],
            "type": "histogram2dcontour"
           }
          ],
          "mesh3d": [
           {
            "colorbar": {
             "outlinewidth": 0,
             "ticks": ""
            },
            "type": "mesh3d"
           }
          ],
          "parcoords": [
           {
            "line": {
             "colorbar": {
              "outlinewidth": 0,
              "ticks": ""
             }
            },
            "type": "parcoords"
           }
          ],
          "pie": [
           {
            "automargin": true,
            "type": "pie"
           }
          ],
          "scatter": [
           {
            "fillpattern": {
             "fillmode": "overlay",
             "size": 10,
             "solidity": 0.2
            },
            "type": "scatter"
           }
          ],
          "scatter3d": [
           {
            "line": {
             "colorbar": {
              "outlinewidth": 0,
              "ticks": ""
             }
            },
            "marker": {
             "colorbar": {
              "outlinewidth": 0,
              "ticks": ""
             }
            },
            "type": "scatter3d"
           }
          ],
          "scattercarpet": [
           {
            "marker": {
             "colorbar": {
              "outlinewidth": 0,
              "ticks": ""
             }
            },
            "type": "scattercarpet"
           }
          ],
          "scattergeo": [
           {
            "marker": {
             "colorbar": {
              "outlinewidth": 0,
              "ticks": ""
             }
            },
            "type": "scattergeo"
           }
          ],
          "scattergl": [
           {
            "marker": {
             "colorbar": {
              "outlinewidth": 0,
              "ticks": ""
             }
            },
            "type": "scattergl"
           }
          ],
          "scattermap": [
           {
            "marker": {
             "colorbar": {
              "outlinewidth": 0,
              "ticks": ""
             }
            },
            "type": "scattermap"
           }
          ],
          "scattermapbox": [
           {
            "marker": {
             "colorbar": {
              "outlinewidth": 0,
              "ticks": ""
             }
            },
            "type": "scattermapbox"
           }
          ],
          "scatterpolar": [
           {
            "marker": {
             "colorbar": {
              "outlinewidth": 0,
              "ticks": ""
             }
            },
            "type": "scatterpolar"
           }
          ],
          "scatterpolargl": [
           {
            "marker": {
             "colorbar": {
              "outlinewidth": 0,
              "ticks": ""
             }
            },
            "type": "scatterpolargl"
           }
          ],
          "scatterternary": [
           {
            "marker": {
             "colorbar": {
              "outlinewidth": 0,
              "ticks": ""
             }
            },
            "type": "scatterternary"
           }
          ],
          "surface": [
           {
            "colorbar": {
             "outlinewidth": 0,
             "ticks": ""
            },
            "colorscale": [
             [
              0,
              "#0d0887"
             ],
             [
              0.1111111111111111,
              "#46039f"
             ],
             [
              0.2222222222222222,
              "#7201a8"
             ],
             [
              0.3333333333333333,
              "#9c179e"
             ],
             [
              0.4444444444444444,
              "#bd3786"
             ],
             [
              0.5555555555555556,
              "#d8576b"
             ],
             [
              0.6666666666666666,
              "#ed7953"
             ],
             [
              0.7777777777777778,
              "#fb9f3a"
             ],
             [
              0.8888888888888888,
              "#fdca26"
             ],
             [
              1,
              "#f0f921"
             ]
            ],
            "type": "surface"
           }
          ],
          "table": [
           {
            "cells": {
             "fill": {
              "color": "#EBF0F8"
             },
             "line": {
              "color": "white"
             }
            },
            "header": {
             "fill": {
              "color": "#C8D4E3"
             },
             "line": {
              "color": "white"
             }
            },
            "type": "table"
           }
          ]
         },
         "layout": {
          "annotationdefaults": {
           "arrowcolor": "#2a3f5f",
           "arrowhead": 0,
           "arrowwidth": 1
          },
          "autotypenumbers": "strict",
          "coloraxis": {
           "colorbar": {
            "outlinewidth": 0,
            "ticks": ""
           }
          },
          "colorscale": {
           "diverging": [
            [
             0,
             "#8e0152"
            ],
            [
             0.1,
             "#c51b7d"
            ],
            [
             0.2,
             "#de77ae"
            ],
            [
             0.3,
             "#f1b6da"
            ],
            [
             0.4,
             "#fde0ef"
            ],
            [
             0.5,
             "#f7f7f7"
            ],
            [
             0.6,
             "#e6f5d0"
            ],
            [
             0.7,
             "#b8e186"
            ],
            [
             0.8,
             "#7fbc41"
            ],
            [
             0.9,
             "#4d9221"
            ],
            [
             1,
             "#276419"
            ]
           ],
           "sequential": [
            [
             0,
             "#0d0887"
            ],
            [
             0.1111111111111111,
             "#46039f"
            ],
            [
             0.2222222222222222,
             "#7201a8"
            ],
            [
             0.3333333333333333,
             "#9c179e"
            ],
            [
             0.4444444444444444,
             "#bd3786"
            ],
            [
             0.5555555555555556,
             "#d8576b"
            ],
            [
             0.6666666666666666,
             "#ed7953"
            ],
            [
             0.7777777777777778,
             "#fb9f3a"
            ],
            [
             0.8888888888888888,
             "#fdca26"
            ],
            [
             1,
             "#f0f921"
            ]
           ],
           "sequentialminus": [
            [
             0,
             "#0d0887"
            ],
            [
             0.1111111111111111,
             "#46039f"
            ],
            [
             0.2222222222222222,
             "#7201a8"
            ],
            [
             0.3333333333333333,
             "#9c179e"
            ],
            [
             0.4444444444444444,
             "#bd3786"
            ],
            [
             0.5555555555555556,
             "#d8576b"
            ],
            [
             0.6666666666666666,
             "#ed7953"
            ],
            [
             0.7777777777777778,
             "#fb9f3a"
            ],
            [
             0.8888888888888888,
             "#fdca26"
            ],
            [
             1,
             "#f0f921"
            ]
           ]
          },
          "colorway": [
           "#636efa",
           "#EF553B",
           "#00cc96",
           "#ab63fa",
           "#FFA15A",
           "#19d3f3",
           "#FF6692",
           "#B6E880",
           "#FF97FF",
           "#FECB52"
          ],
          "font": {
           "color": "#2a3f5f"
          },
          "geo": {
           "bgcolor": "white",
           "lakecolor": "white",
           "landcolor": "#E5ECF6",
           "showlakes": true,
           "showland": true,
           "subunitcolor": "white"
          },
          "hoverlabel": {
           "align": "left"
          },
          "hovermode": "closest",
          "mapbox": {
           "style": "light"
          },
          "paper_bgcolor": "white",
          "plot_bgcolor": "#E5ECF6",
          "polar": {
           "angularaxis": {
            "gridcolor": "white",
            "linecolor": "white",
            "ticks": ""
           },
           "bgcolor": "#E5ECF6",
           "radialaxis": {
            "gridcolor": "white",
            "linecolor": "white",
            "ticks": ""
           }
          },
          "scene": {
           "xaxis": {
            "backgroundcolor": "#E5ECF6",
            "gridcolor": "white",
            "gridwidth": 2,
            "linecolor": "white",
            "showbackground": true,
            "ticks": "",
            "zerolinecolor": "white"
           },
           "yaxis": {
            "backgroundcolor": "#E5ECF6",
            "gridcolor": "white",
            "gridwidth": 2,
            "linecolor": "white",
            "showbackground": true,
            "ticks": "",
            "zerolinecolor": "white"
           },
           "zaxis": {
            "backgroundcolor": "#E5ECF6",
            "gridcolor": "white",
            "gridwidth": 2,
            "linecolor": "white",
            "showbackground": true,
            "ticks": "",
            "zerolinecolor": "white"
           }
          },
          "shapedefaults": {
           "line": {
            "color": "#2a3f5f"
           }
          },
          "ternary": {
           "aaxis": {
            "gridcolor": "white",
            "linecolor": "white",
            "ticks": ""
           },
           "baxis": {
            "gridcolor": "white",
            "linecolor": "white",
            "ticks": ""
           },
           "bgcolor": "#E5ECF6",
           "caxis": {
            "gridcolor": "white",
            "linecolor": "white",
            "ticks": ""
           }
          },
          "title": {
           "x": 0.05
          },
          "xaxis": {
           "automargin": true,
           "gridcolor": "white",
           "linecolor": "white",
           "ticks": "",
           "title": {
            "standoff": 15
           },
           "zerolinecolor": "white",
           "zerolinewidth": 2
          },
          "yaxis": {
           "automargin": true,
           "gridcolor": "white",
           "linecolor": "white",
           "ticks": "",
           "title": {
            "standoff": 15
           },
           "zerolinecolor": "white",
           "zerolinewidth": 2
          }
         }
        }
       }
      }
     },
     "metadata": {},
     "output_type": "display_data"
    }
   ],
   "source": [
    "ws.plot(color=method, fig=go.Figure(), isShow=True, isUpdate=True)"
   ]
  },
  {
   "cell_type": "code",
   "execution_count": 10,
   "id": "f7bc3adb",
   "metadata": {},
   "outputs": [
    {
     "name": "stdout",
     "output_type": "stream",
     "text": [
      "The Global Manipulability of a longer planar robot with 4 Dofs is 0.5571796300428372\n"
     ]
    },
    {
     "name": "stderr",
     "output_type": "stream",
     "text": [
      "/Users/chaoyue/miniconda3/envs/robosandbox3.9/lib/python3.9/site-packages/robosandbox/performance/workspace/base_workspace.py:27: FutureWarning:\n",
      "\n",
      "The behavior of DataFrame concatenation with empty or all-NA entries is deprecated. In a future version, this will no longer exclude empty or all-NA columns when determining the result dtypes. To retain the old behavior, exclude the relevant entries before the concat operation.\n",
      "\n"
     ]
    }
   ],
   "source": [
    "robot_longer = rsb.models.DH.Generic.GenericFour(linklengths=[0.7, 0.7, 0.7, 0.7])\n",
    "ws = WorkSpace(robot_longer)\n",
    "method = \"yoshikawa\"\n",
    "axes = \"trans\"\n",
    "\n",
    "G = ws.global_indice(\n",
    "    initial_samples=5000,\n",
    "    batch_ratio=0.1,\n",
    "    error_tolerance_percentage=1e-2,\n",
    "    method=\"yoshikawa\", \n",
    "    axes=axes,\n",
    "    max_samples=20000, \n",
    "    is_normalized=False\n",
    ")\n",
    "print(f\"The Global Manipulability of a longer planar robot with 4 Dofs is {G}\")"
   ]
  },
  {
   "cell_type": "code",
   "execution_count": 13,
   "id": "cc19ffcb",
   "metadata": {},
   "outputs": [
    {
     "data": {
      "application/vnd.plotly.v1+json": {
       "config": {
        "plotlyServerURL": "https://plot.ly"
       },
       "data": [
        {
         "marker": {
          "color": {
           "bdata": "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",
           "dtype": "f8"
          },
          "colorbar": {
           "title": {
            "text": "yoshikawa"
           }
          },
          "opacity": 0.5,
          "size": 5
         },
         "mode": "markers",
         "type": "scatter3d",
         "x": {
          "bdata": "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",
          "dtype": "f8"
         },
         "y": {
          "bdata": "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",
          "dtype": "f8"
         },
         "z": {
          "bdata": "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",
          "dtype": "f8"
         }
        }
       ],
       "layout": {
        "scene": {
         "xaxis": {
          "title": {
           "text": "X"
          }
         },
         "yaxis": {
          "title": {
           "text": "Y"
          }
         },
         "zaxis": {
          "title": {
           "text": "Z"
          }
         }
        },
        "template": {
         "data": {
          "bar": [
           {
            "error_x": {
             "color": "#2a3f5f"
            },
            "error_y": {
             "color": "#2a3f5f"
            },
            "marker": {
             "line": {
              "color": "#E5ECF6",
              "width": 0.5
             },
             "pattern": {
              "fillmode": "overlay",
              "size": 10,
              "solidity": 0.2
             }
            },
            "type": "bar"
           }
          ],
          "barpolar": [
           {
            "marker": {
             "line": {
              "color": "#E5ECF6",
              "width": 0.5
             },
             "pattern": {
              "fillmode": "overlay",
              "size": 10,
              "solidity": 0.2
             }
            },
            "type": "barpolar"
           }
          ],
          "carpet": [
           {
            "aaxis": {
             "endlinecolor": "#2a3f5f",
             "gridcolor": "white",
             "linecolor": "white",
             "minorgridcolor": "white",
             "startlinecolor": "#2a3f5f"
            },
            "baxis": {
             "endlinecolor": "#2a3f5f",
             "gridcolor": "white",
             "linecolor": "white",
             "minorgridcolor": "white",
             "startlinecolor": "#2a3f5f"
            },
            "type": "carpet"
           }
          ],
          "choropleth": [
           {
            "colorbar": {
             "outlinewidth": 0,
             "ticks": ""
            },
            "type": "choropleth"
           }
          ],
          "contour": [
           {
            "colorbar": {
             "outlinewidth": 0,
             "ticks": ""
            },
            "colorscale": [
             [
              0,
              "#0d0887"
             ],
             [
              0.1111111111111111,
              "#46039f"
             ],
             [
              0.2222222222222222,
              "#7201a8"
             ],
             [
              0.3333333333333333,
              "#9c179e"
             ],
             [
              0.4444444444444444,
              "#bd3786"
             ],
             [
              0.5555555555555556,
              "#d8576b"
             ],
             [
              0.6666666666666666,
              "#ed7953"
             ],
             [
              0.7777777777777778,
              "#fb9f3a"
             ],
             [
              0.8888888888888888,
              "#fdca26"
             ],
             [
              1,
              "#f0f921"
             ]
            ],
            "type": "contour"
           }
          ],
          "contourcarpet": [
           {
            "colorbar": {
             "outlinewidth": 0,
             "ticks": ""
            },
            "type": "contourcarpet"
           }
          ],
          "heatmap": [
           {
            "colorbar": {
             "outlinewidth": 0,
             "ticks": ""
            },
            "colorscale": [
             [
              0,
              "#0d0887"
             ],
             [
              0.1111111111111111,
              "#46039f"
             ],
             [
              0.2222222222222222,
              "#7201a8"
             ],
             [
              0.3333333333333333,
              "#9c179e"
             ],
             [
              0.4444444444444444,
              "#bd3786"
             ],
             [
              0.5555555555555556,
              "#d8576b"
             ],
             [
              0.6666666666666666,
              "#ed7953"
             ],
             [
              0.7777777777777778,
              "#fb9f3a"
             ],
             [
              0.8888888888888888,
              "#fdca26"
             ],
             [
              1,
              "#f0f921"
             ]
            ],
            "type": "heatmap"
           }
          ],
          "histogram": [
           {
            "marker": {
             "pattern": {
              "fillmode": "overlay",
              "size": 10,
              "solidity": 0.2
             }
            },
            "type": "histogram"
           }
          ],
          "histogram2d": [
           {
            "colorbar": {
             "outlinewidth": 0,
             "ticks": ""
            },
            "colorscale": [
             [
              0,
              "#0d0887"
             ],
             [
              0.1111111111111111,
              "#46039f"
             ],
             [
              0.2222222222222222,
              "#7201a8"
             ],
             [
              0.3333333333333333,
              "#9c179e"
             ],
             [
              0.4444444444444444,
              "#bd3786"
             ],
             [
              0.5555555555555556,
              "#d8576b"
             ],
             [
              0.6666666666666666,
              "#ed7953"
             ],
             [
              0.7777777777777778,
              "#fb9f3a"
             ],
             [
              0.8888888888888888,
              "#fdca26"
             ],
             [
              1,
              "#f0f921"
             ]
            ],
            "type": "histogram2d"
           }
          ],
          "histogram2dcontour": [
           {
            "colorbar": {
             "outlinewidth": 0,
             "ticks": ""
            },
            "colorscale": [
             [
              0,
              "#0d0887"
             ],
             [
              0.1111111111111111,
              "#46039f"
             ],
             [
              0.2222222222222222,
              "#7201a8"
             ],
             [
              0.3333333333333333,
              "#9c179e"
             ],
             [
              0.4444444444444444,
              "#bd3786"
             ],
             [
              0.5555555555555556,
              "#d8576b"
             ],
             [
              0.6666666666666666,
              "#ed7953"
             ],
             [
              0.7777777777777778,
              "#fb9f3a"
             ],
             [
              0.8888888888888888,
              "#fdca26"
             ],
             [
              1,
              "#f0f921"
             ]
            ],
            "type": "histogram2dcontour"
           }
          ],
          "mesh3d": [
           {
            "colorbar": {
             "outlinewidth": 0,
             "ticks": ""
            },
            "type": "mesh3d"
           }
          ],
          "parcoords": [
           {
            "line": {
             "colorbar": {
              "outlinewidth": 0,
              "ticks": ""
             }
            },
            "type": "parcoords"
           }
          ],
          "pie": [
           {
            "automargin": true,
            "type": "pie"
           }
          ],
          "scatter": [
           {
            "fillpattern": {
             "fillmode": "overlay",
             "size": 10,
             "solidity": 0.2
            },
            "type": "scatter"
           }
          ],
          "scatter3d": [
           {
            "line": {
             "colorbar": {
              "outlinewidth": 0,
              "ticks": ""
             }
            },
            "marker": {
             "colorbar": {
              "outlinewidth": 0,
              "ticks": ""
             }
            },
            "type": "scatter3d"
           }
          ],
          "scattercarpet": [
           {
            "marker": {
             "colorbar": {
              "outlinewidth": 0,
              "ticks": ""
             }
            },
            "type": "scattercarpet"
           }
          ],
          "scattergeo": [
           {
            "marker": {
             "colorbar": {
              "outlinewidth": 0,
              "ticks": ""
             }
            },
            "type": "scattergeo"
           }
          ],
          "scattergl": [
           {
            "marker": {
             "colorbar": {
              "outlinewidth": 0,
              "ticks": ""
             }
            },
            "type": "scattergl"
           }
          ],
          "scattermap": [
           {
            "marker": {
             "colorbar": {
              "outlinewidth": 0,
              "ticks": ""
             }
            },
            "type": "scattermap"
           }
          ],
          "scattermapbox": [
           {
            "marker": {
             "colorbar": {
              "outlinewidth": 0,
              "ticks": ""
             }
            },
            "type": "scattermapbox"
           }
          ],
          "scatterpolar": [
           {
            "marker": {
             "colorbar": {
              "outlinewidth": 0,
              "ticks": ""
             }
            },
            "type": "scatterpolar"
           }
          ],
          "scatterpolargl": [
           {
            "marker": {
             "colorbar": {
              "outlinewidth": 0,
              "ticks": ""
             }
            },
            "type": "scatterpolargl"
           }
          ],
          "scatterternary": [
           {
            "marker": {
             "colorbar": {
              "outlinewidth": 0,
              "ticks": ""
             }
            },
            "type": "scatterternary"
           }
          ],
          "surface": [
           {
            "colorbar": {
             "outlinewidth": 0,
             "ticks": ""
            },
            "colorscale": [
             [
              0,
              "#0d0887"
             ],
             [
              0.1111111111111111,
              "#46039f"
             ],
             [
              0.2222222222222222,
              "#7201a8"
             ],
             [
              0.3333333333333333,
              "#9c179e"
             ],
             [
              0.4444444444444444,
              "#bd3786"
             ],
             [
              0.5555555555555556,
              "#d8576b"
             ],
             [
              0.6666666666666666,
              "#ed7953"
             ],
             [
              0.7777777777777778,
              "#fb9f3a"
             ],
             [
              0.8888888888888888,
              "#fdca26"
             ],
             [
              1,
              "#f0f921"
             ]
            ],
            "type": "surface"
           }
          ],
          "table": [
           {
            "cells": {
             "fill": {
              "color": "#EBF0F8"
             },
             "line": {
              "color": "white"
             }
            },
            "header": {
             "fill": {
              "color": "#C8D4E3"
             },
             "line": {
              "color": "white"
             }
            },
            "type": "table"
           }
          ]
         },
         "layout": {
          "annotationdefaults": {
           "arrowcolor": "#2a3f5f",
           "arrowhead": 0,
           "arrowwidth": 1
          },
          "autotypenumbers": "strict",
          "coloraxis": {
           "colorbar": {
            "outlinewidth": 0,
            "ticks": ""
           }
          },
          "colorscale": {
           "diverging": [
            [
             0,
             "#8e0152"
            ],
            [
             0.1,
             "#c51b7d"
            ],
            [
             0.2,
             "#de77ae"
            ],
            [
             0.3,
             "#f1b6da"
            ],
            [
             0.4,
             "#fde0ef"
            ],
            [
             0.5,
             "#f7f7f7"
            ],
            [
             0.6,
             "#e6f5d0"
            ],
            [
             0.7,
             "#b8e186"
            ],
            [
             0.8,
             "#7fbc41"
            ],
            [
             0.9,
             "#4d9221"
            ],
            [
             1,
             "#276419"
            ]
           ],
           "sequential": [
            [
             0,
             "#0d0887"
            ],
            [
             0.1111111111111111,
             "#46039f"
            ],
            [
             0.2222222222222222,
             "#7201a8"
            ],
            [
             0.3333333333333333,
             "#9c179e"
            ],
            [
             0.4444444444444444,
             "#bd3786"
            ],
            [
             0.5555555555555556,
             "#d8576b"
            ],
            [
             0.6666666666666666,
             "#ed7953"
            ],
            [
             0.7777777777777778,
             "#fb9f3a"
            ],
            [
             0.8888888888888888,
             "#fdca26"
            ],
            [
             1,
             "#f0f921"
            ]
           ],
           "sequentialminus": [
            [
             0,
             "#0d0887"
            ],
            [
             0.1111111111111111,
             "#46039f"
            ],
            [
             0.2222222222222222,
             "#7201a8"
            ],
            [
             0.3333333333333333,
             "#9c179e"
            ],
            [
             0.4444444444444444,
             "#bd3786"
            ],
            [
             0.5555555555555556,
             "#d8576b"
            ],
            [
             0.6666666666666666,
             "#ed7953"
            ],
            [
             0.7777777777777778,
             "#fb9f3a"
            ],
            [
             0.8888888888888888,
             "#fdca26"
            ],
            [
             1,
             "#f0f921"
            ]
           ]
          },
          "colorway": [
           "#636efa",
           "#EF553B",
           "#00cc96",
           "#ab63fa",
           "#FFA15A",
           "#19d3f3",
           "#FF6692",
           "#B6E880",
           "#FF97FF",
           "#FECB52"
          ],
          "font": {
           "color": "#2a3f5f"
          },
          "geo": {
           "bgcolor": "white",
           "lakecolor": "white",
           "landcolor": "#E5ECF6",
           "showlakes": true,
           "showland": true,
           "subunitcolor": "white"
          },
          "hoverlabel": {
           "align": "left"
          },
          "hovermode": "closest",
          "mapbox": {
           "style": "light"
          },
          "paper_bgcolor": "white",
          "plot_bgcolor": "#E5ECF6",
          "polar": {
           "angularaxis": {
            "gridcolor": "white",
            "linecolor": "white",
            "ticks": ""
           },
           "bgcolor": "#E5ECF6",
           "radialaxis": {
            "gridcolor": "white",
            "linecolor": "white",
            "ticks": ""
           }
          },
          "scene": {
           "xaxis": {
            "backgroundcolor": "#E5ECF6",
            "gridcolor": "white",
            "gridwidth": 2,
            "linecolor": "white",
            "showbackground": true,
            "ticks": "",
            "zerolinecolor": "white"
           },
           "yaxis": {
            "backgroundcolor": "#E5ECF6",
            "gridcolor": "white",
            "gridwidth": 2,
            "linecolor": "white",
            "showbackground": true,
            "ticks": "",
            "zerolinecolor": "white"
           },
           "zaxis": {
            "backgroundcolor": "#E5ECF6",
            "gridcolor": "white",
            "gridwidth": 2,
            "linecolor": "white",
            "showbackground": true,
            "ticks": "",
            "zerolinecolor": "white"
           }
          },
          "shapedefaults": {
           "line": {
            "color": "#2a3f5f"
           }
          },
          "ternary": {
           "aaxis": {
            "gridcolor": "white",
            "linecolor": "white",
            "ticks": ""
           },
           "baxis": {
            "gridcolor": "white",
            "linecolor": "white",
            "ticks": ""
           },
           "bgcolor": "#E5ECF6",
           "caxis": {
            "gridcolor": "white",
            "linecolor": "white",
            "ticks": ""
           }
          },
          "title": {
           "x": 0.05
          },
          "xaxis": {
           "automargin": true,
           "gridcolor": "white",
           "linecolor": "white",
           "ticks": "",
           "title": {
            "standoff": 15
           },
           "zerolinecolor": "white",
           "zerolinewidth": 2
          },
          "yaxis": {
           "automargin": true,
           "gridcolor": "white",
           "linecolor": "white",
           "ticks": "",
           "title": {
            "standoff": 15
           },
           "zerolinecolor": "white",
           "zerolinewidth": 2
          }
         }
        }
       }
      }
     },
     "metadata": {},
     "output_type": "display_data"
    }
   ],
   "source": [
    "ws.plot(color=method, fig=go.Figure(), isShow=True, isUpdate=True)"
   ]
  },
  {
   "cell_type": "markdown",
   "id": "27c37bd0",
   "metadata": {},
   "source": [
    "### Normalization"
   ]
  },
  {
   "cell_type": "code",
   "execution_count": 17,
   "id": "f41f3c3d",
   "metadata": {},
   "outputs": [
    {
     "name": "stderr",
     "output_type": "stream",
     "text": [
      "/Users/chaoyue/miniconda3/envs/robosandbox3.9/lib/python3.9/site-packages/robosandbox/performance/workspace/base_workspace.py:27: FutureWarning:\n",
      "\n",
      "The behavior of DataFrame concatenation with empty or all-NA entries is deprecated. In a future version, this will no longer exclude empty or all-NA columns when determining the result dtypes. To retain the old behavior, exclude the relevant entries before the concat operation.\n",
      "\n"
     ]
    },
    {
     "name": "stdout",
     "output_type": "stream",
     "text": [
      "The Normalized Global Manipulability of a planar robot with 4 Dofs is 0.015549836522463634\n"
     ]
    },
    {
     "name": "stderr",
     "output_type": "stream",
     "text": [
      "/Users/chaoyue/miniconda3/envs/robosandbox3.9/lib/python3.9/site-packages/robosandbox/performance/workspace/base_workspace.py:27: FutureWarning:\n",
      "\n",
      "The behavior of DataFrame concatenation with empty or all-NA entries is deprecated. In a future version, this will no longer exclude empty or all-NA columns when determining the result dtypes. To retain the old behavior, exclude the relevant entries before the concat operation.\n",
      "\n"
     ]
    },
    {
     "name": "stdout",
     "output_type": "stream",
     "text": [
      "The Normalized Global Manipulability of a longer planar robot with 4 Dofs is 0.002930898549081452\n",
      "The Normalized Global Manipulability of a Non-planar robot with 4 Dofs is 0.022971726349780695\n"
     ]
    },
    {
     "name": "stderr",
     "output_type": "stream",
     "text": [
      "/Users/chaoyue/miniconda3/envs/robosandbox3.9/lib/python3.9/site-packages/robosandbox/performance/workspace/base_workspace.py:27: FutureWarning:\n",
      "\n",
      "The behavior of DataFrame concatenation with empty or all-NA entries is deprecated. In a future version, this will no longer exclude empty or all-NA columns when determining the result dtypes. To retain the old behavior, exclude the relevant entries before the concat operation.\n",
      "\n"
     ]
    }
   ],
   "source": [
    "ws = WorkSpace(robot_planar)\n",
    "method = \"yoshikawa\"\n",
    "axes = \"trans\"\n",
    "\n",
    "G = ws.global_indice(\n",
    "    initial_samples=5000,\n",
    "    batch_ratio=0.1,\n",
    "    error_tolerance_percentage=1e-2,\n",
    "    method=\"yoshikawa\", \n",
    "    axes=axes,\n",
    "    max_samples=20000, \n",
    "    is_normalized=True\n",
    ")\n",
    "print(f\"The Normalized Global Manipulability of a planar robot with 4 Dofs is {G}\")\n",
    "\n",
    "ws = WorkSpace(robot_longer)\n",
    "G = ws.global_indice(\n",
    "    initial_samples=5000,\n",
    "    batch_ratio=0.1,\n",
    "    error_tolerance_percentage=1e-2,\n",
    "    method=\"yoshikawa\", \n",
    "    axes=axes,\n",
    "    max_samples=20000, \n",
    "    is_normalized=True\n",
    ")\n",
    "print(f\"The Normalized Global Manipulability of a longer planar robot with 4 Dofs is {G}\")\n",
    "\n",
    "robot_actuators = rsb.models.DH.Generic.GenericFour(alpha=[0, np.pi/2, np.pi/2, 0])\n",
    "ws = WorkSpace(robot_actuators)\n",
    "G = ws.global_indice(\n",
    "    initial_samples=5000,\n",
    "    batch_ratio=0.1,\n",
    "    error_tolerance_percentage=1e-2,\n",
    "    method=\"yoshikawa\", \n",
    "    axes=axes,\n",
    "    max_samples=20000, \n",
    "    is_normalized=True\n",
    ")\n",
    "print(f\"The Normalized Global Manipulability of a Non-planar robot with 4 Dofs is {G}\")\n",
    "\n"
   ]
  },
  {
   "cell_type": "markdown",
   "id": "11246140",
   "metadata": {},
   "source": [
    "From results above, we can find that global manipulability (yoshikawa, trans) is greatly influenced by links length. The longer, the greater value it will be. "
   ]
  },
  {
   "cell_type": "markdown",
   "id": "034088c1",
   "metadata": {},
   "source": []
  },
  {
   "cell_type": "markdown",
   "id": "ROlb",
   "metadata": {},
   "source": [
    "### GUI"
   ]
  },
  {
   "cell_type": "markdown",
   "id": "f1aa7189",
   "metadata": {},
   "source": []
  },
  {
   "cell_type": "code",
   "execution_count": 11,
   "id": "qnkX",
   "metadata": {},
   "outputs": [],
   "source": [
    "# import threading\n",
    "\n",
    "# # Create your Dash app but don't run the server\n",
    "# design_app = rsb.visualization.app.RobotArmDesignApp()\n",
    "\n",
    "# # Start the Dash server in background\n",
    "# dash_thread = threading.Thread(target=design_app.run_server, daemon=True)\n",
    "# dash_thread.start()\n",
    "\n",
    "# # Create iframe using HTML\n",
    "# dash_frame = mo.md(\"\"\"\n",
    "# <iframe src=\"http://127.0.0.1:8050\" width=\"100%\" height=\"800px\" frameborder=\"0\"></iframe>\n",
    "# \"\"\")\n",
    "\n",
    "# # Display the iframe\n",
    "# mo.output.append(dash_frame)"
   ]
  },
  {
   "cell_type": "code",
   "execution_count": 12,
   "id": "TqIu",
   "metadata": {},
   "outputs": [],
   "source": [
    "# app = rsb.visualization.app_standalone.RobotArmDesignAppStandalone()\n",
    "# app.run_app()"
   ]
  }
 ],
 "metadata": {
  "kernelspec": {
   "display_name": "robosandbox3.9",
   "language": "python",
   "name": "python3"
  },
  "language_info": {
   "codemirror_mode": {
    "name": "ipython",
    "version": 3
   },
   "file_extension": ".py",
   "mimetype": "text/x-python",
   "name": "python",
   "nbconvert_exporter": "python",
   "pygments_lexer": "ipython3",
   "version": "3.9.21"
  }
 },
 "nbformat": 4,
 "nbformat_minor": 5
}
