{
 "cells": [
  {
   "cell_type": "code",
   "execution_count": 4,
   "id": "Hbol",
   "metadata": {},
   "outputs": [],
   "source": [
    "import robosandbox as rsb\n",
    "import numpy as np\n",
    "import plotly.graph_objects as go # import new fig env"
   ]
  },
  {
   "cell_type": "code",
   "execution_count": 5,
   "id": "MJUe",
   "metadata": {},
   "outputs": [],
   "source": [
    "import marimo as mo"
   ]
  },
  {
   "cell_type": "markdown",
   "id": "vblA",
   "metadata": {},
   "source": [
    "# Robot Definition and Analysis\n",
    "\n",
    "The \"models\" subpackage offers a variety of robotic manipulator models that use different description methodologies, such as DH parameters and screw theory. Currently, all the models can be classified into three categories:\n",
    "\n",
    "- DH: created using Denavit-Hartenberg Parameters, for example: ro⊥=rsb.⊨.DH.Ge≠ric.Ge≠ricFour()robot = rsb.models.DH.Generic.GenericFour(), powered by (roboticstoolbox-python)[https://github.com/petercorke/robotics-toolbox-python]\n",
    "- DHLink: created using Denavit-Hartenberg Parameters, taking into consideration the design of the links.\n",
    "- MR: created using screw theory, based on (Modern Robotics)[https://hades.mech.northwestern.edu/index.php/Modern_Robotics] and (code)[https://github.com/NxRLab/ModernRobotics]"
   ]
  },
  {
   "cell_type": "markdown",
   "id": "bkHC",
   "metadata": {},
   "source": [
    "## DH Models\n",
    "\n",
    "### Generic Models\n",
    "We can easily define a robotic manipulate using DH parameters in RoboSandbox. To give a quick start, several pre-defined models are offered **from 2 Dofs to 7 Dofs**:"
   ]
  },
  {
   "cell_type": "code",
   "execution_count": 6,
   "id": "lEQa",
   "metadata": {},
   "outputs": [
    {
     "data": {
      "application/vnd.plotly.v1+json": {
       "config": {
        "plotlyServerURL": "https://plot.ly"
       },
       "data": [
        {
         "line": {
          "color": "#E1706E",
          "width": 14
         },
         "mode": "lines",
         "name": "Link1",
         "type": "scatter3d",
         "x": {
          "bdata": "AAAAAAAAAAAAAAAAAAAAAA==",
          "dtype": "f8"
         },
         "y": {
          "bdata": "AAAAAAAAAAAAAAAAAAAAAA==",
          "dtype": "f8"
         },
         "z": {
          "bdata": "AAAAAAAAAACamZmZmZnZPw==",
          "dtype": "f8"
         }
        },
        {
         "line": {
          "color": "#E1706E",
          "width": 14
         },
         "mode": "lines",
         "name": "Link2",
         "type": "scatter3d",
         "x": {
          "bdata": "AAAAAAAAAACamZmZmZnZvw==",
          "dtype": "f8"
         },
         "y": {
          "bdata": "AAAAAAAAAAAAAAAAAAAAAA==",
          "dtype": "f8"
         },
         "z": {
          "bdata": "mpmZmZmZ2T+amZmZmZnZPw==",
          "dtype": "f8"
         }
        },
        {
         "line": {
          "color": "#E1706E",
          "width": 14
         },
         "mode": "lines",
         "name": "Link3",
         "type": "scatter3d",
         "x": {
          "bdata": "mpmZmZmZ2b+amZmZmZnpvw==",
          "dtype": "f8"
         },
         "y": {
          "bdata": "AAAAAAAAAAAAAAAAAAAAAA==",
          "dtype": "f8"
         },
         "z": {
          "bdata": "mpmZmZmZ2T+amZmZmZnZPw==",
          "dtype": "f8"
         }
        },
        {
         "line": {
          "color": "#E1706E",
          "width": 14
         },
         "mode": "lines",
         "name": "Link4",
         "type": "scatter3d",
         "x": {
          "bdata": "mpmZmZmZ6b80MzMzMzPzvw==",
          "dtype": "f8"
         },
         "y": {
          "bdata": "AAAAAAAAAAAAAAAAAAAAAA==",
          "dtype": "f8"
         },
         "z": {
          "bdata": "mpmZmZmZ2T+amZmZmZnZPw==",
          "dtype": "f8"
         }
        },
        {
         "line": {
          "color": "#F84752",
          "width": 5
         },
         "mode": "lines",
         "name": "X0 Axis",
         "type": "scatter3d",
         "x": [
          0,
          0.13
         ],
         "y": [
          0,
          0
         ],
         "z": [
          0,
          0
         ]
        },
        {
         "cmax": 1,
         "cmin": 0,
         "colorscale": [
          [
           0,
           "#F84752"
          ],
          [
           1,
           "#F84752"
          ]
         ],
         "showscale": false,
         "sizemode": "absolute",
         "sizeref": 0.013000000000000001,
         "type": "cone",
         "u": [
          1
         ],
         "v": [
          0
         ],
         "w": [
          0
         ],
         "x": [
          0.13
         ],
         "y": [
          0
         ],
         "z": [
          0
         ]
        },
        {
         "line": {
          "color": "#BBDA55",
          "width": 5
         },
         "mode": "lines",
         "name": "Y0 Axis",
         "type": "scatter3d",
         "x": [
          0,
          0
         ],
         "y": [
          0,
          0.13
         ],
         "z": [
          0,
          0
         ]
        },
        {
         "cmax": 1,
         "cmin": 0,
         "colorscale": [
          [
           0,
           "#BBDA55"
          ],
          [
           1,
           "#BBDA55"
          ]
         ],
         "showscale": false,
         "sizemode": "absolute",
         "sizeref": 0.013000000000000001,
         "type": "cone",
         "u": [
          0
         ],
         "v": [
          1
         ],
         "w": [
          0
         ],
         "x": [
          0
         ],
         "y": [
          0.13
         ],
         "z": [
          0
         ]
        },
        {
         "line": {
          "color": "#8EC1E1",
          "width": 5
         },
         "mode": "lines",
         "name": "Z0 Axis",
         "type": "scatter3d",
         "x": [
          0,
          0
         ],
         "y": [
          0,
          0
         ],
         "z": [
          0,
          0.13
         ]
        },
        {
         "cmax": 1,
         "cmin": 0,
         "colorscale": [
          [
           0,
           "#8EC1E1"
          ],
          [
           1,
           "#8EC1E1"
          ]
         ],
         "showscale": false,
         "sizemode": "absolute",
         "sizeref": 0.013000000000000001,
         "type": "cone",
         "u": [
          0
         ],
         "v": [
          0
         ],
         "w": [
          1
         ],
         "x": [
          0
         ],
         "y": [
          0
         ],
         "z": [
          0.13
         ]
        },
        {
         "line": {
          "color": "#F84752",
          "width": 5
         },
         "mode": "lines",
         "name": "X1 Axis",
         "type": "scatter3d",
         "x": [
          0,
          0.13
         ],
         "y": [
          0,
          0
         ],
         "z": [
          0.4,
          0.4
         ]
        },
        {
         "cmax": 1,
         "cmin": 0,
         "colorscale": [
          [
           0,
           "#F84752"
          ],
          [
           1,
           "#F84752"
          ]
         ],
         "showscale": false,
         "sizemode": "absolute",
         "sizeref": 0.013000000000000001,
         "type": "cone",
         "u": [
          1
         ],
         "v": [
          0
         ],
         "w": [
          0
         ],
         "x": [
          0.13
         ],
         "y": [
          0
         ],
         "z": [
          0.4
         ]
        },
        {
         "line": {
          "color": "#BBDA55",
          "width": 5
         },
         "mode": "lines",
         "name": "Y1 Axis",
         "type": "scatter3d",
         "x": [
          0,
          0
         ],
         "y": [
          0,
          7.960204194457797e-18
         ],
         "z": [
          0.4,
          0.53
         ]
        },
        {
         "cmax": 1,
         "cmin": 0,
         "colorscale": [
          [
           0,
           "#BBDA55"
          ],
          [
           1,
           "#BBDA55"
          ]
         ],
         "showscale": false,
         "sizemode": "absolute",
         "sizeref": 0.013000000000000001,
         "type": "cone",
         "u": [
          0
         ],
         "v": [
          6.123233995736766e-17
         ],
         "w": [
          1
         ],
         "x": [
          0
         ],
         "y": [
          7.960204194457797e-18
         ],
         "z": [
          0.53
         ]
        },
        {
         "line": {
          "color": "#8EC1E1",
          "width": 5
         },
         "mode": "lines",
         "name": "Z1 Axis",
         "type": "scatter3d",
         "x": [
          0,
          0
         ],
         "y": [
          0,
          -0.13
         ],
         "z": [
          0.4,
          0.4
         ]
        },
        {
         "cmax": 1,
         "cmin": 0,
         "colorscale": [
          [
           0,
           "#8EC1E1"
          ],
          [
           1,
           "#8EC1E1"
          ]
         ],
         "showscale": false,
         "sizemode": "absolute",
         "sizeref": 0.013000000000000001,
         "type": "cone",
         "u": [
          0
         ],
         "v": [
          -1
         ],
         "w": [
          6.123233995736766e-17
         ],
         "x": [
          0
         ],
         "y": [
          -0.13
         ],
         "z": [
          0.4
         ]
        },
        {
         "line": {
          "color": "#F84752",
          "width": 5
         },
         "mode": "lines",
         "name": "X2 Axis",
         "type": "scatter3d",
         "x": [
          -0.4,
          -0.27
         ],
         "y": [
          0,
          0
         ],
         "z": [
          0.4,
          0.4
         ]
        },
        {
         "cmax": 1,
         "cmin": 0,
         "colorscale": [
          [
           0,
           "#F84752"
          ],
          [
           1,
           "#F84752"
          ]
         ],
         "showscale": false,
         "sizemode": "absolute",
         "sizeref": 0.013000000000000001,
         "type": "cone",
         "u": [
          1
         ],
         "v": [
          0
         ],
         "w": [
          0
         ],
         "x": [
          -0.27
         ],
         "y": [
          0
         ],
         "z": [
          0.4
         ]
        },
        {
         "line": {
          "color": "#BBDA55",
          "width": 5
         },
         "mode": "lines",
         "name": "Y2 Axis",
         "type": "scatter3d",
         "x": [
          -0.4,
          -0.4
         ],
         "y": [
          0,
          7.960204194457797e-18
         ],
         "z": [
          0.4,
          0.53
         ]
        },
        {
         "cmax": 1,
         "cmin": 0,
         "colorscale": [
          [
           0,
           "#BBDA55"
          ],
          [
           1,
           "#BBDA55"
          ]
         ],
         "showscale": false,
         "sizemode": "absolute",
         "sizeref": 0.013000000000000001,
         "type": "cone",
         "u": [
          0
         ],
         "v": [
          6.123233995736766e-17
         ],
         "w": [
          1
         ],
         "x": [
          -0.4
         ],
         "y": [
          7.960204194457797e-18
         ],
         "z": [
          0.53
         ]
        },
        {
         "line": {
          "color": "#8EC1E1",
          "width": 5
         },
         "mode": "lines",
         "name": "Z2 Axis",
         "type": "scatter3d",
         "x": [
          -0.4,
          -0.4
         ],
         "y": [
          0,
          -0.13
         ],
         "z": [
          0.4,
          0.4
         ]
        },
        {
         "cmax": 1,
         "cmin": 0,
         "colorscale": [
          [
           0,
           "#8EC1E1"
          ],
          [
           1,
           "#8EC1E1"
          ]
         ],
         "showscale": false,
         "sizemode": "absolute",
         "sizeref": 0.013000000000000001,
         "type": "cone",
         "u": [
          0
         ],
         "v": [
          -1
         ],
         "w": [
          6.123233995736766e-17
         ],
         "x": [
          -0.4
         ],
         "y": [
          -0.13
         ],
         "z": [
          0.4
         ]
        },
        {
         "line": {
          "color": "#F84752",
          "width": 5
         },
         "mode": "lines",
         "name": "X3 Axis",
         "type": "scatter3d",
         "x": [
          -0.8,
          -0.67
         ],
         "y": [
          0,
          0
         ],
         "z": [
          0.4,
          0.4
         ]
        },
        {
         "cmax": 1,
         "cmin": 0,
         "colorscale": [
          [
           0,
           "#F84752"
          ],
          [
           1,
           "#F84752"
          ]
         ],
         "showscale": false,
         "sizemode": "absolute",
         "sizeref": 0.013000000000000001,
         "type": "cone",
         "u": [
          1
         ],
         "v": [
          0
         ],
         "w": [
          0
         ],
         "x": [
          -0.67
         ],
         "y": [
          0
         ],
         "z": [
          0.4
         ]
        },
        {
         "line": {
          "color": "#BBDA55",
          "width": 5
         },
         "mode": "lines",
         "name": "Y3 Axis",
         "type": "scatter3d",
         "x": [
          -0.8,
          -0.8
         ],
         "y": [
          0,
          7.960204194457797e-18
         ],
         "z": [
          0.4,
          0.53
         ]
        },
        {
         "cmax": 1,
         "cmin": 0,
         "colorscale": [
          [
           0,
           "#BBDA55"
          ],
          [
           1,
           "#BBDA55"
          ]
         ],
         "showscale": false,
         "sizemode": "absolute",
         "sizeref": 0.013000000000000001,
         "type": "cone",
         "u": [
          0
         ],
         "v": [
          6.123233995736766e-17
         ],
         "w": [
          1
         ],
         "x": [
          -0.8
         ],
         "y": [
          7.960204194457797e-18
         ],
         "z": [
          0.53
         ]
        },
        {
         "line": {
          "color": "#8EC1E1",
          "width": 5
         },
         "mode": "lines",
         "name": "Z3 Axis",
         "type": "scatter3d",
         "x": [
          -0.8,
          -0.8
         ],
         "y": [
          0,
          -0.13
         ],
         "z": [
          0.4,
          0.4
         ]
        },
        {
         "cmax": 1,
         "cmin": 0,
         "colorscale": [
          [
           0,
           "#8EC1E1"
          ],
          [
           1,
           "#8EC1E1"
          ]
         ],
         "showscale": false,
         "sizemode": "absolute",
         "sizeref": 0.013000000000000001,
         "type": "cone",
         "u": [
          0
         ],
         "v": [
          -1
         ],
         "w": [
          6.123233995736766e-17
         ],
         "x": [
          -0.8
         ],
         "y": [
          -0.13
         ],
         "z": [
          0.4
         ]
        },
        {
         "line": {
          "color": "#F84752",
          "width": 5
         },
         "mode": "lines",
         "name": "X4 Axis",
         "type": "scatter3d",
         "x": [
          -1.2000000000000002,
          -1.1350000000000002
         ],
         "y": [
          0,
          0
         ],
         "z": [
          0.4,
          0.4
         ]
        },
        {
         "cmax": 1,
         "cmin": 0,
         "colorscale": [
          [
           0,
           "#F84752"
          ],
          [
           1,
           "#F84752"
          ]
         ],
         "showscale": false,
         "sizemode": "absolute",
         "sizeref": 0.006500000000000001,
         "type": "cone",
         "u": [
          1
         ],
         "v": [
          0
         ],
         "w": [
          0
         ],
         "x": [
          -1.1350000000000002
         ],
         "y": [
          0
         ],
         "z": [
          0.4
         ]
        },
        {
         "line": {
          "color": "#BBDA55",
          "width": 5
         },
         "mode": "lines",
         "name": "Y4 Axis",
         "type": "scatter3d",
         "x": [
          -1.2000000000000002,
          -1.2000000000000002
         ],
         "y": [
          0,
          3.980102097228898e-18
         ],
         "z": [
          0.4,
          0.465
         ]
        },
        {
         "cmax": 1,
         "cmin": 0,
         "colorscale": [
          [
           0,
           "#BBDA55"
          ],
          [
           1,
           "#BBDA55"
          ]
         ],
         "showscale": false,
         "sizemode": "absolute",
         "sizeref": 0.006500000000000001,
         "type": "cone",
         "u": [
          0
         ],
         "v": [
          6.123233995736766e-17
         ],
         "w": [
          1
         ],
         "x": [
          -1.2000000000000002
         ],
         "y": [
          3.980102097228898e-18
         ],
         "z": [
          0.465
         ]
        },
        {
         "line": {
          "color": "#8EC1E1",
          "width": 5
         },
         "mode": "lines",
         "name": "Z4 Axis",
         "type": "scatter3d",
         "x": [
          -1.2000000000000002,
          -1.2000000000000002
         ],
         "y": [
          0,
          -0.065
         ],
         "z": [
          0.4,
          0.4
         ]
        },
        {
         "cmax": 1,
         "cmin": 0,
         "colorscale": [
          [
           0,
           "#8EC1E1"
          ],
          [
           1,
           "#8EC1E1"
          ]
         ],
         "showscale": false,
         "sizemode": "absolute",
         "sizeref": 0.006500000000000001,
         "type": "cone",
         "u": [
          0
         ],
         "v": [
          -1
         ],
         "w": [
          6.123233995736766e-17
         ],
         "x": [
          -1.2000000000000002
         ],
         "y": [
          -0.065
         ],
         "z": [
          0.4
         ]
        }
       ],
       "layout": {
        "height": 600,
        "scene": {
         "aspectmode": "cube",
         "camera": {
          "center": {
           "x": 0,
           "y": 0,
           "z": 0
          },
          "eye": {
           "x": 1.8973665961010275,
           "y": -1.8973665961010275,
           "z": 1.8973665961010275
          },
          "up": {
           "x": 0,
           "y": 0,
           "z": 1
          }
         },
         "xaxis": {
          "nticks": 10,
          "range": [
           -1.391402170474087,
           1.391402170474087
          ],
          "title": {
           "text": "X"
          }
         },
         "yaxis": {
          "nticks": 10,
          "range": [
           -1.391402170474087,
           1.391402170474087
          ],
          "title": {
           "text": "Y"
          }
         },
         "zaxis": {
          "nticks": 10,
          "range": [
           -1.391402170474087,
           1.391402170474087
          ],
          "title": {
           "text": "Z"
          }
         }
        },
        "template": {
         "data": {
          "bar": [
           {
            "error_x": {
             "color": "#2a3f5f"
            },
            "error_y": {
             "color": "#2a3f5f"
            },
            "marker": {
             "line": {
              "color": "#E5ECF6",
              "width": 0.5
             },
             "pattern": {
              "fillmode": "overlay",
              "size": 10,
              "solidity": 0.2
             }
            },
            "type": "bar"
           }
          ],
          "barpolar": [
           {
            "marker": {
             "line": {
              "color": "#E5ECF6",
              "width": 0.5
             },
             "pattern": {
              "fillmode": "overlay",
              "size": 10,
              "solidity": 0.2
             }
            },
            "type": "barpolar"
           }
          ],
          "carpet": [
           {
            "aaxis": {
             "endlinecolor": "#2a3f5f",
             "gridcolor": "white",
             "linecolor": "white",
             "minorgridcolor": "white",
             "startlinecolor": "#2a3f5f"
            },
            "baxis": {
             "endlinecolor": "#2a3f5f",
             "gridcolor": "white",
             "linecolor": "white",
             "minorgridcolor": "white",
             "startlinecolor": "#2a3f5f"
            },
            "type": "carpet"
           }
          ],
          "choropleth": [
           {
            "colorbar": {
             "outlinewidth": 0,
             "ticks": ""
            },
            "type": "choropleth"
           }
          ],
          "contour": [
           {
            "colorbar": {
             "outlinewidth": 0,
             "ticks": ""
            },
            "colorscale": [
             [
              0,
              "#0d0887"
             ],
             [
              0.1111111111111111,
              "#46039f"
             ],
             [
              0.2222222222222222,
              "#7201a8"
             ],
             [
              0.3333333333333333,
              "#9c179e"
             ],
             [
              0.4444444444444444,
              "#bd3786"
             ],
             [
              0.5555555555555556,
              "#d8576b"
             ],
             [
              0.6666666666666666,
              "#ed7953"
             ],
             [
              0.7777777777777778,
              "#fb9f3a"
             ],
             [
              0.8888888888888888,
              "#fdca26"
             ],
             [
              1,
              "#f0f921"
             ]
            ],
            "type": "contour"
           }
          ],
          "contourcarpet": [
           {
            "colorbar": {
             "outlinewidth": 0,
             "ticks": ""
            },
            "type": "contourcarpet"
           }
          ],
          "heatmap": [
           {
            "colorbar": {
             "outlinewidth": 0,
             "ticks": ""
            },
            "colorscale": [
             [
              0,
              "#0d0887"
             ],
             [
              0.1111111111111111,
              "#46039f"
             ],
             [
              0.2222222222222222,
              "#7201a8"
             ],
             [
              0.3333333333333333,
              "#9c179e"
             ],
             [
              0.4444444444444444,
              "#bd3786"
             ],
             [
              0.5555555555555556,
              "#d8576b"
             ],
             [
              0.6666666666666666,
              "#ed7953"
             ],
             [
              0.7777777777777778,
              "#fb9f3a"
             ],
             [
              0.8888888888888888,
              "#fdca26"
             ],
             [
              1,
              "#f0f921"
             ]
            ],
            "type": "heatmap"
           }
          ],
          "histogram": [
           {
            "marker": {
             "pattern": {
              "fillmode": "overlay",
              "size": 10,
              "solidity": 0.2
             }
            },
            "type": "histogram"
           }
          ],
          "histogram2d": [
           {
            "colorbar": {
             "outlinewidth": 0,
             "ticks": ""
            },
            "colorscale": [
             [
              0,
              "#0d0887"
             ],
             [
              0.1111111111111111,
              "#46039f"
             ],
             [
              0.2222222222222222,
              "#7201a8"
             ],
             [
              0.3333333333333333,
              "#9c179e"
             ],
             [
              0.4444444444444444,
              "#bd3786"
             ],
             [
              0.5555555555555556,
              "#d8576b"
             ],
             [
              0.6666666666666666,
              "#ed7953"
             ],
             [
              0.7777777777777778,
              "#fb9f3a"
             ],
             [
              0.8888888888888888,
              "#fdca26"
             ],
             [
              1,
              "#f0f921"
             ]
            ],
            "type": "histogram2d"
           }
          ],
          "histogram2dcontour": [
           {
            "colorbar": {
             "outlinewidth": 0,
             "ticks": ""
            },
            "colorscale": [
             [
              0,
              "#0d0887"
             ],
             [
              0.1111111111111111,
              "#46039f"
             ],
             [
              0.2222222222222222,
              "#7201a8"
             ],
             [
              0.3333333333333333,
              "#9c179e"
             ],
             [
              0.4444444444444444,
              "#bd3786"
             ],
             [
              0.5555555555555556,
              "#d8576b"
             ],
             [
              0.6666666666666666,
              "#ed7953"
             ],
             [
              0.7777777777777778,
              "#fb9f3a"
             ],
             [
              0.8888888888888888,
              "#fdca26"
             ],
             [
              1,
              "#f0f921"
             ]
            ],
            "type": "histogram2dcontour"
           }
          ],
          "mesh3d": [
           {
            "colorbar": {
             "outlinewidth": 0,
             "ticks": ""
            },
            "type": "mesh3d"
           }
          ],
          "parcoords": [
           {
            "line": {
             "colorbar": {
              "outlinewidth": 0,
              "ticks": ""
             }
            },
            "type": "parcoords"
           }
          ],
          "pie": [
           {
            "automargin": true,
            "type": "pie"
           }
          ],
          "scatter": [
           {
            "fillpattern": {
             "fillmode": "overlay",
             "size": 10,
             "solidity": 0.2
            },
            "type": "scatter"
           }
          ],
          "scatter3d": [
           {
            "line": {
             "colorbar": {
              "outlinewidth": 0,
              "ticks": ""
             }
            },
            "marker": {
             "colorbar": {
              "outlinewidth": 0,
              "ticks": ""
             }
            },
            "type": "scatter3d"
           }
          ],
          "scattercarpet": [
           {
            "marker": {
             "colorbar": {
              "outlinewidth": 0,
              "ticks": ""
             }
            },
            "type": "scattercarpet"
           }
          ],
          "scattergeo": [
           {
            "marker": {
             "colorbar": {
              "outlinewidth": 0,
              "ticks": ""
             }
            },
            "type": "scattergeo"
           }
          ],
          "scattergl": [
           {
            "marker": {
             "colorbar": {
              "outlinewidth": 0,
              "ticks": ""
             }
            },
            "type": "scattergl"
           }
          ],
          "scattermap": [
           {
            "marker": {
             "colorbar": {
              "outlinewidth": 0,
              "ticks": ""
             }
            },
            "type": "scattermap"
           }
          ],
          "scattermapbox": [
           {
            "marker": {
             "colorbar": {
              "outlinewidth": 0,
              "ticks": ""
             }
            },
            "type": "scattermapbox"
           }
          ],
          "scatterpolar": [
           {
            "marker": {
             "colorbar": {
              "outlinewidth": 0,
              "ticks": ""
             }
            },
            "type": "scatterpolar"
           }
          ],
          "scatterpolargl": [
           {
            "marker": {
             "colorbar": {
              "outlinewidth": 0,
              "ticks": ""
             }
            },
            "type": "scatterpolargl"
           }
          ],
          "scatterternary": [
           {
            "marker": {
             "colorbar": {
              "outlinewidth": 0,
              "ticks": ""
             }
            },
            "type": "scatterternary"
           }
          ],
          "surface": [
           {
            "colorbar": {
             "outlinewidth": 0,
             "ticks": ""
            },
            "colorscale": [
             [
              0,
              "#0d0887"
             ],
             [
              0.1111111111111111,
              "#46039f"
             ],
             [
              0.2222222222222222,
              "#7201a8"
             ],
             [
              0.3333333333333333,
              "#9c179e"
             ],
             [
              0.4444444444444444,
              "#bd3786"
             ],
             [
              0.5555555555555556,
              "#d8576b"
             ],
             [
              0.6666666666666666,
              "#ed7953"
             ],
             [
              0.7777777777777778,
              "#fb9f3a"
             ],
             [
              0.8888888888888888,
              "#fdca26"
             ],
             [
              1,
              "#f0f921"
             ]
            ],
            "type": "surface"
           }
          ],
          "table": [
           {
            "cells": {
             "fill": {
              "color": "#EBF0F8"
             },
             "line": {
              "color": "white"
             }
            },
            "header": {
             "fill": {
              "color": "#C8D4E3"
             },
             "line": {
              "color": "white"
             }
            },
            "type": "table"
           }
          ]
         },
         "layout": {
          "annotationdefaults": {
           "arrowcolor": "#2a3f5f",
           "arrowhead": 0,
           "arrowwidth": 1
          },
          "autotypenumbers": "strict",
          "coloraxis": {
           "colorbar": {
            "outlinewidth": 0,
            "ticks": ""
           }
          },
          "colorscale": {
           "diverging": [
            [
             0,
             "#8e0152"
            ],
            [
             0.1,
             "#c51b7d"
            ],
            [
             0.2,
             "#de77ae"
            ],
            [
             0.3,
             "#f1b6da"
            ],
            [
             0.4,
             "#fde0ef"
            ],
            [
             0.5,
             "#f7f7f7"
            ],
            [
             0.6,
             "#e6f5d0"
            ],
            [
             0.7,
             "#b8e186"
            ],
            [
             0.8,
             "#7fbc41"
            ],
            [
             0.9,
             "#4d9221"
            ],
            [
             1,
             "#276419"
            ]
           ],
           "sequential": [
            [
             0,
             "#0d0887"
            ],
            [
             0.1111111111111111,
             "#46039f"
            ],
            [
             0.2222222222222222,
             "#7201a8"
            ],
            [
             0.3333333333333333,
             "#9c179e"
            ],
            [
             0.4444444444444444,
             "#bd3786"
            ],
            [
             0.5555555555555556,
             "#d8576b"
            ],
            [
             0.6666666666666666,
             "#ed7953"
            ],
            [
             0.7777777777777778,
             "#fb9f3a"
            ],
            [
             0.8888888888888888,
             "#fdca26"
            ],
            [
             1,
             "#f0f921"
            ]
           ],
           "sequentialminus": [
            [
             0,
             "#0d0887"
            ],
            [
             0.1111111111111111,
             "#46039f"
            ],
            [
             0.2222222222222222,
             "#7201a8"
            ],
            [
             0.3333333333333333,
             "#9c179e"
            ],
            [
             0.4444444444444444,
             "#bd3786"
            ],
            [
             0.5555555555555556,
             "#d8576b"
            ],
            [
             0.6666666666666666,
             "#ed7953"
            ],
            [
             0.7777777777777778,
             "#fb9f3a"
            ],
            [
             0.8888888888888888,
             "#fdca26"
            ],
            [
             1,
             "#f0f921"
            ]
           ]
          },
          "colorway": [
           "#636efa",
           "#EF553B",
           "#00cc96",
           "#ab63fa",
           "#FFA15A",
           "#19d3f3",
           "#FF6692",
           "#B6E880",
           "#FF97FF",
           "#FECB52"
          ],
          "font": {
           "color": "#2a3f5f"
          },
          "geo": {
           "bgcolor": "white",
           "lakecolor": "white",
           "landcolor": "#E5ECF6",
           "showlakes": true,
           "showland": true,
           "subunitcolor": "white"
          },
          "hoverlabel": {
           "align": "left"
          },
          "hovermode": "closest",
          "mapbox": {
           "style": "light"
          },
          "paper_bgcolor": "white",
          "plot_bgcolor": "#E5ECF6",
          "polar": {
           "angularaxis": {
            "gridcolor": "white",
            "linecolor": "white",
            "ticks": ""
           },
           "bgcolor": "#E5ECF6",
           "radialaxis": {
            "gridcolor": "white",
            "linecolor": "white",
            "ticks": ""
           }
          },
          "scene": {
           "xaxis": {
            "backgroundcolor": "#E5ECF6",
            "gridcolor": "white",
            "gridwidth": 2,
            "linecolor": "white",
            "showbackground": true,
            "ticks": "",
            "zerolinecolor": "white"
           },
           "yaxis": {
            "backgroundcolor": "#E5ECF6",
            "gridcolor": "white",
            "gridwidth": 2,
            "linecolor": "white",
            "showbackground": true,
            "ticks": "",
            "zerolinecolor": "white"
           },
           "zaxis": {
            "backgroundcolor": "#E5ECF6",
            "gridcolor": "white",
            "gridwidth": 2,
            "linecolor": "white",
            "showbackground": true,
            "ticks": "",
            "zerolinecolor": "white"
           }
          },
          "shapedefaults": {
           "line": {
            "color": "#2a3f5f"
           }
          },
          "ternary": {
           "aaxis": {
            "gridcolor": "white",
            "linecolor": "white",
            "ticks": ""
           },
           "baxis": {
            "gridcolor": "white",
            "linecolor": "white",
            "ticks": ""
           },
           "bgcolor": "#E5ECF6",
           "caxis": {
            "gridcolor": "white",
            "linecolor": "white",
            "ticks": ""
           }
          },
          "title": {
           "x": 0.05
          },
          "xaxis": {
           "automargin": true,
           "gridcolor": "white",
           "linecolor": "white",
           "ticks": "",
           "title": {
            "standoff": 15
           },
           "zerolinecolor": "white",
           "zerolinewidth": 2
          },
          "yaxis": {
           "automargin": true,
           "gridcolor": "white",
           "linecolor": "white",
           "ticks": "",
           "title": {
            "standoff": 15
           },
           "zerolinecolor": "white",
           "zerolinewidth": 2
          }
         }
        },
        "width": 700
       }
      }
     },
     "metadata": {},
     "output_type": "display_data"
    },
    {
     "data": {
      "application/vnd.plotly.v1+json": {
       "config": {
        "plotlyServerURL": "https://plot.ly"
       },
       "data": [
        {
         "line": {
          "color": "#E1706E",
          "width": 14
         },
         "mode": "lines",
         "name": "Link1",
         "type": "scatter3d",
         "x": {
          "bdata": "AAAAAAAAAAAAAAAAAAAAAA==",
          "dtype": "f8"
         },
         "y": {
          "bdata": "AAAAAAAAAAAAAAAAAAAAAA==",
          "dtype": "f8"
         },
         "z": {
          "bdata": "AAAAAAAAAACamZmZmZnZPw==",
          "dtype": "f8"
         }
        },
        {
         "line": {
          "color": "#E1706E",
          "width": 14
         },
         "mode": "lines",
         "name": "Link2",
         "type": "scatter3d",
         "x": {
          "bdata": "AAAAAAAAAACamZmZmZnZvw==",
          "dtype": "f8"
         },
         "y": {
          "bdata": "AAAAAAAAAAAAAAAAAAAAAA==",
          "dtype": "f8"
         },
         "z": {
          "bdata": "mpmZmZmZ2T+amZmZmZnZPw==",
          "dtype": "f8"
         }
        },
        {
         "line": {
          "color": "#E1706E",
          "width": 14
         },
         "mode": "lines",
         "name": "Link3",
         "type": "scatter3d",
         "x": {
          "bdata": "mpmZmZmZ2b+amZmZmZnpvw==",
          "dtype": "f8"
         },
         "y": {
          "bdata": "AAAAAAAAAAAAAAAAAAAAAA==",
          "dtype": "f8"
         },
         "z": {
          "bdata": "mpmZmZmZ2T+amZmZmZnZPw==",
          "dtype": "f8"
         }
        },
        {
         "line": {
          "color": "#E1706E",
          "width": 14
         },
         "mode": "lines",
         "name": "Link4",
         "type": "scatter3d",
         "x": {
          "bdata": "mpmZmZmZ6b80MzMzMzPzvw==",
          "dtype": "f8"
         },
         "y": {
          "bdata": "AAAAAAAAAAAAAAAAAAAAAA==",
          "dtype": "f8"
         },
         "z": {
          "bdata": "mpmZmZmZ2T+amZmZmZnZPw==",
          "dtype": "f8"
         }
        },
        {
         "line": {
          "color": "#F84752",
          "width": 5
         },
         "mode": "lines",
         "name": "X0 Axis",
         "type": "scatter3d",
         "x": [
          0,
          0.13
         ],
         "y": [
          0,
          0
         ],
         "z": [
          0,
          0
         ]
        },
        {
         "cmax": 1,
         "cmin": 0,
         "colorscale": [
          [
           0,
           "#F84752"
          ],
          [
           1,
           "#F84752"
          ]
         ],
         "showscale": false,
         "sizemode": "absolute",
         "sizeref": 0.013000000000000001,
         "type": "cone",
         "u": [
          1
         ],
         "v": [
          0
         ],
         "w": [
          0
         ],
         "x": [
          0.13
         ],
         "y": [
          0
         ],
         "z": [
          0
         ]
        },
        {
         "line": {
          "color": "#BBDA55",
          "width": 5
         },
         "mode": "lines",
         "name": "Y0 Axis",
         "type": "scatter3d",
         "x": [
          0,
          0
         ],
         "y": [
          0,
          0.13
         ],
         "z": [
          0,
          0
         ]
        },
        {
         "cmax": 1,
         "cmin": 0,
         "colorscale": [
          [
           0,
           "#BBDA55"
          ],
          [
           1,
           "#BBDA55"
          ]
         ],
         "showscale": false,
         "sizemode": "absolute",
         "sizeref": 0.013000000000000001,
         "type": "cone",
         "u": [
          0
         ],
         "v": [
          1
         ],
         "w": [
          0
         ],
         "x": [
          0
         ],
         "y": [
          0.13
         ],
         "z": [
          0
         ]
        },
        {
         "line": {
          "color": "#8EC1E1",
          "width": 5
         },
         "mode": "lines",
         "name": "Z0 Axis",
         "type": "scatter3d",
         "x": [
          0,
          0
         ],
         "y": [
          0,
          0
         ],
         "z": [
          0,
          0.13
         ]
        },
        {
         "cmax": 1,
         "cmin": 0,
         "colorscale": [
          [
           0,
           "#8EC1E1"
          ],
          [
           1,
           "#8EC1E1"
          ]
         ],
         "showscale": false,
         "sizemode": "absolute",
         "sizeref": 0.013000000000000001,
         "type": "cone",
         "u": [
          0
         ],
         "v": [
          0
         ],
         "w": [
          1
         ],
         "x": [
          0
         ],
         "y": [
          0
         ],
         "z": [
          0.13
         ]
        },
        {
         "line": {
          "color": "#F84752",
          "width": 5
         },
         "mode": "lines",
         "name": "X1 Axis",
         "type": "scatter3d",
         "x": [
          0,
          0.13
         ],
         "y": [
          0,
          0
         ],
         "z": [
          0.4,
          0.4
         ]
        },
        {
         "cmax": 1,
         "cmin": 0,
         "colorscale": [
          [
           0,
           "#F84752"
          ],
          [
           1,
           "#F84752"
          ]
         ],
         "showscale": false,
         "sizemode": "absolute",
         "sizeref": 0.013000000000000001,
         "type": "cone",
         "u": [
          1
         ],
         "v": [
          0
         ],
         "w": [
          0
         ],
         "x": [
          0.13
         ],
         "y": [
          0
         ],
         "z": [
          0.4
         ]
        },
        {
         "line": {
          "color": "#BBDA55",
          "width": 5
         },
         "mode": "lines",
         "name": "Y1 Axis",
         "type": "scatter3d",
         "x": [
          0,
          0
         ],
         "y": [
          0,
          7.960204194457797e-18
         ],
         "z": [
          0.4,
          0.53
         ]
        },
        {
         "cmax": 1,
         "cmin": 0,
         "colorscale": [
          [
           0,
           "#BBDA55"
          ],
          [
           1,
           "#BBDA55"
          ]
         ],
         "showscale": false,
         "sizemode": "absolute",
         "sizeref": 0.013000000000000001,
         "type": "cone",
         "u": [
          0
         ],
         "v": [
          6.123233995736766e-17
         ],
         "w": [
          1
         ],
         "x": [
          0
         ],
         "y": [
          7.960204194457797e-18
         ],
         "z": [
          0.53
         ]
        },
        {
         "line": {
          "color": "#8EC1E1",
          "width": 5
         },
         "mode": "lines",
         "name": "Z1 Axis",
         "type": "scatter3d",
         "x": [
          0,
          0
         ],
         "y": [
          0,
          -0.13
         ],
         "z": [
          0.4,
          0.4
         ]
        },
        {
         "cmax": 1,
         "cmin": 0,
         "colorscale": [
          [
           0,
           "#8EC1E1"
          ],
          [
           1,
           "#8EC1E1"
          ]
         ],
         "showscale": false,
         "sizemode": "absolute",
         "sizeref": 0.013000000000000001,
         "type": "cone",
         "u": [
          0
         ],
         "v": [
          -1
         ],
         "w": [
          6.123233995736766e-17
         ],
         "x": [
          0
         ],
         "y": [
          -0.13
         ],
         "z": [
          0.4
         ]
        },
        {
         "line": {
          "color": "#F84752",
          "width": 5
         },
         "mode": "lines",
         "name": "X2 Axis",
         "type": "scatter3d",
         "x": [
          -0.4,
          -0.27
         ],
         "y": [
          0,
          0
         ],
         "z": [
          0.4,
          0.4
         ]
        },
        {
         "cmax": 1,
         "cmin": 0,
         "colorscale": [
          [
           0,
           "#F84752"
          ],
          [
           1,
           "#F84752"
          ]
         ],
         "showscale": false,
         "sizemode": "absolute",
         "sizeref": 0.013000000000000001,
         "type": "cone",
         "u": [
          1
         ],
         "v": [
          0
         ],
         "w": [
          0
         ],
         "x": [
          -0.27
         ],
         "y": [
          0
         ],
         "z": [
          0.4
         ]
        },
        {
         "line": {
          "color": "#BBDA55",
          "width": 5
         },
         "mode": "lines",
         "name": "Y2 Axis",
         "type": "scatter3d",
         "x": [
          -0.4,
          -0.4
         ],
         "y": [
          0,
          7.960204194457797e-18
         ],
         "z": [
          0.4,
          0.53
         ]
        },
        {
         "cmax": 1,
         "cmin": 0,
         "colorscale": [
          [
           0,
           "#BBDA55"
          ],
          [
           1,
           "#BBDA55"
          ]
         ],
         "showscale": false,
         "sizemode": "absolute",
         "sizeref": 0.013000000000000001,
         "type": "cone",
         "u": [
          0
         ],
         "v": [
          6.123233995736766e-17
         ],
         "w": [
          1
         ],
         "x": [
          -0.4
         ],
         "y": [
          7.960204194457797e-18
         ],
         "z": [
          0.53
         ]
        },
        {
         "line": {
          "color": "#8EC1E1",
          "width": 5
         },
         "mode": "lines",
         "name": "Z2 Axis",
         "type": "scatter3d",
         "x": [
          -0.4,
          -0.4
         ],
         "y": [
          0,
          -0.13
         ],
         "z": [
          0.4,
          0.4
         ]
        },
        {
         "cmax": 1,
         "cmin": 0,
         "colorscale": [
          [
           0,
           "#8EC1E1"
          ],
          [
           1,
           "#8EC1E1"
          ]
         ],
         "showscale": false,
         "sizemode": "absolute",
         "sizeref": 0.013000000000000001,
         "type": "cone",
         "u": [
          0
         ],
         "v": [
          -1
         ],
         "w": [
          6.123233995736766e-17
         ],
         "x": [
          -0.4
         ],
         "y": [
          -0.13
         ],
         "z": [
          0.4
         ]
        },
        {
         "line": {
          "color": "#F84752",
          "width": 5
         },
         "mode": "lines",
         "name": "X3 Axis",
         "type": "scatter3d",
         "x": [
          -0.8,
          -0.67
         ],
         "y": [
          0,
          0
         ],
         "z": [
          0.4,
          0.4
         ]
        },
        {
         "cmax": 1,
         "cmin": 0,
         "colorscale": [
          [
           0,
           "#F84752"
          ],
          [
           1,
           "#F84752"
          ]
         ],
         "showscale": false,
         "sizemode": "absolute",
         "sizeref": 0.013000000000000001,
         "type": "cone",
         "u": [
          1
         ],
         "v": [
          0
         ],
         "w": [
          0
         ],
         "x": [
          -0.67
         ],
         "y": [
          0
         ],
         "z": [
          0.4
         ]
        },
        {
         "line": {
          "color": "#BBDA55",
          "width": 5
         },
         "mode": "lines",
         "name": "Y3 Axis",
         "type": "scatter3d",
         "x": [
          -0.8,
          -0.8
         ],
         "y": [
          0,
          7.960204194457797e-18
         ],
         "z": [
          0.4,
          0.53
         ]
        },
        {
         "cmax": 1,
         "cmin": 0,
         "colorscale": [
          [
           0,
           "#BBDA55"
          ],
          [
           1,
           "#BBDA55"
          ]
         ],
         "showscale": false,
         "sizemode": "absolute",
         "sizeref": 0.013000000000000001,
         "type": "cone",
         "u": [
          0
         ],
         "v": [
          6.123233995736766e-17
         ],
         "w": [
          1
         ],
         "x": [
          -0.8
         ],
         "y": [
          7.960204194457797e-18
         ],
         "z": [
          0.53
         ]
        },
        {
         "line": {
          "color": "#8EC1E1",
          "width": 5
         },
         "mode": "lines",
         "name": "Z3 Axis",
         "type": "scatter3d",
         "x": [
          -0.8,
          -0.8
         ],
         "y": [
          0,
          -0.13
         ],
         "z": [
          0.4,
          0.4
         ]
        },
        {
         "cmax": 1,
         "cmin": 0,
         "colorscale": [
          [
           0,
           "#8EC1E1"
          ],
          [
           1,
           "#8EC1E1"
          ]
         ],
         "showscale": false,
         "sizemode": "absolute",
         "sizeref": 0.013000000000000001,
         "type": "cone",
         "u": [
          0
         ],
         "v": [
          -1
         ],
         "w": [
          6.123233995736766e-17
         ],
         "x": [
          -0.8
         ],
         "y": [
          -0.13
         ],
         "z": [
          0.4
         ]
        },
        {
         "line": {
          "color": "#F84752",
          "width": 5
         },
         "mode": "lines",
         "name": "X4 Axis",
         "type": "scatter3d",
         "x": [
          -1.2000000000000002,
          -1.1350000000000002
         ],
         "y": [
          0,
          0
         ],
         "z": [
          0.4,
          0.4
         ]
        },
        {
         "cmax": 1,
         "cmin": 0,
         "colorscale": [
          [
           0,
           "#F84752"
          ],
          [
           1,
           "#F84752"
          ]
         ],
         "showscale": false,
         "sizemode": "absolute",
         "sizeref": 0.006500000000000001,
         "type": "cone",
         "u": [
          1
         ],
         "v": [
          0
         ],
         "w": [
          0
         ],
         "x": [
          -1.1350000000000002
         ],
         "y": [
          0
         ],
         "z": [
          0.4
         ]
        },
        {
         "line": {
          "color": "#BBDA55",
          "width": 5
         },
         "mode": "lines",
         "name": "Y4 Axis",
         "type": "scatter3d",
         "x": [
          -1.2000000000000002,
          -1.2000000000000002
         ],
         "y": [
          0,
          3.980102097228898e-18
         ],
         "z": [
          0.4,
          0.465
         ]
        },
        {
         "cmax": 1,
         "cmin": 0,
         "colorscale": [
          [
           0,
           "#BBDA55"
          ],
          [
           1,
           "#BBDA55"
          ]
         ],
         "showscale": false,
         "sizemode": "absolute",
         "sizeref": 0.006500000000000001,
         "type": "cone",
         "u": [
          0
         ],
         "v": [
          6.123233995736766e-17
         ],
         "w": [
          1
         ],
         "x": [
          -1.2000000000000002
         ],
         "y": [
          3.980102097228898e-18
         ],
         "z": [
          0.465
         ]
        },
        {
         "line": {
          "color": "#8EC1E1",
          "width": 5
         },
         "mode": "lines",
         "name": "Z4 Axis",
         "type": "scatter3d",
         "x": [
          -1.2000000000000002,
          -1.2000000000000002
         ],
         "y": [
          0,
          -0.065
         ],
         "z": [
          0.4,
          0.4
         ]
        },
        {
         "cmax": 1,
         "cmin": 0,
         "colorscale": [
          [
           0,
           "#8EC1E1"
          ],
          [
           1,
           "#8EC1E1"
          ]
         ],
         "showscale": false,
         "sizemode": "absolute",
         "sizeref": 0.006500000000000001,
         "type": "cone",
         "u": [
          0
         ],
         "v": [
          -1
         ],
         "w": [
          6.123233995736766e-17
         ],
         "x": [
          -1.2000000000000002
         ],
         "y": [
          -0.065
         ],
         "z": [
          0.4
         ]
        }
       ],
       "layout": {
        "height": 600,
        "scene": {
         "aspectmode": "cube",
         "camera": {
          "center": {
           "x": 0,
           "y": 0,
           "z": 0
          },
          "eye": {
           "x": 1.8973665961010275,
           "y": -1.8973665961010275,
           "z": 1.8973665961010275
          },
          "up": {
           "x": 0,
           "y": 0,
           "z": 1
          }
         },
         "xaxis": {
          "nticks": 10,
          "range": [
           -1.391402170474087,
           1.391402170474087
          ],
          "title": {
           "text": "X"
          }
         },
         "yaxis": {
          "nticks": 10,
          "range": [
           -1.391402170474087,
           1.391402170474087
          ],
          "title": {
           "text": "Y"
          }
         },
         "zaxis": {
          "nticks": 10,
          "range": [
           -1.391402170474087,
           1.391402170474087
          ],
          "title": {
           "text": "Z"
          }
         }
        },
        "template": {
         "data": {
          "bar": [
           {
            "error_x": {
             "color": "#2a3f5f"
            },
            "error_y": {
             "color": "#2a3f5f"
            },
            "marker": {
             "line": {
              "color": "#E5ECF6",
              "width": 0.5
             },
             "pattern": {
              "fillmode": "overlay",
              "size": 10,
              "solidity": 0.2
             }
            },
            "type": "bar"
           }
          ],
          "barpolar": [
           {
            "marker": {
             "line": {
              "color": "#E5ECF6",
              "width": 0.5
             },
             "pattern": {
              "fillmode": "overlay",
              "size": 10,
              "solidity": 0.2
             }
            },
            "type": "barpolar"
           }
          ],
          "carpet": [
           {
            "aaxis": {
             "endlinecolor": "#2a3f5f",
             "gridcolor": "white",
             "linecolor": "white",
             "minorgridcolor": "white",
             "startlinecolor": "#2a3f5f"
            },
            "baxis": {
             "endlinecolor": "#2a3f5f",
             "gridcolor": "white",
             "linecolor": "white",
             "minorgridcolor": "white",
             "startlinecolor": "#2a3f5f"
            },
            "type": "carpet"
           }
          ],
          "choropleth": [
           {
            "colorbar": {
             "outlinewidth": 0,
             "ticks": ""
            },
            "type": "choropleth"
           }
          ],
          "contour": [
           {
            "colorbar": {
             "outlinewidth": 0,
             "ticks": ""
            },
            "colorscale": [
             [
              0,
              "#0d0887"
             ],
             [
              0.1111111111111111,
              "#46039f"
             ],
             [
              0.2222222222222222,
              "#7201a8"
             ],
             [
              0.3333333333333333,
              "#9c179e"
             ],
             [
              0.4444444444444444,
              "#bd3786"
             ],
             [
              0.5555555555555556,
              "#d8576b"
             ],
             [
              0.6666666666666666,
              "#ed7953"
             ],
             [
              0.7777777777777778,
              "#fb9f3a"
             ],
             [
              0.8888888888888888,
              "#fdca26"
             ],
             [
              1,
              "#f0f921"
             ]
            ],
            "type": "contour"
           }
          ],
          "contourcarpet": [
           {
            "colorbar": {
             "outlinewidth": 0,
             "ticks": ""
            },
            "type": "contourcarpet"
           }
          ],
          "heatmap": [
           {
            "colorbar": {
             "outlinewidth": 0,
             "ticks": ""
            },
            "colorscale": [
             [
              0,
              "#0d0887"
             ],
             [
              0.1111111111111111,
              "#46039f"
             ],
             [
              0.2222222222222222,
              "#7201a8"
             ],
             [
              0.3333333333333333,
              "#9c179e"
             ],
             [
              0.4444444444444444,
              "#bd3786"
             ],
             [
              0.5555555555555556,
              "#d8576b"
             ],
             [
              0.6666666666666666,
              "#ed7953"
             ],
             [
              0.7777777777777778,
              "#fb9f3a"
             ],
             [
              0.8888888888888888,
              "#fdca26"
             ],
             [
              1,
              "#f0f921"
             ]
            ],
            "type": "heatmap"
           }
          ],
          "histogram": [
           {
            "marker": {
             "pattern": {
              "fillmode": "overlay",
              "size": 10,
              "solidity": 0.2
             }
            },
            "type": "histogram"
           }
          ],
          "histogram2d": [
           {
            "colorbar": {
             "outlinewidth": 0,
             "ticks": ""
            },
            "colorscale": [
             [
              0,
              "#0d0887"
             ],
             [
              0.1111111111111111,
              "#46039f"
             ],
             [
              0.2222222222222222,
              "#7201a8"
             ],
             [
              0.3333333333333333,
              "#9c179e"
             ],
             [
              0.4444444444444444,
              "#bd3786"
             ],
             [
              0.5555555555555556,
              "#d8576b"
             ],
             [
              0.6666666666666666,
              "#ed7953"
             ],
             [
              0.7777777777777778,
              "#fb9f3a"
             ],
             [
              0.8888888888888888,
              "#fdca26"
             ],
             [
              1,
              "#f0f921"
             ]
            ],
            "type": "histogram2d"
           }
          ],
          "histogram2dcontour": [
           {
            "colorbar": {
             "outlinewidth": 0,
             "ticks": ""
            },
            "colorscale": [
             [
              0,
              "#0d0887"
             ],
             [
              0.1111111111111111,
              "#46039f"
             ],
             [
              0.2222222222222222,
              "#7201a8"
             ],
             [
              0.3333333333333333,
              "#9c179e"
             ],
             [
              0.4444444444444444,
              "#bd3786"
             ],
             [
              0.5555555555555556,
              "#d8576b"
             ],
             [
              0.6666666666666666,
              "#ed7953"
             ],
             [
              0.7777777777777778,
              "#fb9f3a"
             ],
             [
              0.8888888888888888,
              "#fdca26"
             ],
             [
              1,
              "#f0f921"
             ]
            ],
            "type": "histogram2dcontour"
           }
          ],
          "mesh3d": [
           {
            "colorbar": {
             "outlinewidth": 0,
             "ticks": ""
            },
            "type": "mesh3d"
           }
          ],
          "parcoords": [
           {
            "line": {
             "colorbar": {
              "outlinewidth": 0,
              "ticks": ""
             }
            },
            "type": "parcoords"
           }
          ],
          "pie": [
           {
            "automargin": true,
            "type": "pie"
           }
          ],
          "scatter": [
           {
            "fillpattern": {
             "fillmode": "overlay",
             "size": 10,
             "solidity": 0.2
            },
            "type": "scatter"
           }
          ],
          "scatter3d": [
           {
            "line": {
             "colorbar": {
              "outlinewidth": 0,
              "ticks": ""
             }
            },
            "marker": {
             "colorbar": {
              "outlinewidth": 0,
              "ticks": ""
             }
            },
            "type": "scatter3d"
           }
          ],
          "scattercarpet": [
           {
            "marker": {
             "colorbar": {
              "outlinewidth": 0,
              "ticks": ""
             }
            },
            "type": "scattercarpet"
           }
          ],
          "scattergeo": [
           {
            "marker": {
             "colorbar": {
              "outlinewidth": 0,
              "ticks": ""
             }
            },
            "type": "scattergeo"
           }
          ],
          "scattergl": [
           {
            "marker": {
             "colorbar": {
              "outlinewidth": 0,
              "ticks": ""
             }
            },
            "type": "scattergl"
           }
          ],
          "scattermap": [
           {
            "marker": {
             "colorbar": {
              "outlinewidth": 0,
              "ticks": ""
             }
            },
            "type": "scattermap"
           }
          ],
          "scattermapbox": [
           {
            "marker": {
             "colorbar": {
              "outlinewidth": 0,
              "ticks": ""
             }
            },
            "type": "scattermapbox"
           }
          ],
          "scatterpolar": [
           {
            "marker": {
             "colorbar": {
              "outlinewidth": 0,
              "ticks": ""
             }
            },
            "type": "scatterpolar"
           }
          ],
          "scatterpolargl": [
           {
            "marker": {
             "colorbar": {
              "outlinewidth": 0,
              "ticks": ""
             }
            },
            "type": "scatterpolargl"
           }
          ],
          "scatterternary": [
           {
            "marker": {
             "colorbar": {
              "outlinewidth": 0,
              "ticks": ""
             }
            },
            "type": "scatterternary"
           }
          ],
          "surface": [
           {
            "colorbar": {
             "outlinewidth": 0,
             "ticks": ""
            },
            "colorscale": [
             [
              0,
              "#0d0887"
             ],
             [
              0.1111111111111111,
              "#46039f"
             ],
             [
              0.2222222222222222,
              "#7201a8"
             ],
             [
              0.3333333333333333,
              "#9c179e"
             ],
             [
              0.4444444444444444,
              "#bd3786"
             ],
             [
              0.5555555555555556,
              "#d8576b"
             ],
             [
              0.6666666666666666,
              "#ed7953"
             ],
             [
              0.7777777777777778,
              "#fb9f3a"
             ],
             [
              0.8888888888888888,
              "#fdca26"
             ],
             [
              1,
              "#f0f921"
             ]
            ],
            "type": "surface"
           }
          ],
          "table": [
           {
            "cells": {
             "fill": {
              "color": "#EBF0F8"
             },
             "line": {
              "color": "white"
             }
            },
            "header": {
             "fill": {
              "color": "#C8D4E3"
             },
             "line": {
              "color": "white"
             }
            },
            "type": "table"
           }
          ]
         },
         "layout": {
          "annotationdefaults": {
           "arrowcolor": "#2a3f5f",
           "arrowhead": 0,
           "arrowwidth": 1
          },
          "autotypenumbers": "strict",
          "coloraxis": {
           "colorbar": {
            "outlinewidth": 0,
            "ticks": ""
           }
          },
          "colorscale": {
           "diverging": [
            [
             0,
             "#8e0152"
            ],
            [
             0.1,
             "#c51b7d"
            ],
            [
             0.2,
             "#de77ae"
            ],
            [
             0.3,
             "#f1b6da"
            ],
            [
             0.4,
             "#fde0ef"
            ],
            [
             0.5,
             "#f7f7f7"
            ],
            [
             0.6,
             "#e6f5d0"
            ],
            [
             0.7,
             "#b8e186"
            ],
            [
             0.8,
             "#7fbc41"
            ],
            [
             0.9,
             "#4d9221"
            ],
            [
             1,
             "#276419"
            ]
           ],
           "sequential": [
            [
             0,
             "#0d0887"
            ],
            [
             0.1111111111111111,
             "#46039f"
            ],
            [
             0.2222222222222222,
             "#7201a8"
            ],
            [
             0.3333333333333333,
             "#9c179e"
            ],
            [
             0.4444444444444444,
             "#bd3786"
            ],
            [
             0.5555555555555556,
             "#d8576b"
            ],
            [
             0.6666666666666666,
             "#ed7953"
            ],
            [
             0.7777777777777778,
             "#fb9f3a"
            ],
            [
             0.8888888888888888,
             "#fdca26"
            ],
            [
             1,
             "#f0f921"
            ]
           ],
           "sequentialminus": [
            [
             0,
             "#0d0887"
            ],
            [
             0.1111111111111111,
             "#46039f"
            ],
            [
             0.2222222222222222,
             "#7201a8"
            ],
            [
             0.3333333333333333,
             "#9c179e"
            ],
            [
             0.4444444444444444,
             "#bd3786"
            ],
            [
             0.5555555555555556,
             "#d8576b"
            ],
            [
             0.6666666666666666,
             "#ed7953"
            ],
            [
             0.7777777777777778,
             "#fb9f3a"
            ],
            [
             0.8888888888888888,
             "#fdca26"
            ],
            [
             1,
             "#f0f921"
            ]
           ]
          },
          "colorway": [
           "#636efa",
           "#EF553B",
           "#00cc96",
           "#ab63fa",
           "#FFA15A",
           "#19d3f3",
           "#FF6692",
           "#B6E880",
           "#FF97FF",
           "#FECB52"
          ],
          "font": {
           "color": "#2a3f5f"
          },
          "geo": {
           "bgcolor": "white",
           "lakecolor": "white",
           "landcolor": "#E5ECF6",
           "showlakes": true,
           "showland": true,
           "subunitcolor": "white"
          },
          "hoverlabel": {
           "align": "left"
          },
          "hovermode": "closest",
          "mapbox": {
           "style": "light"
          },
          "paper_bgcolor": "white",
          "plot_bgcolor": "#E5ECF6",
          "polar": {
           "angularaxis": {
            "gridcolor": "white",
            "linecolor": "white",
            "ticks": ""
           },
           "bgcolor": "#E5ECF6",
           "radialaxis": {
            "gridcolor": "white",
            "linecolor": "white",
            "ticks": ""
           }
          },
          "scene": {
           "xaxis": {
            "backgroundcolor": "#E5ECF6",
            "gridcolor": "white",
            "gridwidth": 2,
            "linecolor": "white",
            "showbackground": true,
            "ticks": "",
            "zerolinecolor": "white"
           },
           "yaxis": {
            "backgroundcolor": "#E5ECF6",
            "gridcolor": "white",
            "gridwidth": 2,
            "linecolor": "white",
            "showbackground": true,
            "ticks": "",
            "zerolinecolor": "white"
           },
           "zaxis": {
            "backgroundcolor": "#E5ECF6",
            "gridcolor": "white",
            "gridwidth": 2,
            "linecolor": "white",
            "showbackground": true,
            "ticks": "",
            "zerolinecolor": "white"
           }
          },
          "shapedefaults": {
           "line": {
            "color": "#2a3f5f"
           }
          },
          "ternary": {
           "aaxis": {
            "gridcolor": "white",
            "linecolor": "white",
            "ticks": ""
           },
           "baxis": {
            "gridcolor": "white",
            "linecolor": "white",
            "ticks": ""
           },
           "bgcolor": "#E5ECF6",
           "caxis": {
            "gridcolor": "white",
            "linecolor": "white",
            "ticks": ""
           }
          },
          "title": {
           "x": 0.05
          },
          "xaxis": {
           "automargin": true,
           "gridcolor": "white",
           "linecolor": "white",
           "ticks": "",
           "title": {
            "standoff": 15
           },
           "zerolinecolor": "white",
           "zerolinewidth": 2
          },
          "yaxis": {
           "automargin": true,
           "gridcolor": "white",
           "linecolor": "white",
           "ticks": "",
           "title": {
            "standoff": 15
           },
           "zerolinecolor": "white",
           "zerolinewidth": 2
          }
         }
        },
        "width": 700
       }
      }
     },
     "metadata": {},
     "output_type": "display_data"
    }
   ],
   "source": [
    "import robosandbox.models.DH.Generic as generic\n",
    "robot4 = generic.GenericFour()\n",
    "robot4.plotly(robot4.qz, fig=go.Figure()) # In the Marimo notebook, use the \"fig\" parameter for improved visual effects."
   ]
  },
  {
   "cell_type": "code",
   "execution_count": 7,
   "id": "PKri",
   "metadata": {},
   "outputs": [
    {
     "data": {
      "application/vnd.plotly.v1+json": {
       "config": {
        "plotlyServerURL": "https://plot.ly"
       },
       "data": [
        {
         "line": {
          "color": "#E1706E",
          "width": 14
         },
         "mode": "lines",
         "name": "Link1",
         "type": "scatter3d",
         "x": {
          "bdata": "AAAAAAAAAAAAAAAAAAAAAA==",
          "dtype": "f8"
         },
         "y": {
          "bdata": "AAAAAAAAAAAAAAAAAAAAAA==",
          "dtype": "f8"
         },
         "z": {
          "bdata": "AAAAAAAAAACamZmZmZnZPw==",
          "dtype": "f8"
         }
        },
        {
         "line": {
          "color": "#E1706E",
          "width": 14
         },
         "mode": "lines",
         "name": "Link2",
         "type": "scatter3d",
         "x": {
          "bdata": "AAAAAAAAAACamZmZmZnZvw==",
          "dtype": "f8"
         },
         "y": {
          "bdata": "AAAAAAAAAAAAAAAAAAAAAA==",
          "dtype": "f8"
         },
         "z": {
          "bdata": "mpmZmZmZ2T+amZmZmZnZPw==",
          "dtype": "f8"
         }
        },
        {
         "line": {
          "color": "#E1706E",
          "width": 14
         },
         "mode": "lines",
         "name": "Link3",
         "type": "scatter3d",
         "x": {
          "bdata": "mpmZmZmZ2b+amZmZmZnpvw==",
          "dtype": "f8"
         },
         "y": {
          "bdata": "AAAAAAAAAAAAAAAAAAAAAA==",
          "dtype": "f8"
         },
         "z": {
          "bdata": "mpmZmZmZ2T+amZmZmZnZPw==",
          "dtype": "f8"
         }
        },
        {
         "line": {
          "color": "#E1706E",
          "width": 14
         },
         "mode": "lines",
         "name": "Link4",
         "type": "scatter3d",
         "x": {
          "bdata": "mpmZmZmZ6b80MzMzMzPzvw==",
          "dtype": "f8"
         },
         "y": {
          "bdata": "AAAAAAAAAAAAAAAAAAAAAA==",
          "dtype": "f8"
         },
         "z": {
          "bdata": "mpmZmZmZ2T+amZmZmZnZPw==",
          "dtype": "f8"
         }
        },
        {
         "line": {
          "color": "#E1706E",
          "width": 14
         },
         "mode": "lines",
         "name": "Link5",
         "type": "scatter3d",
         "x": {
          "bdata": "NDMzMzMz87+amZmZmZn5vw==",
          "dtype": "f8"
         },
         "y": {
          "bdata": "AAAAAAAAAAAAAAAAAAAAAA==",
          "dtype": "f8"
         },
         "z": {
          "bdata": "mpmZmZmZ2T+amZmZmZnZPw==",
          "dtype": "f8"
         }
        },
        {
         "line": {
          "color": "#E1706E",
          "width": 14
         },
         "mode": "lines",
         "name": "Link6",
         "type": "scatter3d",
         "x": {
          "bdata": "mpmZmZmZ+b8AAAAAAAAAwA==",
          "dtype": "f8"
         },
         "y": {
          "bdata": "AAAAAAAAAAAAAAAAAAAAAA==",
          "dtype": "f8"
         },
         "z": {
          "bdata": "mpmZmZmZ2T+amZmZmZnZPw==",
          "dtype": "f8"
         }
        },
        {
         "line": {
          "color": "#F84752",
          "width": 5
         },
         "mode": "lines",
         "name": "X0 Axis",
         "type": "scatter3d",
         "x": [
          0,
          0.2
         ],
         "y": [
          0,
          0
         ],
         "z": [
          0,
          0
         ]
        },
        {
         "cmax": 1,
         "cmin": 0,
         "colorscale": [
          [
           0,
           "#F84752"
          ],
          [
           1,
           "#F84752"
          ]
         ],
         "showscale": false,
         "sizemode": "absolute",
         "sizeref": 0.02,
         "type": "cone",
         "u": [
          1
         ],
         "v": [
          0
         ],
         "w": [
          0
         ],
         "x": [
          0.2
         ],
         "y": [
          0
         ],
         "z": [
          0
         ]
        },
        {
         "line": {
          "color": "#BBDA55",
          "width": 5
         },
         "mode": "lines",
         "name": "Y0 Axis",
         "type": "scatter3d",
         "x": [
          0,
          0
         ],
         "y": [
          0,
          0.2
         ],
         "z": [
          0,
          0
         ]
        },
        {
         "cmax": 1,
         "cmin": 0,
         "colorscale": [
          [
           0,
           "#BBDA55"
          ],
          [
           1,
           "#BBDA55"
          ]
         ],
         "showscale": false,
         "sizemode": "absolute",
         "sizeref": 0.02,
         "type": "cone",
         "u": [
          0
         ],
         "v": [
          1
         ],
         "w": [
          0
         ],
         "x": [
          0
         ],
         "y": [
          0.2
         ],
         "z": [
          0
         ]
        },
        {
         "line": {
          "color": "#8EC1E1",
          "width": 5
         },
         "mode": "lines",
         "name": "Z0 Axis",
         "type": "scatter3d",
         "x": [
          0,
          0
         ],
         "y": [
          0,
          0
         ],
         "z": [
          0,
          0.2
         ]
        },
        {
         "cmax": 1,
         "cmin": 0,
         "colorscale": [
          [
           0,
           "#8EC1E1"
          ],
          [
           1,
           "#8EC1E1"
          ]
         ],
         "showscale": false,
         "sizemode": "absolute",
         "sizeref": 0.02,
         "type": "cone",
         "u": [
          0
         ],
         "v": [
          0
         ],
         "w": [
          1
         ],
         "x": [
          0
         ],
         "y": [
          0
         ],
         "z": [
          0.2
         ]
        },
        {
         "line": {
          "color": "#F84752",
          "width": 5
         },
         "mode": "lines",
         "name": "X1 Axis",
         "type": "scatter3d",
         "x": [
          0,
          0.2
         ],
         "y": [
          0,
          0
         ],
         "z": [
          0.4,
          0.4
         ]
        },
        {
         "cmax": 1,
         "cmin": 0,
         "colorscale": [
          [
           0,
           "#F84752"
          ],
          [
           1,
           "#F84752"
          ]
         ],
         "showscale": false,
         "sizemode": "absolute",
         "sizeref": 0.02,
         "type": "cone",
         "u": [
          1
         ],
         "v": [
          0
         ],
         "w": [
          0
         ],
         "x": [
          0.2
         ],
         "y": [
          0
         ],
         "z": [
          0.4
         ]
        },
        {
         "line": {
          "color": "#BBDA55",
          "width": 5
         },
         "mode": "lines",
         "name": "Y1 Axis",
         "type": "scatter3d",
         "x": [
          0,
          0
         ],
         "y": [
          0,
          1.2246467991473533e-17
         ],
         "z": [
          0.4,
          0.6000000000000001
         ]
        },
        {
         "cmax": 1,
         "cmin": 0,
         "colorscale": [
          [
           0,
           "#BBDA55"
          ],
          [
           1,
           "#BBDA55"
          ]
         ],
         "showscale": false,
         "sizemode": "absolute",
         "sizeref": 0.02,
         "type": "cone",
         "u": [
          0
         ],
         "v": [
          6.123233995736766e-17
         ],
         "w": [
          1
         ],
         "x": [
          0
         ],
         "y": [
          1.2246467991473533e-17
         ],
         "z": [
          0.6000000000000001
         ]
        },
        {
         "line": {
          "color": "#8EC1E1",
          "width": 5
         },
         "mode": "lines",
         "name": "Z1 Axis",
         "type": "scatter3d",
         "x": [
          0,
          0
         ],
         "y": [
          0,
          -0.2
         ],
         "z": [
          0.4,
          0.4
         ]
        },
        {
         "cmax": 1,
         "cmin": 0,
         "colorscale": [
          [
           0,
           "#8EC1E1"
          ],
          [
           1,
           "#8EC1E1"
          ]
         ],
         "showscale": false,
         "sizemode": "absolute",
         "sizeref": 0.02,
         "type": "cone",
         "u": [
          0
         ],
         "v": [
          -1
         ],
         "w": [
          6.123233995736766e-17
         ],
         "x": [
          0
         ],
         "y": [
          -0.2
         ],
         "z": [
          0.4
         ]
        },
        {
         "line": {
          "color": "#F84752",
          "width": 5
         },
         "mode": "lines",
         "name": "X2 Axis",
         "type": "scatter3d",
         "x": [
          -0.4,
          -0.2
         ],
         "y": [
          0,
          0
         ],
         "z": [
          0.4,
          0.4
         ]
        },
        {
         "cmax": 1,
         "cmin": 0,
         "colorscale": [
          [
           0,
           "#F84752"
          ],
          [
           1,
           "#F84752"
          ]
         ],
         "showscale": false,
         "sizemode": "absolute",
         "sizeref": 0.02,
         "type": "cone",
         "u": [
          1
         ],
         "v": [
          0
         ],
         "w": [
          0
         ],
         "x": [
          -0.2
         ],
         "y": [
          0
         ],
         "z": [
          0.4
         ]
        },
        {
         "line": {
          "color": "#BBDA55",
          "width": 5
         },
         "mode": "lines",
         "name": "Y2 Axis",
         "type": "scatter3d",
         "x": [
          -0.4,
          -0.4
         ],
         "y": [
          0,
          1.2246467991473533e-17
         ],
         "z": [
          0.4,
          0.6000000000000001
         ]
        },
        {
         "cmax": 1,
         "cmin": 0,
         "colorscale": [
          [
           0,
           "#BBDA55"
          ],
          [
           1,
           "#BBDA55"
          ]
         ],
         "showscale": false,
         "sizemode": "absolute",
         "sizeref": 0.02,
         "type": "cone",
         "u": [
          0
         ],
         "v": [
          6.123233995736766e-17
         ],
         "w": [
          1
         ],
         "x": [
          -0.4
         ],
         "y": [
          1.2246467991473533e-17
         ],
         "z": [
          0.6000000000000001
         ]
        },
        {
         "line": {
          "color": "#8EC1E1",
          "width": 5
         },
         "mode": "lines",
         "name": "Z2 Axis",
         "type": "scatter3d",
         "x": [
          -0.4,
          -0.4
         ],
         "y": [
          0,
          -0.2
         ],
         "z": [
          0.4,
          0.4
         ]
        },
        {
         "cmax": 1,
         "cmin": 0,
         "colorscale": [
          [
           0,
           "#8EC1E1"
          ],
          [
           1,
           "#8EC1E1"
          ]
         ],
         "showscale": false,
         "sizemode": "absolute",
         "sizeref": 0.02,
         "type": "cone",
         "u": [
          0
         ],
         "v": [
          -1
         ],
         "w": [
          6.123233995736766e-17
         ],
         "x": [
          -0.4
         ],
         "y": [
          -0.2
         ],
         "z": [
          0.4
         ]
        },
        {
         "line": {
          "color": "#F84752",
          "width": 5
         },
         "mode": "lines",
         "name": "X3 Axis",
         "type": "scatter3d",
         "x": [
          -0.8,
          -0.6000000000000001
         ],
         "y": [
          0,
          0
         ],
         "z": [
          0.4,
          0.4
         ]
        },
        {
         "cmax": 1,
         "cmin": 0,
         "colorscale": [
          [
           0,
           "#F84752"
          ],
          [
           1,
           "#F84752"
          ]
         ],
         "showscale": false,
         "sizemode": "absolute",
         "sizeref": 0.02,
         "type": "cone",
         "u": [
          1
         ],
         "v": [
          0
         ],
         "w": [
          0
         ],
         "x": [
          -0.6000000000000001
         ],
         "y": [
          0
         ],
         "z": [
          0.4
         ]
        },
        {
         "line": {
          "color": "#BBDA55",
          "width": 5
         },
         "mode": "lines",
         "name": "Y3 Axis",
         "type": "scatter3d",
         "x": [
          -0.8,
          -0.8
         ],
         "y": [
          0,
          1.2246467991473533e-17
         ],
         "z": [
          0.4,
          0.6000000000000001
         ]
        },
        {
         "cmax": 1,
         "cmin": 0,
         "colorscale": [
          [
           0,
           "#BBDA55"
          ],
          [
           1,
           "#BBDA55"
          ]
         ],
         "showscale": false,
         "sizemode": "absolute",
         "sizeref": 0.02,
         "type": "cone",
         "u": [
          0
         ],
         "v": [
          6.123233995736766e-17
         ],
         "w": [
          1
         ],
         "x": [
          -0.8
         ],
         "y": [
          1.2246467991473533e-17
         ],
         "z": [
          0.6000000000000001
         ]
        },
        {
         "line": {
          "color": "#8EC1E1",
          "width": 5
         },
         "mode": "lines",
         "name": "Z3 Axis",
         "type": "scatter3d",
         "x": [
          -0.8,
          -0.8
         ],
         "y": [
          0,
          -0.2
         ],
         "z": [
          0.4,
          0.4
         ]
        },
        {
         "cmax": 1,
         "cmin": 0,
         "colorscale": [
          [
           0,
           "#8EC1E1"
          ],
          [
           1,
           "#8EC1E1"
          ]
         ],
         "showscale": false,
         "sizemode": "absolute",
         "sizeref": 0.02,
         "type": "cone",
         "u": [
          0
         ],
         "v": [
          -1
         ],
         "w": [
          6.123233995736766e-17
         ],
         "x": [
          -0.8
         ],
         "y": [
          -0.2
         ],
         "z": [
          0.4
         ]
        },
        {
         "line": {
          "color": "#F84752",
          "width": 5
         },
         "mode": "lines",
         "name": "X4 Axis",
         "type": "scatter3d",
         "x": [
          -1.2000000000000002,
          -1.0000000000000002
         ],
         "y": [
          0,
          0
         ],
         "z": [
          0.4,
          0.4
         ]
        },
        {
         "cmax": 1,
         "cmin": 0,
         "colorscale": [
          [
           0,
           "#F84752"
          ],
          [
           1,
           "#F84752"
          ]
         ],
         "showscale": false,
         "sizemode": "absolute",
         "sizeref": 0.02,
         "type": "cone",
         "u": [
          1
         ],
         "v": [
          0
         ],
         "w": [
          0
         ],
         "x": [
          -1.0000000000000002
         ],
         "y": [
          0
         ],
         "z": [
          0.4
         ]
        },
        {
         "line": {
          "color": "#BBDA55",
          "width": 5
         },
         "mode": "lines",
         "name": "Y4 Axis",
         "type": "scatter3d",
         "x": [
          -1.2000000000000002,
          -1.2000000000000002
         ],
         "y": [
          0,
          1.2246467991473533e-17
         ],
         "z": [
          0.4,
          0.6000000000000001
         ]
        },
        {
         "cmax": 1,
         "cmin": 0,
         "colorscale": [
          [
           0,
           "#BBDA55"
          ],
          [
           1,
           "#BBDA55"
          ]
         ],
         "showscale": false,
         "sizemode": "absolute",
         "sizeref": 0.02,
         "type": "cone",
         "u": [
          0
         ],
         "v": [
          6.123233995736766e-17
         ],
         "w": [
          1
         ],
         "x": [
          -1.2000000000000002
         ],
         "y": [
          1.2246467991473533e-17
         ],
         "z": [
          0.6000000000000001
         ]
        },
        {
         "line": {
          "color": "#8EC1E1",
          "width": 5
         },
         "mode": "lines",
         "name": "Z4 Axis",
         "type": "scatter3d",
         "x": [
          -1.2000000000000002,
          -1.2000000000000002
         ],
         "y": [
          0,
          -0.2
         ],
         "z": [
          0.4,
          0.4
         ]
        },
        {
         "cmax": 1,
         "cmin": 0,
         "colorscale": [
          [
           0,
           "#8EC1E1"
          ],
          [
           1,
           "#8EC1E1"
          ]
         ],
         "showscale": false,
         "sizemode": "absolute",
         "sizeref": 0.02,
         "type": "cone",
         "u": [
          0
         ],
         "v": [
          -1
         ],
         "w": [
          6.123233995736766e-17
         ],
         "x": [
          -1.2000000000000002
         ],
         "y": [
          -0.2
         ],
         "z": [
          0.4
         ]
        },
        {
         "line": {
          "color": "#F84752",
          "width": 5
         },
         "mode": "lines",
         "name": "X5 Axis",
         "type": "scatter3d",
         "x": [
          -1.6,
          -1.4000000000000001
         ],
         "y": [
          0,
          0
         ],
         "z": [
          0.4,
          0.4
         ]
        },
        {
         "cmax": 1,
         "cmin": 0,
         "colorscale": [
          [
           0,
           "#F84752"
          ],
          [
           1,
           "#F84752"
          ]
         ],
         "showscale": false,
         "sizemode": "absolute",
         "sizeref": 0.02,
         "type": "cone",
         "u": [
          1
         ],
         "v": [
          0
         ],
         "w": [
          0
         ],
         "x": [
          -1.4000000000000001
         ],
         "y": [
          0
         ],
         "z": [
          0.4
         ]
        },
        {
         "line": {
          "color": "#BBDA55",
          "width": 5
         },
         "mode": "lines",
         "name": "Y5 Axis",
         "type": "scatter3d",
         "x": [
          -1.6,
          -1.6
         ],
         "y": [
          0,
          1.2246467991473533e-17
         ],
         "z": [
          0.4,
          0.6000000000000001
         ]
        },
        {
         "cmax": 1,
         "cmin": 0,
         "colorscale": [
          [
           0,
           "#BBDA55"
          ],
          [
           1,
           "#BBDA55"
          ]
         ],
         "showscale": false,
         "sizemode": "absolute",
         "sizeref": 0.02,
         "type": "cone",
         "u": [
          0
         ],
         "v": [
          6.123233995736766e-17
         ],
         "w": [
          1
         ],
         "x": [
          -1.6
         ],
         "y": [
          1.2246467991473533e-17
         ],
         "z": [
          0.6000000000000001
         ]
        },
        {
         "line": {
          "color": "#8EC1E1",
          "width": 5
         },
         "mode": "lines",
         "name": "Z5 Axis",
         "type": "scatter3d",
         "x": [
          -1.6,
          -1.6
         ],
         "y": [
          0,
          -0.2
         ],
         "z": [
          0.4,
          0.4
         ]
        },
        {
         "cmax": 1,
         "cmin": 0,
         "colorscale": [
          [
           0,
           "#8EC1E1"
          ],
          [
           1,
           "#8EC1E1"
          ]
         ],
         "showscale": false,
         "sizemode": "absolute",
         "sizeref": 0.02,
         "type": "cone",
         "u": [
          0
         ],
         "v": [
          -1
         ],
         "w": [
          6.123233995736766e-17
         ],
         "x": [
          -1.6
         ],
         "y": [
          -0.2
         ],
         "z": [
          0.4
         ]
        },
        {
         "line": {
          "color": "#F84752",
          "width": 5
         },
         "mode": "lines",
         "name": "X6 Axis",
         "type": "scatter3d",
         "x": [
          -2,
          -1.9
         ],
         "y": [
          0,
          0
         ],
         "z": [
          0.4,
          0.4
         ]
        },
        {
         "cmax": 1,
         "cmin": 0,
         "colorscale": [
          [
           0,
           "#F84752"
          ],
          [
           1,
           "#F84752"
          ]
         ],
         "showscale": false,
         "sizemode": "absolute",
         "sizeref": 0.01,
         "type": "cone",
         "u": [
          1
         ],
         "v": [
          0
         ],
         "w": [
          0
         ],
         "x": [
          -1.9
         ],
         "y": [
          0
         ],
         "z": [
          0.4
         ]
        },
        {
         "line": {
          "color": "#BBDA55",
          "width": 5
         },
         "mode": "lines",
         "name": "Y6 Axis",
         "type": "scatter3d",
         "x": [
          -2,
          -2
         ],
         "y": [
          0,
          6.123233995736766e-18
         ],
         "z": [
          0.4,
          0.5
         ]
        },
        {
         "cmax": 1,
         "cmin": 0,
         "colorscale": [
          [
           0,
           "#BBDA55"
          ],
          [
           1,
           "#BBDA55"
          ]
         ],
         "showscale": false,
         "sizemode": "absolute",
         "sizeref": 0.01,
         "type": "cone",
         "u": [
          0
         ],
         "v": [
          6.123233995736766e-17
         ],
         "w": [
          1
         ],
         "x": [
          -2
         ],
         "y": [
          6.123233995736766e-18
         ],
         "z": [
          0.5
         ]
        },
        {
         "line": {
          "color": "#8EC1E1",
          "width": 5
         },
         "mode": "lines",
         "name": "Z6 Axis",
         "type": "scatter3d",
         "x": [
          -2,
          -2
         ],
         "y": [
          0,
          -0.1
         ],
         "z": [
          0.4,
          0.4
         ]
        },
        {
         "cmax": 1,
         "cmin": 0,
         "colorscale": [
          [
           0,
           "#8EC1E1"
          ],
          [
           1,
           "#8EC1E1"
          ]
         ],
         "showscale": false,
         "sizemode": "absolute",
         "sizeref": 0.01,
         "type": "cone",
         "u": [
          0
         ],
         "v": [
          -1
         ],
         "w": [
          6.123233995736766e-17
         ],
         "x": [
          -2
         ],
         "y": [
          -0.1
         ],
         "z": [
          0.4
         ]
        }
       ],
       "layout": {
        "height": 600,
        "scene": {
         "aspectmode": "cube",
         "camera": {
          "center": {
           "x": 0,
           "y": 0,
           "z": 0
          },
          "eye": {
           "x": 3.059411708155671,
           "y": -3.059411708155671,
           "z": 3.059411708155671
          },
          "up": {
           "x": 0,
           "y": 0,
           "z": 1
          }
         },
         "xaxis": {
          "nticks": 10,
          "range": [
           -2.243568585980826,
           2.243568585980826
          ],
          "title": {
           "text": "X"
          }
         },
         "yaxis": {
          "nticks": 10,
          "range": [
           -2.243568585980826,
           2.243568585980826
          ],
          "title": {
           "text": "Y"
          }
         },
         "zaxis": {
          "nticks": 10,
          "range": [
           -2.243568585980826,
           2.243568585980826
          ],
          "title": {
           "text": "Z"
          }
         }
        },
        "template": {
         "data": {
          "bar": [
           {
            "error_x": {
             "color": "#2a3f5f"
            },
            "error_y": {
             "color": "#2a3f5f"
            },
            "marker": {
             "line": {
              "color": "#E5ECF6",
              "width": 0.5
             },
             "pattern": {
              "fillmode": "overlay",
              "size": 10,
              "solidity": 0.2
             }
            },
            "type": "bar"
           }
          ],
          "barpolar": [
           {
            "marker": {
             "line": {
              "color": "#E5ECF6",
              "width": 0.5
             },
             "pattern": {
              "fillmode": "overlay",
              "size": 10,
              "solidity": 0.2
             }
            },
            "type": "barpolar"
           }
          ],
          "carpet": [
           {
            "aaxis": {
             "endlinecolor": "#2a3f5f",
             "gridcolor": "white",
             "linecolor": "white",
             "minorgridcolor": "white",
             "startlinecolor": "#2a3f5f"
            },
            "baxis": {
             "endlinecolor": "#2a3f5f",
             "gridcolor": "white",
             "linecolor": "white",
             "minorgridcolor": "white",
             "startlinecolor": "#2a3f5f"
            },
            "type": "carpet"
           }
          ],
          "choropleth": [
           {
            "colorbar": {
             "outlinewidth": 0,
             "ticks": ""
            },
            "type": "choropleth"
           }
          ],
          "contour": [
           {
            "colorbar": {
             "outlinewidth": 0,
             "ticks": ""
            },
            "colorscale": [
             [
              0,
              "#0d0887"
             ],
             [
              0.1111111111111111,
              "#46039f"
             ],
             [
              0.2222222222222222,
              "#7201a8"
             ],
             [
              0.3333333333333333,
              "#9c179e"
             ],
             [
              0.4444444444444444,
              "#bd3786"
             ],
             [
              0.5555555555555556,
              "#d8576b"
             ],
             [
              0.6666666666666666,
              "#ed7953"
             ],
             [
              0.7777777777777778,
              "#fb9f3a"
             ],
             [
              0.8888888888888888,
              "#fdca26"
             ],
             [
              1,
              "#f0f921"
             ]
            ],
            "type": "contour"
           }
          ],
          "contourcarpet": [
           {
            "colorbar": {
             "outlinewidth": 0,
             "ticks": ""
            },
            "type": "contourcarpet"
           }
          ],
          "heatmap": [
           {
            "colorbar": {
             "outlinewidth": 0,
             "ticks": ""
            },
            "colorscale": [
             [
              0,
              "#0d0887"
             ],
             [
              0.1111111111111111,
              "#46039f"
             ],
             [
              0.2222222222222222,
              "#7201a8"
             ],
             [
              0.3333333333333333,
              "#9c179e"
             ],
             [
              0.4444444444444444,
              "#bd3786"
             ],
             [
              0.5555555555555556,
              "#d8576b"
             ],
             [
              0.6666666666666666,
              "#ed7953"
             ],
             [
              0.7777777777777778,
              "#fb9f3a"
             ],
             [
              0.8888888888888888,
              "#fdca26"
             ],
             [
              1,
              "#f0f921"
             ]
            ],
            "type": "heatmap"
           }
          ],
          "histogram": [
           {
            "marker": {
             "pattern": {
              "fillmode": "overlay",
              "size": 10,
              "solidity": 0.2
             }
            },
            "type": "histogram"
           }
          ],
          "histogram2d": [
           {
            "colorbar": {
             "outlinewidth": 0,
             "ticks": ""
            },
            "colorscale": [
             [
              0,
              "#0d0887"
             ],
             [
              0.1111111111111111,
              "#46039f"
             ],
             [
              0.2222222222222222,
              "#7201a8"
             ],
             [
              0.3333333333333333,
              "#9c179e"
             ],
             [
              0.4444444444444444,
              "#bd3786"
             ],
             [
              0.5555555555555556,
              "#d8576b"
             ],
             [
              0.6666666666666666,
              "#ed7953"
             ],
             [
              0.7777777777777778,
              "#fb9f3a"
             ],
             [
              0.8888888888888888,
              "#fdca26"
             ],
             [
              1,
              "#f0f921"
             ]
            ],
            "type": "histogram2d"
           }
          ],
          "histogram2dcontour": [
           {
            "colorbar": {
             "outlinewidth": 0,
             "ticks": ""
            },
            "colorscale": [
             [
              0,
              "#0d0887"
             ],
             [
              0.1111111111111111,
              "#46039f"
             ],
             [
              0.2222222222222222,
              "#7201a8"
             ],
             [
              0.3333333333333333,
              "#9c179e"
             ],
             [
              0.4444444444444444,
              "#bd3786"
             ],
             [
              0.5555555555555556,
              "#d8576b"
             ],
             [
              0.6666666666666666,
              "#ed7953"
             ],
             [
              0.7777777777777778,
              "#fb9f3a"
             ],
             [
              0.8888888888888888,
              "#fdca26"
             ],
             [
              1,
              "#f0f921"
             ]
            ],
            "type": "histogram2dcontour"
           }
          ],
          "mesh3d": [
           {
            "colorbar": {
             "outlinewidth": 0,
             "ticks": ""
            },
            "type": "mesh3d"
           }
          ],
          "parcoords": [
           {
            "line": {
             "colorbar": {
              "outlinewidth": 0,
              "ticks": ""
             }
            },
            "type": "parcoords"
           }
          ],
          "pie": [
           {
            "automargin": true,
            "type": "pie"
           }
          ],
          "scatter": [
           {
            "fillpattern": {
             "fillmode": "overlay",
             "size": 10,
             "solidity": 0.2
            },
            "type": "scatter"
           }
          ],
          "scatter3d": [
           {
            "line": {
             "colorbar": {
              "outlinewidth": 0,
              "ticks": ""
             }
            },
            "marker": {
             "colorbar": {
              "outlinewidth": 0,
              "ticks": ""
             }
            },
            "type": "scatter3d"
           }
          ],
          "scattercarpet": [
           {
            "marker": {
             "colorbar": {
              "outlinewidth": 0,
              "ticks": ""
             }
            },
            "type": "scattercarpet"
           }
          ],
          "scattergeo": [
           {
            "marker": {
             "colorbar": {
              "outlinewidth": 0,
              "ticks": ""
             }
            },
            "type": "scattergeo"
           }
          ],
          "scattergl": [
           {
            "marker": {
             "colorbar": {
              "outlinewidth": 0,
              "ticks": ""
             }
            },
            "type": "scattergl"
           }
          ],
          "scattermap": [
           {
            "marker": {
             "colorbar": {
              "outlinewidth": 0,
              "ticks": ""
             }
            },
            "type": "scattermap"
           }
          ],
          "scattermapbox": [
           {
            "marker": {
             "colorbar": {
              "outlinewidth": 0,
              "ticks": ""
             }
            },
            "type": "scattermapbox"
           }
          ],
          "scatterpolar": [
           {
            "marker": {
             "colorbar": {
              "outlinewidth": 0,
              "ticks": ""
             }
            },
            "type": "scatterpolar"
           }
          ],
          "scatterpolargl": [
           {
            "marker": {
             "colorbar": {
              "outlinewidth": 0,
              "ticks": ""
             }
            },
            "type": "scatterpolargl"
           }
          ],
          "scatterternary": [
           {
            "marker": {
             "colorbar": {
              "outlinewidth": 0,
              "ticks": ""
             }
            },
            "type": "scatterternary"
           }
          ],
          "surface": [
           {
            "colorbar": {
             "outlinewidth": 0,
             "ticks": ""
            },
            "colorscale": [
             [
              0,
              "#0d0887"
             ],
             [
              0.1111111111111111,
              "#46039f"
             ],
             [
              0.2222222222222222,
              "#7201a8"
             ],
             [
              0.3333333333333333,
              "#9c179e"
             ],
             [
              0.4444444444444444,
              "#bd3786"
             ],
             [
              0.5555555555555556,
              "#d8576b"
             ],
             [
              0.6666666666666666,
              "#ed7953"
             ],
             [
              0.7777777777777778,
              "#fb9f3a"
             ],
             [
              0.8888888888888888,
              "#fdca26"
             ],
             [
              1,
              "#f0f921"
             ]
            ],
            "type": "surface"
           }
          ],
          "table": [
           {
            "cells": {
             "fill": {
              "color": "#EBF0F8"
             },
             "line": {
              "color": "white"
             }
            },
            "header": {
             "fill": {
              "color": "#C8D4E3"
             },
             "line": {
              "color": "white"
             }
            },
            "type": "table"
           }
          ]
         },
         "layout": {
          "annotationdefaults": {
           "arrowcolor": "#2a3f5f",
           "arrowhead": 0,
           "arrowwidth": 1
          },
          "autotypenumbers": "strict",
          "coloraxis": {
           "colorbar": {
            "outlinewidth": 0,
            "ticks": ""
           }
          },
          "colorscale": {
           "diverging": [
            [
             0,
             "#8e0152"
            ],
            [
             0.1,
             "#c51b7d"
            ],
            [
             0.2,
             "#de77ae"
            ],
            [
             0.3,
             "#f1b6da"
            ],
            [
             0.4,
             "#fde0ef"
            ],
            [
             0.5,
             "#f7f7f7"
            ],
            [
             0.6,
             "#e6f5d0"
            ],
            [
             0.7,
             "#b8e186"
            ],
            [
             0.8,
             "#7fbc41"
            ],
            [
             0.9,
             "#4d9221"
            ],
            [
             1,
             "#276419"
            ]
           ],
           "sequential": [
            [
             0,
             "#0d0887"
            ],
            [
             0.1111111111111111,
             "#46039f"
            ],
            [
             0.2222222222222222,
             "#7201a8"
            ],
            [
             0.3333333333333333,
             "#9c179e"
            ],
            [
             0.4444444444444444,
             "#bd3786"
            ],
            [
             0.5555555555555556,
             "#d8576b"
            ],
            [
             0.6666666666666666,
             "#ed7953"
            ],
            [
             0.7777777777777778,
             "#fb9f3a"
            ],
            [
             0.8888888888888888,
             "#fdca26"
            ],
            [
             1,
             "#f0f921"
            ]
           ],
           "sequentialminus": [
            [
             0,
             "#0d0887"
            ],
            [
             0.1111111111111111,
             "#46039f"
            ],
            [
             0.2222222222222222,
             "#7201a8"
            ],
            [
             0.3333333333333333,
             "#9c179e"
            ],
            [
             0.4444444444444444,
             "#bd3786"
            ],
            [
             0.5555555555555556,
             "#d8576b"
            ],
            [
             0.6666666666666666,
             "#ed7953"
            ],
            [
             0.7777777777777778,
             "#fb9f3a"
            ],
            [
             0.8888888888888888,
             "#fdca26"
            ],
            [
             1,
             "#f0f921"
            ]
           ]
          },
          "colorway": [
           "#636efa",
           "#EF553B",
           "#00cc96",
           "#ab63fa",
           "#FFA15A",
           "#19d3f3",
           "#FF6692",
           "#B6E880",
           "#FF97FF",
           "#FECB52"
          ],
          "font": {
           "color": "#2a3f5f"
          },
          "geo": {
           "bgcolor": "white",
           "lakecolor": "white",
           "landcolor": "#E5ECF6",
           "showlakes": true,
           "showland": true,
           "subunitcolor": "white"
          },
          "hoverlabel": {
           "align": "left"
          },
          "hovermode": "closest",
          "mapbox": {
           "style": "light"
          },
          "paper_bgcolor": "white",
          "plot_bgcolor": "#E5ECF6",
          "polar": {
           "angularaxis": {
            "gridcolor": "white",
            "linecolor": "white",
            "ticks": ""
           },
           "bgcolor": "#E5ECF6",
           "radialaxis": {
            "gridcolor": "white",
            "linecolor": "white",
            "ticks": ""
           }
          },
          "scene": {
           "xaxis": {
            "backgroundcolor": "#E5ECF6",
            "gridcolor": "white",
            "gridwidth": 2,
            "linecolor": "white",
            "showbackground": true,
            "ticks": "",
            "zerolinecolor": "white"
           },
           "yaxis": {
            "backgroundcolor": "#E5ECF6",
            "gridcolor": "white",
            "gridwidth": 2,
            "linecolor": "white",
            "showbackground": true,
            "ticks": "",
            "zerolinecolor": "white"
           },
           "zaxis": {
            "backgroundcolor": "#E5ECF6",
            "gridcolor": "white",
            "gridwidth": 2,
            "linecolor": "white",
            "showbackground": true,
            "ticks": "",
            "zerolinecolor": "white"
           }
          },
          "shapedefaults": {
           "line": {
            "color": "#2a3f5f"
           }
          },
          "ternary": {
           "aaxis": {
            "gridcolor": "white",
            "linecolor": "white",
            "ticks": ""
           },
           "baxis": {
            "gridcolor": "white",
            "linecolor": "white",
            "ticks": ""
           },
           "bgcolor": "#E5ECF6",
           "caxis": {
            "gridcolor": "white",
            "linecolor": "white",
            "ticks": ""
           }
          },
          "title": {
           "x": 0.05
          },
          "xaxis": {
           "automargin": true,
           "gridcolor": "white",
           "linecolor": "white",
           "ticks": "",
           "title": {
            "standoff": 15
           },
           "zerolinecolor": "white",
           "zerolinewidth": 2
          },
          "yaxis": {
           "automargin": true,
           "gridcolor": "white",
           "linecolor": "white",
           "ticks": "",
           "title": {
            "standoff": 15
           },
           "zerolinecolor": "white",
           "zerolinewidth": 2
          }
         }
        },
        "width": 700
       }
      }
     },
     "metadata": {},
     "output_type": "display_data"
    },
    {
     "data": {
      "application/vnd.plotly.v1+json": {
       "config": {
        "plotlyServerURL": "https://plot.ly"
       },
       "data": [
        {
         "line": {
          "color": "#E1706E",
          "width": 14
         },
         "mode": "lines",
         "name": "Link1",
         "type": "scatter3d",
         "x": {
          "bdata": "AAAAAAAAAAAAAAAAAAAAAA==",
          "dtype": "f8"
         },
         "y": {
          "bdata": "AAAAAAAAAAAAAAAAAAAAAA==",
          "dtype": "f8"
         },
         "z": {
          "bdata": "AAAAAAAAAACamZmZmZnZPw==",
          "dtype": "f8"
         }
        },
        {
         "line": {
          "color": "#E1706E",
          "width": 14
         },
         "mode": "lines",
         "name": "Link2",
         "type": "scatter3d",
         "x": {
          "bdata": "AAAAAAAAAACamZmZmZnZvw==",
          "dtype": "f8"
         },
         "y": {
          "bdata": "AAAAAAAAAAAAAAAAAAAAAA==",
          "dtype": "f8"
         },
         "z": {
          "bdata": "mpmZmZmZ2T+amZmZmZnZPw==",
          "dtype": "f8"
         }
        },
        {
         "line": {
          "color": "#E1706E",
          "width": 14
         },
         "mode": "lines",
         "name": "Link3",
         "type": "scatter3d",
         "x": {
          "bdata": "mpmZmZmZ2b+amZmZmZnpvw==",
          "dtype": "f8"
         },
         "y": {
          "bdata": "AAAAAAAAAAAAAAAAAAAAAA==",
          "dtype": "f8"
         },
         "z": {
          "bdata": "mpmZmZmZ2T+amZmZmZnZPw==",
          "dtype": "f8"
         }
        },
        {
         "line": {
          "color": "#E1706E",
          "width": 14
         },
         "mode": "lines",
         "name": "Link4",
         "type": "scatter3d",
         "x": {
          "bdata": "mpmZmZmZ6b80MzMzMzPzvw==",
          "dtype": "f8"
         },
         "y": {
          "bdata": "AAAAAAAAAAAAAAAAAAAAAA==",
          "dtype": "f8"
         },
         "z": {
          "bdata": "mpmZmZmZ2T+amZmZmZnZPw==",
          "dtype": "f8"
         }
        },
        {
         "line": {
          "color": "#E1706E",
          "width": 14
         },
         "mode": "lines",
         "name": "Link5",
         "type": "scatter3d",
         "x": {
          "bdata": "NDMzMzMz87+amZmZmZn5vw==",
          "dtype": "f8"
         },
         "y": {
          "bdata": "AAAAAAAAAAAAAAAAAAAAAA==",
          "dtype": "f8"
         },
         "z": {
          "bdata": "mpmZmZmZ2T+amZmZmZnZPw==",
          "dtype": "f8"
         }
        },
        {
         "line": {
          "color": "#E1706E",
          "width": 14
         },
         "mode": "lines",
         "name": "Link6",
         "type": "scatter3d",
         "x": {
          "bdata": "mpmZmZmZ+b8AAAAAAAAAwA==",
          "dtype": "f8"
         },
         "y": {
          "bdata": "AAAAAAAAAAAAAAAAAAAAAA==",
          "dtype": "f8"
         },
         "z": {
          "bdata": "mpmZmZmZ2T+amZmZmZnZPw==",
          "dtype": "f8"
         }
        },
        {
         "line": {
          "color": "#F84752",
          "width": 5
         },
         "mode": "lines",
         "name": "X0 Axis",
         "type": "scatter3d",
         "x": [
          0,
          0.2
         ],
         "y": [
          0,
          0
         ],
         "z": [
          0,
          0
         ]
        },
        {
         "cmax": 1,
         "cmin": 0,
         "colorscale": [
          [
           0,
           "#F84752"
          ],
          [
           1,
           "#F84752"
          ]
         ],
         "showscale": false,
         "sizemode": "absolute",
         "sizeref": 0.02,
         "type": "cone",
         "u": [
          1
         ],
         "v": [
          0
         ],
         "w": [
          0
         ],
         "x": [
          0.2
         ],
         "y": [
          0
         ],
         "z": [
          0
         ]
        },
        {
         "line": {
          "color": "#BBDA55",
          "width": 5
         },
         "mode": "lines",
         "name": "Y0 Axis",
         "type": "scatter3d",
         "x": [
          0,
          0
         ],
         "y": [
          0,
          0.2
         ],
         "z": [
          0,
          0
         ]
        },
        {
         "cmax": 1,
         "cmin": 0,
         "colorscale": [
          [
           0,
           "#BBDA55"
          ],
          [
           1,
           "#BBDA55"
          ]
         ],
         "showscale": false,
         "sizemode": "absolute",
         "sizeref": 0.02,
         "type": "cone",
         "u": [
          0
         ],
         "v": [
          1
         ],
         "w": [
          0
         ],
         "x": [
          0
         ],
         "y": [
          0.2
         ],
         "z": [
          0
         ]
        },
        {
         "line": {
          "color": "#8EC1E1",
          "width": 5
         },
         "mode": "lines",
         "name": "Z0 Axis",
         "type": "scatter3d",
         "x": [
          0,
          0
         ],
         "y": [
          0,
          0
         ],
         "z": [
          0,
          0.2
         ]
        },
        {
         "cmax": 1,
         "cmin": 0,
         "colorscale": [
          [
           0,
           "#8EC1E1"
          ],
          [
           1,
           "#8EC1E1"
          ]
         ],
         "showscale": false,
         "sizemode": "absolute",
         "sizeref": 0.02,
         "type": "cone",
         "u": [
          0
         ],
         "v": [
          0
         ],
         "w": [
          1
         ],
         "x": [
          0
         ],
         "y": [
          0
         ],
         "z": [
          0.2
         ]
        },
        {
         "line": {
          "color": "#F84752",
          "width": 5
         },
         "mode": "lines",
         "name": "X1 Axis",
         "type": "scatter3d",
         "x": [
          0,
          0.2
         ],
         "y": [
          0,
          0
         ],
         "z": [
          0.4,
          0.4
         ]
        },
        {
         "cmax": 1,
         "cmin": 0,
         "colorscale": [
          [
           0,
           "#F84752"
          ],
          [
           1,
           "#F84752"
          ]
         ],
         "showscale": false,
         "sizemode": "absolute",
         "sizeref": 0.02,
         "type": "cone",
         "u": [
          1
         ],
         "v": [
          0
         ],
         "w": [
          0
         ],
         "x": [
          0.2
         ],
         "y": [
          0
         ],
         "z": [
          0.4
         ]
        },
        {
         "line": {
          "color": "#BBDA55",
          "width": 5
         },
         "mode": "lines",
         "name": "Y1 Axis",
         "type": "scatter3d",
         "x": [
          0,
          0
         ],
         "y": [
          0,
          1.2246467991473533e-17
         ],
         "z": [
          0.4,
          0.6000000000000001
         ]
        },
        {
         "cmax": 1,
         "cmin": 0,
         "colorscale": [
          [
           0,
           "#BBDA55"
          ],
          [
           1,
           "#BBDA55"
          ]
         ],
         "showscale": false,
         "sizemode": "absolute",
         "sizeref": 0.02,
         "type": "cone",
         "u": [
          0
         ],
         "v": [
          6.123233995736766e-17
         ],
         "w": [
          1
         ],
         "x": [
          0
         ],
         "y": [
          1.2246467991473533e-17
         ],
         "z": [
          0.6000000000000001
         ]
        },
        {
         "line": {
          "color": "#8EC1E1",
          "width": 5
         },
         "mode": "lines",
         "name": "Z1 Axis",
         "type": "scatter3d",
         "x": [
          0,
          0
         ],
         "y": [
          0,
          -0.2
         ],
         "z": [
          0.4,
          0.4
         ]
        },
        {
         "cmax": 1,
         "cmin": 0,
         "colorscale": [
          [
           0,
           "#8EC1E1"
          ],
          [
           1,
           "#8EC1E1"
          ]
         ],
         "showscale": false,
         "sizemode": "absolute",
         "sizeref": 0.02,
         "type": "cone",
         "u": [
          0
         ],
         "v": [
          -1
         ],
         "w": [
          6.123233995736766e-17
         ],
         "x": [
          0
         ],
         "y": [
          -0.2
         ],
         "z": [
          0.4
         ]
        },
        {
         "line": {
          "color": "#F84752",
          "width": 5
         },
         "mode": "lines",
         "name": "X2 Axis",
         "type": "scatter3d",
         "x": [
          -0.4,
          -0.2
         ],
         "y": [
          0,
          0
         ],
         "z": [
          0.4,
          0.4
         ]
        },
        {
         "cmax": 1,
         "cmin": 0,
         "colorscale": [
          [
           0,
           "#F84752"
          ],
          [
           1,
           "#F84752"
          ]
         ],
         "showscale": false,
         "sizemode": "absolute",
         "sizeref": 0.02,
         "type": "cone",
         "u": [
          1
         ],
         "v": [
          0
         ],
         "w": [
          0
         ],
         "x": [
          -0.2
         ],
         "y": [
          0
         ],
         "z": [
          0.4
         ]
        },
        {
         "line": {
          "color": "#BBDA55",
          "width": 5
         },
         "mode": "lines",
         "name": "Y2 Axis",
         "type": "scatter3d",
         "x": [
          -0.4,
          -0.4
         ],
         "y": [
          0,
          1.2246467991473533e-17
         ],
         "z": [
          0.4,
          0.6000000000000001
         ]
        },
        {
         "cmax": 1,
         "cmin": 0,
         "colorscale": [
          [
           0,
           "#BBDA55"
          ],
          [
           1,
           "#BBDA55"
          ]
         ],
         "showscale": false,
         "sizemode": "absolute",
         "sizeref": 0.02,
         "type": "cone",
         "u": [
          0
         ],
         "v": [
          6.123233995736766e-17
         ],
         "w": [
          1
         ],
         "x": [
          -0.4
         ],
         "y": [
          1.2246467991473533e-17
         ],
         "z": [
          0.6000000000000001
         ]
        },
        {
         "line": {
          "color": "#8EC1E1",
          "width": 5
         },
         "mode": "lines",
         "name": "Z2 Axis",
         "type": "scatter3d",
         "x": [
          -0.4,
          -0.4
         ],
         "y": [
          0,
          -0.2
         ],
         "z": [
          0.4,
          0.4
         ]
        },
        {
         "cmax": 1,
         "cmin": 0,
         "colorscale": [
          [
           0,
           "#8EC1E1"
          ],
          [
           1,
           "#8EC1E1"
          ]
         ],
         "showscale": false,
         "sizemode": "absolute",
         "sizeref": 0.02,
         "type": "cone",
         "u": [
          0
         ],
         "v": [
          -1
         ],
         "w": [
          6.123233995736766e-17
         ],
         "x": [
          -0.4
         ],
         "y": [
          -0.2
         ],
         "z": [
          0.4
         ]
        },
        {
         "line": {
          "color": "#F84752",
          "width": 5
         },
         "mode": "lines",
         "name": "X3 Axis",
         "type": "scatter3d",
         "x": [
          -0.8,
          -0.6000000000000001
         ],
         "y": [
          0,
          0
         ],
         "z": [
          0.4,
          0.4
         ]
        },
        {
         "cmax": 1,
         "cmin": 0,
         "colorscale": [
          [
           0,
           "#F84752"
          ],
          [
           1,
           "#F84752"
          ]
         ],
         "showscale": false,
         "sizemode": "absolute",
         "sizeref": 0.02,
         "type": "cone",
         "u": [
          1
         ],
         "v": [
          0
         ],
         "w": [
          0
         ],
         "x": [
          -0.6000000000000001
         ],
         "y": [
          0
         ],
         "z": [
          0.4
         ]
        },
        {
         "line": {
          "color": "#BBDA55",
          "width": 5
         },
         "mode": "lines",
         "name": "Y3 Axis",
         "type": "scatter3d",
         "x": [
          -0.8,
          -0.8
         ],
         "y": [
          0,
          1.2246467991473533e-17
         ],
         "z": [
          0.4,
          0.6000000000000001
         ]
        },
        {
         "cmax": 1,
         "cmin": 0,
         "colorscale": [
          [
           0,
           "#BBDA55"
          ],
          [
           1,
           "#BBDA55"
          ]
         ],
         "showscale": false,
         "sizemode": "absolute",
         "sizeref": 0.02,
         "type": "cone",
         "u": [
          0
         ],
         "v": [
          6.123233995736766e-17
         ],
         "w": [
          1
         ],
         "x": [
          -0.8
         ],
         "y": [
          1.2246467991473533e-17
         ],
         "z": [
          0.6000000000000001
         ]
        },
        {
         "line": {
          "color": "#8EC1E1",
          "width": 5
         },
         "mode": "lines",
         "name": "Z3 Axis",
         "type": "scatter3d",
         "x": [
          -0.8,
          -0.8
         ],
         "y": [
          0,
          -0.2
         ],
         "z": [
          0.4,
          0.4
         ]
        },
        {
         "cmax": 1,
         "cmin": 0,
         "colorscale": [
          [
           0,
           "#8EC1E1"
          ],
          [
           1,
           "#8EC1E1"
          ]
         ],
         "showscale": false,
         "sizemode": "absolute",
         "sizeref": 0.02,
         "type": "cone",
         "u": [
          0
         ],
         "v": [
          -1
         ],
         "w": [
          6.123233995736766e-17
         ],
         "x": [
          -0.8
         ],
         "y": [
          -0.2
         ],
         "z": [
          0.4
         ]
        },
        {
         "line": {
          "color": "#F84752",
          "width": 5
         },
         "mode": "lines",
         "name": "X4 Axis",
         "type": "scatter3d",
         "x": [
          -1.2000000000000002,
          -1.0000000000000002
         ],
         "y": [
          0,
          0
         ],
         "z": [
          0.4,
          0.4
         ]
        },
        {
         "cmax": 1,
         "cmin": 0,
         "colorscale": [
          [
           0,
           "#F84752"
          ],
          [
           1,
           "#F84752"
          ]
         ],
         "showscale": false,
         "sizemode": "absolute",
         "sizeref": 0.02,
         "type": "cone",
         "u": [
          1
         ],
         "v": [
          0
         ],
         "w": [
          0
         ],
         "x": [
          -1.0000000000000002
         ],
         "y": [
          0
         ],
         "z": [
          0.4
         ]
        },
        {
         "line": {
          "color": "#BBDA55",
          "width": 5
         },
         "mode": "lines",
         "name": "Y4 Axis",
         "type": "scatter3d",
         "x": [
          -1.2000000000000002,
          -1.2000000000000002
         ],
         "y": [
          0,
          1.2246467991473533e-17
         ],
         "z": [
          0.4,
          0.6000000000000001
         ]
        },
        {
         "cmax": 1,
         "cmin": 0,
         "colorscale": [
          [
           0,
           "#BBDA55"
          ],
          [
           1,
           "#BBDA55"
          ]
         ],
         "showscale": false,
         "sizemode": "absolute",
         "sizeref": 0.02,
         "type": "cone",
         "u": [
          0
         ],
         "v": [
          6.123233995736766e-17
         ],
         "w": [
          1
         ],
         "x": [
          -1.2000000000000002
         ],
         "y": [
          1.2246467991473533e-17
         ],
         "z": [
          0.6000000000000001
         ]
        },
        {
         "line": {
          "color": "#8EC1E1",
          "width": 5
         },
         "mode": "lines",
         "name": "Z4 Axis",
         "type": "scatter3d",
         "x": [
          -1.2000000000000002,
          -1.2000000000000002
         ],
         "y": [
          0,
          -0.2
         ],
         "z": [
          0.4,
          0.4
         ]
        },
        {
         "cmax": 1,
         "cmin": 0,
         "colorscale": [
          [
           0,
           "#8EC1E1"
          ],
          [
           1,
           "#8EC1E1"
          ]
         ],
         "showscale": false,
         "sizemode": "absolute",
         "sizeref": 0.02,
         "type": "cone",
         "u": [
          0
         ],
         "v": [
          -1
         ],
         "w": [
          6.123233995736766e-17
         ],
         "x": [
          -1.2000000000000002
         ],
         "y": [
          -0.2
         ],
         "z": [
          0.4
         ]
        },
        {
         "line": {
          "color": "#F84752",
          "width": 5
         },
         "mode": "lines",
         "name": "X5 Axis",
         "type": "scatter3d",
         "x": [
          -1.6,
          -1.4000000000000001
         ],
         "y": [
          0,
          0
         ],
         "z": [
          0.4,
          0.4
         ]
        },
        {
         "cmax": 1,
         "cmin": 0,
         "colorscale": [
          [
           0,
           "#F84752"
          ],
          [
           1,
           "#F84752"
          ]
         ],
         "showscale": false,
         "sizemode": "absolute",
         "sizeref": 0.02,
         "type": "cone",
         "u": [
          1
         ],
         "v": [
          0
         ],
         "w": [
          0
         ],
         "x": [
          -1.4000000000000001
         ],
         "y": [
          0
         ],
         "z": [
          0.4
         ]
        },
        {
         "line": {
          "color": "#BBDA55",
          "width": 5
         },
         "mode": "lines",
         "name": "Y5 Axis",
         "type": "scatter3d",
         "x": [
          -1.6,
          -1.6
         ],
         "y": [
          0,
          1.2246467991473533e-17
         ],
         "z": [
          0.4,
          0.6000000000000001
         ]
        },
        {
         "cmax": 1,
         "cmin": 0,
         "colorscale": [
          [
           0,
           "#BBDA55"
          ],
          [
           1,
           "#BBDA55"
          ]
         ],
         "showscale": false,
         "sizemode": "absolute",
         "sizeref": 0.02,
         "type": "cone",
         "u": [
          0
         ],
         "v": [
          6.123233995736766e-17
         ],
         "w": [
          1
         ],
         "x": [
          -1.6
         ],
         "y": [
          1.2246467991473533e-17
         ],
         "z": [
          0.6000000000000001
         ]
        },
        {
         "line": {
          "color": "#8EC1E1",
          "width": 5
         },
         "mode": "lines",
         "name": "Z5 Axis",
         "type": "scatter3d",
         "x": [
          -1.6,
          -1.6
         ],
         "y": [
          0,
          -0.2
         ],
         "z": [
          0.4,
          0.4
         ]
        },
        {
         "cmax": 1,
         "cmin": 0,
         "colorscale": [
          [
           0,
           "#8EC1E1"
          ],
          [
           1,
           "#8EC1E1"
          ]
         ],
         "showscale": false,
         "sizemode": "absolute",
         "sizeref": 0.02,
         "type": "cone",
         "u": [
          0
         ],
         "v": [
          -1
         ],
         "w": [
          6.123233995736766e-17
         ],
         "x": [
          -1.6
         ],
         "y": [
          -0.2
         ],
         "z": [
          0.4
         ]
        },
        {
         "line": {
          "color": "#F84752",
          "width": 5
         },
         "mode": "lines",
         "name": "X6 Axis",
         "type": "scatter3d",
         "x": [
          -2,
          -1.9
         ],
         "y": [
          0,
          0
         ],
         "z": [
          0.4,
          0.4
         ]
        },
        {
         "cmax": 1,
         "cmin": 0,
         "colorscale": [
          [
           0,
           "#F84752"
          ],
          [
           1,
           "#F84752"
          ]
         ],
         "showscale": false,
         "sizemode": "absolute",
         "sizeref": 0.01,
         "type": "cone",
         "u": [
          1
         ],
         "v": [
          0
         ],
         "w": [
          0
         ],
         "x": [
          -1.9
         ],
         "y": [
          0
         ],
         "z": [
          0.4
         ]
        },
        {
         "line": {
          "color": "#BBDA55",
          "width": 5
         },
         "mode": "lines",
         "name": "Y6 Axis",
         "type": "scatter3d",
         "x": [
          -2,
          -2
         ],
         "y": [
          0,
          6.123233995736766e-18
         ],
         "z": [
          0.4,
          0.5
         ]
        },
        {
         "cmax": 1,
         "cmin": 0,
         "colorscale": [
          [
           0,
           "#BBDA55"
          ],
          [
           1,
           "#BBDA55"
          ]
         ],
         "showscale": false,
         "sizemode": "absolute",
         "sizeref": 0.01,
         "type": "cone",
         "u": [
          0
         ],
         "v": [
          6.123233995736766e-17
         ],
         "w": [
          1
         ],
         "x": [
          -2
         ],
         "y": [
          6.123233995736766e-18
         ],
         "z": [
          0.5
         ]
        },
        {
         "line": {
          "color": "#8EC1E1",
          "width": 5
         },
         "mode": "lines",
         "name": "Z6 Axis",
         "type": "scatter3d",
         "x": [
          -2,
          -2
         ],
         "y": [
          0,
          -0.1
         ],
         "z": [
          0.4,
          0.4
         ]
        },
        {
         "cmax": 1,
         "cmin": 0,
         "colorscale": [
          [
           0,
           "#8EC1E1"
          ],
          [
           1,
           "#8EC1E1"
          ]
         ],
         "showscale": false,
         "sizemode": "absolute",
         "sizeref": 0.01,
         "type": "cone",
         "u": [
          0
         ],
         "v": [
          -1
         ],
         "w": [
          6.123233995736766e-17
         ],
         "x": [
          -2
         ],
         "y": [
          -0.1
         ],
         "z": [
          0.4
         ]
        }
       ],
       "layout": {
        "height": 600,
        "scene": {
         "aspectmode": "cube",
         "camera": {
          "center": {
           "x": 0,
           "y": 0,
           "z": 0
          },
          "eye": {
           "x": 3.059411708155671,
           "y": -3.059411708155671,
           "z": 3.059411708155671
          },
          "up": {
           "x": 0,
           "y": 0,
           "z": 1
          }
         },
         "xaxis": {
          "nticks": 10,
          "range": [
           -2.243568585980826,
           2.243568585980826
          ],
          "title": {
           "text": "X"
          }
         },
         "yaxis": {
          "nticks": 10,
          "range": [
           -2.243568585980826,
           2.243568585980826
          ],
          "title": {
           "text": "Y"
          }
         },
         "zaxis": {
          "nticks": 10,
          "range": [
           -2.243568585980826,
           2.243568585980826
          ],
          "title": {
           "text": "Z"
          }
         }
        },
        "template": {
         "data": {
          "bar": [
           {
            "error_x": {
             "color": "#2a3f5f"
            },
            "error_y": {
             "color": "#2a3f5f"
            },
            "marker": {
             "line": {
              "color": "#E5ECF6",
              "width": 0.5
             },
             "pattern": {
              "fillmode": "overlay",
              "size": 10,
              "solidity": 0.2
             }
            },
            "type": "bar"
           }
          ],
          "barpolar": [
           {
            "marker": {
             "line": {
              "color": "#E5ECF6",
              "width": 0.5
             },
             "pattern": {
              "fillmode": "overlay",
              "size": 10,
              "solidity": 0.2
             }
            },
            "type": "barpolar"
           }
          ],
          "carpet": [
           {
            "aaxis": {
             "endlinecolor": "#2a3f5f",
             "gridcolor": "white",
             "linecolor": "white",
             "minorgridcolor": "white",
             "startlinecolor": "#2a3f5f"
            },
            "baxis": {
             "endlinecolor": "#2a3f5f",
             "gridcolor": "white",
             "linecolor": "white",
             "minorgridcolor": "white",
             "startlinecolor": "#2a3f5f"
            },
            "type": "carpet"
           }
          ],
          "choropleth": [
           {
            "colorbar": {
             "outlinewidth": 0,
             "ticks": ""
            },
            "type": "choropleth"
           }
          ],
          "contour": [
           {
            "colorbar": {
             "outlinewidth": 0,
             "ticks": ""
            },
            "colorscale": [
             [
              0,
              "#0d0887"
             ],
             [
              0.1111111111111111,
              "#46039f"
             ],
             [
              0.2222222222222222,
              "#7201a8"
             ],
             [
              0.3333333333333333,
              "#9c179e"
             ],
             [
              0.4444444444444444,
              "#bd3786"
             ],
             [
              0.5555555555555556,
              "#d8576b"
             ],
             [
              0.6666666666666666,
              "#ed7953"
             ],
             [
              0.7777777777777778,
              "#fb9f3a"
             ],
             [
              0.8888888888888888,
              "#fdca26"
             ],
             [
              1,
              "#f0f921"
             ]
            ],
            "type": "contour"
           }
          ],
          "contourcarpet": [
           {
            "colorbar": {
             "outlinewidth": 0,
             "ticks": ""
            },
            "type": "contourcarpet"
           }
          ],
          "heatmap": [
           {
            "colorbar": {
             "outlinewidth": 0,
             "ticks": ""
            },
            "colorscale": [
             [
              0,
              "#0d0887"
             ],
             [
              0.1111111111111111,
              "#46039f"
             ],
             [
              0.2222222222222222,
              "#7201a8"
             ],
             [
              0.3333333333333333,
              "#9c179e"
             ],
             [
              0.4444444444444444,
              "#bd3786"
             ],
             [
              0.5555555555555556,
              "#d8576b"
             ],
             [
              0.6666666666666666,
              "#ed7953"
             ],
             [
              0.7777777777777778,
              "#fb9f3a"
             ],
             [
              0.8888888888888888,
              "#fdca26"
             ],
             [
              1,
              "#f0f921"
             ]
            ],
            "type": "heatmap"
           }
          ],
          "histogram": [
           {
            "marker": {
             "pattern": {
              "fillmode": "overlay",
              "size": 10,
              "solidity": 0.2
             }
            },
            "type": "histogram"
           }
          ],
          "histogram2d": [
           {
            "colorbar": {
             "outlinewidth": 0,
             "ticks": ""
            },
            "colorscale": [
             [
              0,
              "#0d0887"
             ],
             [
              0.1111111111111111,
              "#46039f"
             ],
             [
              0.2222222222222222,
              "#7201a8"
             ],
             [
              0.3333333333333333,
              "#9c179e"
             ],
             [
              0.4444444444444444,
              "#bd3786"
             ],
             [
              0.5555555555555556,
              "#d8576b"
             ],
             [
              0.6666666666666666,
              "#ed7953"
             ],
             [
              0.7777777777777778,
              "#fb9f3a"
             ],
             [
              0.8888888888888888,
              "#fdca26"
             ],
             [
              1,
              "#f0f921"
             ]
            ],
            "type": "histogram2d"
           }
          ],
          "histogram2dcontour": [
           {
            "colorbar": {
             "outlinewidth": 0,
             "ticks": ""
            },
            "colorscale": [
             [
              0,
              "#0d0887"
             ],
             [
              0.1111111111111111,
              "#46039f"
             ],
             [
              0.2222222222222222,
              "#7201a8"
             ],
             [
              0.3333333333333333,
              "#9c179e"
             ],
             [
              0.4444444444444444,
              "#bd3786"
             ],
             [
              0.5555555555555556,
              "#d8576b"
             ],
             [
              0.6666666666666666,
              "#ed7953"
             ],
             [
              0.7777777777777778,
              "#fb9f3a"
             ],
             [
              0.8888888888888888,
              "#fdca26"
             ],
             [
              1,
              "#f0f921"
             ]
            ],
            "type": "histogram2dcontour"
           }
          ],
          "mesh3d": [
           {
            "colorbar": {
             "outlinewidth": 0,
             "ticks": ""
            },
            "type": "mesh3d"
           }
          ],
          "parcoords": [
           {
            "line": {
             "colorbar": {
              "outlinewidth": 0,
              "ticks": ""
             }
            },
            "type": "parcoords"
           }
          ],
          "pie": [
           {
            "automargin": true,
            "type": "pie"
           }
          ],
          "scatter": [
           {
            "fillpattern": {
             "fillmode": "overlay",
             "size": 10,
             "solidity": 0.2
            },
            "type": "scatter"
           }
          ],
          "scatter3d": [
           {
            "line": {
             "colorbar": {
              "outlinewidth": 0,
              "ticks": ""
             }
            },
            "marker": {
             "colorbar": {
              "outlinewidth": 0,
              "ticks": ""
             }
            },
            "type": "scatter3d"
           }
          ],
          "scattercarpet": [
           {
            "marker": {
             "colorbar": {
              "outlinewidth": 0,
              "ticks": ""
             }
            },
            "type": "scattercarpet"
           }
          ],
          "scattergeo": [
           {
            "marker": {
             "colorbar": {
              "outlinewidth": 0,
              "ticks": ""
             }
            },
            "type": "scattergeo"
           }
          ],
          "scattergl": [
           {
            "marker": {
             "colorbar": {
              "outlinewidth": 0,
              "ticks": ""
             }
            },
            "type": "scattergl"
           }
          ],
          "scattermap": [
           {
            "marker": {
             "colorbar": {
              "outlinewidth": 0,
              "ticks": ""
             }
            },
            "type": "scattermap"
           }
          ],
          "scattermapbox": [
           {
            "marker": {
             "colorbar": {
              "outlinewidth": 0,
              "ticks": ""
             }
            },
            "type": "scattermapbox"
           }
          ],
          "scatterpolar": [
           {
            "marker": {
             "colorbar": {
              "outlinewidth": 0,
              "ticks": ""
             }
            },
            "type": "scatterpolar"
           }
          ],
          "scatterpolargl": [
           {
            "marker": {
             "colorbar": {
              "outlinewidth": 0,
              "ticks": ""
             }
            },
            "type": "scatterpolargl"
           }
          ],
          "scatterternary": [
           {
            "marker": {
             "colorbar": {
              "outlinewidth": 0,
              "ticks": ""
             }
            },
            "type": "scatterternary"
           }
          ],
          "surface": [
           {
            "colorbar": {
             "outlinewidth": 0,
             "ticks": ""
            },
            "colorscale": [
             [
              0,
              "#0d0887"
             ],
             [
              0.1111111111111111,
              "#46039f"
             ],
             [
              0.2222222222222222,
              "#7201a8"
             ],
             [
              0.3333333333333333,
              "#9c179e"
             ],
             [
              0.4444444444444444,
              "#bd3786"
             ],
             [
              0.5555555555555556,
              "#d8576b"
             ],
             [
              0.6666666666666666,
              "#ed7953"
             ],
             [
              0.7777777777777778,
              "#fb9f3a"
             ],
             [
              0.8888888888888888,
              "#fdca26"
             ],
             [
              1,
              "#f0f921"
             ]
            ],
            "type": "surface"
           }
          ],
          "table": [
           {
            "cells": {
             "fill": {
              "color": "#EBF0F8"
             },
             "line": {
              "color": "white"
             }
            },
            "header": {
             "fill": {
              "color": "#C8D4E3"
             },
             "line": {
              "color": "white"
             }
            },
            "type": "table"
           }
          ]
         },
         "layout": {
          "annotationdefaults": {
           "arrowcolor": "#2a3f5f",
           "arrowhead": 0,
           "arrowwidth": 1
          },
          "autotypenumbers": "strict",
          "coloraxis": {
           "colorbar": {
            "outlinewidth": 0,
            "ticks": ""
           }
          },
          "colorscale": {
           "diverging": [
            [
             0,
             "#8e0152"
            ],
            [
             0.1,
             "#c51b7d"
            ],
            [
             0.2,
             "#de77ae"
            ],
            [
             0.3,
             "#f1b6da"
            ],
            [
             0.4,
             "#fde0ef"
            ],
            [
             0.5,
             "#f7f7f7"
            ],
            [
             0.6,
             "#e6f5d0"
            ],
            [
             0.7,
             "#b8e186"
            ],
            [
             0.8,
             "#7fbc41"
            ],
            [
             0.9,
             "#4d9221"
            ],
            [
             1,
             "#276419"
            ]
           ],
           "sequential": [
            [
             0,
             "#0d0887"
            ],
            [
             0.1111111111111111,
             "#46039f"
            ],
            [
             0.2222222222222222,
             "#7201a8"
            ],
            [
             0.3333333333333333,
             "#9c179e"
            ],
            [
             0.4444444444444444,
             "#bd3786"
            ],
            [
             0.5555555555555556,
             "#d8576b"
            ],
            [
             0.6666666666666666,
             "#ed7953"
            ],
            [
             0.7777777777777778,
             "#fb9f3a"
            ],
            [
             0.8888888888888888,
             "#fdca26"
            ],
            [
             1,
             "#f0f921"
            ]
           ],
           "sequentialminus": [
            [
             0,
             "#0d0887"
            ],
            [
             0.1111111111111111,
             "#46039f"
            ],
            [
             0.2222222222222222,
             "#7201a8"
            ],
            [
             0.3333333333333333,
             "#9c179e"
            ],
            [
             0.4444444444444444,
             "#bd3786"
            ],
            [
             0.5555555555555556,
             "#d8576b"
            ],
            [
             0.6666666666666666,
             "#ed7953"
            ],
            [
             0.7777777777777778,
             "#fb9f3a"
            ],
            [
             0.8888888888888888,
             "#fdca26"
            ],
            [
             1,
             "#f0f921"
            ]
           ]
          },
          "colorway": [
           "#636efa",
           "#EF553B",
           "#00cc96",
           "#ab63fa",
           "#FFA15A",
           "#19d3f3",
           "#FF6692",
           "#B6E880",
           "#FF97FF",
           "#FECB52"
          ],
          "font": {
           "color": "#2a3f5f"
          },
          "geo": {
           "bgcolor": "white",
           "lakecolor": "white",
           "landcolor": "#E5ECF6",
           "showlakes": true,
           "showland": true,
           "subunitcolor": "white"
          },
          "hoverlabel": {
           "align": "left"
          },
          "hovermode": "closest",
          "mapbox": {
           "style": "light"
          },
          "paper_bgcolor": "white",
          "plot_bgcolor": "#E5ECF6",
          "polar": {
           "angularaxis": {
            "gridcolor": "white",
            "linecolor": "white",
            "ticks": ""
           },
           "bgcolor": "#E5ECF6",
           "radialaxis": {
            "gridcolor": "white",
            "linecolor": "white",
            "ticks": ""
           }
          },
          "scene": {
           "xaxis": {
            "backgroundcolor": "#E5ECF6",
            "gridcolor": "white",
            "gridwidth": 2,
            "linecolor": "white",
            "showbackground": true,
            "ticks": "",
            "zerolinecolor": "white"
           },
           "yaxis": {
            "backgroundcolor": "#E5ECF6",
            "gridcolor": "white",
            "gridwidth": 2,
            "linecolor": "white",
            "showbackground": true,
            "ticks": "",
            "zerolinecolor": "white"
           },
           "zaxis": {
            "backgroundcolor": "#E5ECF6",
            "gridcolor": "white",
            "gridwidth": 2,
            "linecolor": "white",
            "showbackground": true,
            "ticks": "",
            "zerolinecolor": "white"
           }
          },
          "shapedefaults": {
           "line": {
            "color": "#2a3f5f"
           }
          },
          "ternary": {
           "aaxis": {
            "gridcolor": "white",
            "linecolor": "white",
            "ticks": ""
           },
           "baxis": {
            "gridcolor": "white",
            "linecolor": "white",
            "ticks": ""
           },
           "bgcolor": "#E5ECF6",
           "caxis": {
            "gridcolor": "white",
            "linecolor": "white",
            "ticks": ""
           }
          },
          "title": {
           "x": 0.05
          },
          "xaxis": {
           "automargin": true,
           "gridcolor": "white",
           "linecolor": "white",
           "ticks": "",
           "title": {
            "standoff": 15
           },
           "zerolinecolor": "white",
           "zerolinewidth": 2
          },
          "yaxis": {
           "automargin": true,
           "gridcolor": "white",
           "linecolor": "white",
           "ticks": "",
           "title": {
            "standoff": 15
           },
           "zerolinecolor": "white",
           "zerolinewidth": 2
          }
         }
        },
        "width": 700
       }
      }
     },
     "metadata": {},
     "output_type": "display_data"
    }
   ],
   "source": [
    "robot6 = generic.GenericSix()\n",
    "robot6.plotly(robot6.qz, fig=go.Figure())"
   ]
  },
  {
   "cell_type": "markdown",
   "id": "Xref",
   "metadata": {},
   "source": [
    "### Commercial Models\n",
    "\n",
    "In addition to generic models, several commercial robots are available, such as **Panda, Puma 560, and UR5**."
   ]
  },
  {
   "cell_type": "markdown",
   "id": "SFPL",
   "metadata": {},
   "source": [
    "#### Panda"
   ]
  },
  {
   "cell_type": "code",
   "execution_count": 8,
   "id": "BYtC",
   "metadata": {},
   "outputs": [
    {
     "data": {
      "application/vnd.plotly.v1+json": {
       "config": {
        "plotlyServerURL": "https://plot.ly"
       },
       "data": [
        {
         "line": {
          "color": "#E1706E",
          "width": 14
         },
         "mode": "lines",
         "name": "Link1",
         "type": "scatter3d",
         "x": {
          "bdata": "AAAAAAAAAAAAAAAAAAAAAA==",
          "dtype": "f8"
         },
         "y": {
          "bdata": "AAAAAAAAAAAAAAAAAAAAAA==",
          "dtype": "f8"
         },
         "z": {
          "bdata": "AAAAAAAAAAAdWmQ730/VPw==",
          "dtype": "f8"
         }
        },
        {
         "line": {
          "color": "#E1706E",
          "width": 14
         },
         "mode": "lines",
         "name": "Link2",
         "type": "scatter3d",
         "x": {
          "bdata": "AAAAAAAAAAAAAAAAAAAAAA==",
          "dtype": "f8"
         },
         "y": {
          "bdata": "AAAAAAAAAAAAAAAAAAAAAA==",
          "dtype": "f8"
         },
         "z": {
          "bdata": "HVpkO99P1T8dWmQ730/VPw==",
          "dtype": "f8"
         }
        },
        {
         "line": {
          "color": "#E1706E",
          "width": 14
         },
         "mode": "lines",
         "name": "Link3",
         "type": "scatter3d",
         "x": {
          "bdata": "AAAAAAAAAAAai9cACui3vw==",
          "dtype": "f8"
         },
         "y": {
          "bdata": "AAAAAAAAAABgZqnUQuIvPA==",
          "dtype": "f8"
         },
         "z": {
          "bdata": "HVpkO99P1T8eWk4j/VDkPw==",
          "dtype": "f8"
         }
        },
        {
         "line": {
          "color": "#E1706E",
          "width": 14
         },
         "mode": "lines",
         "name": "Link4",
         "type": "scatter3d",
         "x": {
          "bdata": "GovXAArot7+4BpvZataNvw==",
          "dtype": "f8"
         },
         "y": {
          "bdata": "YGap1ELiLzzC8VNPfzEnvA==",
          "dtype": "f8"
         },
         "z": {
          "bdata": "HlpOI/1Q5D/C2gqUthjlPw==",
          "dtype": "f8"
         }
        },
        {
         "line": {
          "color": "#E1706E",
          "width": 14
         },
         "mode": "lines",
         "name": "Link5",
         "type": "scatter3d",
         "x": {
          "bdata": "uAab2WrWjb/mnIaM4wfYPw==",
          "dtype": "f8"
         },
         "y": {
          "bdata": "wvFTT38xJ7y/QIxyC4mHvA==",
          "dtype": "f8"
         },
         "z": {
          "bdata": "wtoKlLYY5T9QfjOUR5/jPw==",
          "dtype": "f8"
         }
        },
        {
         "line": {
          "color": "#E1706E",
          "width": 14
         },
         "mode": "lines",
         "name": "Link6",
         "type": "scatter3d",
         "x": {
          "bdata": "5pyGjOMH2D/mnIaM4wfYPw==",
          "dtype": "f8"
         },
         "y": {
          "bdata": "v0CMcguJh7y/QIxyC4mHvA==",
          "dtype": "f8"
         },
         "z": {
          "bdata": "UH4zlEef4z9QfjOUR5/jPw==",
          "dtype": "f8"
         }
        },
        {
         "line": {
          "color": "#E1706E",
          "width": 14
         },
         "mode": "lines",
         "name": "Link7",
         "type": "scatter3d",
         "x": {
          "bdata": "5pyGjOMH2D8I+uaiflHePw==",
          "dtype": "f8"
         },
         "y": {
          "bdata": "v0CMcguJh7x9/XPtOECQvA==",
          "dtype": "f8"
         },
         "z": {
          "bdata": "UH4zlEef4z+AiCKNFX/gPw==",
          "dtype": "f8"
         }
        },
        {
         "line": {
          "color": "#F84752",
          "width": 5
         },
         "mode": "lines",
         "name": "X0 Axis",
         "type": "scatter3d",
         "x": [
          0,
          0.07
         ],
         "y": [
          0,
          0
         ],
         "z": [
          0,
          0
         ]
        },
        {
         "cmax": 1,
         "cmin": 0,
         "colorscale": [
          [
           0,
           "#F84752"
          ],
          [
           1,
           "#F84752"
          ]
         ],
         "showscale": false,
         "sizemode": "absolute",
         "sizeref": 0.007000000000000001,
         "type": "cone",
         "u": [
          1
         ],
         "v": [
          0
         ],
         "w": [
          0
         ],
         "x": [
          0.07
         ],
         "y": [
          0
         ],
         "z": [
          0
         ]
        },
        {
         "line": {
          "color": "#BBDA55",
          "width": 5
         },
         "mode": "lines",
         "name": "Y0 Axis",
         "type": "scatter3d",
         "x": [
          0,
          0
         ],
         "y": [
          0,
          0.07
         ],
         "z": [
          0,
          0
         ]
        },
        {
         "cmax": 1,
         "cmin": 0,
         "colorscale": [
          [
           0,
           "#BBDA55"
          ],
          [
           1,
           "#BBDA55"
          ]
         ],
         "showscale": false,
         "sizemode": "absolute",
         "sizeref": 0.007000000000000001,
         "type": "cone",
         "u": [
          0
         ],
         "v": [
          1
         ],
         "w": [
          0
         ],
         "x": [
          0
         ],
         "y": [
          0.07
         ],
         "z": [
          0
         ]
        },
        {
         "line": {
          "color": "#8EC1E1",
          "width": 5
         },
         "mode": "lines",
         "name": "Z0 Axis",
         "type": "scatter3d",
         "x": [
          0,
          0
         ],
         "y": [
          0,
          0
         ],
         "z": [
          0,
          0.07
         ]
        },
        {
         "cmax": 1,
         "cmin": 0,
         "colorscale": [
          [
           0,
           "#8EC1E1"
          ],
          [
           1,
           "#8EC1E1"
          ]
         ],
         "showscale": false,
         "sizemode": "absolute",
         "sizeref": 0.007000000000000001,
         "type": "cone",
         "u": [
          0
         ],
         "v": [
          0
         ],
         "w": [
          1
         ],
         "x": [
          0
         ],
         "y": [
          0
         ],
         "z": [
          0.07
         ]
        },
        {
         "line": {
          "color": "#F84752",
          "width": 5
         },
         "mode": "lines",
         "name": "X1 Axis",
         "type": "scatter3d",
         "x": [
          0,
          0.07
         ],
         "y": [
          0,
          0
         ],
         "z": [
          0.333,
          0.333
         ]
        },
        {
         "cmax": 1,
         "cmin": 0,
         "colorscale": [
          [
           0,
           "#F84752"
          ],
          [
           1,
           "#F84752"
          ]
         ],
         "showscale": false,
         "sizemode": "absolute",
         "sizeref": 0.007000000000000001,
         "type": "cone",
         "u": [
          1
         ],
         "v": [
          0
         ],
         "w": [
          0
         ],
         "x": [
          0.07
         ],
         "y": [
          0
         ],
         "z": [
          0.333
         ]
        },
        {
         "line": {
          "color": "#BBDA55",
          "width": 5
         },
         "mode": "lines",
         "name": "Y1 Axis",
         "type": "scatter3d",
         "x": [
          0,
          0
         ],
         "y": [
          0,
          0.07
         ],
         "z": [
          0.333,
          0.333
         ]
        },
        {
         "cmax": 1,
         "cmin": 0,
         "colorscale": [
          [
           0,
           "#BBDA55"
          ],
          [
           1,
           "#BBDA55"
          ]
         ],
         "showscale": false,
         "sizemode": "absolute",
         "sizeref": 0.007000000000000001,
         "type": "cone",
         "u": [
          0
         ],
         "v": [
          1
         ],
         "w": [
          0
         ],
         "x": [
          0
         ],
         "y": [
          0.07
         ],
         "z": [
          0.333
         ]
        },
        {
         "line": {
          "color": "#8EC1E1",
          "width": 5
         },
         "mode": "lines",
         "name": "Z1 Axis",
         "type": "scatter3d",
         "x": [
          0,
          0
         ],
         "y": [
          0,
          0
         ],
         "z": [
          0.333,
          0.403
         ]
        },
        {
         "cmax": 1,
         "cmin": 0,
         "colorscale": [
          [
           0,
           "#8EC1E1"
          ],
          [
           1,
           "#8EC1E1"
          ]
         ],
         "showscale": false,
         "sizemode": "absolute",
         "sizeref": 0.007000000000000001,
         "type": "cone",
         "u": [
          0
         ],
         "v": [
          0
         ],
         "w": [
          1
         ],
         "x": [
          0
         ],
         "y": [
          0
         ],
         "z": [
          0.403
         ]
        },
        {
         "line": {
          "color": "#F84752",
          "width": 5
         },
         "mode": "lines",
         "name": "X2 Axis",
         "type": "scatter3d",
         "x": [
          0,
          0.06687355423879243
         ],
         "y": [
          0,
          -1.2666775630991085e-18
         ],
         "z": [
          0.333,
          0.3536864144662938
         ]
        },
        {
         "cmax": 1,
         "cmin": 0,
         "colorscale": [
          [
           0,
           "#F84752"
          ],
          [
           1,
           "#F84752"
          ]
         ],
         "showscale": false,
         "sizemode": "absolute",
         "sizeref": 0.007000000000000001,
         "type": "cone",
         "u": [
          0.9553364891256061
         ],
         "v": [
          -1.8095393758558692e-17
         ],
         "w": [
          0.2955202066613396
         ],
         "x": [
          0.06687355423879243
         ],
         "y": [
          -1.2666775630991085e-18
         ],
         "z": [
          0.3536864144662938
         ]
        },
        {
         "line": {
          "color": "#BBDA55",
          "width": 5
         },
         "mode": "lines",
         "name": "Y2 Axis",
         "type": "scatter3d",
         "x": [
          0,
          0.020686414466293775
         ],
         "y": [
          0,
          4.094824207307204e-18
         ],
         "z": [
          0.333,
          0.2661264457612076
         ]
        },
        {
         "cmax": 1,
         "cmin": 0,
         "colorscale": [
          [
           0,
           "#BBDA55"
          ],
          [
           1,
           "#BBDA55"
          ]
         ],
         "showscale": false,
         "sizemode": "absolute",
         "sizeref": 0.007000000000000001,
         "type": "cone",
         "u": [
          0.2955202066613396
         ],
         "v": [
          5.84974886758172e-17
         ],
         "w": [
          -0.9553364891256061
         ],
         "x": [
          0.020686414466293775
         ],
         "y": [
          4.094824207307204e-18
         ],
         "z": [
          0.2661264457612076
         ]
        },
        {
         "line": {
          "color": "#8EC1E1",
          "width": 5
         },
         "mode": "lines",
         "name": "Z2 Axis",
         "type": "scatter3d",
         "x": [
          0,
          0
         ],
         "y": [
          0,
          0.07
         ],
         "z": [
          0.333,
          0.333
         ]
        },
        {
         "cmax": 1,
         "cmin": 0,
         "colorscale": [
          [
           0,
           "#8EC1E1"
          ],
          [
           1,
           "#8EC1E1"
          ]
         ],
         "showscale": false,
         "sizemode": "absolute",
         "sizeref": 0.007000000000000001,
         "type": "cone",
         "u": [
          0
         ],
         "v": [
          1
         ],
         "w": [
          6.123233995736766e-17
         ],
         "x": [
          0
         ],
         "y": [
          0.07
         ],
         "z": [
          0.333
         ]
        },
        {
         "line": {
          "color": "#F84752",
          "width": 5
         },
         "mode": "lines",
         "name": "X3 Axis",
         "type": "scatter3d",
         "x": [
          -0.0933843853049833,
          -0.02651083106619087
         ],
         "y": [
          8.642130049699502e-19,
          -4.0246455812915827e-19
         ],
         "z": [
          0.6348863305636916,
          0.6555727450299854
         ]
        },
        {
         "cmax": 1,
         "cmin": 0,
         "colorscale": [
          [
           0,
           "#F84752"
          ],
          [
           1,
           "#F84752"
          ]
         ],
         "showscale": false,
         "sizemode": "absolute",
         "sizeref": 0.007000000000000001,
         "type": "cone",
         "u": [
          0.9553364891256061
         ],
         "v": [
          -1.8095393758558692e-17
         ],
         "w": [
          0.2955202066613396
         ],
         "x": [
          -0.02651083106619087
         ],
         "y": [
          -4.0246455812915827e-19
         ],
         "z": [
          0.6555727450299854
         ]
        },
        {
         "line": {
          "color": "#BBDA55",
          "width": 5
         },
         "mode": "lines",
         "name": "Y3 Axis",
         "type": "scatter3d",
         "x": [
          -0.0933843853049833,
          -0.0933843853049833
         ],
         "y": [
          8.642130049699502e-19,
          0.07
         ],
         "z": [
          0.6348863305636916,
          0.6348863305636916
         ]
        },
        {
         "cmax": 1,
         "cmin": 0,
         "colorscale": [
          [
           0,
           "#BBDA55"
          ],
          [
           1,
           "#BBDA55"
          ]
         ],
         "showscale": false,
         "sizemode": "absolute",
         "sizeref": 0.007000000000000001,
         "type": "cone",
         "u": [
          1.809539375855869e-17
         ],
         "v": [
          1
         ],
         "w": [
          2.7348512815504783e-18
         ],
         "x": [
          -0.0933843853049833
         ],
         "y": [
          0.07
         ],
         "z": [
          0.6348863305636916
         ]
        },
        {
         "line": {
          "color": "#8EC1E1",
          "width": 5
         },
         "mode": "lines",
         "name": "Z3 Axis",
         "type": "scatter3d",
         "x": [
          -0.0933843853049833,
          -0.11407079977127707
         ],
         "y": [
          8.642130049699502e-19,
          1.0556525946784838e-18
         ],
         "z": [
          0.6348863305636916,
          0.701759884802484
         ]
        },
        {
         "cmax": 1,
         "cmin": 0,
         "colorscale": [
          [
           0,
           "#8EC1E1"
          ],
          [
           1,
           "#8EC1E1"
          ]
         ],
         "showscale": false,
         "sizemode": "absolute",
         "sizeref": 0.007000000000000001,
         "type": "cone",
         "u": [
          -0.2955202066613396
         ],
         "v": [
          2.7348512815504787e-18
         ],
         "w": [
          0.9553364891256061
         ],
         "x": [
          -0.11407079977127707
         ],
         "y": [
          1.0556525946784838e-18
         ],
         "z": [
          0.701759884802484
         ]
        },
        {
         "line": {
          "color": "#F84752",
          "width": 5
         },
         "mode": "lines",
         "name": "X4 Axis",
         "type": "scatter3d",
         "x": [
          -0.014569124952120802,
          -0.03719939463256605
         ],
         "y": [
          -6.286569801111418e-19,
          -3.50342290456241e-18
         ],
         "z": [
          0.6592667476132521,
          0.5930257414751331
         ]
        },
        {
         "cmax": 1,
         "cmin": 0,
         "colorscale": [
          [
           0,
           "#F84752"
          ],
          [
           1,
           "#F84752"
          ]
         ],
         "showscale": false,
         "sizemode": "absolute",
         "sizeref": 0.007000000000000001,
         "type": "cone",
         "u": [
          -0.3232895668635036
         ],
         "v": [
          -4.1068084635018114e-17
         ],
         "w": [
          -0.9463000876874145
         ],
         "x": [
          -0.03719939463256605
         ],
         "y": [
          -3.50342290456241e-18
         ],
         "z": [
          0.5930257414751331
         ]
        },
        {
         "line": {
          "color": "#BBDA55",
          "width": 5
         },
         "mode": "lines",
         "name": "Y4 Axis",
         "type": "scatter3d",
         "x": [
          -0.014569124952120802,
          0.05167188118599822
         ],
         "y": [
          -6.286569801111418e-19,
          -4.2878946805010114e-18
         ],
         "z": [
          0.6592667476132521,
          0.6366364779328069
         ]
        },
        {
         "cmax": 1,
         "cmin": 0,
         "colorscale": [
          [
           0,
           "#BBDA55"
          ],
          [
           1,
           "#BBDA55"
          ]
         ],
         "showscale": false,
         "sizemode": "absolute",
         "sizeref": 0.007000000000000001,
         "type": "cone",
         "u": [
          0.9463000876874145
         ],
         "v": [
          -5.2274824291283853e-17
         ],
         "w": [
          -0.32328956686350363
         ],
         "x": [
          0.05167188118599822
         ],
         "y": [
          -4.2878946805010114e-18
         ],
         "z": [
          0.6366364779328069
         ]
        },
        {
         "line": {
          "color": "#8EC1E1",
          "width": 5
         },
         "mode": "lines",
         "name": "Z4 Axis",
         "type": "scatter3d",
         "x": [
          -0.014569124952120802,
          -0.014569124952120803
         ],
         "y": [
          -6.286569801111418e-19,
          -0.07
         ],
         "z": [
          0.6592667476132521,
          0.6592667476132521
         ]
        },
        {
         "cmax": 1,
         "cmin": 0,
         "colorscale": [
          [
           0,
           "#8EC1E1"
          ],
          [
           1,
           "#8EC1E1"
          ]
         ],
         "showscale": false,
         "sizemode": "absolute",
         "sizeref": 0.007000000000000001,
         "type": "cone",
         "u": [
          -3.619078751711738e-17
         ],
         "v": [
          -1
         ],
         "w": [
          5.57626373942667e-17
         ],
         "x": [
          -0.014569124952120803
         ],
         "y": [
          -0.07
         ],
         "z": [
          0.6592667476132521
         ]
        },
        {
         "line": {
          "color": "#F84752",
          "width": 5
         },
         "mode": "lines",
         "name": "X5 Axis",
         "type": "scatter3d",
         "x": [
          0.3754814979860853,
          0.3528512283056401
         ],
         "y": [
          -4.0827291069204325e-17,
          -4.3702056993655594e-17
         ],
         "z": [
          0.6131933111718784,
          0.5469523050337594
         ]
        },
        {
         "cmax": 1,
         "cmin": 0,
         "colorscale": [
          [
           0,
           "#F84752"
          ],
          [
           1,
           "#F84752"
          ]
         ],
         "showscale": false,
         "sizemode": "absolute",
         "sizeref": 0.007000000000000001,
         "type": "cone",
         "u": [
          -0.3232895668635036
         ],
         "v": [
          -4.1068084635018114e-17
         ],
         "w": [
          -0.9463000876874145
         ],
         "x": [
          0.3528512283056401
         ],
         "y": [
          -4.3702056993655594e-17
         ],
         "z": [
          0.5469523050337594
         ]
        },
        {
         "line": {
          "color": "#BBDA55",
          "width": 5
         },
         "mode": "lines",
         "name": "Y5 Axis",
         "type": "scatter3d",
         "x": [
          0.3754814979860853,
          0.3754814979860853
         ],
         "y": [
          -4.0827291069204325e-17,
          0.06999999999999997
         ],
         "z": [
          0.6131933111718784,
          0.6131933111718784
         ]
        },
        {
         "cmax": 1,
         "cmin": 0,
         "colorscale": [
          [
           0,
           "#BBDA55"
          ],
          [
           1,
           "#BBDA55"
          ]
         ],
         "showscale": false,
         "sizemode": "absolute",
         "sizeref": 0.007000000000000001,
         "type": "cone",
         "u": [
          9.413495618807996e-17
         ],
         "v": [
          1
         ],
         "w": [
          -7.555841405712289e-17
         ],
         "x": [
          0.3754814979860853
         ],
         "y": [
          0.06999999999999997
         ],
         "z": [
          0.6131933111718784
         ]
        },
        {
         "line": {
          "color": "#8EC1E1",
          "width": 5
         },
         "mode": "lines",
         "name": "Z5 Axis",
         "type": "scatter3d",
         "x": [
          0.3754814979860853,
          0.44172250412420433
         ],
         "y": [
          -4.0827291069204325e-17,
          -4.8772792566609934e-17
         ],
         "z": [
          0.6131933111718784,
          0.5905630414914331
         ]
        },
        {
         "cmax": 1,
         "cmin": 0,
         "colorscale": [
          [
           0,
           "#8EC1E1"
          ],
          [
           1,
           "#8EC1E1"
          ]
         ],
         "showscale": false,
         "sizemode": "absolute",
         "sizeref": 0.007000000000000001,
         "type": "cone",
         "u": [
          0.9463000876874145
         ],
         "v": [
          -1.1350716424865154e-16
         ],
         "w": [
          -0.32328956686350363
         ],
         "x": [
          0.44172250412420433
         ],
         "y": [
          -4.8772792566609934e-17
         ],
         "z": [
          0.5905630414914331
         ]
        },
        {
         "line": {
          "color": "#F84752",
          "width": 5
         },
         "mode": "lines",
         "name": "X6 Axis",
         "type": "scatter3d",
         "x": [
          0.3754814979860853,
          0.4451317895555471
         ],
         "y": [
          -4.0827291069204325e-17,
          -4.295830174903844e-17
         ],
         "z": [
          0.6131933111718784,
          0.6201816503371563
         ]
        },
        {
         "cmax": 1,
         "cmin": 0,
         "colorscale": [
          [
           0,
           "#F84752"
          ],
          [
           1,
           "#F84752"
          ]
         ],
         "showscale": false,
         "sizemode": "absolute",
         "sizeref": 0.007000000000000001,
         "type": "cone",
         "u": [
          0.9950041652780258
         ],
         "v": [
          -3.0443009711915956e-17
         ],
         "w": [
          0.09983341664682797
         ],
         "x": [
          0.4451317895555471
         ],
         "y": [
          -4.295830174903844e-17
         ],
         "z": [
          0.6201816503371563
         ]
        },
        {
         "line": {
          "color": "#BBDA55",
          "width": 5
         },
         "mode": "lines",
         "name": "Y6 Axis",
         "type": "scatter3d",
         "x": [
          0.3754814979860853,
          0.36849315882080735
         ],
         "y": [
          -4.0827291069204325e-17,
          -3.669049361818335e-17
         ],
         "z": [
          0.6131933111718784,
          0.6828436027413401
         ]
        },
        {
         "cmax": 1,
         "cmin": 0,
         "colorscale": [
          [
           0,
           "#BBDA55"
          ],
          [
           1,
           "#BBDA55"
          ]
         ],
         "showscale": false,
         "sizemode": "absolute",
         "sizeref": 0.007000000000000001,
         "type": "cone",
         "u": [
          -0.09983341664682802
         ],
         "v": [
          5.909710644315679e-17
         ],
         "w": [
          0.9950041652780258
         ],
         "x": [
          0.36849315882080735
         ],
         "y": [
          -3.669049361818335e-17
         ],
         "z": [
          0.6828436027413401
         ]
        },
        {
         "line": {
          "color": "#8EC1E1",
          "width": 5
         },
         "mode": "lines",
         "name": "Z6 Axis",
         "type": "scatter3d",
         "x": [
          0.3754814979860853,
          0.3754814979860853
         ],
         "y": [
          -4.0827291069204325e-17,
          -0.07000000000000005
         ],
         "z": [
          0.6131933111718784,
          0.6131933111718784
         ]
        },
        {
         "cmax": 1,
         "cmin": 0,
         "colorscale": [
          [
           0,
           "#8EC1E1"
          ],
          [
           1,
           "#8EC1E1"
          ]
         ],
         "showscale": false,
         "sizemode": "absolute",
         "sizeref": 0.007000000000000001,
         "type": "cone",
         "u": [
          -3.619078751711738e-17
         ],
         "v": [
          -1
         ],
         "w": [
          5.57626373942667e-17
         ],
         "x": [
          0.3754814979860853
         ],
         "y": [
          -0.07000000000000005
         ],
         "z": [
          0.6131933111718784
         ]
        },
        {
         "line": {
          "color": "#F84752",
          "width": 5
         },
         "mode": "lines",
         "name": "X7 Axis",
         "type": "scatter3d",
         "x": [
          0.47372404011176217,
          0.4983491368519555
         ],
         "y": [
          -5.638152668870904e-17,
          -0.02474873734152922
         ],
         "z": [
          0.5155132061520504,
          0.5179839571585503
         ]
        },
        {
         "cmax": 1,
         "cmin": 0,
         "colorscale": [
          [
           0,
           "#F84752"
          ],
          [
           1,
           "#F84752"
          ]
         ],
         "showscale": false,
         "sizemode": "absolute",
         "sizeref": 0.0035000000000000005,
         "type": "cone",
         "u": [
          0.7035741925769524
         ],
         "v": [
          -0.7071067811865476
         ],
         "w": [
          0.07059288589999412
         ],
         "x": [
          0.4983491368519555
         ],
         "y": [
          -0.02474873734152922
         ],
         "z": [
          0.5179839571585503
         ]
        },
        {
         "line": {
          "color": "#BBDA55",
          "width": 5
         },
         "mode": "lines",
         "name": "Y7 Axis",
         "type": "scatter3d",
         "x": [
          0.47372404011176217,
          0.44909894337156886
         ],
         "y": [
          -5.638152668870904e-17,
          -0.02474873734152923
         ],
         "z": [
          0.5155132061520504,
          0.5130424551455507
         ]
        },
        {
         "cmax": 1,
         "cmin": 0,
         "colorscale": [
          [
           0,
           "#BBDA55"
          ],
          [
           1,
           "#BBDA55"
          ]
         ],
         "showscale": false,
         "sizemode": "absolute",
         "sizeref": 0.0035000000000000005,
         "type": "cone",
         "u": [
          -0.7035741925769523
         ],
         "v": [
          -0.7071067811865477
         ],
         "w": [
          -0.07059288589999393
         ],
         "x": [
          0.44909894337156886
         ],
         "y": [
          -0.02474873734152923
         ],
         "z": [
          0.5130424551455507
         ]
        },
        {
         "line": {
          "color": "#8EC1E1",
          "width": 5
         },
         "mode": "lines",
         "name": "Z7 Axis",
         "type": "scatter3d",
         "x": [
          0.47372404011176217,
          0.47721820969440115
         ],
         "y": [
          -5.638152668870904e-17,
          -6.05930573127274e-17
         ],
         "z": [
          0.5155132061520504,
          0.48068806036731954
         ]
        },
        {
         "cmax": 1,
         "cmin": 0,
         "colorscale": [
          [
           0,
           "#8EC1E1"
          ],
          [
           1,
           "#8EC1E1"
          ]
         ],
         "showscale": false,
         "sizemode": "absolute",
         "sizeref": 0.0035000000000000005,
         "type": "cone",
         "u": [
          0.09983341664682802
         ],
         "v": [
          -1.2032944640052447e-16
         ],
         "w": [
          -0.9950041652780258
         ],
         "x": [
          0.47721820969440115
         ],
         "y": [
          -6.05930573127274e-17
         ],
         "z": [
          0.48068806036731954
         ]
        }
       ],
       "layout": {
        "height": 600,
        "scene": {
         "aspectmode": "cube",
         "camera": {
          "center": {
           "x": 0,
           "y": 0,
           "z": 0
          },
          "eye": {
           "x": 1.0501803401169716,
           "y": -1.0501803401169716,
           "z": 1.0501803401169716
          },
          "up": {
           "x": 0,
           "y": 0,
           "z": 1
          }
         },
         "xaxis": {
          "nticks": 10,
          "range": [
           -0.7701322494191125,
           0.7701322494191125
          ],
          "title": {
           "text": "X"
          }
         },
         "yaxis": {
          "nticks": 10,
          "range": [
           -0.7701322494191125,
           0.7701322494191125
          ],
          "title": {
           "text": "Y"
          }
         },
         "zaxis": {
          "nticks": 10,
          "range": [
           -0.7701322494191125,
           0.7701322494191125
          ],
          "title": {
           "text": "Z"
          }
         }
        },
        "template": {
         "data": {
          "bar": [
           {
            "error_x": {
             "color": "#2a3f5f"
            },
            "error_y": {
             "color": "#2a3f5f"
            },
            "marker": {
             "line": {
              "color": "#E5ECF6",
              "width": 0.5
             },
             "pattern": {
              "fillmode": "overlay",
              "size": 10,
              "solidity": 0.2
             }
            },
            "type": "bar"
           }
          ],
          "barpolar": [
           {
            "marker": {
             "line": {
              "color": "#E5ECF6",
              "width": 0.5
             },
             "pattern": {
              "fillmode": "overlay",
              "size": 10,
              "solidity": 0.2
             }
            },
            "type": "barpolar"
           }
          ],
          "carpet": [
           {
            "aaxis": {
             "endlinecolor": "#2a3f5f",
             "gridcolor": "white",
             "linecolor": "white",
             "minorgridcolor": "white",
             "startlinecolor": "#2a3f5f"
            },
            "baxis": {
             "endlinecolor": "#2a3f5f",
             "gridcolor": "white",
             "linecolor": "white",
             "minorgridcolor": "white",
             "startlinecolor": "#2a3f5f"
            },
            "type": "carpet"
           }
          ],
          "choropleth": [
           {
            "colorbar": {
             "outlinewidth": 0,
             "ticks": ""
            },
            "type": "choropleth"
           }
          ],
          "contour": [
           {
            "colorbar": {
             "outlinewidth": 0,
             "ticks": ""
            },
            "colorscale": [
             [
              0,
              "#0d0887"
             ],
             [
              0.1111111111111111,
              "#46039f"
             ],
             [
              0.2222222222222222,
              "#7201a8"
             ],
             [
              0.3333333333333333,
              "#9c179e"
             ],
             [
              0.4444444444444444,
              "#bd3786"
             ],
             [
              0.5555555555555556,
              "#d8576b"
             ],
             [
              0.6666666666666666,
              "#ed7953"
             ],
             [
              0.7777777777777778,
              "#fb9f3a"
             ],
             [
              0.8888888888888888,
              "#fdca26"
             ],
             [
              1,
              "#f0f921"
             ]
            ],
            "type": "contour"
           }
          ],
          "contourcarpet": [
           {
            "colorbar": {
             "outlinewidth": 0,
             "ticks": ""
            },
            "type": "contourcarpet"
           }
          ],
          "heatmap": [
           {
            "colorbar": {
             "outlinewidth": 0,
             "ticks": ""
            },
            "colorscale": [
             [
              0,
              "#0d0887"
             ],
             [
              0.1111111111111111,
              "#46039f"
             ],
             [
              0.2222222222222222,
              "#7201a8"
             ],
             [
              0.3333333333333333,
              "#9c179e"
             ],
             [
              0.4444444444444444,
              "#bd3786"
             ],
             [
              0.5555555555555556,
              "#d8576b"
             ],
             [
              0.6666666666666666,
              "#ed7953"
             ],
             [
              0.7777777777777778,
              "#fb9f3a"
             ],
             [
              0.8888888888888888,
              "#fdca26"
             ],
             [
              1,
              "#f0f921"
             ]
            ],
            "type": "heatmap"
           }
          ],
          "histogram": [
           {
            "marker": {
             "pattern": {
              "fillmode": "overlay",
              "size": 10,
              "solidity": 0.2
             }
            },
            "type": "histogram"
           }
          ],
          "histogram2d": [
           {
            "colorbar": {
             "outlinewidth": 0,
             "ticks": ""
            },
            "colorscale": [
             [
              0,
              "#0d0887"
             ],
             [
              0.1111111111111111,
              "#46039f"
             ],
             [
              0.2222222222222222,
              "#7201a8"
             ],
             [
              0.3333333333333333,
              "#9c179e"
             ],
             [
              0.4444444444444444,
              "#bd3786"
             ],
             [
              0.5555555555555556,
              "#d8576b"
             ],
             [
              0.6666666666666666,
              "#ed7953"
             ],
             [
              0.7777777777777778,
              "#fb9f3a"
             ],
             [
              0.8888888888888888,
              "#fdca26"
             ],
             [
              1,
              "#f0f921"
             ]
            ],
            "type": "histogram2d"
           }
          ],
          "histogram2dcontour": [
           {
            "colorbar": {
             "outlinewidth": 0,
             "ticks": ""
            },
            "colorscale": [
             [
              0,
              "#0d0887"
             ],
             [
              0.1111111111111111,
              "#46039f"
             ],
             [
              0.2222222222222222,
              "#7201a8"
             ],
             [
              0.3333333333333333,
              "#9c179e"
             ],
             [
              0.4444444444444444,
              "#bd3786"
             ],
             [
              0.5555555555555556,
              "#d8576b"
             ],
             [
              0.6666666666666666,
              "#ed7953"
             ],
             [
              0.7777777777777778,
              "#fb9f3a"
             ],
             [
              0.8888888888888888,
              "#fdca26"
             ],
             [
              1,
              "#f0f921"
             ]
            ],
            "type": "histogram2dcontour"
           }
          ],
          "mesh3d": [
           {
            "colorbar": {
             "outlinewidth": 0,
             "ticks": ""
            },
            "type": "mesh3d"
           }
          ],
          "parcoords": [
           {
            "line": {
             "colorbar": {
              "outlinewidth": 0,
              "ticks": ""
             }
            },
            "type": "parcoords"
           }
          ],
          "pie": [
           {
            "automargin": true,
            "type": "pie"
           }
          ],
          "scatter": [
           {
            "fillpattern": {
             "fillmode": "overlay",
             "size": 10,
             "solidity": 0.2
            },
            "type": "scatter"
           }
          ],
          "scatter3d": [
           {
            "line": {
             "colorbar": {
              "outlinewidth": 0,
              "ticks": ""
             }
            },
            "marker": {
             "colorbar": {
              "outlinewidth": 0,
              "ticks": ""
             }
            },
            "type": "scatter3d"
           }
          ],
          "scattercarpet": [
           {
            "marker": {
             "colorbar": {
              "outlinewidth": 0,
              "ticks": ""
             }
            },
            "type": "scattercarpet"
           }
          ],
          "scattergeo": [
           {
            "marker": {
             "colorbar": {
              "outlinewidth": 0,
              "ticks": ""
             }
            },
            "type": "scattergeo"
           }
          ],
          "scattergl": [
           {
            "marker": {
             "colorbar": {
              "outlinewidth": 0,
              "ticks": ""
             }
            },
            "type": "scattergl"
           }
          ],
          "scattermap": [
           {
            "marker": {
             "colorbar": {
              "outlinewidth": 0,
              "ticks": ""
             }
            },
            "type": "scattermap"
           }
          ],
          "scattermapbox": [
           {
            "marker": {
             "colorbar": {
              "outlinewidth": 0,
              "ticks": ""
             }
            },
            "type": "scattermapbox"
           }
          ],
          "scatterpolar": [
           {
            "marker": {
             "colorbar": {
              "outlinewidth": 0,
              "ticks": ""
             }
            },
            "type": "scatterpolar"
           }
          ],
          "scatterpolargl": [
           {
            "marker": {
             "colorbar": {
              "outlinewidth": 0,
              "ticks": ""
             }
            },
            "type": "scatterpolargl"
           }
          ],
          "scatterternary": [
           {
            "marker": {
             "colorbar": {
              "outlinewidth": 0,
              "ticks": ""
             }
            },
            "type": "scatterternary"
           }
          ],
          "surface": [
           {
            "colorbar": {
             "outlinewidth": 0,
             "ticks": ""
            },
            "colorscale": [
             [
              0,
              "#0d0887"
             ],
             [
              0.1111111111111111,
              "#46039f"
             ],
             [
              0.2222222222222222,
              "#7201a8"
             ],
             [
              0.3333333333333333,
              "#9c179e"
             ],
             [
              0.4444444444444444,
              "#bd3786"
             ],
             [
              0.5555555555555556,
              "#d8576b"
             ],
             [
              0.6666666666666666,
              "#ed7953"
             ],
             [
              0.7777777777777778,
              "#fb9f3a"
             ],
             [
              0.8888888888888888,
              "#fdca26"
             ],
             [
              1,
              "#f0f921"
             ]
            ],
            "type": "surface"
           }
          ],
          "table": [
           {
            "cells": {
             "fill": {
              "color": "#EBF0F8"
             },
             "line": {
              "color": "white"
             }
            },
            "header": {
             "fill": {
              "color": "#C8D4E3"
             },
             "line": {
              "color": "white"
             }
            },
            "type": "table"
           }
          ]
         },
         "layout": {
          "annotationdefaults": {
           "arrowcolor": "#2a3f5f",
           "arrowhead": 0,
           "arrowwidth": 1
          },
          "autotypenumbers": "strict",
          "coloraxis": {
           "colorbar": {
            "outlinewidth": 0,
            "ticks": ""
           }
          },
          "colorscale": {
           "diverging": [
            [
             0,
             "#8e0152"
            ],
            [
             0.1,
             "#c51b7d"
            ],
            [
             0.2,
             "#de77ae"
            ],
            [
             0.3,
             "#f1b6da"
            ],
            [
             0.4,
             "#fde0ef"
            ],
            [
             0.5,
             "#f7f7f7"
            ],
            [
             0.6,
             "#e6f5d0"
            ],
            [
             0.7,
             "#b8e186"
            ],
            [
             0.8,
             "#7fbc41"
            ],
            [
             0.9,
             "#4d9221"
            ],
            [
             1,
             "#276419"
            ]
           ],
           "sequential": [
            [
             0,
             "#0d0887"
            ],
            [
             0.1111111111111111,
             "#46039f"
            ],
            [
             0.2222222222222222,
             "#7201a8"
            ],
            [
             0.3333333333333333,
             "#9c179e"
            ],
            [
             0.4444444444444444,
             "#bd3786"
            ],
            [
             0.5555555555555556,
             "#d8576b"
            ],
            [
             0.6666666666666666,
             "#ed7953"
            ],
            [
             0.7777777777777778,
             "#fb9f3a"
            ],
            [
             0.8888888888888888,
             "#fdca26"
            ],
            [
             1,
             "#f0f921"
            ]
           ],
           "sequentialminus": [
            [
             0,
             "#0d0887"
            ],
            [
             0.1111111111111111,
             "#46039f"
            ],
            [
             0.2222222222222222,
             "#7201a8"
            ],
            [
             0.3333333333333333,
             "#9c179e"
            ],
            [
             0.4444444444444444,
             "#bd3786"
            ],
            [
             0.5555555555555556,
             "#d8576b"
            ],
            [
             0.6666666666666666,
             "#ed7953"
            ],
            [
             0.7777777777777778,
             "#fb9f3a"
            ],
            [
             0.8888888888888888,
             "#fdca26"
            ],
            [
             1,
             "#f0f921"
            ]
           ]
          },
          "colorway": [
           "#636efa",
           "#EF553B",
           "#00cc96",
           "#ab63fa",
           "#FFA15A",
           "#19d3f3",
           "#FF6692",
           "#B6E880",
           "#FF97FF",
           "#FECB52"
          ],
          "font": {
           "color": "#2a3f5f"
          },
          "geo": {
           "bgcolor": "white",
           "lakecolor": "white",
           "landcolor": "#E5ECF6",
           "showlakes": true,
           "showland": true,
           "subunitcolor": "white"
          },
          "hoverlabel": {
           "align": "left"
          },
          "hovermode": "closest",
          "mapbox": {
           "style": "light"
          },
          "paper_bgcolor": "white",
          "plot_bgcolor": "#E5ECF6",
          "polar": {
           "angularaxis": {
            "gridcolor": "white",
            "linecolor": "white",
            "ticks": ""
           },
           "bgcolor": "#E5ECF6",
           "radialaxis": {
            "gridcolor": "white",
            "linecolor": "white",
            "ticks": ""
           }
          },
          "scene": {
           "xaxis": {
            "backgroundcolor": "#E5ECF6",
            "gridcolor": "white",
            "gridwidth": 2,
            "linecolor": "white",
            "showbackground": true,
            "ticks": "",
            "zerolinecolor": "white"
           },
           "yaxis": {
            "backgroundcolor": "#E5ECF6",
            "gridcolor": "white",
            "gridwidth": 2,
            "linecolor": "white",
            "showbackground": true,
            "ticks": "",
            "zerolinecolor": "white"
           },
           "zaxis": {
            "backgroundcolor": "#E5ECF6",
            "gridcolor": "white",
            "gridwidth": 2,
            "linecolor": "white",
            "showbackground": true,
            "ticks": "",
            "zerolinecolor": "white"
           }
          },
          "shapedefaults": {
           "line": {
            "color": "#2a3f5f"
           }
          },
          "ternary": {
           "aaxis": {
            "gridcolor": "white",
            "linecolor": "white",
            "ticks": ""
           },
           "baxis": {
            "gridcolor": "white",
            "linecolor": "white",
            "ticks": ""
           },
           "bgcolor": "#E5ECF6",
           "caxis": {
            "gridcolor": "white",
            "linecolor": "white",
            "ticks": ""
           }
          },
          "title": {
           "x": 0.05
          },
          "xaxis": {
           "automargin": true,
           "gridcolor": "white",
           "linecolor": "white",
           "ticks": "",
           "title": {
            "standoff": 15
           },
           "zerolinecolor": "white",
           "zerolinewidth": 2
          },
          "yaxis": {
           "automargin": true,
           "gridcolor": "white",
           "linecolor": "white",
           "ticks": "",
           "title": {
            "standoff": 15
           },
           "zerolinecolor": "white",
           "zerolinewidth": 2
          }
         }
        },
        "width": 700
       }
      }
     },
     "metadata": {},
     "output_type": "display_data"
    },
    {
     "data": {
      "application/vnd.plotly.v1+json": {
       "config": {
        "plotlyServerURL": "https://plot.ly"
       },
       "data": [
        {
         "line": {
          "color": "#E1706E",
          "width": 14
         },
         "mode": "lines",
         "name": "Link1",
         "type": "scatter3d",
         "x": {
          "bdata": "AAAAAAAAAAAAAAAAAAAAAA==",
          "dtype": "f8"
         },
         "y": {
          "bdata": "AAAAAAAAAAAAAAAAAAAAAA==",
          "dtype": "f8"
         },
         "z": {
          "bdata": "AAAAAAAAAAAdWmQ730/VPw==",
          "dtype": "f8"
         }
        },
        {
         "line": {
          "color": "#E1706E",
          "width": 14
         },
         "mode": "lines",
         "name": "Link2",
         "type": "scatter3d",
         "x": {
          "bdata": "AAAAAAAAAAAAAAAAAAAAAA==",
          "dtype": "f8"
         },
         "y": {
          "bdata": "AAAAAAAAAAAAAAAAAAAAAA==",
          "dtype": "f8"
         },
         "z": {
          "bdata": "HVpkO99P1T8dWmQ730/VPw==",
          "dtype": "f8"
         }
        },
        {
         "line": {
          "color": "#E1706E",
          "width": 14
         },
         "mode": "lines",
         "name": "Link3",
         "type": "scatter3d",
         "x": {
          "bdata": "AAAAAAAAAAAai9cACui3vw==",
          "dtype": "f8"
         },
         "y": {
          "bdata": "AAAAAAAAAABgZqnUQuIvPA==",
          "dtype": "f8"
         },
         "z": {
          "bdata": "HVpkO99P1T8eWk4j/VDkPw==",
          "dtype": "f8"
         }
        },
        {
         "line": {
          "color": "#E1706E",
          "width": 14
         },
         "mode": "lines",
         "name": "Link4",
         "type": "scatter3d",
         "x": {
          "bdata": "GovXAArot7+4BpvZataNvw==",
          "dtype": "f8"
         },
         "y": {
          "bdata": "YGap1ELiLzzC8VNPfzEnvA==",
          "dtype": "f8"
         },
         "z": {
          "bdata": "HlpOI/1Q5D/C2gqUthjlPw==",
          "dtype": "f8"
         }
        },
        {
         "line": {
          "color": "#E1706E",
          "width": 14
         },
         "mode": "lines",
         "name": "Link5",
         "type": "scatter3d",
         "x": {
          "bdata": "uAab2WrWjb/mnIaM4wfYPw==",
          "dtype": "f8"
         },
         "y": {
          "bdata": "wvFTT38xJ7y/QIxyC4mHvA==",
          "dtype": "f8"
         },
         "z": {
          "bdata": "wtoKlLYY5T9QfjOUR5/jPw==",
          "dtype": "f8"
         }
        },
        {
         "line": {
          "color": "#E1706E",
          "width": 14
         },
         "mode": "lines",
         "name": "Link6",
         "type": "scatter3d",
         "x": {
          "bdata": "5pyGjOMH2D/mnIaM4wfYPw==",
          "dtype": "f8"
         },
         "y": {
          "bdata": "v0CMcguJh7y/QIxyC4mHvA==",
          "dtype": "f8"
         },
         "z": {
          "bdata": "UH4zlEef4z9QfjOUR5/jPw==",
          "dtype": "f8"
         }
        },
        {
         "line": {
          "color": "#E1706E",
          "width": 14
         },
         "mode": "lines",
         "name": "Link7",
         "type": "scatter3d",
         "x": {
          "bdata": "5pyGjOMH2D8I+uaiflHePw==",
          "dtype": "f8"
         },
         "y": {
          "bdata": "v0CMcguJh7x9/XPtOECQvA==",
          "dtype": "f8"
         },
         "z": {
          "bdata": "UH4zlEef4z+AiCKNFX/gPw==",
          "dtype": "f8"
         }
        },
        {
         "line": {
          "color": "#F84752",
          "width": 5
         },
         "mode": "lines",
         "name": "X0 Axis",
         "type": "scatter3d",
         "x": [
          0,
          0.07
         ],
         "y": [
          0,
          0
         ],
         "z": [
          0,
          0
         ]
        },
        {
         "cmax": 1,
         "cmin": 0,
         "colorscale": [
          [
           0,
           "#F84752"
          ],
          [
           1,
           "#F84752"
          ]
         ],
         "showscale": false,
         "sizemode": "absolute",
         "sizeref": 0.007000000000000001,
         "type": "cone",
         "u": [
          1
         ],
         "v": [
          0
         ],
         "w": [
          0
         ],
         "x": [
          0.07
         ],
         "y": [
          0
         ],
         "z": [
          0
         ]
        },
        {
         "line": {
          "color": "#BBDA55",
          "width": 5
         },
         "mode": "lines",
         "name": "Y0 Axis",
         "type": "scatter3d",
         "x": [
          0,
          0
         ],
         "y": [
          0,
          0.07
         ],
         "z": [
          0,
          0
         ]
        },
        {
         "cmax": 1,
         "cmin": 0,
         "colorscale": [
          [
           0,
           "#BBDA55"
          ],
          [
           1,
           "#BBDA55"
          ]
         ],
         "showscale": false,
         "sizemode": "absolute",
         "sizeref": 0.007000000000000001,
         "type": "cone",
         "u": [
          0
         ],
         "v": [
          1
         ],
         "w": [
          0
         ],
         "x": [
          0
         ],
         "y": [
          0.07
         ],
         "z": [
          0
         ]
        },
        {
         "line": {
          "color": "#8EC1E1",
          "width": 5
         },
         "mode": "lines",
         "name": "Z0 Axis",
         "type": "scatter3d",
         "x": [
          0,
          0
         ],
         "y": [
          0,
          0
         ],
         "z": [
          0,
          0.07
         ]
        },
        {
         "cmax": 1,
         "cmin": 0,
         "colorscale": [
          [
           0,
           "#8EC1E1"
          ],
          [
           1,
           "#8EC1E1"
          ]
         ],
         "showscale": false,
         "sizemode": "absolute",
         "sizeref": 0.007000000000000001,
         "type": "cone",
         "u": [
          0
         ],
         "v": [
          0
         ],
         "w": [
          1
         ],
         "x": [
          0
         ],
         "y": [
          0
         ],
         "z": [
          0.07
         ]
        },
        {
         "line": {
          "color": "#F84752",
          "width": 5
         },
         "mode": "lines",
         "name": "X1 Axis",
         "type": "scatter3d",
         "x": [
          0,
          0.07
         ],
         "y": [
          0,
          0
         ],
         "z": [
          0.333,
          0.333
         ]
        },
        {
         "cmax": 1,
         "cmin": 0,
         "colorscale": [
          [
           0,
           "#F84752"
          ],
          [
           1,
           "#F84752"
          ]
         ],
         "showscale": false,
         "sizemode": "absolute",
         "sizeref": 0.007000000000000001,
         "type": "cone",
         "u": [
          1
         ],
         "v": [
          0
         ],
         "w": [
          0
         ],
         "x": [
          0.07
         ],
         "y": [
          0
         ],
         "z": [
          0.333
         ]
        },
        {
         "line": {
          "color": "#BBDA55",
          "width": 5
         },
         "mode": "lines",
         "name": "Y1 Axis",
         "type": "scatter3d",
         "x": [
          0,
          0
         ],
         "y": [
          0,
          0.07
         ],
         "z": [
          0.333,
          0.333
         ]
        },
        {
         "cmax": 1,
         "cmin": 0,
         "colorscale": [
          [
           0,
           "#BBDA55"
          ],
          [
           1,
           "#BBDA55"
          ]
         ],
         "showscale": false,
         "sizemode": "absolute",
         "sizeref": 0.007000000000000001,
         "type": "cone",
         "u": [
          0
         ],
         "v": [
          1
         ],
         "w": [
          0
         ],
         "x": [
          0
         ],
         "y": [
          0.07
         ],
         "z": [
          0.333
         ]
        },
        {
         "line": {
          "color": "#8EC1E1",
          "width": 5
         },
         "mode": "lines",
         "name": "Z1 Axis",
         "type": "scatter3d",
         "x": [
          0,
          0
         ],
         "y": [
          0,
          0
         ],
         "z": [
          0.333,
          0.403
         ]
        },
        {
         "cmax": 1,
         "cmin": 0,
         "colorscale": [
          [
           0,
           "#8EC1E1"
          ],
          [
           1,
           "#8EC1E1"
          ]
         ],
         "showscale": false,
         "sizemode": "absolute",
         "sizeref": 0.007000000000000001,
         "type": "cone",
         "u": [
          0
         ],
         "v": [
          0
         ],
         "w": [
          1
         ],
         "x": [
          0
         ],
         "y": [
          0
         ],
         "z": [
          0.403
         ]
        },
        {
         "line": {
          "color": "#F84752",
          "width": 5
         },
         "mode": "lines",
         "name": "X2 Axis",
         "type": "scatter3d",
         "x": [
          0,
          0.06687355423879243
         ],
         "y": [
          0,
          -1.2666775630991085e-18
         ],
         "z": [
          0.333,
          0.3536864144662938
         ]
        },
        {
         "cmax": 1,
         "cmin": 0,
         "colorscale": [
          [
           0,
           "#F84752"
          ],
          [
           1,
           "#F84752"
          ]
         ],
         "showscale": false,
         "sizemode": "absolute",
         "sizeref": 0.007000000000000001,
         "type": "cone",
         "u": [
          0.9553364891256061
         ],
         "v": [
          -1.8095393758558692e-17
         ],
         "w": [
          0.2955202066613396
         ],
         "x": [
          0.06687355423879243
         ],
         "y": [
          -1.2666775630991085e-18
         ],
         "z": [
          0.3536864144662938
         ]
        },
        {
         "line": {
          "color": "#BBDA55",
          "width": 5
         },
         "mode": "lines",
         "name": "Y2 Axis",
         "type": "scatter3d",
         "x": [
          0,
          0.020686414466293775
         ],
         "y": [
          0,
          4.094824207307204e-18
         ],
         "z": [
          0.333,
          0.2661264457612076
         ]
        },
        {
         "cmax": 1,
         "cmin": 0,
         "colorscale": [
          [
           0,
           "#BBDA55"
          ],
          [
           1,
           "#BBDA55"
          ]
         ],
         "showscale": false,
         "sizemode": "absolute",
         "sizeref": 0.007000000000000001,
         "type": "cone",
         "u": [
          0.2955202066613396
         ],
         "v": [
          5.84974886758172e-17
         ],
         "w": [
          -0.9553364891256061
         ],
         "x": [
          0.020686414466293775
         ],
         "y": [
          4.094824207307204e-18
         ],
         "z": [
          0.2661264457612076
         ]
        },
        {
         "line": {
          "color": "#8EC1E1",
          "width": 5
         },
         "mode": "lines",
         "name": "Z2 Axis",
         "type": "scatter3d",
         "x": [
          0,
          0
         ],
         "y": [
          0,
          0.07
         ],
         "z": [
          0.333,
          0.333
         ]
        },
        {
         "cmax": 1,
         "cmin": 0,
         "colorscale": [
          [
           0,
           "#8EC1E1"
          ],
          [
           1,
           "#8EC1E1"
          ]
         ],
         "showscale": false,
         "sizemode": "absolute",
         "sizeref": 0.007000000000000001,
         "type": "cone",
         "u": [
          0
         ],
         "v": [
          1
         ],
         "w": [
          6.123233995736766e-17
         ],
         "x": [
          0
         ],
         "y": [
          0.07
         ],
         "z": [
          0.333
         ]
        },
        {
         "line": {
          "color": "#F84752",
          "width": 5
         },
         "mode": "lines",
         "name": "X3 Axis",
         "type": "scatter3d",
         "x": [
          -0.0933843853049833,
          -0.02651083106619087
         ],
         "y": [
          8.642130049699502e-19,
          -4.0246455812915827e-19
         ],
         "z": [
          0.6348863305636916,
          0.6555727450299854
         ]
        },
        {
         "cmax": 1,
         "cmin": 0,
         "colorscale": [
          [
           0,
           "#F84752"
          ],
          [
           1,
           "#F84752"
          ]
         ],
         "showscale": false,
         "sizemode": "absolute",
         "sizeref": 0.007000000000000001,
         "type": "cone",
         "u": [
          0.9553364891256061
         ],
         "v": [
          -1.8095393758558692e-17
         ],
         "w": [
          0.2955202066613396
         ],
         "x": [
          -0.02651083106619087
         ],
         "y": [
          -4.0246455812915827e-19
         ],
         "z": [
          0.6555727450299854
         ]
        },
        {
         "line": {
          "color": "#BBDA55",
          "width": 5
         },
         "mode": "lines",
         "name": "Y3 Axis",
         "type": "scatter3d",
         "x": [
          -0.0933843853049833,
          -0.0933843853049833
         ],
         "y": [
          8.642130049699502e-19,
          0.07
         ],
         "z": [
          0.6348863305636916,
          0.6348863305636916
         ]
        },
        {
         "cmax": 1,
         "cmin": 0,
         "colorscale": [
          [
           0,
           "#BBDA55"
          ],
          [
           1,
           "#BBDA55"
          ]
         ],
         "showscale": false,
         "sizemode": "absolute",
         "sizeref": 0.007000000000000001,
         "type": "cone",
         "u": [
          1.809539375855869e-17
         ],
         "v": [
          1
         ],
         "w": [
          2.7348512815504783e-18
         ],
         "x": [
          -0.0933843853049833
         ],
         "y": [
          0.07
         ],
         "z": [
          0.6348863305636916
         ]
        },
        {
         "line": {
          "color": "#8EC1E1",
          "width": 5
         },
         "mode": "lines",
         "name": "Z3 Axis",
         "type": "scatter3d",
         "x": [
          -0.0933843853049833,
          -0.11407079977127707
         ],
         "y": [
          8.642130049699502e-19,
          1.0556525946784838e-18
         ],
         "z": [
          0.6348863305636916,
          0.701759884802484
         ]
        },
        {
         "cmax": 1,
         "cmin": 0,
         "colorscale": [
          [
           0,
           "#8EC1E1"
          ],
          [
           1,
           "#8EC1E1"
          ]
         ],
         "showscale": false,
         "sizemode": "absolute",
         "sizeref": 0.007000000000000001,
         "type": "cone",
         "u": [
          -0.2955202066613396
         ],
         "v": [
          2.7348512815504787e-18
         ],
         "w": [
          0.9553364891256061
         ],
         "x": [
          -0.11407079977127707
         ],
         "y": [
          1.0556525946784838e-18
         ],
         "z": [
          0.701759884802484
         ]
        },
        {
         "line": {
          "color": "#F84752",
          "width": 5
         },
         "mode": "lines",
         "name": "X4 Axis",
         "type": "scatter3d",
         "x": [
          -0.014569124952120802,
          -0.03719939463256605
         ],
         "y": [
          -6.286569801111418e-19,
          -3.50342290456241e-18
         ],
         "z": [
          0.6592667476132521,
          0.5930257414751331
         ]
        },
        {
         "cmax": 1,
         "cmin": 0,
         "colorscale": [
          [
           0,
           "#F84752"
          ],
          [
           1,
           "#F84752"
          ]
         ],
         "showscale": false,
         "sizemode": "absolute",
         "sizeref": 0.007000000000000001,
         "type": "cone",
         "u": [
          -0.3232895668635036
         ],
         "v": [
          -4.1068084635018114e-17
         ],
         "w": [
          -0.9463000876874145
         ],
         "x": [
          -0.03719939463256605
         ],
         "y": [
          -3.50342290456241e-18
         ],
         "z": [
          0.5930257414751331
         ]
        },
        {
         "line": {
          "color": "#BBDA55",
          "width": 5
         },
         "mode": "lines",
         "name": "Y4 Axis",
         "type": "scatter3d",
         "x": [
          -0.014569124952120802,
          0.05167188118599822
         ],
         "y": [
          -6.286569801111418e-19,
          -4.2878946805010114e-18
         ],
         "z": [
          0.6592667476132521,
          0.6366364779328069
         ]
        },
        {
         "cmax": 1,
         "cmin": 0,
         "colorscale": [
          [
           0,
           "#BBDA55"
          ],
          [
           1,
           "#BBDA55"
          ]
         ],
         "showscale": false,
         "sizemode": "absolute",
         "sizeref": 0.007000000000000001,
         "type": "cone",
         "u": [
          0.9463000876874145
         ],
         "v": [
          -5.2274824291283853e-17
         ],
         "w": [
          -0.32328956686350363
         ],
         "x": [
          0.05167188118599822
         ],
         "y": [
          -4.2878946805010114e-18
         ],
         "z": [
          0.6366364779328069
         ]
        },
        {
         "line": {
          "color": "#8EC1E1",
          "width": 5
         },
         "mode": "lines",
         "name": "Z4 Axis",
         "type": "scatter3d",
         "x": [
          -0.014569124952120802,
          -0.014569124952120803
         ],
         "y": [
          -6.286569801111418e-19,
          -0.07
         ],
         "z": [
          0.6592667476132521,
          0.6592667476132521
         ]
        },
        {
         "cmax": 1,
         "cmin": 0,
         "colorscale": [
          [
           0,
           "#8EC1E1"
          ],
          [
           1,
           "#8EC1E1"
          ]
         ],
         "showscale": false,
         "sizemode": "absolute",
         "sizeref": 0.007000000000000001,
         "type": "cone",
         "u": [
          -3.619078751711738e-17
         ],
         "v": [
          -1
         ],
         "w": [
          5.57626373942667e-17
         ],
         "x": [
          -0.014569124952120803
         ],
         "y": [
          -0.07
         ],
         "z": [
          0.6592667476132521
         ]
        },
        {
         "line": {
          "color": "#F84752",
          "width": 5
         },
         "mode": "lines",
         "name": "X5 Axis",
         "type": "scatter3d",
         "x": [
          0.3754814979860853,
          0.3528512283056401
         ],
         "y": [
          -4.0827291069204325e-17,
          -4.3702056993655594e-17
         ],
         "z": [
          0.6131933111718784,
          0.5469523050337594
         ]
        },
        {
         "cmax": 1,
         "cmin": 0,
         "colorscale": [
          [
           0,
           "#F84752"
          ],
          [
           1,
           "#F84752"
          ]
         ],
         "showscale": false,
         "sizemode": "absolute",
         "sizeref": 0.007000000000000001,
         "type": "cone",
         "u": [
          -0.3232895668635036
         ],
         "v": [
          -4.1068084635018114e-17
         ],
         "w": [
          -0.9463000876874145
         ],
         "x": [
          0.3528512283056401
         ],
         "y": [
          -4.3702056993655594e-17
         ],
         "z": [
          0.5469523050337594
         ]
        },
        {
         "line": {
          "color": "#BBDA55",
          "width": 5
         },
         "mode": "lines",
         "name": "Y5 Axis",
         "type": "scatter3d",
         "x": [
          0.3754814979860853,
          0.3754814979860853
         ],
         "y": [
          -4.0827291069204325e-17,
          0.06999999999999997
         ],
         "z": [
          0.6131933111718784,
          0.6131933111718784
         ]
        },
        {
         "cmax": 1,
         "cmin": 0,
         "colorscale": [
          [
           0,
           "#BBDA55"
          ],
          [
           1,
           "#BBDA55"
          ]
         ],
         "showscale": false,
         "sizemode": "absolute",
         "sizeref": 0.007000000000000001,
         "type": "cone",
         "u": [
          9.413495618807996e-17
         ],
         "v": [
          1
         ],
         "w": [
          -7.555841405712289e-17
         ],
         "x": [
          0.3754814979860853
         ],
         "y": [
          0.06999999999999997
         ],
         "z": [
          0.6131933111718784
         ]
        },
        {
         "line": {
          "color": "#8EC1E1",
          "width": 5
         },
         "mode": "lines",
         "name": "Z5 Axis",
         "type": "scatter3d",
         "x": [
          0.3754814979860853,
          0.44172250412420433
         ],
         "y": [
          -4.0827291069204325e-17,
          -4.8772792566609934e-17
         ],
         "z": [
          0.6131933111718784,
          0.5905630414914331
         ]
        },
        {
         "cmax": 1,
         "cmin": 0,
         "colorscale": [
          [
           0,
           "#8EC1E1"
          ],
          [
           1,
           "#8EC1E1"
          ]
         ],
         "showscale": false,
         "sizemode": "absolute",
         "sizeref": 0.007000000000000001,
         "type": "cone",
         "u": [
          0.9463000876874145
         ],
         "v": [
          -1.1350716424865154e-16
         ],
         "w": [
          -0.32328956686350363
         ],
         "x": [
          0.44172250412420433
         ],
         "y": [
          -4.8772792566609934e-17
         ],
         "z": [
          0.5905630414914331
         ]
        },
        {
         "line": {
          "color": "#F84752",
          "width": 5
         },
         "mode": "lines",
         "name": "X6 Axis",
         "type": "scatter3d",
         "x": [
          0.3754814979860853,
          0.4451317895555471
         ],
         "y": [
          -4.0827291069204325e-17,
          -4.295830174903844e-17
         ],
         "z": [
          0.6131933111718784,
          0.6201816503371563
         ]
        },
        {
         "cmax": 1,
         "cmin": 0,
         "colorscale": [
          [
           0,
           "#F84752"
          ],
          [
           1,
           "#F84752"
          ]
         ],
         "showscale": false,
         "sizemode": "absolute",
         "sizeref": 0.007000000000000001,
         "type": "cone",
         "u": [
          0.9950041652780258
         ],
         "v": [
          -3.0443009711915956e-17
         ],
         "w": [
          0.09983341664682797
         ],
         "x": [
          0.4451317895555471
         ],
         "y": [
          -4.295830174903844e-17
         ],
         "z": [
          0.6201816503371563
         ]
        },
        {
         "line": {
          "color": "#BBDA55",
          "width": 5
         },
         "mode": "lines",
         "name": "Y6 Axis",
         "type": "scatter3d",
         "x": [
          0.3754814979860853,
          0.36849315882080735
         ],
         "y": [
          -4.0827291069204325e-17,
          -3.669049361818335e-17
         ],
         "z": [
          0.6131933111718784,
          0.6828436027413401
         ]
        },
        {
         "cmax": 1,
         "cmin": 0,
         "colorscale": [
          [
           0,
           "#BBDA55"
          ],
          [
           1,
           "#BBDA55"
          ]
         ],
         "showscale": false,
         "sizemode": "absolute",
         "sizeref": 0.007000000000000001,
         "type": "cone",
         "u": [
          -0.09983341664682802
         ],
         "v": [
          5.909710644315679e-17
         ],
         "w": [
          0.9950041652780258
         ],
         "x": [
          0.36849315882080735
         ],
         "y": [
          -3.669049361818335e-17
         ],
         "z": [
          0.6828436027413401
         ]
        },
        {
         "line": {
          "color": "#8EC1E1",
          "width": 5
         },
         "mode": "lines",
         "name": "Z6 Axis",
         "type": "scatter3d",
         "x": [
          0.3754814979860853,
          0.3754814979860853
         ],
         "y": [
          -4.0827291069204325e-17,
          -0.07000000000000005
         ],
         "z": [
          0.6131933111718784,
          0.6131933111718784
         ]
        },
        {
         "cmax": 1,
         "cmin": 0,
         "colorscale": [
          [
           0,
           "#8EC1E1"
          ],
          [
           1,
           "#8EC1E1"
          ]
         ],
         "showscale": false,
         "sizemode": "absolute",
         "sizeref": 0.007000000000000001,
         "type": "cone",
         "u": [
          -3.619078751711738e-17
         ],
         "v": [
          -1
         ],
         "w": [
          5.57626373942667e-17
         ],
         "x": [
          0.3754814979860853
         ],
         "y": [
          -0.07000000000000005
         ],
         "z": [
          0.6131933111718784
         ]
        },
        {
         "line": {
          "color": "#F84752",
          "width": 5
         },
         "mode": "lines",
         "name": "X7 Axis",
         "type": "scatter3d",
         "x": [
          0.47372404011176217,
          0.4983491368519555
         ],
         "y": [
          -5.638152668870904e-17,
          -0.02474873734152922
         ],
         "z": [
          0.5155132061520504,
          0.5179839571585503
         ]
        },
        {
         "cmax": 1,
         "cmin": 0,
         "colorscale": [
          [
           0,
           "#F84752"
          ],
          [
           1,
           "#F84752"
          ]
         ],
         "showscale": false,
         "sizemode": "absolute",
         "sizeref": 0.0035000000000000005,
         "type": "cone",
         "u": [
          0.7035741925769524
         ],
         "v": [
          -0.7071067811865476
         ],
         "w": [
          0.07059288589999412
         ],
         "x": [
          0.4983491368519555
         ],
         "y": [
          -0.02474873734152922
         ],
         "z": [
          0.5179839571585503
         ]
        },
        {
         "line": {
          "color": "#BBDA55",
          "width": 5
         },
         "mode": "lines",
         "name": "Y7 Axis",
         "type": "scatter3d",
         "x": [
          0.47372404011176217,
          0.44909894337156886
         ],
         "y": [
          -5.638152668870904e-17,
          -0.02474873734152923
         ],
         "z": [
          0.5155132061520504,
          0.5130424551455507
         ]
        },
        {
         "cmax": 1,
         "cmin": 0,
         "colorscale": [
          [
           0,
           "#BBDA55"
          ],
          [
           1,
           "#BBDA55"
          ]
         ],
         "showscale": false,
         "sizemode": "absolute",
         "sizeref": 0.0035000000000000005,
         "type": "cone",
         "u": [
          -0.7035741925769523
         ],
         "v": [
          -0.7071067811865477
         ],
         "w": [
          -0.07059288589999393
         ],
         "x": [
          0.44909894337156886
         ],
         "y": [
          -0.02474873734152923
         ],
         "z": [
          0.5130424551455507
         ]
        },
        {
         "line": {
          "color": "#8EC1E1",
          "width": 5
         },
         "mode": "lines",
         "name": "Z7 Axis",
         "type": "scatter3d",
         "x": [
          0.47372404011176217,
          0.47721820969440115
         ],
         "y": [
          -5.638152668870904e-17,
          -6.05930573127274e-17
         ],
         "z": [
          0.5155132061520504,
          0.48068806036731954
         ]
        },
        {
         "cmax": 1,
         "cmin": 0,
         "colorscale": [
          [
           0,
           "#8EC1E1"
          ],
          [
           1,
           "#8EC1E1"
          ]
         ],
         "showscale": false,
         "sizemode": "absolute",
         "sizeref": 0.0035000000000000005,
         "type": "cone",
         "u": [
          0.09983341664682802
         ],
         "v": [
          -1.2032944640052447e-16
         ],
         "w": [
          -0.9950041652780258
         ],
         "x": [
          0.47721820969440115
         ],
         "y": [
          -6.05930573127274e-17
         ],
         "z": [
          0.48068806036731954
         ]
        }
       ],
       "layout": {
        "height": 600,
        "scene": {
         "aspectmode": "cube",
         "camera": {
          "center": {
           "x": 0,
           "y": 0,
           "z": 0
          },
          "eye": {
           "x": 1.0501803401169716,
           "y": -1.0501803401169716,
           "z": 1.0501803401169716
          },
          "up": {
           "x": 0,
           "y": 0,
           "z": 1
          }
         },
         "xaxis": {
          "nticks": 10,
          "range": [
           -0.7701322494191125,
           0.7701322494191125
          ],
          "title": {
           "text": "X"
          }
         },
         "yaxis": {
          "nticks": 10,
          "range": [
           -0.7701322494191125,
           0.7701322494191125
          ],
          "title": {
           "text": "Y"
          }
         },
         "zaxis": {
          "nticks": 10,
          "range": [
           -0.7701322494191125,
           0.7701322494191125
          ],
          "title": {
           "text": "Z"
          }
         }
        },
        "template": {
         "data": {
          "bar": [
           {
            "error_x": {
             "color": "#2a3f5f"
            },
            "error_y": {
             "color": "#2a3f5f"
            },
            "marker": {
             "line": {
              "color": "#E5ECF6",
              "width": 0.5
             },
             "pattern": {
              "fillmode": "overlay",
              "size": 10,
              "solidity": 0.2
             }
            },
            "type": "bar"
           }
          ],
          "barpolar": [
           {
            "marker": {
             "line": {
              "color": "#E5ECF6",
              "width": 0.5
             },
             "pattern": {
              "fillmode": "overlay",
              "size": 10,
              "solidity": 0.2
             }
            },
            "type": "barpolar"
           }
          ],
          "carpet": [
           {
            "aaxis": {
             "endlinecolor": "#2a3f5f",
             "gridcolor": "white",
             "linecolor": "white",
             "minorgridcolor": "white",
             "startlinecolor": "#2a3f5f"
            },
            "baxis": {
             "endlinecolor": "#2a3f5f",
             "gridcolor": "white",
             "linecolor": "white",
             "minorgridcolor": "white",
             "startlinecolor": "#2a3f5f"
            },
            "type": "carpet"
           }
          ],
          "choropleth": [
           {
            "colorbar": {
             "outlinewidth": 0,
             "ticks": ""
            },
            "type": "choropleth"
           }
          ],
          "contour": [
           {
            "colorbar": {
             "outlinewidth": 0,
             "ticks": ""
            },
            "colorscale": [
             [
              0,
              "#0d0887"
             ],
             [
              0.1111111111111111,
              "#46039f"
             ],
             [
              0.2222222222222222,
              "#7201a8"
             ],
             [
              0.3333333333333333,
              "#9c179e"
             ],
             [
              0.4444444444444444,
              "#bd3786"
             ],
             [
              0.5555555555555556,
              "#d8576b"
             ],
             [
              0.6666666666666666,
              "#ed7953"
             ],
             [
              0.7777777777777778,
              "#fb9f3a"
             ],
             [
              0.8888888888888888,
              "#fdca26"
             ],
             [
              1,
              "#f0f921"
             ]
            ],
            "type": "contour"
           }
          ],
          "contourcarpet": [
           {
            "colorbar": {
             "outlinewidth": 0,
             "ticks": ""
            },
            "type": "contourcarpet"
           }
          ],
          "heatmap": [
           {
            "colorbar": {
             "outlinewidth": 0,
             "ticks": ""
            },
            "colorscale": [
             [
              0,
              "#0d0887"
             ],
             [
              0.1111111111111111,
              "#46039f"
             ],
             [
              0.2222222222222222,
              "#7201a8"
             ],
             [
              0.3333333333333333,
              "#9c179e"
             ],
             [
              0.4444444444444444,
              "#bd3786"
             ],
             [
              0.5555555555555556,
              "#d8576b"
             ],
             [
              0.6666666666666666,
              "#ed7953"
             ],
             [
              0.7777777777777778,
              "#fb9f3a"
             ],
             [
              0.8888888888888888,
              "#fdca26"
             ],
             [
              1,
              "#f0f921"
             ]
            ],
            "type": "heatmap"
           }
          ],
          "histogram": [
           {
            "marker": {
             "pattern": {
              "fillmode": "overlay",
              "size": 10,
              "solidity": 0.2
             }
            },
            "type": "histogram"
           }
          ],
          "histogram2d": [
           {
            "colorbar": {
             "outlinewidth": 0,
             "ticks": ""
            },
            "colorscale": [
             [
              0,
              "#0d0887"
             ],
             [
              0.1111111111111111,
              "#46039f"
             ],
             [
              0.2222222222222222,
              "#7201a8"
             ],
             [
              0.3333333333333333,
              "#9c179e"
             ],
             [
              0.4444444444444444,
              "#bd3786"
             ],
             [
              0.5555555555555556,
              "#d8576b"
             ],
             [
              0.6666666666666666,
              "#ed7953"
             ],
             [
              0.7777777777777778,
              "#fb9f3a"
             ],
             [
              0.8888888888888888,
              "#fdca26"
             ],
             [
              1,
              "#f0f921"
             ]
            ],
            "type": "histogram2d"
           }
          ],
          "histogram2dcontour": [
           {
            "colorbar": {
             "outlinewidth": 0,
             "ticks": ""
            },
            "colorscale": [
             [
              0,
              "#0d0887"
             ],
             [
              0.1111111111111111,
              "#46039f"
             ],
             [
              0.2222222222222222,
              "#7201a8"
             ],
             [
              0.3333333333333333,
              "#9c179e"
             ],
             [
              0.4444444444444444,
              "#bd3786"
             ],
             [
              0.5555555555555556,
              "#d8576b"
             ],
             [
              0.6666666666666666,
              "#ed7953"
             ],
             [
              0.7777777777777778,
              "#fb9f3a"
             ],
             [
              0.8888888888888888,
              "#fdca26"
             ],
             [
              1,
              "#f0f921"
             ]
            ],
            "type": "histogram2dcontour"
           }
          ],
          "mesh3d": [
           {
            "colorbar": {
             "outlinewidth": 0,
             "ticks": ""
            },
            "type": "mesh3d"
           }
          ],
          "parcoords": [
           {
            "line": {
             "colorbar": {
              "outlinewidth": 0,
              "ticks": ""
             }
            },
            "type": "parcoords"
           }
          ],
          "pie": [
           {
            "automargin": true,
            "type": "pie"
           }
          ],
          "scatter": [
           {
            "fillpattern": {
             "fillmode": "overlay",
             "size": 10,
             "solidity": 0.2
            },
            "type": "scatter"
           }
          ],
          "scatter3d": [
           {
            "line": {
             "colorbar": {
              "outlinewidth": 0,
              "ticks": ""
             }
            },
            "marker": {
             "colorbar": {
              "outlinewidth": 0,
              "ticks": ""
             }
            },
            "type": "scatter3d"
           }
          ],
          "scattercarpet": [
           {
            "marker": {
             "colorbar": {
              "outlinewidth": 0,
              "ticks": ""
             }
            },
            "type": "scattercarpet"
           }
          ],
          "scattergeo": [
           {
            "marker": {
             "colorbar": {
              "outlinewidth": 0,
              "ticks": ""
             }
            },
            "type": "scattergeo"
           }
          ],
          "scattergl": [
           {
            "marker": {
             "colorbar": {
              "outlinewidth": 0,
              "ticks": ""
             }
            },
            "type": "scattergl"
           }
          ],
          "scattermap": [
           {
            "marker": {
             "colorbar": {
              "outlinewidth": 0,
              "ticks": ""
             }
            },
            "type": "scattermap"
           }
          ],
          "scattermapbox": [
           {
            "marker": {
             "colorbar": {
              "outlinewidth": 0,
              "ticks": ""
             }
            },
            "type": "scattermapbox"
           }
          ],
          "scatterpolar": [
           {
            "marker": {
             "colorbar": {
              "outlinewidth": 0,
              "ticks": ""
             }
            },
            "type": "scatterpolar"
           }
          ],
          "scatterpolargl": [
           {
            "marker": {
             "colorbar": {
              "outlinewidth": 0,
              "ticks": ""
             }
            },
            "type": "scatterpolargl"
           }
          ],
          "scatterternary": [
           {
            "marker": {
             "colorbar": {
              "outlinewidth": 0,
              "ticks": ""
             }
            },
            "type": "scatterternary"
           }
          ],
          "surface": [
           {
            "colorbar": {
             "outlinewidth": 0,
             "ticks": ""
            },
            "colorscale": [
             [
              0,
              "#0d0887"
             ],
             [
              0.1111111111111111,
              "#46039f"
             ],
             [
              0.2222222222222222,
              "#7201a8"
             ],
             [
              0.3333333333333333,
              "#9c179e"
             ],
             [
              0.4444444444444444,
              "#bd3786"
             ],
             [
              0.5555555555555556,
              "#d8576b"
             ],
             [
              0.6666666666666666,
              "#ed7953"
             ],
             [
              0.7777777777777778,
              "#fb9f3a"
             ],
             [
              0.8888888888888888,
              "#fdca26"
             ],
             [
              1,
              "#f0f921"
             ]
            ],
            "type": "surface"
           }
          ],
          "table": [
           {
            "cells": {
             "fill": {
              "color": "#EBF0F8"
             },
             "line": {
              "color": "white"
             }
            },
            "header": {
             "fill": {
              "color": "#C8D4E3"
             },
             "line": {
              "color": "white"
             }
            },
            "type": "table"
           }
          ]
         },
         "layout": {
          "annotationdefaults": {
           "arrowcolor": "#2a3f5f",
           "arrowhead": 0,
           "arrowwidth": 1
          },
          "autotypenumbers": "strict",
          "coloraxis": {
           "colorbar": {
            "outlinewidth": 0,
            "ticks": ""
           }
          },
          "colorscale": {
           "diverging": [
            [
             0,
             "#8e0152"
            ],
            [
             0.1,
             "#c51b7d"
            ],
            [
             0.2,
             "#de77ae"
            ],
            [
             0.3,
             "#f1b6da"
            ],
            [
             0.4,
             "#fde0ef"
            ],
            [
             0.5,
             "#f7f7f7"
            ],
            [
             0.6,
             "#e6f5d0"
            ],
            [
             0.7,
             "#b8e186"
            ],
            [
             0.8,
             "#7fbc41"
            ],
            [
             0.9,
             "#4d9221"
            ],
            [
             1,
             "#276419"
            ]
           ],
           "sequential": [
            [
             0,
             "#0d0887"
            ],
            [
             0.1111111111111111,
             "#46039f"
            ],
            [
             0.2222222222222222,
             "#7201a8"
            ],
            [
             0.3333333333333333,
             "#9c179e"
            ],
            [
             0.4444444444444444,
             "#bd3786"
            ],
            [
             0.5555555555555556,
             "#d8576b"
            ],
            [
             0.6666666666666666,
             "#ed7953"
            ],
            [
             0.7777777777777778,
             "#fb9f3a"
            ],
            [
             0.8888888888888888,
             "#fdca26"
            ],
            [
             1,
             "#f0f921"
            ]
           ],
           "sequentialminus": [
            [
             0,
             "#0d0887"
            ],
            [
             0.1111111111111111,
             "#46039f"
            ],
            [
             0.2222222222222222,
             "#7201a8"
            ],
            [
             0.3333333333333333,
             "#9c179e"
            ],
            [
             0.4444444444444444,
             "#bd3786"
            ],
            [
             0.5555555555555556,
             "#d8576b"
            ],
            [
             0.6666666666666666,
             "#ed7953"
            ],
            [
             0.7777777777777778,
             "#fb9f3a"
            ],
            [
             0.8888888888888888,
             "#fdca26"
            ],
            [
             1,
             "#f0f921"
            ]
           ]
          },
          "colorway": [
           "#636efa",
           "#EF553B",
           "#00cc96",
           "#ab63fa",
           "#FFA15A",
           "#19d3f3",
           "#FF6692",
           "#B6E880",
           "#FF97FF",
           "#FECB52"
          ],
          "font": {
           "color": "#2a3f5f"
          },
          "geo": {
           "bgcolor": "white",
           "lakecolor": "white",
           "landcolor": "#E5ECF6",
           "showlakes": true,
           "showland": true,
           "subunitcolor": "white"
          },
          "hoverlabel": {
           "align": "left"
          },
          "hovermode": "closest",
          "mapbox": {
           "style": "light"
          },
          "paper_bgcolor": "white",
          "plot_bgcolor": "#E5ECF6",
          "polar": {
           "angularaxis": {
            "gridcolor": "white",
            "linecolor": "white",
            "ticks": ""
           },
           "bgcolor": "#E5ECF6",
           "radialaxis": {
            "gridcolor": "white",
            "linecolor": "white",
            "ticks": ""
           }
          },
          "scene": {
           "xaxis": {
            "backgroundcolor": "#E5ECF6",
            "gridcolor": "white",
            "gridwidth": 2,
            "linecolor": "white",
            "showbackground": true,
            "ticks": "",
            "zerolinecolor": "white"
           },
           "yaxis": {
            "backgroundcolor": "#E5ECF6",
            "gridcolor": "white",
            "gridwidth": 2,
            "linecolor": "white",
            "showbackground": true,
            "ticks": "",
            "zerolinecolor": "white"
           },
           "zaxis": {
            "backgroundcolor": "#E5ECF6",
            "gridcolor": "white",
            "gridwidth": 2,
            "linecolor": "white",
            "showbackground": true,
            "ticks": "",
            "zerolinecolor": "white"
           }
          },
          "shapedefaults": {
           "line": {
            "color": "#2a3f5f"
           }
          },
          "ternary": {
           "aaxis": {
            "gridcolor": "white",
            "linecolor": "white",
            "ticks": ""
           },
           "baxis": {
            "gridcolor": "white",
            "linecolor": "white",
            "ticks": ""
           },
           "bgcolor": "#E5ECF6",
           "caxis": {
            "gridcolor": "white",
            "linecolor": "white",
            "ticks": ""
           }
          },
          "title": {
           "x": 0.05
          },
          "xaxis": {
           "automargin": true,
           "gridcolor": "white",
           "linecolor": "white",
           "ticks": "",
           "title": {
            "standoff": 15
           },
           "zerolinecolor": "white",
           "zerolinewidth": 2
          },
          "yaxis": {
           "automargin": true,
           "gridcolor": "white",
           "linecolor": "white",
           "ticks": "",
           "title": {
            "standoff": 15
           },
           "zerolinecolor": "white",
           "zerolinewidth": 2
          }
         }
        },
        "width": 700
       }
      }
     },
     "metadata": {},
     "output_type": "display_data"
    }
   ],
   "source": [
    "Panda = rsb.models.DH.Panda()\n",
    "Panda.plotly(Panda.qr, fig=go.Figure())"
   ]
  },
  {
   "cell_type": "markdown",
   "id": "RGSE",
   "metadata": {},
   "source": [
    "#### Puma 560"
   ]
  },
  {
   "cell_type": "code",
   "execution_count": 9,
   "id": "Kclp",
   "metadata": {},
   "outputs": [
    {
     "data": {
      "application/vnd.plotly.v1+json": {
       "config": {
        "plotlyServerURL": "https://plot.ly"
       },
       "data": [
        {
         "line": {
          "color": "#E1706E",
          "width": 14
         },
         "mode": "lines",
         "name": "Link1",
         "type": "scatter3d",
         "x": {
          "bdata": "AAAAAAAAAAAAAAAAAAAAAA==",
          "dtype": "f8"
         },
         "y": {
          "bdata": "AAAAAAAAAAAAAAAAAAAAAA==",
          "dtype": "f8"
         },
         "z": {
          "bdata": "AAAAAAAAAAAAGM+goX/lPw==",
          "dtype": "f8"
         }
        },
        {
         "line": {
          "color": "#E1706E",
          "width": 14
         },
         "mode": "lines",
         "name": "Link2",
         "type": "scatter3d",
         "x": {
          "bdata": "AAAAAAAAAAAiDdpQv3t+PA==",
          "dtype": "f8"
         },
         "y": {
          "bdata": "AAAAAAAAAAAiDdpQv3t+PA==",
          "dtype": "f8"
         },
         "z": {
          "bdata": "ABjPoKF/5T/UJk7ud6jxPw==",
          "dtype": "f8"
         }
        },
        {
         "line": {
          "color": "#E1706E",
          "width": 14
         },
         "mode": "lines",
         "name": "Link3",
         "type": "scatter3d",
         "x": {
          "bdata": "Ig3aUL97fjxMaW/whcmUPw==",
          "dtype": "f8"
         },
         "y": {
          "bdata": "Ig3aUL97fjz25GGh1jTDvw==",
          "dtype": "f8"
         },
         "z": {
          "bdata": "1CZO7neo8T/UJk7ud6jxPw==",
          "dtype": "f8"
         }
        },
        {
         "line": {
          "color": "#E1706E",
          "width": 14
         },
         "mode": "lines",
         "name": "Link4",
         "type": "scatter3d",
         "x": {
          "bdata": "TGlv8IXJlD9MaW/whcmUPw==",
          "dtype": "f8"
         },
         "y": {
          "bdata": "9uRhodY0w7/25GGh1jTDvw==",
          "dtype": "f8"
         },
         "z": {
          "bdata": "1CZO7neo8T+owTQMH5H4Pw==",
          "dtype": "f8"
         }
        },
        {
         "line": {
          "color": "#E1706E",
          "width": 14
         },
         "mode": "lines",
         "name": "Link5",
         "type": "scatter3d",
         "x": {
          "bdata": "TGlv8IXJlD9MaW/whcmUPw==",
          "dtype": "f8"
         },
         "y": {
          "bdata": "9uRhodY0w7/25GGh1jTDvw==",
          "dtype": "f8"
         },
         "z": {
          "bdata": "qME0DB+R+D+owTQMH5H4Pw==",
          "dtype": "f8"
         }
        },
        {
         "line": {
          "color": "#E1706E",
          "width": 14
         },
         "mode": "lines",
         "name": "Link6",
         "type": "scatter3d",
         "x": {
          "bdata": "TGlv8IXJlD9MaW/whcmUPw==",
          "dtype": "f8"
         },
         "y": {
          "bdata": "9uRhodY0w7/25GGh1jTDvw==",
          "dtype": "f8"
         },
         "z": {
          "bdata": "qME0DB+R+D+owTQMH5H4Pw==",
          "dtype": "f8"
         }
        },
        {
         "line": {
          "color": "#F84752",
          "width": 5
         },
         "mode": "lines",
         "name": "X0 Axis",
         "type": "scatter3d",
         "x": [
          0,
          0.15
         ],
         "y": [
          0,
          0
         ],
         "z": [
          0,
          0
         ]
        },
        {
         "cmax": 1,
         "cmin": 0,
         "colorscale": [
          [
           0,
           "#F84752"
          ],
          [
           1,
           "#F84752"
          ]
         ],
         "showscale": false,
         "sizemode": "absolute",
         "sizeref": 0.015,
         "type": "cone",
         "u": [
          1
         ],
         "v": [
          0
         ],
         "w": [
          0
         ],
         "x": [
          0.15
         ],
         "y": [
          0
         ],
         "z": [
          0
         ]
        },
        {
         "line": {
          "color": "#BBDA55",
          "width": 5
         },
         "mode": "lines",
         "name": "Y0 Axis",
         "type": "scatter3d",
         "x": [
          0,
          0
         ],
         "y": [
          0,
          0.15
         ],
         "z": [
          0,
          0
         ]
        },
        {
         "cmax": 1,
         "cmin": 0,
         "colorscale": [
          [
           0,
           "#BBDA55"
          ],
          [
           1,
           "#BBDA55"
          ]
         ],
         "showscale": false,
         "sizemode": "absolute",
         "sizeref": 0.015,
         "type": "cone",
         "u": [
          0
         ],
         "v": [
          1
         ],
         "w": [
          0
         ],
         "x": [
          0
         ],
         "y": [
          0.15
         ],
         "z": [
          0
         ]
        },
        {
         "line": {
          "color": "#8EC1E1",
          "width": 5
         },
         "mode": "lines",
         "name": "Z0 Axis",
         "type": "scatter3d",
         "x": [
          0,
          0
         ],
         "y": [
          0,
          0
         ],
         "z": [
          0,
          0.15
         ]
        },
        {
         "cmax": 1,
         "cmin": 0,
         "colorscale": [
          [
           0,
           "#8EC1E1"
          ],
          [
           1,
           "#8EC1E1"
          ]
         ],
         "showscale": false,
         "sizemode": "absolute",
         "sizeref": 0.015,
         "type": "cone",
         "u": [
          0
         ],
         "v": [
          0
         ],
         "w": [
          1
         ],
         "x": [
          0
         ],
         "y": [
          0
         ],
         "z": [
          0.15
         ]
        },
        {
         "line": {
          "color": "#F84752",
          "width": 5
         },
         "mode": "lines",
         "name": "X1 Axis",
         "type": "scatter3d",
         "x": [
          0,
          0.15
         ],
         "y": [
          0,
          0
         ],
         "z": [
          0.6718299999999999,
          0.6718299999999999
         ]
        },
        {
         "cmax": 1,
         "cmin": 0,
         "colorscale": [
          [
           0,
           "#F84752"
          ],
          [
           1,
           "#F84752"
          ]
         ],
         "showscale": false,
         "sizemode": "absolute",
         "sizeref": 0.015,
         "type": "cone",
         "u": [
          1
         ],
         "v": [
          0
         ],
         "w": [
          0
         ],
         "x": [
          0.15
         ],
         "y": [
          0
         ],
         "z": [
          0.6718299999999999
         ]
        },
        {
         "line": {
          "color": "#BBDA55",
          "width": 5
         },
         "mode": "lines",
         "name": "Y1 Axis",
         "type": "scatter3d",
         "x": [
          0,
          0
         ],
         "y": [
          0,
          9.184850993605149e-18
         ],
         "z": [
          0.6718299999999999,
          0.82183
         ]
        },
        {
         "cmax": 1,
         "cmin": 0,
         "colorscale": [
          [
           0,
           "#BBDA55"
          ],
          [
           1,
           "#BBDA55"
          ]
         ],
         "showscale": false,
         "sizemode": "absolute",
         "sizeref": 0.015,
         "type": "cone",
         "u": [
          0
         ],
         "v": [
          6.123233995736766e-17
         ],
         "w": [
          1
         ],
         "x": [
          0
         ],
         "y": [
          9.184850993605149e-18
         ],
         "z": [
          0.82183
         ]
        },
        {
         "line": {
          "color": "#8EC1E1",
          "width": 5
         },
         "mode": "lines",
         "name": "Z1 Axis",
         "type": "scatter3d",
         "x": [
          0,
          0
         ],
         "y": [
          0,
          -0.15
         ],
         "z": [
          0.6718299999999999,
          0.6718299999999999
         ]
        },
        {
         "cmax": 1,
         "cmin": 0,
         "colorscale": [
          [
           0,
           "#8EC1E1"
          ],
          [
           1,
           "#8EC1E1"
          ]
         ],
         "showscale": false,
         "sizemode": "absolute",
         "sizeref": 0.015,
         "type": "cone",
         "u": [
          0
         ],
         "v": [
          -1
         ],
         "w": [
          6.123233995736766e-17
         ],
         "x": [
          0
         ],
         "y": [
          -0.15
         ],
         "z": [
          0.6718299999999999
         ]
        },
        {
         "line": {
          "color": "#F84752",
          "width": 5
         },
         "mode": "lines",
         "name": "X2 Axis",
         "type": "scatter3d",
         "x": [
          2.6440124393591356e-17,
          3.5624975387196504e-17
         ],
         "y": [
          2.6440124393591356e-17,
          3.5624975387196504e-17
         ],
         "z": [
          1.1036299999999999,
          1.2536299999999998
         ]
        },
        {
         "cmax": 1,
         "cmin": 0,
         "colorscale": [
          [
           0,
           "#F84752"
          ],
          [
           1,
           "#F84752"
          ]
         ],
         "showscale": false,
         "sizemode": "absolute",
         "sizeref": 0.015,
         "type": "cone",
         "u": [
          6.123233995736766e-17
         ],
         "v": [
          6.123233995736766e-17
         ],
         "w": [
          1
         ],
         "x": [
          3.5624975387196504e-17
         ],
         "y": [
          3.5624975387196504e-17
         ],
         "z": [
          1.2536299999999998
         ]
        },
        {
         "line": {
          "color": "#BBDA55",
          "width": 5
         },
         "mode": "lines",
         "name": "Y2 Axis",
         "type": "scatter3d",
         "x": [
          2.6440124393591356e-17,
          -0.14999999999999997
         ],
         "y": [
          2.6440124393591356e-17,
          2.6440124393591356e-17
         ],
         "z": [
          1.1036299999999999,
          1.1036299999999999
         ]
        },
        {
         "cmax": 1,
         "cmin": 0,
         "colorscale": [
          [
           0,
           "#BBDA55"
          ],
          [
           1,
           "#BBDA55"
          ]
         ],
         "showscale": false,
         "sizemode": "absolute",
         "sizeref": 0.015,
         "type": "cone",
         "u": [
          -1
         ],
         "v": [
          3.749399456654644e-33
         ],
         "w": [
          6.123233995736766e-17
         ],
         "x": [
          -0.14999999999999997
         ],
         "y": [
          2.6440124393591356e-17
         ],
         "z": [
          1.1036299999999999
         ]
        },
        {
         "line": {
          "color": "#8EC1E1",
          "width": 5
         },
         "mode": "lines",
         "name": "Z2 Axis",
         "type": "scatter3d",
         "x": [
          2.6440124393591356e-17,
          2.6440124393591356e-17
         ],
         "y": [
          2.6440124393591356e-17,
          -0.14999999999999997
         ],
         "z": [
          1.1036299999999999,
          1.1036299999999999
         ]
        },
        {
         "cmax": 1,
         "cmin": 0,
         "colorscale": [
          [
           0,
           "#8EC1E1"
          ],
          [
           1,
           "#8EC1E1"
          ]
         ],
         "showscale": false,
         "sizemode": "absolute",
         "sizeref": 0.015,
         "type": "cone",
         "u": [
          0
         ],
         "v": [
          -1
         ],
         "w": [
          6.123233995736766e-17
         ],
         "x": [
          2.6440124393591356e-17
         ],
         "y": [
          -0.14999999999999997
         ],
         "z": [
          1.1036299999999999
         ]
        },
        {
         "line": {
          "color": "#F84752",
          "width": 5
         },
         "mode": "lines",
         "name": "X3 Axis",
         "type": "scatter3d",
         "x": [
          0.020300000000000026,
          0.1703
         ],
         "y": [
          -0.15004999999999996,
          -0.15004999999999996
         ],
         "z": [
          1.1036299999999999,
          1.1036299999999999
         ]
        },
        {
         "cmax": 1,
         "cmin": 0,
         "colorscale": [
          [
           0,
           "#F84752"
          ],
          [
           1,
           "#F84752"
          ]
         ],
         "showscale": false,
         "sizemode": "absolute",
         "sizeref": 0.015,
         "type": "cone",
         "u": [
          1
         ],
         "v": [
          0
         ],
         "w": [
          0
         ],
         "x": [
          0.1703
         ],
         "y": [
          -0.15004999999999996
         ],
         "z": [
          1.1036299999999999
         ]
        },
        {
         "line": {
          "color": "#BBDA55",
          "width": 5
         },
         "mode": "lines",
         "name": "Y3 Axis",
         "type": "scatter3d",
         "x": [
          0.020300000000000026,
          0.020300000000000026
         ],
         "y": [
          -0.15004999999999996,
          -0.00004999999999996674
         ],
         "z": [
          1.1036299999999999,
          1.1036299999999999
         ]
        },
        {
         "cmax": 1,
         "cmin": 0,
         "colorscale": [
          [
           0,
           "#BBDA55"
          ],
          [
           1,
           "#BBDA55"
          ]
         ],
         "showscale": false,
         "sizemode": "absolute",
         "sizeref": 0.015,
         "type": "cone",
         "u": [
          0
         ],
         "v": [
          1
         ],
         "w": [
          0
         ],
         "x": [
          0.020300000000000026
         ],
         "y": [
          -0.00004999999999996674
         ],
         "z": [
          1.1036299999999999
         ]
        },
        {
         "line": {
          "color": "#8EC1E1",
          "width": 5
         },
         "mode": "lines",
         "name": "Z3 Axis",
         "type": "scatter3d",
         "x": [
          0.020300000000000026,
          0.020300000000000026
         ],
         "y": [
          -0.15004999999999996,
          -0.15004999999999996
         ],
         "z": [
          1.1036299999999999,
          1.2536299999999998
         ]
        },
        {
         "cmax": 1,
         "cmin": 0,
         "colorscale": [
          [
           0,
           "#8EC1E1"
          ],
          [
           1,
           "#8EC1E1"
          ]
         ],
         "showscale": false,
         "sizemode": "absolute",
         "sizeref": 0.015,
         "type": "cone",
         "u": [
          0
         ],
         "v": [
          0
         ],
         "w": [
          1
         ],
         "x": [
          0.020300000000000026
         ],
         "y": [
          -0.15004999999999996
         ],
         "z": [
          1.2536299999999998
         ]
        },
        {
         "line": {
          "color": "#F84752",
          "width": 5
         },
         "mode": "lines",
         "name": "X4 Axis",
         "type": "scatter3d",
         "x": [
          0.020300000000000026,
          0.1703
         ],
         "y": [
          -0.15004999999999996,
          -0.15004999999999996
         ],
         "z": [
          1.5354299999999999,
          1.5354299999999999
         ]
        },
        {
         "cmax": 1,
         "cmin": 0,
         "colorscale": [
          [
           0,
           "#F84752"
          ],
          [
           1,
           "#F84752"
          ]
         ],
         "showscale": false,
         "sizemode": "absolute",
         "sizeref": 0.015,
         "type": "cone",
         "u": [
          1
         ],
         "v": [
          0
         ],
         "w": [
          0
         ],
         "x": [
          0.1703
         ],
         "y": [
          -0.15004999999999996
         ],
         "z": [
          1.5354299999999999
         ]
        },
        {
         "line": {
          "color": "#BBDA55",
          "width": 5
         },
         "mode": "lines",
         "name": "Y4 Axis",
         "type": "scatter3d",
         "x": [
          0.020300000000000026,
          0.020300000000000026
         ],
         "y": [
          -0.15004999999999996,
          -0.15004999999999996
         ],
         "z": [
          1.5354299999999999,
          1.6854299999999998
         ]
        },
        {
         "cmax": 1,
         "cmin": 0,
         "colorscale": [
          [
           0,
           "#BBDA55"
          ],
          [
           1,
           "#BBDA55"
          ]
         ],
         "showscale": false,
         "sizemode": "absolute",
         "sizeref": 0.015,
         "type": "cone",
         "u": [
          0
         ],
         "v": [
          6.123233995736766e-17
         ],
         "w": [
          1
         ],
         "x": [
          0.020300000000000026
         ],
         "y": [
          -0.15004999999999996
         ],
         "z": [
          1.6854299999999998
         ]
        },
        {
         "line": {
          "color": "#8EC1E1",
          "width": 5
         },
         "mode": "lines",
         "name": "Z4 Axis",
         "type": "scatter3d",
         "x": [
          0.020300000000000026,
          0.020300000000000026
         ],
         "y": [
          -0.15004999999999996,
          -0.30004999999999993
         ],
         "z": [
          1.5354299999999999,
          1.5354299999999999
         ]
        },
        {
         "cmax": 1,
         "cmin": 0,
         "colorscale": [
          [
           0,
           "#8EC1E1"
          ],
          [
           1,
           "#8EC1E1"
          ]
         ],
         "showscale": false,
         "sizemode": "absolute",
         "sizeref": 0.015,
         "type": "cone",
         "u": [
          0
         ],
         "v": [
          -1
         ],
         "w": [
          6.123233995736766e-17
         ],
         "x": [
          0.020300000000000026
         ],
         "y": [
          -0.30004999999999993
         ],
         "z": [
          1.5354299999999999
         ]
        },
        {
         "line": {
          "color": "#F84752",
          "width": 5
         },
         "mode": "lines",
         "name": "X5 Axis",
         "type": "scatter3d",
         "x": [
          0.020300000000000026,
          0.1703
         ],
         "y": [
          -0.15004999999999996,
          -0.15004999999999996
         ],
         "z": [
          1.5354299999999999,
          1.5354299999999999
         ]
        },
        {
         "cmax": 1,
         "cmin": 0,
         "colorscale": [
          [
           0,
           "#F84752"
          ],
          [
           1,
           "#F84752"
          ]
         ],
         "showscale": false,
         "sizemode": "absolute",
         "sizeref": 0.015,
         "type": "cone",
         "u": [
          1
         ],
         "v": [
          0
         ],
         "w": [
          0
         ],
         "x": [
          0.1703
         ],
         "y": [
          -0.15004999999999996
         ],
         "z": [
          1.5354299999999999
         ]
        },
        {
         "line": {
          "color": "#BBDA55",
          "width": 5
         },
         "mode": "lines",
         "name": "Y5 Axis",
         "type": "scatter3d",
         "x": [
          0.020300000000000026,
          0.020300000000000026
         ],
         "y": [
          -0.15004999999999996,
          -0.00004999999999996674
         ],
         "z": [
          1.5354299999999999,
          1.5354299999999999
         ]
        },
        {
         "cmax": 1,
         "cmin": 0,
         "colorscale": [
          [
           0,
           "#BBDA55"
          ],
          [
           1,
           "#BBDA55"
          ]
         ],
         "showscale": false,
         "sizemode": "absolute",
         "sizeref": 0.015,
         "type": "cone",
         "u": [
          0
         ],
         "v": [
          1
         ],
         "w": [
          0
         ],
         "x": [
          0.020300000000000026
         ],
         "y": [
          -0.00004999999999996674
         ],
         "z": [
          1.5354299999999999
         ]
        },
        {
         "line": {
          "color": "#8EC1E1",
          "width": 5
         },
         "mode": "lines",
         "name": "Z5 Axis",
         "type": "scatter3d",
         "x": [
          0.020300000000000026,
          0.020300000000000026
         ],
         "y": [
          -0.15004999999999996,
          -0.15004999999999996
         ],
         "z": [
          1.5354299999999999,
          1.6854299999999998
         ]
        },
        {
         "cmax": 1,
         "cmin": 0,
         "colorscale": [
          [
           0,
           "#8EC1E1"
          ],
          [
           1,
           "#8EC1E1"
          ]
         ],
         "showscale": false,
         "sizemode": "absolute",
         "sizeref": 0.015,
         "type": "cone",
         "u": [
          0
         ],
         "v": [
          0
         ],
         "w": [
          1
         ],
         "x": [
          0.020300000000000026
         ],
         "y": [
          -0.15004999999999996
         ],
         "z": [
          1.6854299999999998
         ]
        },
        {
         "line": {
          "color": "#F84752",
          "width": 5
         },
         "mode": "lines",
         "name": "X6 Axis",
         "type": "scatter3d",
         "x": [
          0.020300000000000026,
          0.09530000000000002
         ],
         "y": [
          -0.15004999999999996,
          -0.15004999999999996
         ],
         "z": [
          1.5354299999999999,
          1.5354299999999999
         ]
        },
        {
         "cmax": 1,
         "cmin": 0,
         "colorscale": [
          [
           0,
           "#F84752"
          ],
          [
           1,
           "#F84752"
          ]
         ],
         "showscale": false,
         "sizemode": "absolute",
         "sizeref": 0.0075,
         "type": "cone",
         "u": [
          1
         ],
         "v": [
          0
         ],
         "w": [
          0
         ],
         "x": [
          0.09530000000000002
         ],
         "y": [
          -0.15004999999999996
         ],
         "z": [
          1.5354299999999999
         ]
        },
        {
         "line": {
          "color": "#BBDA55",
          "width": 5
         },
         "mode": "lines",
         "name": "Y6 Axis",
         "type": "scatter3d",
         "x": [
          0.020300000000000026,
          0.020300000000000026
         ],
         "y": [
          -0.15004999999999996,
          -0.07504999999999996
         ],
         "z": [
          1.5354299999999999,
          1.5354299999999999
         ]
        },
        {
         "cmax": 1,
         "cmin": 0,
         "colorscale": [
          [
           0,
           "#BBDA55"
          ],
          [
           1,
           "#BBDA55"
          ]
         ],
         "showscale": false,
         "sizemode": "absolute",
         "sizeref": 0.0075,
         "type": "cone",
         "u": [
          0
         ],
         "v": [
          1
         ],
         "w": [
          0
         ],
         "x": [
          0.020300000000000026
         ],
         "y": [
          -0.07504999999999996
         ],
         "z": [
          1.5354299999999999
         ]
        },
        {
         "line": {
          "color": "#8EC1E1",
          "width": 5
         },
         "mode": "lines",
         "name": "Z6 Axis",
         "type": "scatter3d",
         "x": [
          0.020300000000000026,
          0.020300000000000026
         ],
         "y": [
          -0.15004999999999996,
          -0.15004999999999996
         ],
         "z": [
          1.5354299999999999,
          1.6104299999999998
         ]
        },
        {
         "cmax": 1,
         "cmin": 0,
         "colorscale": [
          [
           0,
           "#8EC1E1"
          ],
          [
           1,
           "#8EC1E1"
          ]
         ],
         "showscale": false,
         "sizemode": "absolute",
         "sizeref": 0.0075,
         "type": "cone",
         "u": [
          0
         ],
         "v": [
          0
         ],
         "w": [
          1
         ],
         "x": [
          0.020300000000000026
         ],
         "y": [
          -0.15004999999999996
         ],
         "z": [
          1.6104299999999998
         ]
        }
       ],
       "layout": {
        "height": 600,
        "scene": {
         "aspectmode": "cube",
         "camera": {
          "center": {
           "x": 0,
           "y": 0,
           "z": 0
          },
          "eye": {
           "x": 2.314316929279566,
           "y": -2.314316929279566,
           "z": 2.314316929279566
          },
          "up": {
           "x": 0,
           "y": 0,
           "z": 1
          }
         },
         "xaxis": {
          "nticks": 10,
          "range": [
           -1.6971657481383484,
           1.6971657481383484
          ],
          "title": {
           "text": "X"
          }
         },
         "yaxis": {
          "nticks": 10,
          "range": [
           -1.6971657481383484,
           1.6971657481383484
          ],
          "title": {
           "text": "Y"
          }
         },
         "zaxis": {
          "nticks": 10,
          "range": [
           -1.6971657481383484,
           1.6971657481383484
          ],
          "title": {
           "text": "Z"
          }
         }
        },
        "template": {
         "data": {
          "bar": [
           {
            "error_x": {
             "color": "#2a3f5f"
            },
            "error_y": {
             "color": "#2a3f5f"
            },
            "marker": {
             "line": {
              "color": "#E5ECF6",
              "width": 0.5
             },
             "pattern": {
              "fillmode": "overlay",
              "size": 10,
              "solidity": 0.2
             }
            },
            "type": "bar"
           }
          ],
          "barpolar": [
           {
            "marker": {
             "line": {
              "color": "#E5ECF6",
              "width": 0.5
             },
             "pattern": {
              "fillmode": "overlay",
              "size": 10,
              "solidity": 0.2
             }
            },
            "type": "barpolar"
           }
          ],
          "carpet": [
           {
            "aaxis": {
             "endlinecolor": "#2a3f5f",
             "gridcolor": "white",
             "linecolor": "white",
             "minorgridcolor": "white",
             "startlinecolor": "#2a3f5f"
            },
            "baxis": {
             "endlinecolor": "#2a3f5f",
             "gridcolor": "white",
             "linecolor": "white",
             "minorgridcolor": "white",
             "startlinecolor": "#2a3f5f"
            },
            "type": "carpet"
           }
          ],
          "choropleth": [
           {
            "colorbar": {
             "outlinewidth": 0,
             "ticks": ""
            },
            "type": "choropleth"
           }
          ],
          "contour": [
           {
            "colorbar": {
             "outlinewidth": 0,
             "ticks": ""
            },
            "colorscale": [
             [
              0,
              "#0d0887"
             ],
             [
              0.1111111111111111,
              "#46039f"
             ],
             [
              0.2222222222222222,
              "#7201a8"
             ],
             [
              0.3333333333333333,
              "#9c179e"
             ],
             [
              0.4444444444444444,
              "#bd3786"
             ],
             [
              0.5555555555555556,
              "#d8576b"
             ],
             [
              0.6666666666666666,
              "#ed7953"
             ],
             [
              0.7777777777777778,
              "#fb9f3a"
             ],
             [
              0.8888888888888888,
              "#fdca26"
             ],
             [
              1,
              "#f0f921"
             ]
            ],
            "type": "contour"
           }
          ],
          "contourcarpet": [
           {
            "colorbar": {
             "outlinewidth": 0,
             "ticks": ""
            },
            "type": "contourcarpet"
           }
          ],
          "heatmap": [
           {
            "colorbar": {
             "outlinewidth": 0,
             "ticks": ""
            },
            "colorscale": [
             [
              0,
              "#0d0887"
             ],
             [
              0.1111111111111111,
              "#46039f"
             ],
             [
              0.2222222222222222,
              "#7201a8"
             ],
             [
              0.3333333333333333,
              "#9c179e"
             ],
             [
              0.4444444444444444,
              "#bd3786"
             ],
             [
              0.5555555555555556,
              "#d8576b"
             ],
             [
              0.6666666666666666,
              "#ed7953"
             ],
             [
              0.7777777777777778,
              "#fb9f3a"
             ],
             [
              0.8888888888888888,
              "#fdca26"
             ],
             [
              1,
              "#f0f921"
             ]
            ],
            "type": "heatmap"
           }
          ],
          "histogram": [
           {
            "marker": {
             "pattern": {
              "fillmode": "overlay",
              "size": 10,
              "solidity": 0.2
             }
            },
            "type": "histogram"
           }
          ],
          "histogram2d": [
           {
            "colorbar": {
             "outlinewidth": 0,
             "ticks": ""
            },
            "colorscale": [
             [
              0,
              "#0d0887"
             ],
             [
              0.1111111111111111,
              "#46039f"
             ],
             [
              0.2222222222222222,
              "#7201a8"
             ],
             [
              0.3333333333333333,
              "#9c179e"
             ],
             [
              0.4444444444444444,
              "#bd3786"
             ],
             [
              0.5555555555555556,
              "#d8576b"
             ],
             [
              0.6666666666666666,
              "#ed7953"
             ],
             [
              0.7777777777777778,
              "#fb9f3a"
             ],
             [
              0.8888888888888888,
              "#fdca26"
             ],
             [
              1,
              "#f0f921"
             ]
            ],
            "type": "histogram2d"
           }
          ],
          "histogram2dcontour": [
           {
            "colorbar": {
             "outlinewidth": 0,
             "ticks": ""
            },
            "colorscale": [
             [
              0,
              "#0d0887"
             ],
             [
              0.1111111111111111,
              "#46039f"
             ],
             [
              0.2222222222222222,
              "#7201a8"
             ],
             [
              0.3333333333333333,
              "#9c179e"
             ],
             [
              0.4444444444444444,
              "#bd3786"
             ],
             [
              0.5555555555555556,
              "#d8576b"
             ],
             [
              0.6666666666666666,
              "#ed7953"
             ],
             [
              0.7777777777777778,
              "#fb9f3a"
             ],
             [
              0.8888888888888888,
              "#fdca26"
             ],
             [
              1,
              "#f0f921"
             ]
            ],
            "type": "histogram2dcontour"
           }
          ],
          "mesh3d": [
           {
            "colorbar": {
             "outlinewidth": 0,
             "ticks": ""
            },
            "type": "mesh3d"
           }
          ],
          "parcoords": [
           {
            "line": {
             "colorbar": {
              "outlinewidth": 0,
              "ticks": ""
             }
            },
            "type": "parcoords"
           }
          ],
          "pie": [
           {
            "automargin": true,
            "type": "pie"
           }
          ],
          "scatter": [
           {
            "fillpattern": {
             "fillmode": "overlay",
             "size": 10,
             "solidity": 0.2
            },
            "type": "scatter"
           }
          ],
          "scatter3d": [
           {
            "line": {
             "colorbar": {
              "outlinewidth": 0,
              "ticks": ""
             }
            },
            "marker": {
             "colorbar": {
              "outlinewidth": 0,
              "ticks": ""
             }
            },
            "type": "scatter3d"
           }
          ],
          "scattercarpet": [
           {
            "marker": {
             "colorbar": {
              "outlinewidth": 0,
              "ticks": ""
             }
            },
            "type": "scattercarpet"
           }
          ],
          "scattergeo": [
           {
            "marker": {
             "colorbar": {
              "outlinewidth": 0,
              "ticks": ""
             }
            },
            "type": "scattergeo"
           }
          ],
          "scattergl": [
           {
            "marker": {
             "colorbar": {
              "outlinewidth": 0,
              "ticks": ""
             }
            },
            "type": "scattergl"
           }
          ],
          "scattermap": [
           {
            "marker": {
             "colorbar": {
              "outlinewidth": 0,
              "ticks": ""
             }
            },
            "type": "scattermap"
           }
          ],
          "scattermapbox": [
           {
            "marker": {
             "colorbar": {
              "outlinewidth": 0,
              "ticks": ""
             }
            },
            "type": "scattermapbox"
           }
          ],
          "scatterpolar": [
           {
            "marker": {
             "colorbar": {
              "outlinewidth": 0,
              "ticks": ""
             }
            },
            "type": "scatterpolar"
           }
          ],
          "scatterpolargl": [
           {
            "marker": {
             "colorbar": {
              "outlinewidth": 0,
              "ticks": ""
             }
            },
            "type": "scatterpolargl"
           }
          ],
          "scatterternary": [
           {
            "marker": {
             "colorbar": {
              "outlinewidth": 0,
              "ticks": ""
             }
            },
            "type": "scatterternary"
           }
          ],
          "surface": [
           {
            "colorbar": {
             "outlinewidth": 0,
             "ticks": ""
            },
            "colorscale": [
             [
              0,
              "#0d0887"
             ],
             [
              0.1111111111111111,
              "#46039f"
             ],
             [
              0.2222222222222222,
              "#7201a8"
             ],
             [
              0.3333333333333333,
              "#9c179e"
             ],
             [
              0.4444444444444444,
              "#bd3786"
             ],
             [
              0.5555555555555556,
              "#d8576b"
             ],
             [
              0.6666666666666666,
              "#ed7953"
             ],
             [
              0.7777777777777778,
              "#fb9f3a"
             ],
             [
              0.8888888888888888,
              "#fdca26"
             ],
             [
              1,
              "#f0f921"
             ]
            ],
            "type": "surface"
           }
          ],
          "table": [
           {
            "cells": {
             "fill": {
              "color": "#EBF0F8"
             },
             "line": {
              "color": "white"
             }
            },
            "header": {
             "fill": {
              "color": "#C8D4E3"
             },
             "line": {
              "color": "white"
             }
            },
            "type": "table"
           }
          ]
         },
         "layout": {
          "annotationdefaults": {
           "arrowcolor": "#2a3f5f",
           "arrowhead": 0,
           "arrowwidth": 1
          },
          "autotypenumbers": "strict",
          "coloraxis": {
           "colorbar": {
            "outlinewidth": 0,
            "ticks": ""
           }
          },
          "colorscale": {
           "diverging": [
            [
             0,
             "#8e0152"
            ],
            [
             0.1,
             "#c51b7d"
            ],
            [
             0.2,
             "#de77ae"
            ],
            [
             0.3,
             "#f1b6da"
            ],
            [
             0.4,
             "#fde0ef"
            ],
            [
             0.5,
             "#f7f7f7"
            ],
            [
             0.6,
             "#e6f5d0"
            ],
            [
             0.7,
             "#b8e186"
            ],
            [
             0.8,
             "#7fbc41"
            ],
            [
             0.9,
             "#4d9221"
            ],
            [
             1,
             "#276419"
            ]
           ],
           "sequential": [
            [
             0,
             "#0d0887"
            ],
            [
             0.1111111111111111,
             "#46039f"
            ],
            [
             0.2222222222222222,
             "#7201a8"
            ],
            [
             0.3333333333333333,
             "#9c179e"
            ],
            [
             0.4444444444444444,
             "#bd3786"
            ],
            [
             0.5555555555555556,
             "#d8576b"
            ],
            [
             0.6666666666666666,
             "#ed7953"
            ],
            [
             0.7777777777777778,
             "#fb9f3a"
            ],
            [
             0.8888888888888888,
             "#fdca26"
            ],
            [
             1,
             "#f0f921"
            ]
           ],
           "sequentialminus": [
            [
             0,
             "#0d0887"
            ],
            [
             0.1111111111111111,
             "#46039f"
            ],
            [
             0.2222222222222222,
             "#7201a8"
            ],
            [
             0.3333333333333333,
             "#9c179e"
            ],
            [
             0.4444444444444444,
             "#bd3786"
            ],
            [
             0.5555555555555556,
             "#d8576b"
            ],
            [
             0.6666666666666666,
             "#ed7953"
            ],
            [
             0.7777777777777778,
             "#fb9f3a"
            ],
            [
             0.8888888888888888,
             "#fdca26"
            ],
            [
             1,
             "#f0f921"
            ]
           ]
          },
          "colorway": [
           "#636efa",
           "#EF553B",
           "#00cc96",
           "#ab63fa",
           "#FFA15A",
           "#19d3f3",
           "#FF6692",
           "#B6E880",
           "#FF97FF",
           "#FECB52"
          ],
          "font": {
           "color": "#2a3f5f"
          },
          "geo": {
           "bgcolor": "white",
           "lakecolor": "white",
           "landcolor": "#E5ECF6",
           "showlakes": true,
           "showland": true,
           "subunitcolor": "white"
          },
          "hoverlabel": {
           "align": "left"
          },
          "hovermode": "closest",
          "mapbox": {
           "style": "light"
          },
          "paper_bgcolor": "white",
          "plot_bgcolor": "#E5ECF6",
          "polar": {
           "angularaxis": {
            "gridcolor": "white",
            "linecolor": "white",
            "ticks": ""
           },
           "bgcolor": "#E5ECF6",
           "radialaxis": {
            "gridcolor": "white",
            "linecolor": "white",
            "ticks": ""
           }
          },
          "scene": {
           "xaxis": {
            "backgroundcolor": "#E5ECF6",
            "gridcolor": "white",
            "gridwidth": 2,
            "linecolor": "white",
            "showbackground": true,
            "ticks": "",
            "zerolinecolor": "white"
           },
           "yaxis": {
            "backgroundcolor": "#E5ECF6",
            "gridcolor": "white",
            "gridwidth": 2,
            "linecolor": "white",
            "showbackground": true,
            "ticks": "",
            "zerolinecolor": "white"
           },
           "zaxis": {
            "backgroundcolor": "#E5ECF6",
            "gridcolor": "white",
            "gridwidth": 2,
            "linecolor": "white",
            "showbackground": true,
            "ticks": "",
            "zerolinecolor": "white"
           }
          },
          "shapedefaults": {
           "line": {
            "color": "#2a3f5f"
           }
          },
          "ternary": {
           "aaxis": {
            "gridcolor": "white",
            "linecolor": "white",
            "ticks": ""
           },
           "baxis": {
            "gridcolor": "white",
            "linecolor": "white",
            "ticks": ""
           },
           "bgcolor": "#E5ECF6",
           "caxis": {
            "gridcolor": "white",
            "linecolor": "white",
            "ticks": ""
           }
          },
          "title": {
           "x": 0.05
          },
          "xaxis": {
           "automargin": true,
           "gridcolor": "white",
           "linecolor": "white",
           "ticks": "",
           "title": {
            "standoff": 15
           },
           "zerolinecolor": "white",
           "zerolinewidth": 2
          },
          "yaxis": {
           "automargin": true,
           "gridcolor": "white",
           "linecolor": "white",
           "ticks": "",
           "title": {
            "standoff": 15
           },
           "zerolinecolor": "white",
           "zerolinewidth": 2
          }
         }
        },
        "width": 700
       }
      }
     },
     "metadata": {},
     "output_type": "display_data"
    },
    {
     "data": {
      "application/vnd.plotly.v1+json": {
       "config": {
        "plotlyServerURL": "https://plot.ly"
       },
       "data": [
        {
         "line": {
          "color": "#E1706E",
          "width": 14
         },
         "mode": "lines",
         "name": "Link1",
         "type": "scatter3d",
         "x": {
          "bdata": "AAAAAAAAAAAAAAAAAAAAAA==",
          "dtype": "f8"
         },
         "y": {
          "bdata": "AAAAAAAAAAAAAAAAAAAAAA==",
          "dtype": "f8"
         },
         "z": {
          "bdata": "AAAAAAAAAAAAGM+goX/lPw==",
          "dtype": "f8"
         }
        },
        {
         "line": {
          "color": "#E1706E",
          "width": 14
         },
         "mode": "lines",
         "name": "Link2",
         "type": "scatter3d",
         "x": {
          "bdata": "AAAAAAAAAAAiDdpQv3t+PA==",
          "dtype": "f8"
         },
         "y": {
          "bdata": "AAAAAAAAAAAiDdpQv3t+PA==",
          "dtype": "f8"
         },
         "z": {
          "bdata": "ABjPoKF/5T/UJk7ud6jxPw==",
          "dtype": "f8"
         }
        },
        {
         "line": {
          "color": "#E1706E",
          "width": 14
         },
         "mode": "lines",
         "name": "Link3",
         "type": "scatter3d",
         "x": {
          "bdata": "Ig3aUL97fjxMaW/whcmUPw==",
          "dtype": "f8"
         },
         "y": {
          "bdata": "Ig3aUL97fjz25GGh1jTDvw==",
          "dtype": "f8"
         },
         "z": {
          "bdata": "1CZO7neo8T/UJk7ud6jxPw==",
          "dtype": "f8"
         }
        },
        {
         "line": {
          "color": "#E1706E",
          "width": 14
         },
         "mode": "lines",
         "name": "Link4",
         "type": "scatter3d",
         "x": {
          "bdata": "TGlv8IXJlD9MaW/whcmUPw==",
          "dtype": "f8"
         },
         "y": {
          "bdata": "9uRhodY0w7/25GGh1jTDvw==",
          "dtype": "f8"
         },
         "z": {
          "bdata": "1CZO7neo8T+owTQMH5H4Pw==",
          "dtype": "f8"
         }
        },
        {
         "line": {
          "color": "#E1706E",
          "width": 14
         },
         "mode": "lines",
         "name": "Link5",
         "type": "scatter3d",
         "x": {
          "bdata": "TGlv8IXJlD9MaW/whcmUPw==",
          "dtype": "f8"
         },
         "y": {
          "bdata": "9uRhodY0w7/25GGh1jTDvw==",
          "dtype": "f8"
         },
         "z": {
          "bdata": "qME0DB+R+D+owTQMH5H4Pw==",
          "dtype": "f8"
         }
        },
        {
         "line": {
          "color": "#E1706E",
          "width": 14
         },
         "mode": "lines",
         "name": "Link6",
         "type": "scatter3d",
         "x": {
          "bdata": "TGlv8IXJlD9MaW/whcmUPw==",
          "dtype": "f8"
         },
         "y": {
          "bdata": "9uRhodY0w7/25GGh1jTDvw==",
          "dtype": "f8"
         },
         "z": {
          "bdata": "qME0DB+R+D+owTQMH5H4Pw==",
          "dtype": "f8"
         }
        },
        {
         "line": {
          "color": "#F84752",
          "width": 5
         },
         "mode": "lines",
         "name": "X0 Axis",
         "type": "scatter3d",
         "x": [
          0,
          0.15
         ],
         "y": [
          0,
          0
         ],
         "z": [
          0,
          0
         ]
        },
        {
         "cmax": 1,
         "cmin": 0,
         "colorscale": [
          [
           0,
           "#F84752"
          ],
          [
           1,
           "#F84752"
          ]
         ],
         "showscale": false,
         "sizemode": "absolute",
         "sizeref": 0.015,
         "type": "cone",
         "u": [
          1
         ],
         "v": [
          0
         ],
         "w": [
          0
         ],
         "x": [
          0.15
         ],
         "y": [
          0
         ],
         "z": [
          0
         ]
        },
        {
         "line": {
          "color": "#BBDA55",
          "width": 5
         },
         "mode": "lines",
         "name": "Y0 Axis",
         "type": "scatter3d",
         "x": [
          0,
          0
         ],
         "y": [
          0,
          0.15
         ],
         "z": [
          0,
          0
         ]
        },
        {
         "cmax": 1,
         "cmin": 0,
         "colorscale": [
          [
           0,
           "#BBDA55"
          ],
          [
           1,
           "#BBDA55"
          ]
         ],
         "showscale": false,
         "sizemode": "absolute",
         "sizeref": 0.015,
         "type": "cone",
         "u": [
          0
         ],
         "v": [
          1
         ],
         "w": [
          0
         ],
         "x": [
          0
         ],
         "y": [
          0.15
         ],
         "z": [
          0
         ]
        },
        {
         "line": {
          "color": "#8EC1E1",
          "width": 5
         },
         "mode": "lines",
         "name": "Z0 Axis",
         "type": "scatter3d",
         "x": [
          0,
          0
         ],
         "y": [
          0,
          0
         ],
         "z": [
          0,
          0.15
         ]
        },
        {
         "cmax": 1,
         "cmin": 0,
         "colorscale": [
          [
           0,
           "#8EC1E1"
          ],
          [
           1,
           "#8EC1E1"
          ]
         ],
         "showscale": false,
         "sizemode": "absolute",
         "sizeref": 0.015,
         "type": "cone",
         "u": [
          0
         ],
         "v": [
          0
         ],
         "w": [
          1
         ],
         "x": [
          0
         ],
         "y": [
          0
         ],
         "z": [
          0.15
         ]
        },
        {
         "line": {
          "color": "#F84752",
          "width": 5
         },
         "mode": "lines",
         "name": "X1 Axis",
         "type": "scatter3d",
         "x": [
          0,
          0.15
         ],
         "y": [
          0,
          0
         ],
         "z": [
          0.6718299999999999,
          0.6718299999999999
         ]
        },
        {
         "cmax": 1,
         "cmin": 0,
         "colorscale": [
          [
           0,
           "#F84752"
          ],
          [
           1,
           "#F84752"
          ]
         ],
         "showscale": false,
         "sizemode": "absolute",
         "sizeref": 0.015,
         "type": "cone",
         "u": [
          1
         ],
         "v": [
          0
         ],
         "w": [
          0
         ],
         "x": [
          0.15
         ],
         "y": [
          0
         ],
         "z": [
          0.6718299999999999
         ]
        },
        {
         "line": {
          "color": "#BBDA55",
          "width": 5
         },
         "mode": "lines",
         "name": "Y1 Axis",
         "type": "scatter3d",
         "x": [
          0,
          0
         ],
         "y": [
          0,
          9.184850993605149e-18
         ],
         "z": [
          0.6718299999999999,
          0.82183
         ]
        },
        {
         "cmax": 1,
         "cmin": 0,
         "colorscale": [
          [
           0,
           "#BBDA55"
          ],
          [
           1,
           "#BBDA55"
          ]
         ],
         "showscale": false,
         "sizemode": "absolute",
         "sizeref": 0.015,
         "type": "cone",
         "u": [
          0
         ],
         "v": [
          6.123233995736766e-17
         ],
         "w": [
          1
         ],
         "x": [
          0
         ],
         "y": [
          9.184850993605149e-18
         ],
         "z": [
          0.82183
         ]
        },
        {
         "line": {
          "color": "#8EC1E1",
          "width": 5
         },
         "mode": "lines",
         "name": "Z1 Axis",
         "type": "scatter3d",
         "x": [
          0,
          0
         ],
         "y": [
          0,
          -0.15
         ],
         "z": [
          0.6718299999999999,
          0.6718299999999999
         ]
        },
        {
         "cmax": 1,
         "cmin": 0,
         "colorscale": [
          [
           0,
           "#8EC1E1"
          ],
          [
           1,
           "#8EC1E1"
          ]
         ],
         "showscale": false,
         "sizemode": "absolute",
         "sizeref": 0.015,
         "type": "cone",
         "u": [
          0
         ],
         "v": [
          -1
         ],
         "w": [
          6.123233995736766e-17
         ],
         "x": [
          0
         ],
         "y": [
          -0.15
         ],
         "z": [
          0.6718299999999999
         ]
        },
        {
         "line": {
          "color": "#F84752",
          "width": 5
         },
         "mode": "lines",
         "name": "X2 Axis",
         "type": "scatter3d",
         "x": [
          2.6440124393591356e-17,
          3.5624975387196504e-17
         ],
         "y": [
          2.6440124393591356e-17,
          3.5624975387196504e-17
         ],
         "z": [
          1.1036299999999999,
          1.2536299999999998
         ]
        },
        {
         "cmax": 1,
         "cmin": 0,
         "colorscale": [
          [
           0,
           "#F84752"
          ],
          [
           1,
           "#F84752"
          ]
         ],
         "showscale": false,
         "sizemode": "absolute",
         "sizeref": 0.015,
         "type": "cone",
         "u": [
          6.123233995736766e-17
         ],
         "v": [
          6.123233995736766e-17
         ],
         "w": [
          1
         ],
         "x": [
          3.5624975387196504e-17
         ],
         "y": [
          3.5624975387196504e-17
         ],
         "z": [
          1.2536299999999998
         ]
        },
        {
         "line": {
          "color": "#BBDA55",
          "width": 5
         },
         "mode": "lines",
         "name": "Y2 Axis",
         "type": "scatter3d",
         "x": [
          2.6440124393591356e-17,
          -0.14999999999999997
         ],
         "y": [
          2.6440124393591356e-17,
          2.6440124393591356e-17
         ],
         "z": [
          1.1036299999999999,
          1.1036299999999999
         ]
        },
        {
         "cmax": 1,
         "cmin": 0,
         "colorscale": [
          [
           0,
           "#BBDA55"
          ],
          [
           1,
           "#BBDA55"
          ]
         ],
         "showscale": false,
         "sizemode": "absolute",
         "sizeref": 0.015,
         "type": "cone",
         "u": [
          -1
         ],
         "v": [
          3.749399456654644e-33
         ],
         "w": [
          6.123233995736766e-17
         ],
         "x": [
          -0.14999999999999997
         ],
         "y": [
          2.6440124393591356e-17
         ],
         "z": [
          1.1036299999999999
         ]
        },
        {
         "line": {
          "color": "#8EC1E1",
          "width": 5
         },
         "mode": "lines",
         "name": "Z2 Axis",
         "type": "scatter3d",
         "x": [
          2.6440124393591356e-17,
          2.6440124393591356e-17
         ],
         "y": [
          2.6440124393591356e-17,
          -0.14999999999999997
         ],
         "z": [
          1.1036299999999999,
          1.1036299999999999
         ]
        },
        {
         "cmax": 1,
         "cmin": 0,
         "colorscale": [
          [
           0,
           "#8EC1E1"
          ],
          [
           1,
           "#8EC1E1"
          ]
         ],
         "showscale": false,
         "sizemode": "absolute",
         "sizeref": 0.015,
         "type": "cone",
         "u": [
          0
         ],
         "v": [
          -1
         ],
         "w": [
          6.123233995736766e-17
         ],
         "x": [
          2.6440124393591356e-17
         ],
         "y": [
          -0.14999999999999997
         ],
         "z": [
          1.1036299999999999
         ]
        },
        {
         "line": {
          "color": "#F84752",
          "width": 5
         },
         "mode": "lines",
         "name": "X3 Axis",
         "type": "scatter3d",
         "x": [
          0.020300000000000026,
          0.1703
         ],
         "y": [
          -0.15004999999999996,
          -0.15004999999999996
         ],
         "z": [
          1.1036299999999999,
          1.1036299999999999
         ]
        },
        {
         "cmax": 1,
         "cmin": 0,
         "colorscale": [
          [
           0,
           "#F84752"
          ],
          [
           1,
           "#F84752"
          ]
         ],
         "showscale": false,
         "sizemode": "absolute",
         "sizeref": 0.015,
         "type": "cone",
         "u": [
          1
         ],
         "v": [
          0
         ],
         "w": [
          0
         ],
         "x": [
          0.1703
         ],
         "y": [
          -0.15004999999999996
         ],
         "z": [
          1.1036299999999999
         ]
        },
        {
         "line": {
          "color": "#BBDA55",
          "width": 5
         },
         "mode": "lines",
         "name": "Y3 Axis",
         "type": "scatter3d",
         "x": [
          0.020300000000000026,
          0.020300000000000026
         ],
         "y": [
          -0.15004999999999996,
          -0.00004999999999996674
         ],
         "z": [
          1.1036299999999999,
          1.1036299999999999
         ]
        },
        {
         "cmax": 1,
         "cmin": 0,
         "colorscale": [
          [
           0,
           "#BBDA55"
          ],
          [
           1,
           "#BBDA55"
          ]
         ],
         "showscale": false,
         "sizemode": "absolute",
         "sizeref": 0.015,
         "type": "cone",
         "u": [
          0
         ],
         "v": [
          1
         ],
         "w": [
          0
         ],
         "x": [
          0.020300000000000026
         ],
         "y": [
          -0.00004999999999996674
         ],
         "z": [
          1.1036299999999999
         ]
        },
        {
         "line": {
          "color": "#8EC1E1",
          "width": 5
         },
         "mode": "lines",
         "name": "Z3 Axis",
         "type": "scatter3d",
         "x": [
          0.020300000000000026,
          0.020300000000000026
         ],
         "y": [
          -0.15004999999999996,
          -0.15004999999999996
         ],
         "z": [
          1.1036299999999999,
          1.2536299999999998
         ]
        },
        {
         "cmax": 1,
         "cmin": 0,
         "colorscale": [
          [
           0,
           "#8EC1E1"
          ],
          [
           1,
           "#8EC1E1"
          ]
         ],
         "showscale": false,
         "sizemode": "absolute",
         "sizeref": 0.015,
         "type": "cone",
         "u": [
          0
         ],
         "v": [
          0
         ],
         "w": [
          1
         ],
         "x": [
          0.020300000000000026
         ],
         "y": [
          -0.15004999999999996
         ],
         "z": [
          1.2536299999999998
         ]
        },
        {
         "line": {
          "color": "#F84752",
          "width": 5
         },
         "mode": "lines",
         "name": "X4 Axis",
         "type": "scatter3d",
         "x": [
          0.020300000000000026,
          0.1703
         ],
         "y": [
          -0.15004999999999996,
          -0.15004999999999996
         ],
         "z": [
          1.5354299999999999,
          1.5354299999999999
         ]
        },
        {
         "cmax": 1,
         "cmin": 0,
         "colorscale": [
          [
           0,
           "#F84752"
          ],
          [
           1,
           "#F84752"
          ]
         ],
         "showscale": false,
         "sizemode": "absolute",
         "sizeref": 0.015,
         "type": "cone",
         "u": [
          1
         ],
         "v": [
          0
         ],
         "w": [
          0
         ],
         "x": [
          0.1703
         ],
         "y": [
          -0.15004999999999996
         ],
         "z": [
          1.5354299999999999
         ]
        },
        {
         "line": {
          "color": "#BBDA55",
          "width": 5
         },
         "mode": "lines",
         "name": "Y4 Axis",
         "type": "scatter3d",
         "x": [
          0.020300000000000026,
          0.020300000000000026
         ],
         "y": [
          -0.15004999999999996,
          -0.15004999999999996
         ],
         "z": [
          1.5354299999999999,
          1.6854299999999998
         ]
        },
        {
         "cmax": 1,
         "cmin": 0,
         "colorscale": [
          [
           0,
           "#BBDA55"
          ],
          [
           1,
           "#BBDA55"
          ]
         ],
         "showscale": false,
         "sizemode": "absolute",
         "sizeref": 0.015,
         "type": "cone",
         "u": [
          0
         ],
         "v": [
          6.123233995736766e-17
         ],
         "w": [
          1
         ],
         "x": [
          0.020300000000000026
         ],
         "y": [
          -0.15004999999999996
         ],
         "z": [
          1.6854299999999998
         ]
        },
        {
         "line": {
          "color": "#8EC1E1",
          "width": 5
         },
         "mode": "lines",
         "name": "Z4 Axis",
         "type": "scatter3d",
         "x": [
          0.020300000000000026,
          0.020300000000000026
         ],
         "y": [
          -0.15004999999999996,
          -0.30004999999999993
         ],
         "z": [
          1.5354299999999999,
          1.5354299999999999
         ]
        },
        {
         "cmax": 1,
         "cmin": 0,
         "colorscale": [
          [
           0,
           "#8EC1E1"
          ],
          [
           1,
           "#8EC1E1"
          ]
         ],
         "showscale": false,
         "sizemode": "absolute",
         "sizeref": 0.015,
         "type": "cone",
         "u": [
          0
         ],
         "v": [
          -1
         ],
         "w": [
          6.123233995736766e-17
         ],
         "x": [
          0.020300000000000026
         ],
         "y": [
          -0.30004999999999993
         ],
         "z": [
          1.5354299999999999
         ]
        },
        {
         "line": {
          "color": "#F84752",
          "width": 5
         },
         "mode": "lines",
         "name": "X5 Axis",
         "type": "scatter3d",
         "x": [
          0.020300000000000026,
          0.1703
         ],
         "y": [
          -0.15004999999999996,
          -0.15004999999999996
         ],
         "z": [
          1.5354299999999999,
          1.5354299999999999
         ]
        },
        {
         "cmax": 1,
         "cmin": 0,
         "colorscale": [
          [
           0,
           "#F84752"
          ],
          [
           1,
           "#F84752"
          ]
         ],
         "showscale": false,
         "sizemode": "absolute",
         "sizeref": 0.015,
         "type": "cone",
         "u": [
          1
         ],
         "v": [
          0
         ],
         "w": [
          0
         ],
         "x": [
          0.1703
         ],
         "y": [
          -0.15004999999999996
         ],
         "z": [
          1.5354299999999999
         ]
        },
        {
         "line": {
          "color": "#BBDA55",
          "width": 5
         },
         "mode": "lines",
         "name": "Y5 Axis",
         "type": "scatter3d",
         "x": [
          0.020300000000000026,
          0.020300000000000026
         ],
         "y": [
          -0.15004999999999996,
          -0.00004999999999996674
         ],
         "z": [
          1.5354299999999999,
          1.5354299999999999
         ]
        },
        {
         "cmax": 1,
         "cmin": 0,
         "colorscale": [
          [
           0,
           "#BBDA55"
          ],
          [
           1,
           "#BBDA55"
          ]
         ],
         "showscale": false,
         "sizemode": "absolute",
         "sizeref": 0.015,
         "type": "cone",
         "u": [
          0
         ],
         "v": [
          1
         ],
         "w": [
          0
         ],
         "x": [
          0.020300000000000026
         ],
         "y": [
          -0.00004999999999996674
         ],
         "z": [
          1.5354299999999999
         ]
        },
        {
         "line": {
          "color": "#8EC1E1",
          "width": 5
         },
         "mode": "lines",
         "name": "Z5 Axis",
         "type": "scatter3d",
         "x": [
          0.020300000000000026,
          0.020300000000000026
         ],
         "y": [
          -0.15004999999999996,
          -0.15004999999999996
         ],
         "z": [
          1.5354299999999999,
          1.6854299999999998
         ]
        },
        {
         "cmax": 1,
         "cmin": 0,
         "colorscale": [
          [
           0,
           "#8EC1E1"
          ],
          [
           1,
           "#8EC1E1"
          ]
         ],
         "showscale": false,
         "sizemode": "absolute",
         "sizeref": 0.015,
         "type": "cone",
         "u": [
          0
         ],
         "v": [
          0
         ],
         "w": [
          1
         ],
         "x": [
          0.020300000000000026
         ],
         "y": [
          -0.15004999999999996
         ],
         "z": [
          1.6854299999999998
         ]
        },
        {
         "line": {
          "color": "#F84752",
          "width": 5
         },
         "mode": "lines",
         "name": "X6 Axis",
         "type": "scatter3d",
         "x": [
          0.020300000000000026,
          0.09530000000000002
         ],
         "y": [
          -0.15004999999999996,
          -0.15004999999999996
         ],
         "z": [
          1.5354299999999999,
          1.5354299999999999
         ]
        },
        {
         "cmax": 1,
         "cmin": 0,
         "colorscale": [
          [
           0,
           "#F84752"
          ],
          [
           1,
           "#F84752"
          ]
         ],
         "showscale": false,
         "sizemode": "absolute",
         "sizeref": 0.0075,
         "type": "cone",
         "u": [
          1
         ],
         "v": [
          0
         ],
         "w": [
          0
         ],
         "x": [
          0.09530000000000002
         ],
         "y": [
          -0.15004999999999996
         ],
         "z": [
          1.5354299999999999
         ]
        },
        {
         "line": {
          "color": "#BBDA55",
          "width": 5
         },
         "mode": "lines",
         "name": "Y6 Axis",
         "type": "scatter3d",
         "x": [
          0.020300000000000026,
          0.020300000000000026
         ],
         "y": [
          -0.15004999999999996,
          -0.07504999999999996
         ],
         "z": [
          1.5354299999999999,
          1.5354299999999999
         ]
        },
        {
         "cmax": 1,
         "cmin": 0,
         "colorscale": [
          [
           0,
           "#BBDA55"
          ],
          [
           1,
           "#BBDA55"
          ]
         ],
         "showscale": false,
         "sizemode": "absolute",
         "sizeref": 0.0075,
         "type": "cone",
         "u": [
          0
         ],
         "v": [
          1
         ],
         "w": [
          0
         ],
         "x": [
          0.020300000000000026
         ],
         "y": [
          -0.07504999999999996
         ],
         "z": [
          1.5354299999999999
         ]
        },
        {
         "line": {
          "color": "#8EC1E1",
          "width": 5
         },
         "mode": "lines",
         "name": "Z6 Axis",
         "type": "scatter3d",
         "x": [
          0.020300000000000026,
          0.020300000000000026
         ],
         "y": [
          -0.15004999999999996,
          -0.15004999999999996
         ],
         "z": [
          1.5354299999999999,
          1.6104299999999998
         ]
        },
        {
         "cmax": 1,
         "cmin": 0,
         "colorscale": [
          [
           0,
           "#8EC1E1"
          ],
          [
           1,
           "#8EC1E1"
          ]
         ],
         "showscale": false,
         "sizemode": "absolute",
         "sizeref": 0.0075,
         "type": "cone",
         "u": [
          0
         ],
         "v": [
          0
         ],
         "w": [
          1
         ],
         "x": [
          0.020300000000000026
         ],
         "y": [
          -0.15004999999999996
         ],
         "z": [
          1.6104299999999998
         ]
        }
       ],
       "layout": {
        "height": 600,
        "scene": {
         "aspectmode": "cube",
         "camera": {
          "center": {
           "x": 0,
           "y": 0,
           "z": 0
          },
          "eye": {
           "x": 2.314316929279566,
           "y": -2.314316929279566,
           "z": 2.314316929279566
          },
          "up": {
           "x": 0,
           "y": 0,
           "z": 1
          }
         },
         "xaxis": {
          "nticks": 10,
          "range": [
           -1.6971657481383484,
           1.6971657481383484
          ],
          "title": {
           "text": "X"
          }
         },
         "yaxis": {
          "nticks": 10,
          "range": [
           -1.6971657481383484,
           1.6971657481383484
          ],
          "title": {
           "text": "Y"
          }
         },
         "zaxis": {
          "nticks": 10,
          "range": [
           -1.6971657481383484,
           1.6971657481383484
          ],
          "title": {
           "text": "Z"
          }
         }
        },
        "template": {
         "data": {
          "bar": [
           {
            "error_x": {
             "color": "#2a3f5f"
            },
            "error_y": {
             "color": "#2a3f5f"
            },
            "marker": {
             "line": {
              "color": "#E5ECF6",
              "width": 0.5
             },
             "pattern": {
              "fillmode": "overlay",
              "size": 10,
              "solidity": 0.2
             }
            },
            "type": "bar"
           }
          ],
          "barpolar": [
           {
            "marker": {
             "line": {
              "color": "#E5ECF6",
              "width": 0.5
             },
             "pattern": {
              "fillmode": "overlay",
              "size": 10,
              "solidity": 0.2
             }
            },
            "type": "barpolar"
           }
          ],
          "carpet": [
           {
            "aaxis": {
             "endlinecolor": "#2a3f5f",
             "gridcolor": "white",
             "linecolor": "white",
             "minorgridcolor": "white",
             "startlinecolor": "#2a3f5f"
            },
            "baxis": {
             "endlinecolor": "#2a3f5f",
             "gridcolor": "white",
             "linecolor": "white",
             "minorgridcolor": "white",
             "startlinecolor": "#2a3f5f"
            },
            "type": "carpet"
           }
          ],
          "choropleth": [
           {
            "colorbar": {
             "outlinewidth": 0,
             "ticks": ""
            },
            "type": "choropleth"
           }
          ],
          "contour": [
           {
            "colorbar": {
             "outlinewidth": 0,
             "ticks": ""
            },
            "colorscale": [
             [
              0,
              "#0d0887"
             ],
             [
              0.1111111111111111,
              "#46039f"
             ],
             [
              0.2222222222222222,
              "#7201a8"
             ],
             [
              0.3333333333333333,
              "#9c179e"
             ],
             [
              0.4444444444444444,
              "#bd3786"
             ],
             [
              0.5555555555555556,
              "#d8576b"
             ],
             [
              0.6666666666666666,
              "#ed7953"
             ],
             [
              0.7777777777777778,
              "#fb9f3a"
             ],
             [
              0.8888888888888888,
              "#fdca26"
             ],
             [
              1,
              "#f0f921"
             ]
            ],
            "type": "contour"
           }
          ],
          "contourcarpet": [
           {
            "colorbar": {
             "outlinewidth": 0,
             "ticks": ""
            },
            "type": "contourcarpet"
           }
          ],
          "heatmap": [
           {
            "colorbar": {
             "outlinewidth": 0,
             "ticks": ""
            },
            "colorscale": [
             [
              0,
              "#0d0887"
             ],
             [
              0.1111111111111111,
              "#46039f"
             ],
             [
              0.2222222222222222,
              "#7201a8"
             ],
             [
              0.3333333333333333,
              "#9c179e"
             ],
             [
              0.4444444444444444,
              "#bd3786"
             ],
             [
              0.5555555555555556,
              "#d8576b"
             ],
             [
              0.6666666666666666,
              "#ed7953"
             ],
             [
              0.7777777777777778,
              "#fb9f3a"
             ],
             [
              0.8888888888888888,
              "#fdca26"
             ],
             [
              1,
              "#f0f921"
             ]
            ],
            "type": "heatmap"
           }
          ],
          "histogram": [
           {
            "marker": {
             "pattern": {
              "fillmode": "overlay",
              "size": 10,
              "solidity": 0.2
             }
            },
            "type": "histogram"
           }
          ],
          "histogram2d": [
           {
            "colorbar": {
             "outlinewidth": 0,
             "ticks": ""
            },
            "colorscale": [
             [
              0,
              "#0d0887"
             ],
             [
              0.1111111111111111,
              "#46039f"
             ],
             [
              0.2222222222222222,
              "#7201a8"
             ],
             [
              0.3333333333333333,
              "#9c179e"
             ],
             [
              0.4444444444444444,
              "#bd3786"
             ],
             [
              0.5555555555555556,
              "#d8576b"
             ],
             [
              0.6666666666666666,
              "#ed7953"
             ],
             [
              0.7777777777777778,
              "#fb9f3a"
             ],
             [
              0.8888888888888888,
              "#fdca26"
             ],
             [
              1,
              "#f0f921"
             ]
            ],
            "type": "histogram2d"
           }
          ],
          "histogram2dcontour": [
           {
            "colorbar": {
             "outlinewidth": 0,
             "ticks": ""
            },
            "colorscale": [
             [
              0,
              "#0d0887"
             ],
             [
              0.1111111111111111,
              "#46039f"
             ],
             [
              0.2222222222222222,
              "#7201a8"
             ],
             [
              0.3333333333333333,
              "#9c179e"
             ],
             [
              0.4444444444444444,
              "#bd3786"
             ],
             [
              0.5555555555555556,
              "#d8576b"
             ],
             [
              0.6666666666666666,
              "#ed7953"
             ],
             [
              0.7777777777777778,
              "#fb9f3a"
             ],
             [
              0.8888888888888888,
              "#fdca26"
             ],
             [
              1,
              "#f0f921"
             ]
            ],
            "type": "histogram2dcontour"
           }
          ],
          "mesh3d": [
           {
            "colorbar": {
             "outlinewidth": 0,
             "ticks": ""
            },
            "type": "mesh3d"
           }
          ],
          "parcoords": [
           {
            "line": {
             "colorbar": {
              "outlinewidth": 0,
              "ticks": ""
             }
            },
            "type": "parcoords"
           }
          ],
          "pie": [
           {
            "automargin": true,
            "type": "pie"
           }
          ],
          "scatter": [
           {
            "fillpattern": {
             "fillmode": "overlay",
             "size": 10,
             "solidity": 0.2
            },
            "type": "scatter"
           }
          ],
          "scatter3d": [
           {
            "line": {
             "colorbar": {
              "outlinewidth": 0,
              "ticks": ""
             }
            },
            "marker": {
             "colorbar": {
              "outlinewidth": 0,
              "ticks": ""
             }
            },
            "type": "scatter3d"
           }
          ],
          "scattercarpet": [
           {
            "marker": {
             "colorbar": {
              "outlinewidth": 0,
              "ticks": ""
             }
            },
            "type": "scattercarpet"
           }
          ],
          "scattergeo": [
           {
            "marker": {
             "colorbar": {
              "outlinewidth": 0,
              "ticks": ""
             }
            },
            "type": "scattergeo"
           }
          ],
          "scattergl": [
           {
            "marker": {
             "colorbar": {
              "outlinewidth": 0,
              "ticks": ""
             }
            },
            "type": "scattergl"
           }
          ],
          "scattermap": [
           {
            "marker": {
             "colorbar": {
              "outlinewidth": 0,
              "ticks": ""
             }
            },
            "type": "scattermap"
           }
          ],
          "scattermapbox": [
           {
            "marker": {
             "colorbar": {
              "outlinewidth": 0,
              "ticks": ""
             }
            },
            "type": "scattermapbox"
           }
          ],
          "scatterpolar": [
           {
            "marker": {
             "colorbar": {
              "outlinewidth": 0,
              "ticks": ""
             }
            },
            "type": "scatterpolar"
           }
          ],
          "scatterpolargl": [
           {
            "marker": {
             "colorbar": {
              "outlinewidth": 0,
              "ticks": ""
             }
            },
            "type": "scatterpolargl"
           }
          ],
          "scatterternary": [
           {
            "marker": {
             "colorbar": {
              "outlinewidth": 0,
              "ticks": ""
             }
            },
            "type": "scatterternary"
           }
          ],
          "surface": [
           {
            "colorbar": {
             "outlinewidth": 0,
             "ticks": ""
            },
            "colorscale": [
             [
              0,
              "#0d0887"
             ],
             [
              0.1111111111111111,
              "#46039f"
             ],
             [
              0.2222222222222222,
              "#7201a8"
             ],
             [
              0.3333333333333333,
              "#9c179e"
             ],
             [
              0.4444444444444444,
              "#bd3786"
             ],
             [
              0.5555555555555556,
              "#d8576b"
             ],
             [
              0.6666666666666666,
              "#ed7953"
             ],
             [
              0.7777777777777778,
              "#fb9f3a"
             ],
             [
              0.8888888888888888,
              "#fdca26"
             ],
             [
              1,
              "#f0f921"
             ]
            ],
            "type": "surface"
           }
          ],
          "table": [
           {
            "cells": {
             "fill": {
              "color": "#EBF0F8"
             },
             "line": {
              "color": "white"
             }
            },
            "header": {
             "fill": {
              "color": "#C8D4E3"
             },
             "line": {
              "color": "white"
             }
            },
            "type": "table"
           }
          ]
         },
         "layout": {
          "annotationdefaults": {
           "arrowcolor": "#2a3f5f",
           "arrowhead": 0,
           "arrowwidth": 1
          },
          "autotypenumbers": "strict",
          "coloraxis": {
           "colorbar": {
            "outlinewidth": 0,
            "ticks": ""
           }
          },
          "colorscale": {
           "diverging": [
            [
             0,
             "#8e0152"
            ],
            [
             0.1,
             "#c51b7d"
            ],
            [
             0.2,
             "#de77ae"
            ],
            [
             0.3,
             "#f1b6da"
            ],
            [
             0.4,
             "#fde0ef"
            ],
            [
             0.5,
             "#f7f7f7"
            ],
            [
             0.6,
             "#e6f5d0"
            ],
            [
             0.7,
             "#b8e186"
            ],
            [
             0.8,
             "#7fbc41"
            ],
            [
             0.9,
             "#4d9221"
            ],
            [
             1,
             "#276419"
            ]
           ],
           "sequential": [
            [
             0,
             "#0d0887"
            ],
            [
             0.1111111111111111,
             "#46039f"
            ],
            [
             0.2222222222222222,
             "#7201a8"
            ],
            [
             0.3333333333333333,
             "#9c179e"
            ],
            [
             0.4444444444444444,
             "#bd3786"
            ],
            [
             0.5555555555555556,
             "#d8576b"
            ],
            [
             0.6666666666666666,
             "#ed7953"
            ],
            [
             0.7777777777777778,
             "#fb9f3a"
            ],
            [
             0.8888888888888888,
             "#fdca26"
            ],
            [
             1,
             "#f0f921"
            ]
           ],
           "sequentialminus": [
            [
             0,
             "#0d0887"
            ],
            [
             0.1111111111111111,
             "#46039f"
            ],
            [
             0.2222222222222222,
             "#7201a8"
            ],
            [
             0.3333333333333333,
             "#9c179e"
            ],
            [
             0.4444444444444444,
             "#bd3786"
            ],
            [
             0.5555555555555556,
             "#d8576b"
            ],
            [
             0.6666666666666666,
             "#ed7953"
            ],
            [
             0.7777777777777778,
             "#fb9f3a"
            ],
            [
             0.8888888888888888,
             "#fdca26"
            ],
            [
             1,
             "#f0f921"
            ]
           ]
          },
          "colorway": [
           "#636efa",
           "#EF553B",
           "#00cc96",
           "#ab63fa",
           "#FFA15A",
           "#19d3f3",
           "#FF6692",
           "#B6E880",
           "#FF97FF",
           "#FECB52"
          ],
          "font": {
           "color": "#2a3f5f"
          },
          "geo": {
           "bgcolor": "white",
           "lakecolor": "white",
           "landcolor": "#E5ECF6",
           "showlakes": true,
           "showland": true,
           "subunitcolor": "white"
          },
          "hoverlabel": {
           "align": "left"
          },
          "hovermode": "closest",
          "mapbox": {
           "style": "light"
          },
          "paper_bgcolor": "white",
          "plot_bgcolor": "#E5ECF6",
          "polar": {
           "angularaxis": {
            "gridcolor": "white",
            "linecolor": "white",
            "ticks": ""
           },
           "bgcolor": "#E5ECF6",
           "radialaxis": {
            "gridcolor": "white",
            "linecolor": "white",
            "ticks": ""
           }
          },
          "scene": {
           "xaxis": {
            "backgroundcolor": "#E5ECF6",
            "gridcolor": "white",
            "gridwidth": 2,
            "linecolor": "white",
            "showbackground": true,
            "ticks": "",
            "zerolinecolor": "white"
           },
           "yaxis": {
            "backgroundcolor": "#E5ECF6",
            "gridcolor": "white",
            "gridwidth": 2,
            "linecolor": "white",
            "showbackground": true,
            "ticks": "",
            "zerolinecolor": "white"
           },
           "zaxis": {
            "backgroundcolor": "#E5ECF6",
            "gridcolor": "white",
            "gridwidth": 2,
            "linecolor": "white",
            "showbackground": true,
            "ticks": "",
            "zerolinecolor": "white"
           }
          },
          "shapedefaults": {
           "line": {
            "color": "#2a3f5f"
           }
          },
          "ternary": {
           "aaxis": {
            "gridcolor": "white",
            "linecolor": "white",
            "ticks": ""
           },
           "baxis": {
            "gridcolor": "white",
            "linecolor": "white",
            "ticks": ""
           },
           "bgcolor": "#E5ECF6",
           "caxis": {
            "gridcolor": "white",
            "linecolor": "white",
            "ticks": ""
           }
          },
          "title": {
           "x": 0.05
          },
          "xaxis": {
           "automargin": true,
           "gridcolor": "white",
           "linecolor": "white",
           "ticks": "",
           "title": {
            "standoff": 15
           },
           "zerolinecolor": "white",
           "zerolinewidth": 2
          },
          "yaxis": {
           "automargin": true,
           "gridcolor": "white",
           "linecolor": "white",
           "ticks": "",
           "title": {
            "standoff": 15
           },
           "zerolinecolor": "white",
           "zerolinewidth": 2
          }
         }
        },
        "width": 700
       }
      }
     },
     "metadata": {},
     "output_type": "display_data"
    }
   ],
   "source": [
    "Puma560 = rsb.models.DH.Puma560()\n",
    "Puma560.plotly(Puma560.qr, fig=go.Figure())"
   ]
  },
  {
   "cell_type": "markdown",
   "id": "emfo",
   "metadata": {},
   "source": [
    "### Make a change\n",
    "\n",
    "Beginning with the default settings, we can easily adjust the robot's link length and actuator directions. These are important design parameters that we will explore further in the optimization chapter."
   ]
  },
  {
   "cell_type": "code",
   "execution_count": 10,
   "id": "Hstk",
   "metadata": {},
   "outputs": [
    {
     "data": {
      "application/vnd.plotly.v1+json": {
       "config": {
        "plotlyServerURL": "https://plot.ly"
       },
       "data": [
        {
         "line": {
          "color": "#E1706E",
          "width": 14
         },
         "mode": "lines",
         "name": "Link1",
         "type": "scatter3d",
         "x": {
          "bdata": "AAAAAAAAAAAAAAAAAAAAAA==",
          "dtype": "f8"
         },
         "y": {
          "bdata": "AAAAAAAAAAAAAAAAAAAAAA==",
          "dtype": "f8"
         },
         "z": {
          "bdata": "AAAAAAAAAAAAAAAAAADgPw==",
          "dtype": "f8"
         }
        },
        {
         "line": {
          "color": "#E1706E",
          "width": 14
         },
         "mode": "lines",
         "name": "Link2",
         "type": "scatter3d",
         "x": {
          "bdata": "AAAAAAAAAAAAAAAAAADgvw==",
          "dtype": "f8"
         },
         "y": {
          "bdata": "AAAAAAAAAAAAAAAAAAAAAA==",
          "dtype": "f8"
         },
         "z": {
          "bdata": "AAAAAAAA4D8AAAAAAADgPw==",
          "dtype": "f8"
         }
        },
        {
         "line": {
          "color": "#E1706E",
          "width": 14
         },
         "mode": "lines",
         "name": "Link3",
         "type": "scatter3d",
         "x": {
          "bdata": "AAAAAAAA4L8AAAAAAADwvw==",
          "dtype": "f8"
         },
         "y": {
          "bdata": "AAAAAAAAAAAAAAAAAAAAAA==",
          "dtype": "f8"
         },
         "z": {
          "bdata": "AAAAAAAA4D8AAAAAAADgPw==",
          "dtype": "f8"
         }
        },
        {
         "line": {
          "color": "#E1706E",
          "width": 14
         },
         "mode": "lines",
         "name": "Link4",
         "type": "scatter3d",
         "x": {
          "bdata": "AAAAAAAA8L8AAAAAAAD4vw==",
          "dtype": "f8"
         },
         "y": {
          "bdata": "AAAAAAAAAAAAAAAAAAAAAA==",
          "dtype": "f8"
         },
         "z": {
          "bdata": "AAAAAAAA4D8AAAAAAADgPw==",
          "dtype": "f8"
         }
        },
        {
         "line": {
          "color": "#F84752",
          "width": 5
         },
         "mode": "lines",
         "name": "X0 Axis",
         "type": "scatter3d",
         "x": [
          0,
          0.16
         ],
         "y": [
          0,
          0
         ],
         "z": [
          0,
          0
         ]
        },
        {
         "cmax": 1,
         "cmin": 0,
         "colorscale": [
          [
           0,
           "#F84752"
          ],
          [
           1,
           "#F84752"
          ]
         ],
         "showscale": false,
         "sizemode": "absolute",
         "sizeref": 0.016,
         "type": "cone",
         "u": [
          1
         ],
         "v": [
          0
         ],
         "w": [
          0
         ],
         "x": [
          0.16
         ],
         "y": [
          0
         ],
         "z": [
          0
         ]
        },
        {
         "line": {
          "color": "#BBDA55",
          "width": 5
         },
         "mode": "lines",
         "name": "Y0 Axis",
         "type": "scatter3d",
         "x": [
          0,
          0
         ],
         "y": [
          0,
          0.16
         ],
         "z": [
          0,
          0
         ]
        },
        {
         "cmax": 1,
         "cmin": 0,
         "colorscale": [
          [
           0,
           "#BBDA55"
          ],
          [
           1,
           "#BBDA55"
          ]
         ],
         "showscale": false,
         "sizemode": "absolute",
         "sizeref": 0.016,
         "type": "cone",
         "u": [
          0
         ],
         "v": [
          1
         ],
         "w": [
          0
         ],
         "x": [
          0
         ],
         "y": [
          0.16
         ],
         "z": [
          0
         ]
        },
        {
         "line": {
          "color": "#8EC1E1",
          "width": 5
         },
         "mode": "lines",
         "name": "Z0 Axis",
         "type": "scatter3d",
         "x": [
          0,
          0
         ],
         "y": [
          0,
          0
         ],
         "z": [
          0,
          0.16
         ]
        },
        {
         "cmax": 1,
         "cmin": 0,
         "colorscale": [
          [
           0,
           "#8EC1E1"
          ],
          [
           1,
           "#8EC1E1"
          ]
         ],
         "showscale": false,
         "sizemode": "absolute",
         "sizeref": 0.016,
         "type": "cone",
         "u": [
          0
         ],
         "v": [
          0
         ],
         "w": [
          1
         ],
         "x": [
          0
         ],
         "y": [
          0
         ],
         "z": [
          0.16
         ]
        },
        {
         "line": {
          "color": "#F84752",
          "width": 5
         },
         "mode": "lines",
         "name": "X1 Axis",
         "type": "scatter3d",
         "x": [
          0,
          0.16
         ],
         "y": [
          0,
          0
         ],
         "z": [
          0.5,
          0.5
         ]
        },
        {
         "cmax": 1,
         "cmin": 0,
         "colorscale": [
          [
           0,
           "#F84752"
          ],
          [
           1,
           "#F84752"
          ]
         ],
         "showscale": false,
         "sizemode": "absolute",
         "sizeref": 0.016,
         "type": "cone",
         "u": [
          1
         ],
         "v": [
          0
         ],
         "w": [
          0
         ],
         "x": [
          0.16
         ],
         "y": [
          0
         ],
         "z": [
          0.5
         ]
        },
        {
         "line": {
          "color": "#BBDA55",
          "width": 5
         },
         "mode": "lines",
         "name": "Y1 Axis",
         "type": "scatter3d",
         "x": [
          0,
          0
         ],
         "y": [
          0,
          0.16
         ],
         "z": [
          0.5,
          0.5
         ]
        },
        {
         "cmax": 1,
         "cmin": 0,
         "colorscale": [
          [
           0,
           "#BBDA55"
          ],
          [
           1,
           "#BBDA55"
          ]
         ],
         "showscale": false,
         "sizemode": "absolute",
         "sizeref": 0.016,
         "type": "cone",
         "u": [
          0
         ],
         "v": [
          1
         ],
         "w": [
          0
         ],
         "x": [
          0
         ],
         "y": [
          0.16
         ],
         "z": [
          0.5
         ]
        },
        {
         "line": {
          "color": "#8EC1E1",
          "width": 5
         },
         "mode": "lines",
         "name": "Z1 Axis",
         "type": "scatter3d",
         "x": [
          0,
          0
         ],
         "y": [
          0,
          0
         ],
         "z": [
          0.5,
          0.66
         ]
        },
        {
         "cmax": 1,
         "cmin": 0,
         "colorscale": [
          [
           0,
           "#8EC1E1"
          ],
          [
           1,
           "#8EC1E1"
          ]
         ],
         "showscale": false,
         "sizemode": "absolute",
         "sizeref": 0.016,
         "type": "cone",
         "u": [
          0
         ],
         "v": [
          0
         ],
         "w": [
          1
         ],
         "x": [
          0
         ],
         "y": [
          0
         ],
         "z": [
          0.66
         ]
        },
        {
         "line": {
          "color": "#F84752",
          "width": 5
         },
         "mode": "lines",
         "name": "X2 Axis",
         "type": "scatter3d",
         "x": [
          -0.5,
          -0.33999999999999997
         ],
         "y": [
          0,
          0
         ],
         "z": [
          0.5,
          0.5
         ]
        },
        {
         "cmax": 1,
         "cmin": 0,
         "colorscale": [
          [
           0,
           "#F84752"
          ],
          [
           1,
           "#F84752"
          ]
         ],
         "showscale": false,
         "sizemode": "absolute",
         "sizeref": 0.016,
         "type": "cone",
         "u": [
          1
         ],
         "v": [
          0
         ],
         "w": [
          0
         ],
         "x": [
          -0.33999999999999997
         ],
         "y": [
          0
         ],
         "z": [
          0.5
         ]
        },
        {
         "line": {
          "color": "#BBDA55",
          "width": 5
         },
         "mode": "lines",
         "name": "Y2 Axis",
         "type": "scatter3d",
         "x": [
          -0.5,
          -0.5
         ],
         "y": [
          0,
          9.797174393178826e-18
         ],
         "z": [
          0.5,
          0.66
         ]
        },
        {
         "cmax": 1,
         "cmin": 0,
         "colorscale": [
          [
           0,
           "#BBDA55"
          ],
          [
           1,
           "#BBDA55"
          ]
         ],
         "showscale": false,
         "sizemode": "absolute",
         "sizeref": 0.016,
         "type": "cone",
         "u": [
          0
         ],
         "v": [
          6.123233995736766e-17
         ],
         "w": [
          1
         ],
         "x": [
          -0.5
         ],
         "y": [
          9.797174393178826e-18
         ],
         "z": [
          0.66
         ]
        },
        {
         "line": {
          "color": "#8EC1E1",
          "width": 5
         },
         "mode": "lines",
         "name": "Z2 Axis",
         "type": "scatter3d",
         "x": [
          -0.5,
          -0.5
         ],
         "y": [
          0,
          -0.16
         ],
         "z": [
          0.5,
          0.5
         ]
        },
        {
         "cmax": 1,
         "cmin": 0,
         "colorscale": [
          [
           0,
           "#8EC1E1"
          ],
          [
           1,
           "#8EC1E1"
          ]
         ],
         "showscale": false,
         "sizemode": "absolute",
         "sizeref": 0.016,
         "type": "cone",
         "u": [
          0
         ],
         "v": [
          -1
         ],
         "w": [
          6.123233995736766e-17
         ],
         "x": [
          -0.5
         ],
         "y": [
          -0.16
         ],
         "z": [
          0.5
         ]
        },
        {
         "line": {
          "color": "#F84752",
          "width": 5
         },
         "mode": "lines",
         "name": "X3 Axis",
         "type": "scatter3d",
         "x": [
          -1,
          -0.84
         ],
         "y": [
          0,
          0
         ],
         "z": [
          0.5,
          0.5
         ]
        },
        {
         "cmax": 1,
         "cmin": 0,
         "colorscale": [
          [
           0,
           "#F84752"
          ],
          [
           1,
           "#F84752"
          ]
         ],
         "showscale": false,
         "sizemode": "absolute",
         "sizeref": 0.016,
         "type": "cone",
         "u": [
          1
         ],
         "v": [
          0
         ],
         "w": [
          0
         ],
         "x": [
          -0.84
         ],
         "y": [
          0
         ],
         "z": [
          0.5
         ]
        },
        {
         "line": {
          "color": "#BBDA55",
          "width": 5
         },
         "mode": "lines",
         "name": "Y3 Axis",
         "type": "scatter3d",
         "x": [
          -1,
          -1
         ],
         "y": [
          0,
          -0.16
         ],
         "z": [
          0.5,
          0.5
         ]
        },
        {
         "cmax": 1,
         "cmin": 0,
         "colorscale": [
          [
           0,
           "#BBDA55"
          ],
          [
           1,
           "#BBDA55"
          ]
         ],
         "showscale": false,
         "sizemode": "absolute",
         "sizeref": 0.016,
         "type": "cone",
         "u": [
          0
         ],
         "v": [
          -1
         ],
         "w": [
          1.2246467991473532e-16
         ],
         "x": [
          -1
         ],
         "y": [
          -0.16
         ],
         "z": [
          0.5
         ]
        },
        {
         "line": {
          "color": "#8EC1E1",
          "width": 5
         },
         "mode": "lines",
         "name": "Z3 Axis",
         "type": "scatter3d",
         "x": [
          -1,
          -1
         ],
         "y": [
          0,
          -1.959434878635765e-17
         ],
         "z": [
          0.5,
          0.33999999999999997
         ]
        },
        {
         "cmax": 1,
         "cmin": 0,
         "colorscale": [
          [
           0,
           "#8EC1E1"
          ],
          [
           1,
           "#8EC1E1"
          ]
         ],
         "showscale": false,
         "sizemode": "absolute",
         "sizeref": 0.016,
         "type": "cone",
         "u": [
          0
         ],
         "v": [
          -1.2246467991473532e-16
         ],
         "w": [
          -1
         ],
         "x": [
          -1
         ],
         "y": [
          -1.959434878635765e-17
         ],
         "z": [
          0.33999999999999997
         ]
        },
        {
         "line": {
          "color": "#F84752",
          "width": 5
         },
         "mode": "lines",
         "name": "X4 Axis",
         "type": "scatter3d",
         "x": [
          -1.5,
          -1.42
         ],
         "y": [
          0,
          0
         ],
         "z": [
          0.5,
          0.5
         ]
        },
        {
         "cmax": 1,
         "cmin": 0,
         "colorscale": [
          [
           0,
           "#F84752"
          ],
          [
           1,
           "#F84752"
          ]
         ],
         "showscale": false,
         "sizemode": "absolute",
         "sizeref": 0.008,
         "type": "cone",
         "u": [
          1
         ],
         "v": [
          0
         ],
         "w": [
          0
         ],
         "x": [
          -1.42
         ],
         "y": [
          0
         ],
         "z": [
          0.5
         ]
        },
        {
         "line": {
          "color": "#BBDA55",
          "width": 5
         },
         "mode": "lines",
         "name": "Y4 Axis",
         "type": "scatter3d",
         "x": [
          -1.5,
          -1.5
         ],
         "y": [
          0,
          -0.08
         ],
         "z": [
          0.5,
          0.5
         ]
        },
        {
         "cmax": 1,
         "cmin": 0,
         "colorscale": [
          [
           0,
           "#BBDA55"
          ],
          [
           1,
           "#BBDA55"
          ]
         ],
         "showscale": false,
         "sizemode": "absolute",
         "sizeref": 0.008,
         "type": "cone",
         "u": [
          0
         ],
         "v": [
          -1
         ],
         "w": [
          1.2246467991473532e-16
         ],
         "x": [
          -1.5
         ],
         "y": [
          -0.08
         ],
         "z": [
          0.5
         ]
        },
        {
         "line": {
          "color": "#8EC1E1",
          "width": 5
         },
         "mode": "lines",
         "name": "Z4 Axis",
         "type": "scatter3d",
         "x": [
          -1.5,
          -1.5
         ],
         "y": [
          0,
          -9.797174393178826e-18
         ],
         "z": [
          0.5,
          0.42
         ]
        },
        {
         "cmax": 1,
         "cmin": 0,
         "colorscale": [
          [
           0,
           "#8EC1E1"
          ],
          [
           1,
           "#8EC1E1"
          ]
         ],
         "showscale": false,
         "sizemode": "absolute",
         "sizeref": 0.008,
         "type": "cone",
         "u": [
          0
         ],
         "v": [
          -1.2246467991473532e-16
         ],
         "w": [
          -1
         ],
         "x": [
          -1.5
         ],
         "y": [
          -9.797174393178826e-18
         ],
         "z": [
          0.42
         ]
        }
       ],
       "layout": {
        "height": 600,
        "scene": {
         "aspectmode": "cube",
         "camera": {
          "center": {
           "x": 0,
           "y": 0,
           "z": 0
          },
          "eye": {
           "x": 2.3717082451262845,
           "y": -2.3717082451262845,
           "z": 2.3717082451262845
          },
          "up": {
           "x": 0,
           "y": 0,
           "z": 1
          }
         },
         "xaxis": {
          "nticks": 10,
          "range": [
           -1.739252713092609,
           1.739252713092609
          ],
          "title": {
           "text": "X"
          }
         },
         "yaxis": {
          "nticks": 10,
          "range": [
           -1.739252713092609,
           1.739252713092609
          ],
          "title": {
           "text": "Y"
          }
         },
         "zaxis": {
          "nticks": 10,
          "range": [
           -1.739252713092609,
           1.739252713092609
          ],
          "title": {
           "text": "Z"
          }
         }
        },
        "template": {
         "data": {
          "bar": [
           {
            "error_x": {
             "color": "#2a3f5f"
            },
            "error_y": {
             "color": "#2a3f5f"
            },
            "marker": {
             "line": {
              "color": "#E5ECF6",
              "width": 0.5
             },
             "pattern": {
              "fillmode": "overlay",
              "size": 10,
              "solidity": 0.2
             }
            },
            "type": "bar"
           }
          ],
          "barpolar": [
           {
            "marker": {
             "line": {
              "color": "#E5ECF6",
              "width": 0.5
             },
             "pattern": {
              "fillmode": "overlay",
              "size": 10,
              "solidity": 0.2
             }
            },
            "type": "barpolar"
           }
          ],
          "carpet": [
           {
            "aaxis": {
             "endlinecolor": "#2a3f5f",
             "gridcolor": "white",
             "linecolor": "white",
             "minorgridcolor": "white",
             "startlinecolor": "#2a3f5f"
            },
            "baxis": {
             "endlinecolor": "#2a3f5f",
             "gridcolor": "white",
             "linecolor": "white",
             "minorgridcolor": "white",
             "startlinecolor": "#2a3f5f"
            },
            "type": "carpet"
           }
          ],
          "choropleth": [
           {
            "colorbar": {
             "outlinewidth": 0,
             "ticks": ""
            },
            "type": "choropleth"
           }
          ],
          "contour": [
           {
            "colorbar": {
             "outlinewidth": 0,
             "ticks": ""
            },
            "colorscale": [
             [
              0,
              "#0d0887"
             ],
             [
              0.1111111111111111,
              "#46039f"
             ],
             [
              0.2222222222222222,
              "#7201a8"
             ],
             [
              0.3333333333333333,
              "#9c179e"
             ],
             [
              0.4444444444444444,
              "#bd3786"
             ],
             [
              0.5555555555555556,
              "#d8576b"
             ],
             [
              0.6666666666666666,
              "#ed7953"
             ],
             [
              0.7777777777777778,
              "#fb9f3a"
             ],
             [
              0.8888888888888888,
              "#fdca26"
             ],
             [
              1,
              "#f0f921"
             ]
            ],
            "type": "contour"
           }
          ],
          "contourcarpet": [
           {
            "colorbar": {
             "outlinewidth": 0,
             "ticks": ""
            },
            "type": "contourcarpet"
           }
          ],
          "heatmap": [
           {
            "colorbar": {
             "outlinewidth": 0,
             "ticks": ""
            },
            "colorscale": [
             [
              0,
              "#0d0887"
             ],
             [
              0.1111111111111111,
              "#46039f"
             ],
             [
              0.2222222222222222,
              "#7201a8"
             ],
             [
              0.3333333333333333,
              "#9c179e"
             ],
             [
              0.4444444444444444,
              "#bd3786"
             ],
             [
              0.5555555555555556,
              "#d8576b"
             ],
             [
              0.6666666666666666,
              "#ed7953"
             ],
             [
              0.7777777777777778,
              "#fb9f3a"
             ],
             [
              0.8888888888888888,
              "#fdca26"
             ],
             [
              1,
              "#f0f921"
             ]
            ],
            "type": "heatmap"
           }
          ],
          "histogram": [
           {
            "marker": {
             "pattern": {
              "fillmode": "overlay",
              "size": 10,
              "solidity": 0.2
             }
            },
            "type": "histogram"
           }
          ],
          "histogram2d": [
           {
            "colorbar": {
             "outlinewidth": 0,
             "ticks": ""
            },
            "colorscale": [
             [
              0,
              "#0d0887"
             ],
             [
              0.1111111111111111,
              "#46039f"
             ],
             [
              0.2222222222222222,
              "#7201a8"
             ],
             [
              0.3333333333333333,
              "#9c179e"
             ],
             [
              0.4444444444444444,
              "#bd3786"
             ],
             [
              0.5555555555555556,
              "#d8576b"
             ],
             [
              0.6666666666666666,
              "#ed7953"
             ],
             [
              0.7777777777777778,
              "#fb9f3a"
             ],
             [
              0.8888888888888888,
              "#fdca26"
             ],
             [
              1,
              "#f0f921"
             ]
            ],
            "type": "histogram2d"
           }
          ],
          "histogram2dcontour": [
           {
            "colorbar": {
             "outlinewidth": 0,
             "ticks": ""
            },
            "colorscale": [
             [
              0,
              "#0d0887"
             ],
             [
              0.1111111111111111,
              "#46039f"
             ],
             [
              0.2222222222222222,
              "#7201a8"
             ],
             [
              0.3333333333333333,
              "#9c179e"
             ],
             [
              0.4444444444444444,
              "#bd3786"
             ],
             [
              0.5555555555555556,
              "#d8576b"
             ],
             [
              0.6666666666666666,
              "#ed7953"
             ],
             [
              0.7777777777777778,
              "#fb9f3a"
             ],
             [
              0.8888888888888888,
              "#fdca26"
             ],
             [
              1,
              "#f0f921"
             ]
            ],
            "type": "histogram2dcontour"
           }
          ],
          "mesh3d": [
           {
            "colorbar": {
             "outlinewidth": 0,
             "ticks": ""
            },
            "type": "mesh3d"
           }
          ],
          "parcoords": [
           {
            "line": {
             "colorbar": {
              "outlinewidth": 0,
              "ticks": ""
             }
            },
            "type": "parcoords"
           }
          ],
          "pie": [
           {
            "automargin": true,
            "type": "pie"
           }
          ],
          "scatter": [
           {
            "fillpattern": {
             "fillmode": "overlay",
             "size": 10,
             "solidity": 0.2
            },
            "type": "scatter"
           }
          ],
          "scatter3d": [
           {
            "line": {
             "colorbar": {
              "outlinewidth": 0,
              "ticks": ""
             }
            },
            "marker": {
             "colorbar": {
              "outlinewidth": 0,
              "ticks": ""
             }
            },
            "type": "scatter3d"
           }
          ],
          "scattercarpet": [
           {
            "marker": {
             "colorbar": {
              "outlinewidth": 0,
              "ticks": ""
             }
            },
            "type": "scattercarpet"
           }
          ],
          "scattergeo": [
           {
            "marker": {
             "colorbar": {
              "outlinewidth": 0,
              "ticks": ""
             }
            },
            "type": "scattergeo"
           }
          ],
          "scattergl": [
           {
            "marker": {
             "colorbar": {
              "outlinewidth": 0,
              "ticks": ""
             }
            },
            "type": "scattergl"
           }
          ],
          "scattermap": [
           {
            "marker": {
             "colorbar": {
              "outlinewidth": 0,
              "ticks": ""
             }
            },
            "type": "scattermap"
           }
          ],
          "scattermapbox": [
           {
            "marker": {
             "colorbar": {
              "outlinewidth": 0,
              "ticks": ""
             }
            },
            "type": "scattermapbox"
           }
          ],
          "scatterpolar": [
           {
            "marker": {
             "colorbar": {
              "outlinewidth": 0,
              "ticks": ""
             }
            },
            "type": "scatterpolar"
           }
          ],
          "scatterpolargl": [
           {
            "marker": {
             "colorbar": {
              "outlinewidth": 0,
              "ticks": ""
             }
            },
            "type": "scatterpolargl"
           }
          ],
          "scatterternary": [
           {
            "marker": {
             "colorbar": {
              "outlinewidth": 0,
              "ticks": ""
             }
            },
            "type": "scatterternary"
           }
          ],
          "surface": [
           {
            "colorbar": {
             "outlinewidth": 0,
             "ticks": ""
            },
            "colorscale": [
             [
              0,
              "#0d0887"
             ],
             [
              0.1111111111111111,
              "#46039f"
             ],
             [
              0.2222222222222222,
              "#7201a8"
             ],
             [
              0.3333333333333333,
              "#9c179e"
             ],
             [
              0.4444444444444444,
              "#bd3786"
             ],
             [
              0.5555555555555556,
              "#d8576b"
             ],
             [
              0.6666666666666666,
              "#ed7953"
             ],
             [
              0.7777777777777778,
              "#fb9f3a"
             ],
             [
              0.8888888888888888,
              "#fdca26"
             ],
             [
              1,
              "#f0f921"
             ]
            ],
            "type": "surface"
           }
          ],
          "table": [
           {
            "cells": {
             "fill": {
              "color": "#EBF0F8"
             },
             "line": {
              "color": "white"
             }
            },
            "header": {
             "fill": {
              "color": "#C8D4E3"
             },
             "line": {
              "color": "white"
             }
            },
            "type": "table"
           }
          ]
         },
         "layout": {
          "annotationdefaults": {
           "arrowcolor": "#2a3f5f",
           "arrowhead": 0,
           "arrowwidth": 1
          },
          "autotypenumbers": "strict",
          "coloraxis": {
           "colorbar": {
            "outlinewidth": 0,
            "ticks": ""
           }
          },
          "colorscale": {
           "diverging": [
            [
             0,
             "#8e0152"
            ],
            [
             0.1,
             "#c51b7d"
            ],
            [
             0.2,
             "#de77ae"
            ],
            [
             0.3,
             "#f1b6da"
            ],
            [
             0.4,
             "#fde0ef"
            ],
            [
             0.5,
             "#f7f7f7"
            ],
            [
             0.6,
             "#e6f5d0"
            ],
            [
             0.7,
             "#b8e186"
            ],
            [
             0.8,
             "#7fbc41"
            ],
            [
             0.9,
             "#4d9221"
            ],
            [
             1,
             "#276419"
            ]
           ],
           "sequential": [
            [
             0,
             "#0d0887"
            ],
            [
             0.1111111111111111,
             "#46039f"
            ],
            [
             0.2222222222222222,
             "#7201a8"
            ],
            [
             0.3333333333333333,
             "#9c179e"
            ],
            [
             0.4444444444444444,
             "#bd3786"
            ],
            [
             0.5555555555555556,
             "#d8576b"
            ],
            [
             0.6666666666666666,
             "#ed7953"
            ],
            [
             0.7777777777777778,
             "#fb9f3a"
            ],
            [
             0.8888888888888888,
             "#fdca26"
            ],
            [
             1,
             "#f0f921"
            ]
           ],
           "sequentialminus": [
            [
             0,
             "#0d0887"
            ],
            [
             0.1111111111111111,
             "#46039f"
            ],
            [
             0.2222222222222222,
             "#7201a8"
            ],
            [
             0.3333333333333333,
             "#9c179e"
            ],
            [
             0.4444444444444444,
             "#bd3786"
            ],
            [
             0.5555555555555556,
             "#d8576b"
            ],
            [
             0.6666666666666666,
             "#ed7953"
            ],
            [
             0.7777777777777778,
             "#fb9f3a"
            ],
            [
             0.8888888888888888,
             "#fdca26"
            ],
            [
             1,
             "#f0f921"
            ]
           ]
          },
          "colorway": [
           "#636efa",
           "#EF553B",
           "#00cc96",
           "#ab63fa",
           "#FFA15A",
           "#19d3f3",
           "#FF6692",
           "#B6E880",
           "#FF97FF",
           "#FECB52"
          ],
          "font": {
           "color": "#2a3f5f"
          },
          "geo": {
           "bgcolor": "white",
           "lakecolor": "white",
           "landcolor": "#E5ECF6",
           "showlakes": true,
           "showland": true,
           "subunitcolor": "white"
          },
          "hoverlabel": {
           "align": "left"
          },
          "hovermode": "closest",
          "mapbox": {
           "style": "light"
          },
          "paper_bgcolor": "white",
          "plot_bgcolor": "#E5ECF6",
          "polar": {
           "angularaxis": {
            "gridcolor": "white",
            "linecolor": "white",
            "ticks": ""
           },
           "bgcolor": "#E5ECF6",
           "radialaxis": {
            "gridcolor": "white",
            "linecolor": "white",
            "ticks": ""
           }
          },
          "scene": {
           "xaxis": {
            "backgroundcolor": "#E5ECF6",
            "gridcolor": "white",
            "gridwidth": 2,
            "linecolor": "white",
            "showbackground": true,
            "ticks": "",
            "zerolinecolor": "white"
           },
           "yaxis": {
            "backgroundcolor": "#E5ECF6",
            "gridcolor": "white",
            "gridwidth": 2,
            "linecolor": "white",
            "showbackground": true,
            "ticks": "",
            "zerolinecolor": "white"
           },
           "zaxis": {
            "backgroundcolor": "#E5ECF6",
            "gridcolor": "white",
            "gridwidth": 2,
            "linecolor": "white",
            "showbackground": true,
            "ticks": "",
            "zerolinecolor": "white"
           }
          },
          "shapedefaults": {
           "line": {
            "color": "#2a3f5f"
           }
          },
          "ternary": {
           "aaxis": {
            "gridcolor": "white",
            "linecolor": "white",
            "ticks": ""
           },
           "baxis": {
            "gridcolor": "white",
            "linecolor": "white",
            "ticks": ""
           },
           "bgcolor": "#E5ECF6",
           "caxis": {
            "gridcolor": "white",
            "linecolor": "white",
            "ticks": ""
           }
          },
          "title": {
           "x": 0.05
          },
          "xaxis": {
           "automargin": true,
           "gridcolor": "white",
           "linecolor": "white",
           "ticks": "",
           "title": {
            "standoff": 15
           },
           "zerolinecolor": "white",
           "zerolinewidth": 2
          },
          "yaxis": {
           "automargin": true,
           "gridcolor": "white",
           "linecolor": "white",
           "ticks": "",
           "title": {
            "standoff": 15
           },
           "zerolinecolor": "white",
           "zerolinewidth": 2
          }
         }
        },
        "width": 700
       }
      }
     },
     "metadata": {},
     "output_type": "display_data"
    },
    {
     "data": {
      "application/vnd.plotly.v1+json": {
       "config": {
        "plotlyServerURL": "https://plot.ly"
       },
       "data": [
        {
         "line": {
          "color": "#E1706E",
          "width": 14
         },
         "mode": "lines",
         "name": "Link1",
         "type": "scatter3d",
         "x": {
          "bdata": "AAAAAAAAAAAAAAAAAAAAAA==",
          "dtype": "f8"
         },
         "y": {
          "bdata": "AAAAAAAAAAAAAAAAAAAAAA==",
          "dtype": "f8"
         },
         "z": {
          "bdata": "AAAAAAAAAAAAAAAAAADgPw==",
          "dtype": "f8"
         }
        },
        {
         "line": {
          "color": "#E1706E",
          "width": 14
         },
         "mode": "lines",
         "name": "Link2",
         "type": "scatter3d",
         "x": {
          "bdata": "AAAAAAAAAAAAAAAAAADgvw==",
          "dtype": "f8"
         },
         "y": {
          "bdata": "AAAAAAAAAAAAAAAAAAAAAA==",
          "dtype": "f8"
         },
         "z": {
          "bdata": "AAAAAAAA4D8AAAAAAADgPw==",
          "dtype": "f8"
         }
        },
        {
         "line": {
          "color": "#E1706E",
          "width": 14
         },
         "mode": "lines",
         "name": "Link3",
         "type": "scatter3d",
         "x": {
          "bdata": "AAAAAAAA4L8AAAAAAADwvw==",
          "dtype": "f8"
         },
         "y": {
          "bdata": "AAAAAAAAAAAAAAAAAAAAAA==",
          "dtype": "f8"
         },
         "z": {
          "bdata": "AAAAAAAA4D8AAAAAAADgPw==",
          "dtype": "f8"
         }
        },
        {
         "line": {
          "color": "#E1706E",
          "width": 14
         },
         "mode": "lines",
         "name": "Link4",
         "type": "scatter3d",
         "x": {
          "bdata": "AAAAAAAA8L8AAAAAAAD4vw==",
          "dtype": "f8"
         },
         "y": {
          "bdata": "AAAAAAAAAAAAAAAAAAAAAA==",
          "dtype": "f8"
         },
         "z": {
          "bdata": "AAAAAAAA4D8AAAAAAADgPw==",
          "dtype": "f8"
         }
        },
        {
         "line": {
          "color": "#F84752",
          "width": 5
         },
         "mode": "lines",
         "name": "X0 Axis",
         "type": "scatter3d",
         "x": [
          0,
          0.16
         ],
         "y": [
          0,
          0
         ],
         "z": [
          0,
          0
         ]
        },
        {
         "cmax": 1,
         "cmin": 0,
         "colorscale": [
          [
           0,
           "#F84752"
          ],
          [
           1,
           "#F84752"
          ]
         ],
         "showscale": false,
         "sizemode": "absolute",
         "sizeref": 0.016,
         "type": "cone",
         "u": [
          1
         ],
         "v": [
          0
         ],
         "w": [
          0
         ],
         "x": [
          0.16
         ],
         "y": [
          0
         ],
         "z": [
          0
         ]
        },
        {
         "line": {
          "color": "#BBDA55",
          "width": 5
         },
         "mode": "lines",
         "name": "Y0 Axis",
         "type": "scatter3d",
         "x": [
          0,
          0
         ],
         "y": [
          0,
          0.16
         ],
         "z": [
          0,
          0
         ]
        },
        {
         "cmax": 1,
         "cmin": 0,
         "colorscale": [
          [
           0,
           "#BBDA55"
          ],
          [
           1,
           "#BBDA55"
          ]
         ],
         "showscale": false,
         "sizemode": "absolute",
         "sizeref": 0.016,
         "type": "cone",
         "u": [
          0
         ],
         "v": [
          1
         ],
         "w": [
          0
         ],
         "x": [
          0
         ],
         "y": [
          0.16
         ],
         "z": [
          0
         ]
        },
        {
         "line": {
          "color": "#8EC1E1",
          "width": 5
         },
         "mode": "lines",
         "name": "Z0 Axis",
         "type": "scatter3d",
         "x": [
          0,
          0
         ],
         "y": [
          0,
          0
         ],
         "z": [
          0,
          0.16
         ]
        },
        {
         "cmax": 1,
         "cmin": 0,
         "colorscale": [
          [
           0,
           "#8EC1E1"
          ],
          [
           1,
           "#8EC1E1"
          ]
         ],
         "showscale": false,
         "sizemode": "absolute",
         "sizeref": 0.016,
         "type": "cone",
         "u": [
          0
         ],
         "v": [
          0
         ],
         "w": [
          1
         ],
         "x": [
          0
         ],
         "y": [
          0
         ],
         "z": [
          0.16
         ]
        },
        {
         "line": {
          "color": "#F84752",
          "width": 5
         },
         "mode": "lines",
         "name": "X1 Axis",
         "type": "scatter3d",
         "x": [
          0,
          0.16
         ],
         "y": [
          0,
          0
         ],
         "z": [
          0.5,
          0.5
         ]
        },
        {
         "cmax": 1,
         "cmin": 0,
         "colorscale": [
          [
           0,
           "#F84752"
          ],
          [
           1,
           "#F84752"
          ]
         ],
         "showscale": false,
         "sizemode": "absolute",
         "sizeref": 0.016,
         "type": "cone",
         "u": [
          1
         ],
         "v": [
          0
         ],
         "w": [
          0
         ],
         "x": [
          0.16
         ],
         "y": [
          0
         ],
         "z": [
          0.5
         ]
        },
        {
         "line": {
          "color": "#BBDA55",
          "width": 5
         },
         "mode": "lines",
         "name": "Y1 Axis",
         "type": "scatter3d",
         "x": [
          0,
          0
         ],
         "y": [
          0,
          0.16
         ],
         "z": [
          0.5,
          0.5
         ]
        },
        {
         "cmax": 1,
         "cmin": 0,
         "colorscale": [
          [
           0,
           "#BBDA55"
          ],
          [
           1,
           "#BBDA55"
          ]
         ],
         "showscale": false,
         "sizemode": "absolute",
         "sizeref": 0.016,
         "type": "cone",
         "u": [
          0
         ],
         "v": [
          1
         ],
         "w": [
          0
         ],
         "x": [
          0
         ],
         "y": [
          0.16
         ],
         "z": [
          0.5
         ]
        },
        {
         "line": {
          "color": "#8EC1E1",
          "width": 5
         },
         "mode": "lines",
         "name": "Z1 Axis",
         "type": "scatter3d",
         "x": [
          0,
          0
         ],
         "y": [
          0,
          0
         ],
         "z": [
          0.5,
          0.66
         ]
        },
        {
         "cmax": 1,
         "cmin": 0,
         "colorscale": [
          [
           0,
           "#8EC1E1"
          ],
          [
           1,
           "#8EC1E1"
          ]
         ],
         "showscale": false,
         "sizemode": "absolute",
         "sizeref": 0.016,
         "type": "cone",
         "u": [
          0
         ],
         "v": [
          0
         ],
         "w": [
          1
         ],
         "x": [
          0
         ],
         "y": [
          0
         ],
         "z": [
          0.66
         ]
        },
        {
         "line": {
          "color": "#F84752",
          "width": 5
         },
         "mode": "lines",
         "name": "X2 Axis",
         "type": "scatter3d",
         "x": [
          -0.5,
          -0.33999999999999997
         ],
         "y": [
          0,
          0
         ],
         "z": [
          0.5,
          0.5
         ]
        },
        {
         "cmax": 1,
         "cmin": 0,
         "colorscale": [
          [
           0,
           "#F84752"
          ],
          [
           1,
           "#F84752"
          ]
         ],
         "showscale": false,
         "sizemode": "absolute",
         "sizeref": 0.016,
         "type": "cone",
         "u": [
          1
         ],
         "v": [
          0
         ],
         "w": [
          0
         ],
         "x": [
          -0.33999999999999997
         ],
         "y": [
          0
         ],
         "z": [
          0.5
         ]
        },
        {
         "line": {
          "color": "#BBDA55",
          "width": 5
         },
         "mode": "lines",
         "name": "Y2 Axis",
         "type": "scatter3d",
         "x": [
          -0.5,
          -0.5
         ],
         "y": [
          0,
          9.797174393178826e-18
         ],
         "z": [
          0.5,
          0.66
         ]
        },
        {
         "cmax": 1,
         "cmin": 0,
         "colorscale": [
          [
           0,
           "#BBDA55"
          ],
          [
           1,
           "#BBDA55"
          ]
         ],
         "showscale": false,
         "sizemode": "absolute",
         "sizeref": 0.016,
         "type": "cone",
         "u": [
          0
         ],
         "v": [
          6.123233995736766e-17
         ],
         "w": [
          1
         ],
         "x": [
          -0.5
         ],
         "y": [
          9.797174393178826e-18
         ],
         "z": [
          0.66
         ]
        },
        {
         "line": {
          "color": "#8EC1E1",
          "width": 5
         },
         "mode": "lines",
         "name": "Z2 Axis",
         "type": "scatter3d",
         "x": [
          -0.5,
          -0.5
         ],
         "y": [
          0,
          -0.16
         ],
         "z": [
          0.5,
          0.5
         ]
        },
        {
         "cmax": 1,
         "cmin": 0,
         "colorscale": [
          [
           0,
           "#8EC1E1"
          ],
          [
           1,
           "#8EC1E1"
          ]
         ],
         "showscale": false,
         "sizemode": "absolute",
         "sizeref": 0.016,
         "type": "cone",
         "u": [
          0
         ],
         "v": [
          -1
         ],
         "w": [
          6.123233995736766e-17
         ],
         "x": [
          -0.5
         ],
         "y": [
          -0.16
         ],
         "z": [
          0.5
         ]
        },
        {
         "line": {
          "color": "#F84752",
          "width": 5
         },
         "mode": "lines",
         "name": "X3 Axis",
         "type": "scatter3d",
         "x": [
          -1,
          -0.84
         ],
         "y": [
          0,
          0
         ],
         "z": [
          0.5,
          0.5
         ]
        },
        {
         "cmax": 1,
         "cmin": 0,
         "colorscale": [
          [
           0,
           "#F84752"
          ],
          [
           1,
           "#F84752"
          ]
         ],
         "showscale": false,
         "sizemode": "absolute",
         "sizeref": 0.016,
         "type": "cone",
         "u": [
          1
         ],
         "v": [
          0
         ],
         "w": [
          0
         ],
         "x": [
          -0.84
         ],
         "y": [
          0
         ],
         "z": [
          0.5
         ]
        },
        {
         "line": {
          "color": "#BBDA55",
          "width": 5
         },
         "mode": "lines",
         "name": "Y3 Axis",
         "type": "scatter3d",
         "x": [
          -1,
          -1
         ],
         "y": [
          0,
          -0.16
         ],
         "z": [
          0.5,
          0.5
         ]
        },
        {
         "cmax": 1,
         "cmin": 0,
         "colorscale": [
          [
           0,
           "#BBDA55"
          ],
          [
           1,
           "#BBDA55"
          ]
         ],
         "showscale": false,
         "sizemode": "absolute",
         "sizeref": 0.016,
         "type": "cone",
         "u": [
          0
         ],
         "v": [
          -1
         ],
         "w": [
          1.2246467991473532e-16
         ],
         "x": [
          -1
         ],
         "y": [
          -0.16
         ],
         "z": [
          0.5
         ]
        },
        {
         "line": {
          "color": "#8EC1E1",
          "width": 5
         },
         "mode": "lines",
         "name": "Z3 Axis",
         "type": "scatter3d",
         "x": [
          -1,
          -1
         ],
         "y": [
          0,
          -1.959434878635765e-17
         ],
         "z": [
          0.5,
          0.33999999999999997
         ]
        },
        {
         "cmax": 1,
         "cmin": 0,
         "colorscale": [
          [
           0,
           "#8EC1E1"
          ],
          [
           1,
           "#8EC1E1"
          ]
         ],
         "showscale": false,
         "sizemode": "absolute",
         "sizeref": 0.016,
         "type": "cone",
         "u": [
          0
         ],
         "v": [
          -1.2246467991473532e-16
         ],
         "w": [
          -1
         ],
         "x": [
          -1
         ],
         "y": [
          -1.959434878635765e-17
         ],
         "z": [
          0.33999999999999997
         ]
        },
        {
         "line": {
          "color": "#F84752",
          "width": 5
         },
         "mode": "lines",
         "name": "X4 Axis",
         "type": "scatter3d",
         "x": [
          -1.5,
          -1.42
         ],
         "y": [
          0,
          0
         ],
         "z": [
          0.5,
          0.5
         ]
        },
        {
         "cmax": 1,
         "cmin": 0,
         "colorscale": [
          [
           0,
           "#F84752"
          ],
          [
           1,
           "#F84752"
          ]
         ],
         "showscale": false,
         "sizemode": "absolute",
         "sizeref": 0.008,
         "type": "cone",
         "u": [
          1
         ],
         "v": [
          0
         ],
         "w": [
          0
         ],
         "x": [
          -1.42
         ],
         "y": [
          0
         ],
         "z": [
          0.5
         ]
        },
        {
         "line": {
          "color": "#BBDA55",
          "width": 5
         },
         "mode": "lines",
         "name": "Y4 Axis",
         "type": "scatter3d",
         "x": [
          -1.5,
          -1.5
         ],
         "y": [
          0,
          -0.08
         ],
         "z": [
          0.5,
          0.5
         ]
        },
        {
         "cmax": 1,
         "cmin": 0,
         "colorscale": [
          [
           0,
           "#BBDA55"
          ],
          [
           1,
           "#BBDA55"
          ]
         ],
         "showscale": false,
         "sizemode": "absolute",
         "sizeref": 0.008,
         "type": "cone",
         "u": [
          0
         ],
         "v": [
          -1
         ],
         "w": [
          1.2246467991473532e-16
         ],
         "x": [
          -1.5
         ],
         "y": [
          -0.08
         ],
         "z": [
          0.5
         ]
        },
        {
         "line": {
          "color": "#8EC1E1",
          "width": 5
         },
         "mode": "lines",
         "name": "Z4 Axis",
         "type": "scatter3d",
         "x": [
          -1.5,
          -1.5
         ],
         "y": [
          0,
          -9.797174393178826e-18
         ],
         "z": [
          0.5,
          0.42
         ]
        },
        {
         "cmax": 1,
         "cmin": 0,
         "colorscale": [
          [
           0,
           "#8EC1E1"
          ],
          [
           1,
           "#8EC1E1"
          ]
         ],
         "showscale": false,
         "sizemode": "absolute",
         "sizeref": 0.008,
         "type": "cone",
         "u": [
          0
         ],
         "v": [
          -1.2246467991473532e-16
         ],
         "w": [
          -1
         ],
         "x": [
          -1.5
         ],
         "y": [
          -9.797174393178826e-18
         ],
         "z": [
          0.42
         ]
        }
       ],
       "layout": {
        "height": 600,
        "scene": {
         "aspectmode": "cube",
         "camera": {
          "center": {
           "x": 0,
           "y": 0,
           "z": 0
          },
          "eye": {
           "x": 2.3717082451262845,
           "y": -2.3717082451262845,
           "z": 2.3717082451262845
          },
          "up": {
           "x": 0,
           "y": 0,
           "z": 1
          }
         },
         "xaxis": {
          "nticks": 10,
          "range": [
           -1.739252713092609,
           1.739252713092609
          ],
          "title": {
           "text": "X"
          }
         },
         "yaxis": {
          "nticks": 10,
          "range": [
           -1.739252713092609,
           1.739252713092609
          ],
          "title": {
           "text": "Y"
          }
         },
         "zaxis": {
          "nticks": 10,
          "range": [
           -1.739252713092609,
           1.739252713092609
          ],
          "title": {
           "text": "Z"
          }
         }
        },
        "template": {
         "data": {
          "bar": [
           {
            "error_x": {
             "color": "#2a3f5f"
            },
            "error_y": {
             "color": "#2a3f5f"
            },
            "marker": {
             "line": {
              "color": "#E5ECF6",
              "width": 0.5
             },
             "pattern": {
              "fillmode": "overlay",
              "size": 10,
              "solidity": 0.2
             }
            },
            "type": "bar"
           }
          ],
          "barpolar": [
           {
            "marker": {
             "line": {
              "color": "#E5ECF6",
              "width": 0.5
             },
             "pattern": {
              "fillmode": "overlay",
              "size": 10,
              "solidity": 0.2
             }
            },
            "type": "barpolar"
           }
          ],
          "carpet": [
           {
            "aaxis": {
             "endlinecolor": "#2a3f5f",
             "gridcolor": "white",
             "linecolor": "white",
             "minorgridcolor": "white",
             "startlinecolor": "#2a3f5f"
            },
            "baxis": {
             "endlinecolor": "#2a3f5f",
             "gridcolor": "white",
             "linecolor": "white",
             "minorgridcolor": "white",
             "startlinecolor": "#2a3f5f"
            },
            "type": "carpet"
           }
          ],
          "choropleth": [
           {
            "colorbar": {
             "outlinewidth": 0,
             "ticks": ""
            },
            "type": "choropleth"
           }
          ],
          "contour": [
           {
            "colorbar": {
             "outlinewidth": 0,
             "ticks": ""
            },
            "colorscale": [
             [
              0,
              "#0d0887"
             ],
             [
              0.1111111111111111,
              "#46039f"
             ],
             [
              0.2222222222222222,
              "#7201a8"
             ],
             [
              0.3333333333333333,
              "#9c179e"
             ],
             [
              0.4444444444444444,
              "#bd3786"
             ],
             [
              0.5555555555555556,
              "#d8576b"
             ],
             [
              0.6666666666666666,
              "#ed7953"
             ],
             [
              0.7777777777777778,
              "#fb9f3a"
             ],
             [
              0.8888888888888888,
              "#fdca26"
             ],
             [
              1,
              "#f0f921"
             ]
            ],
            "type": "contour"
           }
          ],
          "contourcarpet": [
           {
            "colorbar": {
             "outlinewidth": 0,
             "ticks": ""
            },
            "type": "contourcarpet"
           }
          ],
          "heatmap": [
           {
            "colorbar": {
             "outlinewidth": 0,
             "ticks": ""
            },
            "colorscale": [
             [
              0,
              "#0d0887"
             ],
             [
              0.1111111111111111,
              "#46039f"
             ],
             [
              0.2222222222222222,
              "#7201a8"
             ],
             [
              0.3333333333333333,
              "#9c179e"
             ],
             [
              0.4444444444444444,
              "#bd3786"
             ],
             [
              0.5555555555555556,
              "#d8576b"
             ],
             [
              0.6666666666666666,
              "#ed7953"
             ],
             [
              0.7777777777777778,
              "#fb9f3a"
             ],
             [
              0.8888888888888888,
              "#fdca26"
             ],
             [
              1,
              "#f0f921"
             ]
            ],
            "type": "heatmap"
           }
          ],
          "histogram": [
           {
            "marker": {
             "pattern": {
              "fillmode": "overlay",
              "size": 10,
              "solidity": 0.2
             }
            },
            "type": "histogram"
           }
          ],
          "histogram2d": [
           {
            "colorbar": {
             "outlinewidth": 0,
             "ticks": ""
            },
            "colorscale": [
             [
              0,
              "#0d0887"
             ],
             [
              0.1111111111111111,
              "#46039f"
             ],
             [
              0.2222222222222222,
              "#7201a8"
             ],
             [
              0.3333333333333333,
              "#9c179e"
             ],
             [
              0.4444444444444444,
              "#bd3786"
             ],
             [
              0.5555555555555556,
              "#d8576b"
             ],
             [
              0.6666666666666666,
              "#ed7953"
             ],
             [
              0.7777777777777778,
              "#fb9f3a"
             ],
             [
              0.8888888888888888,
              "#fdca26"
             ],
             [
              1,
              "#f0f921"
             ]
            ],
            "type": "histogram2d"
           }
          ],
          "histogram2dcontour": [
           {
            "colorbar": {
             "outlinewidth": 0,
             "ticks": ""
            },
            "colorscale": [
             [
              0,
              "#0d0887"
             ],
             [
              0.1111111111111111,
              "#46039f"
             ],
             [
              0.2222222222222222,
              "#7201a8"
             ],
             [
              0.3333333333333333,
              "#9c179e"
             ],
             [
              0.4444444444444444,
              "#bd3786"
             ],
             [
              0.5555555555555556,
              "#d8576b"
             ],
             [
              0.6666666666666666,
              "#ed7953"
             ],
             [
              0.7777777777777778,
              "#fb9f3a"
             ],
             [
              0.8888888888888888,
              "#fdca26"
             ],
             [
              1,
              "#f0f921"
             ]
            ],
            "type": "histogram2dcontour"
           }
          ],
          "mesh3d": [
           {
            "colorbar": {
             "outlinewidth": 0,
             "ticks": ""
            },
            "type": "mesh3d"
           }
          ],
          "parcoords": [
           {
            "line": {
             "colorbar": {
              "outlinewidth": 0,
              "ticks": ""
             }
            },
            "type": "parcoords"
           }
          ],
          "pie": [
           {
            "automargin": true,
            "type": "pie"
           }
          ],
          "scatter": [
           {
            "fillpattern": {
             "fillmode": "overlay",
             "size": 10,
             "solidity": 0.2
            },
            "type": "scatter"
           }
          ],
          "scatter3d": [
           {
            "line": {
             "colorbar": {
              "outlinewidth": 0,
              "ticks": ""
             }
            },
            "marker": {
             "colorbar": {
              "outlinewidth": 0,
              "ticks": ""
             }
            },
            "type": "scatter3d"
           }
          ],
          "scattercarpet": [
           {
            "marker": {
             "colorbar": {
              "outlinewidth": 0,
              "ticks": ""
             }
            },
            "type": "scattercarpet"
           }
          ],
          "scattergeo": [
           {
            "marker": {
             "colorbar": {
              "outlinewidth": 0,
              "ticks": ""
             }
            },
            "type": "scattergeo"
           }
          ],
          "scattergl": [
           {
            "marker": {
             "colorbar": {
              "outlinewidth": 0,
              "ticks": ""
             }
            },
            "type": "scattergl"
           }
          ],
          "scattermap": [
           {
            "marker": {
             "colorbar": {
              "outlinewidth": 0,
              "ticks": ""
             }
            },
            "type": "scattermap"
           }
          ],
          "scattermapbox": [
           {
            "marker": {
             "colorbar": {
              "outlinewidth": 0,
              "ticks": ""
             }
            },
            "type": "scattermapbox"
           }
          ],
          "scatterpolar": [
           {
            "marker": {
             "colorbar": {
              "outlinewidth": 0,
              "ticks": ""
             }
            },
            "type": "scatterpolar"
           }
          ],
          "scatterpolargl": [
           {
            "marker": {
             "colorbar": {
              "outlinewidth": 0,
              "ticks": ""
             }
            },
            "type": "scatterpolargl"
           }
          ],
          "scatterternary": [
           {
            "marker": {
             "colorbar": {
              "outlinewidth": 0,
              "ticks": ""
             }
            },
            "type": "scatterternary"
           }
          ],
          "surface": [
           {
            "colorbar": {
             "outlinewidth": 0,
             "ticks": ""
            },
            "colorscale": [
             [
              0,
              "#0d0887"
             ],
             [
              0.1111111111111111,
              "#46039f"
             ],
             [
              0.2222222222222222,
              "#7201a8"
             ],
             [
              0.3333333333333333,
              "#9c179e"
             ],
             [
              0.4444444444444444,
              "#bd3786"
             ],
             [
              0.5555555555555556,
              "#d8576b"
             ],
             [
              0.6666666666666666,
              "#ed7953"
             ],
             [
              0.7777777777777778,
              "#fb9f3a"
             ],
             [
              0.8888888888888888,
              "#fdca26"
             ],
             [
              1,
              "#f0f921"
             ]
            ],
            "type": "surface"
           }
          ],
          "table": [
           {
            "cells": {
             "fill": {
              "color": "#EBF0F8"
             },
             "line": {
              "color": "white"
             }
            },
            "header": {
             "fill": {
              "color": "#C8D4E3"
             },
             "line": {
              "color": "white"
             }
            },
            "type": "table"
           }
          ]
         },
         "layout": {
          "annotationdefaults": {
           "arrowcolor": "#2a3f5f",
           "arrowhead": 0,
           "arrowwidth": 1
          },
          "autotypenumbers": "strict",
          "coloraxis": {
           "colorbar": {
            "outlinewidth": 0,
            "ticks": ""
           }
          },
          "colorscale": {
           "diverging": [
            [
             0,
             "#8e0152"
            ],
            [
             0.1,
             "#c51b7d"
            ],
            [
             0.2,
             "#de77ae"
            ],
            [
             0.3,
             "#f1b6da"
            ],
            [
             0.4,
             "#fde0ef"
            ],
            [
             0.5,
             "#f7f7f7"
            ],
            [
             0.6,
             "#e6f5d0"
            ],
            [
             0.7,
             "#b8e186"
            ],
            [
             0.8,
             "#7fbc41"
            ],
            [
             0.9,
             "#4d9221"
            ],
            [
             1,
             "#276419"
            ]
           ],
           "sequential": [
            [
             0,
             "#0d0887"
            ],
            [
             0.1111111111111111,
             "#46039f"
            ],
            [
             0.2222222222222222,
             "#7201a8"
            ],
            [
             0.3333333333333333,
             "#9c179e"
            ],
            [
             0.4444444444444444,
             "#bd3786"
            ],
            [
             0.5555555555555556,
             "#d8576b"
            ],
            [
             0.6666666666666666,
             "#ed7953"
            ],
            [
             0.7777777777777778,
             "#fb9f3a"
            ],
            [
             0.8888888888888888,
             "#fdca26"
            ],
            [
             1,
             "#f0f921"
            ]
           ],
           "sequentialminus": [
            [
             0,
             "#0d0887"
            ],
            [
             0.1111111111111111,
             "#46039f"
            ],
            [
             0.2222222222222222,
             "#7201a8"
            ],
            [
             0.3333333333333333,
             "#9c179e"
            ],
            [
             0.4444444444444444,
             "#bd3786"
            ],
            [
             0.5555555555555556,
             "#d8576b"
            ],
            [
             0.6666666666666666,
             "#ed7953"
            ],
            [
             0.7777777777777778,
             "#fb9f3a"
            ],
            [
             0.8888888888888888,
             "#fdca26"
            ],
            [
             1,
             "#f0f921"
            ]
           ]
          },
          "colorway": [
           "#636efa",
           "#EF553B",
           "#00cc96",
           "#ab63fa",
           "#FFA15A",
           "#19d3f3",
           "#FF6692",
           "#B6E880",
           "#FF97FF",
           "#FECB52"
          ],
          "font": {
           "color": "#2a3f5f"
          },
          "geo": {
           "bgcolor": "white",
           "lakecolor": "white",
           "landcolor": "#E5ECF6",
           "showlakes": true,
           "showland": true,
           "subunitcolor": "white"
          },
          "hoverlabel": {
           "align": "left"
          },
          "hovermode": "closest",
          "mapbox": {
           "style": "light"
          },
          "paper_bgcolor": "white",
          "plot_bgcolor": "#E5ECF6",
          "polar": {
           "angularaxis": {
            "gridcolor": "white",
            "linecolor": "white",
            "ticks": ""
           },
           "bgcolor": "#E5ECF6",
           "radialaxis": {
            "gridcolor": "white",
            "linecolor": "white",
            "ticks": ""
           }
          },
          "scene": {
           "xaxis": {
            "backgroundcolor": "#E5ECF6",
            "gridcolor": "white",
            "gridwidth": 2,
            "linecolor": "white",
            "showbackground": true,
            "ticks": "",
            "zerolinecolor": "white"
           },
           "yaxis": {
            "backgroundcolor": "#E5ECF6",
            "gridcolor": "white",
            "gridwidth": 2,
            "linecolor": "white",
            "showbackground": true,
            "ticks": "",
            "zerolinecolor": "white"
           },
           "zaxis": {
            "backgroundcolor": "#E5ECF6",
            "gridcolor": "white",
            "gridwidth": 2,
            "linecolor": "white",
            "showbackground": true,
            "ticks": "",
            "zerolinecolor": "white"
           }
          },
          "shapedefaults": {
           "line": {
            "color": "#2a3f5f"
           }
          },
          "ternary": {
           "aaxis": {
            "gridcolor": "white",
            "linecolor": "white",
            "ticks": ""
           },
           "baxis": {
            "gridcolor": "white",
            "linecolor": "white",
            "ticks": ""
           },
           "bgcolor": "#E5ECF6",
           "caxis": {
            "gridcolor": "white",
            "linecolor": "white",
            "ticks": ""
           }
          },
          "title": {
           "x": 0.05
          },
          "xaxis": {
           "automargin": true,
           "gridcolor": "white",
           "linecolor": "white",
           "ticks": "",
           "title": {
            "standoff": 15
           },
           "zerolinecolor": "white",
           "zerolinewidth": 2
          },
          "yaxis": {
           "automargin": true,
           "gridcolor": "white",
           "linecolor": "white",
           "ticks": "",
           "title": {
            "standoff": 15
           },
           "zerolinecolor": "white",
           "zerolinewidth": 2
          }
         }
        },
        "width": 700
       }
      }
     },
     "metadata": {},
     "output_type": "display_data"
    }
   ],
   "source": [
    "new_robot = generic.GenericFour(\n",
    "                linklengths=[0.5, 0.5, 0.5, 0.5], \n",
    "                alpha=[0, np.pi/2, np.pi/2, 0],\n",
    "            )\n",
    "\n",
    "new_robot.plotly(new_robot.qz, save=False, fig=go.Figure())"
   ]
  },
  {
   "cell_type": "markdown",
   "id": "nWHF",
   "metadata": {},
   "source": [
    "## Workspace Analysis"
   ]
  },
  {
   "cell_type": "code",
   "execution_count": 11,
   "id": "iLit",
   "metadata": {},
   "outputs": [
    {
     "name": "stderr",
     "output_type": "stream",
     "text": [
      "Address already in use\n",
      "Port 8050 is in use by another program. Either identify and stop that program, or start the server with a different port.\n"
     ]
    }
   ],
   "source": [
    "import threading\n",
    "\n",
    "# Create your Dash app but don't run the server\n",
    "design_app = rsb.visualization.app.RobotArmDesignApp()\n",
    "\n",
    "# Start the Dash server in background\n",
    "dash_thread = threading.Thread(target=design_app.run_server, daemon=True)\n",
    "dash_thread.start()\n",
    "\n",
    "# Create iframe using HTML\n",
    "dash_frame = mo.md(\"\"\"\n",
    "<iframe src=\"http://127.0.0.1:8050\" width=\"100%\" height=\"800px\" frameborder=\"0\"></iframe>\n",
    "\"\"\")\n",
    "\n",
    "# Display the iframe\n",
    "mo.output.append(dash_frame)"
   ]
  }
 ],
 "metadata": {
  "kernelspec": {
   "display_name": "robosandbox3.9",
   "language": "python",
   "name": "python3"
  },
  "language_info": {
   "codemirror_mode": {
    "name": "ipython",
    "version": 3
   },
   "file_extension": ".py",
   "mimetype": "text/x-python",
   "name": "python",
   "nbconvert_exporter": "python",
   "pygments_lexer": "ipython3",
   "version": "3.9.21"
  }
 },
 "nbformat": 4,
 "nbformat_minor": 5
}
