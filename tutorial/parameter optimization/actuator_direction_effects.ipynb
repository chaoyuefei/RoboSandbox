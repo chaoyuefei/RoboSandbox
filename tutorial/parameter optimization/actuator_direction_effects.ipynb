{
 "cells": [
  {
   "cell_type": "markdown",
   "metadata": {},
   "source": [
    "# Positioning Redundant Mannipulator Performance "
   ]
  },
  {
   "cell_type": "code",
   "execution_count": 1,
   "metadata": {},
   "outputs": [],
   "source": [
    "import robosandbox as rsb\n",
    "import numpy as np\n",
    "import plotly.graph_objects as go\n",
    "from tqdm import tqdm\n",
    "import matplotlib.pyplot as plt\n",
    "from robosandbox.performance.WorkSpace import WorkSpace\n",
    "import plotly.express as px\n",
    "import pandas as pd\n"
   ]
  },
  {
   "cell_type": "markdown",
   "metadata": {},
   "source": [
    "## Definition \n",
    "\n",
    "The generic manipulator of 4 Dofs is defined in DH description and the actuators' directions from 2 to 4 and EE are defined by alpha list."
   ]
  },
  {
   "cell_type": "code",
   "execution_count": 5,
   "metadata": {},
   "outputs": [],
   "source": [
    "%matplotlib qt\n",
    "robot = rsb.models.DH.Generic.GenericFour(alpha=[np.pi/2, 0, 0, 0])\n",
    "robot.plot(q=robot.qr)\n",
    "plt.savefig(\"fig/robot_redundant.png\")"
   ]
  },
  {
   "cell_type": "markdown",
   "metadata": {},
   "source": [
    "![redundant robot](fig/robot_redundant.png)"
   ]
  },
  {
   "cell_type": "markdown",
   "metadata": {},
   "source": [
    "## Evaluate Alpha 3&4 Effects on Global Indices"
   ]
  },
  {
   "cell_type": "code",
   "execution_count": 6,
   "metadata": {},
   "outputs": [],
   "source": [
    "def evaluate_alpha_effect(\n",
    "    alpha_list3, alpha_list4, isSave=False, method=\"invcondition\", axes=\"all\"\n",
    "):\n",
    "    \"\"\"\n",
    "    Evaluate the effect of alpha on the global indices.\n",
    "    \"\"\"\n",
    "    results = []\n",
    "    res_mat = np.zeros((len(alpha_list3), len(alpha_list4)))\n",
    "    for i, alpha3 in tqdm(\n",
    "        enumerate(alpha_list3),\n",
    "        total=len(alpha_list3),\n",
    "        desc=\"alpha3 progress\",\n",
    "        unit=\"outer\",\n",
    "    ):\n",
    "        for j, alpha4 in tqdm(\n",
    "            enumerate(alpha_list4),\n",
    "            total=len(alpha_list4),\n",
    "            desc=f\"alpha4 progress (alpha3={np.rad2deg(alpha3)})\",\n",
    "            unit=\"inner\",\n",
    "            leave=False,\n",
    "        ):\n",
    "            robot = rsb.models.DH.Generic.GenericFour(alpha=[np.pi / 2, alpha3, alpha4, 0])\n",
    "            ws = WorkSpace(robot=robot)\n",
    "            G = ws.iter_calc_global_indice(\n",
    "                    initial_samples=3000,\n",
    "                    batch_ratio=0.1,\n",
    "                    error_tolerance_percentage=1e-3,\n",
    "                    method=method,\n",
    "                    axes=axes,\n",
    "                    max_samples=30000,\n",
    "                )\n",
    "            results.append([alpha3, alpha4, G])\n",
    "            res_mat[i, j] = G\n",
    "            del robot, ws\n",
    "\n",
    "    results = np.array(results)\n",
    "    if isSave:\n",
    "        filename = f\"data/two_alpha/{method}_{axes}.npz\"\n",
    "        np.savez(filename, results=results, res_mat=res_mat)\n",
    "    return results, res_mat\n"
   ]
  },
  {
   "cell_type": "code",
   "execution_count": 7,
   "metadata": {},
   "outputs": [],
   "source": [
    "def plot_global_index_results(\n",
    "    alpha_list_deg3,\n",
    "    alpha_list_deg4,\n",
    "    res_mat,\n",
    "    plot_type=\"heatmap\",\n",
    "    method=\"invcondition\",\n",
    "    axes=\"all\",\n",
    "    isSave=False,\n",
    "):\n",
    "    \"\"\"\n",
    "    Plot the effect of alpha on the global indices using Plotly.\n",
    "    \"\"\"\n",
    "    G_mat = res_mat\n",
    "    # print(G_mat)\n",
    "    fig = go.Figure()\n",
    "    if plot_type == \"heatmap\":\n",
    "        fig = go.Figure(\n",
    "            data=go.Heatmap(\n",
    "                z=G_mat,\n",
    "                x=alpha_list_deg3,\n",
    "                y=alpha_list_deg4,\n",
    "                # colorscale='Viridis',\n",
    "                colorbar=dict(\n",
    "                    title=f\"{method}\", titlefont=dict(size=40), tickfont=dict(size=40)\n",
    "                ),\n",
    "            )\n",
    "        )\n",
    "\n",
    "    if plot_type == \"surface\":\n",
    "        fig = go.Figure(\n",
    "            data=go.Surface(\n",
    "                z=G_mat,\n",
    "                x=alpha_list_deg3,\n",
    "                y=alpha_list_deg4,\n",
    "                colorbar=dict(\n",
    "                    title=f\"{method}\", titlefont=dict(size=40), tickfont=dict(size=40)\n",
    "                ),\n",
    "            )\n",
    "        )\n",
    "        fig.update_layout(\n",
    "            scene=dict(\n",
    "                xaxis_title=\"alpha3 (deg)\",\n",
    "                yaxis_title=\"alpha4 (deg)\",\n",
    "                zaxis_title=\"\",\n",
    "                xaxis=dict(titlefont=dict(size=40), tickfont=dict(size=16), dtick=90),\n",
    "                yaxis=dict(titlefont=dict(size=40), tickfont=dict(size=16), dtick=90),\n",
    "                zaxis=dict(titlefont=dict(size=40), tickfont=dict(size=16), dtick=90),\n",
    "                camera=dict(\n",
    "                    eye=dict(x=1.55, y=1.55, z=1.55),\n",
    "                    up=dict(x=0, y=0, z=1),\n",
    "                ),\n",
    "            )\n",
    "        )\n",
    "\n",
    "    fontsize = 40\n",
    "    fig.update_layout(\n",
    "        # title=f'Effect of alpha on global indices using {method} method and {axes} axes',\n",
    "        xaxis_title=\"alpha3 (deg)\",\n",
    "        yaxis_title=\"alpha4 (deg)\",\n",
    "        autosize=True,\n",
    "        height=800,\n",
    "        width=1000,\n",
    "        xaxis_title_font=dict(size=40),  # Font size for x-axis title\n",
    "        yaxis_title_font=dict(size=40),\n",
    "        xaxis=dict(tickfont=dict(size=fontsize), dtick=30),\n",
    "        yaxis=dict(tickfont=dict(size=fontsize), dtick=30),\n",
    "    )\n",
    "\n",
    "    if isSave:\n",
    "        fig.write_image(f\"fig/two_alpha/{method}_{axes}_{plot_type}.png\")\n",
    "        fig.write_html(f\"fig/two_alpha/{method}_{axes}_{plot_type}.html\")\n",
    "    fig.show()"
   ]
  },
  {
   "cell_type": "markdown",
   "metadata": {},
   "source": [
    "### Global Indice - Manipulability from Yoshikawa\n",
    "\n",
    "$$\n",
    "\\sqrt{\\det(J(q)J^T(q))}\n",
    "$$"
   ]
  },
  {
   "cell_type": "code",
   "execution_count": 10,
   "metadata": {},
   "outputs": [
    {
     "name": "stdout",
     "output_type": "stream",
     "text": [
      "alpha 3: [  0  15  30  45  60  75  90 105 120 135 150 165 180]\n",
      "alpha 4: [  0  15  30  45  60  75  90 105 120 135 150 165 180]\n"
     ]
    },
    {
     "data": {
      "application/vnd.plotly.v1+json": {
       "config": {
        "plotlyServerURL": "https://plot.ly"
       },
       "data": [
        {
         "colorbar": {
          "tickfont": {
           "size": 40
          },
          "title": {
           "font": {
            "size": 40
           },
           "text": "yoshikawa"
          }
         },
         "type": "surface",
         "x": [
          0,
          15,
          30,
          45,
          60,
          75,
          90,
          105,
          120,
          135,
          150,
          165,
          180
         ],
         "y": [
          0,
          15,
          30,
          45,
          60,
          75,
          90,
          105,
          120,
          135,
          150,
          165,
          180
         ],
         "z": [
          [
           0.004423028289897083,
           0.005935979380396376,
           0.006245270991477546,
           0.005911916619501242,
           0.005648726210622863,
           0.005986023171195224,
           0.006811557878574632,
           0.007062922352336709,
           0.004646847168459446,
           0.004301787301063265,
           0.005354977637701389,
           0.0063823351699558144,
           0.004403844666899033
          ],
          [
           0.005024900474535296,
           0.006362034368267912,
           0.006317347030146848,
           0.006212822279961883,
           0.005886566515560618,
           0.006186171139168212,
           0.005830941424375524,
           0.00499718349796078,
           0.0062018412323334975,
           0.005162662177557023,
           0.007181229006271423,
           0.0053986792817248466,
           0.00540487653111303
          ],
          [
           0.005568919034744953,
           0.00805444323991273,
           0.006825976526070012,
           0.005635661538515251,
           0.005987766520836443,
           0.004837105729209973,
           0.006011530129504629,
           0.0060222797054680175,
           0.0059375207640686226,
           0.006469009209295777,
           0.005839842133591494,
           0.006236386747974605,
           0.00724835764061122
          ],
          [
           0.005692014201100028,
           0.0072256817537417455,
           0.006171607208400374,
           0.006499684959137569,
           0.00489515142457645,
           0.00529922280530101,
           0.005474550308396698,
           0.00392955872917544,
           0.0055656438152266825,
           0.006378784089549401,
           0.0060517917303165745,
           0.005795429113637589,
           0.007664724930696562
          ],
          [
           0.0074535529576746674,
           0.005952697747014925,
           0.006395489537374504,
           0.006944013606389465,
           0.0046538803088897445,
           0.005806247418929826,
           0.003300862592759725,
           0.004776096727653567,
           0.004256020830599096,
           0.00602408806221977,
           0.005561307242977672,
           0.005880369424023465,
           0.006301362782161979
          ],
          [
           0.005802527331441661,
           0.006932454467450998,
           0.0056513641700279265,
           0.006071397005672914,
           0.004955313713443628,
           0.0059500511846671805,
           0.004809331476525008,
           0.004402826250001629,
           0.005441728566210789,
           0.004847155987067221,
           0.006475115064496167,
           0.00708355491775644,
           0.006219376581671324
          ],
          [
           0.007165650352595153,
           0.007608115710939168,
           0.006260172844539443,
           0.004680964362362507,
           0.004587250515535484,
           0.004692319230064553,
           0.00450627638042232,
           0.005079398015437987,
           0.0038185943549632773,
           0.005275850647740754,
           0.006338497163921361,
           0.005937959189510187,
           0.006492060959241928
          ],
          [
           0.006085534368748668,
           0.005599541531022375,
           0.005467444108855888,
           0.003926839596918523,
           0.004696059464280809,
           0.005442731387278305,
           0.0035063898370539365,
           0.005653945159634888,
           0.005614118492161008,
           0.004568295602306334,
           0.005858264669014331,
           0.0063699529279596205,
           0.006151016372110758
          ],
          [
           0.0060471901655018995,
           0.0069422006322338425,
           0.005288607831294579,
           0.0039048719837536396,
           0.004839100270923957,
           0.005085368358850935,
           0.005226345099640525,
           0.0044637901595725275,
           0.005932824416429446,
           0.005863628729372648,
           0.006467469695330554,
           0.005753472904052265,
           0.006709310229997327
          ],
          [
           0.006498980991055826,
           0.005948019492813925,
           0.00639559893903876,
           0.006010912816747365,
           0.005267572017858808,
           0.004084550223762562,
           0.0052907325015736,
           0.0048529344044223495,
           0.006324397852727545,
           0.006026909340748635,
           0.005162716930107216,
           0.006566515428544845,
           0.005344944728602628
          ],
          [
           0.006713812899422303,
           0.006645628512422701,
           0.006482423709350367,
           0.005647816085338711,
           0.005995759767271671,
           0.004948281510479189,
           0.00440550675440622,
           0.005909971377540174,
           0.006486173084232978,
           0.007104464988363193,
           0.007181657053009128,
           0.005951872696698432,
           0.007406686703573016
          ],
          [
           0.006443449459844158,
           0.006273042280051095,
           0.007178657027587016,
           0.005358352785260969,
           0.006792059149101944,
           0.006752038510177841,
           0.004762840447466944,
           0.006509346920598187,
           0.006099748219561355,
           0.004419908568890679,
           0.0065399187831863695,
           0.006091172863012374,
           0.006241820713765307
          ],
          [
           0.004677443739898577,
           0.006129310813475882,
           0.006159448140389706,
           0.005547607976723144,
           0.005435223901351292,
           0.006189722652756418,
           0.0050097197290289875,
           0.0055629956239371045,
           0.0052742459720187445,
           0.007338914500113889,
           0.006005644494863312,
           0.005563250475381513,
           0.005333509349812725
          ]
         ]
        }
       ],
       "layout": {
        "autosize": true,
        "height": 800,
        "scene": {
         "camera": {
          "eye": {
           "x": 1.55,
           "y": 1.55,
           "z": 1.55
          },
          "up": {
           "x": 0,
           "y": 0,
           "z": 1
          }
         },
         "xaxis": {
          "dtick": 90,
          "tickfont": {
           "size": 16
          },
          "title": {
           "font": {
            "size": 40
           },
           "text": "alpha3 (deg)"
          }
         },
         "yaxis": {
          "dtick": 90,
          "tickfont": {
           "size": 16
          },
          "title": {
           "font": {
            "size": 40
           },
           "text": "alpha4 (deg)"
          }
         },
         "zaxis": {
          "dtick": 90,
          "tickfont": {
           "size": 16
          },
          "title": {
           "font": {
            "size": 40
           },
           "text": ""
          }
         }
        },
        "template": {
         "data": {
          "bar": [
           {
            "error_x": {
             "color": "#2a3f5f"
            },
            "error_y": {
             "color": "#2a3f5f"
            },
            "marker": {
             "line": {
              "color": "#E5ECF6",
              "width": 0.5
             },
             "pattern": {
              "fillmode": "overlay",
              "size": 10,
              "solidity": 0.2
             }
            },
            "type": "bar"
           }
          ],
          "barpolar": [
           {
            "marker": {
             "line": {
              "color": "#E5ECF6",
              "width": 0.5
             },
             "pattern": {
              "fillmode": "overlay",
              "size": 10,
              "solidity": 0.2
             }
            },
            "type": "barpolar"
           }
          ],
          "carpet": [
           {
            "aaxis": {
             "endlinecolor": "#2a3f5f",
             "gridcolor": "white",
             "linecolor": "white",
             "minorgridcolor": "white",
             "startlinecolor": "#2a3f5f"
            },
            "baxis": {
             "endlinecolor": "#2a3f5f",
             "gridcolor": "white",
             "linecolor": "white",
             "minorgridcolor": "white",
             "startlinecolor": "#2a3f5f"
            },
            "type": "carpet"
           }
          ],
          "choropleth": [
           {
            "colorbar": {
             "outlinewidth": 0,
             "ticks": ""
            },
            "type": "choropleth"
           }
          ],
          "contour": [
           {
            "colorbar": {
             "outlinewidth": 0,
             "ticks": ""
            },
            "colorscale": [
             [
              0,
              "#0d0887"
             ],
             [
              0.1111111111111111,
              "#46039f"
             ],
             [
              0.2222222222222222,
              "#7201a8"
             ],
             [
              0.3333333333333333,
              "#9c179e"
             ],
             [
              0.4444444444444444,
              "#bd3786"
             ],
             [
              0.5555555555555556,
              "#d8576b"
             ],
             [
              0.6666666666666666,
              "#ed7953"
             ],
             [
              0.7777777777777778,
              "#fb9f3a"
             ],
             [
              0.8888888888888888,
              "#fdca26"
             ],
             [
              1,
              "#f0f921"
             ]
            ],
            "type": "contour"
           }
          ],
          "contourcarpet": [
           {
            "colorbar": {
             "outlinewidth": 0,
             "ticks": ""
            },
            "type": "contourcarpet"
           }
          ],
          "heatmap": [
           {
            "colorbar": {
             "outlinewidth": 0,
             "ticks": ""
            },
            "colorscale": [
             [
              0,
              "#0d0887"
             ],
             [
              0.1111111111111111,
              "#46039f"
             ],
             [
              0.2222222222222222,
              "#7201a8"
             ],
             [
              0.3333333333333333,
              "#9c179e"
             ],
             [
              0.4444444444444444,
              "#bd3786"
             ],
             [
              0.5555555555555556,
              "#d8576b"
             ],
             [
              0.6666666666666666,
              "#ed7953"
             ],
             [
              0.7777777777777778,
              "#fb9f3a"
             ],
             [
              0.8888888888888888,
              "#fdca26"
             ],
             [
              1,
              "#f0f921"
             ]
            ],
            "type": "heatmap"
           }
          ],
          "heatmapgl": [
           {
            "colorbar": {
             "outlinewidth": 0,
             "ticks": ""
            },
            "colorscale": [
             [
              0,
              "#0d0887"
             ],
             [
              0.1111111111111111,
              "#46039f"
             ],
             [
              0.2222222222222222,
              "#7201a8"
             ],
             [
              0.3333333333333333,
              "#9c179e"
             ],
             [
              0.4444444444444444,
              "#bd3786"
             ],
             [
              0.5555555555555556,
              "#d8576b"
             ],
             [
              0.6666666666666666,
              "#ed7953"
             ],
             [
              0.7777777777777778,
              "#fb9f3a"
             ],
             [
              0.8888888888888888,
              "#fdca26"
             ],
             [
              1,
              "#f0f921"
             ]
            ],
            "type": "heatmapgl"
           }
          ],
          "histogram": [
           {
            "marker": {
             "pattern": {
              "fillmode": "overlay",
              "size": 10,
              "solidity": 0.2
             }
            },
            "type": "histogram"
           }
          ],
          "histogram2d": [
           {
            "colorbar": {
             "outlinewidth": 0,
             "ticks": ""
            },
            "colorscale": [
             [
              0,
              "#0d0887"
             ],
             [
              0.1111111111111111,
              "#46039f"
             ],
             [
              0.2222222222222222,
              "#7201a8"
             ],
             [
              0.3333333333333333,
              "#9c179e"
             ],
             [
              0.4444444444444444,
              "#bd3786"
             ],
             [
              0.5555555555555556,
              "#d8576b"
             ],
             [
              0.6666666666666666,
              "#ed7953"
             ],
             [
              0.7777777777777778,
              "#fb9f3a"
             ],
             [
              0.8888888888888888,
              "#fdca26"
             ],
             [
              1,
              "#f0f921"
             ]
            ],
            "type": "histogram2d"
           }
          ],
          "histogram2dcontour": [
           {
            "colorbar": {
             "outlinewidth": 0,
             "ticks": ""
            },
            "colorscale": [
             [
              0,
              "#0d0887"
             ],
             [
              0.1111111111111111,
              "#46039f"
             ],
             [
              0.2222222222222222,
              "#7201a8"
             ],
             [
              0.3333333333333333,
              "#9c179e"
             ],
             [
              0.4444444444444444,
              "#bd3786"
             ],
             [
              0.5555555555555556,
              "#d8576b"
             ],
             [
              0.6666666666666666,
              "#ed7953"
             ],
             [
              0.7777777777777778,
              "#fb9f3a"
             ],
             [
              0.8888888888888888,
              "#fdca26"
             ],
             [
              1,
              "#f0f921"
             ]
            ],
            "type": "histogram2dcontour"
           }
          ],
          "mesh3d": [
           {
            "colorbar": {
             "outlinewidth": 0,
             "ticks": ""
            },
            "type": "mesh3d"
           }
          ],
          "parcoords": [
           {
            "line": {
             "colorbar": {
              "outlinewidth": 0,
              "ticks": ""
             }
            },
            "type": "parcoords"
           }
          ],
          "pie": [
           {
            "automargin": true,
            "type": "pie"
           }
          ],
          "scatter": [
           {
            "fillpattern": {
             "fillmode": "overlay",
             "size": 10,
             "solidity": 0.2
            },
            "type": "scatter"
           }
          ],
          "scatter3d": [
           {
            "line": {
             "colorbar": {
              "outlinewidth": 0,
              "ticks": ""
             }
            },
            "marker": {
             "colorbar": {
              "outlinewidth": 0,
              "ticks": ""
             }
            },
            "type": "scatter3d"
           }
          ],
          "scattercarpet": [
           {
            "marker": {
             "colorbar": {
              "outlinewidth": 0,
              "ticks": ""
             }
            },
            "type": "scattercarpet"
           }
          ],
          "scattergeo": [
           {
            "marker": {
             "colorbar": {
              "outlinewidth": 0,
              "ticks": ""
             }
            },
            "type": "scattergeo"
           }
          ],
          "scattergl": [
           {
            "marker": {
             "colorbar": {
              "outlinewidth": 0,
              "ticks": ""
             }
            },
            "type": "scattergl"
           }
          ],
          "scattermapbox": [
           {
            "marker": {
             "colorbar": {
              "outlinewidth": 0,
              "ticks": ""
             }
            },
            "type": "scattermapbox"
           }
          ],
          "scatterpolar": [
           {
            "marker": {
             "colorbar": {
              "outlinewidth": 0,
              "ticks": ""
             }
            },
            "type": "scatterpolar"
           }
          ],
          "scatterpolargl": [
           {
            "marker": {
             "colorbar": {
              "outlinewidth": 0,
              "ticks": ""
             }
            },
            "type": "scatterpolargl"
           }
          ],
          "scatterternary": [
           {
            "marker": {
             "colorbar": {
              "outlinewidth": 0,
              "ticks": ""
             }
            },
            "type": "scatterternary"
           }
          ],
          "surface": [
           {
            "colorbar": {
             "outlinewidth": 0,
             "ticks": ""
            },
            "colorscale": [
             [
              0,
              "#0d0887"
             ],
             [
              0.1111111111111111,
              "#46039f"
             ],
             [
              0.2222222222222222,
              "#7201a8"
             ],
             [
              0.3333333333333333,
              "#9c179e"
             ],
             [
              0.4444444444444444,
              "#bd3786"
             ],
             [
              0.5555555555555556,
              "#d8576b"
             ],
             [
              0.6666666666666666,
              "#ed7953"
             ],
             [
              0.7777777777777778,
              "#fb9f3a"
             ],
             [
              0.8888888888888888,
              "#fdca26"
             ],
             [
              1,
              "#f0f921"
             ]
            ],
            "type": "surface"
           }
          ],
          "table": [
           {
            "cells": {
             "fill": {
              "color": "#EBF0F8"
             },
             "line": {
              "color": "white"
             }
            },
            "header": {
             "fill": {
              "color": "#C8D4E3"
             },
             "line": {
              "color": "white"
             }
            },
            "type": "table"
           }
          ]
         },
         "layout": {
          "annotationdefaults": {
           "arrowcolor": "#2a3f5f",
           "arrowhead": 0,
           "arrowwidth": 1
          },
          "autotypenumbers": "strict",
          "coloraxis": {
           "colorbar": {
            "outlinewidth": 0,
            "ticks": ""
           }
          },
          "colorscale": {
           "diverging": [
            [
             0,
             "#8e0152"
            ],
            [
             0.1,
             "#c51b7d"
            ],
            [
             0.2,
             "#de77ae"
            ],
            [
             0.3,
             "#f1b6da"
            ],
            [
             0.4,
             "#fde0ef"
            ],
            [
             0.5,
             "#f7f7f7"
            ],
            [
             0.6,
             "#e6f5d0"
            ],
            [
             0.7,
             "#b8e186"
            ],
            [
             0.8,
             "#7fbc41"
            ],
            [
             0.9,
             "#4d9221"
            ],
            [
             1,
             "#276419"
            ]
           ],
           "sequential": [
            [
             0,
             "#0d0887"
            ],
            [
             0.1111111111111111,
             "#46039f"
            ],
            [
             0.2222222222222222,
             "#7201a8"
            ],
            [
             0.3333333333333333,
             "#9c179e"
            ],
            [
             0.4444444444444444,
             "#bd3786"
            ],
            [
             0.5555555555555556,
             "#d8576b"
            ],
            [
             0.6666666666666666,
             "#ed7953"
            ],
            [
             0.7777777777777778,
             "#fb9f3a"
            ],
            [
             0.8888888888888888,
             "#fdca26"
            ],
            [
             1,
             "#f0f921"
            ]
           ],
           "sequentialminus": [
            [
             0,
             "#0d0887"
            ],
            [
             0.1111111111111111,
             "#46039f"
            ],
            [
             0.2222222222222222,
             "#7201a8"
            ],
            [
             0.3333333333333333,
             "#9c179e"
            ],
            [
             0.4444444444444444,
             "#bd3786"
            ],
            [
             0.5555555555555556,
             "#d8576b"
            ],
            [
             0.6666666666666666,
             "#ed7953"
            ],
            [
             0.7777777777777778,
             "#fb9f3a"
            ],
            [
             0.8888888888888888,
             "#fdca26"
            ],
            [
             1,
             "#f0f921"
            ]
           ]
          },
          "colorway": [
           "#636efa",
           "#EF553B",
           "#00cc96",
           "#ab63fa",
           "#FFA15A",
           "#19d3f3",
           "#FF6692",
           "#B6E880",
           "#FF97FF",
           "#FECB52"
          ],
          "font": {
           "color": "#2a3f5f"
          },
          "geo": {
           "bgcolor": "white",
           "lakecolor": "white",
           "landcolor": "#E5ECF6",
           "showlakes": true,
           "showland": true,
           "subunitcolor": "white"
          },
          "hoverlabel": {
           "align": "left"
          },
          "hovermode": "closest",
          "mapbox": {
           "style": "light"
          },
          "paper_bgcolor": "white",
          "plot_bgcolor": "#E5ECF6",
          "polar": {
           "angularaxis": {
            "gridcolor": "white",
            "linecolor": "white",
            "ticks": ""
           },
           "bgcolor": "#E5ECF6",
           "radialaxis": {
            "gridcolor": "white",
            "linecolor": "white",
            "ticks": ""
           }
          },
          "scene": {
           "xaxis": {
            "backgroundcolor": "#E5ECF6",
            "gridcolor": "white",
            "gridwidth": 2,
            "linecolor": "white",
            "showbackground": true,
            "ticks": "",
            "zerolinecolor": "white"
           },
           "yaxis": {
            "backgroundcolor": "#E5ECF6",
            "gridcolor": "white",
            "gridwidth": 2,
            "linecolor": "white",
            "showbackground": true,
            "ticks": "",
            "zerolinecolor": "white"
           },
           "zaxis": {
            "backgroundcolor": "#E5ECF6",
            "gridcolor": "white",
            "gridwidth": 2,
            "linecolor": "white",
            "showbackground": true,
            "ticks": "",
            "zerolinecolor": "white"
           }
          },
          "shapedefaults": {
           "line": {
            "color": "#2a3f5f"
           }
          },
          "ternary": {
           "aaxis": {
            "gridcolor": "white",
            "linecolor": "white",
            "ticks": ""
           },
           "baxis": {
            "gridcolor": "white",
            "linecolor": "white",
            "ticks": ""
           },
           "bgcolor": "#E5ECF6",
           "caxis": {
            "gridcolor": "white",
            "linecolor": "white",
            "ticks": ""
           }
          },
          "title": {
           "x": 0.05
          },
          "xaxis": {
           "automargin": true,
           "gridcolor": "white",
           "linecolor": "white",
           "ticks": "",
           "title": {
            "standoff": 15
           },
           "zerolinecolor": "white",
           "zerolinewidth": 2
          },
          "yaxis": {
           "automargin": true,
           "gridcolor": "white",
           "linecolor": "white",
           "ticks": "",
           "title": {
            "standoff": 15
           },
           "zerolinecolor": "white",
           "zerolinewidth": 2
          }
         }
        },
        "width": 1000,
        "xaxis": {
         "dtick": 30,
         "tickfont": {
          "size": 40
         },
         "title": {
          "font": {
           "size": 40
          },
          "text": "alpha3 (deg)"
         }
        },
        "yaxis": {
         "dtick": 30,
         "tickfont": {
          "size": 40
         },
         "title": {
          "font": {
           "size": 40
          },
          "text": "alpha4 (deg)"
         }
        }
       }
      }
     },
     "metadata": {},
     "output_type": "display_data"
    },
    {
     "data": {
      "application/vnd.plotly.v1+json": {
       "config": {
        "plotlyServerURL": "https://plot.ly"
       },
       "data": [
        {
         "colorbar": {
          "tickfont": {
           "size": 40
          },
          "title": {
           "font": {
            "size": 40
           },
           "text": "yoshikawa"
          }
         },
         "type": "heatmap",
         "x": [
          0,
          15,
          30,
          45,
          60,
          75,
          90,
          105,
          120,
          135,
          150,
          165,
          180
         ],
         "y": [
          0,
          15,
          30,
          45,
          60,
          75,
          90,
          105,
          120,
          135,
          150,
          165,
          180
         ],
         "z": [
          [
           0.004423028289897083,
           0.005935979380396376,
           0.006245270991477546,
           0.005911916619501242,
           0.005648726210622863,
           0.005986023171195224,
           0.006811557878574632,
           0.007062922352336709,
           0.004646847168459446,
           0.004301787301063265,
           0.005354977637701389,
           0.0063823351699558144,
           0.004403844666899033
          ],
          [
           0.005024900474535296,
           0.006362034368267912,
           0.006317347030146848,
           0.006212822279961883,
           0.005886566515560618,
           0.006186171139168212,
           0.005830941424375524,
           0.00499718349796078,
           0.0062018412323334975,
           0.005162662177557023,
           0.007181229006271423,
           0.0053986792817248466,
           0.00540487653111303
          ],
          [
           0.005568919034744953,
           0.00805444323991273,
           0.006825976526070012,
           0.005635661538515251,
           0.005987766520836443,
           0.004837105729209973,
           0.006011530129504629,
           0.0060222797054680175,
           0.0059375207640686226,
           0.006469009209295777,
           0.005839842133591494,
           0.006236386747974605,
           0.00724835764061122
          ],
          [
           0.005692014201100028,
           0.0072256817537417455,
           0.006171607208400374,
           0.006499684959137569,
           0.00489515142457645,
           0.00529922280530101,
           0.005474550308396698,
           0.00392955872917544,
           0.0055656438152266825,
           0.006378784089549401,
           0.0060517917303165745,
           0.005795429113637589,
           0.007664724930696562
          ],
          [
           0.0074535529576746674,
           0.005952697747014925,
           0.006395489537374504,
           0.006944013606389465,
           0.0046538803088897445,
           0.005806247418929826,
           0.003300862592759725,
           0.004776096727653567,
           0.004256020830599096,
           0.00602408806221977,
           0.005561307242977672,
           0.005880369424023465,
           0.006301362782161979
          ],
          [
           0.005802527331441661,
           0.006932454467450998,
           0.0056513641700279265,
           0.006071397005672914,
           0.004955313713443628,
           0.0059500511846671805,
           0.004809331476525008,
           0.004402826250001629,
           0.005441728566210789,
           0.004847155987067221,
           0.006475115064496167,
           0.00708355491775644,
           0.006219376581671324
          ],
          [
           0.007165650352595153,
           0.007608115710939168,
           0.006260172844539443,
           0.004680964362362507,
           0.004587250515535484,
           0.004692319230064553,
           0.00450627638042232,
           0.005079398015437987,
           0.0038185943549632773,
           0.005275850647740754,
           0.006338497163921361,
           0.005937959189510187,
           0.006492060959241928
          ],
          [
           0.006085534368748668,
           0.005599541531022375,
           0.005467444108855888,
           0.003926839596918523,
           0.004696059464280809,
           0.005442731387278305,
           0.0035063898370539365,
           0.005653945159634888,
           0.005614118492161008,
           0.004568295602306334,
           0.005858264669014331,
           0.0063699529279596205,
           0.006151016372110758
          ],
          [
           0.0060471901655018995,
           0.0069422006322338425,
           0.005288607831294579,
           0.0039048719837536396,
           0.004839100270923957,
           0.005085368358850935,
           0.005226345099640525,
           0.0044637901595725275,
           0.005932824416429446,
           0.005863628729372648,
           0.006467469695330554,
           0.005753472904052265,
           0.006709310229997327
          ],
          [
           0.006498980991055826,
           0.005948019492813925,
           0.00639559893903876,
           0.006010912816747365,
           0.005267572017858808,
           0.004084550223762562,
           0.0052907325015736,
           0.0048529344044223495,
           0.006324397852727545,
           0.006026909340748635,
           0.005162716930107216,
           0.006566515428544845,
           0.005344944728602628
          ],
          [
           0.006713812899422303,
           0.006645628512422701,
           0.006482423709350367,
           0.005647816085338711,
           0.005995759767271671,
           0.004948281510479189,
           0.00440550675440622,
           0.005909971377540174,
           0.006486173084232978,
           0.007104464988363193,
           0.007181657053009128,
           0.005951872696698432,
           0.007406686703573016
          ],
          [
           0.006443449459844158,
           0.006273042280051095,
           0.007178657027587016,
           0.005358352785260969,
           0.006792059149101944,
           0.006752038510177841,
           0.004762840447466944,
           0.006509346920598187,
           0.006099748219561355,
           0.004419908568890679,
           0.0065399187831863695,
           0.006091172863012374,
           0.006241820713765307
          ],
          [
           0.004677443739898577,
           0.006129310813475882,
           0.006159448140389706,
           0.005547607976723144,
           0.005435223901351292,
           0.006189722652756418,
           0.0050097197290289875,
           0.0055629956239371045,
           0.0052742459720187445,
           0.007338914500113889,
           0.006005644494863312,
           0.005563250475381513,
           0.005333509349812725
          ]
         ]
        }
       ],
       "layout": {
        "autosize": true,
        "height": 800,
        "template": {
         "data": {
          "bar": [
           {
            "error_x": {
             "color": "#2a3f5f"
            },
            "error_y": {
             "color": "#2a3f5f"
            },
            "marker": {
             "line": {
              "color": "#E5ECF6",
              "width": 0.5
             },
             "pattern": {
              "fillmode": "overlay",
              "size": 10,
              "solidity": 0.2
             }
            },
            "type": "bar"
           }
          ],
          "barpolar": [
           {
            "marker": {
             "line": {
              "color": "#E5ECF6",
              "width": 0.5
             },
             "pattern": {
              "fillmode": "overlay",
              "size": 10,
              "solidity": 0.2
             }
            },
            "type": "barpolar"
           }
          ],
          "carpet": [
           {
            "aaxis": {
             "endlinecolor": "#2a3f5f",
             "gridcolor": "white",
             "linecolor": "white",
             "minorgridcolor": "white",
             "startlinecolor": "#2a3f5f"
            },
            "baxis": {
             "endlinecolor": "#2a3f5f",
             "gridcolor": "white",
             "linecolor": "white",
             "minorgridcolor": "white",
             "startlinecolor": "#2a3f5f"
            },
            "type": "carpet"
           }
          ],
          "choropleth": [
           {
            "colorbar": {
             "outlinewidth": 0,
             "ticks": ""
            },
            "type": "choropleth"
           }
          ],
          "contour": [
           {
            "colorbar": {
             "outlinewidth": 0,
             "ticks": ""
            },
            "colorscale": [
             [
              0,
              "#0d0887"
             ],
             [
              0.1111111111111111,
              "#46039f"
             ],
             [
              0.2222222222222222,
              "#7201a8"
             ],
             [
              0.3333333333333333,
              "#9c179e"
             ],
             [
              0.4444444444444444,
              "#bd3786"
             ],
             [
              0.5555555555555556,
              "#d8576b"
             ],
             [
              0.6666666666666666,
              "#ed7953"
             ],
             [
              0.7777777777777778,
              "#fb9f3a"
             ],
             [
              0.8888888888888888,
              "#fdca26"
             ],
             [
              1,
              "#f0f921"
             ]
            ],
            "type": "contour"
           }
          ],
          "contourcarpet": [
           {
            "colorbar": {
             "outlinewidth": 0,
             "ticks": ""
            },
            "type": "contourcarpet"
           }
          ],
          "heatmap": [
           {
            "colorbar": {
             "outlinewidth": 0,
             "ticks": ""
            },
            "colorscale": [
             [
              0,
              "#0d0887"
             ],
             [
              0.1111111111111111,
              "#46039f"
             ],
             [
              0.2222222222222222,
              "#7201a8"
             ],
             [
              0.3333333333333333,
              "#9c179e"
             ],
             [
              0.4444444444444444,
              "#bd3786"
             ],
             [
              0.5555555555555556,
              "#d8576b"
             ],
             [
              0.6666666666666666,
              "#ed7953"
             ],
             [
              0.7777777777777778,
              "#fb9f3a"
             ],
             [
              0.8888888888888888,
              "#fdca26"
             ],
             [
              1,
              "#f0f921"
             ]
            ],
            "type": "heatmap"
           }
          ],
          "heatmapgl": [
           {
            "colorbar": {
             "outlinewidth": 0,
             "ticks": ""
            },
            "colorscale": [
             [
              0,
              "#0d0887"
             ],
             [
              0.1111111111111111,
              "#46039f"
             ],
             [
              0.2222222222222222,
              "#7201a8"
             ],
             [
              0.3333333333333333,
              "#9c179e"
             ],
             [
              0.4444444444444444,
              "#bd3786"
             ],
             [
              0.5555555555555556,
              "#d8576b"
             ],
             [
              0.6666666666666666,
              "#ed7953"
             ],
             [
              0.7777777777777778,
              "#fb9f3a"
             ],
             [
              0.8888888888888888,
              "#fdca26"
             ],
             [
              1,
              "#f0f921"
             ]
            ],
            "type": "heatmapgl"
           }
          ],
          "histogram": [
           {
            "marker": {
             "pattern": {
              "fillmode": "overlay",
              "size": 10,
              "solidity": 0.2
             }
            },
            "type": "histogram"
           }
          ],
          "histogram2d": [
           {
            "colorbar": {
             "outlinewidth": 0,
             "ticks": ""
            },
            "colorscale": [
             [
              0,
              "#0d0887"
             ],
             [
              0.1111111111111111,
              "#46039f"
             ],
             [
              0.2222222222222222,
              "#7201a8"
             ],
             [
              0.3333333333333333,
              "#9c179e"
             ],
             [
              0.4444444444444444,
              "#bd3786"
             ],
             [
              0.5555555555555556,
              "#d8576b"
             ],
             [
              0.6666666666666666,
              "#ed7953"
             ],
             [
              0.7777777777777778,
              "#fb9f3a"
             ],
             [
              0.8888888888888888,
              "#fdca26"
             ],
             [
              1,
              "#f0f921"
             ]
            ],
            "type": "histogram2d"
           }
          ],
          "histogram2dcontour": [
           {
            "colorbar": {
             "outlinewidth": 0,
             "ticks": ""
            },
            "colorscale": [
             [
              0,
              "#0d0887"
             ],
             [
              0.1111111111111111,
              "#46039f"
             ],
             [
              0.2222222222222222,
              "#7201a8"
             ],
             [
              0.3333333333333333,
              "#9c179e"
             ],
             [
              0.4444444444444444,
              "#bd3786"
             ],
             [
              0.5555555555555556,
              "#d8576b"
             ],
             [
              0.6666666666666666,
              "#ed7953"
             ],
             [
              0.7777777777777778,
              "#fb9f3a"
             ],
             [
              0.8888888888888888,
              "#fdca26"
             ],
             [
              1,
              "#f0f921"
             ]
            ],
            "type": "histogram2dcontour"
           }
          ],
          "mesh3d": [
           {
            "colorbar": {
             "outlinewidth": 0,
             "ticks": ""
            },
            "type": "mesh3d"
           }
          ],
          "parcoords": [
           {
            "line": {
             "colorbar": {
              "outlinewidth": 0,
              "ticks": ""
             }
            },
            "type": "parcoords"
           }
          ],
          "pie": [
           {
            "automargin": true,
            "type": "pie"
           }
          ],
          "scatter": [
           {
            "fillpattern": {
             "fillmode": "overlay",
             "size": 10,
             "solidity": 0.2
            },
            "type": "scatter"
           }
          ],
          "scatter3d": [
           {
            "line": {
             "colorbar": {
              "outlinewidth": 0,
              "ticks": ""
             }
            },
            "marker": {
             "colorbar": {
              "outlinewidth": 0,
              "ticks": ""
             }
            },
            "type": "scatter3d"
           }
          ],
          "scattercarpet": [
           {
            "marker": {
             "colorbar": {
              "outlinewidth": 0,
              "ticks": ""
             }
            },
            "type": "scattercarpet"
           }
          ],
          "scattergeo": [
           {
            "marker": {
             "colorbar": {
              "outlinewidth": 0,
              "ticks": ""
             }
            },
            "type": "scattergeo"
           }
          ],
          "scattergl": [
           {
            "marker": {
             "colorbar": {
              "outlinewidth": 0,
              "ticks": ""
             }
            },
            "type": "scattergl"
           }
          ],
          "scattermapbox": [
           {
            "marker": {
             "colorbar": {
              "outlinewidth": 0,
              "ticks": ""
             }
            },
            "type": "scattermapbox"
           }
          ],
          "scatterpolar": [
           {
            "marker": {
             "colorbar": {
              "outlinewidth": 0,
              "ticks": ""
             }
            },
            "type": "scatterpolar"
           }
          ],
          "scatterpolargl": [
           {
            "marker": {
             "colorbar": {
              "outlinewidth": 0,
              "ticks": ""
             }
            },
            "type": "scatterpolargl"
           }
          ],
          "scatterternary": [
           {
            "marker": {
             "colorbar": {
              "outlinewidth": 0,
              "ticks": ""
             }
            },
            "type": "scatterternary"
           }
          ],
          "surface": [
           {
            "colorbar": {
             "outlinewidth": 0,
             "ticks": ""
            },
            "colorscale": [
             [
              0,
              "#0d0887"
             ],
             [
              0.1111111111111111,
              "#46039f"
             ],
             [
              0.2222222222222222,
              "#7201a8"
             ],
             [
              0.3333333333333333,
              "#9c179e"
             ],
             [
              0.4444444444444444,
              "#bd3786"
             ],
             [
              0.5555555555555556,
              "#d8576b"
             ],
             [
              0.6666666666666666,
              "#ed7953"
             ],
             [
              0.7777777777777778,
              "#fb9f3a"
             ],
             [
              0.8888888888888888,
              "#fdca26"
             ],
             [
              1,
              "#f0f921"
             ]
            ],
            "type": "surface"
           }
          ],
          "table": [
           {
            "cells": {
             "fill": {
              "color": "#EBF0F8"
             },
             "line": {
              "color": "white"
             }
            },
            "header": {
             "fill": {
              "color": "#C8D4E3"
             },
             "line": {
              "color": "white"
             }
            },
            "type": "table"
           }
          ]
         },
         "layout": {
          "annotationdefaults": {
           "arrowcolor": "#2a3f5f",
           "arrowhead": 0,
           "arrowwidth": 1
          },
          "autotypenumbers": "strict",
          "coloraxis": {
           "colorbar": {
            "outlinewidth": 0,
            "ticks": ""
           }
          },
          "colorscale": {
           "diverging": [
            [
             0,
             "#8e0152"
            ],
            [
             0.1,
             "#c51b7d"
            ],
            [
             0.2,
             "#de77ae"
            ],
            [
             0.3,
             "#f1b6da"
            ],
            [
             0.4,
             "#fde0ef"
            ],
            [
             0.5,
             "#f7f7f7"
            ],
            [
             0.6,
             "#e6f5d0"
            ],
            [
             0.7,
             "#b8e186"
            ],
            [
             0.8,
             "#7fbc41"
            ],
            [
             0.9,
             "#4d9221"
            ],
            [
             1,
             "#276419"
            ]
           ],
           "sequential": [
            [
             0,
             "#0d0887"
            ],
            [
             0.1111111111111111,
             "#46039f"
            ],
            [
             0.2222222222222222,
             "#7201a8"
            ],
            [
             0.3333333333333333,
             "#9c179e"
            ],
            [
             0.4444444444444444,
             "#bd3786"
            ],
            [
             0.5555555555555556,
             "#d8576b"
            ],
            [
             0.6666666666666666,
             "#ed7953"
            ],
            [
             0.7777777777777778,
             "#fb9f3a"
            ],
            [
             0.8888888888888888,
             "#fdca26"
            ],
            [
             1,
             "#f0f921"
            ]
           ],
           "sequentialminus": [
            [
             0,
             "#0d0887"
            ],
            [
             0.1111111111111111,
             "#46039f"
            ],
            [
             0.2222222222222222,
             "#7201a8"
            ],
            [
             0.3333333333333333,
             "#9c179e"
            ],
            [
             0.4444444444444444,
             "#bd3786"
            ],
            [
             0.5555555555555556,
             "#d8576b"
            ],
            [
             0.6666666666666666,
             "#ed7953"
            ],
            [
             0.7777777777777778,
             "#fb9f3a"
            ],
            [
             0.8888888888888888,
             "#fdca26"
            ],
            [
             1,
             "#f0f921"
            ]
           ]
          },
          "colorway": [
           "#636efa",
           "#EF553B",
           "#00cc96",
           "#ab63fa",
           "#FFA15A",
           "#19d3f3",
           "#FF6692",
           "#B6E880",
           "#FF97FF",
           "#FECB52"
          ],
          "font": {
           "color": "#2a3f5f"
          },
          "geo": {
           "bgcolor": "white",
           "lakecolor": "white",
           "landcolor": "#E5ECF6",
           "showlakes": true,
           "showland": true,
           "subunitcolor": "white"
          },
          "hoverlabel": {
           "align": "left"
          },
          "hovermode": "closest",
          "mapbox": {
           "style": "light"
          },
          "paper_bgcolor": "white",
          "plot_bgcolor": "#E5ECF6",
          "polar": {
           "angularaxis": {
            "gridcolor": "white",
            "linecolor": "white",
            "ticks": ""
           },
           "bgcolor": "#E5ECF6",
           "radialaxis": {
            "gridcolor": "white",
            "linecolor": "white",
            "ticks": ""
           }
          },
          "scene": {
           "xaxis": {
            "backgroundcolor": "#E5ECF6",
            "gridcolor": "white",
            "gridwidth": 2,
            "linecolor": "white",
            "showbackground": true,
            "ticks": "",
            "zerolinecolor": "white"
           },
           "yaxis": {
            "backgroundcolor": "#E5ECF6",
            "gridcolor": "white",
            "gridwidth": 2,
            "linecolor": "white",
            "showbackground": true,
            "ticks": "",
            "zerolinecolor": "white"
           },
           "zaxis": {
            "backgroundcolor": "#E5ECF6",
            "gridcolor": "white",
            "gridwidth": 2,
            "linecolor": "white",
            "showbackground": true,
            "ticks": "",
            "zerolinecolor": "white"
           }
          },
          "shapedefaults": {
           "line": {
            "color": "#2a3f5f"
           }
          },
          "ternary": {
           "aaxis": {
            "gridcolor": "white",
            "linecolor": "white",
            "ticks": ""
           },
           "baxis": {
            "gridcolor": "white",
            "linecolor": "white",
            "ticks": ""
           },
           "bgcolor": "#E5ECF6",
           "caxis": {
            "gridcolor": "white",
            "linecolor": "white",
            "ticks": ""
           }
          },
          "title": {
           "x": 0.05
          },
          "xaxis": {
           "automargin": true,
           "gridcolor": "white",
           "linecolor": "white",
           "ticks": "",
           "title": {
            "standoff": 15
           },
           "zerolinecolor": "white",
           "zerolinewidth": 2
          },
          "yaxis": {
           "automargin": true,
           "gridcolor": "white",
           "linecolor": "white",
           "ticks": "",
           "title": {
            "standoff": 15
           },
           "zerolinecolor": "white",
           "zerolinewidth": 2
          }
         }
        },
        "width": 1000,
        "xaxis": {
         "dtick": 30,
         "tickfont": {
          "size": 40
         },
         "title": {
          "font": {
           "size": 40
          },
          "text": "alpha3 (deg)"
         }
        },
        "yaxis": {
         "dtick": 30,
         "tickfont": {
          "size": 40
         },
         "title": {
          "font": {
           "size": 40
          },
          "text": "alpha4 (deg)"
         }
        }
       }
      }
     },
     "metadata": {},
     "output_type": "display_data"
    }
   ],
   "source": [
    "np.random.seed(42)\n",
    "\n",
    "# from 0, 10, 20, ..., 180 deg for alpha\n",
    "alpha_list_deg3 = np.arange(0, 181, 15)\n",
    "alpha_list_rad3 = np.deg2rad(alpha_list_deg3)\n",
    "alpha_list_deg4 = np.arange(0, 181, 15)\n",
    "alpha_list_rad4 = np.deg2rad(alpha_list_deg4)\n",
    "print(f\"alpha 3: {alpha_list_deg3}\")\n",
    "print(f\"alpha 4: {alpha_list_deg4}\")\n",
    "\n",
    "method = \"yoshikawa\"\n",
    "axes = \"all\"\n",
    "\n",
    "# isRun = True\n",
    "# isSave = True\n",
    "\n",
    "isSave = False\n",
    "isRun = False\n",
    "\n",
    "if isRun:\n",
    "    res, res_mat = evaluate_alpha_effect(\n",
    "        alpha_list_rad3, alpha_list_rad4, isSave=True, method=method, axes=axes\n",
    "    )\n",
    "if not isRun:\n",
    "    npzfile = np.load(f\"data/two_alpha/{method}_{axes}.npz\")\n",
    "    res = npzfile[\"results\"]\n",
    "    res_mat = npzfile[\"res_mat\"]\n",
    "plot_global_index_results(\n",
    "    alpha_list_deg3,\n",
    "    alpha_list_deg4,\n",
    "    res_mat,\n",
    "    plot_type=\"surface\",\n",
    "    method=method,\n",
    "    axes=axes,\n",
    "    isSave=isSave,\n",
    ")\n",
    "plot_global_index_results(\n",
    "    alpha_list_deg3,\n",
    "    alpha_list_deg4,\n",
    "    res_mat,\n",
    "    plot_type=\"heatmap\",\n",
    "    method=method,\n",
    "    axes=axes,\n",
    "    isSave=isSave,\n",
    ")"
   ]
  },
  {
   "cell_type": "code",
   "execution_count": null,
   "metadata": {},
   "outputs": [],
   "source": []
  },
  {
   "cell_type": "markdown",
   "metadata": {},
   "source": [
    "### Global Indice - Inverse Condition Number\n",
    "$$\\sigma_{\\text{min}}/\\sigma_{\\text{max}}$$"
   ]
  },
  {
   "cell_type": "code",
   "execution_count": 12,
   "metadata": {},
   "outputs": [
    {
     "name": "stdout",
     "output_type": "stream",
     "text": [
      "alpha 3: [  0  15  30  45  60  75  90 105 120 135 150 165 180]\n",
      "alpha 4: [  0  15  30  45  60  75  90 105 120 135 150 165 180]\n"
     ]
    },
    {
     "data": {
      "application/vnd.plotly.v1+json": {
       "config": {
        "plotlyServerURL": "https://plot.ly"
       },
       "data": [
        {
         "colorbar": {
          "tickfont": {
           "size": 40
          },
          "title": {
           "font": {
            "size": 40
           },
           "text": "invcondition"
          }
         },
         "type": "surface",
         "x": [
          0,
          15,
          30,
          45,
          60,
          75,
          90,
          105,
          120,
          135,
          150,
          165,
          180
         ],
         "y": [
          0,
          15,
          30,
          45,
          60,
          75,
          90,
          105,
          120,
          135,
          150,
          165,
          180
         ],
         "z": [
          [
           0.028093630891616855,
           0.034462769221385955,
           0.04105362644313003,
           0.044537423471543484,
           0.045700414993936976,
           0.046912027472916215,
           0.04745859341166766,
           0.04658144448708008,
           0.04624375614389199,
           0.04465540382180887,
           0.04068548811107526,
           0.03488193881936917,
           0.027659142027690407
          ],
          [
           0.034691066064066335,
           0.029058819895679128,
           0.03254945789713115,
           0.03625931295010972,
           0.038805418382184716,
           0.04061284514465613,
           0.040684612907695046,
           0.041654844738235164,
           0.0413620606522515,
           0.042032975663729676,
           0.04224831117150694,
           0.03737597823454215,
           0.03449131392297487
          ],
          [
           0.03961406624043834,
           0.03167245672946004,
           0.028787756380886,
           0.03085874542754414,
           0.031131276003274425,
           0.03255772164925492,
           0.031111471216878715,
           0.03211155420895441,
           0.03237065010058279,
           0.03251952511396911,
           0.0343891395395539,
           0.041698324233454015,
           0.03906936205222197
          ],
          [
           0.04309267000492619,
           0.035763643473332746,
           0.029940972643870488,
           0.02821812636834635,
           0.02853264129526924,
           0.028226806698638557,
           0.026981429545170642,
           0.028251220671589982,
           0.02781088327666023,
           0.02687386733149333,
           0.03277172444140551,
           0.03993577066455624,
           0.04209027245110211
          ],
          [
           0.042960558668529915,
           0.0390356675267785,
           0.031356207488145674,
           0.02955467023910605,
           0.02714125868327707,
           0.026066852673341592,
           0.02576170840183711,
           0.02585677062811499,
           0.027284235307986782,
           0.02863516898034554,
           0.03295928343654353,
           0.03982441304969261,
           0.042935480165836926
          ],
          [
           0.04237185160804528,
           0.04140111202990616,
           0.033478811229410155,
           0.029624063999616104,
           0.026686099824493745,
           0.025073705115677566,
           0.024427494019580307,
           0.025827696662550133,
           0.02648765328345746,
           0.029020599865183044,
           0.03396275222663511,
           0.03986146572770584,
           0.04310274266396698
          ],
          [
           0.04210098968741735,
           0.04030464218190192,
           0.03334795617031679,
           0.030026518221185263,
           0.02742910059238445,
           0.024499627549307377,
           0.023588764458210728,
           0.0247049188531844,
           0.027036200010960926,
           0.03021418100696574,
           0.034396787349552996,
           0.04024384012192909,
           0.042349498348085796
          ],
          [
           0.04266188850448905,
           0.040049330466699264,
           0.03401917076372162,
           0.02855154823222714,
           0.0267576077961686,
           0.025240720657862113,
           0.0242854921487863,
           0.024512981123396203,
           0.026704091260328255,
           0.029216910942580162,
           0.03242479440523987,
           0.04062159162862169,
           0.042563895612864805
          ],
          [
           0.04283828080681302,
           0.039404114633871556,
           0.03277435873745584,
           0.028605083306957903,
           0.027101359035573643,
           0.026028071766907888,
           0.0260752266170885,
           0.025797688981792476,
           0.027000574345133085,
           0.029013808409801976,
           0.030582655384727805,
           0.03879671849028855,
           0.042788978901302954
          ],
          [
           0.042493375973241806,
           0.04018135479190226,
           0.032348636787490774,
           0.02723221235630068,
           0.027871583291833923,
           0.027978657753092842,
           0.027807179630040195,
           0.027898527567672204,
           0.028836242160516834,
           0.028541656471393367,
           0.02897579510665978,
           0.035996054195715874,
           0.04180767993397276
          ],
          [
           0.04049832449529407,
           0.04179074363979748,
           0.03473811026668247,
           0.03266811681896057,
           0.03289902779122994,
           0.03290621606676981,
           0.032104206124324616,
           0.03216161208460638,
           0.03322502752759598,
           0.02960113368147626,
           0.02822834682394766,
           0.03181703145480263,
           0.03993698128906199
          ],
          [
           0.033955656113206355,
           0.03746039124075195,
           0.042880933376096574,
           0.04188366138031621,
           0.04165816982569605,
           0.041425855703130315,
           0.041632075943307124,
           0.04067721177983524,
           0.039964470892589594,
           0.03695181427115529,
           0.0325866796734024,
           0.02878461456557453,
           0.03405895787242098
          ],
          [
           0.02825924222031725,
           0.0338245343535889,
           0.040394344919963764,
           0.043730962575234164,
           0.045642019566719635,
           0.04622445443403884,
           0.047803678706778485,
           0.04684458657368746,
           0.04566981359367706,
           0.04382884599995062,
           0.04107639290890493,
           0.034503790843399336,
           0.0283468633631107
          ]
         ]
        }
       ],
       "layout": {
        "autosize": true,
        "height": 800,
        "scene": {
         "camera": {
          "eye": {
           "x": 1.55,
           "y": 1.55,
           "z": 1.55
          },
          "up": {
           "x": 0,
           "y": 0,
           "z": 1
          }
         },
         "xaxis": {
          "dtick": 90,
          "tickfont": {
           "size": 16
          },
          "title": {
           "font": {
            "size": 40
           },
           "text": "alpha3 (deg)"
          }
         },
         "yaxis": {
          "dtick": 90,
          "tickfont": {
           "size": 16
          },
          "title": {
           "font": {
            "size": 40
           },
           "text": "alpha4 (deg)"
          }
         },
         "zaxis": {
          "dtick": 90,
          "tickfont": {
           "size": 16
          },
          "title": {
           "font": {
            "size": 40
           },
           "text": ""
          }
         }
        },
        "template": {
         "data": {
          "bar": [
           {
            "error_x": {
             "color": "#2a3f5f"
            },
            "error_y": {
             "color": "#2a3f5f"
            },
            "marker": {
             "line": {
              "color": "#E5ECF6",
              "width": 0.5
             },
             "pattern": {
              "fillmode": "overlay",
              "size": 10,
              "solidity": 0.2
             }
            },
            "type": "bar"
           }
          ],
          "barpolar": [
           {
            "marker": {
             "line": {
              "color": "#E5ECF6",
              "width": 0.5
             },
             "pattern": {
              "fillmode": "overlay",
              "size": 10,
              "solidity": 0.2
             }
            },
            "type": "barpolar"
           }
          ],
          "carpet": [
           {
            "aaxis": {
             "endlinecolor": "#2a3f5f",
             "gridcolor": "white",
             "linecolor": "white",
             "minorgridcolor": "white",
             "startlinecolor": "#2a3f5f"
            },
            "baxis": {
             "endlinecolor": "#2a3f5f",
             "gridcolor": "white",
             "linecolor": "white",
             "minorgridcolor": "white",
             "startlinecolor": "#2a3f5f"
            },
            "type": "carpet"
           }
          ],
          "choropleth": [
           {
            "colorbar": {
             "outlinewidth": 0,
             "ticks": ""
            },
            "type": "choropleth"
           }
          ],
          "contour": [
           {
            "colorbar": {
             "outlinewidth": 0,
             "ticks": ""
            },
            "colorscale": [
             [
              0,
              "#0d0887"
             ],
             [
              0.1111111111111111,
              "#46039f"
             ],
             [
              0.2222222222222222,
              "#7201a8"
             ],
             [
              0.3333333333333333,
              "#9c179e"
             ],
             [
              0.4444444444444444,
              "#bd3786"
             ],
             [
              0.5555555555555556,
              "#d8576b"
             ],
             [
              0.6666666666666666,
              "#ed7953"
             ],
             [
              0.7777777777777778,
              "#fb9f3a"
             ],
             [
              0.8888888888888888,
              "#fdca26"
             ],
             [
              1,
              "#f0f921"
             ]
            ],
            "type": "contour"
           }
          ],
          "contourcarpet": [
           {
            "colorbar": {
             "outlinewidth": 0,
             "ticks": ""
            },
            "type": "contourcarpet"
           }
          ],
          "heatmap": [
           {
            "colorbar": {
             "outlinewidth": 0,
             "ticks": ""
            },
            "colorscale": [
             [
              0,
              "#0d0887"
             ],
             [
              0.1111111111111111,
              "#46039f"
             ],
             [
              0.2222222222222222,
              "#7201a8"
             ],
             [
              0.3333333333333333,
              "#9c179e"
             ],
             [
              0.4444444444444444,
              "#bd3786"
             ],
             [
              0.5555555555555556,
              "#d8576b"
             ],
             [
              0.6666666666666666,
              "#ed7953"
             ],
             [
              0.7777777777777778,
              "#fb9f3a"
             ],
             [
              0.8888888888888888,
              "#fdca26"
             ],
             [
              1,
              "#f0f921"
             ]
            ],
            "type": "heatmap"
           }
          ],
          "heatmapgl": [
           {
            "colorbar": {
             "outlinewidth": 0,
             "ticks": ""
            },
            "colorscale": [
             [
              0,
              "#0d0887"
             ],
             [
              0.1111111111111111,
              "#46039f"
             ],
             [
              0.2222222222222222,
              "#7201a8"
             ],
             [
              0.3333333333333333,
              "#9c179e"
             ],
             [
              0.4444444444444444,
              "#bd3786"
             ],
             [
              0.5555555555555556,
              "#d8576b"
             ],
             [
              0.6666666666666666,
              "#ed7953"
             ],
             [
              0.7777777777777778,
              "#fb9f3a"
             ],
             [
              0.8888888888888888,
              "#fdca26"
             ],
             [
              1,
              "#f0f921"
             ]
            ],
            "type": "heatmapgl"
           }
          ],
          "histogram": [
           {
            "marker": {
             "pattern": {
              "fillmode": "overlay",
              "size": 10,
              "solidity": 0.2
             }
            },
            "type": "histogram"
           }
          ],
          "histogram2d": [
           {
            "colorbar": {
             "outlinewidth": 0,
             "ticks": ""
            },
            "colorscale": [
             [
              0,
              "#0d0887"
             ],
             [
              0.1111111111111111,
              "#46039f"
             ],
             [
              0.2222222222222222,
              "#7201a8"
             ],
             [
              0.3333333333333333,
              "#9c179e"
             ],
             [
              0.4444444444444444,
              "#bd3786"
             ],
             [
              0.5555555555555556,
              "#d8576b"
             ],
             [
              0.6666666666666666,
              "#ed7953"
             ],
             [
              0.7777777777777778,
              "#fb9f3a"
             ],
             [
              0.8888888888888888,
              "#fdca26"
             ],
             [
              1,
              "#f0f921"
             ]
            ],
            "type": "histogram2d"
           }
          ],
          "histogram2dcontour": [
           {
            "colorbar": {
             "outlinewidth": 0,
             "ticks": ""
            },
            "colorscale": [
             [
              0,
              "#0d0887"
             ],
             [
              0.1111111111111111,
              "#46039f"
             ],
             [
              0.2222222222222222,
              "#7201a8"
             ],
             [
              0.3333333333333333,
              "#9c179e"
             ],
             [
              0.4444444444444444,
              "#bd3786"
             ],
             [
              0.5555555555555556,
              "#d8576b"
             ],
             [
              0.6666666666666666,
              "#ed7953"
             ],
             [
              0.7777777777777778,
              "#fb9f3a"
             ],
             [
              0.8888888888888888,
              "#fdca26"
             ],
             [
              1,
              "#f0f921"
             ]
            ],
            "type": "histogram2dcontour"
           }
          ],
          "mesh3d": [
           {
            "colorbar": {
             "outlinewidth": 0,
             "ticks": ""
            },
            "type": "mesh3d"
           }
          ],
          "parcoords": [
           {
            "line": {
             "colorbar": {
              "outlinewidth": 0,
              "ticks": ""
             }
            },
            "type": "parcoords"
           }
          ],
          "pie": [
           {
            "automargin": true,
            "type": "pie"
           }
          ],
          "scatter": [
           {
            "fillpattern": {
             "fillmode": "overlay",
             "size": 10,
             "solidity": 0.2
            },
            "type": "scatter"
           }
          ],
          "scatter3d": [
           {
            "line": {
             "colorbar": {
              "outlinewidth": 0,
              "ticks": ""
             }
            },
            "marker": {
             "colorbar": {
              "outlinewidth": 0,
              "ticks": ""
             }
            },
            "type": "scatter3d"
           }
          ],
          "scattercarpet": [
           {
            "marker": {
             "colorbar": {
              "outlinewidth": 0,
              "ticks": ""
             }
            },
            "type": "scattercarpet"
           }
          ],
          "scattergeo": [
           {
            "marker": {
             "colorbar": {
              "outlinewidth": 0,
              "ticks": ""
             }
            },
            "type": "scattergeo"
           }
          ],
          "scattergl": [
           {
            "marker": {
             "colorbar": {
              "outlinewidth": 0,
              "ticks": ""
             }
            },
            "type": "scattergl"
           }
          ],
          "scattermapbox": [
           {
            "marker": {
             "colorbar": {
              "outlinewidth": 0,
              "ticks": ""
             }
            },
            "type": "scattermapbox"
           }
          ],
          "scatterpolar": [
           {
            "marker": {
             "colorbar": {
              "outlinewidth": 0,
              "ticks": ""
             }
            },
            "type": "scatterpolar"
           }
          ],
          "scatterpolargl": [
           {
            "marker": {
             "colorbar": {
              "outlinewidth": 0,
              "ticks": ""
             }
            },
            "type": "scatterpolargl"
           }
          ],
          "scatterternary": [
           {
            "marker": {
             "colorbar": {
              "outlinewidth": 0,
              "ticks": ""
             }
            },
            "type": "scatterternary"
           }
          ],
          "surface": [
           {
            "colorbar": {
             "outlinewidth": 0,
             "ticks": ""
            },
            "colorscale": [
             [
              0,
              "#0d0887"
             ],
             [
              0.1111111111111111,
              "#46039f"
             ],
             [
              0.2222222222222222,
              "#7201a8"
             ],
             [
              0.3333333333333333,
              "#9c179e"
             ],
             [
              0.4444444444444444,
              "#bd3786"
             ],
             [
              0.5555555555555556,
              "#d8576b"
             ],
             [
              0.6666666666666666,
              "#ed7953"
             ],
             [
              0.7777777777777778,
              "#fb9f3a"
             ],
             [
              0.8888888888888888,
              "#fdca26"
             ],
             [
              1,
              "#f0f921"
             ]
            ],
            "type": "surface"
           }
          ],
          "table": [
           {
            "cells": {
             "fill": {
              "color": "#EBF0F8"
             },
             "line": {
              "color": "white"
             }
            },
            "header": {
             "fill": {
              "color": "#C8D4E3"
             },
             "line": {
              "color": "white"
             }
            },
            "type": "table"
           }
          ]
         },
         "layout": {
          "annotationdefaults": {
           "arrowcolor": "#2a3f5f",
           "arrowhead": 0,
           "arrowwidth": 1
          },
          "autotypenumbers": "strict",
          "coloraxis": {
           "colorbar": {
            "outlinewidth": 0,
            "ticks": ""
           }
          },
          "colorscale": {
           "diverging": [
            [
             0,
             "#8e0152"
            ],
            [
             0.1,
             "#c51b7d"
            ],
            [
             0.2,
             "#de77ae"
            ],
            [
             0.3,
             "#f1b6da"
            ],
            [
             0.4,
             "#fde0ef"
            ],
            [
             0.5,
             "#f7f7f7"
            ],
            [
             0.6,
             "#e6f5d0"
            ],
            [
             0.7,
             "#b8e186"
            ],
            [
             0.8,
             "#7fbc41"
            ],
            [
             0.9,
             "#4d9221"
            ],
            [
             1,
             "#276419"
            ]
           ],
           "sequential": [
            [
             0,
             "#0d0887"
            ],
            [
             0.1111111111111111,
             "#46039f"
            ],
            [
             0.2222222222222222,
             "#7201a8"
            ],
            [
             0.3333333333333333,
             "#9c179e"
            ],
            [
             0.4444444444444444,
             "#bd3786"
            ],
            [
             0.5555555555555556,
             "#d8576b"
            ],
            [
             0.6666666666666666,
             "#ed7953"
            ],
            [
             0.7777777777777778,
             "#fb9f3a"
            ],
            [
             0.8888888888888888,
             "#fdca26"
            ],
            [
             1,
             "#f0f921"
            ]
           ],
           "sequentialminus": [
            [
             0,
             "#0d0887"
            ],
            [
             0.1111111111111111,
             "#46039f"
            ],
            [
             0.2222222222222222,
             "#7201a8"
            ],
            [
             0.3333333333333333,
             "#9c179e"
            ],
            [
             0.4444444444444444,
             "#bd3786"
            ],
            [
             0.5555555555555556,
             "#d8576b"
            ],
            [
             0.6666666666666666,
             "#ed7953"
            ],
            [
             0.7777777777777778,
             "#fb9f3a"
            ],
            [
             0.8888888888888888,
             "#fdca26"
            ],
            [
             1,
             "#f0f921"
            ]
           ]
          },
          "colorway": [
           "#636efa",
           "#EF553B",
           "#00cc96",
           "#ab63fa",
           "#FFA15A",
           "#19d3f3",
           "#FF6692",
           "#B6E880",
           "#FF97FF",
           "#FECB52"
          ],
          "font": {
           "color": "#2a3f5f"
          },
          "geo": {
           "bgcolor": "white",
           "lakecolor": "white",
           "landcolor": "#E5ECF6",
           "showlakes": true,
           "showland": true,
           "subunitcolor": "white"
          },
          "hoverlabel": {
           "align": "left"
          },
          "hovermode": "closest",
          "mapbox": {
           "style": "light"
          },
          "paper_bgcolor": "white",
          "plot_bgcolor": "#E5ECF6",
          "polar": {
           "angularaxis": {
            "gridcolor": "white",
            "linecolor": "white",
            "ticks": ""
           },
           "bgcolor": "#E5ECF6",
           "radialaxis": {
            "gridcolor": "white",
            "linecolor": "white",
            "ticks": ""
           }
          },
          "scene": {
           "xaxis": {
            "backgroundcolor": "#E5ECF6",
            "gridcolor": "white",
            "gridwidth": 2,
            "linecolor": "white",
            "showbackground": true,
            "ticks": "",
            "zerolinecolor": "white"
           },
           "yaxis": {
            "backgroundcolor": "#E5ECF6",
            "gridcolor": "white",
            "gridwidth": 2,
            "linecolor": "white",
            "showbackground": true,
            "ticks": "",
            "zerolinecolor": "white"
           },
           "zaxis": {
            "backgroundcolor": "#E5ECF6",
            "gridcolor": "white",
            "gridwidth": 2,
            "linecolor": "white",
            "showbackground": true,
            "ticks": "",
            "zerolinecolor": "white"
           }
          },
          "shapedefaults": {
           "line": {
            "color": "#2a3f5f"
           }
          },
          "ternary": {
           "aaxis": {
            "gridcolor": "white",
            "linecolor": "white",
            "ticks": ""
           },
           "baxis": {
            "gridcolor": "white",
            "linecolor": "white",
            "ticks": ""
           },
           "bgcolor": "#E5ECF6",
           "caxis": {
            "gridcolor": "white",
            "linecolor": "white",
            "ticks": ""
           }
          },
          "title": {
           "x": 0.05
          },
          "xaxis": {
           "automargin": true,
           "gridcolor": "white",
           "linecolor": "white",
           "ticks": "",
           "title": {
            "standoff": 15
           },
           "zerolinecolor": "white",
           "zerolinewidth": 2
          },
          "yaxis": {
           "automargin": true,
           "gridcolor": "white",
           "linecolor": "white",
           "ticks": "",
           "title": {
            "standoff": 15
           },
           "zerolinecolor": "white",
           "zerolinewidth": 2
          }
         }
        },
        "width": 1000,
        "xaxis": {
         "dtick": 30,
         "tickfont": {
          "size": 40
         },
         "title": {
          "font": {
           "size": 40
          },
          "text": "alpha3 (deg)"
         }
        },
        "yaxis": {
         "dtick": 30,
         "tickfont": {
          "size": 40
         },
         "title": {
          "font": {
           "size": 40
          },
          "text": "alpha4 (deg)"
         }
        }
       }
      }
     },
     "metadata": {},
     "output_type": "display_data"
    },
    {
     "data": {
      "application/vnd.plotly.v1+json": {
       "config": {
        "plotlyServerURL": "https://plot.ly"
       },
       "data": [
        {
         "colorbar": {
          "tickfont": {
           "size": 40
          },
          "title": {
           "font": {
            "size": 40
           },
           "text": "invcondition"
          }
         },
         "type": "heatmap",
         "x": [
          0,
          15,
          30,
          45,
          60,
          75,
          90,
          105,
          120,
          135,
          150,
          165,
          180
         ],
         "y": [
          0,
          15,
          30,
          45,
          60,
          75,
          90,
          105,
          120,
          135,
          150,
          165,
          180
         ],
         "z": [
          [
           0.028093630891616855,
           0.034462769221385955,
           0.04105362644313003,
           0.044537423471543484,
           0.045700414993936976,
           0.046912027472916215,
           0.04745859341166766,
           0.04658144448708008,
           0.04624375614389199,
           0.04465540382180887,
           0.04068548811107526,
           0.03488193881936917,
           0.027659142027690407
          ],
          [
           0.034691066064066335,
           0.029058819895679128,
           0.03254945789713115,
           0.03625931295010972,
           0.038805418382184716,
           0.04061284514465613,
           0.040684612907695046,
           0.041654844738235164,
           0.0413620606522515,
           0.042032975663729676,
           0.04224831117150694,
           0.03737597823454215,
           0.03449131392297487
          ],
          [
           0.03961406624043834,
           0.03167245672946004,
           0.028787756380886,
           0.03085874542754414,
           0.031131276003274425,
           0.03255772164925492,
           0.031111471216878715,
           0.03211155420895441,
           0.03237065010058279,
           0.03251952511396911,
           0.0343891395395539,
           0.041698324233454015,
           0.03906936205222197
          ],
          [
           0.04309267000492619,
           0.035763643473332746,
           0.029940972643870488,
           0.02821812636834635,
           0.02853264129526924,
           0.028226806698638557,
           0.026981429545170642,
           0.028251220671589982,
           0.02781088327666023,
           0.02687386733149333,
           0.03277172444140551,
           0.03993577066455624,
           0.04209027245110211
          ],
          [
           0.042960558668529915,
           0.0390356675267785,
           0.031356207488145674,
           0.02955467023910605,
           0.02714125868327707,
           0.026066852673341592,
           0.02576170840183711,
           0.02585677062811499,
           0.027284235307986782,
           0.02863516898034554,
           0.03295928343654353,
           0.03982441304969261,
           0.042935480165836926
          ],
          [
           0.04237185160804528,
           0.04140111202990616,
           0.033478811229410155,
           0.029624063999616104,
           0.026686099824493745,
           0.025073705115677566,
           0.024427494019580307,
           0.025827696662550133,
           0.02648765328345746,
           0.029020599865183044,
           0.03396275222663511,
           0.03986146572770584,
           0.04310274266396698
          ],
          [
           0.04210098968741735,
           0.04030464218190192,
           0.03334795617031679,
           0.030026518221185263,
           0.02742910059238445,
           0.024499627549307377,
           0.023588764458210728,
           0.0247049188531844,
           0.027036200010960926,
           0.03021418100696574,
           0.034396787349552996,
           0.04024384012192909,
           0.042349498348085796
          ],
          [
           0.04266188850448905,
           0.040049330466699264,
           0.03401917076372162,
           0.02855154823222714,
           0.0267576077961686,
           0.025240720657862113,
           0.0242854921487863,
           0.024512981123396203,
           0.026704091260328255,
           0.029216910942580162,
           0.03242479440523987,
           0.04062159162862169,
           0.042563895612864805
          ],
          [
           0.04283828080681302,
           0.039404114633871556,
           0.03277435873745584,
           0.028605083306957903,
           0.027101359035573643,
           0.026028071766907888,
           0.0260752266170885,
           0.025797688981792476,
           0.027000574345133085,
           0.029013808409801976,
           0.030582655384727805,
           0.03879671849028855,
           0.042788978901302954
          ],
          [
           0.042493375973241806,
           0.04018135479190226,
           0.032348636787490774,
           0.02723221235630068,
           0.027871583291833923,
           0.027978657753092842,
           0.027807179630040195,
           0.027898527567672204,
           0.028836242160516834,
           0.028541656471393367,
           0.02897579510665978,
           0.035996054195715874,
           0.04180767993397276
          ],
          [
           0.04049832449529407,
           0.04179074363979748,
           0.03473811026668247,
           0.03266811681896057,
           0.03289902779122994,
           0.03290621606676981,
           0.032104206124324616,
           0.03216161208460638,
           0.03322502752759598,
           0.02960113368147626,
           0.02822834682394766,
           0.03181703145480263,
           0.03993698128906199
          ],
          [
           0.033955656113206355,
           0.03746039124075195,
           0.042880933376096574,
           0.04188366138031621,
           0.04165816982569605,
           0.041425855703130315,
           0.041632075943307124,
           0.04067721177983524,
           0.039964470892589594,
           0.03695181427115529,
           0.0325866796734024,
           0.02878461456557453,
           0.03405895787242098
          ],
          [
           0.02825924222031725,
           0.0338245343535889,
           0.040394344919963764,
           0.043730962575234164,
           0.045642019566719635,
           0.04622445443403884,
           0.047803678706778485,
           0.04684458657368746,
           0.04566981359367706,
           0.04382884599995062,
           0.04107639290890493,
           0.034503790843399336,
           0.0283468633631107
          ]
         ]
        }
       ],
       "layout": {
        "autosize": true,
        "height": 800,
        "template": {
         "data": {
          "bar": [
           {
            "error_x": {
             "color": "#2a3f5f"
            },
            "error_y": {
             "color": "#2a3f5f"
            },
            "marker": {
             "line": {
              "color": "#E5ECF6",
              "width": 0.5
             },
             "pattern": {
              "fillmode": "overlay",
              "size": 10,
              "solidity": 0.2
             }
            },
            "type": "bar"
           }
          ],
          "barpolar": [
           {
            "marker": {
             "line": {
              "color": "#E5ECF6",
              "width": 0.5
             },
             "pattern": {
              "fillmode": "overlay",
              "size": 10,
              "solidity": 0.2
             }
            },
            "type": "barpolar"
           }
          ],
          "carpet": [
           {
            "aaxis": {
             "endlinecolor": "#2a3f5f",
             "gridcolor": "white",
             "linecolor": "white",
             "minorgridcolor": "white",
             "startlinecolor": "#2a3f5f"
            },
            "baxis": {
             "endlinecolor": "#2a3f5f",
             "gridcolor": "white",
             "linecolor": "white",
             "minorgridcolor": "white",
             "startlinecolor": "#2a3f5f"
            },
            "type": "carpet"
           }
          ],
          "choropleth": [
           {
            "colorbar": {
             "outlinewidth": 0,
             "ticks": ""
            },
            "type": "choropleth"
           }
          ],
          "contour": [
           {
            "colorbar": {
             "outlinewidth": 0,
             "ticks": ""
            },
            "colorscale": [
             [
              0,
              "#0d0887"
             ],
             [
              0.1111111111111111,
              "#46039f"
             ],
             [
              0.2222222222222222,
              "#7201a8"
             ],
             [
              0.3333333333333333,
              "#9c179e"
             ],
             [
              0.4444444444444444,
              "#bd3786"
             ],
             [
              0.5555555555555556,
              "#d8576b"
             ],
             [
              0.6666666666666666,
              "#ed7953"
             ],
             [
              0.7777777777777778,
              "#fb9f3a"
             ],
             [
              0.8888888888888888,
              "#fdca26"
             ],
             [
              1,
              "#f0f921"
             ]
            ],
            "type": "contour"
           }
          ],
          "contourcarpet": [
           {
            "colorbar": {
             "outlinewidth": 0,
             "ticks": ""
            },
            "type": "contourcarpet"
           }
          ],
          "heatmap": [
           {
            "colorbar": {
             "outlinewidth": 0,
             "ticks": ""
            },
            "colorscale": [
             [
              0,
              "#0d0887"
             ],
             [
              0.1111111111111111,
              "#46039f"
             ],
             [
              0.2222222222222222,
              "#7201a8"
             ],
             [
              0.3333333333333333,
              "#9c179e"
             ],
             [
              0.4444444444444444,
              "#bd3786"
             ],
             [
              0.5555555555555556,
              "#d8576b"
             ],
             [
              0.6666666666666666,
              "#ed7953"
             ],
             [
              0.7777777777777778,
              "#fb9f3a"
             ],
             [
              0.8888888888888888,
              "#fdca26"
             ],
             [
              1,
              "#f0f921"
             ]
            ],
            "type": "heatmap"
           }
          ],
          "heatmapgl": [
           {
            "colorbar": {
             "outlinewidth": 0,
             "ticks": ""
            },
            "colorscale": [
             [
              0,
              "#0d0887"
             ],
             [
              0.1111111111111111,
              "#46039f"
             ],
             [
              0.2222222222222222,
              "#7201a8"
             ],
             [
              0.3333333333333333,
              "#9c179e"
             ],
             [
              0.4444444444444444,
              "#bd3786"
             ],
             [
              0.5555555555555556,
              "#d8576b"
             ],
             [
              0.6666666666666666,
              "#ed7953"
             ],
             [
              0.7777777777777778,
              "#fb9f3a"
             ],
             [
              0.8888888888888888,
              "#fdca26"
             ],
             [
              1,
              "#f0f921"
             ]
            ],
            "type": "heatmapgl"
           }
          ],
          "histogram": [
           {
            "marker": {
             "pattern": {
              "fillmode": "overlay",
              "size": 10,
              "solidity": 0.2
             }
            },
            "type": "histogram"
           }
          ],
          "histogram2d": [
           {
            "colorbar": {
             "outlinewidth": 0,
             "ticks": ""
            },
            "colorscale": [
             [
              0,
              "#0d0887"
             ],
             [
              0.1111111111111111,
              "#46039f"
             ],
             [
              0.2222222222222222,
              "#7201a8"
             ],
             [
              0.3333333333333333,
              "#9c179e"
             ],
             [
              0.4444444444444444,
              "#bd3786"
             ],
             [
              0.5555555555555556,
              "#d8576b"
             ],
             [
              0.6666666666666666,
              "#ed7953"
             ],
             [
              0.7777777777777778,
              "#fb9f3a"
             ],
             [
              0.8888888888888888,
              "#fdca26"
             ],
             [
              1,
              "#f0f921"
             ]
            ],
            "type": "histogram2d"
           }
          ],
          "histogram2dcontour": [
           {
            "colorbar": {
             "outlinewidth": 0,
             "ticks": ""
            },
            "colorscale": [
             [
              0,
              "#0d0887"
             ],
             [
              0.1111111111111111,
              "#46039f"
             ],
             [
              0.2222222222222222,
              "#7201a8"
             ],
             [
              0.3333333333333333,
              "#9c179e"
             ],
             [
              0.4444444444444444,
              "#bd3786"
             ],
             [
              0.5555555555555556,
              "#d8576b"
             ],
             [
              0.6666666666666666,
              "#ed7953"
             ],
             [
              0.7777777777777778,
              "#fb9f3a"
             ],
             [
              0.8888888888888888,
              "#fdca26"
             ],
             [
              1,
              "#f0f921"
             ]
            ],
            "type": "histogram2dcontour"
           }
          ],
          "mesh3d": [
           {
            "colorbar": {
             "outlinewidth": 0,
             "ticks": ""
            },
            "type": "mesh3d"
           }
          ],
          "parcoords": [
           {
            "line": {
             "colorbar": {
              "outlinewidth": 0,
              "ticks": ""
             }
            },
            "type": "parcoords"
           }
          ],
          "pie": [
           {
            "automargin": true,
            "type": "pie"
           }
          ],
          "scatter": [
           {
            "fillpattern": {
             "fillmode": "overlay",
             "size": 10,
             "solidity": 0.2
            },
            "type": "scatter"
           }
          ],
          "scatter3d": [
           {
            "line": {
             "colorbar": {
              "outlinewidth": 0,
              "ticks": ""
             }
            },
            "marker": {
             "colorbar": {
              "outlinewidth": 0,
              "ticks": ""
             }
            },
            "type": "scatter3d"
           }
          ],
          "scattercarpet": [
           {
            "marker": {
             "colorbar": {
              "outlinewidth": 0,
              "ticks": ""
             }
            },
            "type": "scattercarpet"
           }
          ],
          "scattergeo": [
           {
            "marker": {
             "colorbar": {
              "outlinewidth": 0,
              "ticks": ""
             }
            },
            "type": "scattergeo"
           }
          ],
          "scattergl": [
           {
            "marker": {
             "colorbar": {
              "outlinewidth": 0,
              "ticks": ""
             }
            },
            "type": "scattergl"
           }
          ],
          "scattermapbox": [
           {
            "marker": {
             "colorbar": {
              "outlinewidth": 0,
              "ticks": ""
             }
            },
            "type": "scattermapbox"
           }
          ],
          "scatterpolar": [
           {
            "marker": {
             "colorbar": {
              "outlinewidth": 0,
              "ticks": ""
             }
            },
            "type": "scatterpolar"
           }
          ],
          "scatterpolargl": [
           {
            "marker": {
             "colorbar": {
              "outlinewidth": 0,
              "ticks": ""
             }
            },
            "type": "scatterpolargl"
           }
          ],
          "scatterternary": [
           {
            "marker": {
             "colorbar": {
              "outlinewidth": 0,
              "ticks": ""
             }
            },
            "type": "scatterternary"
           }
          ],
          "surface": [
           {
            "colorbar": {
             "outlinewidth": 0,
             "ticks": ""
            },
            "colorscale": [
             [
              0,
              "#0d0887"
             ],
             [
              0.1111111111111111,
              "#46039f"
             ],
             [
              0.2222222222222222,
              "#7201a8"
             ],
             [
              0.3333333333333333,
              "#9c179e"
             ],
             [
              0.4444444444444444,
              "#bd3786"
             ],
             [
              0.5555555555555556,
              "#d8576b"
             ],
             [
              0.6666666666666666,
              "#ed7953"
             ],
             [
              0.7777777777777778,
              "#fb9f3a"
             ],
             [
              0.8888888888888888,
              "#fdca26"
             ],
             [
              1,
              "#f0f921"
             ]
            ],
            "type": "surface"
           }
          ],
          "table": [
           {
            "cells": {
             "fill": {
              "color": "#EBF0F8"
             },
             "line": {
              "color": "white"
             }
            },
            "header": {
             "fill": {
              "color": "#C8D4E3"
             },
             "line": {
              "color": "white"
             }
            },
            "type": "table"
           }
          ]
         },
         "layout": {
          "annotationdefaults": {
           "arrowcolor": "#2a3f5f",
           "arrowhead": 0,
           "arrowwidth": 1
          },
          "autotypenumbers": "strict",
          "coloraxis": {
           "colorbar": {
            "outlinewidth": 0,
            "ticks": ""
           }
          },
          "colorscale": {
           "diverging": [
            [
             0,
             "#8e0152"
            ],
            [
             0.1,
             "#c51b7d"
            ],
            [
             0.2,
             "#de77ae"
            ],
            [
             0.3,
             "#f1b6da"
            ],
            [
             0.4,
             "#fde0ef"
            ],
            [
             0.5,
             "#f7f7f7"
            ],
            [
             0.6,
             "#e6f5d0"
            ],
            [
             0.7,
             "#b8e186"
            ],
            [
             0.8,
             "#7fbc41"
            ],
            [
             0.9,
             "#4d9221"
            ],
            [
             1,
             "#276419"
            ]
           ],
           "sequential": [
            [
             0,
             "#0d0887"
            ],
            [
             0.1111111111111111,
             "#46039f"
            ],
            [
             0.2222222222222222,
             "#7201a8"
            ],
            [
             0.3333333333333333,
             "#9c179e"
            ],
            [
             0.4444444444444444,
             "#bd3786"
            ],
            [
             0.5555555555555556,
             "#d8576b"
            ],
            [
             0.6666666666666666,
             "#ed7953"
            ],
            [
             0.7777777777777778,
             "#fb9f3a"
            ],
            [
             0.8888888888888888,
             "#fdca26"
            ],
            [
             1,
             "#f0f921"
            ]
           ],
           "sequentialminus": [
            [
             0,
             "#0d0887"
            ],
            [
             0.1111111111111111,
             "#46039f"
            ],
            [
             0.2222222222222222,
             "#7201a8"
            ],
            [
             0.3333333333333333,
             "#9c179e"
            ],
            [
             0.4444444444444444,
             "#bd3786"
            ],
            [
             0.5555555555555556,
             "#d8576b"
            ],
            [
             0.6666666666666666,
             "#ed7953"
            ],
            [
             0.7777777777777778,
             "#fb9f3a"
            ],
            [
             0.8888888888888888,
             "#fdca26"
            ],
            [
             1,
             "#f0f921"
            ]
           ]
          },
          "colorway": [
           "#636efa",
           "#EF553B",
           "#00cc96",
           "#ab63fa",
           "#FFA15A",
           "#19d3f3",
           "#FF6692",
           "#B6E880",
           "#FF97FF",
           "#FECB52"
          ],
          "font": {
           "color": "#2a3f5f"
          },
          "geo": {
           "bgcolor": "white",
           "lakecolor": "white",
           "landcolor": "#E5ECF6",
           "showlakes": true,
           "showland": true,
           "subunitcolor": "white"
          },
          "hoverlabel": {
           "align": "left"
          },
          "hovermode": "closest",
          "mapbox": {
           "style": "light"
          },
          "paper_bgcolor": "white",
          "plot_bgcolor": "#E5ECF6",
          "polar": {
           "angularaxis": {
            "gridcolor": "white",
            "linecolor": "white",
            "ticks": ""
           },
           "bgcolor": "#E5ECF6",
           "radialaxis": {
            "gridcolor": "white",
            "linecolor": "white",
            "ticks": ""
           }
          },
          "scene": {
           "xaxis": {
            "backgroundcolor": "#E5ECF6",
            "gridcolor": "white",
            "gridwidth": 2,
            "linecolor": "white",
            "showbackground": true,
            "ticks": "",
            "zerolinecolor": "white"
           },
           "yaxis": {
            "backgroundcolor": "#E5ECF6",
            "gridcolor": "white",
            "gridwidth": 2,
            "linecolor": "white",
            "showbackground": true,
            "ticks": "",
            "zerolinecolor": "white"
           },
           "zaxis": {
            "backgroundcolor": "#E5ECF6",
            "gridcolor": "white",
            "gridwidth": 2,
            "linecolor": "white",
            "showbackground": true,
            "ticks": "",
            "zerolinecolor": "white"
           }
          },
          "shapedefaults": {
           "line": {
            "color": "#2a3f5f"
           }
          },
          "ternary": {
           "aaxis": {
            "gridcolor": "white",
            "linecolor": "white",
            "ticks": ""
           },
           "baxis": {
            "gridcolor": "white",
            "linecolor": "white",
            "ticks": ""
           },
           "bgcolor": "#E5ECF6",
           "caxis": {
            "gridcolor": "white",
            "linecolor": "white",
            "ticks": ""
           }
          },
          "title": {
           "x": 0.05
          },
          "xaxis": {
           "automargin": true,
           "gridcolor": "white",
           "linecolor": "white",
           "ticks": "",
           "title": {
            "standoff": 15
           },
           "zerolinecolor": "white",
           "zerolinewidth": 2
          },
          "yaxis": {
           "automargin": true,
           "gridcolor": "white",
           "linecolor": "white",
           "ticks": "",
           "title": {
            "standoff": 15
           },
           "zerolinecolor": "white",
           "zerolinewidth": 2
          }
         }
        },
        "width": 1000,
        "xaxis": {
         "dtick": 30,
         "tickfont": {
          "size": 40
         },
         "title": {
          "font": {
           "size": 40
          },
          "text": "alpha3 (deg)"
         }
        },
        "yaxis": {
         "dtick": 30,
         "tickfont": {
          "size": 40
         },
         "title": {
          "font": {
           "size": 40
          },
          "text": "alpha4 (deg)"
         }
        }
       }
      }
     },
     "metadata": {},
     "output_type": "display_data"
    }
   ],
   "source": [
    "np.random.seed(42)\n",
    "\n",
    "# from 0, 10, 20, ..., 180 deg for alpha\n",
    "alpha_list_deg3 = np.arange(0, 181, 15)\n",
    "alpha_list_rad3 = np.deg2rad(alpha_list_deg3)\n",
    "alpha_list_deg4 = np.arange(0, 181, 15)\n",
    "alpha_list_rad4 = np.deg2rad(alpha_list_deg4)\n",
    "print(f\"alpha 3: {alpha_list_deg3}\")\n",
    "print(f\"alpha 4: {alpha_list_deg4}\")\n",
    "\n",
    "method = \"invcondition\"\n",
    "axes = \"all\"\n",
    "\n",
    "# isRun = True\n",
    "# isSave = True\n",
    "\n",
    "isSave = False\n",
    "isRun = False\n",
    "\n",
    "if isRun:\n",
    "    res, res_mat = evaluate_alpha_effect(\n",
    "        alpha_list_rad3, alpha_list_rad4, isSave=True, method=method, axes=axes\n",
    "    )\n",
    "if not isRun:\n",
    "    npzfile = np.load(f\"data/two_alpha/{method}_{axes}.npz\")\n",
    "    res = npzfile[\"results\"]\n",
    "    res_mat = npzfile[\"res_mat\"]\n",
    "\n",
    "\n",
    "plot_global_index_results(\n",
    "    alpha_list_deg3,\n",
    "    alpha_list_deg4,\n",
    "    res_mat,\n",
    "    plot_type=\"surface\",\n",
    "    method=method,\n",
    "    axes=axes,\n",
    "    isSave=isSave,\n",
    ")\n",
    "\n",
    "plot_global_index_results(\n",
    "    alpha_list_deg3,\n",
    "    alpha_list_deg4,\n",
    "    res_mat,\n",
    "    plot_type=\"heatmap\",\n",
    "    method=method,\n",
    "    axes=axes,\n",
    "    isSave=isSave,\n",
    ")"
   ]
  },
  {
   "cell_type": "markdown",
   "metadata": {},
   "source": [
    "### Global Indice - Minimum Singular Value\n",
    "$$\n",
    "\\sigma_{\\text{min}}\n",
    "$$"
   ]
  },
  {
   "cell_type": "code",
   "execution_count": 14,
   "metadata": {},
   "outputs": [
    {
     "name": "stdout",
     "output_type": "stream",
     "text": [
      "alpha 3: [  0  15  30  45  60  75  90 105 120 135 150 165 180]\n",
      "alpha 4: [  0  15  30  45  60  75  90 105 120 135 150 165 180]\n"
     ]
    },
    {
     "data": {
      "application/vnd.plotly.v1+json": {
       "config": {
        "plotlyServerURL": "https://plot.ly"
       },
       "data": [
        {
         "colorbar": {
          "tickfont": {
           "size": 40
          },
          "title": {
           "font": {
            "size": 40
           },
           "text": "minsingular"
          }
         },
         "type": "surface",
         "x": [
          0,
          15,
          30,
          45,
          60,
          75,
          90,
          105,
          120,
          135,
          150,
          165,
          180
         ],
         "y": [
          0,
          15,
          30,
          45,
          60,
          75,
          90,
          105,
          120,
          135,
          150,
          165,
          180
         ],
         "z": [
          [
           0.030607909681734862,
           0.03753941036866682,
           0.04482940126494973,
           0.04861598806160887,
           0.05005801996194923,
           0.05118379962383869,
           0.05106715037885544,
           0.05065930120629288,
           0.05059733456675927,
           0.0488596887581151,
           0.044334407367562376,
           0.03792949833215018,
           0.03032734577123951
          ],
          [
           0.03796046312674772,
           0.031483017607294515,
           0.03555685702041138,
           0.03929818965676485,
           0.04214043971481082,
           0.043292984931921345,
           0.04445345800802911,
           0.0450230323581752,
           0.044922728292196894,
           0.0455409795408242,
           0.042694310302860576,
           0.03956864900703729,
           0.03695050042963589
          ],
          [
           0.04383404041977917,
           0.03415929328038493,
           0.030708310180273656,
           0.033511213426800676,
           0.0321331285157436,
           0.03435856831723811,
           0.0344077196742064,
           0.03474704617685954,
           0.03493276732518071,
           0.034098745489926606,
           0.033518947272511,
           0.04327535760481787,
           0.04298389761389519
          ],
          [
           0.047459661656045114,
           0.03784245140756718,
           0.0311941781584733,
           0.029476034805754548,
           0.029658656018220327,
           0.029982652152282886,
           0.03093879077080215,
           0.030433739484470437,
           0.03008148525664902,
           0.029181889005756294,
           0.03526622337915556,
           0.04413054660562996,
           0.04687239683673162
          ],
          [
           0.048813865633403196,
           0.040008017497980865,
           0.03275255073235323,
           0.029365285311281963,
           0.02855359687321498,
           0.02793905742672167,
           0.027962430854804095,
           0.029277950738300543,
           0.029197183104719065,
           0.03043763106458177,
           0.03520732570130669,
           0.04396513921283175,
           0.04900743338190307
          ],
          [
           0.049531771670911016,
           0.04228751109637308,
           0.03371641765814142,
           0.029919074474058987,
           0.028546341607896538,
           0.027152839312477663,
           0.027931470987776725,
           0.027487591274992493,
           0.02879554768787398,
           0.031837849507512055,
           0.03468452791993795,
           0.044399038563189115,
           0.049501795846809665
          ],
          [
           0.049899502902874475,
           0.04358640099684828,
           0.03354576848869958,
           0.03097930210356434,
           0.028309905033211062,
           0.027200426364676927,
           0.026579988779393094,
           0.027305650225286856,
           0.028781211191878653,
           0.030879188715027785,
           0.0345568640725337,
           0.04302517764575954,
           0.04993734625690375
          ],
          [
           0.049594217792757814,
           0.04469238646781484,
           0.034519861635390725,
           0.03116437404138322,
           0.02851105022357044,
           0.028137249341066907,
           0.027597676687200003,
           0.026858782831925394,
           0.02831127343558864,
           0.030268481925016955,
           0.03263451914434284,
           0.04132895593867199,
           0.04925722045311511
          ],
          [
           0.04838363842895681,
           0.04453252253373638,
           0.03507997535682819,
           0.030881264292822615,
           0.029050078834692707,
           0.0290425042476651,
           0.02821948590920992,
           0.02830428186538688,
           0.028849553473892346,
           0.02891110069131861,
           0.033169094658794085,
           0.03977925014327856,
           0.048606204796226286
          ],
          [
           0.04703745256523285,
           0.04403296675725069,
           0.03590603403636494,
           0.029432427990174845,
           0.030603037577631234,
           0.030075082901545765,
           0.030738482316122456,
           0.029996885210744877,
           0.029880406502746027,
           0.03001063250902873,
           0.03189219523575659,
           0.037371553747756095,
           0.04611275232706474
          ],
          [
           0.043205999251125865,
           0.04393142734680223,
           0.0333818958424195,
           0.03424373044144102,
           0.03465267577906263,
           0.03488597482191092,
           0.03405259103390836,
           0.0339787044714831,
           0.03367405352333963,
           0.03117527104339946,
           0.03042781258413329,
           0.03510967334016245,
           0.04316420137202184
          ],
          [
           0.03680972048376454,
           0.03999570139013746,
           0.043536094307251534,
           0.045349123440378565,
           0.045556347418270755,
           0.0447380865289516,
           0.04461202423971725,
           0.04414402360361736,
           0.041585416400691654,
           0.03919182181683756,
           0.03559419289334032,
           0.03175387730180213,
           0.03716427976245902
          ],
          [
           0.030710548114716837,
           0.03766818366739178,
           0.04400086043314244,
           0.04756703972242762,
           0.04990220536832838,
           0.05056707198370355,
           0.05099062338682797,
           0.05058229480031906,
           0.05036178630524485,
           0.048106738219864435,
           0.044145613276110385,
           0.0371468863302873,
           0.030328851522188772
          ]
         ]
        }
       ],
       "layout": {
        "autosize": true,
        "height": 800,
        "scene": {
         "camera": {
          "eye": {
           "x": 1.55,
           "y": 1.55,
           "z": 1.55
          },
          "up": {
           "x": 0,
           "y": 0,
           "z": 1
          }
         },
         "xaxis": {
          "dtick": 90,
          "tickfont": {
           "size": 16
          },
          "title": {
           "font": {
            "size": 40
           },
           "text": "alpha3 (deg)"
          }
         },
         "yaxis": {
          "dtick": 90,
          "tickfont": {
           "size": 16
          },
          "title": {
           "font": {
            "size": 40
           },
           "text": "alpha4 (deg)"
          }
         },
         "zaxis": {
          "dtick": 90,
          "tickfont": {
           "size": 16
          },
          "title": {
           "font": {
            "size": 40
           },
           "text": ""
          }
         }
        },
        "template": {
         "data": {
          "bar": [
           {
            "error_x": {
             "color": "#2a3f5f"
            },
            "error_y": {
             "color": "#2a3f5f"
            },
            "marker": {
             "line": {
              "color": "#E5ECF6",
              "width": 0.5
             },
             "pattern": {
              "fillmode": "overlay",
              "size": 10,
              "solidity": 0.2
             }
            },
            "type": "bar"
           }
          ],
          "barpolar": [
           {
            "marker": {
             "line": {
              "color": "#E5ECF6",
              "width": 0.5
             },
             "pattern": {
              "fillmode": "overlay",
              "size": 10,
              "solidity": 0.2
             }
            },
            "type": "barpolar"
           }
          ],
          "carpet": [
           {
            "aaxis": {
             "endlinecolor": "#2a3f5f",
             "gridcolor": "white",
             "linecolor": "white",
             "minorgridcolor": "white",
             "startlinecolor": "#2a3f5f"
            },
            "baxis": {
             "endlinecolor": "#2a3f5f",
             "gridcolor": "white",
             "linecolor": "white",
             "minorgridcolor": "white",
             "startlinecolor": "#2a3f5f"
            },
            "type": "carpet"
           }
          ],
          "choropleth": [
           {
            "colorbar": {
             "outlinewidth": 0,
             "ticks": ""
            },
            "type": "choropleth"
           }
          ],
          "contour": [
           {
            "colorbar": {
             "outlinewidth": 0,
             "ticks": ""
            },
            "colorscale": [
             [
              0,
              "#0d0887"
             ],
             [
              0.1111111111111111,
              "#46039f"
             ],
             [
              0.2222222222222222,
              "#7201a8"
             ],
             [
              0.3333333333333333,
              "#9c179e"
             ],
             [
              0.4444444444444444,
              "#bd3786"
             ],
             [
              0.5555555555555556,
              "#d8576b"
             ],
             [
              0.6666666666666666,
              "#ed7953"
             ],
             [
              0.7777777777777778,
              "#fb9f3a"
             ],
             [
              0.8888888888888888,
              "#fdca26"
             ],
             [
              1,
              "#f0f921"
             ]
            ],
            "type": "contour"
           }
          ],
          "contourcarpet": [
           {
            "colorbar": {
             "outlinewidth": 0,
             "ticks": ""
            },
            "type": "contourcarpet"
           }
          ],
          "heatmap": [
           {
            "colorbar": {
             "outlinewidth": 0,
             "ticks": ""
            },
            "colorscale": [
             [
              0,
              "#0d0887"
             ],
             [
              0.1111111111111111,
              "#46039f"
             ],
             [
              0.2222222222222222,
              "#7201a8"
             ],
             [
              0.3333333333333333,
              "#9c179e"
             ],
             [
              0.4444444444444444,
              "#bd3786"
             ],
             [
              0.5555555555555556,
              "#d8576b"
             ],
             [
              0.6666666666666666,
              "#ed7953"
             ],
             [
              0.7777777777777778,
              "#fb9f3a"
             ],
             [
              0.8888888888888888,
              "#fdca26"
             ],
             [
              1,
              "#f0f921"
             ]
            ],
            "type": "heatmap"
           }
          ],
          "heatmapgl": [
           {
            "colorbar": {
             "outlinewidth": 0,
             "ticks": ""
            },
            "colorscale": [
             [
              0,
              "#0d0887"
             ],
             [
              0.1111111111111111,
              "#46039f"
             ],
             [
              0.2222222222222222,
              "#7201a8"
             ],
             [
              0.3333333333333333,
              "#9c179e"
             ],
             [
              0.4444444444444444,
              "#bd3786"
             ],
             [
              0.5555555555555556,
              "#d8576b"
             ],
             [
              0.6666666666666666,
              "#ed7953"
             ],
             [
              0.7777777777777778,
              "#fb9f3a"
             ],
             [
              0.8888888888888888,
              "#fdca26"
             ],
             [
              1,
              "#f0f921"
             ]
            ],
            "type": "heatmapgl"
           }
          ],
          "histogram": [
           {
            "marker": {
             "pattern": {
              "fillmode": "overlay",
              "size": 10,
              "solidity": 0.2
             }
            },
            "type": "histogram"
           }
          ],
          "histogram2d": [
           {
            "colorbar": {
             "outlinewidth": 0,
             "ticks": ""
            },
            "colorscale": [
             [
              0,
              "#0d0887"
             ],
             [
              0.1111111111111111,
              "#46039f"
             ],
             [
              0.2222222222222222,
              "#7201a8"
             ],
             [
              0.3333333333333333,
              "#9c179e"
             ],
             [
              0.4444444444444444,
              "#bd3786"
             ],
             [
              0.5555555555555556,
              "#d8576b"
             ],
             [
              0.6666666666666666,
              "#ed7953"
             ],
             [
              0.7777777777777778,
              "#fb9f3a"
             ],
             [
              0.8888888888888888,
              "#fdca26"
             ],
             [
              1,
              "#f0f921"
             ]
            ],
            "type": "histogram2d"
           }
          ],
          "histogram2dcontour": [
           {
            "colorbar": {
             "outlinewidth": 0,
             "ticks": ""
            },
            "colorscale": [
             [
              0,
              "#0d0887"
             ],
             [
              0.1111111111111111,
              "#46039f"
             ],
             [
              0.2222222222222222,
              "#7201a8"
             ],
             [
              0.3333333333333333,
              "#9c179e"
             ],
             [
              0.4444444444444444,
              "#bd3786"
             ],
             [
              0.5555555555555556,
              "#d8576b"
             ],
             [
              0.6666666666666666,
              "#ed7953"
             ],
             [
              0.7777777777777778,
              "#fb9f3a"
             ],
             [
              0.8888888888888888,
              "#fdca26"
             ],
             [
              1,
              "#f0f921"
             ]
            ],
            "type": "histogram2dcontour"
           }
          ],
          "mesh3d": [
           {
            "colorbar": {
             "outlinewidth": 0,
             "ticks": ""
            },
            "type": "mesh3d"
           }
          ],
          "parcoords": [
           {
            "line": {
             "colorbar": {
              "outlinewidth": 0,
              "ticks": ""
             }
            },
            "type": "parcoords"
           }
          ],
          "pie": [
           {
            "automargin": true,
            "type": "pie"
           }
          ],
          "scatter": [
           {
            "fillpattern": {
             "fillmode": "overlay",
             "size": 10,
             "solidity": 0.2
            },
            "type": "scatter"
           }
          ],
          "scatter3d": [
           {
            "line": {
             "colorbar": {
              "outlinewidth": 0,
              "ticks": ""
             }
            },
            "marker": {
             "colorbar": {
              "outlinewidth": 0,
              "ticks": ""
             }
            },
            "type": "scatter3d"
           }
          ],
          "scattercarpet": [
           {
            "marker": {
             "colorbar": {
              "outlinewidth": 0,
              "ticks": ""
             }
            },
            "type": "scattercarpet"
           }
          ],
          "scattergeo": [
           {
            "marker": {
             "colorbar": {
              "outlinewidth": 0,
              "ticks": ""
             }
            },
            "type": "scattergeo"
           }
          ],
          "scattergl": [
           {
            "marker": {
             "colorbar": {
              "outlinewidth": 0,
              "ticks": ""
             }
            },
            "type": "scattergl"
           }
          ],
          "scattermapbox": [
           {
            "marker": {
             "colorbar": {
              "outlinewidth": 0,
              "ticks": ""
             }
            },
            "type": "scattermapbox"
           }
          ],
          "scatterpolar": [
           {
            "marker": {
             "colorbar": {
              "outlinewidth": 0,
              "ticks": ""
             }
            },
            "type": "scatterpolar"
           }
          ],
          "scatterpolargl": [
           {
            "marker": {
             "colorbar": {
              "outlinewidth": 0,
              "ticks": ""
             }
            },
            "type": "scatterpolargl"
           }
          ],
          "scatterternary": [
           {
            "marker": {
             "colorbar": {
              "outlinewidth": 0,
              "ticks": ""
             }
            },
            "type": "scatterternary"
           }
          ],
          "surface": [
           {
            "colorbar": {
             "outlinewidth": 0,
             "ticks": ""
            },
            "colorscale": [
             [
              0,
              "#0d0887"
             ],
             [
              0.1111111111111111,
              "#46039f"
             ],
             [
              0.2222222222222222,
              "#7201a8"
             ],
             [
              0.3333333333333333,
              "#9c179e"
             ],
             [
              0.4444444444444444,
              "#bd3786"
             ],
             [
              0.5555555555555556,
              "#d8576b"
             ],
             [
              0.6666666666666666,
              "#ed7953"
             ],
             [
              0.7777777777777778,
              "#fb9f3a"
             ],
             [
              0.8888888888888888,
              "#fdca26"
             ],
             [
              1,
              "#f0f921"
             ]
            ],
            "type": "surface"
           }
          ],
          "table": [
           {
            "cells": {
             "fill": {
              "color": "#EBF0F8"
             },
             "line": {
              "color": "white"
             }
            },
            "header": {
             "fill": {
              "color": "#C8D4E3"
             },
             "line": {
              "color": "white"
             }
            },
            "type": "table"
           }
          ]
         },
         "layout": {
          "annotationdefaults": {
           "arrowcolor": "#2a3f5f",
           "arrowhead": 0,
           "arrowwidth": 1
          },
          "autotypenumbers": "strict",
          "coloraxis": {
           "colorbar": {
            "outlinewidth": 0,
            "ticks": ""
           }
          },
          "colorscale": {
           "diverging": [
            [
             0,
             "#8e0152"
            ],
            [
             0.1,
             "#c51b7d"
            ],
            [
             0.2,
             "#de77ae"
            ],
            [
             0.3,
             "#f1b6da"
            ],
            [
             0.4,
             "#fde0ef"
            ],
            [
             0.5,
             "#f7f7f7"
            ],
            [
             0.6,
             "#e6f5d0"
            ],
            [
             0.7,
             "#b8e186"
            ],
            [
             0.8,
             "#7fbc41"
            ],
            [
             0.9,
             "#4d9221"
            ],
            [
             1,
             "#276419"
            ]
           ],
           "sequential": [
            [
             0,
             "#0d0887"
            ],
            [
             0.1111111111111111,
             "#46039f"
            ],
            [
             0.2222222222222222,
             "#7201a8"
            ],
            [
             0.3333333333333333,
             "#9c179e"
            ],
            [
             0.4444444444444444,
             "#bd3786"
            ],
            [
             0.5555555555555556,
             "#d8576b"
            ],
            [
             0.6666666666666666,
             "#ed7953"
            ],
            [
             0.7777777777777778,
             "#fb9f3a"
            ],
            [
             0.8888888888888888,
             "#fdca26"
            ],
            [
             1,
             "#f0f921"
            ]
           ],
           "sequentialminus": [
            [
             0,
             "#0d0887"
            ],
            [
             0.1111111111111111,
             "#46039f"
            ],
            [
             0.2222222222222222,
             "#7201a8"
            ],
            [
             0.3333333333333333,
             "#9c179e"
            ],
            [
             0.4444444444444444,
             "#bd3786"
            ],
            [
             0.5555555555555556,
             "#d8576b"
            ],
            [
             0.6666666666666666,
             "#ed7953"
            ],
            [
             0.7777777777777778,
             "#fb9f3a"
            ],
            [
             0.8888888888888888,
             "#fdca26"
            ],
            [
             1,
             "#f0f921"
            ]
           ]
          },
          "colorway": [
           "#636efa",
           "#EF553B",
           "#00cc96",
           "#ab63fa",
           "#FFA15A",
           "#19d3f3",
           "#FF6692",
           "#B6E880",
           "#FF97FF",
           "#FECB52"
          ],
          "font": {
           "color": "#2a3f5f"
          },
          "geo": {
           "bgcolor": "white",
           "lakecolor": "white",
           "landcolor": "#E5ECF6",
           "showlakes": true,
           "showland": true,
           "subunitcolor": "white"
          },
          "hoverlabel": {
           "align": "left"
          },
          "hovermode": "closest",
          "mapbox": {
           "style": "light"
          },
          "paper_bgcolor": "white",
          "plot_bgcolor": "#E5ECF6",
          "polar": {
           "angularaxis": {
            "gridcolor": "white",
            "linecolor": "white",
            "ticks": ""
           },
           "bgcolor": "#E5ECF6",
           "radialaxis": {
            "gridcolor": "white",
            "linecolor": "white",
            "ticks": ""
           }
          },
          "scene": {
           "xaxis": {
            "backgroundcolor": "#E5ECF6",
            "gridcolor": "white",
            "gridwidth": 2,
            "linecolor": "white",
            "showbackground": true,
            "ticks": "",
            "zerolinecolor": "white"
           },
           "yaxis": {
            "backgroundcolor": "#E5ECF6",
            "gridcolor": "white",
            "gridwidth": 2,
            "linecolor": "white",
            "showbackground": true,
            "ticks": "",
            "zerolinecolor": "white"
           },
           "zaxis": {
            "backgroundcolor": "#E5ECF6",
            "gridcolor": "white",
            "gridwidth": 2,
            "linecolor": "white",
            "showbackground": true,
            "ticks": "",
            "zerolinecolor": "white"
           }
          },
          "shapedefaults": {
           "line": {
            "color": "#2a3f5f"
           }
          },
          "ternary": {
           "aaxis": {
            "gridcolor": "white",
            "linecolor": "white",
            "ticks": ""
           },
           "baxis": {
            "gridcolor": "white",
            "linecolor": "white",
            "ticks": ""
           },
           "bgcolor": "#E5ECF6",
           "caxis": {
            "gridcolor": "white",
            "linecolor": "white",
            "ticks": ""
           }
          },
          "title": {
           "x": 0.05
          },
          "xaxis": {
           "automargin": true,
           "gridcolor": "white",
           "linecolor": "white",
           "ticks": "",
           "title": {
            "standoff": 15
           },
           "zerolinecolor": "white",
           "zerolinewidth": 2
          },
          "yaxis": {
           "automargin": true,
           "gridcolor": "white",
           "linecolor": "white",
           "ticks": "",
           "title": {
            "standoff": 15
           },
           "zerolinecolor": "white",
           "zerolinewidth": 2
          }
         }
        },
        "width": 1000,
        "xaxis": {
         "dtick": 30,
         "tickfont": {
          "size": 40
         },
         "title": {
          "font": {
           "size": 40
          },
          "text": "alpha3 (deg)"
         }
        },
        "yaxis": {
         "dtick": 30,
         "tickfont": {
          "size": 40
         },
         "title": {
          "font": {
           "size": 40
          },
          "text": "alpha4 (deg)"
         }
        }
       }
      }
     },
     "metadata": {},
     "output_type": "display_data"
    },
    {
     "data": {
      "application/vnd.plotly.v1+json": {
       "config": {
        "plotlyServerURL": "https://plot.ly"
       },
       "data": [
        {
         "colorbar": {
          "tickfont": {
           "size": 40
          },
          "title": {
           "font": {
            "size": 40
           },
           "text": "minsingular"
          }
         },
         "type": "heatmap",
         "x": [
          0,
          15,
          30,
          45,
          60,
          75,
          90,
          105,
          120,
          135,
          150,
          165,
          180
         ],
         "y": [
          0,
          15,
          30,
          45,
          60,
          75,
          90,
          105,
          120,
          135,
          150,
          165,
          180
         ],
         "z": [
          [
           0.030607909681734862,
           0.03753941036866682,
           0.04482940126494973,
           0.04861598806160887,
           0.05005801996194923,
           0.05118379962383869,
           0.05106715037885544,
           0.05065930120629288,
           0.05059733456675927,
           0.0488596887581151,
           0.044334407367562376,
           0.03792949833215018,
           0.03032734577123951
          ],
          [
           0.03796046312674772,
           0.031483017607294515,
           0.03555685702041138,
           0.03929818965676485,
           0.04214043971481082,
           0.043292984931921345,
           0.04445345800802911,
           0.0450230323581752,
           0.044922728292196894,
           0.0455409795408242,
           0.042694310302860576,
           0.03956864900703729,
           0.03695050042963589
          ],
          [
           0.04383404041977917,
           0.03415929328038493,
           0.030708310180273656,
           0.033511213426800676,
           0.0321331285157436,
           0.03435856831723811,
           0.0344077196742064,
           0.03474704617685954,
           0.03493276732518071,
           0.034098745489926606,
           0.033518947272511,
           0.04327535760481787,
           0.04298389761389519
          ],
          [
           0.047459661656045114,
           0.03784245140756718,
           0.0311941781584733,
           0.029476034805754548,
           0.029658656018220327,
           0.029982652152282886,
           0.03093879077080215,
           0.030433739484470437,
           0.03008148525664902,
           0.029181889005756294,
           0.03526622337915556,
           0.04413054660562996,
           0.04687239683673162
          ],
          [
           0.048813865633403196,
           0.040008017497980865,
           0.03275255073235323,
           0.029365285311281963,
           0.02855359687321498,
           0.02793905742672167,
           0.027962430854804095,
           0.029277950738300543,
           0.029197183104719065,
           0.03043763106458177,
           0.03520732570130669,
           0.04396513921283175,
           0.04900743338190307
          ],
          [
           0.049531771670911016,
           0.04228751109637308,
           0.03371641765814142,
           0.029919074474058987,
           0.028546341607896538,
           0.027152839312477663,
           0.027931470987776725,
           0.027487591274992493,
           0.02879554768787398,
           0.031837849507512055,
           0.03468452791993795,
           0.044399038563189115,
           0.049501795846809665
          ],
          [
           0.049899502902874475,
           0.04358640099684828,
           0.03354576848869958,
           0.03097930210356434,
           0.028309905033211062,
           0.027200426364676927,
           0.026579988779393094,
           0.027305650225286856,
           0.028781211191878653,
           0.030879188715027785,
           0.0345568640725337,
           0.04302517764575954,
           0.04993734625690375
          ],
          [
           0.049594217792757814,
           0.04469238646781484,
           0.034519861635390725,
           0.03116437404138322,
           0.02851105022357044,
           0.028137249341066907,
           0.027597676687200003,
           0.026858782831925394,
           0.02831127343558864,
           0.030268481925016955,
           0.03263451914434284,
           0.04132895593867199,
           0.04925722045311511
          ],
          [
           0.04838363842895681,
           0.04453252253373638,
           0.03507997535682819,
           0.030881264292822615,
           0.029050078834692707,
           0.0290425042476651,
           0.02821948590920992,
           0.02830428186538688,
           0.028849553473892346,
           0.02891110069131861,
           0.033169094658794085,
           0.03977925014327856,
           0.048606204796226286
          ],
          [
           0.04703745256523285,
           0.04403296675725069,
           0.03590603403636494,
           0.029432427990174845,
           0.030603037577631234,
           0.030075082901545765,
           0.030738482316122456,
           0.029996885210744877,
           0.029880406502746027,
           0.03001063250902873,
           0.03189219523575659,
           0.037371553747756095,
           0.04611275232706474
          ],
          [
           0.043205999251125865,
           0.04393142734680223,
           0.0333818958424195,
           0.03424373044144102,
           0.03465267577906263,
           0.03488597482191092,
           0.03405259103390836,
           0.0339787044714831,
           0.03367405352333963,
           0.03117527104339946,
           0.03042781258413329,
           0.03510967334016245,
           0.04316420137202184
          ],
          [
           0.03680972048376454,
           0.03999570139013746,
           0.043536094307251534,
           0.045349123440378565,
           0.045556347418270755,
           0.0447380865289516,
           0.04461202423971725,
           0.04414402360361736,
           0.041585416400691654,
           0.03919182181683756,
           0.03559419289334032,
           0.03175387730180213,
           0.03716427976245902
          ],
          [
           0.030710548114716837,
           0.03766818366739178,
           0.04400086043314244,
           0.04756703972242762,
           0.04990220536832838,
           0.05056707198370355,
           0.05099062338682797,
           0.05058229480031906,
           0.05036178630524485,
           0.048106738219864435,
           0.044145613276110385,
           0.0371468863302873,
           0.030328851522188772
          ]
         ]
        }
       ],
       "layout": {
        "autosize": true,
        "height": 800,
        "template": {
         "data": {
          "bar": [
           {
            "error_x": {
             "color": "#2a3f5f"
            },
            "error_y": {
             "color": "#2a3f5f"
            },
            "marker": {
             "line": {
              "color": "#E5ECF6",
              "width": 0.5
             },
             "pattern": {
              "fillmode": "overlay",
              "size": 10,
              "solidity": 0.2
             }
            },
            "type": "bar"
           }
          ],
          "barpolar": [
           {
            "marker": {
             "line": {
              "color": "#E5ECF6",
              "width": 0.5
             },
             "pattern": {
              "fillmode": "overlay",
              "size": 10,
              "solidity": 0.2
             }
            },
            "type": "barpolar"
           }
          ],
          "carpet": [
           {
            "aaxis": {
             "endlinecolor": "#2a3f5f",
             "gridcolor": "white",
             "linecolor": "white",
             "minorgridcolor": "white",
             "startlinecolor": "#2a3f5f"
            },
            "baxis": {
             "endlinecolor": "#2a3f5f",
             "gridcolor": "white",
             "linecolor": "white",
             "minorgridcolor": "white",
             "startlinecolor": "#2a3f5f"
            },
            "type": "carpet"
           }
          ],
          "choropleth": [
           {
            "colorbar": {
             "outlinewidth": 0,
             "ticks": ""
            },
            "type": "choropleth"
           }
          ],
          "contour": [
           {
            "colorbar": {
             "outlinewidth": 0,
             "ticks": ""
            },
            "colorscale": [
             [
              0,
              "#0d0887"
             ],
             [
              0.1111111111111111,
              "#46039f"
             ],
             [
              0.2222222222222222,
              "#7201a8"
             ],
             [
              0.3333333333333333,
              "#9c179e"
             ],
             [
              0.4444444444444444,
              "#bd3786"
             ],
             [
              0.5555555555555556,
              "#d8576b"
             ],
             [
              0.6666666666666666,
              "#ed7953"
             ],
             [
              0.7777777777777778,
              "#fb9f3a"
             ],
             [
              0.8888888888888888,
              "#fdca26"
             ],
             [
              1,
              "#f0f921"
             ]
            ],
            "type": "contour"
           }
          ],
          "contourcarpet": [
           {
            "colorbar": {
             "outlinewidth": 0,
             "ticks": ""
            },
            "type": "contourcarpet"
           }
          ],
          "heatmap": [
           {
            "colorbar": {
             "outlinewidth": 0,
             "ticks": ""
            },
            "colorscale": [
             [
              0,
              "#0d0887"
             ],
             [
              0.1111111111111111,
              "#46039f"
             ],
             [
              0.2222222222222222,
              "#7201a8"
             ],
             [
              0.3333333333333333,
              "#9c179e"
             ],
             [
              0.4444444444444444,
              "#bd3786"
             ],
             [
              0.5555555555555556,
              "#d8576b"
             ],
             [
              0.6666666666666666,
              "#ed7953"
             ],
             [
              0.7777777777777778,
              "#fb9f3a"
             ],
             [
              0.8888888888888888,
              "#fdca26"
             ],
             [
              1,
              "#f0f921"
             ]
            ],
            "type": "heatmap"
           }
          ],
          "heatmapgl": [
           {
            "colorbar": {
             "outlinewidth": 0,
             "ticks": ""
            },
            "colorscale": [
             [
              0,
              "#0d0887"
             ],
             [
              0.1111111111111111,
              "#46039f"
             ],
             [
              0.2222222222222222,
              "#7201a8"
             ],
             [
              0.3333333333333333,
              "#9c179e"
             ],
             [
              0.4444444444444444,
              "#bd3786"
             ],
             [
              0.5555555555555556,
              "#d8576b"
             ],
             [
              0.6666666666666666,
              "#ed7953"
             ],
             [
              0.7777777777777778,
              "#fb9f3a"
             ],
             [
              0.8888888888888888,
              "#fdca26"
             ],
             [
              1,
              "#f0f921"
             ]
            ],
            "type": "heatmapgl"
           }
          ],
          "histogram": [
           {
            "marker": {
             "pattern": {
              "fillmode": "overlay",
              "size": 10,
              "solidity": 0.2
             }
            },
            "type": "histogram"
           }
          ],
          "histogram2d": [
           {
            "colorbar": {
             "outlinewidth": 0,
             "ticks": ""
            },
            "colorscale": [
             [
              0,
              "#0d0887"
             ],
             [
              0.1111111111111111,
              "#46039f"
             ],
             [
              0.2222222222222222,
              "#7201a8"
             ],
             [
              0.3333333333333333,
              "#9c179e"
             ],
             [
              0.4444444444444444,
              "#bd3786"
             ],
             [
              0.5555555555555556,
              "#d8576b"
             ],
             [
              0.6666666666666666,
              "#ed7953"
             ],
             [
              0.7777777777777778,
              "#fb9f3a"
             ],
             [
              0.8888888888888888,
              "#fdca26"
             ],
             [
              1,
              "#f0f921"
             ]
            ],
            "type": "histogram2d"
           }
          ],
          "histogram2dcontour": [
           {
            "colorbar": {
             "outlinewidth": 0,
             "ticks": ""
            },
            "colorscale": [
             [
              0,
              "#0d0887"
             ],
             [
              0.1111111111111111,
              "#46039f"
             ],
             [
              0.2222222222222222,
              "#7201a8"
             ],
             [
              0.3333333333333333,
              "#9c179e"
             ],
             [
              0.4444444444444444,
              "#bd3786"
             ],
             [
              0.5555555555555556,
              "#d8576b"
             ],
             [
              0.6666666666666666,
              "#ed7953"
             ],
             [
              0.7777777777777778,
              "#fb9f3a"
             ],
             [
              0.8888888888888888,
              "#fdca26"
             ],
             [
              1,
              "#f0f921"
             ]
            ],
            "type": "histogram2dcontour"
           }
          ],
          "mesh3d": [
           {
            "colorbar": {
             "outlinewidth": 0,
             "ticks": ""
            },
            "type": "mesh3d"
           }
          ],
          "parcoords": [
           {
            "line": {
             "colorbar": {
              "outlinewidth": 0,
              "ticks": ""
             }
            },
            "type": "parcoords"
           }
          ],
          "pie": [
           {
            "automargin": true,
            "type": "pie"
           }
          ],
          "scatter": [
           {
            "fillpattern": {
             "fillmode": "overlay",
             "size": 10,
             "solidity": 0.2
            },
            "type": "scatter"
           }
          ],
          "scatter3d": [
           {
            "line": {
             "colorbar": {
              "outlinewidth": 0,
              "ticks": ""
             }
            },
            "marker": {
             "colorbar": {
              "outlinewidth": 0,
              "ticks": ""
             }
            },
            "type": "scatter3d"
           }
          ],
          "scattercarpet": [
           {
            "marker": {
             "colorbar": {
              "outlinewidth": 0,
              "ticks": ""
             }
            },
            "type": "scattercarpet"
           }
          ],
          "scattergeo": [
           {
            "marker": {
             "colorbar": {
              "outlinewidth": 0,
              "ticks": ""
             }
            },
            "type": "scattergeo"
           }
          ],
          "scattergl": [
           {
            "marker": {
             "colorbar": {
              "outlinewidth": 0,
              "ticks": ""
             }
            },
            "type": "scattergl"
           }
          ],
          "scattermapbox": [
           {
            "marker": {
             "colorbar": {
              "outlinewidth": 0,
              "ticks": ""
             }
            },
            "type": "scattermapbox"
           }
          ],
          "scatterpolar": [
           {
            "marker": {
             "colorbar": {
              "outlinewidth": 0,
              "ticks": ""
             }
            },
            "type": "scatterpolar"
           }
          ],
          "scatterpolargl": [
           {
            "marker": {
             "colorbar": {
              "outlinewidth": 0,
              "ticks": ""
             }
            },
            "type": "scatterpolargl"
           }
          ],
          "scatterternary": [
           {
            "marker": {
             "colorbar": {
              "outlinewidth": 0,
              "ticks": ""
             }
            },
            "type": "scatterternary"
           }
          ],
          "surface": [
           {
            "colorbar": {
             "outlinewidth": 0,
             "ticks": ""
            },
            "colorscale": [
             [
              0,
              "#0d0887"
             ],
             [
              0.1111111111111111,
              "#46039f"
             ],
             [
              0.2222222222222222,
              "#7201a8"
             ],
             [
              0.3333333333333333,
              "#9c179e"
             ],
             [
              0.4444444444444444,
              "#bd3786"
             ],
             [
              0.5555555555555556,
              "#d8576b"
             ],
             [
              0.6666666666666666,
              "#ed7953"
             ],
             [
              0.7777777777777778,
              "#fb9f3a"
             ],
             [
              0.8888888888888888,
              "#fdca26"
             ],
             [
              1,
              "#f0f921"
             ]
            ],
            "type": "surface"
           }
          ],
          "table": [
           {
            "cells": {
             "fill": {
              "color": "#EBF0F8"
             },
             "line": {
              "color": "white"
             }
            },
            "header": {
             "fill": {
              "color": "#C8D4E3"
             },
             "line": {
              "color": "white"
             }
            },
            "type": "table"
           }
          ]
         },
         "layout": {
          "annotationdefaults": {
           "arrowcolor": "#2a3f5f",
           "arrowhead": 0,
           "arrowwidth": 1
          },
          "autotypenumbers": "strict",
          "coloraxis": {
           "colorbar": {
            "outlinewidth": 0,
            "ticks": ""
           }
          },
          "colorscale": {
           "diverging": [
            [
             0,
             "#8e0152"
            ],
            [
             0.1,
             "#c51b7d"
            ],
            [
             0.2,
             "#de77ae"
            ],
            [
             0.3,
             "#f1b6da"
            ],
            [
             0.4,
             "#fde0ef"
            ],
            [
             0.5,
             "#f7f7f7"
            ],
            [
             0.6,
             "#e6f5d0"
            ],
            [
             0.7,
             "#b8e186"
            ],
            [
             0.8,
             "#7fbc41"
            ],
            [
             0.9,
             "#4d9221"
            ],
            [
             1,
             "#276419"
            ]
           ],
           "sequential": [
            [
             0,
             "#0d0887"
            ],
            [
             0.1111111111111111,
             "#46039f"
            ],
            [
             0.2222222222222222,
             "#7201a8"
            ],
            [
             0.3333333333333333,
             "#9c179e"
            ],
            [
             0.4444444444444444,
             "#bd3786"
            ],
            [
             0.5555555555555556,
             "#d8576b"
            ],
            [
             0.6666666666666666,
             "#ed7953"
            ],
            [
             0.7777777777777778,
             "#fb9f3a"
            ],
            [
             0.8888888888888888,
             "#fdca26"
            ],
            [
             1,
             "#f0f921"
            ]
           ],
           "sequentialminus": [
            [
             0,
             "#0d0887"
            ],
            [
             0.1111111111111111,
             "#46039f"
            ],
            [
             0.2222222222222222,
             "#7201a8"
            ],
            [
             0.3333333333333333,
             "#9c179e"
            ],
            [
             0.4444444444444444,
             "#bd3786"
            ],
            [
             0.5555555555555556,
             "#d8576b"
            ],
            [
             0.6666666666666666,
             "#ed7953"
            ],
            [
             0.7777777777777778,
             "#fb9f3a"
            ],
            [
             0.8888888888888888,
             "#fdca26"
            ],
            [
             1,
             "#f0f921"
            ]
           ]
          },
          "colorway": [
           "#636efa",
           "#EF553B",
           "#00cc96",
           "#ab63fa",
           "#FFA15A",
           "#19d3f3",
           "#FF6692",
           "#B6E880",
           "#FF97FF",
           "#FECB52"
          ],
          "font": {
           "color": "#2a3f5f"
          },
          "geo": {
           "bgcolor": "white",
           "lakecolor": "white",
           "landcolor": "#E5ECF6",
           "showlakes": true,
           "showland": true,
           "subunitcolor": "white"
          },
          "hoverlabel": {
           "align": "left"
          },
          "hovermode": "closest",
          "mapbox": {
           "style": "light"
          },
          "paper_bgcolor": "white",
          "plot_bgcolor": "#E5ECF6",
          "polar": {
           "angularaxis": {
            "gridcolor": "white",
            "linecolor": "white",
            "ticks": ""
           },
           "bgcolor": "#E5ECF6",
           "radialaxis": {
            "gridcolor": "white",
            "linecolor": "white",
            "ticks": ""
           }
          },
          "scene": {
           "xaxis": {
            "backgroundcolor": "#E5ECF6",
            "gridcolor": "white",
            "gridwidth": 2,
            "linecolor": "white",
            "showbackground": true,
            "ticks": "",
            "zerolinecolor": "white"
           },
           "yaxis": {
            "backgroundcolor": "#E5ECF6",
            "gridcolor": "white",
            "gridwidth": 2,
            "linecolor": "white",
            "showbackground": true,
            "ticks": "",
            "zerolinecolor": "white"
           },
           "zaxis": {
            "backgroundcolor": "#E5ECF6",
            "gridcolor": "white",
            "gridwidth": 2,
            "linecolor": "white",
            "showbackground": true,
            "ticks": "",
            "zerolinecolor": "white"
           }
          },
          "shapedefaults": {
           "line": {
            "color": "#2a3f5f"
           }
          },
          "ternary": {
           "aaxis": {
            "gridcolor": "white",
            "linecolor": "white",
            "ticks": ""
           },
           "baxis": {
            "gridcolor": "white",
            "linecolor": "white",
            "ticks": ""
           },
           "bgcolor": "#E5ECF6",
           "caxis": {
            "gridcolor": "white",
            "linecolor": "white",
            "ticks": ""
           }
          },
          "title": {
           "x": 0.05
          },
          "xaxis": {
           "automargin": true,
           "gridcolor": "white",
           "linecolor": "white",
           "ticks": "",
           "title": {
            "standoff": 15
           },
           "zerolinecolor": "white",
           "zerolinewidth": 2
          },
          "yaxis": {
           "automargin": true,
           "gridcolor": "white",
           "linecolor": "white",
           "ticks": "",
           "title": {
            "standoff": 15
           },
           "zerolinecolor": "white",
           "zerolinewidth": 2
          }
         }
        },
        "width": 1000,
        "xaxis": {
         "dtick": 30,
         "tickfont": {
          "size": 40
         },
         "title": {
          "font": {
           "size": 40
          },
          "text": "alpha3 (deg)"
         }
        },
        "yaxis": {
         "dtick": 30,
         "tickfont": {
          "size": 40
         },
         "title": {
          "font": {
           "size": 40
          },
          "text": "alpha4 (deg)"
         }
        }
       }
      }
     },
     "metadata": {},
     "output_type": "display_data"
    }
   ],
   "source": [
    "np.random.seed(42)\n",
    "\n",
    "# from 0, 10, 20, ..., 180 deg for alpha\n",
    "alpha_list_deg3 = np.arange(0, 181, 15)\n",
    "alpha_list_rad3 = np.deg2rad(alpha_list_deg3)\n",
    "alpha_list_deg4 = np.arange(0, 181, 15)\n",
    "alpha_list_rad4 = np.deg2rad(alpha_list_deg4)\n",
    "print(f\"alpha 3: {alpha_list_deg3}\")\n",
    "print(f\"alpha 4: {alpha_list_deg4}\")\n",
    "\n",
    "method = \"minsingular\"\n",
    "axes = \"all\"\n",
    "\n",
    "# isRun = True\n",
    "# isSave = True\n",
    "\n",
    "isSave = False\n",
    "isRun = False\n",
    "\n",
    "if isRun:\n",
    "    res, res_mat = evaluate_alpha_effect(\n",
    "        alpha_list_rad3, alpha_list_rad4, isSave=True, method=method, axes=axes\n",
    "    )\n",
    "if not isRun:\n",
    "    npzfile = np.load(f\"data/two_alpha/{method}_{axes}.npz\")\n",
    "    res = npzfile[\"results\"]\n",
    "    res_mat = npzfile[\"res_mat\"]\n",
    "\n",
    "\n",
    "plot_global_index_results(\n",
    "    alpha_list_deg3,\n",
    "    alpha_list_deg4,\n",
    "    res_mat,\n",
    "    plot_type=\"surface\",\n",
    "    method=method,\n",
    "    axes=axes,\n",
    "    isSave=isSave,\n",
    ")\n",
    "\n",
    "plot_global_index_results(\n",
    "    alpha_list_deg3,\n",
    "    alpha_list_deg4,\n",
    "    res_mat,\n",
    "    plot_type=\"heatmap\",\n",
    "    method=method,\n",
    "    axes=axes,\n",
    "    isSave=isSave,\n",
    ")"
   ]
  },
  {
   "cell_type": "markdown",
   "metadata": {},
   "source": [
    "## Evaluate Alpha 2&3&4 Effects on Global Indices"
   ]
  },
  {
   "cell_type": "code",
   "execution_count": 15,
   "metadata": {},
   "outputs": [],
   "source": [
    "def evaluate_3alpha_effect(\n",
    "    alpha_list2, alpha_list3, alpha_list4, isSave=False, method=\"invcondition\", axes=\"all\"\n",
    "):\n",
    "    \"\"\"\n",
    "    Evaluate the effect of alpha on the global indices.\n",
    "    \"\"\"\n",
    "    results = []\n",
    "    res_mat = np.zeros((len(alpha_list2), len(alpha_list3), len(alpha_list4)))\n",
    "    for i, alpha2 in tqdm(\n",
    "        enumerate(alpha_list2),\n",
    "        total=len(alpha_list2),\n",
    "        desc=\"alpha2 progress\",\n",
    "        unit=\"outer\",\n",
    "    ):\n",
    "        for j, alpha3 in tqdm(\n",
    "            enumerate(alpha_list3),\n",
    "            total=len(alpha_list3),\n",
    "            desc=f\"alpha3 progress (alpha2={np.rad2deg(alpha2)})\",\n",
    "            unit=\"inner\",\n",
    "            leave=False,\n",
    "        ):\n",
    "            for k, alpha4 in tqdm(\n",
    "                enumerate(alpha_list4),\n",
    "                total=len(alpha_list4),\n",
    "                desc=f\"alpha4 progress (alpha2={np.rad2deg(alpha2)}, alpha3={np.rad2deg(alpha3)})\",\n",
    "                unit=\"inner\",\n",
    "                leave=False,\n",
    "            ):\n",
    "                robot = rsb.models.DH.Generic.GenericFour(alpha=[alpha2, alpha3, alpha4, 0])\n",
    "                ws = WorkSpace(robot=robot)\n",
    "                G = ws.iter_calc_global_indice(\n",
    "                    initial_samples=3000,\n",
    "                    batch_ratio=0.1,\n",
    "                    error_tolerance_percentage=1e-3,\n",
    "                    method=method,\n",
    "                    axes=axes,\n",
    "                    max_samples=30000,\n",
    "                )\n",
    "                results.append([alpha2, alpha3, alpha4, G])\n",
    "                res_mat[i, j, k] = G\n",
    "                del robot, ws\n",
    "\n",
    "    results = np.array(results)\n",
    "    if isSave:\n",
    "        filename = f\"data/three_alpha/{method}_{axes}.npz\"\n",
    "        np.savez(filename, results=results, res_mat=res_mat)\n",
    "    return results, res_mat\n",
    "\n",
    "\n",
    "def plot_scatter_global_index_results(\n",
    "    alpha_list_deg2,\n",
    "    alpha_list_deg3,\n",
    "    alpha_list_deg4,\n",
    "    res,\n",
    "    res_mat,\n",
    "    plot_type=\"scatter\",\n",
    "    method=\"invcondition\",\n",
    "    axes=\"all\",\n",
    "    isSave=False,\n",
    "):\n",
    "    G_mat= res[:,-1].copy()\n",
    "    if plot_type == \"scatter\":\n",
    "        fig = go.Figure(\n",
    "            data=go.Scatter3d(\n",
    "                x=np.rad2deg(res[:, 0]),\n",
    "                y=np.rad2deg(res[:, 1]),\n",
    "                z=np.rad2deg(res[:, 2]),\n",
    "                mode=\"markers\",\n",
    "                marker=dict(\n",
    "                    size=10,\n",
    "                    color=G_mat,\n",
    "                    # colorscale=\"Viridis\",\n",
    "                    colorbar=dict(title=f\"{method}\", titlefont=dict(size=40), tickfont=dict(size=40)),\n",
    "                ),\n",
    "            )\n",
    "        )\n",
    "        fig.update_layout(\n",
    "            scene=dict(\n",
    "                xaxis_title=\"alpha2 (deg)\",\n",
    "                yaxis_title=\"alpha3 (deg)\",\n",
    "                zaxis_title=\"alpha4 (deg)\",\n",
    "                xaxis=dict(titlefont=dict(size=40), tickfont=dict(size=16), dtick=90),\n",
    "                yaxis=dict(titlefont=dict(size=40), tickfont=dict(size=16), dtick=90),\n",
    "                zaxis=dict(titlefont=dict(size=40), tickfont=dict(size=16), dtick=90),\n",
    "                camera=dict(\n",
    "                    eye=dict(x=1.55, y=1.55, z=1.55),\n",
    "                    up=dict(x=0, y=0, z=1),\n",
    "                ),\n",
    "            )\n",
    "        )\n",
    "\n",
    "    if plot_type == 'parallel': \n",
    "        # Convert the data to a DataFrame\n",
    "        columns = ['alpha2', 'alpha3', 'alpha4', 'G']\n",
    "        res[:,:3] = np.rad2deg(res[:,:3])\n",
    "        df = pd.DataFrame(res, columns=columns)\n",
    "        fig = px.parallel_coordinates(\n",
    "            df, color='G',\n",
    "            labels={'0': 'alpha2 (deg)', '1': 'alpha3 (deg)', '2': 'alpha4 (deg)'},\n",
    "            # color_continuous_scale='Viridis',\n",
    "            height=800,\n",
    "            width=1000,\n",
    "        )\n",
    "    if plot_type == \"surface\":\n",
    "        print(\"PLotting Surface\")\n",
    "        fig = go.Figure(\n",
    "            data=go.Surface(\n",
    "                x=res[:, 0],\n",
    "                y=res[:, 1],\n",
    "                z=res[:, 2],\n",
    "                surfacecolor=res_mat,\n",
    "            )\n",
    "        )\n",
    "        fig.update_layout(\n",
    "            scene=dict(\n",
    "                xaxis_title=\"alpha2 (deg)\",\n",
    "                yaxis_title=\"alpha3 (deg)\",\n",
    "                zaxis_title=\"alpha4 (deg)\",\n",
    "                xaxis=dict(titlefont=dict(size=40), tickfont=dict(size=16), dtick=90),\n",
    "                yaxis=dict(titlefont=dict(size=40), tickfont=dict(size=16), dtick=90),\n",
    "                zaxis=dict(titlefont=dict(size=40), tickfont=dict(size=16), dtick=90),\n",
    "                camera=dict(\n",
    "                    eye=dict(x=1.55, y=1.55, z=1.55),\n",
    "                    up=dict(x=0, y=0, z=1),\n",
    "                ),\n",
    "            )\n",
    "        )\n",
    "        \n",
    "    # df = px.data.iris()\n",
    "    # fig = px.scatter_3d(\n",
    "    #     x=res[:, 0],\n",
    "    #     y=res[:, 1],\n",
    "    #     z=res[:, 2],\n",
    "    #     color=G_mat,\n",
    "    #     title=f'Effect of alpha on global indices using {method} method and {axes} axes',\n",
    "    #     labels={'x': 'alpha2 (deg)', 'y': 'alpha3 (deg)', 'z': 'alpha4 (deg)'},\n",
    "    #     color_continuous_scale='Viridis',\n",
    "    #     height=800,\n",
    "    #     width=1000,\n",
    "    # )\n",
    "    if isSave:\n",
    "        fig.write_image(f\"fig/three_alpha/{method}_{axes}_{plot_type}.png\")\n",
    "        fig.write_html(f\"fig/three_alpha/{method}_{axes}_{plot_type}.html\")\n",
    "    fig.show()\n",
    "\n",
    "    "
   ]
  },
  {
   "cell_type": "markdown",
   "metadata": {},
   "source": [
    "### Global Indice - Inverse Condition Number"
   ]
  },
  {
   "cell_type": "code",
   "execution_count": null,
   "metadata": {},
   "outputs": [
    {
     "name": "stdout",
     "output_type": "stream",
     "text": [
      "alpha 2: [ 0 15 30 45 60 75 90]\n",
      "alpha 3: [ 0 15 30 45 60 75 90]\n",
      "alpha 4: [ 0 15 30 45 60 75 90]\n"
     ]
    },
    {
     "data": {
      "application/vnd.plotly.v1+json": {
       "config": {
        "plotlyServerURL": "https://plot.ly"
       },
       "data": [
        {
         "dimensions": [
          {
           "label": "alpha2",
           "values": [
            0,
            0,
            0,
            0,
            0,
            0,
            0,
            0,
            0,
            0,
            0,
            0,
            0,
            0,
            0,
            0,
            0,
            0,
            0,
            0,
            0,
            0,
            0,
            0,
            0,
            0,
            0,
            0,
            0,
            0,
            0,
            0,
            0,
            0,
            0,
            0,
            0,
            0,
            0,
            0,
            0,
            0,
            0,
            0,
            0,
            0,
            0,
            0,
            0,
            14.999999999999998,
            14.999999999999998,
            14.999999999999998,
            14.999999999999998,
            14.999999999999998,
            14.999999999999998,
            14.999999999999998,
            14.999999999999998,
            14.999999999999998,
            14.999999999999998,
            14.999999999999998,
            14.999999999999998,
            14.999999999999998,
            14.999999999999998,
            14.999999999999998,
            14.999999999999998,
            14.999999999999998,
            14.999999999999998,
            14.999999999999998,
            14.999999999999998,
            14.999999999999998,
            14.999999999999998,
            14.999999999999998,
            14.999999999999998,
            14.999999999999998,
            14.999999999999998,
            14.999999999999998,
            14.999999999999998,
            14.999999999999998,
            14.999999999999998,
            14.999999999999998,
            14.999999999999998,
            14.999999999999998,
            14.999999999999998,
            14.999999999999998,
            14.999999999999998,
            14.999999999999998,
            14.999999999999998,
            14.999999999999998,
            14.999999999999998,
            14.999999999999998,
            14.999999999999998,
            14.999999999999998,
            14.999999999999998,
            14.999999999999998,
            14.999999999999998,
            14.999999999999998,
            14.999999999999998,
            14.999999999999998,
            29.999999999999996,
            29.999999999999996,
            29.999999999999996,
            29.999999999999996,
            29.999999999999996,
            29.999999999999996,
            29.999999999999996,
            29.999999999999996,
            29.999999999999996,
            29.999999999999996,
            29.999999999999996,
            29.999999999999996,
            29.999999999999996,
            29.999999999999996,
            29.999999999999996,
            29.999999999999996,
            29.999999999999996,
            29.999999999999996,
            29.999999999999996,
            29.999999999999996,
            29.999999999999996,
            29.999999999999996,
            29.999999999999996,
            29.999999999999996,
            29.999999999999996,
            29.999999999999996,
            29.999999999999996,
            29.999999999999996,
            29.999999999999996,
            29.999999999999996,
            29.999999999999996,
            29.999999999999996,
            29.999999999999996,
            29.999999999999996,
            29.999999999999996,
            29.999999999999996,
            29.999999999999996,
            29.999999999999996,
            29.999999999999996,
            29.999999999999996,
            29.999999999999996,
            29.999999999999996,
            29.999999999999996,
            29.999999999999996,
            29.999999999999996,
            29.999999999999996,
            29.999999999999996,
            29.999999999999996,
            29.999999999999996,
            45,
            45,
            45,
            45,
            45,
            45,
            45,
            45,
            45,
            45,
            45,
            45,
            45,
            45,
            45,
            45,
            45,
            45,
            45,
            45,
            45,
            45,
            45,
            45,
            45,
            45,
            45,
            45,
            45,
            45,
            45,
            45,
            45,
            45,
            45,
            45,
            45,
            45,
            45,
            45,
            45,
            45,
            45,
            45,
            45,
            45,
            45,
            45,
            45,
            59.99999999999999,
            59.99999999999999,
            59.99999999999999,
            59.99999999999999,
            59.99999999999999,
            59.99999999999999,
            59.99999999999999,
            59.99999999999999,
            59.99999999999999,
            59.99999999999999,
            59.99999999999999,
            59.99999999999999,
            59.99999999999999,
            59.99999999999999,
            59.99999999999999,
            59.99999999999999,
            59.99999999999999,
            59.99999999999999,
            59.99999999999999,
            59.99999999999999,
            59.99999999999999,
            59.99999999999999,
            59.99999999999999,
            59.99999999999999,
            59.99999999999999,
            59.99999999999999,
            59.99999999999999,
            59.99999999999999,
            59.99999999999999,
            59.99999999999999,
            59.99999999999999,
            59.99999999999999,
            59.99999999999999,
            59.99999999999999,
            59.99999999999999,
            59.99999999999999,
            59.99999999999999,
            59.99999999999999,
            59.99999999999999,
            59.99999999999999,
            59.99999999999999,
            59.99999999999999,
            59.99999999999999,
            59.99999999999999,
            59.99999999999999,
            59.99999999999999,
            59.99999999999999,
            59.99999999999999,
            59.99999999999999,
            75,
            75,
            75,
            75,
            75,
            75,
            75,
            75,
            75,
            75,
            75,
            75,
            75,
            75,
            75,
            75,
            75,
            75,
            75,
            75,
            75,
            75,
            75,
            75,
            75,
            75,
            75,
            75,
            75,
            75,
            75,
            75,
            75,
            75,
            75,
            75,
            75,
            75,
            75,
            75,
            75,
            75,
            75,
            75,
            75,
            75,
            75,
            75,
            75,
            90,
            90,
            90,
            90,
            90,
            90,
            90,
            90,
            90,
            90,
            90,
            90,
            90,
            90,
            90,
            90,
            90,
            90,
            90,
            90,
            90,
            90,
            90,
            90,
            90,
            90,
            90,
            90,
            90,
            90,
            90,
            90,
            90,
            90,
            90,
            90,
            90,
            90,
            90,
            90,
            90,
            90,
            90,
            90,
            90,
            90,
            90,
            90,
            90
           ]
          },
          {
           "label": "alpha3",
           "values": [
            0,
            0,
            0,
            0,
            0,
            0,
            0,
            14.999999999999998,
            14.999999999999998,
            14.999999999999998,
            14.999999999999998,
            14.999999999999998,
            14.999999999999998,
            14.999999999999998,
            29.999999999999996,
            29.999999999999996,
            29.999999999999996,
            29.999999999999996,
            29.999999999999996,
            29.999999999999996,
            29.999999999999996,
            45,
            45,
            45,
            45,
            45,
            45,
            45,
            59.99999999999999,
            59.99999999999999,
            59.99999999999999,
            59.99999999999999,
            59.99999999999999,
            59.99999999999999,
            59.99999999999999,
            75,
            75,
            75,
            75,
            75,
            75,
            75,
            90,
            90,
            90,
            90,
            90,
            90,
            90,
            0,
            0,
            0,
            0,
            0,
            0,
            0,
            14.999999999999998,
            14.999999999999998,
            14.999999999999998,
            14.999999999999998,
            14.999999999999998,
            14.999999999999998,
            14.999999999999998,
            29.999999999999996,
            29.999999999999996,
            29.999999999999996,
            29.999999999999996,
            29.999999999999996,
            29.999999999999996,
            29.999999999999996,
            45,
            45,
            45,
            45,
            45,
            45,
            45,
            59.99999999999999,
            59.99999999999999,
            59.99999999999999,
            59.99999999999999,
            59.99999999999999,
            59.99999999999999,
            59.99999999999999,
            75,
            75,
            75,
            75,
            75,
            75,
            75,
            90,
            90,
            90,
            90,
            90,
            90,
            90,
            0,
            0,
            0,
            0,
            0,
            0,
            0,
            14.999999999999998,
            14.999999999999998,
            14.999999999999998,
            14.999999999999998,
            14.999999999999998,
            14.999999999999998,
            14.999999999999998,
            29.999999999999996,
            29.999999999999996,
            29.999999999999996,
            29.999999999999996,
            29.999999999999996,
            29.999999999999996,
            29.999999999999996,
            45,
            45,
            45,
            45,
            45,
            45,
            45,
            59.99999999999999,
            59.99999999999999,
            59.99999999999999,
            59.99999999999999,
            59.99999999999999,
            59.99999999999999,
            59.99999999999999,
            75,
            75,
            75,
            75,
            75,
            75,
            75,
            90,
            90,
            90,
            90,
            90,
            90,
            90,
            0,
            0,
            0,
            0,
            0,
            0,
            0,
            14.999999999999998,
            14.999999999999998,
            14.999999999999998,
            14.999999999999998,
            14.999999999999998,
            14.999999999999998,
            14.999999999999998,
            29.999999999999996,
            29.999999999999996,
            29.999999999999996,
            29.999999999999996,
            29.999999999999996,
            29.999999999999996,
            29.999999999999996,
            45,
            45,
            45,
            45,
            45,
            45,
            45,
            59.99999999999999,
            59.99999999999999,
            59.99999999999999,
            59.99999999999999,
            59.99999999999999,
            59.99999999999999,
            59.99999999999999,
            75,
            75,
            75,
            75,
            75,
            75,
            75,
            90,
            90,
            90,
            90,
            90,
            90,
            90,
            0,
            0,
            0,
            0,
            0,
            0,
            0,
            14.999999999999998,
            14.999999999999998,
            14.999999999999998,
            14.999999999999998,
            14.999999999999998,
            14.999999999999998,
            14.999999999999998,
            29.999999999999996,
            29.999999999999996,
            29.999999999999996,
            29.999999999999996,
            29.999999999999996,
            29.999999999999996,
            29.999999999999996,
            45,
            45,
            45,
            45,
            45,
            45,
            45,
            59.99999999999999,
            59.99999999999999,
            59.99999999999999,
            59.99999999999999,
            59.99999999999999,
            59.99999999999999,
            59.99999999999999,
            75,
            75,
            75,
            75,
            75,
            75,
            75,
            90,
            90,
            90,
            90,
            90,
            90,
            90,
            0,
            0,
            0,
            0,
            0,
            0,
            0,
            14.999999999999998,
            14.999999999999998,
            14.999999999999998,
            14.999999999999998,
            14.999999999999998,
            14.999999999999998,
            14.999999999999998,
            29.999999999999996,
            29.999999999999996,
            29.999999999999996,
            29.999999999999996,
            29.999999999999996,
            29.999999999999996,
            29.999999999999996,
            45,
            45,
            45,
            45,
            45,
            45,
            45,
            59.99999999999999,
            59.99999999999999,
            59.99999999999999,
            59.99999999999999,
            59.99999999999999,
            59.99999999999999,
            59.99999999999999,
            75,
            75,
            75,
            75,
            75,
            75,
            75,
            90,
            90,
            90,
            90,
            90,
            90,
            90,
            0,
            0,
            0,
            0,
            0,
            0,
            0,
            14.999999999999998,
            14.999999999999998,
            14.999999999999998,
            14.999999999999998,
            14.999999999999998,
            14.999999999999998,
            14.999999999999998,
            29.999999999999996,
            29.999999999999996,
            29.999999999999996,
            29.999999999999996,
            29.999999999999996,
            29.999999999999996,
            29.999999999999996,
            45,
            45,
            45,
            45,
            45,
            45,
            45,
            59.99999999999999,
            59.99999999999999,
            59.99999999999999,
            59.99999999999999,
            59.99999999999999,
            59.99999999999999,
            59.99999999999999,
            75,
            75,
            75,
            75,
            75,
            75,
            75,
            90,
            90,
            90,
            90,
            90,
            90,
            90
           ]
          },
          {
           "label": "alpha4",
           "values": [
            0,
            14.999999999999998,
            29.999999999999996,
            45,
            59.99999999999999,
            75,
            90,
            0,
            14.999999999999998,
            29.999999999999996,
            45,
            59.99999999999999,
            75,
            90,
            0,
            14.999999999999998,
            29.999999999999996,
            45,
            59.99999999999999,
            75,
            90,
            0,
            14.999999999999998,
            29.999999999999996,
            45,
            59.99999999999999,
            75,
            90,
            0,
            14.999999999999998,
            29.999999999999996,
            45,
            59.99999999999999,
            75,
            90,
            0,
            14.999999999999998,
            29.999999999999996,
            45,
            59.99999999999999,
            75,
            90,
            0,
            14.999999999999998,
            29.999999999999996,
            45,
            59.99999999999999,
            75,
            90,
            0,
            14.999999999999998,
            29.999999999999996,
            45,
            59.99999999999999,
            75,
            90,
            0,
            14.999999999999998,
            29.999999999999996,
            45,
            59.99999999999999,
            75,
            90,
            0,
            14.999999999999998,
            29.999999999999996,
            45,
            59.99999999999999,
            75,
            90,
            0,
            14.999999999999998,
            29.999999999999996,
            45,
            59.99999999999999,
            75,
            90,
            0,
            14.999999999999998,
            29.999999999999996,
            45,
            59.99999999999999,
            75,
            90,
            0,
            14.999999999999998,
            29.999999999999996,
            45,
            59.99999999999999,
            75,
            90,
            0,
            14.999999999999998,
            29.999999999999996,
            45,
            59.99999999999999,
            75,
            90,
            0,
            14.999999999999998,
            29.999999999999996,
            45,
            59.99999999999999,
            75,
            90,
            0,
            14.999999999999998,
            29.999999999999996,
            45,
            59.99999999999999,
            75,
            90,
            0,
            14.999999999999998,
            29.999999999999996,
            45,
            59.99999999999999,
            75,
            90,
            0,
            14.999999999999998,
            29.999999999999996,
            45,
            59.99999999999999,
            75,
            90,
            0,
            14.999999999999998,
            29.999999999999996,
            45,
            59.99999999999999,
            75,
            90,
            0,
            14.999999999999998,
            29.999999999999996,
            45,
            59.99999999999999,
            75,
            90,
            0,
            14.999999999999998,
            29.999999999999996,
            45,
            59.99999999999999,
            75,
            90,
            0,
            14.999999999999998,
            29.999999999999996,
            45,
            59.99999999999999,
            75,
            90,
            0,
            14.999999999999998,
            29.999999999999996,
            45,
            59.99999999999999,
            75,
            90,
            0,
            14.999999999999998,
            29.999999999999996,
            45,
            59.99999999999999,
            75,
            90,
            0,
            14.999999999999998,
            29.999999999999996,
            45,
            59.99999999999999,
            75,
            90,
            0,
            14.999999999999998,
            29.999999999999996,
            45,
            59.99999999999999,
            75,
            90,
            0,
            14.999999999999998,
            29.999999999999996,
            45,
            59.99999999999999,
            75,
            90,
            0,
            14.999999999999998,
            29.999999999999996,
            45,
            59.99999999999999,
            75,
            90,
            0,
            14.999999999999998,
            29.999999999999996,
            45,
            59.99999999999999,
            75,
            90,
            0,
            14.999999999999998,
            29.999999999999996,
            45,
            59.99999999999999,
            75,
            90,
            0,
            14.999999999999998,
            29.999999999999996,
            45,
            59.99999999999999,
            75,
            90,
            0,
            14.999999999999998,
            29.999999999999996,
            45,
            59.99999999999999,
            75,
            90,
            0,
            14.999999999999998,
            29.999999999999996,
            45,
            59.99999999999999,
            75,
            90,
            0,
            14.999999999999998,
            29.999999999999996,
            45,
            59.99999999999999,
            75,
            90,
            0,
            14.999999999999998,
            29.999999999999996,
            45,
            59.99999999999999,
            75,
            90,
            0,
            14.999999999999998,
            29.999999999999996,
            45,
            59.99999999999999,
            75,
            90,
            0,
            14.999999999999998,
            29.999999999999996,
            45,
            59.99999999999999,
            75,
            90,
            0,
            14.999999999999998,
            29.999999999999996,
            45,
            59.99999999999999,
            75,
            90,
            0,
            14.999999999999998,
            29.999999999999996,
            45,
            59.99999999999999,
            75,
            90,
            0,
            14.999999999999998,
            29.999999999999996,
            45,
            59.99999999999999,
            75,
            90,
            0,
            14.999999999999998,
            29.999999999999996,
            45,
            59.99999999999999,
            75,
            90,
            0,
            14.999999999999998,
            29.999999999999996,
            45,
            59.99999999999999,
            75,
            90,
            0,
            14.999999999999998,
            29.999999999999996,
            45,
            59.99999999999999,
            75,
            90,
            0,
            14.999999999999998,
            29.999999999999996,
            45,
            59.99999999999999,
            75,
            90,
            0,
            14.999999999999998,
            29.999999999999996,
            45,
            59.99999999999999,
            75,
            90,
            0,
            14.999999999999998,
            29.999999999999996,
            45,
            59.99999999999999,
            75,
            90,
            0,
            14.999999999999998,
            29.999999999999996,
            45,
            59.99999999999999,
            75,
            90,
            0,
            14.999999999999998,
            29.999999999999996,
            45,
            59.99999999999999,
            75,
            90,
            0,
            14.999999999999998,
            29.999999999999996,
            45,
            59.99999999999999,
            75,
            90
           ]
          },
          {
           "label": "G",
           "values": [
            0.00616352091608852,
            0.017501676151845304,
            0.020168801761334103,
            0.021330219889886443,
            0.018714042831019975,
            0.022649128579608477,
            0.01770708983532869,
            0.018461548856930955,
            0.01692543390124285,
            0.025566790749647204,
            0.026680201503196714,
            0.020606255882598994,
            0.019017007703647493,
            0.019979196502332527,
            0.02122423205614268,
            0.02543953235704768,
            0.023872725149467387,
            0.023191102290273987,
            0.02197313930323406,
            0.024387385478968543,
            0.022225609428742386,
            0.020137742812771392,
            0.02241407555418343,
            0.022239826034179757,
            0.023015094499060387,
            0.024417242678036556,
            0.01611556545428656,
            0.019189068696103727,
            0.01688711885566676,
            0.025594696850099317,
            0.02353489750363349,
            0.02054115794695611,
            0.023402139971352143,
            0.021061122997087133,
            0.01986276593216539,
            0.018631643525129304,
            0.021124500844506306,
            0.01895733069770306,
            0.02251541830370477,
            0.01995048430889524,
            0.021085095111322307,
            0.01930744612411202,
            0.015244894992026864,
            0.01836649889899665,
            0.020204616764273785,
            0.020248297694167396,
            0.023516253424521964,
            0.01935431821883247,
            0.019206930272070103,
            0.059119537758506605,
            0.0638014077503864,
            0.06460517747619457,
            0.05989407892040942,
            0.05739351897029877,
            0.05577335174286217,
            0.05591750607376256,
            0.0584431773541367,
            0.05645625528548065,
            0.05608473688767504,
            0.055228129885020356,
            0.05329386901689464,
            0.05293264293314934,
            0.05105147145737082,
            0.05684932513960972,
            0.05738590167484998,
            0.04813434652254948,
            0.046191507967192444,
            0.04435055178317804,
            0.04512292640269215,
            0.04364536742679473,
            0.053045643762963224,
            0.05089438576688617,
            0.042686182228910054,
            0.03718373239989109,
            0.03703800458986275,
            0.03844422750672827,
            0.04127038346898661,
            0.049626523185835165,
            0.04741699704178289,
            0.04043532210168117,
            0.0352420027442958,
            0.033143307421463826,
            0.03446517254605133,
            0.037296375227702835,
            0.046723369237263744,
            0.04547572170221416,
            0.03945179991109609,
            0.03654000667128476,
            0.033580553725123426,
            0.032467529710858055,
            0.03350756981693915,
            0.044992076300219425,
            0.04611283199566754,
            0.042020409930818715,
            0.03952189796898152,
            0.03627420511505987,
            0.033251937905192944,
            0.032270706370657425,
            0.03962610211343317,
            0.04666594940016462,
            0.05076786868495679,
            0.05303172701754183,
            0.05130111219875915,
            0.050203233871400056,
            0.051001877259015296,
            0.04467447723469426,
            0.0349042383619775,
            0.03782071093788651,
            0.04099258682853924,
            0.04434442294794962,
            0.04674825324767813,
            0.04559470855341549,
            0.04830070486462024,
            0.040820614893401316,
            0.040959361775819644,
            0.04541718428935301,
            0.03915003930537402,
            0.036919170201681006,
            0.03762634193596431,
            0.049325546354587725,
            0.044232786122092096,
            0.03934462961061437,
            0.03468604771941449,
            0.030200678641519034,
            0.030336865249004478,
            0.03281982921880933,
            0.0476550080589706,
            0.04324301744096142,
            0.03478269865533961,
            0.02931077845933683,
            0.026968699545761764,
            0.027499416175260406,
            0.0296869946112722,
            0.04787192860049734,
            0.03926072504037076,
            0.03345528225443403,
            0.028259501900898206,
            0.028157879088872625,
            0.02659311762550318,
            0.027805520016495066,
            0.04719009967705581,
            0.04087096560256139,
            0.03385266751389045,
            0.031115785775617823,
            0.02965419275123095,
            0.027641985822764024,
            0.026847212049179107,
            0.03310485855728782,
            0.040021596164962085,
            0.04584867377181596,
            0.04820281254934947,
            0.04851569189254326,
            0.04970447028976645,
            0.050148290206822245,
            0.038813992542004544,
            0.0314050445042434,
            0.03590874988584572,
            0.040811137033790953,
            0.04222473526368025,
            0.04390059618854648,
            0.04517809341079864,
            0.04435170657379501,
            0.03660088148934823,
            0.0316434301106356,
            0.034057014052313435,
            0.037164480091566705,
            0.03451587159257064,
            0.03517766585325868,
            0.04684309605667171,
            0.037974087492067314,
            0.03406066335041646,
            0.030341958837883813,
            0.02935786935457978,
            0.030147804274229837,
            0.029210909955455548,
            0.046360298686322174,
            0.03812735879460079,
            0.0329608963128379,
            0.03019142413273136,
            0.027104350998872245,
            0.025726268698757174,
            0.025182392526235615,
            0.04570357502614745,
            0.039882457598078534,
            0.03369024904181714,
            0.028635332844918072,
            0.02582313488524733,
            0.02312088246969537,
            0.023000515716669133,
            0.04676808225107951,
            0.04189734525161514,
            0.033916248432255124,
            0.029416104033388294,
            0.025274279689824163,
            0.023139688723064666,
            0.02248910189195637,
            0.02962209084988427,
            0.03665247284614788,
            0.042130853465033605,
            0.04500401058537798,
            0.046019779652480323,
            0.046818400676112495,
            0.04780901414194774,
            0.036118209754332095,
            0.03155783754859507,
            0.03461846526671798,
            0.03888570420115465,
            0.040196708905192044,
            0.040720931646888385,
            0.042945158792656764,
            0.040926978314228375,
            0.034731880119163394,
            0.030535949123945572,
            0.03228020683478643,
            0.031743261743045835,
            0.032873302436844484,
            0.03466350342100806,
            0.044156785429225714,
            0.035196358187893705,
            0.03183876102995156,
            0.028305834353125555,
            0.027822164878056898,
            0.028660609276488183,
            0.029757933981895104,
            0.04477553710939275,
            0.03744579452096823,
            0.03163914997959148,
            0.02879745092253558,
            0.02686529436136768,
            0.02607762857641922,
            0.026164379866492008,
            0.04526097123624225,
            0.03986408714089902,
            0.03303731346067386,
            0.03007784156346606,
            0.026067677555190363,
            0.02477626368144647,
            0.024153577514935222,
            0.045473024971032026,
            0.04117877125908297,
            0.03419090539151488,
            0.028983040932398667,
            0.026427212796917794,
            0.023916153259690955,
            0.022595755022465577,
            0.028554614357691282,
            0.034443463343151494,
            0.04091585971894697,
            0.04382784024679555,
            0.0453198615407454,
            0.04650523958340626,
            0.047114074095679706,
            0.03434856578780856,
            0.030109918270933417,
            0.03283145840234325,
            0.03771152590373569,
            0.038885791042644766,
            0.03961861566506199,
            0.041482727285104014,
            0.03977401487338284,
            0.03176415843293087,
            0.02863300527783534,
            0.030190546833676935,
            0.030539885909567598,
            0.03193661597222607,
            0.03272301661819647,
            0.042366597496032984,
            0.035075508289894,
            0.029432690722981263,
            0.02725923652280058,
            0.028592039944477697,
            0.02870322342056138,
            0.029087619441447377,
            0.04476392537313709,
            0.037254007079000666,
            0.030488344432452283,
            0.029615615739388295,
            0.02685170962169661,
            0.027222088834213665,
            0.02654822771592055,
            0.042845474151177294,
            0.04014726120540618,
            0.03280762182497352,
            0.029768738174854422,
            0.027083688917136018,
            0.02494005080238076,
            0.02491667472525597,
            0.04377755072986181,
            0.040231986855126356,
            0.03451083949245881,
            0.029330916870643795,
            0.026455463811123747,
            0.024088018616915893,
            0.023828981000088564,
            0.027711503366838218,
            0.034190486743539875,
            0.04110302572175893,
            0.04588857112149758,
            0.046231411108772054,
            0.0467686839363411,
            0.048519528073542616,
            0.034403510893410566,
            0.02984988735818546,
            0.032689044377561004,
            0.03767671286809761,
            0.03966544747818499,
            0.040908522778709336,
            0.04317186439237785,
            0.03902491270583433,
            0.03202173667398513,
            0.028099288638396416,
            0.030592181744784362,
            0.03116589982389359,
            0.03193899188176626,
            0.032284468102519066,
            0.04227026363514872,
            0.03622104819779797,
            0.030298688385457094,
            0.02863378339986148,
            0.028638013654289907,
            0.02837303590557919,
            0.02792008266505369,
            0.042127166064538264,
            0.038738991086238905,
            0.030973310102781863,
            0.027596478047202937,
            0.02667918133355137,
            0.026903252428896088,
            0.026300458307343347,
            0.042371211110318344,
            0.04139607533132742,
            0.03257357005795979,
            0.029607239176854757,
            0.026852286817371,
            0.025107430471979095,
            0.024657221878374203,
            0.042221879220131195,
            0.04087734766113004,
            0.03398164212183377,
            0.029936399044290955,
            0.027511196236860744,
            0.024530353706796185,
            0.023386175904757344
           ]
          }
         ],
         "domain": {
          "x": [
           0,
           1
          ],
          "y": [
           0,
           1
          ]
         },
         "line": {
          "color": [
           0.00616352091608852,
           0.017501676151845304,
           0.020168801761334103,
           0.021330219889886443,
           0.018714042831019975,
           0.022649128579608477,
           0.01770708983532869,
           0.018461548856930955,
           0.01692543390124285,
           0.025566790749647204,
           0.026680201503196714,
           0.020606255882598994,
           0.019017007703647493,
           0.019979196502332527,
           0.02122423205614268,
           0.02543953235704768,
           0.023872725149467387,
           0.023191102290273987,
           0.02197313930323406,
           0.024387385478968543,
           0.022225609428742386,
           0.020137742812771392,
           0.02241407555418343,
           0.022239826034179757,
           0.023015094499060387,
           0.024417242678036556,
           0.01611556545428656,
           0.019189068696103727,
           0.01688711885566676,
           0.025594696850099317,
           0.02353489750363349,
           0.02054115794695611,
           0.023402139971352143,
           0.021061122997087133,
           0.01986276593216539,
           0.018631643525129304,
           0.021124500844506306,
           0.01895733069770306,
           0.02251541830370477,
           0.01995048430889524,
           0.021085095111322307,
           0.01930744612411202,
           0.015244894992026864,
           0.01836649889899665,
           0.020204616764273785,
           0.020248297694167396,
           0.023516253424521964,
           0.01935431821883247,
           0.019206930272070103,
           0.059119537758506605,
           0.0638014077503864,
           0.06460517747619457,
           0.05989407892040942,
           0.05739351897029877,
           0.05577335174286217,
           0.05591750607376256,
           0.0584431773541367,
           0.05645625528548065,
           0.05608473688767504,
           0.055228129885020356,
           0.05329386901689464,
           0.05293264293314934,
           0.05105147145737082,
           0.05684932513960972,
           0.05738590167484998,
           0.04813434652254948,
           0.046191507967192444,
           0.04435055178317804,
           0.04512292640269215,
           0.04364536742679473,
           0.053045643762963224,
           0.05089438576688617,
           0.042686182228910054,
           0.03718373239989109,
           0.03703800458986275,
           0.03844422750672827,
           0.04127038346898661,
           0.049626523185835165,
           0.04741699704178289,
           0.04043532210168117,
           0.0352420027442958,
           0.033143307421463826,
           0.03446517254605133,
           0.037296375227702835,
           0.046723369237263744,
           0.04547572170221416,
           0.03945179991109609,
           0.03654000667128476,
           0.033580553725123426,
           0.032467529710858055,
           0.03350756981693915,
           0.044992076300219425,
           0.04611283199566754,
           0.042020409930818715,
           0.03952189796898152,
           0.03627420511505987,
           0.033251937905192944,
           0.032270706370657425,
           0.03962610211343317,
           0.04666594940016462,
           0.05076786868495679,
           0.05303172701754183,
           0.05130111219875915,
           0.050203233871400056,
           0.051001877259015296,
           0.04467447723469426,
           0.0349042383619775,
           0.03782071093788651,
           0.04099258682853924,
           0.04434442294794962,
           0.04674825324767813,
           0.04559470855341549,
           0.04830070486462024,
           0.040820614893401316,
           0.040959361775819644,
           0.04541718428935301,
           0.03915003930537402,
           0.036919170201681006,
           0.03762634193596431,
           0.049325546354587725,
           0.044232786122092096,
           0.03934462961061437,
           0.03468604771941449,
           0.030200678641519034,
           0.030336865249004478,
           0.03281982921880933,
           0.0476550080589706,
           0.04324301744096142,
           0.03478269865533961,
           0.02931077845933683,
           0.026968699545761764,
           0.027499416175260406,
           0.0296869946112722,
           0.04787192860049734,
           0.03926072504037076,
           0.03345528225443403,
           0.028259501900898206,
           0.028157879088872625,
           0.02659311762550318,
           0.027805520016495066,
           0.04719009967705581,
           0.04087096560256139,
           0.03385266751389045,
           0.031115785775617823,
           0.02965419275123095,
           0.027641985822764024,
           0.026847212049179107,
           0.03310485855728782,
           0.040021596164962085,
           0.04584867377181596,
           0.04820281254934947,
           0.04851569189254326,
           0.04970447028976645,
           0.050148290206822245,
           0.038813992542004544,
           0.0314050445042434,
           0.03590874988584572,
           0.040811137033790953,
           0.04222473526368025,
           0.04390059618854648,
           0.04517809341079864,
           0.04435170657379501,
           0.03660088148934823,
           0.0316434301106356,
           0.034057014052313435,
           0.037164480091566705,
           0.03451587159257064,
           0.03517766585325868,
           0.04684309605667171,
           0.037974087492067314,
           0.03406066335041646,
           0.030341958837883813,
           0.02935786935457978,
           0.030147804274229837,
           0.029210909955455548,
           0.046360298686322174,
           0.03812735879460079,
           0.0329608963128379,
           0.03019142413273136,
           0.027104350998872245,
           0.025726268698757174,
           0.025182392526235615,
           0.04570357502614745,
           0.039882457598078534,
           0.03369024904181714,
           0.028635332844918072,
           0.02582313488524733,
           0.02312088246969537,
           0.023000515716669133,
           0.04676808225107951,
           0.04189734525161514,
           0.033916248432255124,
           0.029416104033388294,
           0.025274279689824163,
           0.023139688723064666,
           0.02248910189195637,
           0.02962209084988427,
           0.03665247284614788,
           0.042130853465033605,
           0.04500401058537798,
           0.046019779652480323,
           0.046818400676112495,
           0.04780901414194774,
           0.036118209754332095,
           0.03155783754859507,
           0.03461846526671798,
           0.03888570420115465,
           0.040196708905192044,
           0.040720931646888385,
           0.042945158792656764,
           0.040926978314228375,
           0.034731880119163394,
           0.030535949123945572,
           0.03228020683478643,
           0.031743261743045835,
           0.032873302436844484,
           0.03466350342100806,
           0.044156785429225714,
           0.035196358187893705,
           0.03183876102995156,
           0.028305834353125555,
           0.027822164878056898,
           0.028660609276488183,
           0.029757933981895104,
           0.04477553710939275,
           0.03744579452096823,
           0.03163914997959148,
           0.02879745092253558,
           0.02686529436136768,
           0.02607762857641922,
           0.026164379866492008,
           0.04526097123624225,
           0.03986408714089902,
           0.03303731346067386,
           0.03007784156346606,
           0.026067677555190363,
           0.02477626368144647,
           0.024153577514935222,
           0.045473024971032026,
           0.04117877125908297,
           0.03419090539151488,
           0.028983040932398667,
           0.026427212796917794,
           0.023916153259690955,
           0.022595755022465577,
           0.028554614357691282,
           0.034443463343151494,
           0.04091585971894697,
           0.04382784024679555,
           0.0453198615407454,
           0.04650523958340626,
           0.047114074095679706,
           0.03434856578780856,
           0.030109918270933417,
           0.03283145840234325,
           0.03771152590373569,
           0.038885791042644766,
           0.03961861566506199,
           0.041482727285104014,
           0.03977401487338284,
           0.03176415843293087,
           0.02863300527783534,
           0.030190546833676935,
           0.030539885909567598,
           0.03193661597222607,
           0.03272301661819647,
           0.042366597496032984,
           0.035075508289894,
           0.029432690722981263,
           0.02725923652280058,
           0.028592039944477697,
           0.02870322342056138,
           0.029087619441447377,
           0.04476392537313709,
           0.037254007079000666,
           0.030488344432452283,
           0.029615615739388295,
           0.02685170962169661,
           0.027222088834213665,
           0.02654822771592055,
           0.042845474151177294,
           0.04014726120540618,
           0.03280762182497352,
           0.029768738174854422,
           0.027083688917136018,
           0.02494005080238076,
           0.02491667472525597,
           0.04377755072986181,
           0.040231986855126356,
           0.03451083949245881,
           0.029330916870643795,
           0.026455463811123747,
           0.024088018616915893,
           0.023828981000088564,
           0.027711503366838218,
           0.034190486743539875,
           0.04110302572175893,
           0.04588857112149758,
           0.046231411108772054,
           0.0467686839363411,
           0.048519528073542616,
           0.034403510893410566,
           0.02984988735818546,
           0.032689044377561004,
           0.03767671286809761,
           0.03966544747818499,
           0.040908522778709336,
           0.04317186439237785,
           0.03902491270583433,
           0.03202173667398513,
           0.028099288638396416,
           0.030592181744784362,
           0.03116589982389359,
           0.03193899188176626,
           0.032284468102519066,
           0.04227026363514872,
           0.03622104819779797,
           0.030298688385457094,
           0.02863378339986148,
           0.028638013654289907,
           0.02837303590557919,
           0.02792008266505369,
           0.042127166064538264,
           0.038738991086238905,
           0.030973310102781863,
           0.027596478047202937,
           0.02667918133355137,
           0.026903252428896088,
           0.026300458307343347,
           0.042371211110318344,
           0.04139607533132742,
           0.03257357005795979,
           0.029607239176854757,
           0.026852286817371,
           0.025107430471979095,
           0.024657221878374203,
           0.042221879220131195,
           0.04087734766113004,
           0.03398164212183377,
           0.029936399044290955,
           0.027511196236860744,
           0.024530353706796185,
           0.023386175904757344
          ],
          "coloraxis": "coloraxis"
         },
         "name": "",
         "type": "parcoords"
        }
       ],
       "layout": {
        "coloraxis": {
         "colorbar": {
          "title": {
           "text": "G"
          }
         },
         "colorscale": [
          [
           0,
           "#0d0887"
          ],
          [
           0.1111111111111111,
           "#46039f"
          ],
          [
           0.2222222222222222,
           "#7201a8"
          ],
          [
           0.3333333333333333,
           "#9c179e"
          ],
          [
           0.4444444444444444,
           "#bd3786"
          ],
          [
           0.5555555555555556,
           "#d8576b"
          ],
          [
           0.6666666666666666,
           "#ed7953"
          ],
          [
           0.7777777777777778,
           "#fb9f3a"
          ],
          [
           0.8888888888888888,
           "#fdca26"
          ],
          [
           1,
           "#f0f921"
          ]
         ]
        },
        "height": 800,
        "legend": {
         "tracegroupgap": 0
        },
        "margin": {
         "t": 60
        },
        "template": {
         "data": {
          "bar": [
           {
            "error_x": {
             "color": "#2a3f5f"
            },
            "error_y": {
             "color": "#2a3f5f"
            },
            "marker": {
             "line": {
              "color": "#E5ECF6",
              "width": 0.5
             },
             "pattern": {
              "fillmode": "overlay",
              "size": 10,
              "solidity": 0.2
             }
            },
            "type": "bar"
           }
          ],
          "barpolar": [
           {
            "marker": {
             "line": {
              "color": "#E5ECF6",
              "width": 0.5
             },
             "pattern": {
              "fillmode": "overlay",
              "size": 10,
              "solidity": 0.2
             }
            },
            "type": "barpolar"
           }
          ],
          "carpet": [
           {
            "aaxis": {
             "endlinecolor": "#2a3f5f",
             "gridcolor": "white",
             "linecolor": "white",
             "minorgridcolor": "white",
             "startlinecolor": "#2a3f5f"
            },
            "baxis": {
             "endlinecolor": "#2a3f5f",
             "gridcolor": "white",
             "linecolor": "white",
             "minorgridcolor": "white",
             "startlinecolor": "#2a3f5f"
            },
            "type": "carpet"
           }
          ],
          "choropleth": [
           {
            "colorbar": {
             "outlinewidth": 0,
             "ticks": ""
            },
            "type": "choropleth"
           }
          ],
          "contour": [
           {
            "colorbar": {
             "outlinewidth": 0,
             "ticks": ""
            },
            "colorscale": [
             [
              0,
              "#0d0887"
             ],
             [
              0.1111111111111111,
              "#46039f"
             ],
             [
              0.2222222222222222,
              "#7201a8"
             ],
             [
              0.3333333333333333,
              "#9c179e"
             ],
             [
              0.4444444444444444,
              "#bd3786"
             ],
             [
              0.5555555555555556,
              "#d8576b"
             ],
             [
              0.6666666666666666,
              "#ed7953"
             ],
             [
              0.7777777777777778,
              "#fb9f3a"
             ],
             [
              0.8888888888888888,
              "#fdca26"
             ],
             [
              1,
              "#f0f921"
             ]
            ],
            "type": "contour"
           }
          ],
          "contourcarpet": [
           {
            "colorbar": {
             "outlinewidth": 0,
             "ticks": ""
            },
            "type": "contourcarpet"
           }
          ],
          "heatmap": [
           {
            "colorbar": {
             "outlinewidth": 0,
             "ticks": ""
            },
            "colorscale": [
             [
              0,
              "#0d0887"
             ],
             [
              0.1111111111111111,
              "#46039f"
             ],
             [
              0.2222222222222222,
              "#7201a8"
             ],
             [
              0.3333333333333333,
              "#9c179e"
             ],
             [
              0.4444444444444444,
              "#bd3786"
             ],
             [
              0.5555555555555556,
              "#d8576b"
             ],
             [
              0.6666666666666666,
              "#ed7953"
             ],
             [
              0.7777777777777778,
              "#fb9f3a"
             ],
             [
              0.8888888888888888,
              "#fdca26"
             ],
             [
              1,
              "#f0f921"
             ]
            ],
            "type": "heatmap"
           }
          ],
          "heatmapgl": [
           {
            "colorbar": {
             "outlinewidth": 0,
             "ticks": ""
            },
            "colorscale": [
             [
              0,
              "#0d0887"
             ],
             [
              0.1111111111111111,
              "#46039f"
             ],
             [
              0.2222222222222222,
              "#7201a8"
             ],
             [
              0.3333333333333333,
              "#9c179e"
             ],
             [
              0.4444444444444444,
              "#bd3786"
             ],
             [
              0.5555555555555556,
              "#d8576b"
             ],
             [
              0.6666666666666666,
              "#ed7953"
             ],
             [
              0.7777777777777778,
              "#fb9f3a"
             ],
             [
              0.8888888888888888,
              "#fdca26"
             ],
             [
              1,
              "#f0f921"
             ]
            ],
            "type": "heatmapgl"
           }
          ],
          "histogram": [
           {
            "marker": {
             "pattern": {
              "fillmode": "overlay",
              "size": 10,
              "solidity": 0.2
             }
            },
            "type": "histogram"
           }
          ],
          "histogram2d": [
           {
            "colorbar": {
             "outlinewidth": 0,
             "ticks": ""
            },
            "colorscale": [
             [
              0,
              "#0d0887"
             ],
             [
              0.1111111111111111,
              "#46039f"
             ],
             [
              0.2222222222222222,
              "#7201a8"
             ],
             [
              0.3333333333333333,
              "#9c179e"
             ],
             [
              0.4444444444444444,
              "#bd3786"
             ],
             [
              0.5555555555555556,
              "#d8576b"
             ],
             [
              0.6666666666666666,
              "#ed7953"
             ],
             [
              0.7777777777777778,
              "#fb9f3a"
             ],
             [
              0.8888888888888888,
              "#fdca26"
             ],
             [
              1,
              "#f0f921"
             ]
            ],
            "type": "histogram2d"
           }
          ],
          "histogram2dcontour": [
           {
            "colorbar": {
             "outlinewidth": 0,
             "ticks": ""
            },
            "colorscale": [
             [
              0,
              "#0d0887"
             ],
             [
              0.1111111111111111,
              "#46039f"
             ],
             [
              0.2222222222222222,
              "#7201a8"
             ],
             [
              0.3333333333333333,
              "#9c179e"
             ],
             [
              0.4444444444444444,
              "#bd3786"
             ],
             [
              0.5555555555555556,
              "#d8576b"
             ],
             [
              0.6666666666666666,
              "#ed7953"
             ],
             [
              0.7777777777777778,
              "#fb9f3a"
             ],
             [
              0.8888888888888888,
              "#fdca26"
             ],
             [
              1,
              "#f0f921"
             ]
            ],
            "type": "histogram2dcontour"
           }
          ],
          "mesh3d": [
           {
            "colorbar": {
             "outlinewidth": 0,
             "ticks": ""
            },
            "type": "mesh3d"
           }
          ],
          "parcoords": [
           {
            "line": {
             "colorbar": {
              "outlinewidth": 0,
              "ticks": ""
             }
            },
            "type": "parcoords"
           }
          ],
          "pie": [
           {
            "automargin": true,
            "type": "pie"
           }
          ],
          "scatter": [
           {
            "fillpattern": {
             "fillmode": "overlay",
             "size": 10,
             "solidity": 0.2
            },
            "type": "scatter"
           }
          ],
          "scatter3d": [
           {
            "line": {
             "colorbar": {
              "outlinewidth": 0,
              "ticks": ""
             }
            },
            "marker": {
             "colorbar": {
              "outlinewidth": 0,
              "ticks": ""
             }
            },
            "type": "scatter3d"
           }
          ],
          "scattercarpet": [
           {
            "marker": {
             "colorbar": {
              "outlinewidth": 0,
              "ticks": ""
             }
            },
            "type": "scattercarpet"
           }
          ],
          "scattergeo": [
           {
            "marker": {
             "colorbar": {
              "outlinewidth": 0,
              "ticks": ""
             }
            },
            "type": "scattergeo"
           }
          ],
          "scattergl": [
           {
            "marker": {
             "colorbar": {
              "outlinewidth": 0,
              "ticks": ""
             }
            },
            "type": "scattergl"
           }
          ],
          "scattermapbox": [
           {
            "marker": {
             "colorbar": {
              "outlinewidth": 0,
              "ticks": ""
             }
            },
            "type": "scattermapbox"
           }
          ],
          "scatterpolar": [
           {
            "marker": {
             "colorbar": {
              "outlinewidth": 0,
              "ticks": ""
             }
            },
            "type": "scatterpolar"
           }
          ],
          "scatterpolargl": [
           {
            "marker": {
             "colorbar": {
              "outlinewidth": 0,
              "ticks": ""
             }
            },
            "type": "scatterpolargl"
           }
          ],
          "scatterternary": [
           {
            "marker": {
             "colorbar": {
              "outlinewidth": 0,
              "ticks": ""
             }
            },
            "type": "scatterternary"
           }
          ],
          "surface": [
           {
            "colorbar": {
             "outlinewidth": 0,
             "ticks": ""
            },
            "colorscale": [
             [
              0,
              "#0d0887"
             ],
             [
              0.1111111111111111,
              "#46039f"
             ],
             [
              0.2222222222222222,
              "#7201a8"
             ],
             [
              0.3333333333333333,
              "#9c179e"
             ],
             [
              0.4444444444444444,
              "#bd3786"
             ],
             [
              0.5555555555555556,
              "#d8576b"
             ],
             [
              0.6666666666666666,
              "#ed7953"
             ],
             [
              0.7777777777777778,
              "#fb9f3a"
             ],
             [
              0.8888888888888888,
              "#fdca26"
             ],
             [
              1,
              "#f0f921"
             ]
            ],
            "type": "surface"
           }
          ],
          "table": [
           {
            "cells": {
             "fill": {
              "color": "#EBF0F8"
             },
             "line": {
              "color": "white"
             }
            },
            "header": {
             "fill": {
              "color": "#C8D4E3"
             },
             "line": {
              "color": "white"
             }
            },
            "type": "table"
           }
          ]
         },
         "layout": {
          "annotationdefaults": {
           "arrowcolor": "#2a3f5f",
           "arrowhead": 0,
           "arrowwidth": 1
          },
          "autotypenumbers": "strict",
          "coloraxis": {
           "colorbar": {
            "outlinewidth": 0,
            "ticks": ""
           }
          },
          "colorscale": {
           "diverging": [
            [
             0,
             "#8e0152"
            ],
            [
             0.1,
             "#c51b7d"
            ],
            [
             0.2,
             "#de77ae"
            ],
            [
             0.3,
             "#f1b6da"
            ],
            [
             0.4,
             "#fde0ef"
            ],
            [
             0.5,
             "#f7f7f7"
            ],
            [
             0.6,
             "#e6f5d0"
            ],
            [
             0.7,
             "#b8e186"
            ],
            [
             0.8,
             "#7fbc41"
            ],
            [
             0.9,
             "#4d9221"
            ],
            [
             1,
             "#276419"
            ]
           ],
           "sequential": [
            [
             0,
             "#0d0887"
            ],
            [
             0.1111111111111111,
             "#46039f"
            ],
            [
             0.2222222222222222,
             "#7201a8"
            ],
            [
             0.3333333333333333,
             "#9c179e"
            ],
            [
             0.4444444444444444,
             "#bd3786"
            ],
            [
             0.5555555555555556,
             "#d8576b"
            ],
            [
             0.6666666666666666,
             "#ed7953"
            ],
            [
             0.7777777777777778,
             "#fb9f3a"
            ],
            [
             0.8888888888888888,
             "#fdca26"
            ],
            [
             1,
             "#f0f921"
            ]
           ],
           "sequentialminus": [
            [
             0,
             "#0d0887"
            ],
            [
             0.1111111111111111,
             "#46039f"
            ],
            [
             0.2222222222222222,
             "#7201a8"
            ],
            [
             0.3333333333333333,
             "#9c179e"
            ],
            [
             0.4444444444444444,
             "#bd3786"
            ],
            [
             0.5555555555555556,
             "#d8576b"
            ],
            [
             0.6666666666666666,
             "#ed7953"
            ],
            [
             0.7777777777777778,
             "#fb9f3a"
            ],
            [
             0.8888888888888888,
             "#fdca26"
            ],
            [
             1,
             "#f0f921"
            ]
           ]
          },
          "colorway": [
           "#636efa",
           "#EF553B",
           "#00cc96",
           "#ab63fa",
           "#FFA15A",
           "#19d3f3",
           "#FF6692",
           "#B6E880",
           "#FF97FF",
           "#FECB52"
          ],
          "font": {
           "color": "#2a3f5f"
          },
          "geo": {
           "bgcolor": "white",
           "lakecolor": "white",
           "landcolor": "#E5ECF6",
           "showlakes": true,
           "showland": true,
           "subunitcolor": "white"
          },
          "hoverlabel": {
           "align": "left"
          },
          "hovermode": "closest",
          "mapbox": {
           "style": "light"
          },
          "paper_bgcolor": "white",
          "plot_bgcolor": "#E5ECF6",
          "polar": {
           "angularaxis": {
            "gridcolor": "white",
            "linecolor": "white",
            "ticks": ""
           },
           "bgcolor": "#E5ECF6",
           "radialaxis": {
            "gridcolor": "white",
            "linecolor": "white",
            "ticks": ""
           }
          },
          "scene": {
           "xaxis": {
            "backgroundcolor": "#E5ECF6",
            "gridcolor": "white",
            "gridwidth": 2,
            "linecolor": "white",
            "showbackground": true,
            "ticks": "",
            "zerolinecolor": "white"
           },
           "yaxis": {
            "backgroundcolor": "#E5ECF6",
            "gridcolor": "white",
            "gridwidth": 2,
            "linecolor": "white",
            "showbackground": true,
            "ticks": "",
            "zerolinecolor": "white"
           },
           "zaxis": {
            "backgroundcolor": "#E5ECF6",
            "gridcolor": "white",
            "gridwidth": 2,
            "linecolor": "white",
            "showbackground": true,
            "ticks": "",
            "zerolinecolor": "white"
           }
          },
          "shapedefaults": {
           "line": {
            "color": "#2a3f5f"
           }
          },
          "ternary": {
           "aaxis": {
            "gridcolor": "white",
            "linecolor": "white",
            "ticks": ""
           },
           "baxis": {
            "gridcolor": "white",
            "linecolor": "white",
            "ticks": ""
           },
           "bgcolor": "#E5ECF6",
           "caxis": {
            "gridcolor": "white",
            "linecolor": "white",
            "ticks": ""
           }
          },
          "title": {
           "x": 0.05
          },
          "xaxis": {
           "automargin": true,
           "gridcolor": "white",
           "linecolor": "white",
           "ticks": "",
           "title": {
            "standoff": 15
           },
           "zerolinecolor": "white",
           "zerolinewidth": 2
          },
          "yaxis": {
           "automargin": true,
           "gridcolor": "white",
           "linecolor": "white",
           "ticks": "",
           "title": {
            "standoff": 15
           },
           "zerolinecolor": "white",
           "zerolinewidth": 2
          }
         }
        },
        "width": 1000
       }
      }
     },
     "metadata": {},
     "output_type": "display_data"
    }
   ],
   "source": [
    "np.random.seed(42)\n",
    "\n",
    "# from 0, 10, 20, ..., 180 deg for alpha\n",
    "alpha_list_deg2 = np.arange(-90, 91, 15)\n",
    "alpha_list_rad2 = np.deg2rad(alpha_list_deg2)\n",
    "alpha_list_deg3 = np.arange(-90, 91, 15)\n",
    "alpha_list_rad3 = np.deg2rad(alpha_list_deg3)\n",
    "alpha_list_deg4 = np.arange(-90, 91, 15)\n",
    "alpha_list_rad4 = np.deg2rad(alpha_list_deg4)\n",
    "print(f\"alpha 2: {alpha_list_deg2}\")\n",
    "print(f\"alpha 3: {alpha_list_deg3}\")\n",
    "print(f\"alpha 4: {alpha_list_deg4}\")\n",
    "\n",
    "method = \"invcondition\"\n",
    "axes = \"all\"\n",
    "\n",
    "isRun = True\n",
    "isSave = True\n",
    "\n",
    "# isSave = False\n",
    "# isRun = False\n",
    "\n",
    "if isRun:\n",
    "    res, res_mat = evaluate_3alpha_effect(\n",
    "        alpha_list_rad2, alpha_list_rad3, alpha_list_rad3, isSave=True, method=method, axes=axes\n",
    "    )\n",
    "if not isRun:\n",
    "    npzfile = np.load(f\"data/three_alpha/{method}_{axes}.npz\")\n",
    "    res = npzfile[\"results\"]\n",
    "    res_mat = npzfile[\"res_mat\"]\n",
    "\n",
    "plot_scatter_global_index_results(\n",
    "    alpha_list_deg2,\n",
    "    alpha_list_deg3,\n",
    "    alpha_list_deg4,\n",
    "    res,\n",
    "    res_mat,\n",
    "    plot_type=\"parallel\",\n",
    "    method=method,\n",
    "    axes=axes,\n",
    "    isSave=isSave,\n",
    ")\n"
   ]
  },
  {
   "cell_type": "code",
   "execution_count": 21,
   "metadata": {},
   "outputs": [
    {
     "data": {
      "text/plain": [
       "0.12535610491431737"
      ]
     },
     "execution_count": 21,
     "metadata": {},
     "output_type": "execute_result"
    }
   ],
   "source": [
    "robot_g = rsb.models.DH.Generic.GenericFour(alpha=[np.deg2rad(-90), 0, np.deg2rad(30), 0])\n",
    "robot_g.plot(q=robot_g.qz)\n",
    "robot_g.manipulability(q=[0.1, 0.2, 0.3, 0.4], method='minsingular')"
   ]
  }
 ],
 "metadata": {
  "kernelspec": {
   "display_name": "robosandbox",
   "language": "python",
   "name": "python3"
  },
  "language_info": {
   "codemirror_mode": {
    "name": "ipython",
    "version": 3
   },
   "file_extension": ".py",
   "mimetype": "text/x-python",
   "name": "python",
   "nbconvert_exporter": "python",
   "pygments_lexer": "ipython3",
   "version": "3.8.20"
  }
 },
 "nbformat": 4,
 "nbformat_minor": 2
}
