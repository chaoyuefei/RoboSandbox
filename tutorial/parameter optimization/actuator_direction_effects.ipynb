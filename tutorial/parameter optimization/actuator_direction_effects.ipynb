{
 "cells": [
  {
   "cell_type": "code",
   "execution_count": 1,
   "metadata": {},
   "outputs": [],
   "source": [
    "import robosandbox as rsb\n",
    "import numpy as np\n",
    "import plotly.graph_objects as go\n",
    "from tqdm import tqdm\n",
    "from robosandbox.performance.WorkSpace import WorkSpace"
   ]
  },
  {
   "cell_type": "code",
   "execution_count": 2,
   "metadata": {},
   "outputs": [],
   "source": [
    "def evaluate_alpha_effect(\n",
    "    alpha_list1, alpha_list2, isSave=False, method=\"invcondition\", axes=\"all\"\n",
    "):\n",
    "    \"\"\"\n",
    "    Evaluate the effect of alpha on the global indices.\n",
    "    \"\"\"\n",
    "    results = []\n",
    "    res_mat = np.zeros((len(alpha_list1), len(alpha_list2)))\n",
    "    for i, alpha1 in tqdm(\n",
    "        enumerate(alpha_list1),\n",
    "        total=len(alpha_list1),\n",
    "        desc=\"Alpha1 progress\",\n",
    "        unit=\"outer\",\n",
    "    ):\n",
    "        for j, alpha2 in tqdm(\n",
    "            enumerate(alpha_list2),\n",
    "            total=len(alpha_list2),\n",
    "            desc=f\"Alpha2 progress (alpha1={np.rad2deg(alpha1)})\",\n",
    "            unit=\"inner\",\n",
    "            leave=False,\n",
    "        ):\n",
    "            robot = rsb.models.DH.Generic.GenericFour(alpha=[np.pi / 2, alpha1, alpha2, 0])\n",
    "            ws = WorkSpace(robot=robot)\n",
    "            G = ws.iter_calc_global_indice(\n",
    "                    initial_samples=3000,\n",
    "                    batch_ratio=0.1,\n",
    "                    error_tolerance_percentage=1e-3,\n",
    "                    method=\"invcondition\",\n",
    "                    axes=\"all\",\n",
    "                    max_samples=30000,\n",
    "                )\n",
    "            results.append([alpha1, alpha2, G])\n",
    "            res_mat[i, j] = G\n",
    "            del robot, ws\n",
    "\n",
    "    results = np.array(results)\n",
    "    if isSave:\n",
    "        filename = f\"data/two_alpha/{method}_{axes}.npz\"\n",
    "        np.savez(filename, results=results, res_mat=res_mat)\n",
    "    return results, res_mat\n"
   ]
  },
  {
   "cell_type": "code",
   "execution_count": 3,
   "metadata": {},
   "outputs": [],
   "source": [
    "def plot_global_index_results(\n",
    "    alpha_list_deg1,\n",
    "    alpha_list_deg2,\n",
    "    res_mat,\n",
    "    plot_type=\"heatmap\",\n",
    "    method=\"invcondition\",\n",
    "    axes=\"all\",\n",
    "    isSave=False,\n",
    "):\n",
    "    \"\"\"\n",
    "    Plot the effect of alpha on the global indices using Plotly.\n",
    "    \"\"\"\n",
    "    G_mat = res_mat\n",
    "    print(f\"alpha 1: {alpha_list_deg1}\")\n",
    "    print(f\"alpha 2: {alpha_list_deg2}\")\n",
    "    # print(G_mat)\n",
    "    fig = go.Figure()\n",
    "    if plot_type == \"heatmap\":\n",
    "        fig = go.Figure(\n",
    "            data=go.Heatmap(\n",
    "                z=G_mat,\n",
    "                x=alpha_list_deg1,\n",
    "                y=alpha_list_deg2,\n",
    "                # colorscale='Viridis',\n",
    "                colorbar=dict(\n",
    "                    title=f\"{method}\", titlefont=dict(size=40), tickfont=dict(size=40)\n",
    "                ),\n",
    "            )\n",
    "        )\n",
    "\n",
    "    if plot_type == \"surface\":\n",
    "        fig = go.Figure(\n",
    "            data=go.Surface(\n",
    "                z=G_mat,\n",
    "                x=alpha_list_deg1,\n",
    "                y=alpha_list_deg2,\n",
    "                colorbar=dict(\n",
    "                    title=f\"{method}\", titlefont=dict(size=40), tickfont=dict(size=40)\n",
    "                ),\n",
    "            )\n",
    "        )\n",
    "        fig.update_layout(\n",
    "            scene=dict(\n",
    "                xaxis_title=\"alpha1 (deg)\",\n",
    "                yaxis_title=\"alpha2 (deg)\",\n",
    "                zaxis_title=\"\",\n",
    "                xaxis=dict(titlefont=dict(size=40), tickfont=dict(size=16), dtick=90),\n",
    "                yaxis=dict(titlefont=dict(size=40), tickfont=dict(size=16), dtick=90),\n",
    "                zaxis=dict(titlefont=dict(size=40), tickfont=dict(size=16), dtick=90),\n",
    "                camera=dict(\n",
    "                    eye=dict(x=1.55, y=1.55, z=1.55),\n",
    "                    up=dict(x=0, y=0, z=1),\n",
    "                ),\n",
    "            )\n",
    "        )\n",
    "\n",
    "    fontsize = 40\n",
    "    fig.update_layout(\n",
    "        # title=f'Effect of alpha on global indices using {method} method and {axes} axes',\n",
    "        xaxis_title=\"alpha1 (deg)\",\n",
    "        yaxis_title=\"alpha2 (deg)\",\n",
    "        autosize=True,\n",
    "        height=800,\n",
    "        width=1000,\n",
    "        xaxis_title_font=dict(size=40),  # Font size for x-axis title\n",
    "        yaxis_title_font=dict(size=40),\n",
    "        xaxis=dict(tickfont=dict(size=fontsize), dtick=30),\n",
    "        yaxis=dict(tickfont=dict(size=fontsize), dtick=30),\n",
    "    )\n",
    "\n",
    "    if isSave:\n",
    "        fig.write_image(f\"fig/two_alpha/{method}_{axes}_{plot_type}.png\")\n",
    "        fig.write_html(f\"fig/two_alpha/{method}_{axes}_{plot_type}.html\")\n",
    "    fig.show()"
   ]
  },
  {
   "cell_type": "code",
   "execution_count": 6,
   "metadata": {},
   "outputs": [
    {
     "name": "stdout",
     "output_type": "stream",
     "text": [
      "alpha 1: [  0  15  30  45  60  75  90 105 120 135 150 165 180]\n",
      "alpha 2: [  0  15  30  45  60  75  90 105 120 135 150 165 180]\n",
      "alpha 1: [  0  15  30  45  60  75  90 105 120 135 150 165 180]\n",
      "alpha 2: [  0  15  30  45  60  75  90 105 120 135 150 165 180]\n"
     ]
    },
    {
     "data": {
      "application/vnd.plotly.v1+json": {
       "config": {
        "plotlyServerURL": "https://plot.ly"
       },
       "data": [
        {
         "colorbar": {
          "tickfont": {
           "size": 40
          },
          "title": {
           "font": {
            "size": 40
           },
           "text": "invcondition"
          }
         },
         "type": "surface",
         "x": [
          0,
          15,
          30,
          45,
          60,
          75,
          90,
          105,
          120,
          135,
          150,
          165,
          180
         ],
         "y": [
          0,
          15,
          30,
          45,
          60,
          75,
          90,
          105,
          120,
          135,
          150,
          165,
          180
         ],
         "z": [
          [
           0.028093630891616855,
           0.034462769221385955,
           0.04105362644313003,
           0.044537423471543484,
           0.045700414993936976,
           0.046912027472916215,
           0.04745859341166766,
           0.04658144448708008,
           0.04624375614389199,
           0.04465540382180887,
           0.04068548811107526,
           0.03488193881936917,
           0.027659142027690407
          ],
          [
           0.034691066064066335,
           0.029058819895679128,
           0.03254945789713115,
           0.03625931295010972,
           0.038805418382184716,
           0.04061284514465613,
           0.040684612907695046,
           0.041654844738235164,
           0.0413620606522515,
           0.042032975663729676,
           0.04224831117150694,
           0.03737597823454215,
           0.03449131392297487
          ],
          [
           0.03961406624043834,
           0.03167245672946004,
           0.028787756380886,
           0.03085874542754414,
           0.031131276003274425,
           0.03255772164925492,
           0.031111471216878715,
           0.03211155420895441,
           0.03237065010058279,
           0.03251952511396911,
           0.0343891395395539,
           0.041698324233454015,
           0.03906936205222197
          ],
          [
           0.04309267000492619,
           0.035763643473332746,
           0.029940972643870488,
           0.02821812636834635,
           0.02853264129526924,
           0.028226806698638557,
           0.026981429545170642,
           0.028251220671589982,
           0.02781088327666023,
           0.02687386733149333,
           0.03277172444140551,
           0.03993577066455624,
           0.04209027245110211
          ],
          [
           0.042960558668529915,
           0.0390356675267785,
           0.031356207488145674,
           0.02955467023910605,
           0.02714125868327707,
           0.026066852673341592,
           0.02576170840183711,
           0.02585677062811499,
           0.027284235307986782,
           0.02863516898034554,
           0.03295928343654353,
           0.03982441304969261,
           0.042935480165836926
          ],
          [
           0.04237185160804528,
           0.04140111202990616,
           0.033478811229410155,
           0.029624063999616104,
           0.026686099824493745,
           0.025073705115677566,
           0.024427494019580307,
           0.025827696662550133,
           0.02648765328345746,
           0.029020599865183044,
           0.03396275222663511,
           0.03986146572770584,
           0.04310274266396698
          ],
          [
           0.04210098968741735,
           0.04030464218190192,
           0.03334795617031679,
           0.030026518221185263,
           0.02742910059238445,
           0.024499627549307377,
           0.023588764458210728,
           0.0247049188531844,
           0.027036200010960926,
           0.03021418100696574,
           0.034396787349552996,
           0.04024384012192909,
           0.042349498348085796
          ],
          [
           0.04266188850448905,
           0.040049330466699264,
           0.03401917076372162,
           0.02855154823222714,
           0.0267576077961686,
           0.025240720657862113,
           0.0242854921487863,
           0.024512981123396203,
           0.026704091260328255,
           0.029216910942580162,
           0.03242479440523987,
           0.04062159162862169,
           0.042563895612864805
          ],
          [
           0.04283828080681302,
           0.039404114633871556,
           0.03277435873745584,
           0.028605083306957903,
           0.027101359035573643,
           0.026028071766907888,
           0.0260752266170885,
           0.025797688981792476,
           0.027000574345133085,
           0.029013808409801976,
           0.030582655384727805,
           0.03879671849028855,
           0.042788978901302954
          ],
          [
           0.042493375973241806,
           0.04018135479190226,
           0.032348636787490774,
           0.02723221235630068,
           0.027871583291833923,
           0.027978657753092842,
           0.027807179630040195,
           0.027898527567672204,
           0.028836242160516834,
           0.028541656471393367,
           0.02897579510665978,
           0.035996054195715874,
           0.04180767993397276
          ],
          [
           0.04049832449529407,
           0.04179074363979748,
           0.03473811026668247,
           0.03266811681896057,
           0.03289902779122994,
           0.03290621606676981,
           0.032104206124324616,
           0.03216161208460638,
           0.03322502752759598,
           0.02960113368147626,
           0.02822834682394766,
           0.03181703145480263,
           0.03993698128906199
          ],
          [
           0.033955656113206355,
           0.03746039124075195,
           0.042880933376096574,
           0.04188366138031621,
           0.04165816982569605,
           0.041425855703130315,
           0.041632075943307124,
           0.04067721177983524,
           0.039964470892589594,
           0.03695181427115529,
           0.0325866796734024,
           0.02878461456557453,
           0.03405895787242098
          ],
          [
           0.02825924222031725,
           0.0338245343535889,
           0.040394344919963764,
           0.043730962575234164,
           0.045642019566719635,
           0.04622445443403884,
           0.047803678706778485,
           0.04684458657368746,
           0.04566981359367706,
           0.04382884599995062,
           0.04107639290890493,
           0.034503790843399336,
           0.0283468633631107
          ]
         ]
        }
       ],
       "layout": {
        "autosize": true,
        "height": 800,
        "scene": {
         "camera": {
          "eye": {
           "x": 1.55,
           "y": 1.55,
           "z": 1.55
          },
          "up": {
           "x": 0,
           "y": 0,
           "z": 1
          }
         },
         "xaxis": {
          "dtick": 90,
          "tickfont": {
           "size": 16
          },
          "title": {
           "font": {
            "size": 40
           },
           "text": "alpha1 (deg)"
          }
         },
         "yaxis": {
          "dtick": 90,
          "tickfont": {
           "size": 16
          },
          "title": {
           "font": {
            "size": 40
           },
           "text": "alpha2 (deg)"
          }
         },
         "zaxis": {
          "dtick": 90,
          "tickfont": {
           "size": 16
          },
          "title": {
           "font": {
            "size": 40
           },
           "text": ""
          }
         }
        },
        "template": {
         "data": {
          "bar": [
           {
            "error_x": {
             "color": "#2a3f5f"
            },
            "error_y": {
             "color": "#2a3f5f"
            },
            "marker": {
             "line": {
              "color": "#E5ECF6",
              "width": 0.5
             },
             "pattern": {
              "fillmode": "overlay",
              "size": 10,
              "solidity": 0.2
             }
            },
            "type": "bar"
           }
          ],
          "barpolar": [
           {
            "marker": {
             "line": {
              "color": "#E5ECF6",
              "width": 0.5
             },
             "pattern": {
              "fillmode": "overlay",
              "size": 10,
              "solidity": 0.2
             }
            },
            "type": "barpolar"
           }
          ],
          "carpet": [
           {
            "aaxis": {
             "endlinecolor": "#2a3f5f",
             "gridcolor": "white",
             "linecolor": "white",
             "minorgridcolor": "white",
             "startlinecolor": "#2a3f5f"
            },
            "baxis": {
             "endlinecolor": "#2a3f5f",
             "gridcolor": "white",
             "linecolor": "white",
             "minorgridcolor": "white",
             "startlinecolor": "#2a3f5f"
            },
            "type": "carpet"
           }
          ],
          "choropleth": [
           {
            "colorbar": {
             "outlinewidth": 0,
             "ticks": ""
            },
            "type": "choropleth"
           }
          ],
          "contour": [
           {
            "colorbar": {
             "outlinewidth": 0,
             "ticks": ""
            },
            "colorscale": [
             [
              0,
              "#0d0887"
             ],
             [
              0.1111111111111111,
              "#46039f"
             ],
             [
              0.2222222222222222,
              "#7201a8"
             ],
             [
              0.3333333333333333,
              "#9c179e"
             ],
             [
              0.4444444444444444,
              "#bd3786"
             ],
             [
              0.5555555555555556,
              "#d8576b"
             ],
             [
              0.6666666666666666,
              "#ed7953"
             ],
             [
              0.7777777777777778,
              "#fb9f3a"
             ],
             [
              0.8888888888888888,
              "#fdca26"
             ],
             [
              1,
              "#f0f921"
             ]
            ],
            "type": "contour"
           }
          ],
          "contourcarpet": [
           {
            "colorbar": {
             "outlinewidth": 0,
             "ticks": ""
            },
            "type": "contourcarpet"
           }
          ],
          "heatmap": [
           {
            "colorbar": {
             "outlinewidth": 0,
             "ticks": ""
            },
            "colorscale": [
             [
              0,
              "#0d0887"
             ],
             [
              0.1111111111111111,
              "#46039f"
             ],
             [
              0.2222222222222222,
              "#7201a8"
             ],
             [
              0.3333333333333333,
              "#9c179e"
             ],
             [
              0.4444444444444444,
              "#bd3786"
             ],
             [
              0.5555555555555556,
              "#d8576b"
             ],
             [
              0.6666666666666666,
              "#ed7953"
             ],
             [
              0.7777777777777778,
              "#fb9f3a"
             ],
             [
              0.8888888888888888,
              "#fdca26"
             ],
             [
              1,
              "#f0f921"
             ]
            ],
            "type": "heatmap"
           }
          ],
          "heatmapgl": [
           {
            "colorbar": {
             "outlinewidth": 0,
             "ticks": ""
            },
            "colorscale": [
             [
              0,
              "#0d0887"
             ],
             [
              0.1111111111111111,
              "#46039f"
             ],
             [
              0.2222222222222222,
              "#7201a8"
             ],
             [
              0.3333333333333333,
              "#9c179e"
             ],
             [
              0.4444444444444444,
              "#bd3786"
             ],
             [
              0.5555555555555556,
              "#d8576b"
             ],
             [
              0.6666666666666666,
              "#ed7953"
             ],
             [
              0.7777777777777778,
              "#fb9f3a"
             ],
             [
              0.8888888888888888,
              "#fdca26"
             ],
             [
              1,
              "#f0f921"
             ]
            ],
            "type": "heatmapgl"
           }
          ],
          "histogram": [
           {
            "marker": {
             "pattern": {
              "fillmode": "overlay",
              "size": 10,
              "solidity": 0.2
             }
            },
            "type": "histogram"
           }
          ],
          "histogram2d": [
           {
            "colorbar": {
             "outlinewidth": 0,
             "ticks": ""
            },
            "colorscale": [
             [
              0,
              "#0d0887"
             ],
             [
              0.1111111111111111,
              "#46039f"
             ],
             [
              0.2222222222222222,
              "#7201a8"
             ],
             [
              0.3333333333333333,
              "#9c179e"
             ],
             [
              0.4444444444444444,
              "#bd3786"
             ],
             [
              0.5555555555555556,
              "#d8576b"
             ],
             [
              0.6666666666666666,
              "#ed7953"
             ],
             [
              0.7777777777777778,
              "#fb9f3a"
             ],
             [
              0.8888888888888888,
              "#fdca26"
             ],
             [
              1,
              "#f0f921"
             ]
            ],
            "type": "histogram2d"
           }
          ],
          "histogram2dcontour": [
           {
            "colorbar": {
             "outlinewidth": 0,
             "ticks": ""
            },
            "colorscale": [
             [
              0,
              "#0d0887"
             ],
             [
              0.1111111111111111,
              "#46039f"
             ],
             [
              0.2222222222222222,
              "#7201a8"
             ],
             [
              0.3333333333333333,
              "#9c179e"
             ],
             [
              0.4444444444444444,
              "#bd3786"
             ],
             [
              0.5555555555555556,
              "#d8576b"
             ],
             [
              0.6666666666666666,
              "#ed7953"
             ],
             [
              0.7777777777777778,
              "#fb9f3a"
             ],
             [
              0.8888888888888888,
              "#fdca26"
             ],
             [
              1,
              "#f0f921"
             ]
            ],
            "type": "histogram2dcontour"
           }
          ],
          "mesh3d": [
           {
            "colorbar": {
             "outlinewidth": 0,
             "ticks": ""
            },
            "type": "mesh3d"
           }
          ],
          "parcoords": [
           {
            "line": {
             "colorbar": {
              "outlinewidth": 0,
              "ticks": ""
             }
            },
            "type": "parcoords"
           }
          ],
          "pie": [
           {
            "automargin": true,
            "type": "pie"
           }
          ],
          "scatter": [
           {
            "fillpattern": {
             "fillmode": "overlay",
             "size": 10,
             "solidity": 0.2
            },
            "type": "scatter"
           }
          ],
          "scatter3d": [
           {
            "line": {
             "colorbar": {
              "outlinewidth": 0,
              "ticks": ""
             }
            },
            "marker": {
             "colorbar": {
              "outlinewidth": 0,
              "ticks": ""
             }
            },
            "type": "scatter3d"
           }
          ],
          "scattercarpet": [
           {
            "marker": {
             "colorbar": {
              "outlinewidth": 0,
              "ticks": ""
             }
            },
            "type": "scattercarpet"
           }
          ],
          "scattergeo": [
           {
            "marker": {
             "colorbar": {
              "outlinewidth": 0,
              "ticks": ""
             }
            },
            "type": "scattergeo"
           }
          ],
          "scattergl": [
           {
            "marker": {
             "colorbar": {
              "outlinewidth": 0,
              "ticks": ""
             }
            },
            "type": "scattergl"
           }
          ],
          "scattermapbox": [
           {
            "marker": {
             "colorbar": {
              "outlinewidth": 0,
              "ticks": ""
             }
            },
            "type": "scattermapbox"
           }
          ],
          "scatterpolar": [
           {
            "marker": {
             "colorbar": {
              "outlinewidth": 0,
              "ticks": ""
             }
            },
            "type": "scatterpolar"
           }
          ],
          "scatterpolargl": [
           {
            "marker": {
             "colorbar": {
              "outlinewidth": 0,
              "ticks": ""
             }
            },
            "type": "scatterpolargl"
           }
          ],
          "scatterternary": [
           {
            "marker": {
             "colorbar": {
              "outlinewidth": 0,
              "ticks": ""
             }
            },
            "type": "scatterternary"
           }
          ],
          "surface": [
           {
            "colorbar": {
             "outlinewidth": 0,
             "ticks": ""
            },
            "colorscale": [
             [
              0,
              "#0d0887"
             ],
             [
              0.1111111111111111,
              "#46039f"
             ],
             [
              0.2222222222222222,
              "#7201a8"
             ],
             [
              0.3333333333333333,
              "#9c179e"
             ],
             [
              0.4444444444444444,
              "#bd3786"
             ],
             [
              0.5555555555555556,
              "#d8576b"
             ],
             [
              0.6666666666666666,
              "#ed7953"
             ],
             [
              0.7777777777777778,
              "#fb9f3a"
             ],
             [
              0.8888888888888888,
              "#fdca26"
             ],
             [
              1,
              "#f0f921"
             ]
            ],
            "type": "surface"
           }
          ],
          "table": [
           {
            "cells": {
             "fill": {
              "color": "#EBF0F8"
             },
             "line": {
              "color": "white"
             }
            },
            "header": {
             "fill": {
              "color": "#C8D4E3"
             },
             "line": {
              "color": "white"
             }
            },
            "type": "table"
           }
          ]
         },
         "layout": {
          "annotationdefaults": {
           "arrowcolor": "#2a3f5f",
           "arrowhead": 0,
           "arrowwidth": 1
          },
          "autotypenumbers": "strict",
          "coloraxis": {
           "colorbar": {
            "outlinewidth": 0,
            "ticks": ""
           }
          },
          "colorscale": {
           "diverging": [
            [
             0,
             "#8e0152"
            ],
            [
             0.1,
             "#c51b7d"
            ],
            [
             0.2,
             "#de77ae"
            ],
            [
             0.3,
             "#f1b6da"
            ],
            [
             0.4,
             "#fde0ef"
            ],
            [
             0.5,
             "#f7f7f7"
            ],
            [
             0.6,
             "#e6f5d0"
            ],
            [
             0.7,
             "#b8e186"
            ],
            [
             0.8,
             "#7fbc41"
            ],
            [
             0.9,
             "#4d9221"
            ],
            [
             1,
             "#276419"
            ]
           ],
           "sequential": [
            [
             0,
             "#0d0887"
            ],
            [
             0.1111111111111111,
             "#46039f"
            ],
            [
             0.2222222222222222,
             "#7201a8"
            ],
            [
             0.3333333333333333,
             "#9c179e"
            ],
            [
             0.4444444444444444,
             "#bd3786"
            ],
            [
             0.5555555555555556,
             "#d8576b"
            ],
            [
             0.6666666666666666,
             "#ed7953"
            ],
            [
             0.7777777777777778,
             "#fb9f3a"
            ],
            [
             0.8888888888888888,
             "#fdca26"
            ],
            [
             1,
             "#f0f921"
            ]
           ],
           "sequentialminus": [
            [
             0,
             "#0d0887"
            ],
            [
             0.1111111111111111,
             "#46039f"
            ],
            [
             0.2222222222222222,
             "#7201a8"
            ],
            [
             0.3333333333333333,
             "#9c179e"
            ],
            [
             0.4444444444444444,
             "#bd3786"
            ],
            [
             0.5555555555555556,
             "#d8576b"
            ],
            [
             0.6666666666666666,
             "#ed7953"
            ],
            [
             0.7777777777777778,
             "#fb9f3a"
            ],
            [
             0.8888888888888888,
             "#fdca26"
            ],
            [
             1,
             "#f0f921"
            ]
           ]
          },
          "colorway": [
           "#636efa",
           "#EF553B",
           "#00cc96",
           "#ab63fa",
           "#FFA15A",
           "#19d3f3",
           "#FF6692",
           "#B6E880",
           "#FF97FF",
           "#FECB52"
          ],
          "font": {
           "color": "#2a3f5f"
          },
          "geo": {
           "bgcolor": "white",
           "lakecolor": "white",
           "landcolor": "#E5ECF6",
           "showlakes": true,
           "showland": true,
           "subunitcolor": "white"
          },
          "hoverlabel": {
           "align": "left"
          },
          "hovermode": "closest",
          "mapbox": {
           "style": "light"
          },
          "paper_bgcolor": "white",
          "plot_bgcolor": "#E5ECF6",
          "polar": {
           "angularaxis": {
            "gridcolor": "white",
            "linecolor": "white",
            "ticks": ""
           },
           "bgcolor": "#E5ECF6",
           "radialaxis": {
            "gridcolor": "white",
            "linecolor": "white",
            "ticks": ""
           }
          },
          "scene": {
           "xaxis": {
            "backgroundcolor": "#E5ECF6",
            "gridcolor": "white",
            "gridwidth": 2,
            "linecolor": "white",
            "showbackground": true,
            "ticks": "",
            "zerolinecolor": "white"
           },
           "yaxis": {
            "backgroundcolor": "#E5ECF6",
            "gridcolor": "white",
            "gridwidth": 2,
            "linecolor": "white",
            "showbackground": true,
            "ticks": "",
            "zerolinecolor": "white"
           },
           "zaxis": {
            "backgroundcolor": "#E5ECF6",
            "gridcolor": "white",
            "gridwidth": 2,
            "linecolor": "white",
            "showbackground": true,
            "ticks": "",
            "zerolinecolor": "white"
           }
          },
          "shapedefaults": {
           "line": {
            "color": "#2a3f5f"
           }
          },
          "ternary": {
           "aaxis": {
            "gridcolor": "white",
            "linecolor": "white",
            "ticks": ""
           },
           "baxis": {
            "gridcolor": "white",
            "linecolor": "white",
            "ticks": ""
           },
           "bgcolor": "#E5ECF6",
           "caxis": {
            "gridcolor": "white",
            "linecolor": "white",
            "ticks": ""
           }
          },
          "title": {
           "x": 0.05
          },
          "xaxis": {
           "automargin": true,
           "gridcolor": "white",
           "linecolor": "white",
           "ticks": "",
           "title": {
            "standoff": 15
           },
           "zerolinecolor": "white",
           "zerolinewidth": 2
          },
          "yaxis": {
           "automargin": true,
           "gridcolor": "white",
           "linecolor": "white",
           "ticks": "",
           "title": {
            "standoff": 15
           },
           "zerolinecolor": "white",
           "zerolinewidth": 2
          }
         }
        },
        "width": 1000,
        "xaxis": {
         "dtick": 30,
         "tickfont": {
          "size": 40
         },
         "title": {
          "font": {
           "size": 40
          },
          "text": "alpha1 (deg)"
         }
        },
        "yaxis": {
         "dtick": 30,
         "tickfont": {
          "size": 40
         },
         "title": {
          "font": {
           "size": 40
          },
          "text": "alpha2 (deg)"
         }
        }
       }
      }
     },
     "metadata": {},
     "output_type": "display_data"
    }
   ],
   "source": [
    "np.random.seed(42)\n",
    "\n",
    "# from 0, 10, 20, ..., 180 deg for alpha\n",
    "alpha_list_deg1 = np.arange(0, 181, 15)\n",
    "alpha_list_rad1 = np.deg2rad(alpha_list_deg1)\n",
    "alpha_list_deg2 = np.arange(0, 181, 15)\n",
    "alpha_list_rad2 = np.deg2rad(alpha_list_deg2)\n",
    "print(f\"alpha 1: {alpha_list_deg1}\")\n",
    "print(f\"alpha 2: {alpha_list_deg2}\")\n",
    "\n",
    "# method = \"yoshikawa\"\n",
    "method = \"invcondition\"\n",
    "axes = \"all\"\n",
    "\n",
    "isRun = False\n",
    "isSave = True\n",
    "# isSave = False\n",
    "# isRun = False\n",
    "if isRun:\n",
    "    res, res_mat = evaluate_alpha_effect(\n",
    "        alpha_list_rad1, alpha_list_rad2, isSave=True, method=method, axes=axes\n",
    "    )\n",
    "if not isRun:\n",
    "    npzfile = np.load(f\"data/two_alpha/{method}_{axes}.npz\")\n",
    "    res = npzfile[\"results\"]\n",
    "    res_mat = npzfile[\"res_mat\"]\n",
    "plot_global_index_results(\n",
    "    alpha_list_deg1,\n",
    "    alpha_list_deg2,\n",
    "    res_mat,\n",
    "    plot_type=\"surface\",\n",
    "    method=method,\n",
    "    axes=axes,\n",
    "    isSave=isSave,\n",
    ")"
   ]
  },
  {
   "cell_type": "code",
   "execution_count": null,
   "metadata": {},
   "outputs": [],
   "source": []
  },
  {
   "cell_type": "code",
   "execution_count": 5,
   "metadata": {},
   "outputs": [
    {
     "name": "stdout",
     "output_type": "stream",
     "text": [
      "==> Iteration finished.\n",
      "Converged after 2 iterations.\n",
      "Final global indice: 0.028093630891616855\n",
      "Final number of samples: 3300\n",
      "Final relative error: 0.0005111925275763338\n"
     ]
    }
   ],
   "source": [
    "robot = rsb.models.DH.Generic.GenericFour(alpha=[np.pi / 2, 0, 0, 0])\n",
    "ws = WorkSpace(robot=robot)\n",
    "G = ws.iter_calc_global_indice(\n",
    "        initial_samples=3000,\n",
    "        batch_ratio=0.1,\n",
    "        error_tolerance_percentage=1e-3,\n",
    "        method=\"invcondition\",\n",
    "        axes=\"all\",\n",
    "        max_samples=30000,\n",
    "    )"
   ]
  }
 ],
 "metadata": {
  "kernelspec": {
   "display_name": "robosandbox",
   "language": "python",
   "name": "python3"
  },
  "language_info": {
   "codemirror_mode": {
    "name": "ipython",
    "version": 3
   },
   "file_extension": ".py",
   "mimetype": "text/x-python",
   "name": "python",
   "nbconvert_exporter": "python",
   "pygments_lexer": "ipython3",
   "version": "3.8.20"
  }
 },
 "nbformat": 4,
 "nbformat_minor": 2
}
