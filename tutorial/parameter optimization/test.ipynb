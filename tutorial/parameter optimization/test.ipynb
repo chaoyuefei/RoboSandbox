{
 "cells": [
  {
   "cell_type": "code",
   "execution_count": 19,
   "metadata": {},
   "outputs": [],
   "source": [
    "import robosandbox as rsb\n",
    "import numpy as np\n",
    "import plotly.graph_objects as go\n"
   ]
  },
  {
   "cell_type": "code",
   "execution_count": null,
   "metadata": {},
   "outputs": [
    {
     "data": {
      "application/vnd.plotly.v1+json": {
       "config": {
        "plotlyServerURL": "https://plot.ly"
       },
       "data": [
        {
         "line": {
          "color": "#E1706E",
          "width": 14
         },
         "mode": "lines",
         "name": "Link1",
         "type": "scatter3d",
         "x": {
          "bdata": "AAAAAAAAAAAAAAAAAAAAAA==",
          "dtype": "f8"
         },
         "y": {
          "bdata": "AAAAAAAAAAAAAAAAAAAAAA==",
          "dtype": "f8"
         },
         "z": {
          "bdata": "AAAAAAAAAACamZmZmZnZPw==",
          "dtype": "f8"
         }
        },
        {
         "line": {
          "color": "#E1706E",
          "width": 14
         },
         "mode": "lines",
         "name": "Link2",
         "type": "scatter3d",
         "x": {
          "bdata": "AAAAAAAAAAByxlPrCT18vA==",
          "dtype": "f8"
         },
         "y": {
          "bdata": "AAAAAAAAAAByxlPrCT18PA==",
          "dtype": "f8"
         },
         "z": {
          "bdata": "mpmZmZmZ2T+amZmZmZnpPw==",
          "dtype": "f8"
         }
        },
        {
         "line": {
          "color": "#E1706E",
          "width": 14
         },
         "mode": "lines",
         "name": "Link3",
         "type": "scatter3d",
         "x": {
          "bdata": "csZT6wk9fLxyxlPrCT2MvA==",
          "dtype": "f8"
         },
         "y": {
          "bdata": "csZT6wk9fDxyxlPrCT2MPA==",
          "dtype": "f8"
         },
         "z": {
          "bdata": "mpmZmZmZ6T80MzMzMzPzPw==",
          "dtype": "f8"
         }
        },
        {
         "line": {
          "color": "#E1706E",
          "width": 14
         },
         "mode": "lines",
         "name": "Link4",
         "type": "scatter3d",
         "x": {
          "bdata": "csZT6wk9jLzW1H5wxy2VvA==",
          "dtype": "f8"
         },
         "y": {
          "bdata": "csZT6wk9jDzW1H5wxy2VPA==",
          "dtype": "f8"
         },
         "z": {
          "bdata": "NDMzMzMz8z+amZmZmZn5Pw==",
          "dtype": "f8"
         }
        },
        {
         "line": {
          "color": "#F84752",
          "width": 5
         },
         "mode": "lines",
         "name": "X0 Axis",
         "type": "scatter3d",
         "x": [
          0,
          0.16
         ],
         "y": [
          0,
          0
         ],
         "z": [
          0,
          0
         ]
        },
        {
         "cmax": 1,
         "cmin": 0,
         "colorscale": [
          [
           0,
           "#F84752"
          ],
          [
           1,
           "#F84752"
          ]
         ],
         "showscale": false,
         "sizemode": "absolute",
         "sizeref": 0.016,
         "type": "cone",
         "u": [
          1
         ],
         "v": [
          0
         ],
         "w": [
          0
         ],
         "x": [
          0.16
         ],
         "y": [
          0
         ],
         "z": [
          0
         ]
        },
        {
         "line": {
          "color": "#BBDA55",
          "width": 5
         },
         "mode": "lines",
         "name": "Y0 Axis",
         "type": "scatter3d",
         "x": [
          0,
          0
         ],
         "y": [
          0,
          0.16
         ],
         "z": [
          0,
          0
         ]
        },
        {
         "cmax": 1,
         "cmin": 0,
         "colorscale": [
          [
           0,
           "#BBDA55"
          ],
          [
           1,
           "#BBDA55"
          ]
         ],
         "showscale": false,
         "sizemode": "absolute",
         "sizeref": 0.016,
         "type": "cone",
         "u": [
          0
         ],
         "v": [
          1
         ],
         "w": [
          0
         ],
         "x": [
          0
         ],
         "y": [
          0.16
         ],
         "z": [
          0
         ]
        },
        {
         "line": {
          "color": "#8EC1E1",
          "width": 5
         },
         "mode": "lines",
         "name": "Z0 Axis",
         "type": "scatter3d",
         "x": [
          0,
          0
         ],
         "y": [
          0,
          0
         ],
         "z": [
          0,
          0.16
         ]
        },
        {
         "cmax": 1,
         "cmin": 0,
         "colorscale": [
          [
           0,
           "#8EC1E1"
          ],
          [
           1,
           "#8EC1E1"
          ]
         ],
         "showscale": false,
         "sizemode": "absolute",
         "sizeref": 0.016,
         "type": "cone",
         "u": [
          0
         ],
         "v": [
          0
         ],
         "w": [
          1
         ],
         "x": [
          0
         ],
         "y": [
          0
         ],
         "z": [
          0.16
         ]
        },
        {
         "line": {
          "color": "#F84752",
          "width": 5
         },
         "mode": "lines",
         "name": "X1 Axis",
         "type": "scatter3d",
         "x": [
          0,
          0.16
         ],
         "y": [
          0,
          0
         ],
         "z": [
          0.4,
          0.4
         ]
        },
        {
         "cmax": 1,
         "cmin": 0,
         "colorscale": [
          [
           0,
           "#F84752"
          ],
          [
           1,
           "#F84752"
          ]
         ],
         "showscale": false,
         "sizemode": "absolute",
         "sizeref": 0.016,
         "type": "cone",
         "u": [
          1
         ],
         "v": [
          0
         ],
         "w": [
          0
         ],
         "x": [
          0.16
         ],
         "y": [
          0
         ],
         "z": [
          0.4
         ]
        },
        {
         "line": {
          "color": "#BBDA55",
          "width": 5
         },
         "mode": "lines",
         "name": "Y1 Axis",
         "type": "scatter3d",
         "x": [
          0,
          0
         ],
         "y": [
          0,
          9.797174393178826e-18
         ],
         "z": [
          0.4,
          0.56
         ]
        },
        {
         "cmax": 1,
         "cmin": 0,
         "colorscale": [
          [
           0,
           "#BBDA55"
          ],
          [
           1,
           "#BBDA55"
          ]
         ],
         "showscale": false,
         "sizemode": "absolute",
         "sizeref": 0.016,
         "type": "cone",
         "u": [
          0
         ],
         "v": [
          6.123233995736766e-17
         ],
         "w": [
          1
         ],
         "x": [
          0
         ],
         "y": [
          9.797174393178826e-18
         ],
         "z": [
          0.56
         ]
        },
        {
         "line": {
          "color": "#8EC1E1",
          "width": 5
         },
         "mode": "lines",
         "name": "Z1 Axis",
         "type": "scatter3d",
         "x": [
          0,
          0
         ],
         "y": [
          0,
          -0.16
         ],
         "z": [
          0.4,
          0.4
         ]
        },
        {
         "cmax": 1,
         "cmin": 0,
         "colorscale": [
          [
           0,
           "#8EC1E1"
          ],
          [
           1,
           "#8EC1E1"
          ]
         ],
         "showscale": false,
         "sizemode": "absolute",
         "sizeref": 0.016,
         "type": "cone",
         "u": [
          0
         ],
         "v": [
          -1
         ],
         "w": [
          6.123233995736766e-17
         ],
         "x": [
          0
         ],
         "y": [
          -0.16
         ],
         "z": [
          0.4
         ]
        },
        {
         "line": {
          "color": "#F84752",
          "width": 5
         },
         "mode": "lines",
         "name": "X2 Axis",
         "type": "scatter3d",
         "x": [
          -2.4492935982947065e-17,
          -1.469576158976824e-17
         ],
         "y": [
          2.4492935982947065e-17,
          1.469576158976824e-17
         ],
         "z": [
          0.8,
          0.64
         ]
        },
        {
         "cmax": 1,
         "cmin": 0,
         "colorscale": [
          [
           0,
           "#F84752"
          ],
          [
           1,
           "#F84752"
          ]
         ],
         "showscale": false,
         "sizemode": "absolute",
         "sizeref": 0.016,
         "type": "cone",
         "u": [
          6.123233995736766e-17
         ],
         "v": [
          -6.123233995736766e-17
         ],
         "w": [
          -1
         ],
         "x": [
          -1.469576158976824e-17
         ],
         "y": [
          1.469576158976824e-17
         ],
         "z": [
          0.64
         ]
        },
        {
         "line": {
          "color": "#BBDA55",
          "width": 5
         },
         "mode": "lines",
         "name": "Y2 Axis",
         "type": "scatter3d",
         "x": [
          -2.4492935982947065e-17,
          0.15999999999999998
         ],
         "y": [
          2.4492935982947065e-17,
          2.4492935982947065e-17
         ],
         "z": [
          0.8,
          0.8
         ]
        },
        {
         "cmax": 1,
         "cmin": 0,
         "colorscale": [
          [
           0,
           "#BBDA55"
          ],
          [
           1,
           "#BBDA55"
          ]
         ],
         "showscale": false,
         "sizemode": "absolute",
         "sizeref": 0.016,
         "type": "cone",
         "u": [
          1
         ],
         "v": [
          3.749399456654644e-33
         ],
         "w": [
          6.123233995736766e-17
         ],
         "x": [
          0.15999999999999998
         ],
         "y": [
          2.4492935982947065e-17
         ],
         "z": [
          0.8
         ]
        },
        {
         "line": {
          "color": "#8EC1E1",
          "width": 5
         },
         "mode": "lines",
         "name": "Z2 Axis",
         "type": "scatter3d",
         "x": [
          -2.4492935982947065e-17,
          -2.4492935982947065e-17
         ],
         "y": [
          2.4492935982947065e-17,
          -0.15999999999999998
         ],
         "z": [
          0.8,
          0.8
         ]
        },
        {
         "cmax": 1,
         "cmin": 0,
         "colorscale": [
          [
           0,
           "#8EC1E1"
          ],
          [
           1,
           "#8EC1E1"
          ]
         ],
         "showscale": false,
         "sizemode": "absolute",
         "sizeref": 0.016,
         "type": "cone",
         "u": [
          0
         ],
         "v": [
          -1
         ],
         "w": [
          6.123233995736766e-17
         ],
         "x": [
          -2.4492935982947065e-17
         ],
         "y": [
          -0.15999999999999998
         ],
         "z": [
          0.8
         ]
        },
        {
         "line": {
          "color": "#F84752",
          "width": 5
         },
         "mode": "lines",
         "name": "X3 Axis",
         "type": "scatter3d",
         "x": [
          -4.898587196589413e-17,
          -3.91886975727153e-17
         ],
         "y": [
          4.898587196589413e-17,
          3.91886975727153e-17
         ],
         "z": [
          1.2000000000000002,
          1.0400000000000003
         ]
        },
        {
         "cmax": 1,
         "cmin": 0,
         "colorscale": [
          [
           0,
           "#F84752"
          ],
          [
           1,
           "#F84752"
          ]
         ],
         "showscale": false,
         "sizemode": "absolute",
         "sizeref": 0.016,
         "type": "cone",
         "u": [
          6.123233995736766e-17
         ],
         "v": [
          -6.123233995736766e-17
         ],
         "w": [
          -1
         ],
         "x": [
          -3.91886975727153e-17
         ],
         "y": [
          3.91886975727153e-17
         ],
         "z": [
          1.0400000000000003
         ]
        },
        {
         "line": {
          "color": "#BBDA55",
          "width": 5
         },
         "mode": "lines",
         "name": "Y3 Axis",
         "type": "scatter3d",
         "x": [
          -4.898587196589413e-17,
          0.15999999999999995
         ],
         "y": [
          4.898587196589413e-17,
          4.898587196589413e-17
         ],
         "z": [
          1.2000000000000002,
          1.2000000000000002
         ]
        },
        {
         "cmax": 1,
         "cmin": 0,
         "colorscale": [
          [
           0,
           "#BBDA55"
          ],
          [
           1,
           "#BBDA55"
          ]
         ],
         "showscale": false,
         "sizemode": "absolute",
         "sizeref": 0.016,
         "type": "cone",
         "u": [
          1
         ],
         "v": [
          3.749399456654644e-33
         ],
         "w": [
          6.123233995736766e-17
         ],
         "x": [
          0.15999999999999995
         ],
         "y": [
          4.898587196589413e-17
         ],
         "z": [
          1.2000000000000002
         ]
        },
        {
         "line": {
          "color": "#8EC1E1",
          "width": 5
         },
         "mode": "lines",
         "name": "Z3 Axis",
         "type": "scatter3d",
         "x": [
          -4.898587196589413e-17,
          -4.898587196589413e-17
         ],
         "y": [
          4.898587196589413e-17,
          -0.15999999999999995
         ],
         "z": [
          1.2000000000000002,
          1.2000000000000002
         ]
        },
        {
         "cmax": 1,
         "cmin": 0,
         "colorscale": [
          [
           0,
           "#8EC1E1"
          ],
          [
           1,
           "#8EC1E1"
          ]
         ],
         "showscale": false,
         "sizemode": "absolute",
         "sizeref": 0.016,
         "type": "cone",
         "u": [
          0
         ],
         "v": [
          -1
         ],
         "w": [
          6.123233995736766e-17
         ],
         "x": [
          -4.898587196589413e-17
         ],
         "y": [
          -0.15999999999999995
         ],
         "z": [
          1.2000000000000002
         ]
        },
        {
         "line": {
          "color": "#F84752",
          "width": 5
         },
         "mode": "lines",
         "name": "X4 Axis",
         "type": "scatter3d",
         "x": [
          -7.34788079488412e-17,
          -6.858022075225179e-17
         ],
         "y": [
          7.34788079488412e-17,
          6.858022075225179e-17
         ],
         "z": [
          1.6,
          1.52
         ]
        },
        {
         "cmax": 1,
         "cmin": 0,
         "colorscale": [
          [
           0,
           "#F84752"
          ],
          [
           1,
           "#F84752"
          ]
         ],
         "showscale": false,
         "sizemode": "absolute",
         "sizeref": 0.008,
         "type": "cone",
         "u": [
          6.123233995736766e-17
         ],
         "v": [
          -6.123233995736766e-17
         ],
         "w": [
          -1
         ],
         "x": [
          -6.858022075225179e-17
         ],
         "y": [
          6.858022075225179e-17
         ],
         "z": [
          1.52
         ]
        },
        {
         "line": {
          "color": "#BBDA55",
          "width": 5
         },
         "mode": "lines",
         "name": "Y4 Axis",
         "type": "scatter3d",
         "x": [
          -7.34788079488412e-17,
          0.07999999999999993
         ],
         "y": [
          7.34788079488412e-17,
          7.34788079488412e-17
         ],
         "z": [
          1.6,
          1.6
         ]
        },
        {
         "cmax": 1,
         "cmin": 0,
         "colorscale": [
          [
           0,
           "#BBDA55"
          ],
          [
           1,
           "#BBDA55"
          ]
         ],
         "showscale": false,
         "sizemode": "absolute",
         "sizeref": 0.008,
         "type": "cone",
         "u": [
          1
         ],
         "v": [
          3.749399456654644e-33
         ],
         "w": [
          6.123233995736766e-17
         ],
         "x": [
          0.07999999999999993
         ],
         "y": [
          7.34788079488412e-17
         ],
         "z": [
          1.6
         ]
        },
        {
         "line": {
          "color": "#8EC1E1",
          "width": 5
         },
         "mode": "lines",
         "name": "Z4 Axis",
         "type": "scatter3d",
         "x": [
          -7.34788079488412e-17,
          -7.34788079488412e-17
         ],
         "y": [
          7.34788079488412e-17,
          -0.07999999999999993
         ],
         "z": [
          1.6,
          1.6
         ]
        },
        {
         "cmax": 1,
         "cmin": 0,
         "colorscale": [
          [
           0,
           "#8EC1E1"
          ],
          [
           1,
           "#8EC1E1"
          ]
         ],
         "showscale": false,
         "sizemode": "absolute",
         "sizeref": 0.008,
         "type": "cone",
         "u": [
          0
         ],
         "v": [
          -1
         ],
         "w": [
          6.123233995736766e-17
         ],
         "x": [
          -7.34788079488412e-17
         ],
         "y": [
          -0.07999999999999993
         ],
         "z": [
          1.6
         ]
        },
        {
         "line": {
          "color": "#E1706E",
          "width": 14
         },
         "mode": "lines",
         "name": "Link1",
         "type": "scatter3d",
         "x": {
          "bdata": "AAAAAAAAAAAAAAAAAAAAAA==",
          "dtype": "f8"
         },
         "y": {
          "bdata": "AAAAAAAAAAAAAAAAAAAAAA==",
          "dtype": "f8"
         },
         "z": {
          "bdata": "AAAAAAAAAACamZmZmZnZPw==",
          "dtype": "f8"
         }
        },
        {
         "line": {
          "color": "#E1706E",
          "width": 14
         },
         "mode": "lines",
         "name": "Link2",
         "type": "scatter3d",
         "x": {
          "bdata": "AAAAAAAAAAByxlPrCT18vA==",
          "dtype": "f8"
         },
         "y": {
          "bdata": "AAAAAAAAAAByxlPrCT18PA==",
          "dtype": "f8"
         },
         "z": {
          "bdata": "mpmZmZmZ2T+amZmZmZnpPw==",
          "dtype": "f8"
         }
        },
        {
         "line": {
          "color": "#E1706E",
          "width": 14
         },
         "mode": "lines",
         "name": "Link3",
         "type": "scatter3d",
         "x": {
          "bdata": "csZT6wk9fLxyxlPrCT2MvA==",
          "dtype": "f8"
         },
         "y": {
          "bdata": "csZT6wk9fDxyxlPrCT2MPA==",
          "dtype": "f8"
         },
         "z": {
          "bdata": "mpmZmZmZ6T80MzMzMzPzPw==",
          "dtype": "f8"
         }
        },
        {
         "line": {
          "color": "#E1706E",
          "width": 14
         },
         "mode": "lines",
         "name": "Link4",
         "type": "scatter3d",
         "x": {
          "bdata": "csZT6wk9jLzW1H5wxy2VvA==",
          "dtype": "f8"
         },
         "y": {
          "bdata": "csZT6wk9jDzW1H5wxy2VPA==",
          "dtype": "f8"
         },
         "z": {
          "bdata": "NDMzMzMz8z+amZmZmZn5Pw==",
          "dtype": "f8"
         }
        },
        {
         "line": {
          "color": "#F84752",
          "width": 5
         },
         "mode": "lines",
         "name": "X0 Axis",
         "type": "scatter3d",
         "x": [
          0,
          0.16
         ],
         "y": [
          0,
          0
         ],
         "z": [
          0,
          0
         ]
        },
        {
         "cmax": 1,
         "cmin": 0,
         "colorscale": [
          [
           0,
           "#F84752"
          ],
          [
           1,
           "#F84752"
          ]
         ],
         "showscale": false,
         "sizemode": "absolute",
         "sizeref": 0.016,
         "type": "cone",
         "u": [
          1
         ],
         "v": [
          0
         ],
         "w": [
          0
         ],
         "x": [
          0.16
         ],
         "y": [
          0
         ],
         "z": [
          0
         ]
        },
        {
         "line": {
          "color": "#BBDA55",
          "width": 5
         },
         "mode": "lines",
         "name": "Y0 Axis",
         "type": "scatter3d",
         "x": [
          0,
          0
         ],
         "y": [
          0,
          0.16
         ],
         "z": [
          0,
          0
         ]
        },
        {
         "cmax": 1,
         "cmin": 0,
         "colorscale": [
          [
           0,
           "#BBDA55"
          ],
          [
           1,
           "#BBDA55"
          ]
         ],
         "showscale": false,
         "sizemode": "absolute",
         "sizeref": 0.016,
         "type": "cone",
         "u": [
          0
         ],
         "v": [
          1
         ],
         "w": [
          0
         ],
         "x": [
          0
         ],
         "y": [
          0.16
         ],
         "z": [
          0
         ]
        },
        {
         "line": {
          "color": "#8EC1E1",
          "width": 5
         },
         "mode": "lines",
         "name": "Z0 Axis",
         "type": "scatter3d",
         "x": [
          0,
          0
         ],
         "y": [
          0,
          0
         ],
         "z": [
          0,
          0.16
         ]
        },
        {
         "cmax": 1,
         "cmin": 0,
         "colorscale": [
          [
           0,
           "#8EC1E1"
          ],
          [
           1,
           "#8EC1E1"
          ]
         ],
         "showscale": false,
         "sizemode": "absolute",
         "sizeref": 0.016,
         "type": "cone",
         "u": [
          0
         ],
         "v": [
          0
         ],
         "w": [
          1
         ],
         "x": [
          0
         ],
         "y": [
          0
         ],
         "z": [
          0.16
         ]
        },
        {
         "line": {
          "color": "#F84752",
          "width": 5
         },
         "mode": "lines",
         "name": "X1 Axis",
         "type": "scatter3d",
         "x": [
          0,
          0.16
         ],
         "y": [
          0,
          0
         ],
         "z": [
          0.4,
          0.4
         ]
        },
        {
         "cmax": 1,
         "cmin": 0,
         "colorscale": [
          [
           0,
           "#F84752"
          ],
          [
           1,
           "#F84752"
          ]
         ],
         "showscale": false,
         "sizemode": "absolute",
         "sizeref": 0.016,
         "type": "cone",
         "u": [
          1
         ],
         "v": [
          0
         ],
         "w": [
          0
         ],
         "x": [
          0.16
         ],
         "y": [
          0
         ],
         "z": [
          0.4
         ]
        },
        {
         "line": {
          "color": "#BBDA55",
          "width": 5
         },
         "mode": "lines",
         "name": "Y1 Axis",
         "type": "scatter3d",
         "x": [
          0,
          0
         ],
         "y": [
          0,
          9.797174393178826e-18
         ],
         "z": [
          0.4,
          0.56
         ]
        },
        {
         "cmax": 1,
         "cmin": 0,
         "colorscale": [
          [
           0,
           "#BBDA55"
          ],
          [
           1,
           "#BBDA55"
          ]
         ],
         "showscale": false,
         "sizemode": "absolute",
         "sizeref": 0.016,
         "type": "cone",
         "u": [
          0
         ],
         "v": [
          6.123233995736766e-17
         ],
         "w": [
          1
         ],
         "x": [
          0
         ],
         "y": [
          9.797174393178826e-18
         ],
         "z": [
          0.56
         ]
        },
        {
         "line": {
          "color": "#8EC1E1",
          "width": 5
         },
         "mode": "lines",
         "name": "Z1 Axis",
         "type": "scatter3d",
         "x": [
          0,
          0
         ],
         "y": [
          0,
          -0.16
         ],
         "z": [
          0.4,
          0.4
         ]
        },
        {
         "cmax": 1,
         "cmin": 0,
         "colorscale": [
          [
           0,
           "#8EC1E1"
          ],
          [
           1,
           "#8EC1E1"
          ]
         ],
         "showscale": false,
         "sizemode": "absolute",
         "sizeref": 0.016,
         "type": "cone",
         "u": [
          0
         ],
         "v": [
          -1
         ],
         "w": [
          6.123233995736766e-17
         ],
         "x": [
          0
         ],
         "y": [
          -0.16
         ],
         "z": [
          0.4
         ]
        },
        {
         "line": {
          "color": "#F84752",
          "width": 5
         },
         "mode": "lines",
         "name": "X2 Axis",
         "type": "scatter3d",
         "x": [
          -2.4492935982947065e-17,
          -1.469576158976824e-17
         ],
         "y": [
          2.4492935982947065e-17,
          1.469576158976824e-17
         ],
         "z": [
          0.8,
          0.64
         ]
        },
        {
         "cmax": 1,
         "cmin": 0,
         "colorscale": [
          [
           0,
           "#F84752"
          ],
          [
           1,
           "#F84752"
          ]
         ],
         "showscale": false,
         "sizemode": "absolute",
         "sizeref": 0.016,
         "type": "cone",
         "u": [
          6.123233995736766e-17
         ],
         "v": [
          -6.123233995736766e-17
         ],
         "w": [
          -1
         ],
         "x": [
          -1.469576158976824e-17
         ],
         "y": [
          1.469576158976824e-17
         ],
         "z": [
          0.64
         ]
        },
        {
         "line": {
          "color": "#BBDA55",
          "width": 5
         },
         "mode": "lines",
         "name": "Y2 Axis",
         "type": "scatter3d",
         "x": [
          -2.4492935982947065e-17,
          0.15999999999999998
         ],
         "y": [
          2.4492935982947065e-17,
          2.4492935982947065e-17
         ],
         "z": [
          0.8,
          0.8
         ]
        },
        {
         "cmax": 1,
         "cmin": 0,
         "colorscale": [
          [
           0,
           "#BBDA55"
          ],
          [
           1,
           "#BBDA55"
          ]
         ],
         "showscale": false,
         "sizemode": "absolute",
         "sizeref": 0.016,
         "type": "cone",
         "u": [
          1
         ],
         "v": [
          3.749399456654644e-33
         ],
         "w": [
          6.123233995736766e-17
         ],
         "x": [
          0.15999999999999998
         ],
         "y": [
          2.4492935982947065e-17
         ],
         "z": [
          0.8
         ]
        },
        {
         "line": {
          "color": "#8EC1E1",
          "width": 5
         },
         "mode": "lines",
         "name": "Z2 Axis",
         "type": "scatter3d",
         "x": [
          -2.4492935982947065e-17,
          -2.4492935982947065e-17
         ],
         "y": [
          2.4492935982947065e-17,
          -0.15999999999999998
         ],
         "z": [
          0.8,
          0.8
         ]
        },
        {
         "cmax": 1,
         "cmin": 0,
         "colorscale": [
          [
           0,
           "#8EC1E1"
          ],
          [
           1,
           "#8EC1E1"
          ]
         ],
         "showscale": false,
         "sizemode": "absolute",
         "sizeref": 0.016,
         "type": "cone",
         "u": [
          0
         ],
         "v": [
          -1
         ],
         "w": [
          6.123233995736766e-17
         ],
         "x": [
          -2.4492935982947065e-17
         ],
         "y": [
          -0.15999999999999998
         ],
         "z": [
          0.8
         ]
        },
        {
         "line": {
          "color": "#F84752",
          "width": 5
         },
         "mode": "lines",
         "name": "X3 Axis",
         "type": "scatter3d",
         "x": [
          -4.898587196589413e-17,
          -3.91886975727153e-17
         ],
         "y": [
          4.898587196589413e-17,
          3.91886975727153e-17
         ],
         "z": [
          1.2000000000000002,
          1.0400000000000003
         ]
        },
        {
         "cmax": 1,
         "cmin": 0,
         "colorscale": [
          [
           0,
           "#F84752"
          ],
          [
           1,
           "#F84752"
          ]
         ],
         "showscale": false,
         "sizemode": "absolute",
         "sizeref": 0.016,
         "type": "cone",
         "u": [
          6.123233995736766e-17
         ],
         "v": [
          -6.123233995736766e-17
         ],
         "w": [
          -1
         ],
         "x": [
          -3.91886975727153e-17
         ],
         "y": [
          3.91886975727153e-17
         ],
         "z": [
          1.0400000000000003
         ]
        },
        {
         "line": {
          "color": "#BBDA55",
          "width": 5
         },
         "mode": "lines",
         "name": "Y3 Axis",
         "type": "scatter3d",
         "x": [
          -4.898587196589413e-17,
          0.15999999999999995
         ],
         "y": [
          4.898587196589413e-17,
          4.898587196589413e-17
         ],
         "z": [
          1.2000000000000002,
          1.2000000000000002
         ]
        },
        {
         "cmax": 1,
         "cmin": 0,
         "colorscale": [
          [
           0,
           "#BBDA55"
          ],
          [
           1,
           "#BBDA55"
          ]
         ],
         "showscale": false,
         "sizemode": "absolute",
         "sizeref": 0.016,
         "type": "cone",
         "u": [
          1
         ],
         "v": [
          3.749399456654644e-33
         ],
         "w": [
          6.123233995736766e-17
         ],
         "x": [
          0.15999999999999995
         ],
         "y": [
          4.898587196589413e-17
         ],
         "z": [
          1.2000000000000002
         ]
        },
        {
         "line": {
          "color": "#8EC1E1",
          "width": 5
         },
         "mode": "lines",
         "name": "Z3 Axis",
         "type": "scatter3d",
         "x": [
          -4.898587196589413e-17,
          -4.898587196589413e-17
         ],
         "y": [
          4.898587196589413e-17,
          -0.15999999999999995
         ],
         "z": [
          1.2000000000000002,
          1.2000000000000002
         ]
        },
        {
         "cmax": 1,
         "cmin": 0,
         "colorscale": [
          [
           0,
           "#8EC1E1"
          ],
          [
           1,
           "#8EC1E1"
          ]
         ],
         "showscale": false,
         "sizemode": "absolute",
         "sizeref": 0.016,
         "type": "cone",
         "u": [
          0
         ],
         "v": [
          -1
         ],
         "w": [
          6.123233995736766e-17
         ],
         "x": [
          -4.898587196589413e-17
         ],
         "y": [
          -0.15999999999999995
         ],
         "z": [
          1.2000000000000002
         ]
        },
        {
         "line": {
          "color": "#F84752",
          "width": 5
         },
         "mode": "lines",
         "name": "X4 Axis",
         "type": "scatter3d",
         "x": [
          -7.34788079488412e-17,
          -6.858022075225179e-17
         ],
         "y": [
          7.34788079488412e-17,
          6.858022075225179e-17
         ],
         "z": [
          1.6,
          1.52
         ]
        },
        {
         "cmax": 1,
         "cmin": 0,
         "colorscale": [
          [
           0,
           "#F84752"
          ],
          [
           1,
           "#F84752"
          ]
         ],
         "showscale": false,
         "sizemode": "absolute",
         "sizeref": 0.008,
         "type": "cone",
         "u": [
          6.123233995736766e-17
         ],
         "v": [
          -6.123233995736766e-17
         ],
         "w": [
          -1
         ],
         "x": [
          -6.858022075225179e-17
         ],
         "y": [
          6.858022075225179e-17
         ],
         "z": [
          1.52
         ]
        },
        {
         "line": {
          "color": "#BBDA55",
          "width": 5
         },
         "mode": "lines",
         "name": "Y4 Axis",
         "type": "scatter3d",
         "x": [
          -7.34788079488412e-17,
          0.07999999999999993
         ],
         "y": [
          7.34788079488412e-17,
          7.34788079488412e-17
         ],
         "z": [
          1.6,
          1.6
         ]
        },
        {
         "cmax": 1,
         "cmin": 0,
         "colorscale": [
          [
           0,
           "#BBDA55"
          ],
          [
           1,
           "#BBDA55"
          ]
         ],
         "showscale": false,
         "sizemode": "absolute",
         "sizeref": 0.008,
         "type": "cone",
         "u": [
          1
         ],
         "v": [
          3.749399456654644e-33
         ],
         "w": [
          6.123233995736766e-17
         ],
         "x": [
          0.07999999999999993
         ],
         "y": [
          7.34788079488412e-17
         ],
         "z": [
          1.6
         ]
        },
        {
         "line": {
          "color": "#8EC1E1",
          "width": 5
         },
         "mode": "lines",
         "name": "Z4 Axis",
         "type": "scatter3d",
         "x": [
          -7.34788079488412e-17,
          -7.34788079488412e-17
         ],
         "y": [
          7.34788079488412e-17,
          -0.07999999999999993
         ],
         "z": [
          1.6,
          1.6
         ]
        },
        {
         "cmax": 1,
         "cmin": 0,
         "colorscale": [
          [
           0,
           "#8EC1E1"
          ],
          [
           1,
           "#8EC1E1"
          ]
         ],
         "showscale": false,
         "sizemode": "absolute",
         "sizeref": 0.008,
         "type": "cone",
         "u": [
          0
         ],
         "v": [
          -1
         ],
         "w": [
          6.123233995736766e-17
         ],
         "x": [
          -7.34788079488412e-17
         ],
         "y": [
          -0.07999999999999993
         ],
         "z": [
          1.6
         ]
        }
       ],
       "layout": {
        "height": 600,
        "scene": {
         "aspectmode": "cube",
         "camera": {
          "center": {
           "x": 0,
           "y": 0,
           "z": 0
          },
          "eye": {
           "x": 2.4000000000000004,
           "y": -2.4000000000000004,
           "z": 2.4000000000000004
          },
          "up": {
           "x": 0,
           "y": 0,
           "z": 1
          }
         },
         "xaxis": {
          "nticks": 10,
          "range": [
           -1.7600000000000002,
           1.7600000000000002
          ],
          "title": {
           "text": "X"
          }
         },
         "yaxis": {
          "nticks": 10,
          "range": [
           -1.7600000000000002,
           1.7600000000000002
          ],
          "title": {
           "text": "Y"
          }
         },
         "zaxis": {
          "nticks": 10,
          "range": [
           -1.7600000000000002,
           1.7600000000000002
          ],
          "title": {
           "text": "Z"
          }
         }
        },
        "template": {
         "data": {
          "bar": [
           {
            "error_x": {
             "color": "#2a3f5f"
            },
            "error_y": {
             "color": "#2a3f5f"
            },
            "marker": {
             "line": {
              "color": "#E5ECF6",
              "width": 0.5
             },
             "pattern": {
              "fillmode": "overlay",
              "size": 10,
              "solidity": 0.2
             }
            },
            "type": "bar"
           }
          ],
          "barpolar": [
           {
            "marker": {
             "line": {
              "color": "#E5ECF6",
              "width": 0.5
             },
             "pattern": {
              "fillmode": "overlay",
              "size": 10,
              "solidity": 0.2
             }
            },
            "type": "barpolar"
           }
          ],
          "carpet": [
           {
            "aaxis": {
             "endlinecolor": "#2a3f5f",
             "gridcolor": "white",
             "linecolor": "white",
             "minorgridcolor": "white",
             "startlinecolor": "#2a3f5f"
            },
            "baxis": {
             "endlinecolor": "#2a3f5f",
             "gridcolor": "white",
             "linecolor": "white",
             "minorgridcolor": "white",
             "startlinecolor": "#2a3f5f"
            },
            "type": "carpet"
           }
          ],
          "choropleth": [
           {
            "colorbar": {
             "outlinewidth": 0,
             "ticks": ""
            },
            "type": "choropleth"
           }
          ],
          "contour": [
           {
            "colorbar": {
             "outlinewidth": 0,
             "ticks": ""
            },
            "colorscale": [
             [
              0,
              "#0d0887"
             ],
             [
              0.1111111111111111,
              "#46039f"
             ],
             [
              0.2222222222222222,
              "#7201a8"
             ],
             [
              0.3333333333333333,
              "#9c179e"
             ],
             [
              0.4444444444444444,
              "#bd3786"
             ],
             [
              0.5555555555555556,
              "#d8576b"
             ],
             [
              0.6666666666666666,
              "#ed7953"
             ],
             [
              0.7777777777777778,
              "#fb9f3a"
             ],
             [
              0.8888888888888888,
              "#fdca26"
             ],
             [
              1,
              "#f0f921"
             ]
            ],
            "type": "contour"
           }
          ],
          "contourcarpet": [
           {
            "colorbar": {
             "outlinewidth": 0,
             "ticks": ""
            },
            "type": "contourcarpet"
           }
          ],
          "heatmap": [
           {
            "colorbar": {
             "outlinewidth": 0,
             "ticks": ""
            },
            "colorscale": [
             [
              0,
              "#0d0887"
             ],
             [
              0.1111111111111111,
              "#46039f"
             ],
             [
              0.2222222222222222,
              "#7201a8"
             ],
             [
              0.3333333333333333,
              "#9c179e"
             ],
             [
              0.4444444444444444,
              "#bd3786"
             ],
             [
              0.5555555555555556,
              "#d8576b"
             ],
             [
              0.6666666666666666,
              "#ed7953"
             ],
             [
              0.7777777777777778,
              "#fb9f3a"
             ],
             [
              0.8888888888888888,
              "#fdca26"
             ],
             [
              1,
              "#f0f921"
             ]
            ],
            "type": "heatmap"
           }
          ],
          "histogram": [
           {
            "marker": {
             "pattern": {
              "fillmode": "overlay",
              "size": 10,
              "solidity": 0.2
             }
            },
            "type": "histogram"
           }
          ],
          "histogram2d": [
           {
            "colorbar": {
             "outlinewidth": 0,
             "ticks": ""
            },
            "colorscale": [
             [
              0,
              "#0d0887"
             ],
             [
              0.1111111111111111,
              "#46039f"
             ],
             [
              0.2222222222222222,
              "#7201a8"
             ],
             [
              0.3333333333333333,
              "#9c179e"
             ],
             [
              0.4444444444444444,
              "#bd3786"
             ],
             [
              0.5555555555555556,
              "#d8576b"
             ],
             [
              0.6666666666666666,
              "#ed7953"
             ],
             [
              0.7777777777777778,
              "#fb9f3a"
             ],
             [
              0.8888888888888888,
              "#fdca26"
             ],
             [
              1,
              "#f0f921"
             ]
            ],
            "type": "histogram2d"
           }
          ],
          "histogram2dcontour": [
           {
            "colorbar": {
             "outlinewidth": 0,
             "ticks": ""
            },
            "colorscale": [
             [
              0,
              "#0d0887"
             ],
             [
              0.1111111111111111,
              "#46039f"
             ],
             [
              0.2222222222222222,
              "#7201a8"
             ],
             [
              0.3333333333333333,
              "#9c179e"
             ],
             [
              0.4444444444444444,
              "#bd3786"
             ],
             [
              0.5555555555555556,
              "#d8576b"
             ],
             [
              0.6666666666666666,
              "#ed7953"
             ],
             [
              0.7777777777777778,
              "#fb9f3a"
             ],
             [
              0.8888888888888888,
              "#fdca26"
             ],
             [
              1,
              "#f0f921"
             ]
            ],
            "type": "histogram2dcontour"
           }
          ],
          "mesh3d": [
           {
            "colorbar": {
             "outlinewidth": 0,
             "ticks": ""
            },
            "type": "mesh3d"
           }
          ],
          "parcoords": [
           {
            "line": {
             "colorbar": {
              "outlinewidth": 0,
              "ticks": ""
             }
            },
            "type": "parcoords"
           }
          ],
          "pie": [
           {
            "automargin": true,
            "type": "pie"
           }
          ],
          "scatter": [
           {
            "fillpattern": {
             "fillmode": "overlay",
             "size": 10,
             "solidity": 0.2
            },
            "type": "scatter"
           }
          ],
          "scatter3d": [
           {
            "line": {
             "colorbar": {
              "outlinewidth": 0,
              "ticks": ""
             }
            },
            "marker": {
             "colorbar": {
              "outlinewidth": 0,
              "ticks": ""
             }
            },
            "type": "scatter3d"
           }
          ],
          "scattercarpet": [
           {
            "marker": {
             "colorbar": {
              "outlinewidth": 0,
              "ticks": ""
             }
            },
            "type": "scattercarpet"
           }
          ],
          "scattergeo": [
           {
            "marker": {
             "colorbar": {
              "outlinewidth": 0,
              "ticks": ""
             }
            },
            "type": "scattergeo"
           }
          ],
          "scattergl": [
           {
            "marker": {
             "colorbar": {
              "outlinewidth": 0,
              "ticks": ""
             }
            },
            "type": "scattergl"
           }
          ],
          "scattermap": [
           {
            "marker": {
             "colorbar": {
              "outlinewidth": 0,
              "ticks": ""
             }
            },
            "type": "scattermap"
           }
          ],
          "scattermapbox": [
           {
            "marker": {
             "colorbar": {
              "outlinewidth": 0,
              "ticks": ""
             }
            },
            "type": "scattermapbox"
           }
          ],
          "scatterpolar": [
           {
            "marker": {
             "colorbar": {
              "outlinewidth": 0,
              "ticks": ""
             }
            },
            "type": "scatterpolar"
           }
          ],
          "scatterpolargl": [
           {
            "marker": {
             "colorbar": {
              "outlinewidth": 0,
              "ticks": ""
             }
            },
            "type": "scatterpolargl"
           }
          ],
          "scatterternary": [
           {
            "marker": {
             "colorbar": {
              "outlinewidth": 0,
              "ticks": ""
             }
            },
            "type": "scatterternary"
           }
          ],
          "surface": [
           {
            "colorbar": {
             "outlinewidth": 0,
             "ticks": ""
            },
            "colorscale": [
             [
              0,
              "#0d0887"
             ],
             [
              0.1111111111111111,
              "#46039f"
             ],
             [
              0.2222222222222222,
              "#7201a8"
             ],
             [
              0.3333333333333333,
              "#9c179e"
             ],
             [
              0.4444444444444444,
              "#bd3786"
             ],
             [
              0.5555555555555556,
              "#d8576b"
             ],
             [
              0.6666666666666666,
              "#ed7953"
             ],
             [
              0.7777777777777778,
              "#fb9f3a"
             ],
             [
              0.8888888888888888,
              "#fdca26"
             ],
             [
              1,
              "#f0f921"
             ]
            ],
            "type": "surface"
           }
          ],
          "table": [
           {
            "cells": {
             "fill": {
              "color": "#EBF0F8"
             },
             "line": {
              "color": "white"
             }
            },
            "header": {
             "fill": {
              "color": "#C8D4E3"
             },
             "line": {
              "color": "white"
             }
            },
            "type": "table"
           }
          ]
         },
         "layout": {
          "annotationdefaults": {
           "arrowcolor": "#2a3f5f",
           "arrowhead": 0,
           "arrowwidth": 1
          },
          "autotypenumbers": "strict",
          "coloraxis": {
           "colorbar": {
            "outlinewidth": 0,
            "ticks": ""
           }
          },
          "colorscale": {
           "diverging": [
            [
             0,
             "#8e0152"
            ],
            [
             0.1,
             "#c51b7d"
            ],
            [
             0.2,
             "#de77ae"
            ],
            [
             0.3,
             "#f1b6da"
            ],
            [
             0.4,
             "#fde0ef"
            ],
            [
             0.5,
             "#f7f7f7"
            ],
            [
             0.6,
             "#e6f5d0"
            ],
            [
             0.7,
             "#b8e186"
            ],
            [
             0.8,
             "#7fbc41"
            ],
            [
             0.9,
             "#4d9221"
            ],
            [
             1,
             "#276419"
            ]
           ],
           "sequential": [
            [
             0,
             "#0d0887"
            ],
            [
             0.1111111111111111,
             "#46039f"
            ],
            [
             0.2222222222222222,
             "#7201a8"
            ],
            [
             0.3333333333333333,
             "#9c179e"
            ],
            [
             0.4444444444444444,
             "#bd3786"
            ],
            [
             0.5555555555555556,
             "#d8576b"
            ],
            [
             0.6666666666666666,
             "#ed7953"
            ],
            [
             0.7777777777777778,
             "#fb9f3a"
            ],
            [
             0.8888888888888888,
             "#fdca26"
            ],
            [
             1,
             "#f0f921"
            ]
           ],
           "sequentialminus": [
            [
             0,
             "#0d0887"
            ],
            [
             0.1111111111111111,
             "#46039f"
            ],
            [
             0.2222222222222222,
             "#7201a8"
            ],
            [
             0.3333333333333333,
             "#9c179e"
            ],
            [
             0.4444444444444444,
             "#bd3786"
            ],
            [
             0.5555555555555556,
             "#d8576b"
            ],
            [
             0.6666666666666666,
             "#ed7953"
            ],
            [
             0.7777777777777778,
             "#fb9f3a"
            ],
            [
             0.8888888888888888,
             "#fdca26"
            ],
            [
             1,
             "#f0f921"
            ]
           ]
          },
          "colorway": [
           "#636efa",
           "#EF553B",
           "#00cc96",
           "#ab63fa",
           "#FFA15A",
           "#19d3f3",
           "#FF6692",
           "#B6E880",
           "#FF97FF",
           "#FECB52"
          ],
          "font": {
           "color": "#2a3f5f"
          },
          "geo": {
           "bgcolor": "white",
           "lakecolor": "white",
           "landcolor": "#E5ECF6",
           "showlakes": true,
           "showland": true,
           "subunitcolor": "white"
          },
          "hoverlabel": {
           "align": "left"
          },
          "hovermode": "closest",
          "mapbox": {
           "style": "light"
          },
          "paper_bgcolor": "white",
          "plot_bgcolor": "#E5ECF6",
          "polar": {
           "angularaxis": {
            "gridcolor": "white",
            "linecolor": "white",
            "ticks": ""
           },
           "bgcolor": "#E5ECF6",
           "radialaxis": {
            "gridcolor": "white",
            "linecolor": "white",
            "ticks": ""
           }
          },
          "scene": {
           "xaxis": {
            "backgroundcolor": "#E5ECF6",
            "gridcolor": "white",
            "gridwidth": 2,
            "linecolor": "white",
            "showbackground": true,
            "ticks": "",
            "zerolinecolor": "white"
           },
           "yaxis": {
            "backgroundcolor": "#E5ECF6",
            "gridcolor": "white",
            "gridwidth": 2,
            "linecolor": "white",
            "showbackground": true,
            "ticks": "",
            "zerolinecolor": "white"
           },
           "zaxis": {
            "backgroundcolor": "#E5ECF6",
            "gridcolor": "white",
            "gridwidth": 2,
            "linecolor": "white",
            "showbackground": true,
            "ticks": "",
            "zerolinecolor": "white"
           }
          },
          "shapedefaults": {
           "line": {
            "color": "#2a3f5f"
           }
          },
          "ternary": {
           "aaxis": {
            "gridcolor": "white",
            "linecolor": "white",
            "ticks": ""
           },
           "baxis": {
            "gridcolor": "white",
            "linecolor": "white",
            "ticks": ""
           },
           "bgcolor": "#E5ECF6",
           "caxis": {
            "gridcolor": "white",
            "linecolor": "white",
            "ticks": ""
           }
          },
          "title": {
           "x": 0.05
          },
          "xaxis": {
           "automargin": true,
           "gridcolor": "white",
           "linecolor": "white",
           "ticks": "",
           "title": {
            "standoff": 15
           },
           "zerolinecolor": "white",
           "zerolinewidth": 2
          },
          "yaxis": {
           "automargin": true,
           "gridcolor": "white",
           "linecolor": "white",
           "ticks": "",
           "title": {
            "standoff": 15
           },
           "zerolinecolor": "white",
           "zerolinewidth": 2
          }
         }
        },
        "width": 700
       }
      }
     },
     "metadata": {},
     "output_type": "display_data"
    }
   ],
   "source": [
    "robot = rsb.models.DH.Generic.GenericFour()\n",
    "robot.plotly(robot.qr, isShow=False)\n"
   ]
  },
  {
   "cell_type": "code",
   "execution_count": 13,
   "metadata": {},
   "outputs": [
    {
     "data": {
      "application/vnd.plotly.v1+json": {
       "config": {
        "plotlyServerURL": "https://plot.ly"
       },
       "data": [
        {
         "line": {
          "color": "#E1706E",
          "width": 14
         },
         "mode": "lines",
         "name": "Link1",
         "type": "scatter3d",
         "x": {
          "bdata": "AAAAAAAAAAAAAAAAAAAAAA==",
          "dtype": "f8"
         },
         "y": {
          "bdata": "AAAAAAAAAAAAAAAAAAAAAA==",
          "dtype": "f8"
         },
         "z": {
          "bdata": "AAAAAAAAAACamZmZmZnZPw==",
          "dtype": "f8"
         }
        },
        {
         "line": {
          "color": "#E1706E",
          "width": 14
         },
         "mode": "lines",
         "name": "Link2",
         "type": "scatter3d",
         "x": {
          "bdata": "AAAAAAAAAAByxlPrCT18vA==",
          "dtype": "f8"
         },
         "y": {
          "bdata": "AAAAAAAAAAByxlPrCT18PA==",
          "dtype": "f8"
         },
         "z": {
          "bdata": "mpmZmZmZ2T+amZmZmZnpPw==",
          "dtype": "f8"
         }
        },
        {
         "line": {
          "color": "#E1706E",
          "width": 14
         },
         "mode": "lines",
         "name": "Link3",
         "type": "scatter3d",
         "x": {
          "bdata": "csZT6wk9fLxyxlPrCT2MvA==",
          "dtype": "f8"
         },
         "y": {
          "bdata": "csZT6wk9fDxyxlPrCT2MPA==",
          "dtype": "f8"
         },
         "z": {
          "bdata": "mpmZmZmZ6T80MzMzMzPzPw==",
          "dtype": "f8"
         }
        },
        {
         "line": {
          "color": "#E1706E",
          "width": 14
         },
         "mode": "lines",
         "name": "Link4",
         "type": "scatter3d",
         "x": {
          "bdata": "csZT6wk9jLzW1H5wxy2VvA==",
          "dtype": "f8"
         },
         "y": {
          "bdata": "csZT6wk9jDzW1H5wxy2VPA==",
          "dtype": "f8"
         },
         "z": {
          "bdata": "NDMzMzMz8z+amZmZmZn5Pw==",
          "dtype": "f8"
         }
        },
        {
         "line": {
          "color": "#F84752",
          "width": 5
         },
         "mode": "lines",
         "name": "X0 Axis",
         "type": "scatter3d",
         "x": [
          0,
          0.16
         ],
         "y": [
          0,
          0
         ],
         "z": [
          0,
          0
         ]
        },
        {
         "cmax": 1,
         "cmin": 0,
         "colorscale": [
          [
           0,
           "#F84752"
          ],
          [
           1,
           "#F84752"
          ]
         ],
         "showscale": false,
         "sizemode": "absolute",
         "sizeref": 0.016,
         "type": "cone",
         "u": [
          1
         ],
         "v": [
          0
         ],
         "w": [
          0
         ],
         "x": [
          0.16
         ],
         "y": [
          0
         ],
         "z": [
          0
         ]
        },
        {
         "line": {
          "color": "#BBDA55",
          "width": 5
         },
         "mode": "lines",
         "name": "Y0 Axis",
         "type": "scatter3d",
         "x": [
          0,
          0
         ],
         "y": [
          0,
          0.16
         ],
         "z": [
          0,
          0
         ]
        },
        {
         "cmax": 1,
         "cmin": 0,
         "colorscale": [
          [
           0,
           "#BBDA55"
          ],
          [
           1,
           "#BBDA55"
          ]
         ],
         "showscale": false,
         "sizemode": "absolute",
         "sizeref": 0.016,
         "type": "cone",
         "u": [
          0
         ],
         "v": [
          1
         ],
         "w": [
          0
         ],
         "x": [
          0
         ],
         "y": [
          0.16
         ],
         "z": [
          0
         ]
        },
        {
         "line": {
          "color": "#8EC1E1",
          "width": 5
         },
         "mode": "lines",
         "name": "Z0 Axis",
         "type": "scatter3d",
         "x": [
          0,
          0
         ],
         "y": [
          0,
          0
         ],
         "z": [
          0,
          0.16
         ]
        },
        {
         "cmax": 1,
         "cmin": 0,
         "colorscale": [
          [
           0,
           "#8EC1E1"
          ],
          [
           1,
           "#8EC1E1"
          ]
         ],
         "showscale": false,
         "sizemode": "absolute",
         "sizeref": 0.016,
         "type": "cone",
         "u": [
          0
         ],
         "v": [
          0
         ],
         "w": [
          1
         ],
         "x": [
          0
         ],
         "y": [
          0
         ],
         "z": [
          0.16
         ]
        },
        {
         "line": {
          "color": "#F84752",
          "width": 5
         },
         "mode": "lines",
         "name": "X1 Axis",
         "type": "scatter3d",
         "x": [
          0,
          0.16
         ],
         "y": [
          0,
          0
         ],
         "z": [
          0.4,
          0.4
         ]
        },
        {
         "cmax": 1,
         "cmin": 0,
         "colorscale": [
          [
           0,
           "#F84752"
          ],
          [
           1,
           "#F84752"
          ]
         ],
         "showscale": false,
         "sizemode": "absolute",
         "sizeref": 0.016,
         "type": "cone",
         "u": [
          1
         ],
         "v": [
          0
         ],
         "w": [
          0
         ],
         "x": [
          0.16
         ],
         "y": [
          0
         ],
         "z": [
          0.4
         ]
        },
        {
         "line": {
          "color": "#BBDA55",
          "width": 5
         },
         "mode": "lines",
         "name": "Y1 Axis",
         "type": "scatter3d",
         "x": [
          0,
          0
         ],
         "y": [
          0,
          9.797174393178826e-18
         ],
         "z": [
          0.4,
          0.56
         ]
        },
        {
         "cmax": 1,
         "cmin": 0,
         "colorscale": [
          [
           0,
           "#BBDA55"
          ],
          [
           1,
           "#BBDA55"
          ]
         ],
         "showscale": false,
         "sizemode": "absolute",
         "sizeref": 0.016,
         "type": "cone",
         "u": [
          0
         ],
         "v": [
          6.123233995736766e-17
         ],
         "w": [
          1
         ],
         "x": [
          0
         ],
         "y": [
          9.797174393178826e-18
         ],
         "z": [
          0.56
         ]
        },
        {
         "line": {
          "color": "#8EC1E1",
          "width": 5
         },
         "mode": "lines",
         "name": "Z1 Axis",
         "type": "scatter3d",
         "x": [
          0,
          0
         ],
         "y": [
          0,
          -0.16
         ],
         "z": [
          0.4,
          0.4
         ]
        },
        {
         "cmax": 1,
         "cmin": 0,
         "colorscale": [
          [
           0,
           "#8EC1E1"
          ],
          [
           1,
           "#8EC1E1"
          ]
         ],
         "showscale": false,
         "sizemode": "absolute",
         "sizeref": 0.016,
         "type": "cone",
         "u": [
          0
         ],
         "v": [
          -1
         ],
         "w": [
          6.123233995736766e-17
         ],
         "x": [
          0
         ],
         "y": [
          -0.16
         ],
         "z": [
          0.4
         ]
        },
        {
         "line": {
          "color": "#F84752",
          "width": 5
         },
         "mode": "lines",
         "name": "X2 Axis",
         "type": "scatter3d",
         "x": [
          -2.4492935982947065e-17,
          -1.469576158976824e-17
         ],
         "y": [
          2.4492935982947065e-17,
          1.469576158976824e-17
         ],
         "z": [
          0.8,
          0.64
         ]
        },
        {
         "cmax": 1,
         "cmin": 0,
         "colorscale": [
          [
           0,
           "#F84752"
          ],
          [
           1,
           "#F84752"
          ]
         ],
         "showscale": false,
         "sizemode": "absolute",
         "sizeref": 0.016,
         "type": "cone",
         "u": [
          6.123233995736766e-17
         ],
         "v": [
          -6.123233995736766e-17
         ],
         "w": [
          -1
         ],
         "x": [
          -1.469576158976824e-17
         ],
         "y": [
          1.469576158976824e-17
         ],
         "z": [
          0.64
         ]
        },
        {
         "line": {
          "color": "#BBDA55",
          "width": 5
         },
         "mode": "lines",
         "name": "Y2 Axis",
         "type": "scatter3d",
         "x": [
          -2.4492935982947065e-17,
          0.15999999999999998
         ],
         "y": [
          2.4492935982947065e-17,
          2.4492935982947065e-17
         ],
         "z": [
          0.8,
          0.8
         ]
        },
        {
         "cmax": 1,
         "cmin": 0,
         "colorscale": [
          [
           0,
           "#BBDA55"
          ],
          [
           1,
           "#BBDA55"
          ]
         ],
         "showscale": false,
         "sizemode": "absolute",
         "sizeref": 0.016,
         "type": "cone",
         "u": [
          1
         ],
         "v": [
          3.749399456654644e-33
         ],
         "w": [
          6.123233995736766e-17
         ],
         "x": [
          0.15999999999999998
         ],
         "y": [
          2.4492935982947065e-17
         ],
         "z": [
          0.8
         ]
        },
        {
         "line": {
          "color": "#8EC1E1",
          "width": 5
         },
         "mode": "lines",
         "name": "Z2 Axis",
         "type": "scatter3d",
         "x": [
          -2.4492935982947065e-17,
          -2.4492935982947065e-17
         ],
         "y": [
          2.4492935982947065e-17,
          -0.15999999999999998
         ],
         "z": [
          0.8,
          0.8
         ]
        },
        {
         "cmax": 1,
         "cmin": 0,
         "colorscale": [
          [
           0,
           "#8EC1E1"
          ],
          [
           1,
           "#8EC1E1"
          ]
         ],
         "showscale": false,
         "sizemode": "absolute",
         "sizeref": 0.016,
         "type": "cone",
         "u": [
          0
         ],
         "v": [
          -1
         ],
         "w": [
          6.123233995736766e-17
         ],
         "x": [
          -2.4492935982947065e-17
         ],
         "y": [
          -0.15999999999999998
         ],
         "z": [
          0.8
         ]
        },
        {
         "line": {
          "color": "#F84752",
          "width": 5
         },
         "mode": "lines",
         "name": "X3 Axis",
         "type": "scatter3d",
         "x": [
          -4.898587196589413e-17,
          -3.91886975727153e-17
         ],
         "y": [
          4.898587196589413e-17,
          3.91886975727153e-17
         ],
         "z": [
          1.2000000000000002,
          1.0400000000000003
         ]
        },
        {
         "cmax": 1,
         "cmin": 0,
         "colorscale": [
          [
           0,
           "#F84752"
          ],
          [
           1,
           "#F84752"
          ]
         ],
         "showscale": false,
         "sizemode": "absolute",
         "sizeref": 0.016,
         "type": "cone",
         "u": [
          6.123233995736766e-17
         ],
         "v": [
          -6.123233995736766e-17
         ],
         "w": [
          -1
         ],
         "x": [
          -3.91886975727153e-17
         ],
         "y": [
          3.91886975727153e-17
         ],
         "z": [
          1.0400000000000003
         ]
        },
        {
         "line": {
          "color": "#BBDA55",
          "width": 5
         },
         "mode": "lines",
         "name": "Y3 Axis",
         "type": "scatter3d",
         "x": [
          -4.898587196589413e-17,
          0.15999999999999995
         ],
         "y": [
          4.898587196589413e-17,
          4.898587196589413e-17
         ],
         "z": [
          1.2000000000000002,
          1.2000000000000002
         ]
        },
        {
         "cmax": 1,
         "cmin": 0,
         "colorscale": [
          [
           0,
           "#BBDA55"
          ],
          [
           1,
           "#BBDA55"
          ]
         ],
         "showscale": false,
         "sizemode": "absolute",
         "sizeref": 0.016,
         "type": "cone",
         "u": [
          1
         ],
         "v": [
          3.749399456654644e-33
         ],
         "w": [
          6.123233995736766e-17
         ],
         "x": [
          0.15999999999999995
         ],
         "y": [
          4.898587196589413e-17
         ],
         "z": [
          1.2000000000000002
         ]
        },
        {
         "line": {
          "color": "#8EC1E1",
          "width": 5
         },
         "mode": "lines",
         "name": "Z3 Axis",
         "type": "scatter3d",
         "x": [
          -4.898587196589413e-17,
          -4.898587196589413e-17
         ],
         "y": [
          4.898587196589413e-17,
          -0.15999999999999995
         ],
         "z": [
          1.2000000000000002,
          1.2000000000000002
         ]
        },
        {
         "cmax": 1,
         "cmin": 0,
         "colorscale": [
          [
           0,
           "#8EC1E1"
          ],
          [
           1,
           "#8EC1E1"
          ]
         ],
         "showscale": false,
         "sizemode": "absolute",
         "sizeref": 0.016,
         "type": "cone",
         "u": [
          0
         ],
         "v": [
          -1
         ],
         "w": [
          6.123233995736766e-17
         ],
         "x": [
          -4.898587196589413e-17
         ],
         "y": [
          -0.15999999999999995
         ],
         "z": [
          1.2000000000000002
         ]
        },
        {
         "line": {
          "color": "#F84752",
          "width": 5
         },
         "mode": "lines",
         "name": "X4 Axis",
         "type": "scatter3d",
         "x": [
          -7.34788079488412e-17,
          -6.858022075225179e-17
         ],
         "y": [
          7.34788079488412e-17,
          6.858022075225179e-17
         ],
         "z": [
          1.6,
          1.52
         ]
        },
        {
         "cmax": 1,
         "cmin": 0,
         "colorscale": [
          [
           0,
           "#F84752"
          ],
          [
           1,
           "#F84752"
          ]
         ],
         "showscale": false,
         "sizemode": "absolute",
         "sizeref": 0.008,
         "type": "cone",
         "u": [
          6.123233995736766e-17
         ],
         "v": [
          -6.123233995736766e-17
         ],
         "w": [
          -1
         ],
         "x": [
          -6.858022075225179e-17
         ],
         "y": [
          6.858022075225179e-17
         ],
         "z": [
          1.52
         ]
        },
        {
         "line": {
          "color": "#BBDA55",
          "width": 5
         },
         "mode": "lines",
         "name": "Y4 Axis",
         "type": "scatter3d",
         "x": [
          -7.34788079488412e-17,
          0.07999999999999993
         ],
         "y": [
          7.34788079488412e-17,
          7.34788079488412e-17
         ],
         "z": [
          1.6,
          1.6
         ]
        },
        {
         "cmax": 1,
         "cmin": 0,
         "colorscale": [
          [
           0,
           "#BBDA55"
          ],
          [
           1,
           "#BBDA55"
          ]
         ],
         "showscale": false,
         "sizemode": "absolute",
         "sizeref": 0.008,
         "type": "cone",
         "u": [
          1
         ],
         "v": [
          3.749399456654644e-33
         ],
         "w": [
          6.123233995736766e-17
         ],
         "x": [
          0.07999999999999993
         ],
         "y": [
          7.34788079488412e-17
         ],
         "z": [
          1.6
         ]
        },
        {
         "line": {
          "color": "#8EC1E1",
          "width": 5
         },
         "mode": "lines",
         "name": "Z4 Axis",
         "type": "scatter3d",
         "x": [
          -7.34788079488412e-17,
          -7.34788079488412e-17
         ],
         "y": [
          7.34788079488412e-17,
          -0.07999999999999993
         ],
         "z": [
          1.6,
          1.6
         ]
        },
        {
         "cmax": 1,
         "cmin": 0,
         "colorscale": [
          [
           0,
           "#8EC1E1"
          ],
          [
           1,
           "#8EC1E1"
          ]
         ],
         "showscale": false,
         "sizemode": "absolute",
         "sizeref": 0.008,
         "type": "cone",
         "u": [
          0
         ],
         "v": [
          -1
         ],
         "w": [
          6.123233995736766e-17
         ],
         "x": [
          -7.34788079488412e-17
         ],
         "y": [
          -0.07999999999999993
         ],
         "z": [
          1.6
         ]
        },
        {
         "line": {
          "color": "#E1706E",
          "width": 14
         },
         "mode": "lines",
         "name": "Link1",
         "type": "scatter3d",
         "x": {
          "bdata": "AAAAAAAAAAAAAAAAAAAAAA==",
          "dtype": "f8"
         },
         "y": {
          "bdata": "AAAAAAAAAAAAAAAAAAAAAA==",
          "dtype": "f8"
         },
         "z": {
          "bdata": "AAAAAAAAAACamZmZmZnZPw==",
          "dtype": "f8"
         }
        },
        {
         "line": {
          "color": "#E1706E",
          "width": 14
         },
         "mode": "lines",
         "name": "Link2",
         "type": "scatter3d",
         "x": {
          "bdata": "AAAAAAAAAAByxlPrCT18vA==",
          "dtype": "f8"
         },
         "y": {
          "bdata": "AAAAAAAAAAByxlPrCT18PA==",
          "dtype": "f8"
         },
         "z": {
          "bdata": "mpmZmZmZ2T+amZmZmZnpPw==",
          "dtype": "f8"
         }
        },
        {
         "line": {
          "color": "#E1706E",
          "width": 14
         },
         "mode": "lines",
         "name": "Link3",
         "type": "scatter3d",
         "x": {
          "bdata": "csZT6wk9fLxyxlPrCT2MvA==",
          "dtype": "f8"
         },
         "y": {
          "bdata": "csZT6wk9fDxyxlPrCT2MPA==",
          "dtype": "f8"
         },
         "z": {
          "bdata": "mpmZmZmZ6T80MzMzMzPzPw==",
          "dtype": "f8"
         }
        },
        {
         "line": {
          "color": "#E1706E",
          "width": 14
         },
         "mode": "lines",
         "name": "Link4",
         "type": "scatter3d",
         "x": {
          "bdata": "csZT6wk9jLzW1H5wxy2VvA==",
          "dtype": "f8"
         },
         "y": {
          "bdata": "csZT6wk9jDzW1H5wxy2VPA==",
          "dtype": "f8"
         },
         "z": {
          "bdata": "NDMzMzMz8z+amZmZmZn5Pw==",
          "dtype": "f8"
         }
        },
        {
         "line": {
          "color": "#F84752",
          "width": 5
         },
         "mode": "lines",
         "name": "X0 Axis",
         "type": "scatter3d",
         "x": [
          0,
          0.16
         ],
         "y": [
          0,
          0
         ],
         "z": [
          0,
          0
         ]
        },
        {
         "cmax": 1,
         "cmin": 0,
         "colorscale": [
          [
           0,
           "#F84752"
          ],
          [
           1,
           "#F84752"
          ]
         ],
         "showscale": false,
         "sizemode": "absolute",
         "sizeref": 0.016,
         "type": "cone",
         "u": [
          1
         ],
         "v": [
          0
         ],
         "w": [
          0
         ],
         "x": [
          0.16
         ],
         "y": [
          0
         ],
         "z": [
          0
         ]
        },
        {
         "line": {
          "color": "#BBDA55",
          "width": 5
         },
         "mode": "lines",
         "name": "Y0 Axis",
         "type": "scatter3d",
         "x": [
          0,
          0
         ],
         "y": [
          0,
          0.16
         ],
         "z": [
          0,
          0
         ]
        },
        {
         "cmax": 1,
         "cmin": 0,
         "colorscale": [
          [
           0,
           "#BBDA55"
          ],
          [
           1,
           "#BBDA55"
          ]
         ],
         "showscale": false,
         "sizemode": "absolute",
         "sizeref": 0.016,
         "type": "cone",
         "u": [
          0
         ],
         "v": [
          1
         ],
         "w": [
          0
         ],
         "x": [
          0
         ],
         "y": [
          0.16
         ],
         "z": [
          0
         ]
        },
        {
         "line": {
          "color": "#8EC1E1",
          "width": 5
         },
         "mode": "lines",
         "name": "Z0 Axis",
         "type": "scatter3d",
         "x": [
          0,
          0
         ],
         "y": [
          0,
          0
         ],
         "z": [
          0,
          0.16
         ]
        },
        {
         "cmax": 1,
         "cmin": 0,
         "colorscale": [
          [
           0,
           "#8EC1E1"
          ],
          [
           1,
           "#8EC1E1"
          ]
         ],
         "showscale": false,
         "sizemode": "absolute",
         "sizeref": 0.016,
         "type": "cone",
         "u": [
          0
         ],
         "v": [
          0
         ],
         "w": [
          1
         ],
         "x": [
          0
         ],
         "y": [
          0
         ],
         "z": [
          0.16
         ]
        },
        {
         "line": {
          "color": "#F84752",
          "width": 5
         },
         "mode": "lines",
         "name": "X1 Axis",
         "type": "scatter3d",
         "x": [
          0,
          0.16
         ],
         "y": [
          0,
          0
         ],
         "z": [
          0.4,
          0.4
         ]
        },
        {
         "cmax": 1,
         "cmin": 0,
         "colorscale": [
          [
           0,
           "#F84752"
          ],
          [
           1,
           "#F84752"
          ]
         ],
         "showscale": false,
         "sizemode": "absolute",
         "sizeref": 0.016,
         "type": "cone",
         "u": [
          1
         ],
         "v": [
          0
         ],
         "w": [
          0
         ],
         "x": [
          0.16
         ],
         "y": [
          0
         ],
         "z": [
          0.4
         ]
        },
        {
         "line": {
          "color": "#BBDA55",
          "width": 5
         },
         "mode": "lines",
         "name": "Y1 Axis",
         "type": "scatter3d",
         "x": [
          0,
          0
         ],
         "y": [
          0,
          9.797174393178826e-18
         ],
         "z": [
          0.4,
          0.56
         ]
        },
        {
         "cmax": 1,
         "cmin": 0,
         "colorscale": [
          [
           0,
           "#BBDA55"
          ],
          [
           1,
           "#BBDA55"
          ]
         ],
         "showscale": false,
         "sizemode": "absolute",
         "sizeref": 0.016,
         "type": "cone",
         "u": [
          0
         ],
         "v": [
          6.123233995736766e-17
         ],
         "w": [
          1
         ],
         "x": [
          0
         ],
         "y": [
          9.797174393178826e-18
         ],
         "z": [
          0.56
         ]
        },
        {
         "line": {
          "color": "#8EC1E1",
          "width": 5
         },
         "mode": "lines",
         "name": "Z1 Axis",
         "type": "scatter3d",
         "x": [
          0,
          0
         ],
         "y": [
          0,
          -0.16
         ],
         "z": [
          0.4,
          0.4
         ]
        },
        {
         "cmax": 1,
         "cmin": 0,
         "colorscale": [
          [
           0,
           "#8EC1E1"
          ],
          [
           1,
           "#8EC1E1"
          ]
         ],
         "showscale": false,
         "sizemode": "absolute",
         "sizeref": 0.016,
         "type": "cone",
         "u": [
          0
         ],
         "v": [
          -1
         ],
         "w": [
          6.123233995736766e-17
         ],
         "x": [
          0
         ],
         "y": [
          -0.16
         ],
         "z": [
          0.4
         ]
        },
        {
         "line": {
          "color": "#F84752",
          "width": 5
         },
         "mode": "lines",
         "name": "X2 Axis",
         "type": "scatter3d",
         "x": [
          -2.4492935982947065e-17,
          -1.469576158976824e-17
         ],
         "y": [
          2.4492935982947065e-17,
          1.469576158976824e-17
         ],
         "z": [
          0.8,
          0.64
         ]
        },
        {
         "cmax": 1,
         "cmin": 0,
         "colorscale": [
          [
           0,
           "#F84752"
          ],
          [
           1,
           "#F84752"
          ]
         ],
         "showscale": false,
         "sizemode": "absolute",
         "sizeref": 0.016,
         "type": "cone",
         "u": [
          6.123233995736766e-17
         ],
         "v": [
          -6.123233995736766e-17
         ],
         "w": [
          -1
         ],
         "x": [
          -1.469576158976824e-17
         ],
         "y": [
          1.469576158976824e-17
         ],
         "z": [
          0.64
         ]
        },
        {
         "line": {
          "color": "#BBDA55",
          "width": 5
         },
         "mode": "lines",
         "name": "Y2 Axis",
         "type": "scatter3d",
         "x": [
          -2.4492935982947065e-17,
          0.15999999999999998
         ],
         "y": [
          2.4492935982947065e-17,
          2.4492935982947065e-17
         ],
         "z": [
          0.8,
          0.8
         ]
        },
        {
         "cmax": 1,
         "cmin": 0,
         "colorscale": [
          [
           0,
           "#BBDA55"
          ],
          [
           1,
           "#BBDA55"
          ]
         ],
         "showscale": false,
         "sizemode": "absolute",
         "sizeref": 0.016,
         "type": "cone",
         "u": [
          1
         ],
         "v": [
          3.749399456654644e-33
         ],
         "w": [
          6.123233995736766e-17
         ],
         "x": [
          0.15999999999999998
         ],
         "y": [
          2.4492935982947065e-17
         ],
         "z": [
          0.8
         ]
        },
        {
         "line": {
          "color": "#8EC1E1",
          "width": 5
         },
         "mode": "lines",
         "name": "Z2 Axis",
         "type": "scatter3d",
         "x": [
          -2.4492935982947065e-17,
          -2.4492935982947065e-17
         ],
         "y": [
          2.4492935982947065e-17,
          -0.15999999999999998
         ],
         "z": [
          0.8,
          0.8
         ]
        },
        {
         "cmax": 1,
         "cmin": 0,
         "colorscale": [
          [
           0,
           "#8EC1E1"
          ],
          [
           1,
           "#8EC1E1"
          ]
         ],
         "showscale": false,
         "sizemode": "absolute",
         "sizeref": 0.016,
         "type": "cone",
         "u": [
          0
         ],
         "v": [
          -1
         ],
         "w": [
          6.123233995736766e-17
         ],
         "x": [
          -2.4492935982947065e-17
         ],
         "y": [
          -0.15999999999999998
         ],
         "z": [
          0.8
         ]
        },
        {
         "line": {
          "color": "#F84752",
          "width": 5
         },
         "mode": "lines",
         "name": "X3 Axis",
         "type": "scatter3d",
         "x": [
          -4.898587196589413e-17,
          -3.91886975727153e-17
         ],
         "y": [
          4.898587196589413e-17,
          3.91886975727153e-17
         ],
         "z": [
          1.2000000000000002,
          1.0400000000000003
         ]
        },
        {
         "cmax": 1,
         "cmin": 0,
         "colorscale": [
          [
           0,
           "#F84752"
          ],
          [
           1,
           "#F84752"
          ]
         ],
         "showscale": false,
         "sizemode": "absolute",
         "sizeref": 0.016,
         "type": "cone",
         "u": [
          6.123233995736766e-17
         ],
         "v": [
          -6.123233995736766e-17
         ],
         "w": [
          -1
         ],
         "x": [
          -3.91886975727153e-17
         ],
         "y": [
          3.91886975727153e-17
         ],
         "z": [
          1.0400000000000003
         ]
        },
        {
         "line": {
          "color": "#BBDA55",
          "width": 5
         },
         "mode": "lines",
         "name": "Y3 Axis",
         "type": "scatter3d",
         "x": [
          -4.898587196589413e-17,
          0.15999999999999995
         ],
         "y": [
          4.898587196589413e-17,
          4.898587196589413e-17
         ],
         "z": [
          1.2000000000000002,
          1.2000000000000002
         ]
        },
        {
         "cmax": 1,
         "cmin": 0,
         "colorscale": [
          [
           0,
           "#BBDA55"
          ],
          [
           1,
           "#BBDA55"
          ]
         ],
         "showscale": false,
         "sizemode": "absolute",
         "sizeref": 0.016,
         "type": "cone",
         "u": [
          1
         ],
         "v": [
          3.749399456654644e-33
         ],
         "w": [
          6.123233995736766e-17
         ],
         "x": [
          0.15999999999999995
         ],
         "y": [
          4.898587196589413e-17
         ],
         "z": [
          1.2000000000000002
         ]
        },
        {
         "line": {
          "color": "#8EC1E1",
          "width": 5
         },
         "mode": "lines",
         "name": "Z3 Axis",
         "type": "scatter3d",
         "x": [
          -4.898587196589413e-17,
          -4.898587196589413e-17
         ],
         "y": [
          4.898587196589413e-17,
          -0.15999999999999995
         ],
         "z": [
          1.2000000000000002,
          1.2000000000000002
         ]
        },
        {
         "cmax": 1,
         "cmin": 0,
         "colorscale": [
          [
           0,
           "#8EC1E1"
          ],
          [
           1,
           "#8EC1E1"
          ]
         ],
         "showscale": false,
         "sizemode": "absolute",
         "sizeref": 0.016,
         "type": "cone",
         "u": [
          0
         ],
         "v": [
          -1
         ],
         "w": [
          6.123233995736766e-17
         ],
         "x": [
          -4.898587196589413e-17
         ],
         "y": [
          -0.15999999999999995
         ],
         "z": [
          1.2000000000000002
         ]
        },
        {
         "line": {
          "color": "#F84752",
          "width": 5
         },
         "mode": "lines",
         "name": "X4 Axis",
         "type": "scatter3d",
         "x": [
          -7.34788079488412e-17,
          -6.858022075225179e-17
         ],
         "y": [
          7.34788079488412e-17,
          6.858022075225179e-17
         ],
         "z": [
          1.6,
          1.52
         ]
        },
        {
         "cmax": 1,
         "cmin": 0,
         "colorscale": [
          [
           0,
           "#F84752"
          ],
          [
           1,
           "#F84752"
          ]
         ],
         "showscale": false,
         "sizemode": "absolute",
         "sizeref": 0.008,
         "type": "cone",
         "u": [
          6.123233995736766e-17
         ],
         "v": [
          -6.123233995736766e-17
         ],
         "w": [
          -1
         ],
         "x": [
          -6.858022075225179e-17
         ],
         "y": [
          6.858022075225179e-17
         ],
         "z": [
          1.52
         ]
        },
        {
         "line": {
          "color": "#BBDA55",
          "width": 5
         },
         "mode": "lines",
         "name": "Y4 Axis",
         "type": "scatter3d",
         "x": [
          -7.34788079488412e-17,
          0.07999999999999993
         ],
         "y": [
          7.34788079488412e-17,
          7.34788079488412e-17
         ],
         "z": [
          1.6,
          1.6
         ]
        },
        {
         "cmax": 1,
         "cmin": 0,
         "colorscale": [
          [
           0,
           "#BBDA55"
          ],
          [
           1,
           "#BBDA55"
          ]
         ],
         "showscale": false,
         "sizemode": "absolute",
         "sizeref": 0.008,
         "type": "cone",
         "u": [
          1
         ],
         "v": [
          3.749399456654644e-33
         ],
         "w": [
          6.123233995736766e-17
         ],
         "x": [
          0.07999999999999993
         ],
         "y": [
          7.34788079488412e-17
         ],
         "z": [
          1.6
         ]
        },
        {
         "line": {
          "color": "#8EC1E1",
          "width": 5
         },
         "mode": "lines",
         "name": "Z4 Axis",
         "type": "scatter3d",
         "x": [
          -7.34788079488412e-17,
          -7.34788079488412e-17
         ],
         "y": [
          7.34788079488412e-17,
          -0.07999999999999993
         ],
         "z": [
          1.6,
          1.6
         ]
        },
        {
         "cmax": 1,
         "cmin": 0,
         "colorscale": [
          [
           0,
           "#8EC1E1"
          ],
          [
           1,
           "#8EC1E1"
          ]
         ],
         "showscale": false,
         "sizemode": "absolute",
         "sizeref": 0.008,
         "type": "cone",
         "u": [
          0
         ],
         "v": [
          -1
         ],
         "w": [
          6.123233995736766e-17
         ],
         "x": [
          -7.34788079488412e-17
         ],
         "y": [
          -0.07999999999999993
         ],
         "z": [
          1.6
         ]
        },
        {
         "line": {
          "color": "#E1706E",
          "width": 14
         },
         "mode": "lines",
         "name": "Link1",
         "type": "scatter3d",
         "x": {
          "bdata": "AAAAAAAAAAAAAAAAAAAAAA==",
          "dtype": "f8"
         },
         "y": {
          "bdata": "AAAAAAAAAAAAAAAAAAAAAA==",
          "dtype": "f8"
         },
         "z": {
          "bdata": "AAAAAAAAAACamZmZmZnZPw==",
          "dtype": "f8"
         }
        },
        {
         "line": {
          "color": "#E1706E",
          "width": 14
         },
         "mode": "lines",
         "name": "Link2",
         "type": "scatter3d",
         "x": {
          "bdata": "AAAAAAAAAAByxlPrCT18vA==",
          "dtype": "f8"
         },
         "y": {
          "bdata": "AAAAAAAAAAByxlPrCT18PA==",
          "dtype": "f8"
         },
         "z": {
          "bdata": "mpmZmZmZ2T+amZmZmZnpPw==",
          "dtype": "f8"
         }
        },
        {
         "line": {
          "color": "#E1706E",
          "width": 14
         },
         "mode": "lines",
         "name": "Link3",
         "type": "scatter3d",
         "x": {
          "bdata": "csZT6wk9fLxyxlPrCT2MvA==",
          "dtype": "f8"
         },
         "y": {
          "bdata": "csZT6wk9fDxyxlPrCT2MPA==",
          "dtype": "f8"
         },
         "z": {
          "bdata": "mpmZmZmZ6T80MzMzMzPzPw==",
          "dtype": "f8"
         }
        },
        {
         "line": {
          "color": "#E1706E",
          "width": 14
         },
         "mode": "lines",
         "name": "Link4",
         "type": "scatter3d",
         "x": {
          "bdata": "csZT6wk9jLzW1H5wxy2VvA==",
          "dtype": "f8"
         },
         "y": {
          "bdata": "csZT6wk9jDzW1H5wxy2VPA==",
          "dtype": "f8"
         },
         "z": {
          "bdata": "NDMzMzMz8z+amZmZmZn5Pw==",
          "dtype": "f8"
         }
        },
        {
         "line": {
          "color": "#F84752",
          "width": 5
         },
         "mode": "lines",
         "name": "X0 Axis",
         "type": "scatter3d",
         "x": [
          0,
          0.16
         ],
         "y": [
          0,
          0
         ],
         "z": [
          0,
          0
         ]
        },
        {
         "cmax": 1,
         "cmin": 0,
         "colorscale": [
          [
           0,
           "#F84752"
          ],
          [
           1,
           "#F84752"
          ]
         ],
         "showscale": false,
         "sizemode": "absolute",
         "sizeref": 0.016,
         "type": "cone",
         "u": [
          1
         ],
         "v": [
          0
         ],
         "w": [
          0
         ],
         "x": [
          0.16
         ],
         "y": [
          0
         ],
         "z": [
          0
         ]
        },
        {
         "line": {
          "color": "#BBDA55",
          "width": 5
         },
         "mode": "lines",
         "name": "Y0 Axis",
         "type": "scatter3d",
         "x": [
          0,
          0
         ],
         "y": [
          0,
          0.16
         ],
         "z": [
          0,
          0
         ]
        },
        {
         "cmax": 1,
         "cmin": 0,
         "colorscale": [
          [
           0,
           "#BBDA55"
          ],
          [
           1,
           "#BBDA55"
          ]
         ],
         "showscale": false,
         "sizemode": "absolute",
         "sizeref": 0.016,
         "type": "cone",
         "u": [
          0
         ],
         "v": [
          1
         ],
         "w": [
          0
         ],
         "x": [
          0
         ],
         "y": [
          0.16
         ],
         "z": [
          0
         ]
        },
        {
         "line": {
          "color": "#8EC1E1",
          "width": 5
         },
         "mode": "lines",
         "name": "Z0 Axis",
         "type": "scatter3d",
         "x": [
          0,
          0
         ],
         "y": [
          0,
          0
         ],
         "z": [
          0,
          0.16
         ]
        },
        {
         "cmax": 1,
         "cmin": 0,
         "colorscale": [
          [
           0,
           "#8EC1E1"
          ],
          [
           1,
           "#8EC1E1"
          ]
         ],
         "showscale": false,
         "sizemode": "absolute",
         "sizeref": 0.016,
         "type": "cone",
         "u": [
          0
         ],
         "v": [
          0
         ],
         "w": [
          1
         ],
         "x": [
          0
         ],
         "y": [
          0
         ],
         "z": [
          0.16
         ]
        },
        {
         "line": {
          "color": "#F84752",
          "width": 5
         },
         "mode": "lines",
         "name": "X1 Axis",
         "type": "scatter3d",
         "x": [
          0,
          0.16
         ],
         "y": [
          0,
          0
         ],
         "z": [
          0.4,
          0.4
         ]
        },
        {
         "cmax": 1,
         "cmin": 0,
         "colorscale": [
          [
           0,
           "#F84752"
          ],
          [
           1,
           "#F84752"
          ]
         ],
         "showscale": false,
         "sizemode": "absolute",
         "sizeref": 0.016,
         "type": "cone",
         "u": [
          1
         ],
         "v": [
          0
         ],
         "w": [
          0
         ],
         "x": [
          0.16
         ],
         "y": [
          0
         ],
         "z": [
          0.4
         ]
        },
        {
         "line": {
          "color": "#BBDA55",
          "width": 5
         },
         "mode": "lines",
         "name": "Y1 Axis",
         "type": "scatter3d",
         "x": [
          0,
          0
         ],
         "y": [
          0,
          9.797174393178826e-18
         ],
         "z": [
          0.4,
          0.56
         ]
        },
        {
         "cmax": 1,
         "cmin": 0,
         "colorscale": [
          [
           0,
           "#BBDA55"
          ],
          [
           1,
           "#BBDA55"
          ]
         ],
         "showscale": false,
         "sizemode": "absolute",
         "sizeref": 0.016,
         "type": "cone",
         "u": [
          0
         ],
         "v": [
          6.123233995736766e-17
         ],
         "w": [
          1
         ],
         "x": [
          0
         ],
         "y": [
          9.797174393178826e-18
         ],
         "z": [
          0.56
         ]
        },
        {
         "line": {
          "color": "#8EC1E1",
          "width": 5
         },
         "mode": "lines",
         "name": "Z1 Axis",
         "type": "scatter3d",
         "x": [
          0,
          0
         ],
         "y": [
          0,
          -0.16
         ],
         "z": [
          0.4,
          0.4
         ]
        },
        {
         "cmax": 1,
         "cmin": 0,
         "colorscale": [
          [
           0,
           "#8EC1E1"
          ],
          [
           1,
           "#8EC1E1"
          ]
         ],
         "showscale": false,
         "sizemode": "absolute",
         "sizeref": 0.016,
         "type": "cone",
         "u": [
          0
         ],
         "v": [
          -1
         ],
         "w": [
          6.123233995736766e-17
         ],
         "x": [
          0
         ],
         "y": [
          -0.16
         ],
         "z": [
          0.4
         ]
        },
        {
         "line": {
          "color": "#F84752",
          "width": 5
         },
         "mode": "lines",
         "name": "X2 Axis",
         "type": "scatter3d",
         "x": [
          -2.4492935982947065e-17,
          -1.469576158976824e-17
         ],
         "y": [
          2.4492935982947065e-17,
          1.469576158976824e-17
         ],
         "z": [
          0.8,
          0.64
         ]
        },
        {
         "cmax": 1,
         "cmin": 0,
         "colorscale": [
          [
           0,
           "#F84752"
          ],
          [
           1,
           "#F84752"
          ]
         ],
         "showscale": false,
         "sizemode": "absolute",
         "sizeref": 0.016,
         "type": "cone",
         "u": [
          6.123233995736766e-17
         ],
         "v": [
          -6.123233995736766e-17
         ],
         "w": [
          -1
         ],
         "x": [
          -1.469576158976824e-17
         ],
         "y": [
          1.469576158976824e-17
         ],
         "z": [
          0.64
         ]
        },
        {
         "line": {
          "color": "#BBDA55",
          "width": 5
         },
         "mode": "lines",
         "name": "Y2 Axis",
         "type": "scatter3d",
         "x": [
          -2.4492935982947065e-17,
          0.15999999999999998
         ],
         "y": [
          2.4492935982947065e-17,
          2.4492935982947065e-17
         ],
         "z": [
          0.8,
          0.8
         ]
        },
        {
         "cmax": 1,
         "cmin": 0,
         "colorscale": [
          [
           0,
           "#BBDA55"
          ],
          [
           1,
           "#BBDA55"
          ]
         ],
         "showscale": false,
         "sizemode": "absolute",
         "sizeref": 0.016,
         "type": "cone",
         "u": [
          1
         ],
         "v": [
          3.749399456654644e-33
         ],
         "w": [
          6.123233995736766e-17
         ],
         "x": [
          0.15999999999999998
         ],
         "y": [
          2.4492935982947065e-17
         ],
         "z": [
          0.8
         ]
        },
        {
         "line": {
          "color": "#8EC1E1",
          "width": 5
         },
         "mode": "lines",
         "name": "Z2 Axis",
         "type": "scatter3d",
         "x": [
          -2.4492935982947065e-17,
          -2.4492935982947065e-17
         ],
         "y": [
          2.4492935982947065e-17,
          -0.15999999999999998
         ],
         "z": [
          0.8,
          0.8
         ]
        },
        {
         "cmax": 1,
         "cmin": 0,
         "colorscale": [
          [
           0,
           "#8EC1E1"
          ],
          [
           1,
           "#8EC1E1"
          ]
         ],
         "showscale": false,
         "sizemode": "absolute",
         "sizeref": 0.016,
         "type": "cone",
         "u": [
          0
         ],
         "v": [
          -1
         ],
         "w": [
          6.123233995736766e-17
         ],
         "x": [
          -2.4492935982947065e-17
         ],
         "y": [
          -0.15999999999999998
         ],
         "z": [
          0.8
         ]
        },
        {
         "line": {
          "color": "#F84752",
          "width": 5
         },
         "mode": "lines",
         "name": "X3 Axis",
         "type": "scatter3d",
         "x": [
          -4.898587196589413e-17,
          -3.91886975727153e-17
         ],
         "y": [
          4.898587196589413e-17,
          3.91886975727153e-17
         ],
         "z": [
          1.2000000000000002,
          1.0400000000000003
         ]
        },
        {
         "cmax": 1,
         "cmin": 0,
         "colorscale": [
          [
           0,
           "#F84752"
          ],
          [
           1,
           "#F84752"
          ]
         ],
         "showscale": false,
         "sizemode": "absolute",
         "sizeref": 0.016,
         "type": "cone",
         "u": [
          6.123233995736766e-17
         ],
         "v": [
          -6.123233995736766e-17
         ],
         "w": [
          -1
         ],
         "x": [
          -3.91886975727153e-17
         ],
         "y": [
          3.91886975727153e-17
         ],
         "z": [
          1.0400000000000003
         ]
        },
        {
         "line": {
          "color": "#BBDA55",
          "width": 5
         },
         "mode": "lines",
         "name": "Y3 Axis",
         "type": "scatter3d",
         "x": [
          -4.898587196589413e-17,
          0.15999999999999995
         ],
         "y": [
          4.898587196589413e-17,
          4.898587196589413e-17
         ],
         "z": [
          1.2000000000000002,
          1.2000000000000002
         ]
        },
        {
         "cmax": 1,
         "cmin": 0,
         "colorscale": [
          [
           0,
           "#BBDA55"
          ],
          [
           1,
           "#BBDA55"
          ]
         ],
         "showscale": false,
         "sizemode": "absolute",
         "sizeref": 0.016,
         "type": "cone",
         "u": [
          1
         ],
         "v": [
          3.749399456654644e-33
         ],
         "w": [
          6.123233995736766e-17
         ],
         "x": [
          0.15999999999999995
         ],
         "y": [
          4.898587196589413e-17
         ],
         "z": [
          1.2000000000000002
         ]
        },
        {
         "line": {
          "color": "#8EC1E1",
          "width": 5
         },
         "mode": "lines",
         "name": "Z3 Axis",
         "type": "scatter3d",
         "x": [
          -4.898587196589413e-17,
          -4.898587196589413e-17
         ],
         "y": [
          4.898587196589413e-17,
          -0.15999999999999995
         ],
         "z": [
          1.2000000000000002,
          1.2000000000000002
         ]
        },
        {
         "cmax": 1,
         "cmin": 0,
         "colorscale": [
          [
           0,
           "#8EC1E1"
          ],
          [
           1,
           "#8EC1E1"
          ]
         ],
         "showscale": false,
         "sizemode": "absolute",
         "sizeref": 0.016,
         "type": "cone",
         "u": [
          0
         ],
         "v": [
          -1
         ],
         "w": [
          6.123233995736766e-17
         ],
         "x": [
          -4.898587196589413e-17
         ],
         "y": [
          -0.15999999999999995
         ],
         "z": [
          1.2000000000000002
         ]
        },
        {
         "line": {
          "color": "#F84752",
          "width": 5
         },
         "mode": "lines",
         "name": "X4 Axis",
         "type": "scatter3d",
         "x": [
          -7.34788079488412e-17,
          -6.858022075225179e-17
         ],
         "y": [
          7.34788079488412e-17,
          6.858022075225179e-17
         ],
         "z": [
          1.6,
          1.52
         ]
        },
        {
         "cmax": 1,
         "cmin": 0,
         "colorscale": [
          [
           0,
           "#F84752"
          ],
          [
           1,
           "#F84752"
          ]
         ],
         "showscale": false,
         "sizemode": "absolute",
         "sizeref": 0.008,
         "type": "cone",
         "u": [
          6.123233995736766e-17
         ],
         "v": [
          -6.123233995736766e-17
         ],
         "w": [
          -1
         ],
         "x": [
          -6.858022075225179e-17
         ],
         "y": [
          6.858022075225179e-17
         ],
         "z": [
          1.52
         ]
        },
        {
         "line": {
          "color": "#BBDA55",
          "width": 5
         },
         "mode": "lines",
         "name": "Y4 Axis",
         "type": "scatter3d",
         "x": [
          -7.34788079488412e-17,
          0.07999999999999993
         ],
         "y": [
          7.34788079488412e-17,
          7.34788079488412e-17
         ],
         "z": [
          1.6,
          1.6
         ]
        },
        {
         "cmax": 1,
         "cmin": 0,
         "colorscale": [
          [
           0,
           "#BBDA55"
          ],
          [
           1,
           "#BBDA55"
          ]
         ],
         "showscale": false,
         "sizemode": "absolute",
         "sizeref": 0.008,
         "type": "cone",
         "u": [
          1
         ],
         "v": [
          3.749399456654644e-33
         ],
         "w": [
          6.123233995736766e-17
         ],
         "x": [
          0.07999999999999993
         ],
         "y": [
          7.34788079488412e-17
         ],
         "z": [
          1.6
         ]
        },
        {
         "line": {
          "color": "#8EC1E1",
          "width": 5
         },
         "mode": "lines",
         "name": "Z4 Axis",
         "type": "scatter3d",
         "x": [
          -7.34788079488412e-17,
          -7.34788079488412e-17
         ],
         "y": [
          7.34788079488412e-17,
          -0.07999999999999993
         ],
         "z": [
          1.6,
          1.6
         ]
        },
        {
         "cmax": 1,
         "cmin": 0,
         "colorscale": [
          [
           0,
           "#8EC1E1"
          ],
          [
           1,
           "#8EC1E1"
          ]
         ],
         "showscale": false,
         "sizemode": "absolute",
         "sizeref": 0.008,
         "type": "cone",
         "u": [
          0
         ],
         "v": [
          -1
         ],
         "w": [
          6.123233995736766e-17
         ],
         "x": [
          -7.34788079488412e-17
         ],
         "y": [
          -0.07999999999999993
         ],
         "z": [
          1.6
         ]
        },
        {
         "line": {
          "color": "#E1706E",
          "width": 14
         },
         "mode": "lines",
         "name": "Link1",
         "type": "scatter3d",
         "x": {
          "bdata": "AAAAAAAAAAAAAAAAAAAAAA==",
          "dtype": "f8"
         },
         "y": {
          "bdata": "AAAAAAAAAAAAAAAAAAAAAA==",
          "dtype": "f8"
         },
         "z": {
          "bdata": "AAAAAAAAAACamZmZmZnZPw==",
          "dtype": "f8"
         }
        },
        {
         "line": {
          "color": "#E1706E",
          "width": 14
         },
         "mode": "lines",
         "name": "Link2",
         "type": "scatter3d",
         "x": {
          "bdata": "AAAAAAAAAAByxlPrCT18vA==",
          "dtype": "f8"
         },
         "y": {
          "bdata": "AAAAAAAAAAByxlPrCT18PA==",
          "dtype": "f8"
         },
         "z": {
          "bdata": "mpmZmZmZ2T+amZmZmZnpPw==",
          "dtype": "f8"
         }
        },
        {
         "line": {
          "color": "#E1706E",
          "width": 14
         },
         "mode": "lines",
         "name": "Link3",
         "type": "scatter3d",
         "x": {
          "bdata": "csZT6wk9fLxyxlPrCT2MvA==",
          "dtype": "f8"
         },
         "y": {
          "bdata": "csZT6wk9fDxyxlPrCT2MPA==",
          "dtype": "f8"
         },
         "z": {
          "bdata": "mpmZmZmZ6T80MzMzMzPzPw==",
          "dtype": "f8"
         }
        },
        {
         "line": {
          "color": "#E1706E",
          "width": 14
         },
         "mode": "lines",
         "name": "Link4",
         "type": "scatter3d",
         "x": {
          "bdata": "csZT6wk9jLzW1H5wxy2VvA==",
          "dtype": "f8"
         },
         "y": {
          "bdata": "csZT6wk9jDzW1H5wxy2VPA==",
          "dtype": "f8"
         },
         "z": {
          "bdata": "NDMzMzMz8z+amZmZmZn5Pw==",
          "dtype": "f8"
         }
        },
        {
         "line": {
          "color": "#F84752",
          "width": 5
         },
         "mode": "lines",
         "name": "X0 Axis",
         "type": "scatter3d",
         "x": [
          0,
          0.16
         ],
         "y": [
          0,
          0
         ],
         "z": [
          0,
          0
         ]
        },
        {
         "cmax": 1,
         "cmin": 0,
         "colorscale": [
          [
           0,
           "#F84752"
          ],
          [
           1,
           "#F84752"
          ]
         ],
         "showscale": false,
         "sizemode": "absolute",
         "sizeref": 0.016,
         "type": "cone",
         "u": [
          1
         ],
         "v": [
          0
         ],
         "w": [
          0
         ],
         "x": [
          0.16
         ],
         "y": [
          0
         ],
         "z": [
          0
         ]
        },
        {
         "line": {
          "color": "#BBDA55",
          "width": 5
         },
         "mode": "lines",
         "name": "Y0 Axis",
         "type": "scatter3d",
         "x": [
          0,
          0
         ],
         "y": [
          0,
          0.16
         ],
         "z": [
          0,
          0
         ]
        },
        {
         "cmax": 1,
         "cmin": 0,
         "colorscale": [
          [
           0,
           "#BBDA55"
          ],
          [
           1,
           "#BBDA55"
          ]
         ],
         "showscale": false,
         "sizemode": "absolute",
         "sizeref": 0.016,
         "type": "cone",
         "u": [
          0
         ],
         "v": [
          1
         ],
         "w": [
          0
         ],
         "x": [
          0
         ],
         "y": [
          0.16
         ],
         "z": [
          0
         ]
        },
        {
         "line": {
          "color": "#8EC1E1",
          "width": 5
         },
         "mode": "lines",
         "name": "Z0 Axis",
         "type": "scatter3d",
         "x": [
          0,
          0
         ],
         "y": [
          0,
          0
         ],
         "z": [
          0,
          0.16
         ]
        },
        {
         "cmax": 1,
         "cmin": 0,
         "colorscale": [
          [
           0,
           "#8EC1E1"
          ],
          [
           1,
           "#8EC1E1"
          ]
         ],
         "showscale": false,
         "sizemode": "absolute",
         "sizeref": 0.016,
         "type": "cone",
         "u": [
          0
         ],
         "v": [
          0
         ],
         "w": [
          1
         ],
         "x": [
          0
         ],
         "y": [
          0
         ],
         "z": [
          0.16
         ]
        },
        {
         "line": {
          "color": "#F84752",
          "width": 5
         },
         "mode": "lines",
         "name": "X1 Axis",
         "type": "scatter3d",
         "x": [
          0,
          0.16
         ],
         "y": [
          0,
          0
         ],
         "z": [
          0.4,
          0.4
         ]
        },
        {
         "cmax": 1,
         "cmin": 0,
         "colorscale": [
          [
           0,
           "#F84752"
          ],
          [
           1,
           "#F84752"
          ]
         ],
         "showscale": false,
         "sizemode": "absolute",
         "sizeref": 0.016,
         "type": "cone",
         "u": [
          1
         ],
         "v": [
          0
         ],
         "w": [
          0
         ],
         "x": [
          0.16
         ],
         "y": [
          0
         ],
         "z": [
          0.4
         ]
        },
        {
         "line": {
          "color": "#BBDA55",
          "width": 5
         },
         "mode": "lines",
         "name": "Y1 Axis",
         "type": "scatter3d",
         "x": [
          0,
          0
         ],
         "y": [
          0,
          9.797174393178826e-18
         ],
         "z": [
          0.4,
          0.56
         ]
        },
        {
         "cmax": 1,
         "cmin": 0,
         "colorscale": [
          [
           0,
           "#BBDA55"
          ],
          [
           1,
           "#BBDA55"
          ]
         ],
         "showscale": false,
         "sizemode": "absolute",
         "sizeref": 0.016,
         "type": "cone",
         "u": [
          0
         ],
         "v": [
          6.123233995736766e-17
         ],
         "w": [
          1
         ],
         "x": [
          0
         ],
         "y": [
          9.797174393178826e-18
         ],
         "z": [
          0.56
         ]
        },
        {
         "line": {
          "color": "#8EC1E1",
          "width": 5
         },
         "mode": "lines",
         "name": "Z1 Axis",
         "type": "scatter3d",
         "x": [
          0,
          0
         ],
         "y": [
          0,
          -0.16
         ],
         "z": [
          0.4,
          0.4
         ]
        },
        {
         "cmax": 1,
         "cmin": 0,
         "colorscale": [
          [
           0,
           "#8EC1E1"
          ],
          [
           1,
           "#8EC1E1"
          ]
         ],
         "showscale": false,
         "sizemode": "absolute",
         "sizeref": 0.016,
         "type": "cone",
         "u": [
          0
         ],
         "v": [
          -1
         ],
         "w": [
          6.123233995736766e-17
         ],
         "x": [
          0
         ],
         "y": [
          -0.16
         ],
         "z": [
          0.4
         ]
        },
        {
         "line": {
          "color": "#F84752",
          "width": 5
         },
         "mode": "lines",
         "name": "X2 Axis",
         "type": "scatter3d",
         "x": [
          -2.4492935982947065e-17,
          -1.469576158976824e-17
         ],
         "y": [
          2.4492935982947065e-17,
          1.469576158976824e-17
         ],
         "z": [
          0.8,
          0.64
         ]
        },
        {
         "cmax": 1,
         "cmin": 0,
         "colorscale": [
          [
           0,
           "#F84752"
          ],
          [
           1,
           "#F84752"
          ]
         ],
         "showscale": false,
         "sizemode": "absolute",
         "sizeref": 0.016,
         "type": "cone",
         "u": [
          6.123233995736766e-17
         ],
         "v": [
          -6.123233995736766e-17
         ],
         "w": [
          -1
         ],
         "x": [
          -1.469576158976824e-17
         ],
         "y": [
          1.469576158976824e-17
         ],
         "z": [
          0.64
         ]
        },
        {
         "line": {
          "color": "#BBDA55",
          "width": 5
         },
         "mode": "lines",
         "name": "Y2 Axis",
         "type": "scatter3d",
         "x": [
          -2.4492935982947065e-17,
          0.15999999999999998
         ],
         "y": [
          2.4492935982947065e-17,
          2.4492935982947065e-17
         ],
         "z": [
          0.8,
          0.8
         ]
        },
        {
         "cmax": 1,
         "cmin": 0,
         "colorscale": [
          [
           0,
           "#BBDA55"
          ],
          [
           1,
           "#BBDA55"
          ]
         ],
         "showscale": false,
         "sizemode": "absolute",
         "sizeref": 0.016,
         "type": "cone",
         "u": [
          1
         ],
         "v": [
          3.749399456654644e-33
         ],
         "w": [
          6.123233995736766e-17
         ],
         "x": [
          0.15999999999999998
         ],
         "y": [
          2.4492935982947065e-17
         ],
         "z": [
          0.8
         ]
        },
        {
         "line": {
          "color": "#8EC1E1",
          "width": 5
         },
         "mode": "lines",
         "name": "Z2 Axis",
         "type": "scatter3d",
         "x": [
          -2.4492935982947065e-17,
          -2.4492935982947065e-17
         ],
         "y": [
          2.4492935982947065e-17,
          -0.15999999999999998
         ],
         "z": [
          0.8,
          0.8
         ]
        },
        {
         "cmax": 1,
         "cmin": 0,
         "colorscale": [
          [
           0,
           "#8EC1E1"
          ],
          [
           1,
           "#8EC1E1"
          ]
         ],
         "showscale": false,
         "sizemode": "absolute",
         "sizeref": 0.016,
         "type": "cone",
         "u": [
          0
         ],
         "v": [
          -1
         ],
         "w": [
          6.123233995736766e-17
         ],
         "x": [
          -2.4492935982947065e-17
         ],
         "y": [
          -0.15999999999999998
         ],
         "z": [
          0.8
         ]
        },
        {
         "line": {
          "color": "#F84752",
          "width": 5
         },
         "mode": "lines",
         "name": "X3 Axis",
         "type": "scatter3d",
         "x": [
          -4.898587196589413e-17,
          -3.91886975727153e-17
         ],
         "y": [
          4.898587196589413e-17,
          3.91886975727153e-17
         ],
         "z": [
          1.2000000000000002,
          1.0400000000000003
         ]
        },
        {
         "cmax": 1,
         "cmin": 0,
         "colorscale": [
          [
           0,
           "#F84752"
          ],
          [
           1,
           "#F84752"
          ]
         ],
         "showscale": false,
         "sizemode": "absolute",
         "sizeref": 0.016,
         "type": "cone",
         "u": [
          6.123233995736766e-17
         ],
         "v": [
          -6.123233995736766e-17
         ],
         "w": [
          -1
         ],
         "x": [
          -3.91886975727153e-17
         ],
         "y": [
          3.91886975727153e-17
         ],
         "z": [
          1.0400000000000003
         ]
        },
        {
         "line": {
          "color": "#BBDA55",
          "width": 5
         },
         "mode": "lines",
         "name": "Y3 Axis",
         "type": "scatter3d",
         "x": [
          -4.898587196589413e-17,
          0.15999999999999995
         ],
         "y": [
          4.898587196589413e-17,
          4.898587196589413e-17
         ],
         "z": [
          1.2000000000000002,
          1.2000000000000002
         ]
        },
        {
         "cmax": 1,
         "cmin": 0,
         "colorscale": [
          [
           0,
           "#BBDA55"
          ],
          [
           1,
           "#BBDA55"
          ]
         ],
         "showscale": false,
         "sizemode": "absolute",
         "sizeref": 0.016,
         "type": "cone",
         "u": [
          1
         ],
         "v": [
          3.749399456654644e-33
         ],
         "w": [
          6.123233995736766e-17
         ],
         "x": [
          0.15999999999999995
         ],
         "y": [
          4.898587196589413e-17
         ],
         "z": [
          1.2000000000000002
         ]
        },
        {
         "line": {
          "color": "#8EC1E1",
          "width": 5
         },
         "mode": "lines",
         "name": "Z3 Axis",
         "type": "scatter3d",
         "x": [
          -4.898587196589413e-17,
          -4.898587196589413e-17
         ],
         "y": [
          4.898587196589413e-17,
          -0.15999999999999995
         ],
         "z": [
          1.2000000000000002,
          1.2000000000000002
         ]
        },
        {
         "cmax": 1,
         "cmin": 0,
         "colorscale": [
          [
           0,
           "#8EC1E1"
          ],
          [
           1,
           "#8EC1E1"
          ]
         ],
         "showscale": false,
         "sizemode": "absolute",
         "sizeref": 0.016,
         "type": "cone",
         "u": [
          0
         ],
         "v": [
          -1
         ],
         "w": [
          6.123233995736766e-17
         ],
         "x": [
          -4.898587196589413e-17
         ],
         "y": [
          -0.15999999999999995
         ],
         "z": [
          1.2000000000000002
         ]
        },
        {
         "line": {
          "color": "#F84752",
          "width": 5
         },
         "mode": "lines",
         "name": "X4 Axis",
         "type": "scatter3d",
         "x": [
          -7.34788079488412e-17,
          -6.858022075225179e-17
         ],
         "y": [
          7.34788079488412e-17,
          6.858022075225179e-17
         ],
         "z": [
          1.6,
          1.52
         ]
        },
        {
         "cmax": 1,
         "cmin": 0,
         "colorscale": [
          [
           0,
           "#F84752"
          ],
          [
           1,
           "#F84752"
          ]
         ],
         "showscale": false,
         "sizemode": "absolute",
         "sizeref": 0.008,
         "type": "cone",
         "u": [
          6.123233995736766e-17
         ],
         "v": [
          -6.123233995736766e-17
         ],
         "w": [
          -1
         ],
         "x": [
          -6.858022075225179e-17
         ],
         "y": [
          6.858022075225179e-17
         ],
         "z": [
          1.52
         ]
        },
        {
         "line": {
          "color": "#BBDA55",
          "width": 5
         },
         "mode": "lines",
         "name": "Y4 Axis",
         "type": "scatter3d",
         "x": [
          -7.34788079488412e-17,
          0.07999999999999993
         ],
         "y": [
          7.34788079488412e-17,
          7.34788079488412e-17
         ],
         "z": [
          1.6,
          1.6
         ]
        },
        {
         "cmax": 1,
         "cmin": 0,
         "colorscale": [
          [
           0,
           "#BBDA55"
          ],
          [
           1,
           "#BBDA55"
          ]
         ],
         "showscale": false,
         "sizemode": "absolute",
         "sizeref": 0.008,
         "type": "cone",
         "u": [
          1
         ],
         "v": [
          3.749399456654644e-33
         ],
         "w": [
          6.123233995736766e-17
         ],
         "x": [
          0.07999999999999993
         ],
         "y": [
          7.34788079488412e-17
         ],
         "z": [
          1.6
         ]
        },
        {
         "line": {
          "color": "#8EC1E1",
          "width": 5
         },
         "mode": "lines",
         "name": "Z4 Axis",
         "type": "scatter3d",
         "x": [
          -7.34788079488412e-17,
          -7.34788079488412e-17
         ],
         "y": [
          7.34788079488412e-17,
          -0.07999999999999993
         ],
         "z": [
          1.6,
          1.6
         ]
        },
        {
         "cmax": 1,
         "cmin": 0,
         "colorscale": [
          [
           0,
           "#8EC1E1"
          ],
          [
           1,
           "#8EC1E1"
          ]
         ],
         "showscale": false,
         "sizemode": "absolute",
         "sizeref": 0.008,
         "type": "cone",
         "u": [
          0
         ],
         "v": [
          -1
         ],
         "w": [
          6.123233995736766e-17
         ],
         "x": [
          -7.34788079488412e-17
         ],
         "y": [
          -0.07999999999999993
         ],
         "z": [
          1.6
         ]
        }
       ],
       "layout": {
        "height": 600,
        "scene": {
         "aspectmode": "cube",
         "camera": {
          "center": {
           "x": 0,
           "y": 0,
           "z": 0
          },
          "eye": {
           "x": 2.4000000000000004,
           "y": -2.4000000000000004,
           "z": 2.4000000000000004
          },
          "up": {
           "x": 0,
           "y": 0,
           "z": 1
          }
         },
         "xaxis": {
          "nticks": 10,
          "range": [
           -1.7600000000000002,
           1.7600000000000002
          ],
          "title": {
           "text": "X"
          }
         },
         "yaxis": {
          "nticks": 10,
          "range": [
           -1.7600000000000002,
           1.7600000000000002
          ],
          "title": {
           "text": "Y"
          }
         },
         "zaxis": {
          "nticks": 10,
          "range": [
           -1.7600000000000002,
           1.7600000000000002
          ],
          "title": {
           "text": "Z"
          }
         }
        },
        "template": {
         "data": {
          "bar": [
           {
            "error_x": {
             "color": "#2a3f5f"
            },
            "error_y": {
             "color": "#2a3f5f"
            },
            "marker": {
             "line": {
              "color": "#E5ECF6",
              "width": 0.5
             },
             "pattern": {
              "fillmode": "overlay",
              "size": 10,
              "solidity": 0.2
             }
            },
            "type": "bar"
           }
          ],
          "barpolar": [
           {
            "marker": {
             "line": {
              "color": "#E5ECF6",
              "width": 0.5
             },
             "pattern": {
              "fillmode": "overlay",
              "size": 10,
              "solidity": 0.2
             }
            },
            "type": "barpolar"
           }
          ],
          "carpet": [
           {
            "aaxis": {
             "endlinecolor": "#2a3f5f",
             "gridcolor": "white",
             "linecolor": "white",
             "minorgridcolor": "white",
             "startlinecolor": "#2a3f5f"
            },
            "baxis": {
             "endlinecolor": "#2a3f5f",
             "gridcolor": "white",
             "linecolor": "white",
             "minorgridcolor": "white",
             "startlinecolor": "#2a3f5f"
            },
            "type": "carpet"
           }
          ],
          "choropleth": [
           {
            "colorbar": {
             "outlinewidth": 0,
             "ticks": ""
            },
            "type": "choropleth"
           }
          ],
          "contour": [
           {
            "colorbar": {
             "outlinewidth": 0,
             "ticks": ""
            },
            "colorscale": [
             [
              0,
              "#0d0887"
             ],
             [
              0.1111111111111111,
              "#46039f"
             ],
             [
              0.2222222222222222,
              "#7201a8"
             ],
             [
              0.3333333333333333,
              "#9c179e"
             ],
             [
              0.4444444444444444,
              "#bd3786"
             ],
             [
              0.5555555555555556,
              "#d8576b"
             ],
             [
              0.6666666666666666,
              "#ed7953"
             ],
             [
              0.7777777777777778,
              "#fb9f3a"
             ],
             [
              0.8888888888888888,
              "#fdca26"
             ],
             [
              1,
              "#f0f921"
             ]
            ],
            "type": "contour"
           }
          ],
          "contourcarpet": [
           {
            "colorbar": {
             "outlinewidth": 0,
             "ticks": ""
            },
            "type": "contourcarpet"
           }
          ],
          "heatmap": [
           {
            "colorbar": {
             "outlinewidth": 0,
             "ticks": ""
            },
            "colorscale": [
             [
              0,
              "#0d0887"
             ],
             [
              0.1111111111111111,
              "#46039f"
             ],
             [
              0.2222222222222222,
              "#7201a8"
             ],
             [
              0.3333333333333333,
              "#9c179e"
             ],
             [
              0.4444444444444444,
              "#bd3786"
             ],
             [
              0.5555555555555556,
              "#d8576b"
             ],
             [
              0.6666666666666666,
              "#ed7953"
             ],
             [
              0.7777777777777778,
              "#fb9f3a"
             ],
             [
              0.8888888888888888,
              "#fdca26"
             ],
             [
              1,
              "#f0f921"
             ]
            ],
            "type": "heatmap"
           }
          ],
          "histogram": [
           {
            "marker": {
             "pattern": {
              "fillmode": "overlay",
              "size": 10,
              "solidity": 0.2
             }
            },
            "type": "histogram"
           }
          ],
          "histogram2d": [
           {
            "colorbar": {
             "outlinewidth": 0,
             "ticks": ""
            },
            "colorscale": [
             [
              0,
              "#0d0887"
             ],
             [
              0.1111111111111111,
              "#46039f"
             ],
             [
              0.2222222222222222,
              "#7201a8"
             ],
             [
              0.3333333333333333,
              "#9c179e"
             ],
             [
              0.4444444444444444,
              "#bd3786"
             ],
             [
              0.5555555555555556,
              "#d8576b"
             ],
             [
              0.6666666666666666,
              "#ed7953"
             ],
             [
              0.7777777777777778,
              "#fb9f3a"
             ],
             [
              0.8888888888888888,
              "#fdca26"
             ],
             [
              1,
              "#f0f921"
             ]
            ],
            "type": "histogram2d"
           }
          ],
          "histogram2dcontour": [
           {
            "colorbar": {
             "outlinewidth": 0,
             "ticks": ""
            },
            "colorscale": [
             [
              0,
              "#0d0887"
             ],
             [
              0.1111111111111111,
              "#46039f"
             ],
             [
              0.2222222222222222,
              "#7201a8"
             ],
             [
              0.3333333333333333,
              "#9c179e"
             ],
             [
              0.4444444444444444,
              "#bd3786"
             ],
             [
              0.5555555555555556,
              "#d8576b"
             ],
             [
              0.6666666666666666,
              "#ed7953"
             ],
             [
              0.7777777777777778,
              "#fb9f3a"
             ],
             [
              0.8888888888888888,
              "#fdca26"
             ],
             [
              1,
              "#f0f921"
             ]
            ],
            "type": "histogram2dcontour"
           }
          ],
          "mesh3d": [
           {
            "colorbar": {
             "outlinewidth": 0,
             "ticks": ""
            },
            "type": "mesh3d"
           }
          ],
          "parcoords": [
           {
            "line": {
             "colorbar": {
              "outlinewidth": 0,
              "ticks": ""
             }
            },
            "type": "parcoords"
           }
          ],
          "pie": [
           {
            "automargin": true,
            "type": "pie"
           }
          ],
          "scatter": [
           {
            "fillpattern": {
             "fillmode": "overlay",
             "size": 10,
             "solidity": 0.2
            },
            "type": "scatter"
           }
          ],
          "scatter3d": [
           {
            "line": {
             "colorbar": {
              "outlinewidth": 0,
              "ticks": ""
             }
            },
            "marker": {
             "colorbar": {
              "outlinewidth": 0,
              "ticks": ""
             }
            },
            "type": "scatter3d"
           }
          ],
          "scattercarpet": [
           {
            "marker": {
             "colorbar": {
              "outlinewidth": 0,
              "ticks": ""
             }
            },
            "type": "scattercarpet"
           }
          ],
          "scattergeo": [
           {
            "marker": {
             "colorbar": {
              "outlinewidth": 0,
              "ticks": ""
             }
            },
            "type": "scattergeo"
           }
          ],
          "scattergl": [
           {
            "marker": {
             "colorbar": {
              "outlinewidth": 0,
              "ticks": ""
             }
            },
            "type": "scattergl"
           }
          ],
          "scattermap": [
           {
            "marker": {
             "colorbar": {
              "outlinewidth": 0,
              "ticks": ""
             }
            },
            "type": "scattermap"
           }
          ],
          "scattermapbox": [
           {
            "marker": {
             "colorbar": {
              "outlinewidth": 0,
              "ticks": ""
             }
            },
            "type": "scattermapbox"
           }
          ],
          "scatterpolar": [
           {
            "marker": {
             "colorbar": {
              "outlinewidth": 0,
              "ticks": ""
             }
            },
            "type": "scatterpolar"
           }
          ],
          "scatterpolargl": [
           {
            "marker": {
             "colorbar": {
              "outlinewidth": 0,
              "ticks": ""
             }
            },
            "type": "scatterpolargl"
           }
          ],
          "scatterternary": [
           {
            "marker": {
             "colorbar": {
              "outlinewidth": 0,
              "ticks": ""
             }
            },
            "type": "scatterternary"
           }
          ],
          "surface": [
           {
            "colorbar": {
             "outlinewidth": 0,
             "ticks": ""
            },
            "colorscale": [
             [
              0,
              "#0d0887"
             ],
             [
              0.1111111111111111,
              "#46039f"
             ],
             [
              0.2222222222222222,
              "#7201a8"
             ],
             [
              0.3333333333333333,
              "#9c179e"
             ],
             [
              0.4444444444444444,
              "#bd3786"
             ],
             [
              0.5555555555555556,
              "#d8576b"
             ],
             [
              0.6666666666666666,
              "#ed7953"
             ],
             [
              0.7777777777777778,
              "#fb9f3a"
             ],
             [
              0.8888888888888888,
              "#fdca26"
             ],
             [
              1,
              "#f0f921"
             ]
            ],
            "type": "surface"
           }
          ],
          "table": [
           {
            "cells": {
             "fill": {
              "color": "#EBF0F8"
             },
             "line": {
              "color": "white"
             }
            },
            "header": {
             "fill": {
              "color": "#C8D4E3"
             },
             "line": {
              "color": "white"
             }
            },
            "type": "table"
           }
          ]
         },
         "layout": {
          "annotationdefaults": {
           "arrowcolor": "#2a3f5f",
           "arrowhead": 0,
           "arrowwidth": 1
          },
          "autotypenumbers": "strict",
          "coloraxis": {
           "colorbar": {
            "outlinewidth": 0,
            "ticks": ""
           }
          },
          "colorscale": {
           "diverging": [
            [
             0,
             "#8e0152"
            ],
            [
             0.1,
             "#c51b7d"
            ],
            [
             0.2,
             "#de77ae"
            ],
            [
             0.3,
             "#f1b6da"
            ],
            [
             0.4,
             "#fde0ef"
            ],
            [
             0.5,
             "#f7f7f7"
            ],
            [
             0.6,
             "#e6f5d0"
            ],
            [
             0.7,
             "#b8e186"
            ],
            [
             0.8,
             "#7fbc41"
            ],
            [
             0.9,
             "#4d9221"
            ],
            [
             1,
             "#276419"
            ]
           ],
           "sequential": [
            [
             0,
             "#0d0887"
            ],
            [
             0.1111111111111111,
             "#46039f"
            ],
            [
             0.2222222222222222,
             "#7201a8"
            ],
            [
             0.3333333333333333,
             "#9c179e"
            ],
            [
             0.4444444444444444,
             "#bd3786"
            ],
            [
             0.5555555555555556,
             "#d8576b"
            ],
            [
             0.6666666666666666,
             "#ed7953"
            ],
            [
             0.7777777777777778,
             "#fb9f3a"
            ],
            [
             0.8888888888888888,
             "#fdca26"
            ],
            [
             1,
             "#f0f921"
            ]
           ],
           "sequentialminus": [
            [
             0,
             "#0d0887"
            ],
            [
             0.1111111111111111,
             "#46039f"
            ],
            [
             0.2222222222222222,
             "#7201a8"
            ],
            [
             0.3333333333333333,
             "#9c179e"
            ],
            [
             0.4444444444444444,
             "#bd3786"
            ],
            [
             0.5555555555555556,
             "#d8576b"
            ],
            [
             0.6666666666666666,
             "#ed7953"
            ],
            [
             0.7777777777777778,
             "#fb9f3a"
            ],
            [
             0.8888888888888888,
             "#fdca26"
            ],
            [
             1,
             "#f0f921"
            ]
           ]
          },
          "colorway": [
           "#636efa",
           "#EF553B",
           "#00cc96",
           "#ab63fa",
           "#FFA15A",
           "#19d3f3",
           "#FF6692",
           "#B6E880",
           "#FF97FF",
           "#FECB52"
          ],
          "font": {
           "color": "#2a3f5f"
          },
          "geo": {
           "bgcolor": "white",
           "lakecolor": "white",
           "landcolor": "#E5ECF6",
           "showlakes": true,
           "showland": true,
           "subunitcolor": "white"
          },
          "hoverlabel": {
           "align": "left"
          },
          "hovermode": "closest",
          "mapbox": {
           "style": "light"
          },
          "paper_bgcolor": "white",
          "plot_bgcolor": "#E5ECF6",
          "polar": {
           "angularaxis": {
            "gridcolor": "white",
            "linecolor": "white",
            "ticks": ""
           },
           "bgcolor": "#E5ECF6",
           "radialaxis": {
            "gridcolor": "white",
            "linecolor": "white",
            "ticks": ""
           }
          },
          "scene": {
           "xaxis": {
            "backgroundcolor": "#E5ECF6",
            "gridcolor": "white",
            "gridwidth": 2,
            "linecolor": "white",
            "showbackground": true,
            "ticks": "",
            "zerolinecolor": "white"
           },
           "yaxis": {
            "backgroundcolor": "#E5ECF6",
            "gridcolor": "white",
            "gridwidth": 2,
            "linecolor": "white",
            "showbackground": true,
            "ticks": "",
            "zerolinecolor": "white"
           },
           "zaxis": {
            "backgroundcolor": "#E5ECF6",
            "gridcolor": "white",
            "gridwidth": 2,
            "linecolor": "white",
            "showbackground": true,
            "ticks": "",
            "zerolinecolor": "white"
           }
          },
          "shapedefaults": {
           "line": {
            "color": "#2a3f5f"
           }
          },
          "ternary": {
           "aaxis": {
            "gridcolor": "white",
            "linecolor": "white",
            "ticks": ""
           },
           "baxis": {
            "gridcolor": "white",
            "linecolor": "white",
            "ticks": ""
           },
           "bgcolor": "#E5ECF6",
           "caxis": {
            "gridcolor": "white",
            "linecolor": "white",
            "ticks": ""
           }
          },
          "title": {
           "x": 0.05
          },
          "xaxis": {
           "automargin": true,
           "gridcolor": "white",
           "linecolor": "white",
           "ticks": "",
           "title": {
            "standoff": 15
           },
           "zerolinecolor": "white",
           "zerolinewidth": 2
          },
          "yaxis": {
           "automargin": true,
           "gridcolor": "white",
           "linecolor": "white",
           "ticks": "",
           "title": {
            "standoff": 15
           },
           "zerolinecolor": "white",
           "zerolinewidth": 2
          }
         }
        },
        "width": 700
       }
      }
     },
     "metadata": {},
     "output_type": "display_data"
    }
   ],
   "source": [
    "robot.a\n",
    "robot.d\n",
    "robot.alpha[0] = 0\n",
    "robot.plotly(robot.qr, isShow=False)\n"
   ]
  },
  {
   "cell_type": "code",
   "execution_count": null,
   "metadata": {},
   "outputs": [
    {
     "data": {
      "application/vnd.plotly.v1+json": {
       "config": {
        "plotlyServerURL": "https://plot.ly"
       },
       "data": [
        {
         "line": {
          "color": "#E1706E",
          "width": 14
         },
         "mode": "lines",
         "name": "Link1",
         "type": "scatter3d",
         "x": {
          "bdata": "AAAAAAAAAAAAAAAAAAAAAA==",
          "dtype": "f8"
         },
         "y": {
          "bdata": "AAAAAAAAAAAAAAAAAAAAAA==",
          "dtype": "f8"
         },
         "z": {
          "bdata": "AAAAAAAAAACamZmZmZnZPw==",
          "dtype": "f8"
         }
        },
        {
         "line": {
          "color": "#E1706E",
          "width": 14
         },
         "mode": "lines",
         "name": "Link2",
         "type": "scatter3d",
         "x": {
          "bdata": "AAAAAAAAAAByxlPrCT18vA==",
          "dtype": "f8"
         },
         "y": {
          "bdata": "AAAAAAAAAACamZmZmZnZPw==",
          "dtype": "f8"
         },
         "z": {
          "bdata": "mpmZmZmZ2T+amZmZmZnZPw==",
          "dtype": "f8"
         }
        },
        {
         "line": {
          "color": "#E1706E",
          "width": 14
         },
         "mode": "lines",
         "name": "Link3",
         "type": "scatter3d",
         "x": {
          "bdata": "csZT6wk9fLxyxlPrCT2MvA==",
          "dtype": "f8"
         },
         "y": {
          "bdata": "mpmZmZmZ2T+amZmZmZnpPw==",
          "dtype": "f8"
         },
         "z": {
          "bdata": "mpmZmZmZ2T+amZmZmZnZPw==",
          "dtype": "f8"
         }
        },
        {
         "line": {
          "color": "#E1706E",
          "width": 14
         },
         "mode": "lines",
         "name": "Link4",
         "type": "scatter3d",
         "x": {
          "bdata": "csZT6wk9jLzW1H5wxy2VvA==",
          "dtype": "f8"
         },
         "y": {
          "bdata": "mpmZmZmZ6T80MzMzMzPzPw==",
          "dtype": "f8"
         },
         "z": {
          "bdata": "mpmZmZmZ2T+amZmZmZnZPw==",
          "dtype": "f8"
         }
        },
        {
         "line": {
          "color": "#F84752",
          "width": 5
         },
         "mode": "lines",
         "name": "X0 Axis",
         "type": "scatter3d",
         "x": [
          0,
          0.13
         ],
         "y": [
          0,
          0
         ],
         "z": [
          0,
          0
         ]
        },
        {
         "cmax": 1,
         "cmin": 0,
         "colorscale": [
          [
           0,
           "#F84752"
          ],
          [
           1,
           "#F84752"
          ]
         ],
         "showscale": false,
         "sizemode": "absolute",
         "sizeref": 0.013000000000000001,
         "type": "cone",
         "u": [
          1
         ],
         "v": [
          0
         ],
         "w": [
          0
         ],
         "x": [
          0.13
         ],
         "y": [
          0
         ],
         "z": [
          0
         ]
        },
        {
         "line": {
          "color": "#BBDA55",
          "width": 5
         },
         "mode": "lines",
         "name": "Y0 Axis",
         "type": "scatter3d",
         "x": [
          0,
          0
         ],
         "y": [
          0,
          0.13
         ],
         "z": [
          0,
          0
         ]
        },
        {
         "cmax": 1,
         "cmin": 0,
         "colorscale": [
          [
           0,
           "#BBDA55"
          ],
          [
           1,
           "#BBDA55"
          ]
         ],
         "showscale": false,
         "sizemode": "absolute",
         "sizeref": 0.013000000000000001,
         "type": "cone",
         "u": [
          0
         ],
         "v": [
          1
         ],
         "w": [
          0
         ],
         "x": [
          0
         ],
         "y": [
          0.13
         ],
         "z": [
          0
         ]
        },
        {
         "line": {
          "color": "#8EC1E1",
          "width": 5
         },
         "mode": "lines",
         "name": "Z0 Axis",
         "type": "scatter3d",
         "x": [
          0,
          0
         ],
         "y": [
          0,
          0
         ],
         "z": [
          0,
          0.13
         ]
        },
        {
         "cmax": 1,
         "cmin": 0,
         "colorscale": [
          [
           0,
           "#8EC1E1"
          ],
          [
           1,
           "#8EC1E1"
          ]
         ],
         "showscale": false,
         "sizemode": "absolute",
         "sizeref": 0.013000000000000001,
         "type": "cone",
         "u": [
          0
         ],
         "v": [
          0
         ],
         "w": [
          1
         ],
         "x": [
          0
         ],
         "y": [
          0
         ],
         "z": [
          0.13
         ]
        },
        {
         "line": {
          "color": "#F84752",
          "width": 5
         },
         "mode": "lines",
         "name": "X1 Axis",
         "type": "scatter3d",
         "x": [
          0,
          0.13
         ],
         "y": [
          0,
          0
         ],
         "z": [
          0.4,
          0.4
         ]
        },
        {
         "cmax": 1,
         "cmin": 0,
         "colorscale": [
          [
           0,
           "#F84752"
          ],
          [
           1,
           "#F84752"
          ]
         ],
         "showscale": false,
         "sizemode": "absolute",
         "sizeref": 0.013000000000000001,
         "type": "cone",
         "u": [
          1
         ],
         "v": [
          0
         ],
         "w": [
          0
         ],
         "x": [
          0.13
         ],
         "y": [
          0
         ],
         "z": [
          0.4
         ]
        },
        {
         "line": {
          "color": "#BBDA55",
          "width": 5
         },
         "mode": "lines",
         "name": "Y1 Axis",
         "type": "scatter3d",
         "x": [
          0,
          0
         ],
         "y": [
          0,
          0.13
         ],
         "z": [
          0.4,
          0.4
         ]
        },
        {
         "cmax": 1,
         "cmin": 0,
         "colorscale": [
          [
           0,
           "#BBDA55"
          ],
          [
           1,
           "#BBDA55"
          ]
         ],
         "showscale": false,
         "sizemode": "absolute",
         "sizeref": 0.013000000000000001,
         "type": "cone",
         "u": [
          0
         ],
         "v": [
          1
         ],
         "w": [
          0
         ],
         "x": [
          0
         ],
         "y": [
          0.13
         ],
         "z": [
          0.4
         ]
        },
        {
         "line": {
          "color": "#8EC1E1",
          "width": 5
         },
         "mode": "lines",
         "name": "Z1 Axis",
         "type": "scatter3d",
         "x": [
          0,
          0
         ],
         "y": [
          0,
          0
         ],
         "z": [
          0.4,
          0.53
         ]
        },
        {
         "cmax": 1,
         "cmin": 0,
         "colorscale": [
          [
           0,
           "#8EC1E1"
          ],
          [
           1,
           "#8EC1E1"
          ]
         ],
         "showscale": false,
         "sizemode": "absolute",
         "sizeref": 0.013000000000000001,
         "type": "cone",
         "u": [
          0
         ],
         "v": [
          0
         ],
         "w": [
          1
         ],
         "x": [
          0
         ],
         "y": [
          0
         ],
         "z": [
          0.53
         ]
        },
        {
         "line": {
          "color": "#F84752",
          "width": 5
         },
         "mode": "lines",
         "name": "X2 Axis",
         "type": "scatter3d",
         "x": [
          -2.4492935982947065e-17,
          -1.653273178848927e-17
         ],
         "y": [
          0.4,
          0.27
         ],
         "z": [
          0.4,
          0.4
         ]
        },
        {
         "cmax": 1,
         "cmin": 0,
         "colorscale": [
          [
           0,
           "#F84752"
          ],
          [
           1,
           "#F84752"
          ]
         ],
         "showscale": false,
         "sizemode": "absolute",
         "sizeref": 0.013000000000000001,
         "type": "cone",
         "u": [
          6.123233995736766e-17
         ],
         "v": [
          -1
         ],
         "w": [
          0
         ],
         "x": [
          -1.653273178848927e-17
         ],
         "y": [
          0.27
         ],
         "z": [
          0.4
         ]
        },
        {
         "line": {
          "color": "#BBDA55",
          "width": 5
         },
         "mode": "lines",
         "name": "Y2 Axis",
         "type": "scatter3d",
         "x": [
          -2.4492935982947065e-17,
          0.12999999999999998
         ],
         "y": [
          0.4,
          0.4
         ],
         "z": [
          0.4,
          0.4
         ]
        },
        {
         "cmax": 1,
         "cmin": 0,
         "colorscale": [
          [
           0,
           "#BBDA55"
          ],
          [
           1,
           "#BBDA55"
          ]
         ],
         "showscale": false,
         "sizemode": "absolute",
         "sizeref": 0.013000000000000001,
         "type": "cone",
         "u": [
          1
         ],
         "v": [
          6.123233995736766e-17
         ],
         "w": [
          0
         ],
         "x": [
          0.12999999999999998
         ],
         "y": [
          0.4
         ],
         "z": [
          0.4
         ]
        },
        {
         "line": {
          "color": "#8EC1E1",
          "width": 5
         },
         "mode": "lines",
         "name": "Z2 Axis",
         "type": "scatter3d",
         "x": [
          -2.4492935982947065e-17,
          -2.4492935982947065e-17
         ],
         "y": [
          0.4,
          0.4
         ],
         "z": [
          0.4,
          0.53
         ]
        },
        {
         "cmax": 1,
         "cmin": 0,
         "colorscale": [
          [
           0,
           "#8EC1E1"
          ],
          [
           1,
           "#8EC1E1"
          ]
         ],
         "showscale": false,
         "sizemode": "absolute",
         "sizeref": 0.013000000000000001,
         "type": "cone",
         "u": [
          0
         ],
         "v": [
          0
         ],
         "w": [
          1
         ],
         "x": [
          -2.4492935982947065e-17
         ],
         "y": [
          0.4
         ],
         "z": [
          0.53
         ]
        },
        {
         "line": {
          "color": "#F84752",
          "width": 5
         },
         "mode": "lines",
         "name": "X3 Axis",
         "type": "scatter3d",
         "x": [
          -4.898587196589413e-17,
          -4.1025667771436334e-17
         ],
         "y": [
          0.8,
          0.67
         ],
         "z": [
          0.4,
          0.4
         ]
        },
        {
         "cmax": 1,
         "cmin": 0,
         "colorscale": [
          [
           0,
           "#F84752"
          ],
          [
           1,
           "#F84752"
          ]
         ],
         "showscale": false,
         "sizemode": "absolute",
         "sizeref": 0.013000000000000001,
         "type": "cone",
         "u": [
          6.123233995736766e-17
         ],
         "v": [
          -1
         ],
         "w": [
          0
         ],
         "x": [
          -4.1025667771436334e-17
         ],
         "y": [
          0.67
         ],
         "z": [
          0.4
         ]
        },
        {
         "line": {
          "color": "#BBDA55",
          "width": 5
         },
         "mode": "lines",
         "name": "Y3 Axis",
         "type": "scatter3d",
         "x": [
          -4.898587196589413e-17,
          0.12999999999999995
         ],
         "y": [
          0.8,
          0.8
         ],
         "z": [
          0.4,
          0.4
         ]
        },
        {
         "cmax": 1,
         "cmin": 0,
         "colorscale": [
          [
           0,
           "#BBDA55"
          ],
          [
           1,
           "#BBDA55"
          ]
         ],
         "showscale": false,
         "sizemode": "absolute",
         "sizeref": 0.013000000000000001,
         "type": "cone",
         "u": [
          1
         ],
         "v": [
          6.123233995736766e-17
         ],
         "w": [
          0
         ],
         "x": [
          0.12999999999999995
         ],
         "y": [
          0.8
         ],
         "z": [
          0.4
         ]
        },
        {
         "line": {
          "color": "#8EC1E1",
          "width": 5
         },
         "mode": "lines",
         "name": "Z3 Axis",
         "type": "scatter3d",
         "x": [
          -4.898587196589413e-17,
          -4.898587196589413e-17
         ],
         "y": [
          0.8,
          0.8
         ],
         "z": [
          0.4,
          0.53
         ]
        },
        {
         "cmax": 1,
         "cmin": 0,
         "colorscale": [
          [
           0,
           "#8EC1E1"
          ],
          [
           1,
           "#8EC1E1"
          ]
         ],
         "showscale": false,
         "sizemode": "absolute",
         "sizeref": 0.013000000000000001,
         "type": "cone",
         "u": [
          0
         ],
         "v": [
          0
         ],
         "w": [
          1
         ],
         "x": [
          -4.898587196589413e-17
         ],
         "y": [
          0.8
         ],
         "z": [
          0.53
         ]
        },
        {
         "line": {
          "color": "#F84752",
          "width": 5
         },
         "mode": "lines",
         "name": "X4 Axis",
         "type": "scatter3d",
         "x": [
          -7.34788079488412e-17,
          -6.949870585161231e-17
         ],
         "y": [
          1.2000000000000002,
          1.1350000000000002
         ],
         "z": [
          0.4,
          0.4
         ]
        },
        {
         "cmax": 1,
         "cmin": 0,
         "colorscale": [
          [
           0,
           "#F84752"
          ],
          [
           1,
           "#F84752"
          ]
         ],
         "showscale": false,
         "sizemode": "absolute",
         "sizeref": 0.006500000000000001,
         "type": "cone",
         "u": [
          6.123233995736766e-17
         ],
         "v": [
          -1
         ],
         "w": [
          0
         ],
         "x": [
          -6.949870585161231e-17
         ],
         "y": [
          1.1350000000000002
         ],
         "z": [
          0.4
         ]
        },
        {
         "line": {
          "color": "#BBDA55",
          "width": 5
         },
         "mode": "lines",
         "name": "Y4 Axis",
         "type": "scatter3d",
         "x": [
          -7.34788079488412e-17,
          0.06499999999999993
         ],
         "y": [
          1.2000000000000002,
          1.2000000000000002
         ],
         "z": [
          0.4,
          0.4
         ]
        },
        {
         "cmax": 1,
         "cmin": 0,
         "colorscale": [
          [
           0,
           "#BBDA55"
          ],
          [
           1,
           "#BBDA55"
          ]
         ],
         "showscale": false,
         "sizemode": "absolute",
         "sizeref": 0.006500000000000001,
         "type": "cone",
         "u": [
          1
         ],
         "v": [
          6.123233995736766e-17
         ],
         "w": [
          0
         ],
         "x": [
          0.06499999999999993
         ],
         "y": [
          1.2000000000000002
         ],
         "z": [
          0.4
         ]
        },
        {
         "line": {
          "color": "#8EC1E1",
          "width": 5
         },
         "mode": "lines",
         "name": "Z4 Axis",
         "type": "scatter3d",
         "x": [
          -7.34788079488412e-17,
          -7.34788079488412e-17
         ],
         "y": [
          1.2000000000000002,
          1.2000000000000002
         ],
         "z": [
          0.4,
          0.465
         ]
        },
        {
         "cmax": 1,
         "cmin": 0,
         "colorscale": [
          [
           0,
           "#8EC1E1"
          ],
          [
           1,
           "#8EC1E1"
          ]
         ],
         "showscale": false,
         "sizemode": "absolute",
         "sizeref": 0.006500000000000001,
         "type": "cone",
         "u": [
          0
         ],
         "v": [
          0
         ],
         "w": [
          1
         ],
         "x": [
          -7.34788079488412e-17
         ],
         "y": [
          1.2000000000000002
         ],
         "z": [
          0.465
         ]
        }
       ],
       "layout": {
        "height": 600,
        "scene": {
         "aspectmode": "cube",
         "camera": {
          "center": {
           "x": 0,
           "y": 0,
           "z": 0
          },
          "eye": {
           "x": 1.8973665961010275,
           "y": -1.8973665961010275,
           "z": 1.8973665961010275
          },
          "up": {
           "x": 0,
           "y": 0,
           "z": 1
          }
         },
         "xaxis": {
          "nticks": 10,
          "range": [
           -1.391402170474087,
           1.391402170474087
          ],
          "title": {
           "text": "X"
          }
         },
         "yaxis": {
          "nticks": 10,
          "range": [
           -1.391402170474087,
           1.391402170474087
          ],
          "title": {
           "text": "Y"
          }
         },
         "zaxis": {
          "nticks": 10,
          "range": [
           -1.391402170474087,
           1.391402170474087
          ],
          "title": {
           "text": "Z"
          }
         }
        },
        "template": {
         "data": {
          "bar": [
           {
            "error_x": {
             "color": "#2a3f5f"
            },
            "error_y": {
             "color": "#2a3f5f"
            },
            "marker": {
             "line": {
              "color": "#E5ECF6",
              "width": 0.5
             },
             "pattern": {
              "fillmode": "overlay",
              "size": 10,
              "solidity": 0.2
             }
            },
            "type": "bar"
           }
          ],
          "barpolar": [
           {
            "marker": {
             "line": {
              "color": "#E5ECF6",
              "width": 0.5
             },
             "pattern": {
              "fillmode": "overlay",
              "size": 10,
              "solidity": 0.2
             }
            },
            "type": "barpolar"
           }
          ],
          "carpet": [
           {
            "aaxis": {
             "endlinecolor": "#2a3f5f",
             "gridcolor": "white",
             "linecolor": "white",
             "minorgridcolor": "white",
             "startlinecolor": "#2a3f5f"
            },
            "baxis": {
             "endlinecolor": "#2a3f5f",
             "gridcolor": "white",
             "linecolor": "white",
             "minorgridcolor": "white",
             "startlinecolor": "#2a3f5f"
            },
            "type": "carpet"
           }
          ],
          "choropleth": [
           {
            "colorbar": {
             "outlinewidth": 0,
             "ticks": ""
            },
            "type": "choropleth"
           }
          ],
          "contour": [
           {
            "colorbar": {
             "outlinewidth": 0,
             "ticks": ""
            },
            "colorscale": [
             [
              0,
              "#0d0887"
             ],
             [
              0.1111111111111111,
              "#46039f"
             ],
             [
              0.2222222222222222,
              "#7201a8"
             ],
             [
              0.3333333333333333,
              "#9c179e"
             ],
             [
              0.4444444444444444,
              "#bd3786"
             ],
             [
              0.5555555555555556,
              "#d8576b"
             ],
             [
              0.6666666666666666,
              "#ed7953"
             ],
             [
              0.7777777777777778,
              "#fb9f3a"
             ],
             [
              0.8888888888888888,
              "#fdca26"
             ],
             [
              1,
              "#f0f921"
             ]
            ],
            "type": "contour"
           }
          ],
          "contourcarpet": [
           {
            "colorbar": {
             "outlinewidth": 0,
             "ticks": ""
            },
            "type": "contourcarpet"
           }
          ],
          "heatmap": [
           {
            "colorbar": {
             "outlinewidth": 0,
             "ticks": ""
            },
            "colorscale": [
             [
              0,
              "#0d0887"
             ],
             [
              0.1111111111111111,
              "#46039f"
             ],
             [
              0.2222222222222222,
              "#7201a8"
             ],
             [
              0.3333333333333333,
              "#9c179e"
             ],
             [
              0.4444444444444444,
              "#bd3786"
             ],
             [
              0.5555555555555556,
              "#d8576b"
             ],
             [
              0.6666666666666666,
              "#ed7953"
             ],
             [
              0.7777777777777778,
              "#fb9f3a"
             ],
             [
              0.8888888888888888,
              "#fdca26"
             ],
             [
              1,
              "#f0f921"
             ]
            ],
            "type": "heatmap"
           }
          ],
          "histogram": [
           {
            "marker": {
             "pattern": {
              "fillmode": "overlay",
              "size": 10,
              "solidity": 0.2
             }
            },
            "type": "histogram"
           }
          ],
          "histogram2d": [
           {
            "colorbar": {
             "outlinewidth": 0,
             "ticks": ""
            },
            "colorscale": [
             [
              0,
              "#0d0887"
             ],
             [
              0.1111111111111111,
              "#46039f"
             ],
             [
              0.2222222222222222,
              "#7201a8"
             ],
             [
              0.3333333333333333,
              "#9c179e"
             ],
             [
              0.4444444444444444,
              "#bd3786"
             ],
             [
              0.5555555555555556,
              "#d8576b"
             ],
             [
              0.6666666666666666,
              "#ed7953"
             ],
             [
              0.7777777777777778,
              "#fb9f3a"
             ],
             [
              0.8888888888888888,
              "#fdca26"
             ],
             [
              1,
              "#f0f921"
             ]
            ],
            "type": "histogram2d"
           }
          ],
          "histogram2dcontour": [
           {
            "colorbar": {
             "outlinewidth": 0,
             "ticks": ""
            },
            "colorscale": [
             [
              0,
              "#0d0887"
             ],
             [
              0.1111111111111111,
              "#46039f"
             ],
             [
              0.2222222222222222,
              "#7201a8"
             ],
             [
              0.3333333333333333,
              "#9c179e"
             ],
             [
              0.4444444444444444,
              "#bd3786"
             ],
             [
              0.5555555555555556,
              "#d8576b"
             ],
             [
              0.6666666666666666,
              "#ed7953"
             ],
             [
              0.7777777777777778,
              "#fb9f3a"
             ],
             [
              0.8888888888888888,
              "#fdca26"
             ],
             [
              1,
              "#f0f921"
             ]
            ],
            "type": "histogram2dcontour"
           }
          ],
          "mesh3d": [
           {
            "colorbar": {
             "outlinewidth": 0,
             "ticks": ""
            },
            "type": "mesh3d"
           }
          ],
          "parcoords": [
           {
            "line": {
             "colorbar": {
              "outlinewidth": 0,
              "ticks": ""
             }
            },
            "type": "parcoords"
           }
          ],
          "pie": [
           {
            "automargin": true,
            "type": "pie"
           }
          ],
          "scatter": [
           {
            "fillpattern": {
             "fillmode": "overlay",
             "size": 10,
             "solidity": 0.2
            },
            "type": "scatter"
           }
          ],
          "scatter3d": [
           {
            "line": {
             "colorbar": {
              "outlinewidth": 0,
              "ticks": ""
             }
            },
            "marker": {
             "colorbar": {
              "outlinewidth": 0,
              "ticks": ""
             }
            },
            "type": "scatter3d"
           }
          ],
          "scattercarpet": [
           {
            "marker": {
             "colorbar": {
              "outlinewidth": 0,
              "ticks": ""
             }
            },
            "type": "scattercarpet"
           }
          ],
          "scattergeo": [
           {
            "marker": {
             "colorbar": {
              "outlinewidth": 0,
              "ticks": ""
             }
            },
            "type": "scattergeo"
           }
          ],
          "scattergl": [
           {
            "marker": {
             "colorbar": {
              "outlinewidth": 0,
              "ticks": ""
             }
            },
            "type": "scattergl"
           }
          ],
          "scattermap": [
           {
            "marker": {
             "colorbar": {
              "outlinewidth": 0,
              "ticks": ""
             }
            },
            "type": "scattermap"
           }
          ],
          "scattermapbox": [
           {
            "marker": {
             "colorbar": {
              "outlinewidth": 0,
              "ticks": ""
             }
            },
            "type": "scattermapbox"
           }
          ],
          "scatterpolar": [
           {
            "marker": {
             "colorbar": {
              "outlinewidth": 0,
              "ticks": ""
             }
            },
            "type": "scatterpolar"
           }
          ],
          "scatterpolargl": [
           {
            "marker": {
             "colorbar": {
              "outlinewidth": 0,
              "ticks": ""
             }
            },
            "type": "scatterpolargl"
           }
          ],
          "scatterternary": [
           {
            "marker": {
             "colorbar": {
              "outlinewidth": 0,
              "ticks": ""
             }
            },
            "type": "scatterternary"
           }
          ],
          "surface": [
           {
            "colorbar": {
             "outlinewidth": 0,
             "ticks": ""
            },
            "colorscale": [
             [
              0,
              "#0d0887"
             ],
             [
              0.1111111111111111,
              "#46039f"
             ],
             [
              0.2222222222222222,
              "#7201a8"
             ],
             [
              0.3333333333333333,
              "#9c179e"
             ],
             [
              0.4444444444444444,
              "#bd3786"
             ],
             [
              0.5555555555555556,
              "#d8576b"
             ],
             [
              0.6666666666666666,
              "#ed7953"
             ],
             [
              0.7777777777777778,
              "#fb9f3a"
             ],
             [
              0.8888888888888888,
              "#fdca26"
             ],
             [
              1,
              "#f0f921"
             ]
            ],
            "type": "surface"
           }
          ],
          "table": [
           {
            "cells": {
             "fill": {
              "color": "#EBF0F8"
             },
             "line": {
              "color": "white"
             }
            },
            "header": {
             "fill": {
              "color": "#C8D4E3"
             },
             "line": {
              "color": "white"
             }
            },
            "type": "table"
           }
          ]
         },
         "layout": {
          "annotationdefaults": {
           "arrowcolor": "#2a3f5f",
           "arrowhead": 0,
           "arrowwidth": 1
          },
          "autotypenumbers": "strict",
          "coloraxis": {
           "colorbar": {
            "outlinewidth": 0,
            "ticks": ""
           }
          },
          "colorscale": {
           "diverging": [
            [
             0,
             "#8e0152"
            ],
            [
             0.1,
             "#c51b7d"
            ],
            [
             0.2,
             "#de77ae"
            ],
            [
             0.3,
             "#f1b6da"
            ],
            [
             0.4,
             "#fde0ef"
            ],
            [
             0.5,
             "#f7f7f7"
            ],
            [
             0.6,
             "#e6f5d0"
            ],
            [
             0.7,
             "#b8e186"
            ],
            [
             0.8,
             "#7fbc41"
            ],
            [
             0.9,
             "#4d9221"
            ],
            [
             1,
             "#276419"
            ]
           ],
           "sequential": [
            [
             0,
             "#0d0887"
            ],
            [
             0.1111111111111111,
             "#46039f"
            ],
            [
             0.2222222222222222,
             "#7201a8"
            ],
            [
             0.3333333333333333,
             "#9c179e"
            ],
            [
             0.4444444444444444,
             "#bd3786"
            ],
            [
             0.5555555555555556,
             "#d8576b"
            ],
            [
             0.6666666666666666,
             "#ed7953"
            ],
            [
             0.7777777777777778,
             "#fb9f3a"
            ],
            [
             0.8888888888888888,
             "#fdca26"
            ],
            [
             1,
             "#f0f921"
            ]
           ],
           "sequentialminus": [
            [
             0,
             "#0d0887"
            ],
            [
             0.1111111111111111,
             "#46039f"
            ],
            [
             0.2222222222222222,
             "#7201a8"
            ],
            [
             0.3333333333333333,
             "#9c179e"
            ],
            [
             0.4444444444444444,
             "#bd3786"
            ],
            [
             0.5555555555555556,
             "#d8576b"
            ],
            [
             0.6666666666666666,
             "#ed7953"
            ],
            [
             0.7777777777777778,
             "#fb9f3a"
            ],
            [
             0.8888888888888888,
             "#fdca26"
            ],
            [
             1,
             "#f0f921"
            ]
           ]
          },
          "colorway": [
           "#636efa",
           "#EF553B",
           "#00cc96",
           "#ab63fa",
           "#FFA15A",
           "#19d3f3",
           "#FF6692",
           "#B6E880",
           "#FF97FF",
           "#FECB52"
          ],
          "font": {
           "color": "#2a3f5f"
          },
          "geo": {
           "bgcolor": "white",
           "lakecolor": "white",
           "landcolor": "#E5ECF6",
           "showlakes": true,
           "showland": true,
           "subunitcolor": "white"
          },
          "hoverlabel": {
           "align": "left"
          },
          "hovermode": "closest",
          "mapbox": {
           "style": "light"
          },
          "paper_bgcolor": "white",
          "plot_bgcolor": "#E5ECF6",
          "polar": {
           "angularaxis": {
            "gridcolor": "white",
            "linecolor": "white",
            "ticks": ""
           },
           "bgcolor": "#E5ECF6",
           "radialaxis": {
            "gridcolor": "white",
            "linecolor": "white",
            "ticks": ""
           }
          },
          "scene": {
           "xaxis": {
            "backgroundcolor": "#E5ECF6",
            "gridcolor": "white",
            "gridwidth": 2,
            "linecolor": "white",
            "showbackground": true,
            "ticks": "",
            "zerolinecolor": "white"
           },
           "yaxis": {
            "backgroundcolor": "#E5ECF6",
            "gridcolor": "white",
            "gridwidth": 2,
            "linecolor": "white",
            "showbackground": true,
            "ticks": "",
            "zerolinecolor": "white"
           },
           "zaxis": {
            "backgroundcolor": "#E5ECF6",
            "gridcolor": "white",
            "gridwidth": 2,
            "linecolor": "white",
            "showbackground": true,
            "ticks": "",
            "zerolinecolor": "white"
           }
          },
          "shapedefaults": {
           "line": {
            "color": "#2a3f5f"
           }
          },
          "ternary": {
           "aaxis": {
            "gridcolor": "white",
            "linecolor": "white",
            "ticks": ""
           },
           "baxis": {
            "gridcolor": "white",
            "linecolor": "white",
            "ticks": ""
           },
           "bgcolor": "#E5ECF6",
           "caxis": {
            "gridcolor": "white",
            "linecolor": "white",
            "ticks": ""
           }
          },
          "title": {
           "x": 0.05
          },
          "xaxis": {
           "automargin": true,
           "gridcolor": "white",
           "linecolor": "white",
           "ticks": "",
           "title": {
            "standoff": 15
           },
           "zerolinecolor": "white",
           "zerolinewidth": 2
          },
          "yaxis": {
           "automargin": true,
           "gridcolor": "white",
           "linecolor": "white",
           "ticks": "",
           "title": {
            "standoff": 15
           },
           "zerolinecolor": "white",
           "zerolinewidth": 2
          }
         }
        },
        "width": 700
       }
      }
     },
     "metadata": {},
     "output_type": "display_data"
    }
   ],
   "source": [
    "robot = rsb.models.DH.Generic.GenericFour()\n",
    "robot.links[0].__setattr__('alpha', 0)\n",
    "robot.plotly(robot.qr, fig=go.Figure(), isShow=False)\n",
    "robot.links[0].__setattr__('alpha', np.pi / 2)\n",
    "robot.plotly(robot.qr, fig=go.Figure(), isShow=False)\n",
    "\n",
    "robot.__getattribute__('links')[0].__setattr__('alpha', 0)\n",
    "# robot.plotly(robot.qr, fig=go.Figure(), isShow=False)\n",
    "\n"
   ]
  },
  {
   "cell_type": "code",
   "execution_count": 50,
   "metadata": {},
   "outputs": [
    {
     "name": "stdout",
     "output_type": "stream",
     "text": [
      "[0, 0, 0, 0]\n"
     ]
    },
    {
     "data": {
      "text/plain": [
       "[1.5707963267948966, 0, 0, 0]"
      ]
     },
     "execution_count": 50,
     "metadata": {},
     "output_type": "execute_result"
    }
   ],
   "source": [
    "robot.__getattribute__('links')[0].__setattr__('alpha',0)\n",
    "# print(robot.__getattribute__('alpha'))\n",
    "# print(robot.__getattribute__('alpha')[0])\n",
    "# print(robot.__getattribute__('alpha'))\n",
    "print(robot.alpha)\n",
    "# robot.__getattribute__('alpha')\n",
    "# robot.alpha.__setattr__('alpha', 0)\n",
    "robot.__getattribute__('links')[0].__setattr__('alpha', np.pi / 2)\n",
    "robot.alpha"
   ]
  },
  {
   "cell_type": "code",
   "execution_count": 59,
   "metadata": {},
   "outputs": [
    {
     "data": {
      "image/png": "[encoded data removed]",
      "text/plain": [
       "<Figure size 640x480 with 1 Axes>"
      ]
     },
     "metadata": {},
     "output_type": "display_data"
    },
    {
     "ename": "KeyboardInterrupt",
     "evalue": "",
     "output_type": "error",
     "traceback": [
      "\u001b[0;31m---------------------------------------------------------------------------\u001b[0m",
      "\u001b[0;31mKeyboardInterrupt\u001b[0m                         Traceback (most recent call last)",
      "Cell \u001b[0;32mIn[59], line 3\u001b[0m\n\u001b[1;32m      1\u001b[0m robot1 \u001b[38;5;241m=\u001b[39m rsb\u001b[38;5;241m.\u001b[39mmodels\u001b[38;5;241m.\u001b[39mDH\u001b[38;5;241m.\u001b[39mGeneric\u001b[38;5;241m.\u001b[39mGenericFour(alpha\u001b[38;5;241m=\u001b[39m[np\u001b[38;5;241m.\u001b[39mpi\u001b[38;5;241m/\u001b[39m\u001b[38;5;241m3\u001b[39m, \u001b[38;5;241m0\u001b[39m, \u001b[38;5;241m0\u001b[39m, \u001b[38;5;241m0\u001b[39m])\n\u001b[1;32m      2\u001b[0m \u001b[38;5;66;03m# robot1.plotly(robot.qr, isShow=True, fig=go.Figure())\u001b[39;00m\n\u001b[0;32m----> 3\u001b[0m \u001b[43mrobot1\u001b[49m\u001b[38;5;241;43m.\u001b[39;49m\u001b[43mplot\u001b[49m\u001b[43m(\u001b[49m\u001b[43mrobot\u001b[49m\u001b[38;5;241;43m.\u001b[39;49m\u001b[43mqr\u001b[49m\u001b[43m,\u001b[49m\u001b[43m \u001b[49m\u001b[43mblock\u001b[49m\u001b[38;5;241;43m=\u001b[39;49m\u001b[38;5;28;43;01mTrue\u001b[39;49;00m\u001b[43m)\u001b[49m\n",
      "File \u001b[0;32m~/miniconda3/envs/robosandbox3.9/lib/python3.9/site-packages/roboticstoolbox/robot/BaseRobot.py:2389\u001b[0m, in \u001b[0;36mBaseRobot.plot\u001b[0;34m(self, q, backend, block, dt, limits, vellipse, fellipse, fig, movie, loop, **kwargs)\u001b[0m\n\u001b[1;32m   2387\u001b[0m \u001b[38;5;66;03m# Keep the plot open\u001b[39;00m\n\u001b[1;32m   2388\u001b[0m \u001b[38;5;28;01mif\u001b[39;00m block:  \u001b[38;5;66;03m# pragma nocover\u001b[39;00m\n\u001b[0;32m-> 2389\u001b[0m     \u001b[43menv\u001b[49m\u001b[38;5;241;43m.\u001b[39;49m\u001b[43mhold\u001b[49m\u001b[43m(\u001b[49m\u001b[43m)\u001b[49m\n\u001b[1;32m   2391\u001b[0m \u001b[38;5;28;01mreturn\u001b[39;00m env\n",
      "File \u001b[0;32m~/miniconda3/envs/robosandbox3.9/lib/python3.9/site-packages/roboticstoolbox/backends/PyPlot/PyPlot.py:400\u001b[0m, in \u001b[0;36mPyPlot.hold\u001b[0;34m(self)\u001b[0m\n\u001b[1;32m    398\u001b[0m \u001b[38;5;28;01mif\u001b[39;00m \u001b[38;5;129;01mnot\u001b[39;00m plt\u001b[38;5;241m.\u001b[39mfignum_exists(\u001b[38;5;28mself\u001b[39m\u001b[38;5;241m.\u001b[39mfig\u001b[38;5;241m.\u001b[39mnumber):\n\u001b[1;32m    399\u001b[0m     \u001b[38;5;28;01mbreak\u001b[39;00m\n\u001b[0;32m--> 400\u001b[0m \u001b[38;5;28;43mself\u001b[39;49m\u001b[38;5;241;43m.\u001b[39;49m\u001b[43mstep\u001b[49m\u001b[43m(\u001b[49m\u001b[43m)\u001b[49m\n",
      "File \u001b[0;32m~/miniconda3/envs/robosandbox3.9/lib/python3.9/site-packages/roboticstoolbox/backends/PyPlot/PyPlot.py:230\u001b[0m, in \u001b[0;36mPyPlot.step\u001b[0;34m(self, dt)\u001b[0m\n\u001b[1;32m    228\u001b[0m     plt\u001b[38;5;241m.\u001b[39mdraw()\n\u001b[1;32m    229\u001b[0m     \u001b[38;5;28mself\u001b[39m\u001b[38;5;241m.\u001b[39mfig\u001b[38;5;241m.\u001b[39mcanvas\u001b[38;5;241m.\u001b[39mdraw()\n\u001b[0;32m--> 230\u001b[0m     \u001b[43mtime\u001b[49m\u001b[38;5;241;43m.\u001b[39;49m\u001b[43msleep\u001b[49m\u001b[43m(\u001b[49m\u001b[43mdt\u001b[49m\u001b[43m)\u001b[49m\n\u001b[1;32m    231\u001b[0m \u001b[38;5;28;01melse\u001b[39;00m:\n\u001b[1;32m    232\u001b[0m     plt\u001b[38;5;241m.\u001b[39mdraw()\n",
      "\u001b[0;31mKeyboardInterrupt\u001b[0m: "
     ]
    },
    {
     "data": {
      "text/plain": [
       "<Figure size 640x480 with 0 Axes>"
      ]
     },
     "metadata": {},
     "output_type": "display_data"
    }
   ],
   "source": [
    "robot1 = rsb.models.DH.Generic.GenericFour(alpha=[np.pi/3, 0, 0, 0])\n",
    "# robot1.plotly(robot.qr, isShow=True, fig=go.Figure())\n",
    "robot1.plot(robot.qr, block=True)\n",
    "\n"
   ]
  }
 ],
 "metadata": {
  "kernelspec": {
   "display_name": "robosandbox3.9",
   "language": "python",
   "name": "python3"
  },
  "language_info": {
   "codemirror_mode": {
    "name": "ipython",
    "version": 3
   },
   "file_extension": ".py",
   "mimetype": "text/x-python",
   "name": "python",
   "nbconvert_exporter": "python",
   "pygments_lexer": "ipython3",
   "version": "3.9.21"
  }
 },
 "nbformat": 4,
 "nbformat_minor": 2
}
