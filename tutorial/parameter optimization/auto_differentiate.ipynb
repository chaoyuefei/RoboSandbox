{
 "cells": [
  {
   "cell_type": "code",
   "execution_count": 1,
   "metadata": {},
   "outputs": [],
   "source": [
    "import robosandbox as rsb\n",
    "import numpy as np\n",
    "import casadi as ca\n",
    "import aerosandbox.numpy as anp\n",
    "import aerosandbox as asb\n"
   ]
  },
  {
   "cell_type": "code",
   "execution_count": 2,
   "metadata": {},
   "outputs": [
    {
     "name": "stdout",
     "output_type": "stream",
     "text": [
      "[0 1 2 3]\n"
     ]
    }
   ],
   "source": [
    "t = np.array([0, 1, 2, 3]).T\n",
    "print(t)"
   ]
  },
  {
   "cell_type": "code",
   "execution_count": 3,
   "metadata": {},
   "outputs": [
    {
     "name": "stdout",
     "output_type": "stream",
     "text": [
      "[0 1 2 3]\n"
     ]
    }
   ],
   "source": [
    "q = anp.array([0, 1, 2, 3]).T\n",
    "print(q)"
   ]
  },
  {
   "cell_type": "code",
   "execution_count": 2,
   "metadata": {},
   "outputs": [],
   "source": [
    "robot = rsb.models.MR.Generic.GenericFour()\n"
   ]
  },
  {
   "cell_type": "code",
   "execution_count": 10,
   "metadata": {},
   "outputs": [
    {
     "name": "stdout",
     "output_type": "stream",
     "text": [
      "x_axis: [1. 0. 0.]\n",
      "x_axis: [1. 0. 0.]\n",
      "x_axis: [-0.19866933  0.         -0.98006658]\n",
      "x_axis: [-0.19866933  0.         -0.98006658]\n"
     ]
    }
   ],
   "source": [
    "theta_list = anp.array([0, 0.2, 0, 0.2])\n",
    "Tlist = robot.fkine(theta_list)\n",
    "%matplotlib qt\n",
    "robot.plot_robot(Tlist)"
   ]
  },
  {
   "cell_type": "code",
   "execution_count": 21,
   "metadata": {},
   "outputs": [
    {
     "name": "stdout",
     "output_type": "stream",
     "text": [
      "[[-0.38941834  0.92106099  0.          0.3147028 ]\n",
      " [ 0.          0.         -1.          0.        ]\n",
      " [-0.92106099 -0.38941834  0.          1.55247766]\n",
      " [ 0.          0.          0.          1.        ]]\n",
      "1.5524776598741477\n"
     ]
    }
   ],
   "source": [
    "theta_list = anp.array([0, 0.2, 0, 0.2])\n",
    "Tlist = robot.fkine(theta_list)\n",
    "print(Tlist[-1])\n",
    "print(Tlist[-1][2, -1])"
   ]
  },
  {
   "cell_type": "code",
   "execution_count": 8,
   "metadata": {
    "vscode": {
     "languageId": "julia"
    }
   },
   "outputs": [
    {
     "name": "stdout",
     "output_type": "stream",
     "text": [
      "[[-0.38941834  0.92106099  0.          0.3147028 ]\n",
      " [ 0.          0.         -1.          0.        ]\n",
      " [-0.92106099 -0.38941834  0.          1.55247766]\n",
      " [ 0.          0.          0.          1.        ]]\n"
     ]
    }
   ],
   "source": [
    "theta_list = anp.array([0, 0.2, 0, 0.2])\n",
    "Tlist = robot.fkine(theta_list)\n",
    "\n",
    "opti = asb.Opti()\n",
    "\n",
    "q1 = opti.variable(init_guess=0.2) \n",
    "q2 = opti.variable(init_guess=0.2)\n",
    "q3 = opti.variable(init_guess=0.2)\n",
    "q4 = opti.variable(init_guess=0.2)\n",
    "\n",
    "theta_list = anp.array([q1, q2, q3, q4])\n",
    "\n",
    "f = robot.fkine(theta_list)[-1][2, -1]\n",
    "\n",
    "opti.minimize(-f)\n",
    "sol = opti.solve()"
   ]
  },
  {
   "cell_type": "code",
   "execution_count": 22,
   "metadata": {},
   "outputs": [
    {
     "ename": "AttributeError",
     "evalue": "'GenericFour' object has no attribute 'manipulability'",
     "output_type": "error",
     "traceback": [
      "\u001b[0;31m---------------------------------------------------------------------------\u001b[0m",
      "\u001b[0;31mAttributeError\u001b[0m                            Traceback (most recent call last)",
      "Cell \u001b[0;32mIn[22], line 9\u001b[0m\n\u001b[1;32m      6\u001b[0m q4 \u001b[38;5;241m=\u001b[39m opti\u001b[38;5;241m.\u001b[39mvariable(init_guess\u001b[38;5;241m=\u001b[39m\u001b[38;5;241m0.2\u001b[39m)\n\u001b[1;32m      8\u001b[0m \u001b[38;5;66;03m# Define obj\u001b[39;00m\n\u001b[0;32m----> 9\u001b[0m f \u001b[38;5;241m=\u001b[39m \u001b[43mrobot\u001b[49m\u001b[38;5;241;43m.\u001b[39;49m\u001b[43mmanipulability\u001b[49m(q\u001b[38;5;241m=\u001b[39m[q1, q2, q3, q4], method\u001b[38;5;241m=\u001b[39m\u001b[38;5;124m'\u001b[39m\u001b[38;5;124myoshikawa\u001b[39m\u001b[38;5;124m'\u001b[39m)\n\u001b[1;32m     11\u001b[0m opti\u001b[38;5;241m.\u001b[39mminimize(f)\n\u001b[1;32m     12\u001b[0m sol \u001b[38;5;241m=\u001b[39m opti\u001b[38;5;241m.\u001b[39msolve()\n",
      "\u001b[0;31mAttributeError\u001b[0m: 'GenericFour' object has no attribute 'manipulability'"
     ]
    }
   ],
   "source": [
    "\n",
    "opti = asb.Opti()\n",
    "\n",
    "q1 = opti.variable(init_guess=0.2) \n",
    "q2 = opti.variable(init_guess=0.2)\n",
    "q3 = opti.variable(init_guess=0.2)\n",
    "q4 = opti.variable(init_guess=0.2)\n",
    "\n",
    "# Define obj\n",
    "f = robot.manipulability(q=[q1, q2, q3, q4], method='yoshikawa')\n",
    "\n",
    "opti.minimize(f)\n",
    "sol = opti.solve()\n"
   ]
  },
  {
   "cell_type": "code",
   "execution_count": null,
   "metadata": {},
   "outputs": [],
   "source": []
  }
 ],
 "metadata": {
  "kernelspec": {
   "display_name": "robosandbox",
   "language": "python",
   "name": "python3"
  },
  "language_info": {
   "codemirror_mode": {
    "name": "ipython",
    "version": 3
   },
   "file_extension": ".py",
   "mimetype": "text/x-python",
   "name": "python",
   "nbconvert_exporter": "python",
   "pygments_lexer": "ipython3",
   "version": "3.8.20"
  }
 },
 "nbformat": 4,
 "nbformat_minor": 2
}
