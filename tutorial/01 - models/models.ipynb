{
 "cells": [
  {
   "cell_type": "code",
   "execution_count": 1,
   "metadata": {},
   "outputs": [],
   "source": [
    "import robosandbox as rsb\n",
    "import numpy as np"
   ]
  },
  {
   "cell_type": "markdown",
   "metadata": {},
   "source": [
    "# Models\n",
    "The \"models\" subpackage offers a variety of robotic manipulator models that use different description methodologies, such as DH parameters and screw theory. Currently, all the models can be classified into three categories:\n",
    "- DH: created using Denavit-Hartenberg Parameters, for example: `robot = rsb.models.DH.Generic.GenericFour()`, powered by (roboticstoolbox-python)[https://github.com/petercorke/robotics-toolbox-python]\n",
    "- DHLink: created using Denavit-Hartenberg Parameters, taking into consideration the design of the links.\n",
    "- MR: created using screw theory, based on (Modern Robotics)[https://hades.mech.northwestern.edu/index.php/Modern_Robotics] and (code)[https://github.com/NxRLab/ModernRobotics]\n"
   ]
  },
  {
   "cell_type": "markdown",
   "metadata": {},
   "source": [
    "## DH Models"
   ]
  },
  {
   "cell_type": "markdown",
   "metadata": {},
   "source": [
    "### Default"
   ]
  },
  {
   "cell_type": "markdown",
   "metadata": {},
   "source": [
    "We can easily define a robotic manipulate using DH parameters in RoboSandbox. To give a quick start, we can simply define and visualise it by:"
   ]
  },
  {
   "cell_type": "code",
   "execution_count": null,
   "metadata": {},
   "outputs": [],
   "source": [
    "import robosandbox.models.DH.Generic as generic\n",
    "\n",
    "robot = (\n",
    "    generic.GenericFour()\n",
    ")  # you can also define the robot using DH parameters directly\n",
    "# Define a 4-DOF robot using Denavit-Hartenberg parameters\n",
    "robot = generic.Generic(\n",
    "    dofs=4,\n",
    "    a=[0, -0.4, -0.4, -0.4],\n",
    "    d=[0.4, 0, 0, 0],\n",
    "    alpha=[np.pi / 2, 0, 0, 0],\n",
    "    qlim=[[-np.pi, np.pi]] * 4,\n",
    ")"
   ]
  },
  {
   "cell_type": "markdown",
   "metadata": {},
   "source": [
    "or using the plotly backends:"
   ]
  },
  {
   "cell_type": "code",
   "execution_count": 3,
   "metadata": {},
   "outputs": [
    {
     "data": {
      "application/vnd.plotly.v1+json": {
       "config": {
        "plotlyServerURL": "https://plot.ly"
       },
       "data": [
        {
         "line": {
          "color": "#E1706E",
          "width": 14
         },
         "mode": "lines",
         "name": "Link1",
         "type": "scatter3d",
         "x": {
          "bdata": "AAAAAAAAAAAAAAAAAAAAAA==",
          "dtype": "f8"
         },
         "y": {
          "bdata": "AAAAAAAAAAAAAAAAAAAAAA==",
          "dtype": "f8"
         },
         "z": {
          "bdata": "AAAAAAAAAACamZmZmZnZPw==",
          "dtype": "f8"
         }
        },
        {
         "line": {
          "color": "#E1706E",
          "width": 14
         },
         "mode": "lines",
         "name": "Link2",
         "type": "scatter3d",
         "x": {
          "bdata": "AAAAAAAAAACamZmZmZnZvw==",
          "dtype": "f8"
         },
         "y": {
          "bdata": "AAAAAAAAAAAAAAAAAAAAAA==",
          "dtype": "f8"
         },
         "z": {
          "bdata": "mpmZmZmZ2T+amZmZmZnZPw==",
          "dtype": "f8"
         }
        },
        {
         "line": {
          "color": "#E1706E",
          "width": 14
         },
         "mode": "lines",
         "name": "Link3",
         "type": "scatter3d",
         "x": {
          "bdata": "mpmZmZmZ2b+amZmZmZnpvw==",
          "dtype": "f8"
         },
         "y": {
          "bdata": "AAAAAAAAAAAAAAAAAAAAAA==",
          "dtype": "f8"
         },
         "z": {
          "bdata": "mpmZmZmZ2T+amZmZmZnZPw==",
          "dtype": "f8"
         }
        },
        {
         "line": {
          "color": "#E1706E",
          "width": 14
         },
         "mode": "lines",
         "name": "Link4",
         "type": "scatter3d",
         "x": {
          "bdata": "mpmZmZmZ6b80MzMzMzPzvw==",
          "dtype": "f8"
         },
         "y": {
          "bdata": "AAAAAAAAAAAAAAAAAAAAAA==",
          "dtype": "f8"
         },
         "z": {
          "bdata": "mpmZmZmZ2T+amZmZmZnZPw==",
          "dtype": "f8"
         }
        },
        {
         "line": {
          "color": "#F84752",
          "width": 5
         },
         "mode": "lines",
         "name": "X0 Axis",
         "type": "scatter3d",
         "x": [
          0,
          0.13
         ],
         "y": [
          0,
          0
         ],
         "z": [
          0,
          0
         ]
        },
        {
         "cmax": 1,
         "cmin": 0,
         "colorscale": [
          [
           0,
           "#F84752"
          ],
          [
           1,
           "#F84752"
          ]
         ],
         "showscale": false,
         "sizemode": "absolute",
         "sizeref": 0.013000000000000001,
         "type": "cone",
         "u": [
          1
         ],
         "v": [
          0
         ],
         "w": [
          0
         ],
         "x": [
          0.13
         ],
         "y": [
          0
         ],
         "z": [
          0
         ]
        },
        {
         "line": {
          "color": "#BBDA55",
          "width": 5
         },
         "mode": "lines",
         "name": "Y0 Axis",
         "type": "scatter3d",
         "x": [
          0,
          0
         ],
         "y": [
          0,
          0.13
         ],
         "z": [
          0,
          0
         ]
        },
        {
         "cmax": 1,
         "cmin": 0,
         "colorscale": [
          [
           0,
           "#BBDA55"
          ],
          [
           1,
           "#BBDA55"
          ]
         ],
         "showscale": false,
         "sizemode": "absolute",
         "sizeref": 0.013000000000000001,
         "type": "cone",
         "u": [
          0
         ],
         "v": [
          1
         ],
         "w": [
          0
         ],
         "x": [
          0
         ],
         "y": [
          0.13
         ],
         "z": [
          0
         ]
        },
        {
         "line": {
          "color": "#8EC1E1",
          "width": 5
         },
         "mode": "lines",
         "name": "Z0 Axis",
         "type": "scatter3d",
         "x": [
          0,
          0
         ],
         "y": [
          0,
          0
         ],
         "z": [
          0,
          0.13
         ]
        },
        {
         "cmax": 1,
         "cmin": 0,
         "colorscale": [
          [
           0,
           "#8EC1E1"
          ],
          [
           1,
           "#8EC1E1"
          ]
         ],
         "showscale": false,
         "sizemode": "absolute",
         "sizeref": 0.013000000000000001,
         "type": "cone",
         "u": [
          0
         ],
         "v": [
          0
         ],
         "w": [
          1
         ],
         "x": [
          0
         ],
         "y": [
          0
         ],
         "z": [
          0.13
         ]
        },
        {
         "line": {
          "color": "#F84752",
          "width": 5
         },
         "mode": "lines",
         "name": "X1 Axis",
         "type": "scatter3d",
         "x": [
          0,
          0.13
         ],
         "y": [
          0,
          0
         ],
         "z": [
          0.4,
          0.4
         ]
        },
        {
         "cmax": 1,
         "cmin": 0,
         "colorscale": [
          [
           0,
           "#F84752"
          ],
          [
           1,
           "#F84752"
          ]
         ],
         "showscale": false,
         "sizemode": "absolute",
         "sizeref": 0.013000000000000001,
         "type": "cone",
         "u": [
          1
         ],
         "v": [
          0
         ],
         "w": [
          0
         ],
         "x": [
          0.13
         ],
         "y": [
          0
         ],
         "z": [
          0.4
         ]
        },
        {
         "line": {
          "color": "#BBDA55",
          "width": 5
         },
         "mode": "lines",
         "name": "Y1 Axis",
         "type": "scatter3d",
         "x": [
          0,
          0
         ],
         "y": [
          0,
          7.960204194457797e-18
         ],
         "z": [
          0.4,
          0.53
         ]
        },
        {
         "cmax": 1,
         "cmin": 0,
         "colorscale": [
          [
           0,
           "#BBDA55"
          ],
          [
           1,
           "#BBDA55"
          ]
         ],
         "showscale": false,
         "sizemode": "absolute",
         "sizeref": 0.013000000000000001,
         "type": "cone",
         "u": [
          0
         ],
         "v": [
          6.123233995736766e-17
         ],
         "w": [
          1
         ],
         "x": [
          0
         ],
         "y": [
          7.960204194457797e-18
         ],
         "z": [
          0.53
         ]
        },
        {
         "line": {
          "color": "#8EC1E1",
          "width": 5
         },
         "mode": "lines",
         "name": "Z1 Axis",
         "type": "scatter3d",
         "x": [
          0,
          0
         ],
         "y": [
          0,
          -0.13
         ],
         "z": [
          0.4,
          0.4
         ]
        },
        {
         "cmax": 1,
         "cmin": 0,
         "colorscale": [
          [
           0,
           "#8EC1E1"
          ],
          [
           1,
           "#8EC1E1"
          ]
         ],
         "showscale": false,
         "sizemode": "absolute",
         "sizeref": 0.013000000000000001,
         "type": "cone",
         "u": [
          0
         ],
         "v": [
          -1
         ],
         "w": [
          6.123233995736766e-17
         ],
         "x": [
          0
         ],
         "y": [
          -0.13
         ],
         "z": [
          0.4
         ]
        },
        {
         "line": {
          "color": "#F84752",
          "width": 5
         },
         "mode": "lines",
         "name": "X2 Axis",
         "type": "scatter3d",
         "x": [
          -0.4,
          -0.27
         ],
         "y": [
          0,
          0
         ],
         "z": [
          0.4,
          0.4
         ]
        },
        {
         "cmax": 1,
         "cmin": 0,
         "colorscale": [
          [
           0,
           "#F84752"
          ],
          [
           1,
           "#F84752"
          ]
         ],
         "showscale": false,
         "sizemode": "absolute",
         "sizeref": 0.013000000000000001,
         "type": "cone",
         "u": [
          1
         ],
         "v": [
          0
         ],
         "w": [
          0
         ],
         "x": [
          -0.27
         ],
         "y": [
          0
         ],
         "z": [
          0.4
         ]
        },
        {
         "line": {
          "color": "#BBDA55",
          "width": 5
         },
         "mode": "lines",
         "name": "Y2 Axis",
         "type": "scatter3d",
         "x": [
          -0.4,
          -0.4
         ],
         "y": [
          0,
          7.960204194457797e-18
         ],
         "z": [
          0.4,
          0.53
         ]
        },
        {
         "cmax": 1,
         "cmin": 0,
         "colorscale": [
          [
           0,
           "#BBDA55"
          ],
          [
           1,
           "#BBDA55"
          ]
         ],
         "showscale": false,
         "sizemode": "absolute",
         "sizeref": 0.013000000000000001,
         "type": "cone",
         "u": [
          0
         ],
         "v": [
          6.123233995736766e-17
         ],
         "w": [
          1
         ],
         "x": [
          -0.4
         ],
         "y": [
          7.960204194457797e-18
         ],
         "z": [
          0.53
         ]
        },
        {
         "line": {
          "color": "#8EC1E1",
          "width": 5
         },
         "mode": "lines",
         "name": "Z2 Axis",
         "type": "scatter3d",
         "x": [
          -0.4,
          -0.4
         ],
         "y": [
          0,
          -0.13
         ],
         "z": [
          0.4,
          0.4
         ]
        },
        {
         "cmax": 1,
         "cmin": 0,
         "colorscale": [
          [
           0,
           "#8EC1E1"
          ],
          [
           1,
           "#8EC1E1"
          ]
         ],
         "showscale": false,
         "sizemode": "absolute",
         "sizeref": 0.013000000000000001,
         "type": "cone",
         "u": [
          0
         ],
         "v": [
          -1
         ],
         "w": [
          6.123233995736766e-17
         ],
         "x": [
          -0.4
         ],
         "y": [
          -0.13
         ],
         "z": [
          0.4
         ]
        },
        {
         "line": {
          "color": "#F84752",
          "width": 5
         },
         "mode": "lines",
         "name": "X3 Axis",
         "type": "scatter3d",
         "x": [
          -0.8,
          -0.67
         ],
         "y": [
          0,
          0
         ],
         "z": [
          0.4,
          0.4
         ]
        },
        {
         "cmax": 1,
         "cmin": 0,
         "colorscale": [
          [
           0,
           "#F84752"
          ],
          [
           1,
           "#F84752"
          ]
         ],
         "showscale": false,
         "sizemode": "absolute",
         "sizeref": 0.013000000000000001,
         "type": "cone",
         "u": [
          1
         ],
         "v": [
          0
         ],
         "w": [
          0
         ],
         "x": [
          -0.67
         ],
         "y": [
          0
         ],
         "z": [
          0.4
         ]
        },
        {
         "line": {
          "color": "#BBDA55",
          "width": 5
         },
         "mode": "lines",
         "name": "Y3 Axis",
         "type": "scatter3d",
         "x": [
          -0.8,
          -0.8
         ],
         "y": [
          0,
          7.960204194457797e-18
         ],
         "z": [
          0.4,
          0.53
         ]
        },
        {
         "cmax": 1,
         "cmin": 0,
         "colorscale": [
          [
           0,
           "#BBDA55"
          ],
          [
           1,
           "#BBDA55"
          ]
         ],
         "showscale": false,
         "sizemode": "absolute",
         "sizeref": 0.013000000000000001,
         "type": "cone",
         "u": [
          0
         ],
         "v": [
          6.123233995736766e-17
         ],
         "w": [
          1
         ],
         "x": [
          -0.8
         ],
         "y": [
          7.960204194457797e-18
         ],
         "z": [
          0.53
         ]
        },
        {
         "line": {
          "color": "#8EC1E1",
          "width": 5
         },
         "mode": "lines",
         "name": "Z3 Axis",
         "type": "scatter3d",
         "x": [
          -0.8,
          -0.8
         ],
         "y": [
          0,
          -0.13
         ],
         "z": [
          0.4,
          0.4
         ]
        },
        {
         "cmax": 1,
         "cmin": 0,
         "colorscale": [
          [
           0,
           "#8EC1E1"
          ],
          [
           1,
           "#8EC1E1"
          ]
         ],
         "showscale": false,
         "sizemode": "absolute",
         "sizeref": 0.013000000000000001,
         "type": "cone",
         "u": [
          0
         ],
         "v": [
          -1
         ],
         "w": [
          6.123233995736766e-17
         ],
         "x": [
          -0.8
         ],
         "y": [
          -0.13
         ],
         "z": [
          0.4
         ]
        },
        {
         "line": {
          "color": "#F84752",
          "width": 5
         },
         "mode": "lines",
         "name": "X4 Axis",
         "type": "scatter3d",
         "x": [
          -1.2000000000000002,
          -1.1350000000000002
         ],
         "y": [
          0,
          0
         ],
         "z": [
          0.4,
          0.4
         ]
        },
        {
         "cmax": 1,
         "cmin": 0,
         "colorscale": [
          [
           0,
           "#F84752"
          ],
          [
           1,
           "#F84752"
          ]
         ],
         "showscale": false,
         "sizemode": "absolute",
         "sizeref": 0.006500000000000001,
         "type": "cone",
         "u": [
          1
         ],
         "v": [
          0
         ],
         "w": [
          0
         ],
         "x": [
          -1.1350000000000002
         ],
         "y": [
          0
         ],
         "z": [
          0.4
         ]
        },
        {
         "line": {
          "color": "#BBDA55",
          "width": 5
         },
         "mode": "lines",
         "name": "Y4 Axis",
         "type": "scatter3d",
         "x": [
          -1.2000000000000002,
          -1.2000000000000002
         ],
         "y": [
          0,
          3.980102097228898e-18
         ],
         "z": [
          0.4,
          0.465
         ]
        },
        {
         "cmax": 1,
         "cmin": 0,
         "colorscale": [
          [
           0,
           "#BBDA55"
          ],
          [
           1,
           "#BBDA55"
          ]
         ],
         "showscale": false,
         "sizemode": "absolute",
         "sizeref": 0.006500000000000001,
         "type": "cone",
         "u": [
          0
         ],
         "v": [
          6.123233995736766e-17
         ],
         "w": [
          1
         ],
         "x": [
          -1.2000000000000002
         ],
         "y": [
          3.980102097228898e-18
         ],
         "z": [
          0.465
         ]
        },
        {
         "line": {
          "color": "#8EC1E1",
          "width": 5
         },
         "mode": "lines",
         "name": "Z4 Axis",
         "type": "scatter3d",
         "x": [
          -1.2000000000000002,
          -1.2000000000000002
         ],
         "y": [
          0,
          -0.065
         ],
         "z": [
          0.4,
          0.4
         ]
        },
        {
         "cmax": 1,
         "cmin": 0,
         "colorscale": [
          [
           0,
           "#8EC1E1"
          ],
          [
           1,
           "#8EC1E1"
          ]
         ],
         "showscale": false,
         "sizemode": "absolute",
         "sizeref": 0.006500000000000001,
         "type": "cone",
         "u": [
          0
         ],
         "v": [
          -1
         ],
         "w": [
          6.123233995736766e-17
         ],
         "x": [
          -1.2000000000000002
         ],
         "y": [
          -0.065
         ],
         "z": [
          0.4
         ]
        }
       ],
       "layout": {
        "height": 600,
        "scene": {
         "aspectmode": "cube",
         "camera": {
          "center": {
           "x": 0,
           "y": 0,
           "z": 0
          },
          "eye": {
           "x": 0.758946638440411,
           "y": -0.758946638440411,
           "z": 0.758946638440411
          },
          "up": {
           "x": 0,
           "y": 0,
           "z": 1
          }
         },
         "xaxis": {
          "nticks": 10,
          "range": [
           -1.391402170474087,
           1.391402170474087
          ],
          "title": {
           "text": "X"
          }
         },
         "yaxis": {
          "nticks": 10,
          "range": [
           -1.391402170474087,
           1.391402170474087
          ],
          "title": {
           "text": "Y"
          }
         },
         "zaxis": {
          "nticks": 10,
          "range": [
           -1.391402170474087,
           1.391402170474087
          ],
          "title": {
           "text": "Z"
          }
         }
        },
        "template": {
         "data": {
          "bar": [
           {
            "error_x": {
             "color": "#2a3f5f"
            },
            "error_y": {
             "color": "#2a3f5f"
            },
            "marker": {
             "line": {
              "color": "#E5ECF6",
              "width": 0.5
             },
             "pattern": {
              "fillmode": "overlay",
              "size": 10,
              "solidity": 0.2
             }
            },
            "type": "bar"
           }
          ],
          "barpolar": [
           {
            "marker": {
             "line": {
              "color": "#E5ECF6",
              "width": 0.5
             },
             "pattern": {
              "fillmode": "overlay",
              "size": 10,
              "solidity": 0.2
             }
            },
            "type": "barpolar"
           }
          ],
          "carpet": [
           {
            "aaxis": {
             "endlinecolor": "#2a3f5f",
             "gridcolor": "white",
             "linecolor": "white",
             "minorgridcolor": "white",
             "startlinecolor": "#2a3f5f"
            },
            "baxis": {
             "endlinecolor": "#2a3f5f",
             "gridcolor": "white",
             "linecolor": "white",
             "minorgridcolor": "white",
             "startlinecolor": "#2a3f5f"
            },
            "type": "carpet"
           }
          ],
          "choropleth": [
           {
            "colorbar": {
             "outlinewidth": 0,
             "ticks": ""
            },
            "type": "choropleth"
           }
          ],
          "contour": [
           {
            "colorbar": {
             "outlinewidth": 0,
             "ticks": ""
            },
            "colorscale": [
             [
              0,
              "#0d0887"
             ],
             [
              0.1111111111111111,
              "#46039f"
             ],
             [
              0.2222222222222222,
              "#7201a8"
             ],
             [
              0.3333333333333333,
              "#9c179e"
             ],
             [
              0.4444444444444444,
              "#bd3786"
             ],
             [
              0.5555555555555556,
              "#d8576b"
             ],
             [
              0.6666666666666666,
              "#ed7953"
             ],
             [
              0.7777777777777778,
              "#fb9f3a"
             ],
             [
              0.8888888888888888,
              "#fdca26"
             ],
             [
              1,
              "#f0f921"
             ]
            ],
            "type": "contour"
           }
          ],
          "contourcarpet": [
           {
            "colorbar": {
             "outlinewidth": 0,
             "ticks": ""
            },
            "type": "contourcarpet"
           }
          ],
          "heatmap": [
           {
            "colorbar": {
             "outlinewidth": 0,
             "ticks": ""
            },
            "colorscale": [
             [
              0,
              "#0d0887"
             ],
             [
              0.1111111111111111,
              "#46039f"
             ],
             [
              0.2222222222222222,
              "#7201a8"
             ],
             [
              0.3333333333333333,
              "#9c179e"
             ],
             [
              0.4444444444444444,
              "#bd3786"
             ],
             [
              0.5555555555555556,
              "#d8576b"
             ],
             [
              0.6666666666666666,
              "#ed7953"
             ],
             [
              0.7777777777777778,
              "#fb9f3a"
             ],
             [
              0.8888888888888888,
              "#fdca26"
             ],
             [
              1,
              "#f0f921"
             ]
            ],
            "type": "heatmap"
           }
          ],
          "histogram": [
           {
            "marker": {
             "pattern": {
              "fillmode": "overlay",
              "size": 10,
              "solidity": 0.2
             }
            },
            "type": "histogram"
           }
          ],
          "histogram2d": [
           {
            "colorbar": {
             "outlinewidth": 0,
             "ticks": ""
            },
            "colorscale": [
             [
              0,
              "#0d0887"
             ],
             [
              0.1111111111111111,
              "#46039f"
             ],
             [
              0.2222222222222222,
              "#7201a8"
             ],
             [
              0.3333333333333333,
              "#9c179e"
             ],
             [
              0.4444444444444444,
              "#bd3786"
             ],
             [
              0.5555555555555556,
              "#d8576b"
             ],
             [
              0.6666666666666666,
              "#ed7953"
             ],
             [
              0.7777777777777778,
              "#fb9f3a"
             ],
             [
              0.8888888888888888,
              "#fdca26"
             ],
             [
              1,
              "#f0f921"
             ]
            ],
            "type": "histogram2d"
           }
          ],
          "histogram2dcontour": [
           {
            "colorbar": {
             "outlinewidth": 0,
             "ticks": ""
            },
            "colorscale": [
             [
              0,
              "#0d0887"
             ],
             [
              0.1111111111111111,
              "#46039f"
             ],
             [
              0.2222222222222222,
              "#7201a8"
             ],
             [
              0.3333333333333333,
              "#9c179e"
             ],
             [
              0.4444444444444444,
              "#bd3786"
             ],
             [
              0.5555555555555556,
              "#d8576b"
             ],
             [
              0.6666666666666666,
              "#ed7953"
             ],
             [
              0.7777777777777778,
              "#fb9f3a"
             ],
             [
              0.8888888888888888,
              "#fdca26"
             ],
             [
              1,
              "#f0f921"
             ]
            ],
            "type": "histogram2dcontour"
           }
          ],
          "mesh3d": [
           {
            "colorbar": {
             "outlinewidth": 0,
             "ticks": ""
            },
            "type": "mesh3d"
           }
          ],
          "parcoords": [
           {
            "line": {
             "colorbar": {
              "outlinewidth": 0,
              "ticks": ""
             }
            },
            "type": "parcoords"
           }
          ],
          "pie": [
           {
            "automargin": true,
            "type": "pie"
           }
          ],
          "scatter": [
           {
            "fillpattern": {
             "fillmode": "overlay",
             "size": 10,
             "solidity": 0.2
            },
            "type": "scatter"
           }
          ],
          "scatter3d": [
           {
            "line": {
             "colorbar": {
              "outlinewidth": 0,
              "ticks": ""
             }
            },
            "marker": {
             "colorbar": {
              "outlinewidth": 0,
              "ticks": ""
             }
            },
            "type": "scatter3d"
           }
          ],
          "scattercarpet": [
           {
            "marker": {
             "colorbar": {
              "outlinewidth": 0,
              "ticks": ""
             }
            },
            "type": "scattercarpet"
           }
          ],
          "scattergeo": [
           {
            "marker": {
             "colorbar": {
              "outlinewidth": 0,
              "ticks": ""
             }
            },
            "type": "scattergeo"
           }
          ],
          "scattergl": [
           {
            "marker": {
             "colorbar": {
              "outlinewidth": 0,
              "ticks": ""
             }
            },
            "type": "scattergl"
           }
          ],
          "scattermap": [
           {
            "marker": {
             "colorbar": {
              "outlinewidth": 0,
              "ticks": ""
             }
            },
            "type": "scattermap"
           }
          ],
          "scattermapbox": [
           {
            "marker": {
             "colorbar": {
              "outlinewidth": 0,
              "ticks": ""
             }
            },
            "type": "scattermapbox"
           }
          ],
          "scatterpolar": [
           {
            "marker": {
             "colorbar": {
              "outlinewidth": 0,
              "ticks": ""
             }
            },
            "type": "scatterpolar"
           }
          ],
          "scatterpolargl": [
           {
            "marker": {
             "colorbar": {
              "outlinewidth": 0,
              "ticks": ""
             }
            },
            "type": "scatterpolargl"
           }
          ],
          "scatterternary": [
           {
            "marker": {
             "colorbar": {
              "outlinewidth": 0,
              "ticks": ""
             }
            },
            "type": "scatterternary"
           }
          ],
          "surface": [
           {
            "colorbar": {
             "outlinewidth": 0,
             "ticks": ""
            },
            "colorscale": [
             [
              0,
              "#0d0887"
             ],
             [
              0.1111111111111111,
              "#46039f"
             ],
             [
              0.2222222222222222,
              "#7201a8"
             ],
             [
              0.3333333333333333,
              "#9c179e"
             ],
             [
              0.4444444444444444,
              "#bd3786"
             ],
             [
              0.5555555555555556,
              "#d8576b"
             ],
             [
              0.6666666666666666,
              "#ed7953"
             ],
             [
              0.7777777777777778,
              "#fb9f3a"
             ],
             [
              0.8888888888888888,
              "#fdca26"
             ],
             [
              1,
              "#f0f921"
             ]
            ],
            "type": "surface"
           }
          ],
          "table": [
           {
            "cells": {
             "fill": {
              "color": "#EBF0F8"
             },
             "line": {
              "color": "white"
             }
            },
            "header": {
             "fill": {
              "color": "#C8D4E3"
             },
             "line": {
              "color": "white"
             }
            },
            "type": "table"
           }
          ]
         },
         "layout": {
          "annotationdefaults": {
           "arrowcolor": "#2a3f5f",
           "arrowhead": 0,
           "arrowwidth": 1
          },
          "autotypenumbers": "strict",
          "coloraxis": {
           "colorbar": {
            "outlinewidth": 0,
            "ticks": ""
           }
          },
          "colorscale": {
           "diverging": [
            [
             0,
             "#8e0152"
            ],
            [
             0.1,
             "#c51b7d"
            ],
            [
             0.2,
             "#de77ae"
            ],
            [
             0.3,
             "#f1b6da"
            ],
            [
             0.4,
             "#fde0ef"
            ],
            [
             0.5,
             "#f7f7f7"
            ],
            [
             0.6,
             "#e6f5d0"
            ],
            [
             0.7,
             "#b8e186"
            ],
            [
             0.8,
             "#7fbc41"
            ],
            [
             0.9,
             "#4d9221"
            ],
            [
             1,
             "#276419"
            ]
           ],
           "sequential": [
            [
             0,
             "#0d0887"
            ],
            [
             0.1111111111111111,
             "#46039f"
            ],
            [
             0.2222222222222222,
             "#7201a8"
            ],
            [
             0.3333333333333333,
             "#9c179e"
            ],
            [
             0.4444444444444444,
             "#bd3786"
            ],
            [
             0.5555555555555556,
             "#d8576b"
            ],
            [
             0.6666666666666666,
             "#ed7953"
            ],
            [
             0.7777777777777778,
             "#fb9f3a"
            ],
            [
             0.8888888888888888,
             "#fdca26"
            ],
            [
             1,
             "#f0f921"
            ]
           ],
           "sequentialminus": [
            [
             0,
             "#0d0887"
            ],
            [
             0.1111111111111111,
             "#46039f"
            ],
            [
             0.2222222222222222,
             "#7201a8"
            ],
            [
             0.3333333333333333,
             "#9c179e"
            ],
            [
             0.4444444444444444,
             "#bd3786"
            ],
            [
             0.5555555555555556,
             "#d8576b"
            ],
            [
             0.6666666666666666,
             "#ed7953"
            ],
            [
             0.7777777777777778,
             "#fb9f3a"
            ],
            [
             0.8888888888888888,
             "#fdca26"
            ],
            [
             1,
             "#f0f921"
            ]
           ]
          },
          "colorway": [
           "#636efa",
           "#EF553B",
           "#00cc96",
           "#ab63fa",
           "#FFA15A",
           "#19d3f3",
           "#FF6692",
           "#B6E880",
           "#FF97FF",
           "#FECB52"
          ],
          "font": {
           "color": "#2a3f5f"
          },
          "geo": {
           "bgcolor": "white",
           "lakecolor": "white",
           "landcolor": "#E5ECF6",
           "showlakes": true,
           "showland": true,
           "subunitcolor": "white"
          },
          "hoverlabel": {
           "align": "left"
          },
          "hovermode": "closest",
          "mapbox": {
           "style": "light"
          },
          "paper_bgcolor": "white",
          "plot_bgcolor": "#E5ECF6",
          "polar": {
           "angularaxis": {
            "gridcolor": "white",
            "linecolor": "white",
            "ticks": ""
           },
           "bgcolor": "#E5ECF6",
           "radialaxis": {
            "gridcolor": "white",
            "linecolor": "white",
            "ticks": ""
           }
          },
          "scene": {
           "xaxis": {
            "backgroundcolor": "#E5ECF6",
            "gridcolor": "white",
            "gridwidth": 2,
            "linecolor": "white",
            "showbackground": true,
            "ticks": "",
            "zerolinecolor": "white"
           },
           "yaxis": {
            "backgroundcolor": "#E5ECF6",
            "gridcolor": "white",
            "gridwidth": 2,
            "linecolor": "white",
            "showbackground": true,
            "ticks": "",
            "zerolinecolor": "white"
           },
           "zaxis": {
            "backgroundcolor": "#E5ECF6",
            "gridcolor": "white",
            "gridwidth": 2,
            "linecolor": "white",
            "showbackground": true,
            "ticks": "",
            "zerolinecolor": "white"
           }
          },
          "shapedefaults": {
           "line": {
            "color": "#2a3f5f"
           }
          },
          "ternary": {
           "aaxis": {
            "gridcolor": "white",
            "linecolor": "white",
            "ticks": ""
           },
           "baxis": {
            "gridcolor": "white",
            "linecolor": "white",
            "ticks": ""
           },
           "bgcolor": "#E5ECF6",
           "caxis": {
            "gridcolor": "white",
            "linecolor": "white",
            "ticks": ""
           }
          },
          "title": {
           "x": 0.05
          },
          "xaxis": {
           "automargin": true,
           "gridcolor": "white",
           "linecolor": "white",
           "ticks": "",
           "title": {
            "standoff": 15
           },
           "zerolinecolor": "white",
           "zerolinewidth": 2
          },
          "yaxis": {
           "automargin": true,
           "gridcolor": "white",
           "linecolor": "white",
           "ticks": "",
           "title": {
            "standoff": 15
           },
           "zerolinecolor": "white",
           "zerolinewidth": 2
          }
         }
        },
        "width": 700
       }
      }
     },
     "metadata": {},
     "output_type": "display_data"
    },
    {
     "data": {
      "image/png": "[encoded data removed]"
     },
     "metadata": {},
     "output_type": "display_data"
    }
   ],
   "source": [
    "fig = robot.plotly(\n",
    "    robot.qz, save=True, path=\"./fig/g4_plotly.png\", zoom_factor=0.6\n",
    ")  # zero configuration\n",
    "fig.show(\"png\")"
   ]
  },
  {
   "cell_type": "markdown",
   "metadata": {},
   "source": [
    "### Make a change"
   ]
  },
  {
   "cell_type": "markdown",
   "metadata": {},
   "source": [
    "Beginning with the default settings, we can easily adjust the robot's link length and actuator directions. These are important design parameters that we will explore further in the optimization chapter."
   ]
  },
  {
   "cell_type": "code",
   "execution_count": 4,
   "metadata": {},
   "outputs": [
    {
     "data": {
      "application/vnd.plotly.v1+json": {
       "config": {
        "plotlyServerURL": "https://plot.ly"
       },
       "data": [
        {
         "line": {
          "color": "#E1706E",
          "width": 14
         },
         "mode": "lines",
         "name": "Link1",
         "type": "scatter3d",
         "x": {
          "bdata": "AAAAAAAAAAAAAAAAAAAAAA==",
          "dtype": "f8"
         },
         "y": {
          "bdata": "AAAAAAAAAAAAAAAAAAAAAA==",
          "dtype": "f8"
         },
         "z": {
          "bdata": "AAAAAAAAAAAAAAAAAADgPw==",
          "dtype": "f8"
         }
        },
        {
         "line": {
          "color": "#E1706E",
          "width": 14
         },
         "mode": "lines",
         "name": "Link2",
         "type": "scatter3d",
         "x": {
          "bdata": "AAAAAAAAAAAHXBQzJqaBvA==",
          "dtype": "f8"
         },
         "y": {
          "bdata": "AAAAAAAAAAAAAAAAAADgPw==",
          "dtype": "f8"
         },
         "z": {
          "bdata": "AAAAAAAA4D8AAAAAAADgPw==",
          "dtype": "f8"
         }
        },
        {
         "line": {
          "color": "#E1706E",
          "width": 14
         },
         "mode": "lines",
         "name": "Link3",
         "type": "scatter3d",
         "x": {
          "bdata": "B1wUMyamgbwHXBQzJqaRvA==",
          "dtype": "f8"
         },
         "y": {
          "bdata": "AAAAAAAA4D8AAAAAAADwPw==",
          "dtype": "f8"
         },
         "z": {
          "bdata": "AAAAAAAA4D8AAAAAAADgPw==",
          "dtype": "f8"
         }
        },
        {
         "line": {
          "color": "#E1706E",
          "width": 14
         },
         "mode": "lines",
         "name": "Link4",
         "type": "scatter3d",
         "x": {
          "bdata": "B1wUMyamkbwKip5MOXmavA==",
          "dtype": "f8"
         },
         "y": {
          "bdata": "AAAAAAAA8D8AAAAAAAD4Pw==",
          "dtype": "f8"
         },
         "z": {
          "bdata": "AAAAAAAA4D8AAAAAAADgPw==",
          "dtype": "f8"
         }
        },
        {
         "line": {
          "color": "#F84752",
          "width": 5
         },
         "mode": "lines",
         "name": "X0 Axis",
         "type": "scatter3d",
         "x": [
          0,
          0.16
         ],
         "y": [
          0,
          0
         ],
         "z": [
          0,
          0
         ]
        },
        {
         "cmax": 1,
         "cmin": 0,
         "colorscale": [
          [
           0,
           "#F84752"
          ],
          [
           1,
           "#F84752"
          ]
         ],
         "showscale": false,
         "sizemode": "absolute",
         "sizeref": 0.016,
         "type": "cone",
         "u": [
          1
         ],
         "v": [
          0
         ],
         "w": [
          0
         ],
         "x": [
          0.16
         ],
         "y": [
          0
         ],
         "z": [
          0
         ]
        },
        {
         "line": {
          "color": "#BBDA55",
          "width": 5
         },
         "mode": "lines",
         "name": "Y0 Axis",
         "type": "scatter3d",
         "x": [
          0,
          0
         ],
         "y": [
          0,
          0.16
         ],
         "z": [
          0,
          0
         ]
        },
        {
         "cmax": 1,
         "cmin": 0,
         "colorscale": [
          [
           0,
           "#BBDA55"
          ],
          [
           1,
           "#BBDA55"
          ]
         ],
         "showscale": false,
         "sizemode": "absolute",
         "sizeref": 0.016,
         "type": "cone",
         "u": [
          0
         ],
         "v": [
          1
         ],
         "w": [
          0
         ],
         "x": [
          0
         ],
         "y": [
          0.16
         ],
         "z": [
          0
         ]
        },
        {
         "line": {
          "color": "#8EC1E1",
          "width": 5
         },
         "mode": "lines",
         "name": "Z0 Axis",
         "type": "scatter3d",
         "x": [
          0,
          0
         ],
         "y": [
          0,
          0
         ],
         "z": [
          0,
          0.16
         ]
        },
        {
         "cmax": 1,
         "cmin": 0,
         "colorscale": [
          [
           0,
           "#8EC1E1"
          ],
          [
           1,
           "#8EC1E1"
          ]
         ],
         "showscale": false,
         "sizemode": "absolute",
         "sizeref": 0.016,
         "type": "cone",
         "u": [
          0
         ],
         "v": [
          0
         ],
         "w": [
          1
         ],
         "x": [
          0
         ],
         "y": [
          0
         ],
         "z": [
          0.16
         ]
        },
        {
         "line": {
          "color": "#F84752",
          "width": 5
         },
         "mode": "lines",
         "name": "X1 Axis",
         "type": "scatter3d",
         "x": [
          0,
          0.16
         ],
         "y": [
          0,
          0
         ],
         "z": [
          0.5,
          0.5
         ]
        },
        {
         "cmax": 1,
         "cmin": 0,
         "colorscale": [
          [
           0,
           "#F84752"
          ],
          [
           1,
           "#F84752"
          ]
         ],
         "showscale": false,
         "sizemode": "absolute",
         "sizeref": 0.016,
         "type": "cone",
         "u": [
          1
         ],
         "v": [
          0
         ],
         "w": [
          0
         ],
         "x": [
          0.16
         ],
         "y": [
          0
         ],
         "z": [
          0.5
         ]
        },
        {
         "line": {
          "color": "#BBDA55",
          "width": 5
         },
         "mode": "lines",
         "name": "Y1 Axis",
         "type": "scatter3d",
         "x": [
          0,
          0
         ],
         "y": [
          0,
          0.16
         ],
         "z": [
          0.5,
          0.5
         ]
        },
        {
         "cmax": 1,
         "cmin": 0,
         "colorscale": [
          [
           0,
           "#BBDA55"
          ],
          [
           1,
           "#BBDA55"
          ]
         ],
         "showscale": false,
         "sizemode": "absolute",
         "sizeref": 0.016,
         "type": "cone",
         "u": [
          0
         ],
         "v": [
          1
         ],
         "w": [
          0
         ],
         "x": [
          0
         ],
         "y": [
          0.16
         ],
         "z": [
          0.5
         ]
        },
        {
         "line": {
          "color": "#8EC1E1",
          "width": 5
         },
         "mode": "lines",
         "name": "Z1 Axis",
         "type": "scatter3d",
         "x": [
          0,
          0
         ],
         "y": [
          0,
          0
         ],
         "z": [
          0.5,
          0.66
         ]
        },
        {
         "cmax": 1,
         "cmin": 0,
         "colorscale": [
          [
           0,
           "#8EC1E1"
          ],
          [
           1,
           "#8EC1E1"
          ]
         ],
         "showscale": false,
         "sizemode": "absolute",
         "sizeref": 0.016,
         "type": "cone",
         "u": [
          0
         ],
         "v": [
          0
         ],
         "w": [
          1
         ],
         "x": [
          0
         ],
         "y": [
          0
         ],
         "z": [
          0.66
         ]
        },
        {
         "line": {
          "color": "#F84752",
          "width": 5
         },
         "mode": "lines",
         "name": "X2 Axis",
         "type": "scatter3d",
         "x": [
          -3.061616997868383e-17,
          -2.0818995585505005e-17
         ],
         "y": [
          0.5,
          0.33999999999999997
         ],
         "z": [
          0.5,
          0.5
         ]
        },
        {
         "cmax": 1,
         "cmin": 0,
         "colorscale": [
          [
           0,
           "#F84752"
          ],
          [
           1,
           "#F84752"
          ]
         ],
         "showscale": false,
         "sizemode": "absolute",
         "sizeref": 0.016,
         "type": "cone",
         "u": [
          6.123233995736766e-17
         ],
         "v": [
          -1
         ],
         "w": [
          0
         ],
         "x": [
          -2.0818995585505005e-17
         ],
         "y": [
          0.33999999999999997
         ],
         "z": [
          0.5
         ]
        },
        {
         "line": {
          "color": "#BBDA55",
          "width": 5
         },
         "mode": "lines",
         "name": "Y2 Axis",
         "type": "scatter3d",
         "x": [
          -3.061616997868383e-17,
          -2.0818995585505005e-17
         ],
         "y": [
          0.5,
          0.5
         ],
         "z": [
          0.5,
          0.66
         ]
        },
        {
         "cmax": 1,
         "cmin": 0,
         "colorscale": [
          [
           0,
           "#BBDA55"
          ],
          [
           1,
           "#BBDA55"
          ]
         ],
         "showscale": false,
         "sizemode": "absolute",
         "sizeref": 0.016,
         "type": "cone",
         "u": [
          6.123233995736766e-17
         ],
         "v": [
          3.749399456654644e-33
         ],
         "w": [
          1
         ],
         "x": [
          -2.0818995585505005e-17
         ],
         "y": [
          0.5
         ],
         "z": [
          0.66
         ]
        },
        {
         "line": {
          "color": "#8EC1E1",
          "width": 5
         },
         "mode": "lines",
         "name": "Z2 Axis",
         "type": "scatter3d",
         "x": [
          -3.061616997868383e-17,
          -0.16000000000000003
         ],
         "y": [
          0.5,
          0.5
         ],
         "z": [
          0.5,
          0.5
         ]
        },
        {
         "cmax": 1,
         "cmin": 0,
         "colorscale": [
          [
           0,
           "#8EC1E1"
          ],
          [
           1,
           "#8EC1E1"
          ]
         ],
         "showscale": false,
         "sizemode": "absolute",
         "sizeref": 0.016,
         "type": "cone",
         "u": [
          -1
         ],
         "v": [
          -6.123233995736766e-17
         ],
         "w": [
          6.123233995736766e-17
         ],
         "x": [
          -0.16000000000000003
         ],
         "y": [
          0.5
         ],
         "z": [
          0.5
         ]
        },
        {
         "line": {
          "color": "#F84752",
          "width": 5
         },
         "mode": "lines",
         "name": "X3 Axis",
         "type": "scatter3d",
         "x": [
          -6.123233995736766e-17,
          -5.143516556418883e-17
         ],
         "y": [
          1,
          0.84
         ],
         "z": [
          0.5,
          0.5
         ]
        },
        {
         "cmax": 1,
         "cmin": 0,
         "colorscale": [
          [
           0,
           "#F84752"
          ],
          [
           1,
           "#F84752"
          ]
         ],
         "showscale": false,
         "sizemode": "absolute",
         "sizeref": 0.016,
         "type": "cone",
         "u": [
          6.123233995736766e-17
         ],
         "v": [
          -1
         ],
         "w": [
          0
         ],
         "x": [
          -5.143516556418883e-17
         ],
         "y": [
          0.84
         ],
         "z": [
          0.5
         ]
        },
        {
         "line": {
          "color": "#BBDA55",
          "width": 5
         },
         "mode": "lines",
         "name": "Y3 Axis",
         "type": "scatter3d",
         "x": [
          -6.123233995736766e-17,
          -0.16000000000000006
         ],
         "y": [
          1,
          1
         ],
         "z": [
          0.5,
          0.5
         ]
        },
        {
         "cmax": 1,
         "cmin": 0,
         "colorscale": [
          [
           0,
           "#BBDA55"
          ],
          [
           1,
           "#BBDA55"
          ]
         ],
         "showscale": false,
         "sizemode": "absolute",
         "sizeref": 0.016,
         "type": "cone",
         "u": [
          -1
         ],
         "v": [
          -6.123233995736766e-17
         ],
         "w": [
          1.2246467991473532e-16
         ],
         "x": [
          -0.16000000000000006
         ],
         "y": [
          1
         ],
         "z": [
          0.5
         ]
        },
        {
         "line": {
          "color": "#8EC1E1",
          "width": 5
         },
         "mode": "lines",
         "name": "Z3 Axis",
         "type": "scatter3d",
         "x": [
          -6.123233995736766e-17,
          -8.08266887437253e-17
         ],
         "y": [
          1,
          1
         ],
         "z": [
          0.5,
          0.33999999999999997
         ]
        },
        {
         "cmax": 1,
         "cmin": 0,
         "colorscale": [
          [
           0,
           "#8EC1E1"
          ],
          [
           1,
           "#8EC1E1"
          ]
         ],
         "showscale": false,
         "sizemode": "absolute",
         "sizeref": 0.016,
         "type": "cone",
         "u": [
          -1.2246467991473532e-16
         ],
         "v": [
          -7.498798913309288e-33
         ],
         "w": [
          -1
         ],
         "x": [
          -8.08266887437253e-17
         ],
         "y": [
          1
         ],
         "z": [
          0.33999999999999997
         ]
        },
        {
         "line": {
          "color": "#F84752",
          "width": 5
         },
         "mode": "lines",
         "name": "X4 Axis",
         "type": "scatter3d",
         "x": [
          -9.184850993605148e-17,
          -8.694992273946207e-17
         ],
         "y": [
          1.5,
          1.42
         ],
         "z": [
          0.5,
          0.5
         ]
        },
        {
         "cmax": 1,
         "cmin": 0,
         "colorscale": [
          [
           0,
           "#F84752"
          ],
          [
           1,
           "#F84752"
          ]
         ],
         "showscale": false,
         "sizemode": "absolute",
         "sizeref": 0.008,
         "type": "cone",
         "u": [
          6.123233995736766e-17
         ],
         "v": [
          -1
         ],
         "w": [
          0
         ],
         "x": [
          -8.694992273946207e-17
         ],
         "y": [
          1.42
         ],
         "z": [
          0.5
         ]
        },
        {
         "line": {
          "color": "#BBDA55",
          "width": 5
         },
         "mode": "lines",
         "name": "Y4 Axis",
         "type": "scatter3d",
         "x": [
          -9.184850993605148e-17,
          -0.0800000000000001
         ],
         "y": [
          1.5,
          1.5
         ],
         "z": [
          0.5,
          0.5
         ]
        },
        {
         "cmax": 1,
         "cmin": 0,
         "colorscale": [
          [
           0,
           "#BBDA55"
          ],
          [
           1,
           "#BBDA55"
          ]
         ],
         "showscale": false,
         "sizemode": "absolute",
         "sizeref": 0.008,
         "type": "cone",
         "u": [
          -1
         ],
         "v": [
          -6.123233995736766e-17
         ],
         "w": [
          1.2246467991473532e-16
         ],
         "x": [
          -0.0800000000000001
         ],
         "y": [
          1.5
         ],
         "z": [
          0.5
         ]
        },
        {
         "line": {
          "color": "#8EC1E1",
          "width": 5
         },
         "mode": "lines",
         "name": "Z4 Axis",
         "type": "scatter3d",
         "x": [
          -9.184850993605148e-17,
          -1.0164568432923031e-16
         ],
         "y": [
          1.5,
          1.5
         ],
         "z": [
          0.5,
          0.42
         ]
        },
        {
         "cmax": 1,
         "cmin": 0,
         "colorscale": [
          [
           0,
           "#8EC1E1"
          ],
          [
           1,
           "#8EC1E1"
          ]
         ],
         "showscale": false,
         "sizemode": "absolute",
         "sizeref": 0.008,
         "type": "cone",
         "u": [
          -1.2246467991473532e-16
         ],
         "v": [
          -7.498798913309288e-33
         ],
         "w": [
          -1
         ],
         "x": [
          -1.0164568432923031e-16
         ],
         "y": [
          1.5
         ],
         "z": [
          0.42
         ]
        }
       ],
       "layout": {
        "height": 600,
        "scene": {
         "aspectmode": "cube",
         "camera": {
          "center": {
           "x": 0,
           "y": 0,
           "z": 0
          },
          "eye": {
           "x": 0.9486832980505138,
           "y": -0.9486832980505138,
           "z": 0.9486832980505138
          },
          "up": {
           "x": 0,
           "y": 0,
           "z": 1
          }
         },
         "xaxis": {
          "nticks": 10,
          "range": [
           -1.739252713092609,
           1.739252713092609
          ],
          "title": {
           "text": "X"
          }
         },
         "yaxis": {
          "nticks": 10,
          "range": [
           -1.739252713092609,
           1.739252713092609
          ],
          "title": {
           "text": "Y"
          }
         },
         "zaxis": {
          "nticks": 10,
          "range": [
           -1.739252713092609,
           1.739252713092609
          ],
          "title": {
           "text": "Z"
          }
         }
        },
        "template": {
         "data": {
          "bar": [
           {
            "error_x": {
             "color": "#2a3f5f"
            },
            "error_y": {
             "color": "#2a3f5f"
            },
            "marker": {
             "line": {
              "color": "#E5ECF6",
              "width": 0.5
             },
             "pattern": {
              "fillmode": "overlay",
              "size": 10,
              "solidity": 0.2
             }
            },
            "type": "bar"
           }
          ],
          "barpolar": [
           {
            "marker": {
             "line": {
              "color": "#E5ECF6",
              "width": 0.5
             },
             "pattern": {
              "fillmode": "overlay",
              "size": 10,
              "solidity": 0.2
             }
            },
            "type": "barpolar"
           }
          ],
          "carpet": [
           {
            "aaxis": {
             "endlinecolor": "#2a3f5f",
             "gridcolor": "white",
             "linecolor": "white",
             "minorgridcolor": "white",
             "startlinecolor": "#2a3f5f"
            },
            "baxis": {
             "endlinecolor": "#2a3f5f",
             "gridcolor": "white",
             "linecolor": "white",
             "minorgridcolor": "white",
             "startlinecolor": "#2a3f5f"
            },
            "type": "carpet"
           }
          ],
          "choropleth": [
           {
            "colorbar": {
             "outlinewidth": 0,
             "ticks": ""
            },
            "type": "choropleth"
           }
          ],
          "contour": [
           {
            "colorbar": {
             "outlinewidth": 0,
             "ticks": ""
            },
            "colorscale": [
             [
              0,
              "#0d0887"
             ],
             [
              0.1111111111111111,
              "#46039f"
             ],
             [
              0.2222222222222222,
              "#7201a8"
             ],
             [
              0.3333333333333333,
              "#9c179e"
             ],
             [
              0.4444444444444444,
              "#bd3786"
             ],
             [
              0.5555555555555556,
              "#d8576b"
             ],
             [
              0.6666666666666666,
              "#ed7953"
             ],
             [
              0.7777777777777778,
              "#fb9f3a"
             ],
             [
              0.8888888888888888,
              "#fdca26"
             ],
             [
              1,
              "#f0f921"
             ]
            ],
            "type": "contour"
           }
          ],
          "contourcarpet": [
           {
            "colorbar": {
             "outlinewidth": 0,
             "ticks": ""
            },
            "type": "contourcarpet"
           }
          ],
          "heatmap": [
           {
            "colorbar": {
             "outlinewidth": 0,
             "ticks": ""
            },
            "colorscale": [
             [
              0,
              "#0d0887"
             ],
             [
              0.1111111111111111,
              "#46039f"
             ],
             [
              0.2222222222222222,
              "#7201a8"
             ],
             [
              0.3333333333333333,
              "#9c179e"
             ],
             [
              0.4444444444444444,
              "#bd3786"
             ],
             [
              0.5555555555555556,
              "#d8576b"
             ],
             [
              0.6666666666666666,
              "#ed7953"
             ],
             [
              0.7777777777777778,
              "#fb9f3a"
             ],
             [
              0.8888888888888888,
              "#fdca26"
             ],
             [
              1,
              "#f0f921"
             ]
            ],
            "type": "heatmap"
           }
          ],
          "histogram": [
           {
            "marker": {
             "pattern": {
              "fillmode": "overlay",
              "size": 10,
              "solidity": 0.2
             }
            },
            "type": "histogram"
           }
          ],
          "histogram2d": [
           {
            "colorbar": {
             "outlinewidth": 0,
             "ticks": ""
            },
            "colorscale": [
             [
              0,
              "#0d0887"
             ],
             [
              0.1111111111111111,
              "#46039f"
             ],
             [
              0.2222222222222222,
              "#7201a8"
             ],
             [
              0.3333333333333333,
              "#9c179e"
             ],
             [
              0.4444444444444444,
              "#bd3786"
             ],
             [
              0.5555555555555556,
              "#d8576b"
             ],
             [
              0.6666666666666666,
              "#ed7953"
             ],
             [
              0.7777777777777778,
              "#fb9f3a"
             ],
             [
              0.8888888888888888,
              "#fdca26"
             ],
             [
              1,
              "#f0f921"
             ]
            ],
            "type": "histogram2d"
           }
          ],
          "histogram2dcontour": [
           {
            "colorbar": {
             "outlinewidth": 0,
             "ticks": ""
            },
            "colorscale": [
             [
              0,
              "#0d0887"
             ],
             [
              0.1111111111111111,
              "#46039f"
             ],
             [
              0.2222222222222222,
              "#7201a8"
             ],
             [
              0.3333333333333333,
              "#9c179e"
             ],
             [
              0.4444444444444444,
              "#bd3786"
             ],
             [
              0.5555555555555556,
              "#d8576b"
             ],
             [
              0.6666666666666666,
              "#ed7953"
             ],
             [
              0.7777777777777778,
              "#fb9f3a"
             ],
             [
              0.8888888888888888,
              "#fdca26"
             ],
             [
              1,
              "#f0f921"
             ]
            ],
            "type": "histogram2dcontour"
           }
          ],
          "mesh3d": [
           {
            "colorbar": {
             "outlinewidth": 0,
             "ticks": ""
            },
            "type": "mesh3d"
           }
          ],
          "parcoords": [
           {
            "line": {
             "colorbar": {
              "outlinewidth": 0,
              "ticks": ""
             }
            },
            "type": "parcoords"
           }
          ],
          "pie": [
           {
            "automargin": true,
            "type": "pie"
           }
          ],
          "scatter": [
           {
            "fillpattern": {
             "fillmode": "overlay",
             "size": 10,
             "solidity": 0.2
            },
            "type": "scatter"
           }
          ],
          "scatter3d": [
           {
            "line": {
             "colorbar": {
              "outlinewidth": 0,
              "ticks": ""
             }
            },
            "marker": {
             "colorbar": {
              "outlinewidth": 0,
              "ticks": ""
             }
            },
            "type": "scatter3d"
           }
          ],
          "scattercarpet": [
           {
            "marker": {
             "colorbar": {
              "outlinewidth": 0,
              "ticks": ""
             }
            },
            "type": "scattercarpet"
           }
          ],
          "scattergeo": [
           {
            "marker": {
             "colorbar": {
              "outlinewidth": 0,
              "ticks": ""
             }
            },
            "type": "scattergeo"
           }
          ],
          "scattergl": [
           {
            "marker": {
             "colorbar": {
              "outlinewidth": 0,
              "ticks": ""
             }
            },
            "type": "scattergl"
           }
          ],
          "scattermap": [
           {
            "marker": {
             "colorbar": {
              "outlinewidth": 0,
              "ticks": ""
             }
            },
            "type": "scattermap"
           }
          ],
          "scattermapbox": [
           {
            "marker": {
             "colorbar": {
              "outlinewidth": 0,
              "ticks": ""
             }
            },
            "type": "scattermapbox"
           }
          ],
          "scatterpolar": [
           {
            "marker": {
             "colorbar": {
              "outlinewidth": 0,
              "ticks": ""
             }
            },
            "type": "scatterpolar"
           }
          ],
          "scatterpolargl": [
           {
            "marker": {
             "colorbar": {
              "outlinewidth": 0,
              "ticks": ""
             }
            },
            "type": "scatterpolargl"
           }
          ],
          "scatterternary": [
           {
            "marker": {
             "colorbar": {
              "outlinewidth": 0,
              "ticks": ""
             }
            },
            "type": "scatterternary"
           }
          ],
          "surface": [
           {
            "colorbar": {
             "outlinewidth": 0,
             "ticks": ""
            },
            "colorscale": [
             [
              0,
              "#0d0887"
             ],
             [
              0.1111111111111111,
              "#46039f"
             ],
             [
              0.2222222222222222,
              "#7201a8"
             ],
             [
              0.3333333333333333,
              "#9c179e"
             ],
             [
              0.4444444444444444,
              "#bd3786"
             ],
             [
              0.5555555555555556,
              "#d8576b"
             ],
             [
              0.6666666666666666,
              "#ed7953"
             ],
             [
              0.7777777777777778,
              "#fb9f3a"
             ],
             [
              0.8888888888888888,
              "#fdca26"
             ],
             [
              1,
              "#f0f921"
             ]
            ],
            "type": "surface"
           }
          ],
          "table": [
           {
            "cells": {
             "fill": {
              "color": "#EBF0F8"
             },
             "line": {
              "color": "white"
             }
            },
            "header": {
             "fill": {
              "color": "#C8D4E3"
             },
             "line": {
              "color": "white"
             }
            },
            "type": "table"
           }
          ]
         },
         "layout": {
          "annotationdefaults": {
           "arrowcolor": "#2a3f5f",
           "arrowhead": 0,
           "arrowwidth": 1
          },
          "autotypenumbers": "strict",
          "coloraxis": {
           "colorbar": {
            "outlinewidth": 0,
            "ticks": ""
           }
          },
          "colorscale": {
           "diverging": [
            [
             0,
             "#8e0152"
            ],
            [
             0.1,
             "#c51b7d"
            ],
            [
             0.2,
             "#de77ae"
            ],
            [
             0.3,
             "#f1b6da"
            ],
            [
             0.4,
             "#fde0ef"
            ],
            [
             0.5,
             "#f7f7f7"
            ],
            [
             0.6,
             "#e6f5d0"
            ],
            [
             0.7,
             "#b8e186"
            ],
            [
             0.8,
             "#7fbc41"
            ],
            [
             0.9,
             "#4d9221"
            ],
            [
             1,
             "#276419"
            ]
           ],
           "sequential": [
            [
             0,
             "#0d0887"
            ],
            [
             0.1111111111111111,
             "#46039f"
            ],
            [
             0.2222222222222222,
             "#7201a8"
            ],
            [
             0.3333333333333333,
             "#9c179e"
            ],
            [
             0.4444444444444444,
             "#bd3786"
            ],
            [
             0.5555555555555556,
             "#d8576b"
            ],
            [
             0.6666666666666666,
             "#ed7953"
            ],
            [
             0.7777777777777778,
             "#fb9f3a"
            ],
            [
             0.8888888888888888,
             "#fdca26"
            ],
            [
             1,
             "#f0f921"
            ]
           ],
           "sequentialminus": [
            [
             0,
             "#0d0887"
            ],
            [
             0.1111111111111111,
             "#46039f"
            ],
            [
             0.2222222222222222,
             "#7201a8"
            ],
            [
             0.3333333333333333,
             "#9c179e"
            ],
            [
             0.4444444444444444,
             "#bd3786"
            ],
            [
             0.5555555555555556,
             "#d8576b"
            ],
            [
             0.6666666666666666,
             "#ed7953"
            ],
            [
             0.7777777777777778,
             "#fb9f3a"
            ],
            [
             0.8888888888888888,
             "#fdca26"
            ],
            [
             1,
             "#f0f921"
            ]
           ]
          },
          "colorway": [
           "#636efa",
           "#EF553B",
           "#00cc96",
           "#ab63fa",
           "#FFA15A",
           "#19d3f3",
           "#FF6692",
           "#B6E880",
           "#FF97FF",
           "#FECB52"
          ],
          "font": {
           "color": "#2a3f5f"
          },
          "geo": {
           "bgcolor": "white",
           "lakecolor": "white",
           "landcolor": "#E5ECF6",
           "showlakes": true,
           "showland": true,
           "subunitcolor": "white"
          },
          "hoverlabel": {
           "align": "left"
          },
          "hovermode": "closest",
          "mapbox": {
           "style": "light"
          },
          "paper_bgcolor": "white",
          "plot_bgcolor": "#E5ECF6",
          "polar": {
           "angularaxis": {
            "gridcolor": "white",
            "linecolor": "white",
            "ticks": ""
           },
           "bgcolor": "#E5ECF6",
           "radialaxis": {
            "gridcolor": "white",
            "linecolor": "white",
            "ticks": ""
           }
          },
          "scene": {
           "xaxis": {
            "backgroundcolor": "#E5ECF6",
            "gridcolor": "white",
            "gridwidth": 2,
            "linecolor": "white",
            "showbackground": true,
            "ticks": "",
            "zerolinecolor": "white"
           },
           "yaxis": {
            "backgroundcolor": "#E5ECF6",
            "gridcolor": "white",
            "gridwidth": 2,
            "linecolor": "white",
            "showbackground": true,
            "ticks": "",
            "zerolinecolor": "white"
           },
           "zaxis": {
            "backgroundcolor": "#E5ECF6",
            "gridcolor": "white",
            "gridwidth": 2,
            "linecolor": "white",
            "showbackground": true,
            "ticks": "",
            "zerolinecolor": "white"
           }
          },
          "shapedefaults": {
           "line": {
            "color": "#2a3f5f"
           }
          },
          "ternary": {
           "aaxis": {
            "gridcolor": "white",
            "linecolor": "white",
            "ticks": ""
           },
           "baxis": {
            "gridcolor": "white",
            "linecolor": "white",
            "ticks": ""
           },
           "bgcolor": "#E5ECF6",
           "caxis": {
            "gridcolor": "white",
            "linecolor": "white",
            "ticks": ""
           }
          },
          "title": {
           "x": 0.05
          },
          "xaxis": {
           "automargin": true,
           "gridcolor": "white",
           "linecolor": "white",
           "ticks": "",
           "title": {
            "standoff": 15
           },
           "zerolinecolor": "white",
           "zerolinewidth": 2
          },
          "yaxis": {
           "automargin": true,
           "gridcolor": "white",
           "linecolor": "white",
           "ticks": "",
           "title": {
            "standoff": 15
           },
           "zerolinecolor": "white",
           "zerolinewidth": 2
          }
         }
        },
        "width": 700
       }
      }
     },
     "metadata": {},
     "output_type": "display_data"
    },
    {
     "data": {
      "image/png": "[encoded data removed]"
     },
     "metadata": {},
     "output_type": "display_data"
    }
   ],
   "source": [
    "robot_m = generic.GenericFour(\n",
    "    linklengths=[0.5, 0.5, 0.5, 0.5],\n",
    "    alpha=[0, np.pi / 2, np.pi / 2, 0],\n",
    ")\n",
    "fig = robot_m.plotly(\n",
    "    robot_m.qz, save=True, path=\"./fig/g4_modified.png\", zoom_factor=0.6\n",
    ")\n",
    "fig.show(\"png\")"
   ]
  },
  {
   "cell_type": "code",
   "execution_count": null,
   "metadata": {},
   "outputs": [
    {
     "data": {
      "text/html": [
       "\n",
       "        <iframe\n",
       "            width=\"100%\"\n",
       "            height=\"650\"\n",
       "            src=\"http://127.0.0.1:8050/\"\n",
       "            frameborder=\"0\"\n",
       "            allowfullscreen\n",
       "            \n",
       "        ></iframe>\n",
       "        "
      ],
      "text/plain": [
       "<IPython.lib.display.IFrame at 0x1720e4130>"
      ]
     },
     "metadata": {},
     "output_type": "display_data"
    },
    {
     "ename": "AttributeError",
     "evalue": "'NoneType' object has no attribute 'show'",
     "output_type": "error",
     "traceback": [
      "\u001b[0;31m---------------------------------------------------------------------------\u001b[0m",
      "\u001b[0;31mAttributeError\u001b[0m                            Traceback (most recent call last)",
      "Cell \u001b[0;32mIn[6], line 3\u001b[0m\n\u001b[1;32m      1\u001b[0m app \u001b[38;5;241m=\u001b[39m rsb\u001b[38;5;241m.\u001b[39mvisualization\u001b[38;5;241m.\u001b[39mapp\u001b[38;5;241m.\u001b[39mRobotArmDesignApp()\n\u001b[1;32m      2\u001b[0m fig \u001b[38;5;241m=\u001b[39m app\u001b[38;5;241m.\u001b[39mrun_server(debug\u001b[38;5;241m=\u001b[39m\u001b[38;5;28;01mTrue\u001b[39;00m)\n\u001b[0;32m----> 3\u001b[0m \u001b[43mfig\u001b[49m\u001b[38;5;241;43m.\u001b[39;49m\u001b[43mshow\u001b[49m(\u001b[38;5;124m\"\u001b[39m\u001b[38;5;124mpng\u001b[39m\u001b[38;5;124m\"\u001b[39m)\n",
      "\u001b[0;31mAttributeError\u001b[0m: 'NoneType' object has no attribute 'show'"
     ]
    }
   ],
   "source": [
    "app = rsb.visualization.app.RobotArmDesignApp()\n",
    "fig = app.run_server(debug=False, jupyter_width=\"70%\")\n",
    "fig.show(\"png\")"
   ]
  }
 ],
 "metadata": {
  "kernelspec": {
   "display_name": "robo3.9",
   "language": "python",
   "name": "python3"
  },
  "language_info": {
   "codemirror_mode": {
    "name": "ipython",
    "version": 3
   },
   "file_extension": ".py",
   "mimetype": "text/x-python",
   "name": "python",
   "nbconvert_exporter": "python",
   "pygments_lexer": "ipython3",
   "version": "3.9.21"
  }
 },
 "nbformat": 4,
 "nbformat_minor": 2
}
