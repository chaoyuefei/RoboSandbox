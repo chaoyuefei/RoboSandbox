{
 "cells": [
  {
   "cell_type": "code",
   "execution_count": 33,
   "id": "e028d254",
   "metadata": {},
   "outputs": [],
   "source": [
    "import robosandbox as rsb\n",
    "import numpy as np\n",
    "import swift\n",
    "import os\n"
   ]
  },
  {
   "cell_type": "markdown",
   "id": "b731e7f2",
   "metadata": {},
   "source": [
    "## Commercial models"
   ]
  },
  {
   "cell_type": "code",
   "execution_count": null,
   "id": "96a9578c",
   "metadata": {},
   "outputs": [],
   "source": []
  },
  {
   "cell_type": "markdown",
   "id": "e0ed45cb",
   "metadata": {},
   "source": [
    "## Read from URDF File"
   ]
  },
  {
   "cell_type": "code",
   "execution_count": 37,
   "id": "2fa64309",
   "metadata": {},
   "outputs": [
    {
     "name": "stdout",
     "output_type": "stream",
     "text": [
      "ERobot: so101_new_calib, 6 joints (RRRRRR), dynamics, geometry, collision\n",
      "┌──────┬───────────┬───────┬───────────┬───────────────────────────────────────────────────────────────────────┐\n",
      "│ link │   link    │ joint │  parent   │                          ETS: parent to link                          │\n",
      "├──────┼───────────┼───────┼───────────┼───────────────────────────────────────────────────────────────────────┤\n",
      "│    0 │ \u001b[38;5;4mbase\u001b[0m      │       │ BASE      │ SE3()                                                                 │\n",
      "│    1 │ shoulder  │     0 │ base      │ SE3(0.02079, -0.02307, 0.09488; -180°, 3.459e-14°, 90°) ⊕ Rz(q0)      │\n",
      "│    2 │ upper_arm │     1 │ shoulder  │ SE3(-0.0304, -0.01828, -0.0542; 90°, -90°, 180°) ⊕ Rz(q1)             │\n",
      "│    3 │ lower_arm │     2 │ upper_arm │ SE3(-0.1126, -0.028, 2.463e-16; -7.037e-14°, 3.3e-14°, 90°) ⊕ Rz(q2)  │\n",
      "│    4 │ wrist     │     3 │ lower_arm │ SE3(-0.1349, 0.0052, 1.652e-16; 1.861e-13°, 1.64e-13°, -90°) ⊕ Rz(q3) │\n",
      "│    5 │ gripper   │     4 │ wrist     │ SE3(0, -0.0611, 0.0181; 90°, -5.375e-06°, 180°) ⊕ Rz(q4)              │\n",
      "│    6 │ @jaw      │     5 │ gripper   │ SE3(0.0202, 0.0188, -0.0234; 90°, -2.946e-15°, -7.944e-13°) ⊕ Rz(q5)  │\n",
      "└──────┴───────────┴───────┴───────────┴───────────────────────────────────────────────────────────────────────┘\n",
      "\n"
     ]
    },
    {
     "data": {
      "text/plain": [
       "Swift backend, t = 0.05, scene:\n",
       "  so101_new_calib"
      ]
     },
     "execution_count": 37,
     "metadata": {},
     "output_type": "execute_result"
    }
   ],
   "source": [
    "# get the current working directory\n",
    "pwd = os.getcwd()\n",
    "tld = os.path.join(pwd, \"data\", \"SO101\")\n",
    "\n",
    "SO101 = rsb.models.URDF.Model(\n",
    "    name=\"SO101\",\n",
    "    file_path=\"so101_new_calib.urdf\",\n",
    "    tld=tld,\n",
    ")\n",
    "SO101.q = np.zeros(6)\n",
    "print(SO101)\n",
    "SO101.plot(q=SO101.q)"
   ]
  },
  {
   "cell_type": "code",
   "execution_count": null,
   "id": "76279c01",
   "metadata": {},
   "outputs": [
    {
     "data": {
      "text/html": [
       "\n",
       "        <iframe\n",
       "            width=\"600\"\n",
       "            height=\"400\"\n",
       "            src=\"http://localhost:52022/?53022\"\n",
       "            frameborder=\"0\"\n",
       "            allowfullscreen\n",
       "            \n",
       "        ></iframe>\n",
       "        "
      ],
      "text/plain": [
       "<IPython.lib.display.IFrame at 0x17f710ee0>"
      ]
     },
     "metadata": {},
     "output_type": "display_data"
    },
    {
     "ename": "TypeError",
     "evalue": "teach() not supported for Swift backend",
     "output_type": "error",
     "traceback": [
      "\u001b[0;31m---------------------------------------------------------------------------\u001b[0m",
      "\u001b[0;31mTypeError\u001b[0m                                 Traceback (most recent call last)",
      "Cell \u001b[0;32mIn[44], line 4\u001b[0m\n\u001b[1;32m      2\u001b[0m env\u001b[38;5;241m.\u001b[39mlaunch(realtime\u001b[38;5;241m=\u001b[39m\u001b[38;5;28;01mTrue\u001b[39;00m, browser\u001b[38;5;241m=\u001b[39m\u001b[38;5;124m\"\u001b[39m\u001b[38;5;124mnotebook\u001b[39m\u001b[38;5;124m\"\u001b[39m)\n\u001b[1;32m      3\u001b[0m env\u001b[38;5;241m.\u001b[39madd(SO101)\n\u001b[0;32m----> 4\u001b[0m \u001b[43mSO101\u001b[49m\u001b[38;5;241;43m.\u001b[39;49m\u001b[43mteach\u001b[49m\u001b[43m(\u001b[49m\u001b[43mSO101\u001b[49m\u001b[38;5;241;43m.\u001b[39;49m\u001b[43mq\u001b[49m\u001b[43m)\u001b[49m\n\u001b[1;32m      5\u001b[0m \u001b[38;5;66;03m# env.close()\u001b[39;00m\n",
      "File \u001b[0;32m~/miniconda3/envs/robo3.9/lib/python3.9/site-packages/roboticstoolbox/robot/BaseRobot.py:2816\u001b[0m, in \u001b[0;36mBaseRobot.teach\u001b[0;34m(self, q, block, limits, vellipse, fellipse, backend)\u001b[0m\n\u001b[1;32m   2813\u001b[0m env \u001b[38;5;241m=\u001b[39m \u001b[38;5;28mself\u001b[39m\u001b[38;5;241m.\u001b[39m_get_graphical_backend(backend)\n\u001b[1;32m   2815\u001b[0m \u001b[38;5;28;01mif\u001b[39;00m \u001b[38;5;28misinstance\u001b[39m(env, Swift):  \u001b[38;5;66;03m# pragma: nocover\u001b[39;00m\n\u001b[0;32m-> 2816\u001b[0m     \u001b[38;5;28;01mraise\u001b[39;00m \u001b[38;5;167;01mTypeError\u001b[39;00m(\u001b[38;5;124m\"\u001b[39m\u001b[38;5;124mteach() not supported for Swift backend\u001b[39m\u001b[38;5;124m\"\u001b[39m)\n\u001b[1;32m   2818\u001b[0m \u001b[38;5;66;03m# Add the self to the figure in readonly mode\u001b[39;00m\n\u001b[1;32m   2819\u001b[0m env\u001b[38;5;241m.\u001b[39mlaunch(\u001b[38;5;124m\"\u001b[39m\u001b[38;5;124mTeach \u001b[39m\u001b[38;5;124m\"\u001b[39m \u001b[38;5;241m+\u001b[39m \u001b[38;5;28mself\u001b[39m\u001b[38;5;241m.\u001b[39mname, limits\u001b[38;5;241m=\u001b[39mlimits)\n",
      "\u001b[0;31mTypeError\u001b[0m: teach() not supported for Swift backend"
     ]
    }
   ],
   "source": [
    "env = swift.Swift()\n",
    "env.launch(realtime=True, browser=\"notebook\")\n",
    "env.add(SO101)\n",
    "# env.close()"
   ]
  }
 ],
 "metadata": {
  "kernelspec": {
   "display_name": "robo3.9",
   "language": "python",
   "name": "python3"
  },
  "language_info": {
   "codemirror_mode": {
    "name": "ipython",
    "version": 3
   },
   "file_extension": ".py",
   "mimetype": "text/x-python",
   "name": "python",
   "nbconvert_exporter": "python",
   "pygments_lexer": "ipython3",
   "version": "3.9.21"
  }
 },
 "nbformat": 4,
 "nbformat_minor": 5
}
