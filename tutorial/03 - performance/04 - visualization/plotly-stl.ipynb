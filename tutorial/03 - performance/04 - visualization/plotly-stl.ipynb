{
 "cells": [
  {
   "cell_type": "code",
   "execution_count": 1,
   "id": "e601f1ba",
   "metadata": {},
   "outputs": [
    {
     "data": {
      "application/vnd.plotly.v1+json": {
       "config": {
        "plotlyServerURL": "https://plot.ly"
       },
       "data": [
        {
         "hovertemplate": "<b>Center of Mass</b><br>X: %{x:.2f}<br>Y: %{y:.2f}<br>Z: %{z:.2f}<extra></extra>",
         "marker": {
          "color": "red",
          "size": 10,
          "symbol": "diamond"
         },
         "mode": "markers",
         "name": "Center of Mass",
         "text": "COM: (15.90, -7.90, 6.13)",
         "type": "scatter3d",
         "x": [
          15.89999849
         ],
         "y": [
          -7.89999265
         ],
         "z": [
          6.12640468
         ]
        },
        {
         "colorscale": [
          [
           0,
           "rgb(247,251,255)"
          ],
          [
           0.125,
           "rgb(222,235,247)"
          ],
          [
           0.25,
           "rgb(198,219,239)"
          ],
          [
           0.375,
           "rgb(158,202,225)"
          ],
          [
           0.5,
           "rgb(107,174,214)"
          ],
          [
           0.625,
           "rgb(66,146,198)"
          ],
          [
           0.75,
           "rgb(33,113,181)"
          ],
          [
           0.875,
           "rgb(8,81,156)"
          ],
          [
           1,
           "rgb(8,48,107)"
          ]
         ],
         "hovertemplate": "<b>Inertia Ellipsoid</b><br>X: %{x:.2f}<br>Y: %{y:.2f}<br>Z: %{z:.2f}<extra></extra>",
         "name": "Inertia Ellipsoid",
         "opacity": 0.6,
         "showscale": false,
         "type": "surface",
         "x": {
          "bdata": "RbQjmszML0BFtCOazMwvQEW0I5rMzC9ARbQjmszML0BFtCOazMwvQEW0I5rMzC9ARbQjmszML0BFtCOazMwvQEW0I5rMzC9ARbQjmszML0BFtCOazMwvQEW0I5rMzC9ARbQjmszML0BFtCOazMwvQEW0I5rMzC9ARbQjmszML0BFtCOazMwvQEW0I5rMzC9ARbQjmszML0BFtCOazMwvQK0MtFLNzC9Ay/6zSM3ML0DQRMkrzcwvQAESFv/MzC9ArnJyx8zML0BS6+WKzMwvQPg0AFDMzC9AEDcjHczML0Bl+NH3y8wvQP22F+TLzC9A4bgX5MvML0Db/dH3y8wvQII/Ix3MzC9Aez8AUMzML0DD9uWKzMwvQM59csfMzC9AnRsW/8zML0DdS8krzcwvQIYCtEjNzC9ArQy0Us3ML0BgiTsGzswvQIJCgfLNzC9A4bt1uc3ML0BCekdhzcwvQAHDhPPMzC9ArYQSfMzML0DTX+IHzMwvQMSRi6PLzC9A3KrtWcvML0AM6gIzy8wvQMbtAjPLzC9Ao7XtWcvML0Btooujy8wvQJB04gfMzC9APpsSfMzML0D12ITzzMwvQDeNR2HNzC9Aysl1uc3ML0DdSYHyzcwvQGCJOwbOzC9AsoLUr87ML0D9xOmSzswvQFHKSz/OzC9AMz4Kvs3ML0C15CYdzcwvQKwHEW7MzC9ADszBw8vML0Ah2a0wy8wvQCZbxcTKzC9A99y5i8rML0Bu4rmLyswvQPNqxcTKzC9AjPGtMMvML0B06sHDy8wvQMAoEW7MzC9A4gQnHc3ML0D9WQq+zcwvQLTeSz/OzC9AxM/pks7ML0CygtSvzswvQFqr3krPzC9APWSNJc/ML0DA26S5zswvQN6d1hLOzC9A6x02Q83ML0DQQUNhzMwvQG41eoXLzC9Aqymsx8rML0DMmmo8yswvQJ63zPLJzC9Aq77M8snML0Awr2o8yswvQC5JrMfKzC9AqFx6hcvML0CAbENhzMwvQHFHNkPNzC9AusHWEs7ML0AP9qS5zswvQCZyjSXPzC9AWqveSs/ML0B4Xh/Tz8wvQJwkbKbPzC9AxJQqJc/ML0Bpc1xdzswvQJWpqGTNzC9A1ZsCVszML0A5gr5Oy8wvQInGY2vKzC9AF5SVxMnML0D7XGdsycwvQG1lZ2zJzC9Ag6yVxMnML0BI7GNryswvQDaxvk7LzC9A984CVszML0BS26hkzcwvQF6eXF3OzC9AR7QqJc/ML0BENWymz8wvQHheH9PPzC9ArSffRNDML0BCHwIS0MwvQOQg7n7PzC9AE1qTm87ML0BX95SAzcwvQFWpnUzMzC9AUuYMIcvML0AgGVkeyswvQBcRi2DJzC9AFUo0/MjML0CxUzT8yMwvQOEsi2DJzC9AFERZHsrML0DJGw0hy8wvQITjnUzMzC9A8C+VgM3ML0DzipObzswvQMBE7n7PzC9ANzICEtDML0CtJ99E0MwvQCO3A53QzC9ANA5gZdDML0CprXzEz8wvQBvgyMvOzC9Afwo4ls3ML0AYBFZFzMwvQEV2pP3KzC9AJR2m4snML0BSqAUTycwvQIL8QqXIzC9ABQdDpcjML0C4xgUTycwvQCJMpuLJzC9AwbCk/crML0C9Q1ZFzMwvQGhIOJbNzC9AkhXJy87ML0Dj1HzEz8wvQPEiYGXQzC9AI7cDndDML0A/jCXZ0MwvQHTKP57QzC9AtYPw88/ML0B9YKzszswvQJ3L+qTNzC9A+YFeQMzML0Anc3zlyswvQN6z67nJzC9AiK4i3sjML0BKk/JpyMwvQGue8mnIzC9Atc4i3sjML0Cb5eu5ycwvQBCxfOXKzC9AWMVeQMzML0AmDfukzcwvQBaZrOzOzC9AO63w88/ML0Bn4D+e0MwvQD+MJdnQzC9ArL+g99DML0AwLRS70MwvQIpG/gvQzC9AvTFY/c7ML0CcJ3aszcwvQO3R2T3MzC9AAow92crML0ANRUalycwvQI9yU8PIzC9AWz/hS8jML0DMSuFLyMwvQKOTU8PIzC9AL3hGpcnML0Coyz3ZyswvQDAX2j3MzC9A/Gp2rM3ML0Dsa1j9zswvQDpx/gvQzC9AwUMUu9DML0Csv6D30MwvQJF3oPfQzC9AFOUTu9DML0Bv/v0L0MwvQKLpV/3OzC9Agd91rM3ML0DSidk9zMwvQOdDPdnKzC9A8vxFpcnML0BzKlPDyMwvQED34EvIzC9AsQLhS8jML0CIS1PDyMwvQBQwRqXJzC9AjYM92crML0AVz9k9zMwvQOEidqzNzC9A0SNY/c7ML0AfKf4L0MwvQKX7E7vQzC9AkXeg99DML0DltSTZ0MwvQBr0Pp7QzC9AW63v88/ML0AjiqvszswvQEP1+aTNzC9An6tdQMzML0DNnHvlyswvQITd6rnJzC9ALtgh3sjML0DwvPFpyMwvQBHI8WnIzC9AW/gh3sjML0BBD+u5ycwvQLbae+XKzC9A/u5dQMzML0DNNvqkzcwvQLzCq+zOzC9A4dbv88/ML0ANCj+e0MwvQOW1JNnQzC9AY1gCndDML0B0r15l0MwvQOlOe8TPzC9AW4HHy87ML0C/qzaWzcwvQFilVEXMzC9AhRej/crML0BlvqTiycwvQJNJBBPJzC9Awp1BpcjML0BFqEGlyMwvQPhnBBPJzC9AYu2k4snML0ABUqP9yswvQP7kVEXMzC9AqOk2ls3ML0DStsfLzswvQCN2e8TPzC9AMcReZdDML0BjWAKd0MwvQBhK3UTQzC9ArkEAEtDML0BQQ+x+z8wvQH98kZvOzC9AwxmTgM3ML0DBy5tMzMwvQL0ICyHLzC9AiztXHsrML0CDM4lgycwvQIFsMvzIzC9AHXYy/MjML0BMT4lgycwvQIBmVx7KzC9AND4LIcvML0DwBZxMzMwvQFxSk4DNzC9AX62Rm87ML0AsZ+x+z8wvQKNUABLQzC9AGErdRNDML0AWDx3Tz8wvQDnVaabPzC9AYkUoJc/ML0AHJFpdzswvQDNapmTNzC9Ac0wAVszML0DXMrxOy8wvQCd3YWvKzC9AtUSTxMnML0CZDWVsycwvQAsWZWzJzC9AIV2TxMnML0DmnGFryswvQNRhvE7LzC9AlX8AVszML0Dwi6ZkzcwvQPtOWl3OzC9A5WQoJc/ML0Di5Wmmz8wvQBYPHdPPzC9ATPrbSs/ML0Avs4olz8wvQLIqornOzC9A0OzTEs7ML0DdbDNDzcwvQMKQQGHMzC9AX4R3hcvML0CceKnHyswvQL7pZzzKzC9AkAbK8snML0CdDcryycwvQCH+ZzzKzC9AIJipx8rML0CZq3eFy8wvQHK7QGHMzC9AY5YzQ83ML0CsENQSzswvQAFFornOzC9AGMGKJc/ML0BM+ttKz8wvQMOC0a/OzC9ADsXmks7ML0Biykg/zswvQEU+B77NzC9Ax+QjHc3ML0C9Bw5uzMwvQCDMvsPLzC9AMtmqMMvML0A4W8LEyswvQAndtovKzC9Af+K2i8rML0AEa8LEyswvQJ7xqjDLzC9Aheq+w8vML0DRKA5uzMwvQPQEJB3NzC9ADloHvs3ML0DF3kg/zswvQNXP5pLOzC9Aw4LRr87ML0CETzgGzswvQKYIfvLNzC9ABYJyuc3ML0BmQERhzcwvQCWJgfPMzC9A0UoPfMzML0D3Jd8HzMwvQOhXiKPLzC9A/3DqWcvML0AwsP8yy8wvQOqz/zLLzC9AxnvqWcvML0CRaIijy8wvQLQ63wfMzC9AYmEPfMzML0AYn4HzzMwvQFpTRGHNzC9A7Y9yuc3ML0AAEH7yzcwvQIRPOAbOzC9Aaa+wUs3ML0CIobBIzcwvQI3nxSvNzC9AvbQS/8zML0BrFW/HzMwvQA+O4orMzC9AtNf8T8zML0DN2R8dzMwvQCGbzvfLzC9AulkU5MvML0CeWxTky8wvQJigzvfLzC9AP+IfHczML0A34vxPzMwvQH+Z4orMzC9AiyBvx8zML0BZvhL/zMwvQJruxSvNzC9AQqWwSM3ML0Bpr7BSzcwvQBlLIJrMzC9AGUsgmszML0AZSyCazMwvQBlLIJrMzC9AGUsgmszML0AZSyCazMwvQBlLIJrMzC9AGUsgmszML0AZSyCazMwvQBlLIJrMzC9AGUsgmszML0AZSyCazMwvQBlLIJrMzC9AGUsgmszML0AZSyCazMwvQBlLIJrMzC9AGUsgmszML0AZSyCazMwvQBlLIJrMzC9AGUsgmszML0A=",
          "dtype": "f8",
          "shape": "20, 20"
         },
         "y": {
          "bdata": "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",
          "dtype": "f8",
          "shape": "20, 20"
         },
         "z": {
          "bdata": "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",
          "dtype": "f8",
          "shape": "20, 20"
         }
        },
        {
         "hovertemplate": "<b>Principal Axis 1</b><br>Eigenvalue: 8.95e+04<extra></extra>",
         "line": {
          "color": "red",
          "width": 6
         },
         "marker": {
          "color": "red",
          "size": [
           8,
           4
          ]
         },
         "mode": "lines+markers",
         "name": "Principal Axis 1",
         "type": "scatter3d",
         "x": [
          15.89999849,
          15.906682104602078
         ],
         "y": [
          -7.89999265,
          -7.8999926554096955
         ],
         "z": [
          6.12640468,
          6.126404752759758
         ]
        },
        {
         "hovertemplate": "<b>Principal Axis 2</b><br>Eigenvalue: 2.61e+05<extra></extra>",
         "line": {
          "color": "green",
          "width": 6
         },
         "marker": {
          "color": "green",
          "size": [
           8,
           4
          ]
         },
         "mode": "lines+markers",
         "name": "Principal Axis 2",
         "type": "scatter3d",
         "x": [
          15.89999849,
          15.89999848682866
         ],
         "y": [
          -7.89999265,
          -7.903909312416395
         ],
         "z": [
          6.12640468,
          6.126404790874705
         ]
        },
        {
         "hovertemplate": "<b>Principal Axis 3</b><br>Eigenvalue: 3.01e+05<extra></extra>",
         "line": {
          "color": "blue",
          "width": 6
         },
         "marker": {
          "color": "blue",
          "size": [
           8,
           4
          ]
         },
         "mode": "lines+markers",
         "name": "Principal Axis 3",
         "type": "scatter3d",
         "x": [
          15.89999849,
          15.899998529707254
         ],
         "y": [
          -7.89999265,
          -7.89999275325412
         ],
         "z": [
          6.12640468,
          6.12275721678978
         ]
        },
        {
         "line": {
          "color": "gray",
          "width": 3
         },
         "mode": "lines",
         "name": "X-axis (global)",
         "showlegend": false,
         "type": "scatter3d",
         "x": [
          0,
          4.769999546999999
         ],
         "y": [
          0,
          0
         ],
         "z": [
          0,
          0
         ]
        },
        {
         "line": {
          "color": "gray",
          "width": 3
         },
         "mode": "lines",
         "name": "Y-axis (global)",
         "showlegend": false,
         "type": "scatter3d",
         "x": [
          0,
          0
         ],
         "y": [
          0,
          4.769999546999999
         ],
         "z": [
          0,
          0
         ]
        },
        {
         "line": {
          "color": "gray",
          "width": 3
         },
         "mode": "lines",
         "name": "Z-axis (global)",
         "showlegend": false,
         "type": "scatter3d",
         "x": [
          0,
          0
         ],
         "y": [
          0,
          0
         ],
         "z": [
          0,
          4.769999546999999
         ]
        }
       ],
       "layout": {
        "height": 700,
        "margin": {
         "b": 0,
         "l": 0,
         "r": 0,
         "t": 40
        },
        "scene": {
         "aspectmode": "cube",
         "camera": {
          "eye": {
           "x": 1.5,
           "y": 1.5,
           "z": 1.5
          }
         },
         "xaxis": {
          "title": {
           "text": "X"
          }
         },
         "yaxis": {
          "title": {
           "text": "Y"
          }
         },
         "zaxis": {
          "title": {
           "text": "Z"
          }
         }
        },
        "template": {
         "data": {
          "bar": [
           {
            "error_x": {
             "color": "#2a3f5f"
            },
            "error_y": {
             "color": "#2a3f5f"
            },
            "marker": {
             "line": {
              "color": "#E5ECF6",
              "width": 0.5
             },
             "pattern": {
              "fillmode": "overlay",
              "size": 10,
              "solidity": 0.2
             }
            },
            "type": "bar"
           }
          ],
          "barpolar": [
           {
            "marker": {
             "line": {
              "color": "#E5ECF6",
              "width": 0.5
             },
             "pattern": {
              "fillmode": "overlay",
              "size": 10,
              "solidity": 0.2
             }
            },
            "type": "barpolar"
           }
          ],
          "carpet": [
           {
            "aaxis": {
             "endlinecolor": "#2a3f5f",
             "gridcolor": "white",
             "linecolor": "white",
             "minorgridcolor": "white",
             "startlinecolor": "#2a3f5f"
            },
            "baxis": {
             "endlinecolor": "#2a3f5f",
             "gridcolor": "white",
             "linecolor": "white",
             "minorgridcolor": "white",
             "startlinecolor": "#2a3f5f"
            },
            "type": "carpet"
           }
          ],
          "choropleth": [
           {
            "colorbar": {
             "outlinewidth": 0,
             "ticks": ""
            },
            "type": "choropleth"
           }
          ],
          "contour": [
           {
            "colorbar": {
             "outlinewidth": 0,
             "ticks": ""
            },
            "colorscale": [
             [
              0,
              "#0d0887"
             ],
             [
              0.1111111111111111,
              "#46039f"
             ],
             [
              0.2222222222222222,
              "#7201a8"
             ],
             [
              0.3333333333333333,
              "#9c179e"
             ],
             [
              0.4444444444444444,
              "#bd3786"
             ],
             [
              0.5555555555555556,
              "#d8576b"
             ],
             [
              0.6666666666666666,
              "#ed7953"
             ],
             [
              0.7777777777777778,
              "#fb9f3a"
             ],
             [
              0.8888888888888888,
              "#fdca26"
             ],
             [
              1,
              "#f0f921"
             ]
            ],
            "type": "contour"
           }
          ],
          "contourcarpet": [
           {
            "colorbar": {
             "outlinewidth": 0,
             "ticks": ""
            },
            "type": "contourcarpet"
           }
          ],
          "heatmap": [
           {
            "colorbar": {
             "outlinewidth": 0,
             "ticks": ""
            },
            "colorscale": [
             [
              0,
              "#0d0887"
             ],
             [
              0.1111111111111111,
              "#46039f"
             ],
             [
              0.2222222222222222,
              "#7201a8"
             ],
             [
              0.3333333333333333,
              "#9c179e"
             ],
             [
              0.4444444444444444,
              "#bd3786"
             ],
             [
              0.5555555555555556,
              "#d8576b"
             ],
             [
              0.6666666666666666,
              "#ed7953"
             ],
             [
              0.7777777777777778,
              "#fb9f3a"
             ],
             [
              0.8888888888888888,
              "#fdca26"
             ],
             [
              1,
              "#f0f921"
             ]
            ],
            "type": "heatmap"
           }
          ],
          "histogram": [
           {
            "marker": {
             "pattern": {
              "fillmode": "overlay",
              "size": 10,
              "solidity": 0.2
             }
            },
            "type": "histogram"
           }
          ],
          "histogram2d": [
           {
            "colorbar": {
             "outlinewidth": 0,
             "ticks": ""
            },
            "colorscale": [
             [
              0,
              "#0d0887"
             ],
             [
              0.1111111111111111,
              "#46039f"
             ],
             [
              0.2222222222222222,
              "#7201a8"
             ],
             [
              0.3333333333333333,
              "#9c179e"
             ],
             [
              0.4444444444444444,
              "#bd3786"
             ],
             [
              0.5555555555555556,
              "#d8576b"
             ],
             [
              0.6666666666666666,
              "#ed7953"
             ],
             [
              0.7777777777777778,
              "#fb9f3a"
             ],
             [
              0.8888888888888888,
              "#fdca26"
             ],
             [
              1,
              "#f0f921"
             ]
            ],
            "type": "histogram2d"
           }
          ],
          "histogram2dcontour": [
           {
            "colorbar": {
             "outlinewidth": 0,
             "ticks": ""
            },
            "colorscale": [
             [
              0,
              "#0d0887"
             ],
             [
              0.1111111111111111,
              "#46039f"
             ],
             [
              0.2222222222222222,
              "#7201a8"
             ],
             [
              0.3333333333333333,
              "#9c179e"
             ],
             [
              0.4444444444444444,
              "#bd3786"
             ],
             [
              0.5555555555555556,
              "#d8576b"
             ],
             [
              0.6666666666666666,
              "#ed7953"
             ],
             [
              0.7777777777777778,
              "#fb9f3a"
             ],
             [
              0.8888888888888888,
              "#fdca26"
             ],
             [
              1,
              "#f0f921"
             ]
            ],
            "type": "histogram2dcontour"
           }
          ],
          "mesh3d": [
           {
            "colorbar": {
             "outlinewidth": 0,
             "ticks": ""
            },
            "type": "mesh3d"
           }
          ],
          "parcoords": [
           {
            "line": {
             "colorbar": {
              "outlinewidth": 0,
              "ticks": ""
             }
            },
            "type": "parcoords"
           }
          ],
          "pie": [
           {
            "automargin": true,
            "type": "pie"
           }
          ],
          "scatter": [
           {
            "fillpattern": {
             "fillmode": "overlay",
             "size": 10,
             "solidity": 0.2
            },
            "type": "scatter"
           }
          ],
          "scatter3d": [
           {
            "line": {
             "colorbar": {
              "outlinewidth": 0,
              "ticks": ""
             }
            },
            "marker": {
             "colorbar": {
              "outlinewidth": 0,
              "ticks": ""
             }
            },
            "type": "scatter3d"
           }
          ],
          "scattercarpet": [
           {
            "marker": {
             "colorbar": {
              "outlinewidth": 0,
              "ticks": ""
             }
            },
            "type": "scattercarpet"
           }
          ],
          "scattergeo": [
           {
            "marker": {
             "colorbar": {
              "outlinewidth": 0,
              "ticks": ""
             }
            },
            "type": "scattergeo"
           }
          ],
          "scattergl": [
           {
            "marker": {
             "colorbar": {
              "outlinewidth": 0,
              "ticks": ""
             }
            },
            "type": "scattergl"
           }
          ],
          "scattermap": [
           {
            "marker": {
             "colorbar": {
              "outlinewidth": 0,
              "ticks": ""
             }
            },
            "type": "scattermap"
           }
          ],
          "scattermapbox": [
           {
            "marker": {
             "colorbar": {
              "outlinewidth": 0,
              "ticks": ""
             }
            },
            "type": "scattermapbox"
           }
          ],
          "scatterpolar": [
           {
            "marker": {
             "colorbar": {
              "outlinewidth": 0,
              "ticks": ""
             }
            },
            "type": "scatterpolar"
           }
          ],
          "scatterpolargl": [
           {
            "marker": {
             "colorbar": {
              "outlinewidth": 0,
              "ticks": ""
             }
            },
            "type": "scatterpolargl"
           }
          ],
          "scatterternary": [
           {
            "marker": {
             "colorbar": {
              "outlinewidth": 0,
              "ticks": ""
             }
            },
            "type": "scatterternary"
           }
          ],
          "surface": [
           {
            "colorbar": {
             "outlinewidth": 0,
             "ticks": ""
            },
            "colorscale": [
             [
              0,
              "#0d0887"
             ],
             [
              0.1111111111111111,
              "#46039f"
             ],
             [
              0.2222222222222222,
              "#7201a8"
             ],
             [
              0.3333333333333333,
              "#9c179e"
             ],
             [
              0.4444444444444444,
              "#bd3786"
             ],
             [
              0.5555555555555556,
              "#d8576b"
             ],
             [
              0.6666666666666666,
              "#ed7953"
             ],
             [
              0.7777777777777778,
              "#fb9f3a"
             ],
             [
              0.8888888888888888,
              "#fdca26"
             ],
             [
              1,
              "#f0f921"
             ]
            ],
            "type": "surface"
           }
          ],
          "table": [
           {
            "cells": {
             "fill": {
              "color": "#EBF0F8"
             },
             "line": {
              "color": "white"
             }
            },
            "header": {
             "fill": {
              "color": "#C8D4E3"
             },
             "line": {
              "color": "white"
             }
            },
            "type": "table"
           }
          ]
         },
         "layout": {
          "annotationdefaults": {
           "arrowcolor": "#2a3f5f",
           "arrowhead": 0,
           "arrowwidth": 1
          },
          "autotypenumbers": "strict",
          "coloraxis": {
           "colorbar": {
            "outlinewidth": 0,
            "ticks": ""
           }
          },
          "colorscale": {
           "diverging": [
            [
             0,
             "#8e0152"
            ],
            [
             0.1,
             "#c51b7d"
            ],
            [
             0.2,
             "#de77ae"
            ],
            [
             0.3,
             "#f1b6da"
            ],
            [
             0.4,
             "#fde0ef"
            ],
            [
             0.5,
             "#f7f7f7"
            ],
            [
             0.6,
             "#e6f5d0"
            ],
            [
             0.7,
             "#b8e186"
            ],
            [
             0.8,
             "#7fbc41"
            ],
            [
             0.9,
             "#4d9221"
            ],
            [
             1,
             "#276419"
            ]
           ],
           "sequential": [
            [
             0,
             "#0d0887"
            ],
            [
             0.1111111111111111,
             "#46039f"
            ],
            [
             0.2222222222222222,
             "#7201a8"
            ],
            [
             0.3333333333333333,
             "#9c179e"
            ],
            [
             0.4444444444444444,
             "#bd3786"
            ],
            [
             0.5555555555555556,
             "#d8576b"
            ],
            [
             0.6666666666666666,
             "#ed7953"
            ],
            [
             0.7777777777777778,
             "#fb9f3a"
            ],
            [
             0.8888888888888888,
             "#fdca26"
            ],
            [
             1,
             "#f0f921"
            ]
           ],
           "sequentialminus": [
            [
             0,
             "#0d0887"
            ],
            [
             0.1111111111111111,
             "#46039f"
            ],
            [
             0.2222222222222222,
             "#7201a8"
            ],
            [
             0.3333333333333333,
             "#9c179e"
            ],
            [
             0.4444444444444444,
             "#bd3786"
            ],
            [
             0.5555555555555556,
             "#d8576b"
            ],
            [
             0.6666666666666666,
             "#ed7953"
            ],
            [
             0.7777777777777778,
             "#fb9f3a"
            ],
            [
             0.8888888888888888,
             "#fdca26"
            ],
            [
             1,
             "#f0f921"
            ]
           ]
          },
          "colorway": [
           "#636efa",
           "#EF553B",
           "#00cc96",
           "#ab63fa",
           "#FFA15A",
           "#19d3f3",
           "#FF6692",
           "#B6E880",
           "#FF97FF",
           "#FECB52"
          ],
          "font": {
           "color": "#2a3f5f"
          },
          "geo": {
           "bgcolor": "white",
           "lakecolor": "white",
           "landcolor": "#E5ECF6",
           "showlakes": true,
           "showland": true,
           "subunitcolor": "white"
          },
          "hoverlabel": {
           "align": "left"
          },
          "hovermode": "closest",
          "mapbox": {
           "style": "light"
          },
          "paper_bgcolor": "white",
          "plot_bgcolor": "#E5ECF6",
          "polar": {
           "angularaxis": {
            "gridcolor": "white",
            "linecolor": "white",
            "ticks": ""
           },
           "bgcolor": "#E5ECF6",
           "radialaxis": {
            "gridcolor": "white",
            "linecolor": "white",
            "ticks": ""
           }
          },
          "scene": {
           "xaxis": {
            "backgroundcolor": "#E5ECF6",
            "gridcolor": "white",
            "gridwidth": 2,
            "linecolor": "white",
            "showbackground": true,
            "ticks": "",
            "zerolinecolor": "white"
           },
           "yaxis": {
            "backgroundcolor": "#E5ECF6",
            "gridcolor": "white",
            "gridwidth": 2,
            "linecolor": "white",
            "showbackground": true,
            "ticks": "",
            "zerolinecolor": "white"
           },
           "zaxis": {
            "backgroundcolor": "#E5ECF6",
            "gridcolor": "white",
            "gridwidth": 2,
            "linecolor": "white",
            "showbackground": true,
            "ticks": "",
            "zerolinecolor": "white"
           }
          },
          "shapedefaults": {
           "line": {
            "color": "#2a3f5f"
           }
          },
          "ternary": {
           "aaxis": {
            "gridcolor": "white",
            "linecolor": "white",
            "ticks": ""
           },
           "baxis": {
            "gridcolor": "white",
            "linecolor": "white",
            "ticks": ""
           },
           "bgcolor": "#E5ECF6",
           "caxis": {
            "gridcolor": "white",
            "linecolor": "white",
            "ticks": ""
           }
          },
          "title": {
           "x": 0.05
          },
          "xaxis": {
           "automargin": true,
           "gridcolor": "white",
           "linecolor": "white",
           "ticks": "",
           "title": {
            "standoff": 15
           },
           "zerolinecolor": "white",
           "zerolinewidth": 2
          },
          "yaxis": {
           "automargin": true,
           "gridcolor": "white",
           "linecolor": "white",
           "ticks": "",
           "title": {
            "standoff": 15
           },
           "zerolinecolor": "white",
           "zerolinewidth": 2
          }
         }
        },
        "title": {
         "font": {
          "size": 16
         },
         "text": "Center of Mass and Inertia Matrix Visualization",
         "x": 0.5,
         "xanchor": "center"
        },
        "width": 900
       }
      }
     },
     "metadata": {},
     "output_type": "display_data"
    },
    {
     "name": "stdout",
     "output_type": "stream",
     "text": [
      "==================================================\n",
      "INERTIA ANALYSIS SUMMARY\n",
      "==================================================\n",
      "Volume: 2453.0099\n",
      "Center of Mass: [15.9000, -7.9000, 6.1264]\n",
      "\n",
      "Inertia Matrix:\n",
      "  [  8.9544e+04,   1.3856e-01,  -2.2983e+00]\n",
      "  [  1.3856e-01,   2.6075e+05,   1.1298e+00]\n",
      "  [ -2.2983e+00,   1.1298e+00,   3.0066e+05]\n",
      "\n",
      "Principal Moments of Inertia (Eigenvalues):\n",
      "  I_1: 8.9544e+04\n",
      "  I_2: 2.6075e+05\n",
      "  I_3: 3.0066e+05\n",
      "\n",
      "Principal Axes (Eigenvectors):\n",
      "  Axis 1: [  1.0000,  -0.0000,   0.0000]\n",
      "  Axis 2: [ -0.0000,  -1.0000,   0.0000]\n",
      "  Axis 3: [  0.0000,  -0.0000,  -1.0000]\n"
     ]
    },
    {
     "data": {
      "application/vnd.plotly.v1+json": {
       "config": {
        "plotlyServerURL": "https://plot.ly"
       },
       "data": [
        {
         "colorscale": [
          [
           0,
           "rgb(103,0,31)"
          ],
          [
           0.1,
           "rgb(178,24,43)"
          ],
          [
           0.2,
           "rgb(214,96,77)"
          ],
          [
           0.3,
           "rgb(244,165,130)"
          ],
          [
           0.4,
           "rgb(253,219,199)"
          ],
          [
           0.5,
           "rgb(247,247,247)"
          ],
          [
           0.6,
           "rgb(209,229,240)"
          ],
          [
           0.7,
           "rgb(146,197,222)"
          ],
          [
           0.8,
           "rgb(67,147,195)"
          ],
          [
           0.9,
           "rgb(33,102,172)"
          ],
          [
           1,
           "rgb(5,48,97)"
          ]
         ],
         "hoverongaps": false,
         "text": {
          "bdata": "B84ZUYLc9UCqFu3+bLzBPyChPcnjYgLAqhbt/my8wT/wp8ZLgNQPQTUYl2iYE/I/IKE9yeNiAsA1GJdomBPyP9v5furWWRJB",
          "dtype": "f8",
          "shape": "3, 3"
         },
         "textfont": {
          "size": 12
         },
         "texttemplate": "%{text:.2e}",
         "type": "heatmap",
         "x": [
          "Ixx",
          "Ixy",
          "Ixz"
         ],
         "y": [
          "Iyx",
          "Iyy",
          "Iyz"
         ],
         "z": {
          "bdata": "B84ZUYLc9UCqFu3+bLzBPyChPcnjYgLAqhbt/my8wT/wp8ZLgNQPQTUYl2iYE/I/IKE9yeNiAsA1GJdomBPyP9v5furWWRJB",
          "dtype": "f8",
          "shape": "3, 3"
         }
        }
       ],
       "layout": {
        "height": 400,
        "template": {
         "data": {
          "bar": [
           {
            "error_x": {
             "color": "#2a3f5f"
            },
            "error_y": {
             "color": "#2a3f5f"
            },
            "marker": {
             "line": {
              "color": "#E5ECF6",
              "width": 0.5
             },
             "pattern": {
              "fillmode": "overlay",
              "size": 10,
              "solidity": 0.2
             }
            },
            "type": "bar"
           }
          ],
          "barpolar": [
           {
            "marker": {
             "line": {
              "color": "#E5ECF6",
              "width": 0.5
             },
             "pattern": {
              "fillmode": "overlay",
              "size": 10,
              "solidity": 0.2
             }
            },
            "type": "barpolar"
           }
          ],
          "carpet": [
           {
            "aaxis": {
             "endlinecolor": "#2a3f5f",
             "gridcolor": "white",
             "linecolor": "white",
             "minorgridcolor": "white",
             "startlinecolor": "#2a3f5f"
            },
            "baxis": {
             "endlinecolor": "#2a3f5f",
             "gridcolor": "white",
             "linecolor": "white",
             "minorgridcolor": "white",
             "startlinecolor": "#2a3f5f"
            },
            "type": "carpet"
           }
          ],
          "choropleth": [
           {
            "colorbar": {
             "outlinewidth": 0,
             "ticks": ""
            },
            "type": "choropleth"
           }
          ],
          "contour": [
           {
            "colorbar": {
             "outlinewidth": 0,
             "ticks": ""
            },
            "colorscale": [
             [
              0,
              "#0d0887"
             ],
             [
              0.1111111111111111,
              "#46039f"
             ],
             [
              0.2222222222222222,
              "#7201a8"
             ],
             [
              0.3333333333333333,
              "#9c179e"
             ],
             [
              0.4444444444444444,
              "#bd3786"
             ],
             [
              0.5555555555555556,
              "#d8576b"
             ],
             [
              0.6666666666666666,
              "#ed7953"
             ],
             [
              0.7777777777777778,
              "#fb9f3a"
             ],
             [
              0.8888888888888888,
              "#fdca26"
             ],
             [
              1,
              "#f0f921"
             ]
            ],
            "type": "contour"
           }
          ],
          "contourcarpet": [
           {
            "colorbar": {
             "outlinewidth": 0,
             "ticks": ""
            },
            "type": "contourcarpet"
           }
          ],
          "heatmap": [
           {
            "colorbar": {
             "outlinewidth": 0,
             "ticks": ""
            },
            "colorscale": [
             [
              0,
              "#0d0887"
             ],
             [
              0.1111111111111111,
              "#46039f"
             ],
             [
              0.2222222222222222,
              "#7201a8"
             ],
             [
              0.3333333333333333,
              "#9c179e"
             ],
             [
              0.4444444444444444,
              "#bd3786"
             ],
             [
              0.5555555555555556,
              "#d8576b"
             ],
             [
              0.6666666666666666,
              "#ed7953"
             ],
             [
              0.7777777777777778,
              "#fb9f3a"
             ],
             [
              0.8888888888888888,
              "#fdca26"
             ],
             [
              1,
              "#f0f921"
             ]
            ],
            "type": "heatmap"
           }
          ],
          "histogram": [
           {
            "marker": {
             "pattern": {
              "fillmode": "overlay",
              "size": 10,
              "solidity": 0.2
             }
            },
            "type": "histogram"
           }
          ],
          "histogram2d": [
           {
            "colorbar": {
             "outlinewidth": 0,
             "ticks": ""
            },
            "colorscale": [
             [
              0,
              "#0d0887"
             ],
             [
              0.1111111111111111,
              "#46039f"
             ],
             [
              0.2222222222222222,
              "#7201a8"
             ],
             [
              0.3333333333333333,
              "#9c179e"
             ],
             [
              0.4444444444444444,
              "#bd3786"
             ],
             [
              0.5555555555555556,
              "#d8576b"
             ],
             [
              0.6666666666666666,
              "#ed7953"
             ],
             [
              0.7777777777777778,
              "#fb9f3a"
             ],
             [
              0.8888888888888888,
              "#fdca26"
             ],
             [
              1,
              "#f0f921"
             ]
            ],
            "type": "histogram2d"
           }
          ],
          "histogram2dcontour": [
           {
            "colorbar": {
             "outlinewidth": 0,
             "ticks": ""
            },
            "colorscale": [
             [
              0,
              "#0d0887"
             ],
             [
              0.1111111111111111,
              "#46039f"
             ],
             [
              0.2222222222222222,
              "#7201a8"
             ],
             [
              0.3333333333333333,
              "#9c179e"
             ],
             [
              0.4444444444444444,
              "#bd3786"
             ],
             [
              0.5555555555555556,
              "#d8576b"
             ],
             [
              0.6666666666666666,
              "#ed7953"
             ],
             [
              0.7777777777777778,
              "#fb9f3a"
             ],
             [
              0.8888888888888888,
              "#fdca26"
             ],
             [
              1,
              "#f0f921"
             ]
            ],
            "type": "histogram2dcontour"
           }
          ],
          "mesh3d": [
           {
            "colorbar": {
             "outlinewidth": 0,
             "ticks": ""
            },
            "type": "mesh3d"
           }
          ],
          "parcoords": [
           {
            "line": {
             "colorbar": {
              "outlinewidth": 0,
              "ticks": ""
             }
            },
            "type": "parcoords"
           }
          ],
          "pie": [
           {
            "automargin": true,
            "type": "pie"
           }
          ],
          "scatter": [
           {
            "fillpattern": {
             "fillmode": "overlay",
             "size": 10,
             "solidity": 0.2
            },
            "type": "scatter"
           }
          ],
          "scatter3d": [
           {
            "line": {
             "colorbar": {
              "outlinewidth": 0,
              "ticks": ""
             }
            },
            "marker": {
             "colorbar": {
              "outlinewidth": 0,
              "ticks": ""
             }
            },
            "type": "scatter3d"
           }
          ],
          "scattercarpet": [
           {
            "marker": {
             "colorbar": {
              "outlinewidth": 0,
              "ticks": ""
             }
            },
            "type": "scattercarpet"
           }
          ],
          "scattergeo": [
           {
            "marker": {
             "colorbar": {
              "outlinewidth": 0,
              "ticks": ""
             }
            },
            "type": "scattergeo"
           }
          ],
          "scattergl": [
           {
            "marker": {
             "colorbar": {
              "outlinewidth": 0,
              "ticks": ""
             }
            },
            "type": "scattergl"
           }
          ],
          "scattermap": [
           {
            "marker": {
             "colorbar": {
              "outlinewidth": 0,
              "ticks": ""
             }
            },
            "type": "scattermap"
           }
          ],
          "scattermapbox": [
           {
            "marker": {
             "colorbar": {
              "outlinewidth": 0,
              "ticks": ""
             }
            },
            "type": "scattermapbox"
           }
          ],
          "scatterpolar": [
           {
            "marker": {
             "colorbar": {
              "outlinewidth": 0,
              "ticks": ""
             }
            },
            "type": "scatterpolar"
           }
          ],
          "scatterpolargl": [
           {
            "marker": {
             "colorbar": {
              "outlinewidth": 0,
              "ticks": ""
             }
            },
            "type": "scatterpolargl"
           }
          ],
          "scatterternary": [
           {
            "marker": {
             "colorbar": {
              "outlinewidth": 0,
              "ticks": ""
             }
            },
            "type": "scatterternary"
           }
          ],
          "surface": [
           {
            "colorbar": {
             "outlinewidth": 0,
             "ticks": ""
            },
            "colorscale": [
             [
              0,
              "#0d0887"
             ],
             [
              0.1111111111111111,
              "#46039f"
             ],
             [
              0.2222222222222222,
              "#7201a8"
             ],
             [
              0.3333333333333333,
              "#9c179e"
             ],
             [
              0.4444444444444444,
              "#bd3786"
             ],
             [
              0.5555555555555556,
              "#d8576b"
             ],
             [
              0.6666666666666666,
              "#ed7953"
             ],
             [
              0.7777777777777778,
              "#fb9f3a"
             ],
             [
              0.8888888888888888,
              "#fdca26"
             ],
             [
              1,
              "#f0f921"
             ]
            ],
            "type": "surface"
           }
          ],
          "table": [
           {
            "cells": {
             "fill": {
              "color": "#EBF0F8"
             },
             "line": {
              "color": "white"
             }
            },
            "header": {
             "fill": {
              "color": "#C8D4E3"
             },
             "line": {
              "color": "white"
             }
            },
            "type": "table"
           }
          ]
         },
         "layout": {
          "annotationdefaults": {
           "arrowcolor": "#2a3f5f",
           "arrowhead": 0,
           "arrowwidth": 1
          },
          "autotypenumbers": "strict",
          "coloraxis": {
           "colorbar": {
            "outlinewidth": 0,
            "ticks": ""
           }
          },
          "colorscale": {
           "diverging": [
            [
             0,
             "#8e0152"
            ],
            [
             0.1,
             "#c51b7d"
            ],
            [
             0.2,
             "#de77ae"
            ],
            [
             0.3,
             "#f1b6da"
            ],
            [
             0.4,
             "#fde0ef"
            ],
            [
             0.5,
             "#f7f7f7"
            ],
            [
             0.6,
             "#e6f5d0"
            ],
            [
             0.7,
             "#b8e186"
            ],
            [
             0.8,
             "#7fbc41"
            ],
            [
             0.9,
             "#4d9221"
            ],
            [
             1,
             "#276419"
            ]
           ],
           "sequential": [
            [
             0,
             "#0d0887"
            ],
            [
             0.1111111111111111,
             "#46039f"
            ],
            [
             0.2222222222222222,
             "#7201a8"
            ],
            [
             0.3333333333333333,
             "#9c179e"
            ],
            [
             0.4444444444444444,
             "#bd3786"
            ],
            [
             0.5555555555555556,
             "#d8576b"
            ],
            [
             0.6666666666666666,
             "#ed7953"
            ],
            [
             0.7777777777777778,
             "#fb9f3a"
            ],
            [
             0.8888888888888888,
             "#fdca26"
            ],
            [
             1,
             "#f0f921"
            ]
           ],
           "sequentialminus": [
            [
             0,
             "#0d0887"
            ],
            [
             0.1111111111111111,
             "#46039f"
            ],
            [
             0.2222222222222222,
             "#7201a8"
            ],
            [
             0.3333333333333333,
             "#9c179e"
            ],
            [
             0.4444444444444444,
             "#bd3786"
            ],
            [
             0.5555555555555556,
             "#d8576b"
            ],
            [
             0.6666666666666666,
             "#ed7953"
            ],
            [
             0.7777777777777778,
             "#fb9f3a"
            ],
            [
             0.8888888888888888,
             "#fdca26"
            ],
            [
             1,
             "#f0f921"
            ]
           ]
          },
          "colorway": [
           "#636efa",
           "#EF553B",
           "#00cc96",
           "#ab63fa",
           "#FFA15A",
           "#19d3f3",
           "#FF6692",
           "#B6E880",
           "#FF97FF",
           "#FECB52"
          ],
          "font": {
           "color": "#2a3f5f"
          },
          "geo": {
           "bgcolor": "white",
           "lakecolor": "white",
           "landcolor": "#E5ECF6",
           "showlakes": true,
           "showland": true,
           "subunitcolor": "white"
          },
          "hoverlabel": {
           "align": "left"
          },
          "hovermode": "closest",
          "mapbox": {
           "style": "light"
          },
          "paper_bgcolor": "white",
          "plot_bgcolor": "#E5ECF6",
          "polar": {
           "angularaxis": {
            "gridcolor": "white",
            "linecolor": "white",
            "ticks": ""
           },
           "bgcolor": "#E5ECF6",
           "radialaxis": {
            "gridcolor": "white",
            "linecolor": "white",
            "ticks": ""
           }
          },
          "scene": {
           "xaxis": {
            "backgroundcolor": "#E5ECF6",
            "gridcolor": "white",
            "gridwidth": 2,
            "linecolor": "white",
            "showbackground": true,
            "ticks": "",
            "zerolinecolor": "white"
           },
           "yaxis": {
            "backgroundcolor": "#E5ECF6",
            "gridcolor": "white",
            "gridwidth": 2,
            "linecolor": "white",
            "showbackground": true,
            "ticks": "",
            "zerolinecolor": "white"
           },
           "zaxis": {
            "backgroundcolor": "#E5ECF6",
            "gridcolor": "white",
            "gridwidth": 2,
            "linecolor": "white",
            "showbackground": true,
            "ticks": "",
            "zerolinecolor": "white"
           }
          },
          "shapedefaults": {
           "line": {
            "color": "#2a3f5f"
           }
          },
          "ternary": {
           "aaxis": {
            "gridcolor": "white",
            "linecolor": "white",
            "ticks": ""
           },
           "baxis": {
            "gridcolor": "white",
            "linecolor": "white",
            "ticks": ""
           },
           "bgcolor": "#E5ECF6",
           "caxis": {
            "gridcolor": "white",
            "linecolor": "white",
            "ticks": ""
           }
          },
          "title": {
           "x": 0.05
          },
          "xaxis": {
           "automargin": true,
           "gridcolor": "white",
           "linecolor": "white",
           "ticks": "",
           "title": {
            "standoff": 15
           },
           "zerolinecolor": "white",
           "zerolinewidth": 2
          },
          "yaxis": {
           "automargin": true,
           "gridcolor": "white",
           "linecolor": "white",
           "ticks": "",
           "title": {
            "standoff": 15
           },
           "zerolinecolor": "white",
           "zerolinewidth": 2
          }
         }
        },
        "title": {
         "text": "Inertia Matrix Heatmap"
        },
        "width": 500,
        "xaxis": {
         "title": {
          "text": "Column"
         }
        },
        "yaxis": {
         "title": {
          "text": "Row"
         }
        }
       }
      }
     },
     "metadata": {},
     "output_type": "display_data"
    }
   ],
   "source": [
    "import numpy as np\n",
    "import plotly.graph_objects as go\n",
    "from plotly.subplots import make_subplots\n",
    "import plotly.express as px\n",
    "\n",
    "# Given data\n",
    "Volume = 2453.0099283854165\n",
    "COM = np.array([15.89999849, -7.89999265, 6.12640468])\n",
    "Inertia_matrix = np.array(\n",
    "    [\n",
    "        [8.95441448e04, 1.38562798e-01, -2.29828603e00],\n",
    "        [1.38562798e-01, 2.60752037e05, 1.12978402e00],\n",
    "        [-2.29828603e00, 1.12978402e00, 3.00661729e05],\n",
    "    ]\n",
    ")\n",
    "\n",
    "\n",
    "def create_inertia_ellipsoid(inertia_matrix, center, scale=1.0, resolution=20):\n",
    "    \"\"\"\n",
    "    Create points for an inertia ellipsoid visualization\n",
    "    \"\"\"\n",
    "    # Get eigenvalues and eigenvectors\n",
    "    eigenvals, eigenvecs = np.linalg.eigh(inertia_matrix)\n",
    "\n",
    "    # Create sphere coordinates\n",
    "    u = np.linspace(0, 2 * np.pi, resolution)\n",
    "    v = np.linspace(0, np.pi, resolution)\n",
    "    U, V = np.meshgrid(u, v)\n",
    "\n",
    "    # Unit sphere\n",
    "    x_sphere = np.cos(U) * np.sin(V)\n",
    "    y_sphere = np.sin(U) * np.sin(V)\n",
    "    z_sphere = np.cos(V)\n",
    "\n",
    "    # Stack coordinates\n",
    "    sphere_points = np.stack(\n",
    "        [x_sphere.flatten(), y_sphere.flatten(), z_sphere.flatten()]\n",
    "    )\n",
    "\n",
    "    # Scale by inverse square root of eigenvalues (for visualization)\n",
    "    # Smaller eigenvalues = larger semi-axes (less resistance to rotation)\n",
    "    scaling = scale / np.sqrt(eigenvals)\n",
    "    scaled_points = eigenvecs @ np.diag(scaling) @ sphere_points\n",
    "\n",
    "    # Translate to center\n",
    "    ellipsoid_points = scaled_points + center.reshape(3, 1)\n",
    "\n",
    "    # Reshape back to grid\n",
    "    x_ellipsoid = ellipsoid_points[0].reshape(resolution, resolution)\n",
    "    y_ellipsoid = ellipsoid_points[1].reshape(resolution, resolution)\n",
    "    z_ellipsoid = ellipsoid_points[2].reshape(resolution, resolution)\n",
    "\n",
    "    return x_ellipsoid, y_ellipsoid, z_ellipsoid, eigenvals, eigenvecs\n",
    "\n",
    "\n",
    "# Create the visualization\n",
    "fig = go.Figure()\n",
    "\n",
    "# 1. Add Center of Mass point\n",
    "fig.add_trace(\n",
    "    go.Scatter3d(\n",
    "        x=[COM[0]],\n",
    "        y=[COM[1]],\n",
    "        z=[COM[2]],\n",
    "        mode=\"markers\",\n",
    "        marker=dict(size=10, color=\"red\", symbol=\"diamond\"),\n",
    "        name=\"Center of Mass\",\n",
    "        text=f\"COM: ({COM[0]:.2f}, {COM[1]:.2f}, {COM[2]:.2f})\",\n",
    "        hovertemplate=\"<b>Center of Mass</b><br>X: %{x:.2f}<br>Y: %{y:.2f}<br>Z: %{z:.2f}<extra></extra>\",\n",
    "    )\n",
    ")\n",
    "\n",
    "# 2. Create and add inertia ellipsoid\n",
    "scale_factor = 0.01  # Adjust this to make ellipsoid visible\n",
    "x_ell, y_ell, z_ell, eigenvals, eigenvecs = create_inertia_ellipsoid(\n",
    "    Inertia_matrix, COM, scale=scale_factor\n",
    ")\n",
    "\n",
    "fig.add_trace(\n",
    "    go.Surface(\n",
    "        x=x_ell,\n",
    "        y=y_ell,\n",
    "        z=z_ell,\n",
    "        opacity=0.6,\n",
    "        colorscale=\"Blues\",\n",
    "        name=\"Inertia Ellipsoid\",\n",
    "        showscale=False,\n",
    "        hovertemplate=\"<b>Inertia Ellipsoid</b><br>X: %{x:.2f}<br>Y: %{y:.2f}<br>Z: %{z:.2f}<extra></extra>\",\n",
    "    )\n",
    ")\n",
    "\n",
    "# 3. Add principal axes\n",
    "axis_length = scale_factor * 2\n",
    "colors = [\"red\", \"green\", \"blue\"]\n",
    "axis_names = [\"X-axis\", \"Y-axis\", \"Z-axis\"]\n",
    "\n",
    "for i in range(3):\n",
    "    axis_end = COM + eigenvecs[:, i] * axis_length / np.sqrt(eigenvals[i]) * 100\n",
    "\n",
    "    fig.add_trace(\n",
    "        go.Scatter3d(\n",
    "            x=[COM[0], axis_end[0]],\n",
    "            y=[COM[1], axis_end[1]],\n",
    "            z=[COM[2], axis_end[2]],\n",
    "            mode=\"lines+markers\",\n",
    "            line=dict(color=colors[i], width=6),\n",
    "            marker=dict(size=[8, 4], color=colors[i]),\n",
    "            name=f\"Principal Axis {i + 1}\",\n",
    "            hovertemplate=f\"<b>Principal Axis {i + 1}</b><br>Eigenvalue: {eigenvals[i]:.2e}<extra></extra>\",\n",
    "        )\n",
    "    )\n",
    "\n",
    "# 4. Add coordinate system at origin\n",
    "origin_size = max(abs(COM)) * 0.3\n",
    "fig.add_trace(\n",
    "    go.Scatter3d(\n",
    "        x=[0, origin_size],\n",
    "        y=[0, 0],\n",
    "        z=[0, 0],\n",
    "        mode=\"lines\",\n",
    "        line=dict(color=\"gray\", width=3),\n",
    "        name=\"X-axis (global)\",\n",
    "        showlegend=False,\n",
    "    )\n",
    ")\n",
    "fig.add_trace(\n",
    "    go.Scatter3d(\n",
    "        x=[0, 0],\n",
    "        y=[0, origin_size],\n",
    "        z=[0, 0],\n",
    "        mode=\"lines\",\n",
    "        line=dict(color=\"gray\", width=3),\n",
    "        name=\"Y-axis (global)\",\n",
    "        showlegend=False,\n",
    "    )\n",
    ")\n",
    "fig.add_trace(\n",
    "    go.Scatter3d(\n",
    "        x=[0, 0],\n",
    "        y=[0, 0],\n",
    "        z=[0, origin_size],\n",
    "        mode=\"lines\",\n",
    "        line=dict(color=\"gray\", width=3),\n",
    "        name=\"Z-axis (global)\",\n",
    "        showlegend=False,\n",
    "    )\n",
    ")\n",
    "\n",
    "# Update layout\n",
    "fig.update_layout(\n",
    "    title={\n",
    "        \"text\": \"Center of Mass and Inertia Matrix Visualization\",\n",
    "        \"x\": 0.5,\n",
    "        \"xanchor\": \"center\",\n",
    "        \"font\": {\"size\": 16},\n",
    "    },\n",
    "    scene=dict(\n",
    "        xaxis_title=\"X\",\n",
    "        yaxis_title=\"Y\",\n",
    "        zaxis_title=\"Z\",\n",
    "        aspectmode=\"cube\",\n",
    "        camera=dict(eye=dict(x=1.5, y=1.5, z=1.5)),\n",
    "    ),\n",
    "    width=900,\n",
    "    height=700,\n",
    "    margin=dict(l=0, r=0, t=40, b=0),\n",
    ")\n",
    "\n",
    "# Show the plot\n",
    "fig.show()\n",
    "\n",
    "# Print summary information\n",
    "print(\"=\" * 50)\n",
    "print(\"INERTIA ANALYSIS SUMMARY\")\n",
    "print(\"=\" * 50)\n",
    "print(f\"Volume: {Volume:.4f}\")\n",
    "print(f\"Center of Mass: [{COM[0]:.4f}, {COM[1]:.4f}, {COM[2]:.4f}]\")\n",
    "print(\"\\nInertia Matrix:\")\n",
    "for i, row in enumerate(Inertia_matrix):\n",
    "    print(f\"  [{row[0]:12.4e}, {row[1]:12.4e}, {row[2]:12.4e}]\")\n",
    "\n",
    "print(f\"\\nPrincipal Moments of Inertia (Eigenvalues):\")\n",
    "for i, val in enumerate(eigenvals):\n",
    "    print(f\"  I_{i + 1}: {val:.4e}\")\n",
    "\n",
    "print(f\"\\nPrincipal Axes (Eigenvectors):\")\n",
    "for i, vec in enumerate(eigenvecs.T):\n",
    "    print(f\"  Axis {i + 1}: [{vec[0]:8.4f}, {vec[1]:8.4f}, {vec[2]:8.4f}]\")\n",
    "\n",
    "# Create a 2D inertia matrix heatmap\n",
    "fig_heatmap = go.Figure(\n",
    "    data=go.Heatmap(\n",
    "        z=Inertia_matrix,\n",
    "        x=[\"Ixx\", \"Ixy\", \"Ixz\"],\n",
    "        y=[\"Iyx\", \"Iyy\", \"Iyz\"],\n",
    "        colorscale=\"RdBu\",\n",
    "        text=Inertia_matrix,\n",
    "        texttemplate=\"%{text:.2e}\",\n",
    "        textfont={\"size\": 12},\n",
    "        hoverongaps=False,\n",
    "    )\n",
    ")\n",
    "\n",
    "fig_heatmap.update_layout(\n",
    "    title=\"Inertia Matrix Heatmap\",\n",
    "    xaxis_title=\"Column\",\n",
    "    yaxis_title=\"Row\",\n",
    "    width=500,\n",
    "    height=400,\n",
    ")\n",
    "\n",
    "fig_heatmap.show()\n"
   ]
  }
 ],
 "metadata": {
  "kernelspec": {
   "display_name": "robo3.9",
   "language": "python",
   "name": "python3"
  },
  "language_info": {
   "codemirror_mode": {
    "name": "ipython",
    "version": 3
   },
   "file_extension": ".py",
   "mimetype": "text/x-python",
   "name": "python",
   "nbconvert_exporter": "python",
   "pygments_lexer": "ipython3",
   "version": "3.9.21"
  }
 },
 "nbformat": 4,
 "nbformat_minor": 5
}
